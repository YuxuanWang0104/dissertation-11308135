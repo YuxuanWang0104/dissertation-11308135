{
 "cells": [
  {
   "cell_type": "code",
   "execution_count": 3,
   "id": "14221336",
   "metadata": {},
   "outputs": [
    {
     "data": {
      "text/html": [
       "1.0772173"
      ],
      "text/latex": [
       "1.0772173"
      ],
      "text/markdown": [
       "1.0772173"
      ],
      "text/plain": [
       "[1] 1.077217"
      ]
     },
     "metadata": {},
     "output_type": "display_data"
    },
    {
     "data": {
      "text/html": [
       "<style>\n",
       ".list-inline {list-style: none; margin:0; padding: 0}\n",
       ".list-inline>li {display: inline-block}\n",
       ".list-inline>li:not(:last-child)::after {content: \"\\00b7\"; padding: 0 .5ex}\n",
       "</style>\n",
       "<ol class=list-inline><li>0.2</li><li>0.2154</li><li>0.2321</li><li>0.25</li><li>0.2693</li><li>0.2901</li><li>0.3125</li><li>0.3366</li><li>0.3626</li><li>0.3906</li></ol>\n"
      ],
      "text/latex": [
       "\\begin{enumerate*}\n",
       "\\item 0.2\n",
       "\\item 0.2154\n",
       "\\item 0.2321\n",
       "\\item 0.25\n",
       "\\item 0.2693\n",
       "\\item 0.2901\n",
       "\\item 0.3125\n",
       "\\item 0.3366\n",
       "\\item 0.3626\n",
       "\\item 0.3906\n",
       "\\end{enumerate*}\n"
      ],
      "text/markdown": [
       "1. 0.2\n",
       "2. 0.2154\n",
       "3. 0.2321\n",
       "4. 0.25\n",
       "5. 0.2693\n",
       "6. 0.2901\n",
       "7. 0.3125\n",
       "8. 0.3366\n",
       "9. 0.3626\n",
       "10. 0.3906\n",
       "\n",
       "\n"
      ],
      "text/plain": [
       " [1] 0.2000 0.2154 0.2321 0.2500 0.2693 0.2901 0.3125 0.3366 0.3626 0.3906"
      ]
     },
     "metadata": {},
     "output_type": "display_data"
    }
   ],
   "source": [
    "# 已知值\n",
    "x1 <- 0.2\n",
    "x4 <- 0.25\n",
    "\n",
    "# 计算公比 r\n",
    "r <- (x4 / x1)^(1/3)\n",
    "\n",
    "# 初始化等比数列\n",
    "geo_sequence <- numeric(10)\n",
    "\n",
    "# 计算等比数列的每一项，并保留小数点后7位\n",
    "for (i in 1:10) {\n",
    "  geo_sequence[i] <- round(x1 * r^(i - 1), 4)\n",
    "}\n",
    "\n",
    "# 输出公比和等比数列\n",
    "r <- round(r, 7)\n",
    "r\n",
    "geo_sequence\n"
   ]
  },
  {
   "cell_type": "code",
   "execution_count": null,
   "id": "83cc26b6",
   "metadata": {},
   "outputs": [],
   "source": []
  }
 ],
 "metadata": {
  "kernelspec": {
   "display_name": "R",
   "language": "R",
   "name": "ir"
  },
  "language_info": {
   "codemirror_mode": "r",
   "file_extension": ".r",
   "mimetype": "text/x-r-source",
   "name": "R",
   "pygments_lexer": "r",
   "version": "4.3.2"
  }
 },
 "nbformat": 4,
 "nbformat_minor": 5
}
