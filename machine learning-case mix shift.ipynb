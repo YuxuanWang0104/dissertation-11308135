{
 "cells": [
  {
   "cell_type": "code",
   "execution_count": 5,
   "id": "e4da9759",
   "metadata": {},
   "outputs": [],
   "source": [
    "source(\"/Users/wyx/Desktop/dissertation/wholecode.R\")"
   ]
  },
  {
   "cell_type": "code",
   "execution_count": 6,
   "id": "82d02485",
   "metadata": {},
   "outputs": [
    {
     "name": "stderr",
     "output_type": "stream",
     "text": [
      "Warning message:\n",
      "“package ‘xgboost’ was built under R version 4.3.3”\n",
      "\n",
      "Attaching package: ‘xgboost’\n",
      "\n",
      "\n",
      "The following object is masked from ‘package:dplyr’:\n",
      "\n",
      "    slice\n",
      "\n",
      "\n",
      "\n",
      "Attaching package: ‘ModelMetrics’\n",
      "\n",
      "\n",
      "The following object is masked from ‘package:pROC’:\n",
      "\n",
      "    auc\n",
      "\n",
      "\n",
      "The following object is masked from ‘package:base’:\n",
      "\n",
      "    kappa\n",
      "\n",
      "\n"
     ]
    }
   ],
   "source": [
    "library(xgboost)\n",
    "library(pROC)\n",
    "library(DescTools)\n",
    "library(ModelMetrics)\n",
    "library(rms)"
   ]
  },
  {
   "cell_type": "code",
   "execution_count": 7,
   "id": "4bdb3be0",
   "metadata": {},
   "outputs": [],
   "source": [
    "generate_covariate_shifted_data_age_2 <- function(seed, age_mean_start, age_mean_end) {\n",
    "  set.seed(seed)\n",
    "  data <- generate_covariate_shifted_data_age(\n",
    "    time_periods = 2,\n",
    "    n = 9602,\n",
    "    target_mortality_rate = 0.2,\n",
    "    age_mean_start = age_mean_start,\n",
    "    age_mean_end = age_mean_end,\n",
    "    age_sd = 12.5,\n",
    "    sex_prob = 0.309,\n",
    "    cpd_prob = 0.107,\n",
    "    pcs_prob = 0.282,\n",
    "    cps_prob = 0.241, \n",
    "    beta_age = 0.0285181,\n",
    "    beta_sex = 0.2196434,\n",
    "    beta_cpd = 0.1886564,\n",
    "    beta_pcs = 1.118599,\n",
    "    beta_cps = 1.086517\n",
    "  )\n",
    "  return(data)\n",
    "}"
   ]
  },
  {
   "cell_type": "code",
   "execution_count": 8,
   "id": "e1e6b1e6",
   "metadata": {},
   "outputs": [],
   "source": [
    "experiments_cs_age <- list(\n",
    "  list(name = \"age mean: 64.6000,64.6000\", age_mean_start = 64.6, age_mean_end = 64.6),\n",
    "  list(name = \"age mean: 64.6000,63.8923\", age_mean_start = 64.6, age_mean_end = 63.8923),\n",
    "  list(name = \"age mean: 64.6000,63.1923\", age_mean_start = 64.6, age_mean_end = 63.1923),\n",
    "  list(name = \"age mean: 64.6000,62.5000\", age_mean_start = 64.6, age_mean_end = 62.5),\n",
    "  list(name = \"age mean: 64.6000,61.8153\", age_mean_start = 64.6, age_mean_end = 61.8153),\n",
    "  list(name = \"age mean: 64.6000,61.1381\", age_mean_start = 64.6, age_mean_end = 61.1381),\n",
    "  list(name = \"age mean: 64.6000,60.4683\", age_mean_start = 64.6, age_mean_end = 60.4683),\n",
    "  list(name = \"age mean: 64.6000,59.8058\", age_mean_start = 64.6, age_mean_end = 59.8058),\n",
    "  list(name = \"age mean: 64.6000,59.1506\", age_mean_start = 64.6, age_mean_end = 59.1506),\n",
    "  list(name = \"age mean: 64.6000,58.5026\", age_mean_start = 64.6, age_mean_end = 58.5026)\n",
    ")"
   ]
  },
  {
   "cell_type": "code",
   "execution_count": 9,
   "id": "dade767b",
   "metadata": {},
   "outputs": [
    {
     "name": "stderr",
     "output_type": "stream",
     "text": [
      "Setting levels: control = 0, case = 1\n",
      "\n",
      "Setting direction: controls < cases\n",
      "\n"
     ]
    },
    {
     "name": "stdout",
     "output_type": "stream",
     "text": [
      "[1] \"auc: 0.721773029066186\"\n",
      "[1] \"O/E 比率: 1.00492761969956\"\n",
      "[1] \"c_slope: 1.08214770411894\"\n",
      "[1] \"Brier 分数: 0.144193146413868\"\n"
     ]
    },
    {
     "name": "stderr",
     "output_type": "stream",
     "text": [
      "Setting levels: control = 0, case = 1\n",
      "\n",
      "Setting direction: controls < cases\n",
      "\n"
     ]
    },
    {
     "name": "stdout",
     "output_type": "stream",
     "text": [
      "[1] \"auc: 0.723537064337265\"\n",
      "[1] \"O/E 比率: 0.955001966760982\"\n",
      "[1] \"c_slope: 1.19941220580017\"\n",
      "[1] \"Brier 分数: 0.143980096355089\"\n"
     ]
    },
    {
     "name": "stderr",
     "output_type": "stream",
     "text": [
      "Setting levels: control = 0, case = 1\n",
      "\n",
      "Setting direction: controls < cases\n",
      "\n"
     ]
    },
    {
     "name": "stdout",
     "output_type": "stream",
     "text": [
      "[1] \"auc: 0.723517811564865\"\n",
      "[1] \"O/E 比率: 0.988600208928995\"\n",
      "[1] \"c_slope: 1.08122462022372\"\n",
      "[1] \"Brier 分数: 0.143396795196087\"\n"
     ]
    },
    {
     "name": "stderr",
     "output_type": "stream",
     "text": [
      "Setting levels: control = 0, case = 1\n",
      "\n",
      "Setting direction: controls < cases\n",
      "\n"
     ]
    },
    {
     "name": "stdout",
     "output_type": "stream",
     "text": [
      "[1] \"auc: 0.718153507855131\"\n",
      "[1] \"O/E 比率: 1.00164799288804\"\n",
      "[1] \"c_slope: 1.09493627589171\"\n",
      "[1] \"Brier 分数: 0.144258225653696\"\n"
     ]
    },
    {
     "name": "stderr",
     "output_type": "stream",
     "text": [
      "Setting levels: control = 0, case = 1\n",
      "\n",
      "Setting direction: controls < cases\n",
      "\n"
     ]
    },
    {
     "name": "stdout",
     "output_type": "stream",
     "text": [
      "[1] \"auc: 0.720014150787713\"\n",
      "[1] \"O/E 比率: 0.990912345614894\"\n",
      "[1] \"c_slope: 1.10504295691046\"\n",
      "[1] \"Brier 分数: 0.143862397757292\"\n"
     ]
    },
    {
     "name": "stderr",
     "output_type": "stream",
     "text": [
      "Setting levels: control = 0, case = 1\n",
      "\n",
      "Setting direction: controls < cases\n",
      "\n"
     ]
    },
    {
     "name": "stdout",
     "output_type": "stream",
     "text": [
      "[1] \"auc: 0.721534432208238\"\n",
      "[1] \"O/E 比率: 0.980381851326794\"\n",
      "[1] \"c_slope: 1.14469027901473\"\n",
      "[1] \"Brier 分数: 0.144227573403214\"\n"
     ]
    },
    {
     "name": "stderr",
     "output_type": "stream",
     "text": [
      "Setting levels: control = 0, case = 1\n",
      "\n",
      "Setting direction: controls < cases\n",
      "\n"
     ]
    },
    {
     "name": "stdout",
     "output_type": "stream",
     "text": [
      "[1] \"auc: 0.719648348112128\"\n",
      "[1] \"O/E 比率: 1.01156058928414\"\n",
      "[1] \"c_slope: 1.07812913234873\"\n",
      "[1] \"Brier 分数: 0.144121861068161\"\n"
     ]
    },
    {
     "name": "stderr",
     "output_type": "stream",
     "text": [
      "Setting levels: control = 0, case = 1\n",
      "\n",
      "Setting direction: controls < cases\n",
      "\n"
     ]
    },
    {
     "name": "stdout",
     "output_type": "stream",
     "text": [
      "[1] \"auc: 0.721309587330576\"\n",
      "[1] \"O/E 比率: 1.013353877848\"\n",
      "[1] \"c_slope: 1.16546988223026\"\n",
      "[1] \"Brier 分数: 0.144503858186405\"\n"
     ]
    },
    {
     "name": "stderr",
     "output_type": "stream",
     "text": [
      "Setting levels: control = 0, case = 1\n",
      "\n",
      "Setting direction: controls < cases\n",
      "\n"
     ]
    },
    {
     "name": "stdout",
     "output_type": "stream",
     "text": [
      "[1] \"auc: 0.720519192263686\"\n",
      "[1] \"O/E 比率: 1.00380396563145\"\n",
      "[1] \"c_slope: 1.08266387156942\"\n",
      "[1] \"Brier 分数: 0.143922795971256\"\n"
     ]
    },
    {
     "name": "stderr",
     "output_type": "stream",
     "text": [
      "Setting levels: control = 0, case = 1\n",
      "\n",
      "Setting direction: controls < cases\n",
      "\n"
     ]
    },
    {
     "name": "stdout",
     "output_type": "stream",
     "text": [
      "[1] \"auc: 0.723186045040486\"\n",
      "[1] \"O/E 比率: 0.961384802333983\"\n",
      "[1] \"c_slope: 1.09138901561778\"\n",
      "[1] \"Brier 分数: 0.143441053126001\"\n"
     ]
    },
    {
     "name": "stderr",
     "output_type": "stream",
     "text": [
      "Setting levels: control = 0, case = 1\n",
      "\n",
      "Setting direction: controls < cases\n",
      "\n"
     ]
    },
    {
     "name": "stdout",
     "output_type": "stream",
     "text": [
      "[1] \"auc: 0.722764203045238\"\n",
      "[1] \"O/E 比率: 0.975505984934262\"\n",
      "[1] \"c_slope: 1.15194171663635\"\n",
      "[1] \"Brier 分数: 0.143565674468126\"\n"
     ]
    },
    {
     "name": "stderr",
     "output_type": "stream",
     "text": [
      "Setting levels: control = 0, case = 1\n",
      "\n",
      "Setting direction: controls < cases\n",
      "\n"
     ]
    },
    {
     "name": "stdout",
     "output_type": "stream",
     "text": [
      "[1] \"auc: 0.723434268284633\"\n",
      "[1] \"O/E 比率: 1.00002338347098\"\n",
      "[1] \"c_slope: 1.08297112810434\"\n",
      "[1] \"Brier 分数: 0.14376233763498\"\n"
     ]
    },
    {
     "name": "stderr",
     "output_type": "stream",
     "text": [
      "Setting levels: control = 0, case = 1\n",
      "\n",
      "Setting direction: controls < cases\n",
      "\n"
     ]
    },
    {
     "name": "stdout",
     "output_type": "stream",
     "text": [
      "[1] \"auc: 0.723621295216511\"\n",
      "[1] \"O/E 比率: 0.963476042054943\"\n",
      "[1] \"c_slope: 1.10251095762575\"\n",
      "[1] \"Brier 分数: 0.143748661478479\"\n"
     ]
    },
    {
     "name": "stderr",
     "output_type": "stream",
     "text": [
      "Setting levels: control = 0, case = 1\n",
      "\n",
      "Setting direction: controls < cases\n",
      "\n"
     ]
    },
    {
     "name": "stdout",
     "output_type": "stream",
     "text": [
      "[1] \"auc: 0.725633897531245\"\n",
      "[1] \"O/E 比率: 0.960293245989541\"\n",
      "[1] \"c_slope: 1.12579976032525\"\n",
      "[1] \"Brier 分数: 0.143565836560028\"\n"
     ]
    },
    {
     "name": "stderr",
     "output_type": "stream",
     "text": [
      "Setting levels: control = 0, case = 1\n",
      "\n",
      "Setting direction: controls < cases\n",
      "\n"
     ]
    },
    {
     "name": "stdout",
     "output_type": "stream",
     "text": [
      "[1] \"auc: 0.722663813589157\"\n",
      "[1] \"O/E 比率: 0.992408386265836\"\n",
      "[1] \"c_slope: 1.12549976028033\"\n",
      "[1] \"Brier 分数: 0.143953623869618\"\n"
     ]
    },
    {
     "name": "stderr",
     "output_type": "stream",
     "text": [
      "Setting levels: control = 0, case = 1\n",
      "\n",
      "Setting direction: controls < cases\n",
      "\n"
     ]
    },
    {
     "name": "stdout",
     "output_type": "stream",
     "text": [
      "[1] \"auc: 0.724901260781553\"\n",
      "[1] \"O/E 比率: 0.98253959437278\"\n",
      "[1] \"c_slope: 1.11271174865818\"\n",
      "[1] \"Brier 分数: 0.143456058719802\"\n"
     ]
    },
    {
     "name": "stderr",
     "output_type": "stream",
     "text": [
      "Setting levels: control = 0, case = 1\n",
      "\n",
      "Setting direction: controls < cases\n",
      "\n"
     ]
    },
    {
     "name": "stdout",
     "output_type": "stream",
     "text": [
      "[1] \"auc: 0.718222611556064\"\n",
      "[1] \"O/E 比率: 0.972111215569476\"\n",
      "[1] \"c_slope: 1.08646702289099\"\n",
      "[1] \"Brier 分数: 0.14480868564646\"\n"
     ]
    },
    {
     "name": "stderr",
     "output_type": "stream",
     "text": [
      "Setting levels: control = 0, case = 1\n",
      "\n",
      "Setting direction: controls < cases\n",
      "\n"
     ]
    },
    {
     "name": "stdout",
     "output_type": "stream",
     "text": [
      "[1] \"auc: 0.718867235631931\"\n",
      "[1] \"O/E 比率: 0.990987687379142\"\n",
      "[1] \"c_slope: 1.0885341247816\"\n",
      "[1] \"Brier 分数: 0.144057998674571\"\n"
     ]
    },
    {
     "name": "stderr",
     "output_type": "stream",
     "text": [
      "Setting levels: control = 0, case = 1\n",
      "\n",
      "Setting direction: controls < cases\n",
      "\n"
     ]
    },
    {
     "name": "stdout",
     "output_type": "stream",
     "text": [
      "[1] \"auc: 0.724745519604823\"\n",
      "[1] \"O/E 比率: 0.98525081316553\"\n",
      "[1] \"c_slope: 1.10197665952435\"\n",
      "[1] \"Brier 分数: 0.143919637951351\"\n"
     ]
    },
    {
     "name": "stderr",
     "output_type": "stream",
     "text": [
      "Setting levels: control = 0, case = 1\n",
      "\n",
      "Setting direction: controls < cases\n",
      "\n"
     ]
    },
    {
     "name": "stdout",
     "output_type": "stream",
     "text": [
      "[1] \"auc: 0.721977589772927\"\n",
      "[1] \"O/E 比率: 1.00955321993512\"\n",
      "[1] \"c_slope: 1.05632875400863\"\n",
      "[1] \"Brier 分数: 0.143874405414578\"\n"
     ]
    },
    {
     "name": "stderr",
     "output_type": "stream",
     "text": [
      "Setting levels: control = 0, case = 1\n",
      "\n",
      "Setting direction: controls < cases\n",
      "\n"
     ]
    },
    {
     "name": "stdout",
     "output_type": "stream",
     "text": [
      "[1] \"auc: 0.723913180998064\"\n",
      "[1] \"O/E 比率: 0.956587804879745\"\n",
      "[1] \"c_slope: 1.10051123034114\"\n",
      "[1] \"Brier 分数: 0.143999623480913\"\n"
     ]
    },
    {
     "name": "stderr",
     "output_type": "stream",
     "text": [
      "Setting levels: control = 0, case = 1\n",
      "\n",
      "Setting direction: controls < cases\n",
      "\n"
     ]
    },
    {
     "name": "stdout",
     "output_type": "stream",
     "text": [
      "[1] \"auc: 0.721604223508185\"\n",
      "[1] \"O/E 比率: 1.02228212932954\"\n",
      "[1] \"c_slope: 1.10644411438837\"\n",
      "[1] \"Brier 分数: 0.143798301650612\"\n"
     ]
    },
    {
     "name": "stderr",
     "output_type": "stream",
     "text": [
      "Setting levels: control = 0, case = 1\n",
      "\n",
      "Setting direction: controls < cases\n",
      "\n"
     ]
    },
    {
     "name": "stdout",
     "output_type": "stream",
     "text": [
      "[1] \"auc: 0.722296635715543\"\n",
      "[1] \"O/E 比率: 1.00741433498967\"\n",
      "[1] \"c_slope: 1.0857379651699\"\n",
      "[1] \"Brier 分数: 0.144227347424541\"\n"
     ]
    },
    {
     "name": "stderr",
     "output_type": "stream",
     "text": [
      "Setting levels: control = 0, case = 1\n",
      "\n",
      "Setting direction: controls < cases\n",
      "\n"
     ]
    },
    {
     "name": "stdout",
     "output_type": "stream",
     "text": [
      "[1] \"auc: 0.719624282146629\"\n",
      "[1] \"O/E 比率: 0.992331424048872\"\n",
      "[1] \"c_slope: 1.07162392463457\"\n",
      "[1] \"Brier 分数: 0.14442149970526\"\n"
     ]
    },
    {
     "name": "stderr",
     "output_type": "stream",
     "text": [
      "Setting levels: control = 0, case = 1\n",
      "\n",
      "Setting direction: controls < cases\n",
      "\n"
     ]
    },
    {
     "name": "stdout",
     "output_type": "stream",
     "text": [
      "[1] \"auc: 0.724156934848618\"\n",
      "[1] \"O/E 比率: 0.959244298177372\"\n",
      "[1] \"c_slope: 1.16468474061115\"\n",
      "[1] \"Brier 分数: 0.143503153158902\"\n"
     ]
    },
    {
     "name": "stderr",
     "output_type": "stream",
     "text": [
      "Setting levels: control = 0, case = 1\n",
      "\n",
      "Setting direction: controls < cases\n",
      "\n"
     ]
    },
    {
     "name": "stdout",
     "output_type": "stream",
     "text": [
      "[1] \"auc: 0.722217218029396\"\n",
      "[1] \"O/E 比率: 0.974062476438774\"\n",
      "[1] \"c_slope: 1.10558388222966\"\n",
      "[1] \"Brier 分数: 0.143733954307426\"\n"
     ]
    },
    {
     "name": "stderr",
     "output_type": "stream",
     "text": [
      "Setting levels: control = 0, case = 1\n",
      "\n",
      "Setting direction: controls < cases\n",
      "\n"
     ]
    },
    {
     "name": "stdout",
     "output_type": "stream",
     "text": [
      "[1] \"auc: 0.72652777624978\"\n",
      "[1] \"O/E 比率: 0.948332262681202\"\n",
      "[1] \"c_slope: 1.18464430915877\"\n",
      "[1] \"Brier 分数: 0.143146221351797\"\n"
     ]
    },
    {
     "name": "stderr",
     "output_type": "stream",
     "text": [
      "Setting levels: control = 0, case = 1\n",
      "\n",
      "Setting direction: controls < cases\n",
      "\n"
     ]
    },
    {
     "name": "stdout",
     "output_type": "stream",
     "text": [
      "[1] \"auc: 0.721514148037317\"\n",
      "[1] \"O/E 比率: 1.00651409833317\"\n",
      "[1] \"c_slope: 1.11592326297214\"\n",
      "[1] \"Brier 分数: 0.144268976712476\"\n"
     ]
    },
    {
     "name": "stderr",
     "output_type": "stream",
     "text": [
      "Setting levels: control = 0, case = 1\n",
      "\n",
      "Setting direction: controls < cases\n",
      "\n"
     ]
    },
    {
     "name": "stdout",
     "output_type": "stream",
     "text": [
      "[1] \"auc: 0.718718714244851\"\n",
      "[1] \"O/E 比率: 0.986485190547384\"\n",
      "[1] \"c_slope: 1.04714626208707\"\n",
      "[1] \"Brier 分数: 0.144818000000561\"\n"
     ]
    },
    {
     "name": "stderr",
     "output_type": "stream",
     "text": [
      "Setting levels: control = 0, case = 1\n",
      "\n",
      "Setting direction: controls < cases\n",
      "\n"
     ]
    },
    {
     "name": "stdout",
     "output_type": "stream",
     "text": [
      "[1] \"auc: 0.719457539385671\"\n",
      "[1] \"O/E 比率: 1.00627567031853\"\n",
      "[1] \"c_slope: 1.07485945615222\"\n",
      "[1] \"Brier 分数: 0.144509686816446\"\n"
     ]
    },
    {
     "name": "stderr",
     "output_type": "stream",
     "text": [
      "Setting levels: control = 0, case = 1\n",
      "\n",
      "Setting direction: controls < cases\n",
      "\n"
     ]
    },
    {
     "name": "stdout",
     "output_type": "stream",
     "text": [
      "[1] \"auc: 0.723380291762014\"\n",
      "[1] \"O/E 比率: 0.979328921746256\"\n",
      "[1] \"c_slope: 1.13750133996741\"\n",
      "[1] \"Brier 分数: 0.143370121369158\"\n"
     ]
    },
    {
     "name": "stderr",
     "output_type": "stream",
     "text": [
      "Setting levels: control = 0, case = 1\n",
      "\n",
      "Setting direction: controls < cases\n",
      "\n"
     ]
    },
    {
     "name": "stdout",
     "output_type": "stream",
     "text": [
      "[1] \"auc: 0.722061476852667\"\n",
      "[1] \"O/E 比率: 0.99093894726061\"\n",
      "[1] \"c_slope: 1.09037980843788\"\n",
      "[1] \"Brier 分数: 0.143984266768799\"\n"
     ]
    },
    {
     "name": "stderr",
     "output_type": "stream",
     "text": [
      "Setting levels: control = 0, case = 1\n",
      "\n",
      "Setting direction: controls < cases\n",
      "\n"
     ]
    },
    {
     "name": "stdout",
     "output_type": "stream",
     "text": [
      "[1] \"auc: 0.724335710592325\"\n",
      "[1] \"O/E 比率: 1.00222333435687\"\n",
      "[1] \"c_slope: 1.16592972837149\"\n",
      "[1] \"Brier 分数: 0.143717971144744\"\n"
     ]
    },
    {
     "name": "stderr",
     "output_type": "stream",
     "text": [
      "Setting levels: control = 0, case = 1\n",
      "\n",
      "Setting direction: controls < cases\n",
      "\n"
     ]
    },
    {
     "name": "stdout",
     "output_type": "stream",
     "text": [
      "[1] \"auc: 0.724468761001584\"\n",
      "[1] \"O/E 比率: 1.02367389625555\"\n",
      "[1] \"c_slope: 1.0839218170054\"\n",
      "[1] \"Brier 分数: 0.143664779967634\"\n"
     ]
    },
    {
     "name": "stderr",
     "output_type": "stream",
     "text": [
      "Setting levels: control = 0, case = 1\n",
      "\n",
      "Setting direction: controls < cases\n",
      "\n"
     ]
    },
    {
     "name": "stdout",
     "output_type": "stream",
     "text": [
      "[1] \"auc: 0.721550246985566\"\n",
      "[1] \"O/E 比率: 1.00998790239816\"\n",
      "[1] \"c_slope: 1.10051574732354\"\n",
      "[1] \"Brier 分数: 0.143406783751875\"\n"
     ]
    },
    {
     "name": "stderr",
     "output_type": "stream",
     "text": [
      "Setting levels: control = 0, case = 1\n",
      "\n",
      "Setting direction: controls < cases\n",
      "\n"
     ]
    },
    {
     "name": "stdout",
     "output_type": "stream",
     "text": [
      "[1] \"auc: 0.720305348970252\"\n",
      "[1] \"O/E 比率: 0.978532846593878\"\n",
      "[1] \"c_slope: 1.12384210269821\"\n",
      "[1] \"Brier 分数: 0.144094934153727\"\n"
     ]
    },
    {
     "name": "stderr",
     "output_type": "stream",
     "text": [
      "Setting levels: control = 0, case = 1\n",
      "\n",
      "Setting direction: controls < cases\n",
      "\n"
     ]
    },
    {
     "name": "stdout",
     "output_type": "stream",
     "text": [
      "[1] \"auc: 0.719419033840873\"\n",
      "[1] \"O/E 比率: 1.03674577821105\"\n",
      "[1] \"c_slope: 1.14236914460482\"\n",
      "[1] \"Brier 分数: 0.144900043242548\"\n"
     ]
    },
    {
     "name": "stderr",
     "output_type": "stream",
     "text": [
      "Setting levels: control = 0, case = 1\n",
      "\n",
      "Setting direction: controls < cases\n",
      "\n"
     ]
    },
    {
     "name": "stdout",
     "output_type": "stream",
     "text": [
      "[1] \"auc: 0.724380060728745\"\n",
      "[1] \"O/E 比率: 0.972210700260228\"\n",
      "[1] \"c_slope: 1.13756868092105\"\n",
      "[1] \"Brier 分数: 0.143891547505863\"\n"
     ]
    },
    {
     "name": "stderr",
     "output_type": "stream",
     "text": [
      "Setting levels: control = 0, case = 1\n",
      "\n",
      "Setting direction: controls < cases\n",
      "\n"
     ]
    },
    {
     "name": "stdout",
     "output_type": "stream",
     "text": [
      "[1] \"auc: 0.723468304435839\"\n",
      "[1] \"O/E 比率: 0.982927147535179\"\n",
      "[1] \"c_slope: 1.18853754198297\"\n",
      "[1] \"Brier 分数: 0.143988741966043\"\n"
     ]
    },
    {
     "name": "stderr",
     "output_type": "stream",
     "text": [
      "Setting levels: control = 0, case = 1\n",
      "\n",
      "Setting direction: controls < cases\n",
      "\n"
     ]
    },
    {
     "name": "stdout",
     "output_type": "stream",
     "text": [
      "[1] \"auc: 0.721669201615033\"\n",
      "[1] \"O/E 比率: 1.00988965174407\"\n",
      "[1] \"c_slope: 1.09406582947784\"\n",
      "[1] \"Brier 分数: 0.143979356230844\"\n"
     ]
    },
    {
     "name": "stderr",
     "output_type": "stream",
     "text": [
      "Setting levels: control = 0, case = 1\n",
      "\n",
      "Setting direction: controls < cases\n",
      "\n"
     ]
    },
    {
     "name": "stdout",
     "output_type": "stream",
     "text": [
      "[1] \"auc: 0.71953076868069\"\n",
      "[1] \"O/E 比率: 1.01729952225077\"\n",
      "[1] \"c_slope: 1.08573921299724\"\n",
      "[1] \"Brier 分数: 0.144730412945924\"\n"
     ]
    },
    {
     "name": "stderr",
     "output_type": "stream",
     "text": [
      "Setting levels: control = 0, case = 1\n",
      "\n",
      "Setting direction: controls < cases\n",
      "\n"
     ]
    },
    {
     "name": "stdout",
     "output_type": "stream",
     "text": [
      "[1] \"auc: 0.720299160579123\"\n",
      "[1] \"O/E 比率: 1.01138910560137\"\n",
      "[1] \"c_slope: 1.03042402206373\"\n",
      "[1] \"Brier 分数: 0.144023425676649\"\n"
     ]
    },
    {
     "name": "stderr",
     "output_type": "stream",
     "text": [
      "Setting levels: control = 0, case = 1\n",
      "\n",
      "Setting direction: controls < cases\n",
      "\n"
     ]
    },
    {
     "name": "stdout",
     "output_type": "stream",
     "text": [
      "[1] \"auc: 0.721501771255061\"\n",
      "[1] \"O/E 比率: 1.00160504983675\"\n",
      "[1] \"c_slope: 1.09948284011625\"\n",
      "[1] \"Brier 分数: 0.143937404869003\"\n"
     ]
    },
    {
     "name": "stderr",
     "output_type": "stream",
     "text": [
      "Setting levels: control = 0, case = 1\n",
      "\n",
      "Setting direction: controls < cases\n",
      "\n"
     ]
    },
    {
     "name": "stdout",
     "output_type": "stream",
     "text": [
      "[1] \"auc: 0.723565599696356\"\n",
      "[1] \"O/E 比率: 1.00666514052442\"\n",
      "[1] \"c_slope: 1.09080739396335\"\n",
      "[1] \"Brier 分数: 0.143730306611837\"\n"
     ]
    },
    {
     "name": "stderr",
     "output_type": "stream",
     "text": [
      "Setting levels: control = 0, case = 1\n",
      "\n",
      "Setting direction: controls < cases\n",
      "\n"
     ]
    },
    {
     "name": "stdout",
     "output_type": "stream",
     "text": [
      "[1] \"auc: 0.72121091687203\"\n",
      "[1] \"O/E 比率: 1.02483408757357\"\n",
      "[1] \"c_slope: 1.09660168123487\"\n",
      "[1] \"Brier 分数: 0.144272641465091\"\n"
     ]
    },
    {
     "name": "stderr",
     "output_type": "stream",
     "text": [
      "Setting levels: control = 0, case = 1\n",
      "\n",
      "Setting direction: controls < cases\n",
      "\n"
     ]
    },
    {
     "name": "stdout",
     "output_type": "stream",
     "text": [
      "[1] \"auc: 0.721580501342193\"\n",
      "[1] \"O/E 比率: 0.988844873352793\"\n",
      "[1] \"c_slope: 1.10156960696854\"\n",
      "[1] \"Brier 分数: 0.14398102194156\"\n"
     ]
    },
    {
     "name": "stderr",
     "output_type": "stream",
     "text": [
      "Setting levels: control = 0, case = 1\n",
      "\n",
      "Setting direction: controls < cases\n",
      "\n"
     ]
    },
    {
     "name": "stdout",
     "output_type": "stream",
     "text": [
      "[1] \"auc: 0.718611792598134\"\n",
      "[1] \"O/E 比率: 0.986224493186296\"\n",
      "[1] \"c_slope: 1.05093638019653\"\n",
      "[1] \"Brier 分数: 0.144997199617433\"\n"
     ]
    },
    {
     "name": "stderr",
     "output_type": "stream",
     "text": [
      "Setting levels: control = 0, case = 1\n",
      "\n",
      "Setting direction: controls < cases\n",
      "\n"
     ]
    },
    {
     "name": "stdout",
     "output_type": "stream",
     "text": [
      "[1] \"auc: 0.721488019274776\"\n",
      "[1] \"O/E 比率: 0.961168824217245\"\n",
      "[1] \"c_slope: 1.12714126929008\"\n",
      "[1] \"Brier 分数: 0.143606187345784\"\n"
     ]
    },
    {
     "name": "stderr",
     "output_type": "stream",
     "text": [
      "Setting levels: control = 0, case = 1\n",
      "\n",
      "Setting direction: controls < cases\n",
      "\n"
     ]
    },
    {
     "name": "stdout",
     "output_type": "stream",
     "text": [
      "[1] \"auc: 0.722761108849674\"\n",
      "[1] \"O/E 比率: 0.983298375105411\"\n",
      "[1] \"c_slope: 1.12782919988439\"\n",
      "[1] \"Brier 分数: 0.143872276838606\"\n"
     ]
    },
    {
     "name": "stderr",
     "output_type": "stream",
     "text": [
      "Setting levels: control = 0, case = 1\n",
      "\n",
      "Setting direction: controls < cases\n",
      "\n"
     ]
    },
    {
     "name": "stdout",
     "output_type": "stream",
     "text": [
      "[1] \"auc: 0.718509684144517\"\n",
      "[1] \"O/E 比率: 0.990792222827176\"\n",
      "[1] \"c_slope: 1.11536243474758\"\n",
      "[1] \"Brier 分数: 0.144995925808882\"\n"
     ]
    },
    {
     "name": "stderr",
     "output_type": "stream",
     "text": [
      "Setting levels: control = 0, case = 1\n",
      "\n",
      "Setting direction: controls < cases\n",
      "\n"
     ]
    },
    {
     "name": "stdout",
     "output_type": "stream",
     "text": [
      "[1] \"auc: 0.720939659060905\"\n",
      "[1] \"O/E 比率: 1.02433550733258\"\n",
      "[1] \"c_slope: 1.09485439512072\"\n",
      "[1] \"Brier 分数: 0.144384199505344\"\n"
     ]
    },
    {
     "name": "stderr",
     "output_type": "stream",
     "text": [
      "Setting levels: control = 0, case = 1\n",
      "\n",
      "Setting direction: controls < cases\n",
      "\n"
     ]
    },
    {
     "name": "stdout",
     "output_type": "stream",
     "text": [
      "[1] \"auc: 0.720328039737722\"\n",
      "[1] \"O/E 比率: 0.989619673513951\"\n",
      "[1] \"c_slope: 1.09277588602432\"\n",
      "[1] \"Brier 分数: 0.144081498689691\"\n"
     ]
    },
    {
     "name": "stderr",
     "output_type": "stream",
     "text": [
      "Setting levels: control = 0, case = 1\n",
      "\n",
      "Setting direction: controls < cases\n",
      "\n"
     ]
    },
    {
     "name": "stdout",
     "output_type": "stream",
     "text": [
      "[1] \"auc: 0.71853203111248\"\n",
      "[1] \"O/E 比率: 1.03443269117005\"\n",
      "[1] \"c_slope: 1.16055633480838\"\n",
      "[1] \"Brier 分数: 0.144871913265688\"\n"
     ]
    },
    {
     "name": "stderr",
     "output_type": "stream",
     "text": [
      "Setting levels: control = 0, case = 1\n",
      "\n",
      "Setting direction: controls < cases\n",
      "\n"
     ]
    },
    {
     "name": "stdout",
     "output_type": "stream",
     "text": [
      "[1] \"auc: 0.720825173825031\"\n",
      "[1] \"O/E 比率: 0.954103875351946\"\n",
      "[1] \"c_slope: 1.09999988495478\"\n",
      "[1] \"Brier 分数: 0.143931517815111\"\n"
     ]
    },
    {
     "name": "stderr",
     "output_type": "stream",
     "text": [
      "Setting levels: control = 0, case = 1\n",
      "\n",
      "Setting direction: controls < cases\n",
      "\n"
     ]
    },
    {
     "name": "stdout",
     "output_type": "stream",
     "text": [
      "[1] \"auc: 0.721681922196796\"\n",
      "[1] \"O/E 比率: 0.984049519281821\"\n",
      "[1] \"c_slope: 1.16604992002793\"\n",
      "[1] \"Brier 分数: 0.143815202762256\"\n"
     ]
    },
    {
     "name": "stderr",
     "output_type": "stream",
     "text": [
      "Setting levels: control = 0, case = 1\n",
      "\n",
      "Setting direction: controls < cases\n",
      "\n"
     ]
    },
    {
     "name": "stdout",
     "output_type": "stream",
     "text": [
      "[1] \"auc: 0.723565255896849\"\n",
      "[1] \"O/E 比率: 0.982226013820414\"\n",
      "[1] \"c_slope: 1.11117886979068\"\n",
      "[1] \"Brier 分数: 0.143690670288751\"\n"
     ]
    },
    {
     "name": "stderr",
     "output_type": "stream",
     "text": [
      "Setting levels: control = 0, case = 1\n",
      "\n",
      "Setting direction: controls < cases\n",
      "\n"
     ]
    },
    {
     "name": "stdout",
     "output_type": "stream",
     "text": [
      "[1] \"auc: 0.720846145594966\"\n",
      "[1] \"O/E 比率: 1.00423153571727\"\n",
      "[1] \"c_slope: 1.12897735149329\"\n",
      "[1] \"Brier 分数: 0.143864348043825\"\n"
     ]
    },
    {
     "name": "stderr",
     "output_type": "stream",
     "text": [
      "Setting levels: control = 0, case = 1\n",
      "\n",
      "Setting direction: controls < cases\n",
      "\n"
     ]
    },
    {
     "name": "stdout",
     "output_type": "stream",
     "text": [
      "[1] \"auc: 0.721081648257349\"\n",
      "[1] \"O/E 比率: 1.03208969092499\"\n",
      "[1] \"c_slope: 1.1020153841334\"\n",
      "[1] \"Brier 分数: 0.144250924527425\"\n"
     ]
    },
    {
     "name": "stderr",
     "output_type": "stream",
     "text": [
      "Setting levels: control = 0, case = 1\n",
      "\n",
      "Setting direction: controls < cases\n",
      "\n"
     ]
    },
    {
     "name": "stdout",
     "output_type": "stream",
     "text": [
      "[1] \"auc: 0.723308093865517\"\n",
      "[1] \"O/E 比率: 0.995894180355195\"\n",
      "[1] \"c_slope: 0.999320708645806\"\n",
      "[1] \"Brier 分数: 0.14402354839294\"\n"
     ]
    },
    {
     "name": "stderr",
     "output_type": "stream",
     "text": [
      "Setting levels: control = 0, case = 1\n",
      "\n",
      "Setting direction: controls < cases\n",
      "\n"
     ]
    },
    {
     "name": "stdout",
     "output_type": "stream",
     "text": [
      "[1] \"auc: 0.723802133757261\"\n",
      "[1] \"O/E 比率: 0.969203324128175\"\n",
      "[1] \"c_slope: 1.21463813206208\"\n",
      "[1] \"Brier 分数: 0.14406641565702\"\n"
     ]
    },
    {
     "name": "stderr",
     "output_type": "stream",
     "text": [
      "Setting levels: control = 0, case = 1\n",
      "\n",
      "Setting direction: controls < cases\n",
      "\n"
     ]
    },
    {
     "name": "stdout",
     "output_type": "stream",
     "text": [
      "[1] \"auc: 0.720696592809364\"\n",
      "[1] \"O/E 比率: 1.01858315058124\"\n",
      "[1] \"c_slope: 1.16945595561088\"\n",
      "[1] \"Brier 分数: 0.143855300954661\"\n"
     ]
    },
    {
     "name": "stderr",
     "output_type": "stream",
     "text": [
      "Setting levels: control = 0, case = 1\n",
      "\n",
      "Setting direction: controls < cases\n",
      "\n"
     ]
    },
    {
     "name": "stdout",
     "output_type": "stream",
     "text": [
      "[1] \"auc: 0.722455814887344\"\n",
      "[1] \"O/E 比率: 0.99809777816261\"\n",
      "[1] \"c_slope: 1.107123707382\"\n",
      "[1] \"Brier 分数: 0.143951358191568\"\n"
     ]
    },
    {
     "name": "stderr",
     "output_type": "stream",
     "text": [
      "Setting levels: control = 0, case = 1\n",
      "\n",
      "Setting direction: controls < cases\n",
      "\n"
     ]
    },
    {
     "name": "stdout",
     "output_type": "stream",
     "text": [
      "[1] \"auc: 0.724391749911987\"\n",
      "[1] \"O/E 比率: 0.985660817585286\"\n",
      "[1] \"c_slope: 1.15766812095294\"\n",
      "[1] \"Brier 分数: 0.144159462485089\"\n"
     ]
    },
    {
     "name": "stderr",
     "output_type": "stream",
     "text": [
      "Setting levels: control = 0, case = 1\n",
      "\n",
      "Setting direction: controls < cases\n",
      "\n"
     ]
    },
    {
     "name": "stdout",
     "output_type": "stream",
     "text": [
      "[1] \"auc: 0.722325858673649\"\n",
      "[1] \"O/E 比率: 0.990553624593658\"\n",
      "[1] \"c_slope: 1.16414429716115\"\n",
      "[1] \"Brier 分数: 0.14352528028399\"\n"
     ]
    },
    {
     "name": "stderr",
     "output_type": "stream",
     "text": [
      "Setting levels: control = 0, case = 1\n",
      "\n",
      "Setting direction: controls < cases\n",
      "\n"
     ]
    },
    {
     "name": "stdout",
     "output_type": "stream",
     "text": [
      "[1] \"auc: 0.723727529264214\"\n",
      "[1] \"O/E 比率: 1.01216745784637\"\n",
      "[1] \"c_slope: 1.09597739714325\"\n",
      "[1] \"Brier 分数: 0.144042603768689\"\n"
     ]
    },
    {
     "name": "stderr",
     "output_type": "stream",
     "text": [
      "Setting levels: control = 0, case = 1\n",
      "\n",
      "Setting direction: controls < cases\n",
      "\n"
     ]
    },
    {
     "name": "stdout",
     "output_type": "stream",
     "text": [
      "[1] \"auc: 0.718064807582292\"\n",
      "[1] \"O/E 比率: 1.01778598447807\"\n",
      "[1] \"c_slope: 1.10005998399\"\n",
      "[1] \"Brier 分数: 0.144730795729179\"\n"
     ]
    },
    {
     "name": "stderr",
     "output_type": "stream",
     "text": [
      "Setting levels: control = 0, case = 1\n",
      "\n",
      "Setting direction: controls < cases\n",
      "\n"
     ]
    },
    {
     "name": "stdout",
     "output_type": "stream",
     "text": [
      "[1] \"auc: 0.718859328243267\"\n",
      "[1] \"O/E 比率: 0.978495712775133\"\n",
      "[1] \"c_slope: 1.04907594590262\"\n",
      "[1] \"Brier 分数: 0.144231928800968\"\n"
     ]
    },
    {
     "name": "stderr",
     "output_type": "stream",
     "text": [
      "Setting levels: control = 0, case = 1\n",
      "\n",
      "Setting direction: controls < cases\n",
      "\n"
     ]
    },
    {
     "name": "stdout",
     "output_type": "stream",
     "text": [
      "[1] \"auc: 0.718187887805844\"\n",
      "[1] \"O/E 比率: 0.968970158474719\"\n",
      "[1] \"c_slope: 1.11462393648917\"\n",
      "[1] \"Brier 分数: 0.144468690117076\"\n"
     ]
    },
    {
     "name": "stderr",
     "output_type": "stream",
     "text": [
      "Setting levels: control = 0, case = 1\n",
      "\n",
      "Setting direction: controls < cases\n",
      "\n"
     ]
    },
    {
     "name": "stdout",
     "output_type": "stream",
     "text": [
      "[1] \"auc: 0.721733492122866\"\n",
      "[1] \"O/E 比率: 0.978190885634165\"\n",
      "[1] \"c_slope: 1.11598708743079\"\n",
      "[1] \"Brier 分数: 0.143803422240481\"\n"
     ]
    },
    {
     "name": "stderr",
     "output_type": "stream",
     "text": [
      "Setting levels: control = 0, case = 1\n",
      "\n",
      "Setting direction: controls < cases\n",
      "\n"
     ]
    },
    {
     "name": "stdout",
     "output_type": "stream",
     "text": [
      "[1] \"auc: 0.719298016414364\"\n",
      "[1] \"O/E 比率: 1.04905447736107\"\n",
      "[1] \"c_slope: 1.10073182956141\"\n",
      "[1] \"Brier 分数: 0.144633366073178\"\n"
     ]
    },
    {
     "name": "stderr",
     "output_type": "stream",
     "text": [
      "Setting levels: control = 0, case = 1\n",
      "\n",
      "Setting direction: controls < cases\n",
      "\n"
     ]
    },
    {
     "name": "stdout",
     "output_type": "stream",
     "text": [
      "[1] \"auc: 0.71920622194596\"\n",
      "[1] \"O/E 比率: 0.958204588033341\"\n",
      "[1] \"c_slope: 1.16975918002564\"\n",
      "[1] \"Brier 分数: 0.144176151239989\"\n"
     ]
    },
    {
     "name": "stderr",
     "output_type": "stream",
     "text": [
      "Setting levels: control = 0, case = 1\n",
      "\n",
      "Setting direction: controls < cases\n",
      "\n"
     ]
    },
    {
     "name": "stdout",
     "output_type": "stream",
     "text": [
      "[1] \"auc: 0.720595859553776\"\n",
      "[1] \"O/E 比率: 0.958535939397503\"\n",
      "[1] \"c_slope: 1.10110890024731\"\n",
      "[1] \"Brier 分数: 0.143767920152287\"\n"
     ]
    },
    {
     "name": "stderr",
     "output_type": "stream",
     "text": [
      "Setting levels: control = 0, case = 1\n",
      "\n",
      "Setting direction: controls < cases\n",
      "\n"
     ]
    },
    {
     "name": "stdout",
     "output_type": "stream",
     "text": [
      "[1] \"auc: 0.724364933550431\"\n",
      "[1] \"O/E 比率: 0.998272961469656\"\n",
      "[1] \"c_slope: 1.18035282711998\"\n",
      "[1] \"Brier 分数: 0.143583885800241\"\n"
     ]
    },
    {
     "name": "stderr",
     "output_type": "stream",
     "text": [
      "Setting levels: control = 0, case = 1\n",
      "\n",
      "Setting direction: controls < cases\n",
      "\n"
     ]
    },
    {
     "name": "stdout",
     "output_type": "stream",
     "text": [
      "[1] \"auc: 0.716860477908819\"\n",
      "[1] \"O/E 比率: 0.989906764755968\"\n",
      "[1] \"c_slope: 1.09178152553424\"\n",
      "[1] \"Brier 分数: 0.145020936385575\"\n"
     ]
    },
    {
     "name": "stderr",
     "output_type": "stream",
     "text": [
      "Setting levels: control = 0, case = 1\n",
      "\n",
      "Setting direction: controls < cases\n",
      "\n"
     ]
    },
    {
     "name": "stdout",
     "output_type": "stream",
     "text": [
      "[1] \"auc: 0.720041310948777\"\n",
      "[1] \"O/E 比率: 0.987549690803267\"\n",
      "[1] \"c_slope: 1.18379981552287\"\n",
      "[1] \"Brier 分数: 0.144790032858102\"\n"
     ]
    },
    {
     "name": "stderr",
     "output_type": "stream",
     "text": [
      "Setting levels: control = 0, case = 1\n",
      "\n",
      "Setting direction: controls < cases\n",
      "\n"
     ]
    },
    {
     "name": "stdout",
     "output_type": "stream",
     "text": [
      "[1] \"auc: 0.72124564062225\"\n",
      "[1] \"O/E 比率: 0.979374201935071\"\n",
      "[1] \"c_slope: 1.12261319804662\"\n",
      "[1] \"Brier 分数: 0.144054646119511\"\n"
     ]
    },
    {
     "name": "stderr",
     "output_type": "stream",
     "text": [
      "Setting levels: control = 0, case = 1\n",
      "\n",
      "Setting direction: controls < cases\n",
      "\n"
     ]
    },
    {
     "name": "stdout",
     "output_type": "stream",
     "text": [
      "[1] \"auc: 0.722138487942264\"\n",
      "[1] \"O/E 比率: 0.99663421574182\"\n",
      "[1] \"c_slope: 1.05628028335611\"\n",
      "[1] \"Brier 分数: 0.143530874083994\"\n"
     ]
    },
    {
     "name": "stderr",
     "output_type": "stream",
     "text": [
      "Setting levels: control = 0, case = 1\n",
      "\n",
      "Setting direction: controls < cases\n",
      "\n"
     ]
    },
    {
     "name": "stdout",
     "output_type": "stream",
     "text": [
      "[1] \"auc: 0.720377203067242\"\n",
      "[1] \"O/E 比率: 0.990289023009322\"\n",
      "[1] \"c_slope: 1.20877064132035\"\n",
      "[1] \"Brier 分数: 0.144193678552244\"\n"
     ]
    },
    {
     "name": "stderr",
     "output_type": "stream",
     "text": [
      "Setting levels: control = 0, case = 1\n",
      "\n",
      "Setting direction: controls < cases\n",
      "\n"
     ]
    },
    {
     "name": "stdout",
     "output_type": "stream",
     "text": [
      "[1] \"auc: 0.724860348640204\"\n",
      "[1] \"O/E 比率: 0.959389510318655\"\n",
      "[1] \"c_slope: 1.13362959498926\"\n",
      "[1] \"Brier 分数: 0.143687182458367\"\n"
     ]
    },
    {
     "name": "stderr",
     "output_type": "stream",
     "text": [
      "Setting levels: control = 0, case = 1\n",
      "\n",
      "Setting direction: controls < cases\n",
      "\n"
     ]
    },
    {
     "name": "stdout",
     "output_type": "stream",
     "text": [
      "[1] \"auc: 0.720546696224256\"\n",
      "[1] \"O/E 比率: 0.995823392549264\"\n",
      "[1] \"c_slope: 1.15361068703137\"\n",
      "[1] \"Brier 分数: 0.144156826778291\"\n"
     ]
    },
    {
     "name": "stderr",
     "output_type": "stream",
     "text": [
      "Setting levels: control = 0, case = 1\n",
      "\n",
      "Setting direction: controls < cases\n",
      "\n"
     ]
    },
    {
     "name": "stdout",
     "output_type": "stream",
     "text": [
      "[1] \"auc: 0.721675390006161\"\n",
      "[1] \"O/E 比率: 1.00942472262035\"\n",
      "[1] \"c_slope: 1.17364791999059\"\n",
      "[1] \"Brier 分数: 0.144034495628454\"\n"
     ]
    },
    {
     "name": "stderr",
     "output_type": "stream",
     "text": [
      "Setting levels: control = 0, case = 1\n",
      "\n",
      "Setting direction: controls < cases\n",
      "\n"
     ]
    },
    {
     "name": "stdout",
     "output_type": "stream",
     "text": [
      "[1] \"auc: 0.723937246963563\"\n",
      "[1] \"O/E 比率: 0.990917049815677\"\n",
      "[1] \"c_slope: 1.10653901023427\"\n",
      "[1] \"Brier 分数: 0.143527451680596\"\n"
     ]
    },
    {
     "name": "stderr",
     "output_type": "stream",
     "text": [
      "Setting levels: control = 0, case = 1\n",
      "\n",
      "Setting direction: controls < cases\n",
      "\n"
     ]
    },
    {
     "name": "stdout",
     "output_type": "stream",
     "text": [
      "[1] \"auc: 0.718982064667312\"\n",
      "[1] \"O/E 比率: 0.974487911776267\"\n",
      "[1] \"c_slope: 1.09671298921964\"\n",
      "[1] \"Brier 分数: 0.144092839690553\"\n"
     ]
    },
    {
     "name": "stderr",
     "output_type": "stream",
     "text": [
      "Setting levels: control = 0, case = 1\n",
      "\n",
      "Setting direction: controls < cases\n",
      "\n"
     ]
    },
    {
     "name": "stdout",
     "output_type": "stream",
     "text": [
      "[1] \"auc: 0.723077404396233\"\n",
      "[1] \"O/E 比率: 0.986229042921932\"\n",
      "[1] \"c_slope: 1.12846452224686\"\n",
      "[1] \"Brier 分数: 0.143599620533002\"\n"
     ]
    },
    {
     "name": "stderr",
     "output_type": "stream",
     "text": [
      "Setting levels: control = 0, case = 1\n",
      "\n",
      "Setting direction: controls < cases\n",
      "\n"
     ]
    },
    {
     "name": "stdout",
     "output_type": "stream",
     "text": [
      "[1] \"auc: 0.719323113778384\"\n",
      "[1] \"O/E 比率: 1.03884842575409\"\n",
      "[1] \"c_slope: 1.08845109236919\"\n",
      "[1] \"Brier 分数: 0.144500668446982\"\n"
     ]
    },
    {
     "name": "stderr",
     "output_type": "stream",
     "text": [
      "Setting levels: control = 0, case = 1\n",
      "\n",
      "Setting direction: controls < cases\n",
      "\n"
     ]
    },
    {
     "name": "stdout",
     "output_type": "stream",
     "text": [
      "[1] \"auc: 0.721005668566274\"\n",
      "[1] \"O/E 比率: 0.962725275196765\"\n",
      "[1] \"c_slope: 1.10087292311565\"\n",
      "[1] \"Brier 分数: 0.143727412486695\"\n"
     ]
    },
    {
     "name": "stderr",
     "output_type": "stream",
     "text": [
      "Setting levels: control = 0, case = 1\n",
      "\n",
      "Setting direction: controls < cases\n",
      "\n"
     ]
    },
    {
     "name": "stdout",
     "output_type": "stream",
     "text": [
      "[1] \"auc: 0.72582608145573\"\n",
      "[1] \"O/E 比率: 0.989350972819394\"\n",
      "[1] \"c_slope: 1.13714792043763\"\n",
      "[1] \"Brier 分数: 0.143220411283444\"\n"
     ]
    },
    {
     "name": "stderr",
     "output_type": "stream",
     "text": [
      "Setting levels: control = 0, case = 1\n",
      "\n",
      "Setting direction: controls < cases\n",
      "\n"
     ]
    },
    {
     "name": "stdout",
     "output_type": "stream",
     "text": [
      "[1] \"auc: 0.722895534456962\"\n",
      "[1] \"O/E 比率: 1.00778013580143\"\n",
      "[1] \"c_slope: 1.0549529841819\"\n",
      "[1] \"Brier 分数: 0.143938021119769\"\n"
     ]
    },
    {
     "name": "stderr",
     "output_type": "stream",
     "text": [
      "Setting levels: control = 0, case = 1\n",
      "\n",
      "Setting direction: controls < cases\n",
      "\n"
     ]
    },
    {
     "name": "stdout",
     "output_type": "stream",
     "text": [
      "[1] \"auc: 0.722144676333392\"\n",
      "[1] \"O/E 比率: 0.994007300531325\"\n",
      "[1] \"c_slope: 1.07946258825901\"\n",
      "[1] \"Brier 分数: 0.143339317032178\"\n"
     ]
    },
    {
     "name": "stderr",
     "output_type": "stream",
     "text": [
      "Setting levels: control = 0, case = 1\n",
      "\n",
      "Setting direction: controls < cases\n",
      "\n"
     ]
    },
    {
     "name": "stdout",
     "output_type": "stream",
     "text": [
      "[1] \"auc: 0.722610524665552\"\n",
      "[1] \"O/E 比率: 0.970912501184328\"\n",
      "[1] \"c_slope: 1.08630005240076\"\n",
      "[1] \"Brier 分数: 0.143713188384928\"\n"
     ]
    },
    {
     "name": "stderr",
     "output_type": "stream",
     "text": [
      "Setting levels: control = 0, case = 1\n",
      "\n",
      "Setting direction: controls < cases\n",
      "\n"
     ]
    },
    {
     "name": "stdout",
     "output_type": "stream",
     "text": [
      "[1] \"auc: 0.718087154550255\"\n",
      "[1] \"O/E 比率: 1.01638910708231\"\n",
      "[1] \"c_slope: 1.14444733111388\"\n",
      "[1] \"Brier 分数: 0.144102830935112\"\n"
     ]
    },
    {
     "name": "stderr",
     "output_type": "stream",
     "text": [
      "Setting levels: control = 0, case = 1\n",
      "\n",
      "Setting direction: controls < cases\n",
      "\n"
     ]
    },
    {
     "name": "stdout",
     "output_type": "stream",
     "text": [
      "[1] \"auc: 0.721074772267207\"\n",
      "[1] \"O/E 比率: 0.982853095401988\"\n",
      "[1] \"c_slope: 1.07461244123166\"\n",
      "[1] \"Brier 分数: 0.143355460932685\"\n"
     ]
    },
    {
     "name": "stderr",
     "output_type": "stream",
     "text": [
      "Setting levels: control = 0, case = 1\n",
      "\n",
      "Setting direction: controls < cases\n",
      "\n"
     ]
    },
    {
     "name": "stdout",
     "output_type": "stream",
     "text": [
      "[1] \"auc: 0.721036610521915\"\n",
      "[1] \"O/E 比率: 0.932958966241939\"\n",
      "[1] \"c_slope: 1.04361712279634\"\n",
      "[1] \"Brier 分数: 0.144106050471184\"\n"
     ]
    },
    {
     "name": "stderr",
     "output_type": "stream",
     "text": [
      "Setting levels: control = 0, case = 1\n",
      "\n",
      "Setting direction: controls < cases\n",
      "\n"
     ]
    },
    {
     "name": "stdout",
     "output_type": "stream",
     "text": [
      "[1] \"auc: 0.724282077869213\"\n",
      "[1] \"O/E 比率: 0.979514318572097\"\n",
      "[1] \"c_slope: 1.16305674789727\"\n",
      "[1] \"Brier 分数: 0.144025245352535\"\n"
     ]
    },
    {
     "name": "stderr",
     "output_type": "stream",
     "text": [
      "Setting levels: control = 0, case = 1\n",
      "\n",
      "Setting direction: controls < cases\n",
      "\n"
     ]
    },
    {
     "name": "stdout",
     "output_type": "stream",
     "text": [
      "[1] \"auc: 0.722773829431438\"\n",
      "[1] \"O/E 比率: 1.01473745948778\"\n",
      "[1] \"c_slope: 1.12910320745513\"\n",
      "[1] \"Brier 分数: 0.144094237297559\"\n"
     ]
    },
    {
     "name": "stderr",
     "output_type": "stream",
     "text": [
      "Setting levels: control = 0, case = 1\n",
      "\n",
      "Setting direction: controls < cases\n",
      "\n"
     ]
    },
    {
     "name": "stdout",
     "output_type": "stream",
     "text": [
      "[1] \"auc: 0.72162760187467\"\n",
      "[1] \"O/E 比率: 0.971257654492892\"\n",
      "[1] \"c_slope: 1.09097382936058\"\n",
      "[1] \"Brier 分数: 0.143902635524666\"\n"
     ]
    },
    {
     "name": "stderr",
     "output_type": "stream",
     "text": [
      "Setting levels: control = 0, case = 1\n",
      "\n",
      "Setting direction: controls < cases\n",
      "\n"
     ]
    },
    {
     "name": "stdout",
     "output_type": "stream",
     "text": [
      "[1] \"auc: 0.718958686300827\"\n",
      "[1] \"O/E 比率: 0.978200778399548\"\n",
      "[1] \"c_slope: 1.12873960955137\"\n",
      "[1] \"Brier 分数: 0.144335693979414\"\n"
     ]
    },
    {
     "name": "stderr",
     "output_type": "stream",
     "text": [
      "Setting levels: control = 0, case = 1\n",
      "\n",
      "Setting direction: controls < cases\n",
      "\n"
     ]
    },
    {
     "name": "stdout",
     "output_type": "stream",
     "text": [
      "[1] \"auc: 0.721368720845802\"\n",
      "[1] \"O/E 比率: 0.982324780439324\"\n",
      "[1] \"c_slope: 1.10118518025411\"\n",
      "[1] \"Brier 分数: 0.143656194692276\"\n"
     ]
    },
    {
     "name": "stderr",
     "output_type": "stream",
     "text": [
      "Setting levels: control = 0, case = 1\n",
      "\n",
      "Setting direction: controls < cases\n",
      "\n"
     ]
    },
    {
     "name": "stdout",
     "output_type": "stream",
     "text": [
      "[1] \"auc: 0.722333078463299\"\n",
      "[1] \"O/E 比率: 0.987818077544008\"\n",
      "[1] \"c_slope: 1.03542280259615\"\n",
      "[1] \"Brier 分数: 0.143371053780181\"\n"
     ]
    },
    {
     "name": "stderr",
     "output_type": "stream",
     "text": [
      "Setting levels: control = 0, case = 1\n",
      "\n",
      "Setting direction: controls < cases\n",
      "\n"
     ]
    },
    {
     "name": "stdout",
     "output_type": "stream",
     "text": [
      "[1] \"auc: 0.722596085086252\"\n",
      "[1] \"O/E 比率: 1.0045462446404\"\n",
      "[1] \"c_slope: 1.14641057922167\"\n",
      "[1] \"Brier 分数: 0.143757178284627\"\n"
     ]
    },
    {
     "name": "stderr",
     "output_type": "stream",
     "text": [
      "Setting levels: control = 0, case = 1\n",
      "\n",
      "Setting direction: controls < cases\n",
      "\n"
     ]
    },
    {
     "name": "stdout",
     "output_type": "stream",
     "text": [
      "[1] \"auc: 0.723643985983982\"\n",
      "[1] \"O/E 比率: 0.96891649551108\"\n",
      "[1] \"c_slope: 1.09405485395822\"\n",
      "[1] \"Brier 分数: 0.143936647675887\"\n"
     ]
    },
    {
     "name": "stderr",
     "output_type": "stream",
     "text": [
      "Setting levels: control = 0, case = 1\n",
      "\n",
      "Setting direction: controls < cases\n",
      "\n"
     ]
    },
    {
     "name": "stdout",
     "output_type": "stream",
     "text": [
      "[1] \"auc: 0.724979647069178\"\n",
      "[1] \"O/E 比率: 0.991372280696553\"\n",
      "[1] \"c_slope: 1.10556114987954\"\n",
      "[1] \"Brier 分数: 0.143348850791388\"\n"
     ]
    },
    {
     "name": "stderr",
     "output_type": "stream",
     "text": [
      "Setting levels: control = 0, case = 1\n",
      "\n",
      "Setting direction: controls < cases\n",
      "\n"
     ]
    },
    {
     "name": "stdout",
     "output_type": "stream",
     "text": [
      "[1] \"auc: 0.722399087968667\"\n",
      "[1] \"O/E 比率: 1.00540832484557\"\n",
      "[1] \"c_slope: 1.07943897431315\"\n",
      "[1] \"Brier 分数: 0.143983505422646\"\n"
     ]
    },
    {
     "name": "stderr",
     "output_type": "stream",
     "text": [
      "Setting levels: control = 0, case = 1\n",
      "\n",
      "Setting direction: controls < cases\n",
      "\n"
     ]
    },
    {
     "name": "stdout",
     "output_type": "stream",
     "text": [
      "[1] \"auc: 0.724779211956522\"\n",
      "[1] \"O/E 比率: 0.971688917681534\"\n",
      "[1] \"c_slope: 1.12484319642271\"\n",
      "[1] \"Brier 分数: 0.143471617644424\"\n"
     ]
    },
    {
     "name": "stderr",
     "output_type": "stream",
     "text": [
      "Setting levels: control = 0, case = 1\n",
      "\n",
      "Setting direction: controls < cases\n",
      "\n"
     ]
    },
    {
     "name": "stdout",
     "output_type": "stream",
     "text": [
      "[1] \"auc: 0.72467882250044\"\n",
      "[1] \"O/E 比率: 0.994476753906321\"\n",
      "[1] \"c_slope: 1.09326893881404\"\n",
      "[1] \"Brier 分数: 0.143668781779312\"\n"
     ]
    },
    {
     "name": "stderr",
     "output_type": "stream",
     "text": [
      "Setting levels: control = 0, case = 1\n",
      "\n",
      "Setting direction: controls < cases\n",
      "\n"
     ]
    },
    {
     "name": "stdout",
     "output_type": "stream",
     "text": [
      "[1] \"auc: 0.721971401381799\"\n",
      "[1] \"O/E 比率: 0.99598707285921\"\n",
      "[1] \"c_slope: 1.13579432994929\"\n",
      "[1] \"Brier 分数: 0.144110918500129\"\n"
     ]
    },
    {
     "name": "stderr",
     "output_type": "stream",
     "text": [
      "Setting levels: control = 0, case = 1\n",
      "\n",
      "Setting direction: controls < cases\n",
      "\n"
     ]
    },
    {
     "name": "stdout",
     "output_type": "stream",
     "text": [
      "[1] \"auc: 0.721381097628058\"\n",
      "[1] \"O/E 比率: 1.01531594019636\"\n",
      "[1] \"c_slope: 1.10918397061346\"\n",
      "[1] \"Brier 分数: 0.143919090708821\"\n"
     ]
    },
    {
     "name": "stderr",
     "output_type": "stream",
     "text": [
      "Setting levels: control = 0, case = 1\n",
      "\n",
      "Setting direction: controls < cases\n",
      "\n"
     ]
    },
    {
     "name": "stdout",
     "output_type": "stream",
     "text": [
      "[1] \"auc: 0.722711945520155\"\n",
      "[1] \"O/E 比率: 1.00235323325075\"\n",
      "[1] \"c_slope: 1.13528319653561\"\n",
      "[1] \"Brier 分数: 0.143984866270889\"\n"
     ]
    },
    {
     "name": "stderr",
     "output_type": "stream",
     "text": [
      "Setting levels: control = 0, case = 1\n",
      "\n",
      "Setting direction: controls < cases\n",
      "\n"
     ]
    },
    {
     "name": "stdout",
     "output_type": "stream",
     "text": [
      "[1] \"auc: 0.723212173803028\"\n",
      "[1] \"O/E 比率: 1.00550345883036\"\n",
      "[1] \"c_slope: 1.07575614430566\"\n",
      "[1] \"Brier 分数: 0.143957210857818\"\n"
     ]
    },
    {
     "name": "stderr",
     "output_type": "stream",
     "text": [
      "Setting levels: control = 0, case = 1\n",
      "\n",
      "Setting direction: controls < cases\n",
      "\n"
     ]
    },
    {
     "name": "stdout",
     "output_type": "stream",
     "text": [
      "[1] \"auc: 0.722469223068122\"\n",
      "[1] \"O/E 比率: 1.02005891754708\"\n",
      "[1] \"c_slope: 1.0700524262123\"\n",
      "[1] \"Brier 分数: 0.143620374744086\"\n"
     ]
    },
    {
     "name": "stderr",
     "output_type": "stream",
     "text": [
      "Setting levels: control = 0, case = 1\n",
      "\n",
      "Setting direction: controls < cases\n",
      "\n"
     ]
    },
    {
     "name": "stdout",
     "output_type": "stream",
     "text": [
      "[1] \"auc: 0.720359669292378\"\n",
      "[1] \"O/E 比率: 0.964234872216952\"\n",
      "[1] \"c_slope: 1.0802167137517\"\n",
      "[1] \"Brier 分数: 0.143924627448354\"\n"
     ]
    },
    {
     "name": "stderr",
     "output_type": "stream",
     "text": [
      "Setting levels: control = 0, case = 1\n",
      "\n",
      "Setting direction: controls < cases\n",
      "\n"
     ]
    },
    {
     "name": "stdout",
     "output_type": "stream",
     "text": [
      "[1] \"auc: 0.725144327033093\"\n",
      "[1] \"O/E 比率: 0.982603249417746\"\n",
      "[1] \"c_slope: 1.09669757076942\"\n",
      "[1] \"Brier 分数: 0.143256145791944\"\n"
     ]
    },
    {
     "name": "stderr",
     "output_type": "stream",
     "text": [
      "Setting levels: control = 0, case = 1\n",
      "\n",
      "Setting direction: controls < cases\n",
      "\n"
     ]
    },
    {
     "name": "stdout",
     "output_type": "stream",
     "text": [
      "[1] \"auc: 0.717997422878895\"\n",
      "[1] \"O/E 比率: 0.978148586504307\"\n",
      "[1] \"c_slope: 1.12259127505801\"\n",
      "[1] \"Brier 分数: 0.144592367658967\"\n"
     ]
    },
    {
     "name": "stderr",
     "output_type": "stream",
     "text": [
      "Setting levels: control = 0, case = 1\n",
      "\n",
      "Setting direction: controls < cases\n",
      "\n"
     ]
    },
    {
     "name": "stdout",
     "output_type": "stream",
     "text": [
      "[1] \"auc: 0.725603986974124\"\n",
      "[1] \"O/E 比率: 0.9849631765005\"\n",
      "[1] \"c_slope: 1.10897637834797\"\n",
      "[1] \"Brier 分数: 0.14292710363982\"\n"
     ]
    },
    {
     "name": "stderr",
     "output_type": "stream",
     "text": [
      "Setting levels: control = 0, case = 1\n",
      "\n",
      "Setting direction: controls < cases\n",
      "\n"
     ]
    },
    {
     "name": "stdout",
     "output_type": "stream",
     "text": [
      "[1] \"auc: 0.723206673010914\"\n",
      "[1] \"O/E 比率: 0.954972408959757\"\n",
      "[1] \"c_slope: 1.1444175782772\"\n",
      "[1] \"Brier 分数: 0.144259697956428\"\n"
     ]
    },
    {
     "name": "stderr",
     "output_type": "stream",
     "text": [
      "Setting levels: control = 0, case = 1\n",
      "\n",
      "Setting direction: controls < cases\n",
      "\n"
     ]
    },
    {
     "name": "stdout",
     "output_type": "stream",
     "text": [
      "[1] \"auc: 0.71484134340345\"\n",
      "[1] \"O/E 比率: 1.03736290445294\"\n",
      "[1] \"c_slope: 1.05255583780441\"\n",
      "[1] \"Brier 分数: 0.144879901027266\"\n"
     ]
    },
    {
     "name": "stderr",
     "output_type": "stream",
     "text": [
      "Setting levels: control = 0, case = 1\n",
      "\n",
      "Setting direction: controls < cases\n",
      "\n"
     ]
    },
    {
     "name": "stdout",
     "output_type": "stream",
     "text": [
      "[1] \"auc: 0.720291596989967\"\n",
      "[1] \"O/E 比率: 0.998961717300628\"\n",
      "[1] \"c_slope: 1.21663520116738\"\n",
      "[1] \"Brier 分数: 0.144445319781116\"\n"
     ]
    },
    {
     "name": "stderr",
     "output_type": "stream",
     "text": [
      "Setting levels: control = 0, case = 1\n",
      "\n",
      "Setting direction: controls < cases\n",
      "\n"
     ]
    },
    {
     "name": "stdout",
     "output_type": "stream",
     "text": [
      "[1] \"auc: 0.723245178555712\"\n",
      "[1] \"O/E 比率: 0.980400185007192\"\n",
      "[1] \"c_slope: 1.0457506503564\"\n",
      "[1] \"Brier 分数: 0.143745812122019\"\n"
     ]
    },
    {
     "name": "stderr",
     "output_type": "stream",
     "text": [
      "Setting levels: control = 0, case = 1\n",
      "\n",
      "Setting direction: controls < cases\n",
      "\n"
     ]
    },
    {
     "name": "stdout",
     "output_type": "stream",
     "text": [
      "[1] \"auc: 0.718350161173209\"\n",
      "[1] \"O/E 比率: 0.972621220196228\"\n",
      "[1] \"c_slope: 1.10192021917053\"\n",
      "[1] \"Brier 分数: 0.144257857987129\"\n"
     ]
    },
    {
     "name": "stderr",
     "output_type": "stream",
     "text": [
      "Setting levels: control = 0, case = 1\n",
      "\n",
      "Setting direction: controls < cases\n",
      "\n"
     ]
    },
    {
     "name": "stdout",
     "output_type": "stream",
     "text": [
      "[1] \"auc: 0.722814053973772\"\n",
      "[1] \"O/E 比率: 0.991854862759129\"\n",
      "[1] \"c_slope: 1.08449159280899\"\n",
      "[1] \"Brier 分数: 0.143904659511432\"\n"
     ]
    },
    {
     "name": "stderr",
     "output_type": "stream",
     "text": [
      "Setting levels: control = 0, case = 1\n",
      "\n",
      "Setting direction: controls < cases\n",
      "\n"
     ]
    },
    {
     "name": "stdout",
     "output_type": "stream",
     "text": [
      "[1] \"auc: 0.72336757118025\"\n",
      "[1] \"O/E 比率: 0.949763417604259\"\n",
      "[1] \"c_slope: 1.0515452562262\"\n",
      "[1] \"Brier 分数: 0.143784974914463\"\n"
     ]
    },
    {
     "name": "stderr",
     "output_type": "stream",
     "text": [
      "Setting levels: control = 0, case = 1\n",
      "\n",
      "Setting direction: controls < cases\n",
      "\n"
     ]
    },
    {
     "name": "stdout",
     "output_type": "stream",
     "text": [
      "[1] \"auc: 0.727656126232177\"\n",
      "[1] \"O/E 比率: 0.973289711534573\"\n",
      "[1] \"c_slope: 1.10039592435388\"\n",
      "[1] \"Brier 分数: 0.142911434470922\"\n"
     ]
    },
    {
     "name": "stderr",
     "output_type": "stream",
     "text": [
      "Setting levels: control = 0, case = 1\n",
      "\n",
      "Setting direction: controls < cases\n",
      "\n"
     ]
    },
    {
     "name": "stdout",
     "output_type": "stream",
     "text": [
      "[1] \"auc: 0.720734754554656\"\n",
      "[1] \"O/E 比率: 1.00764157212113\"\n",
      "[1] \"c_slope: 1.09325900554912\"\n",
      "[1] \"Brier 分数: 0.144628792522251\"\n"
     ]
    },
    {
     "name": "stderr",
     "output_type": "stream",
     "text": [
      "Setting levels: control = 0, case = 1\n",
      "\n",
      "Setting direction: controls < cases\n",
      "\n"
     ]
    },
    {
     "name": "stdout",
     "output_type": "stream",
     "text": [
      "[1] \"auc: 0.725048406970604\"\n",
      "[1] \"O/E 比率: 1.01627552825784\"\n",
      "[1] \"c_slope: 1.04322139589086\"\n",
      "[1] \"Brier 分数: 0.142685670865327\"\n"
     ]
    },
    {
     "name": "stderr",
     "output_type": "stream",
     "text": [
      "Setting levels: control = 0, case = 1\n",
      "\n",
      "Setting direction: controls < cases\n",
      "\n"
     ]
    },
    {
     "name": "stdout",
     "output_type": "stream",
     "text": [
      "[1] \"auc: 0.722995236314029\"\n",
      "[1] \"O/E 比率: 1.00643555744629\"\n",
      "[1] \"c_slope: 1.18244905083601\"\n",
      "[1] \"Brier 分数: 0.143556040070978\"\n"
     ]
    },
    {
     "name": "stderr",
     "output_type": "stream",
     "text": [
      "Setting levels: control = 0, case = 1\n",
      "\n",
      "Setting direction: controls < cases\n",
      "\n"
     ]
    },
    {
     "name": "stdout",
     "output_type": "stream",
     "text": [
      "[1] \"auc: 0.729541178929766\"\n",
      "[1] \"O/E 比率: 0.992561501966409\"\n",
      "[1] \"c_slope: 1.08881634099527\"\n",
      "[1] \"Brier 分数: 0.142542094640726\"\n"
     ]
    },
    {
     "name": "stderr",
     "output_type": "stream",
     "text": [
      "Setting levels: control = 0, case = 1\n",
      "\n",
      "Setting direction: controls < cases\n",
      "\n"
     ]
    },
    {
     "name": "stdout",
     "output_type": "stream",
     "text": [
      "[1] \"auc: 0.722890377464355\"\n",
      "[1] \"O/E 比率: 1.01547943430027\"\n",
      "[1] \"c_slope: 1.10542536202159\"\n",
      "[1] \"Brier 分数: 0.143774405081597\"\n"
     ]
    },
    {
     "name": "stderr",
     "output_type": "stream",
     "text": [
      "Setting levels: control = 0, case = 1\n",
      "\n",
      "Setting direction: controls < cases\n",
      "\n"
     ]
    },
    {
     "name": "stdout",
     "output_type": "stream",
     "text": [
      "[1] \"auc: 0.721087149049463\"\n",
      "[1] \"O/E 比率: 1.0100751049759\"\n",
      "[1] \"c_slope: 1.10170005432264\"\n",
      "[1] \"Brier 分数: 0.144577748171385\"\n"
     ]
    },
    {
     "name": "stderr",
     "output_type": "stream",
     "text": [
      "Setting levels: control = 0, case = 1\n",
      "\n",
      "Setting direction: controls < cases\n",
      "\n"
     ]
    },
    {
     "name": "stdout",
     "output_type": "stream",
     "text": [
      "[1] \"auc: 0.721575344349586\"\n",
      "[1] \"O/E 比率: 0.969101598181039\"\n",
      "[1] \"c_slope: 1.15972070491577\"\n",
      "[1] \"Brier 分数: 0.14400134783729\"\n"
     ]
    },
    {
     "name": "stderr",
     "output_type": "stream",
     "text": [
      "Setting levels: control = 0, case = 1\n",
      "\n",
      "Setting direction: controls < cases\n",
      "\n"
     ]
    },
    {
     "name": "stdout",
     "output_type": "stream",
     "text": [
      "[1] \"auc: 0.722237502200317\"\n",
      "[1] \"O/E 比率: 1.00289028647603\"\n",
      "[1] \"c_slope: 1.07621274639486\"\n",
      "[1] \"Brier 分数: 0.143559034209054\"\n"
     ]
    },
    {
     "name": "stderr",
     "output_type": "stream",
     "text": [
      "Setting levels: control = 0, case = 1\n",
      "\n",
      "Setting direction: controls < cases\n",
      "\n"
     ]
    },
    {
     "name": "stdout",
     "output_type": "stream",
     "text": [
      "[1] \"auc: 0.720016557384263\"\n",
      "[1] \"O/E 比率: 0.984855536193567\"\n",
      "[1] \"c_slope: 1.1305696132123\"\n",
      "[1] \"Brier 分数: 0.144168446235981\"\n"
     ]
    },
    {
     "name": "stderr",
     "output_type": "stream",
     "text": [
      "Setting levels: control = 0, case = 1\n",
      "\n",
      "Setting direction: controls < cases\n",
      "\n"
     ]
    },
    {
     "name": "stdout",
     "output_type": "stream",
     "text": [
      "[1] \"auc: 0.723380979361028\"\n",
      "[1] \"O/E 比率: 1.02318779484819\"\n",
      "[1] \"c_slope: 1.02363762559788\"\n",
      "[1] \"Brier 分数: 0.143964556844885\"\n"
     ]
    },
    {
     "name": "stderr",
     "output_type": "stream",
     "text": [
      "Setting levels: control = 0, case = 1\n",
      "\n",
      "Setting direction: controls < cases\n",
      "\n"
     ]
    },
    {
     "name": "stdout",
     "output_type": "stream",
     "text": [
      "[1] \"auc: 0.72115453375286\"\n",
      "[1] \"O/E 比率: 1.00154318680492\"\n",
      "[1] \"c_slope: 1.06878933102484\"\n",
      "[1] \"Brier 分数: 0.14407275237302\"\n"
     ]
    },
    {
     "name": "stderr",
     "output_type": "stream",
     "text": [
      "Setting levels: control = 0, case = 1\n",
      "\n",
      "Setting direction: controls < cases\n",
      "\n"
     ]
    },
    {
     "name": "stdout",
     "output_type": "stream",
     "text": [
      "[1] \"auc: 0.722912036833304\"\n",
      "[1] \"O/E 比率: 0.991337140189741\"\n",
      "[1] \"c_slope: 1.13325479352469\"\n",
      "[1] \"Brier 分数: 0.144000491239306\"\n"
     ]
    },
    {
     "name": "stderr",
     "output_type": "stream",
     "text": [
      "Setting levels: control = 0, case = 1\n",
      "\n",
      "Setting direction: controls < cases\n",
      "\n"
     ]
    },
    {
     "name": "stdout",
     "output_type": "stream",
     "text": [
      "[1] \"auc: 0.724168967831368\"\n",
      "[1] \"O/E 比率: 0.977587732724393\"\n",
      "[1] \"c_slope: 1.07025025737526\"\n",
      "[1] \"Brier 分数: 0.143388659380034\"\n"
     ]
    },
    {
     "name": "stderr",
     "output_type": "stream",
     "text": [
      "Setting levels: control = 0, case = 1\n",
      "\n",
      "Setting direction: controls < cases\n",
      "\n"
     ]
    },
    {
     "name": "stdout",
     "output_type": "stream",
     "text": [
      "[1] \"auc: 0.720328383537229\"\n",
      "[1] \"O/E 比率: 0.971915066012508\"\n",
      "[1] \"c_slope: 1.09011841553975\"\n",
      "[1] \"Brier 分数: 0.144124611422515\"\n"
     ]
    },
    {
     "name": "stderr",
     "output_type": "stream",
     "text": [
      "Setting levels: control = 0, case = 1\n",
      "\n",
      "Setting direction: controls < cases\n",
      "\n"
     ]
    },
    {
     "name": "stdout",
     "output_type": "stream",
     "text": [
      "[1] \"auc: 0.723910774401514\"\n",
      "[1] \"O/E 比率: 0.944190051447242\"\n",
      "[1] \"c_slope: 1.06799731023777\"\n",
      "[1] \"Brier 分数: 0.143981589138327\"\n"
     ]
    },
    {
     "name": "stderr",
     "output_type": "stream",
     "text": [
      "Setting levels: control = 0, case = 1\n",
      "\n",
      "Setting direction: controls < cases\n",
      "\n"
     ]
    },
    {
     "name": "stdout",
     "output_type": "stream",
     "text": [
      "[1] \"auc: 0.721993748349762\"\n",
      "[1] \"O/E 比率: 1.01044075896397\"\n",
      "[1] \"c_slope: 1.11485912712844\"\n",
      "[1] \"Brier 分数: 0.143751232449143\"\n"
     ]
    },
    {
     "name": "stderr",
     "output_type": "stream",
     "text": [
      "Setting levels: control = 0, case = 1\n",
      "\n",
      "Setting direction: controls < cases\n",
      "\n"
     ]
    },
    {
     "name": "stdout",
     "output_type": "stream",
     "text": [
      "[1] \"auc: 0.720558729207006\"\n",
      "[1] \"O/E 比率: 0.94816288545251\"\n",
      "[1] \"c_slope: 1.08854126649024\"\n",
      "[1] \"Brier 分数: 0.144122906191288\"\n"
     ]
    },
    {
     "name": "stderr",
     "output_type": "stream",
     "text": [
      "Setting levels: control = 0, case = 1\n",
      "\n",
      "Setting direction: controls < cases\n",
      "\n"
     ]
    },
    {
     "name": "stdout",
     "output_type": "stream",
     "text": [
      "[1] \"auc: 0.721725584734202\"\n",
      "[1] \"O/E 比率: 1.02540704367809\"\n",
      "[1] \"c_slope: 1.18678456183623\"\n",
      "[1] \"Brier 分数: 0.144452905842308\"\n"
     ]
    },
    {
     "name": "stderr",
     "output_type": "stream",
     "text": [
      "Setting levels: control = 0, case = 1\n",
      "\n",
      "Setting direction: controls < cases\n",
      "\n"
     ]
    },
    {
     "name": "stdout",
     "output_type": "stream",
     "text": [
      "[1] \"auc: 0.721817379202605\"\n",
      "[1] \"O/E 比率: 0.989057360113105\"\n",
      "[1] \"c_slope: 1.14871530916814\"\n",
      "[1] \"Brier 分数: 0.144059781179901\"\n"
     ]
    },
    {
     "name": "stderr",
     "output_type": "stream",
     "text": [
      "Setting levels: control = 0, case = 1\n",
      "\n",
      "Setting direction: controls < cases\n",
      "\n"
     ]
    },
    {
     "name": "stdout",
     "output_type": "stream",
     "text": [
      "[1] \"auc: 0.720616143724696\"\n",
      "[1] \"O/E 比率: 1.00714019084503\"\n",
      "[1] \"c_slope: 1.08970369017101\"\n",
      "[1] \"Brier 分数: 0.144355438952175\"\n"
     ]
    },
    {
     "name": "stderr",
     "output_type": "stream",
     "text": [
      "Setting levels: control = 0, case = 1\n",
      "\n",
      "Setting direction: controls < cases\n",
      "\n"
     ]
    },
    {
     "name": "stdout",
     "output_type": "stream",
     "text": [
      "[1] \"auc: 0.722562048935047\"\n",
      "[1] \"O/E 比率: 1.04037378688287\"\n",
      "[1] \"c_slope: 1.12411296859687\"\n",
      "[1] \"Brier 分数: 0.143781815536379\"\n"
     ]
    },
    {
     "name": "stderr",
     "output_type": "stream",
     "text": [
      "Setting levels: control = 0, case = 1\n",
      "\n",
      "Setting direction: controls < cases\n",
      "\n"
     ]
    },
    {
     "name": "stdout",
     "output_type": "stream",
     "text": [
      "[1] \"auc: 0.722598147883295\"\n",
      "[1] \"O/E 比率: 0.979243851772451\"\n",
      "[1] \"c_slope: 1.07075699944265\"\n",
      "[1] \"Brier 分数: 0.144079394723077\"\n"
     ]
    },
    {
     "name": "stderr",
     "output_type": "stream",
     "text": [
      "Setting levels: control = 0, case = 1\n",
      "\n",
      "Setting direction: controls < cases\n",
      "\n"
     ]
    },
    {
     "name": "stdout",
     "output_type": "stream",
     "text": [
      "[1] \"auc: 0.719506702715191\"\n",
      "[1] \"O/E 比率: 1.01786073915512\"\n",
      "[1] \"c_slope: 1.10084011591777\"\n",
      "[1] \"Brier 分数: 0.144417392114734\"\n"
     ]
    },
    {
     "name": "stderr",
     "output_type": "stream",
     "text": [
      "Setting levels: control = 0, case = 1\n",
      "\n",
      "Setting direction: controls < cases\n",
      "\n"
     ]
    },
    {
     "name": "stdout",
     "output_type": "stream",
     "text": [
      "[1] \"auc: 0.723361726588629\"\n",
      "[1] \"O/E 比率: 0.996527458589742\"\n",
      "[1] \"c_slope: 1.10963260323917\"\n",
      "[1] \"Brier 分数: 0.144061049063116\"\n"
     ]
    },
    {
     "name": "stderr",
     "output_type": "stream",
     "text": [
      "Setting levels: control = 0, case = 1\n",
      "\n",
      "Setting direction: controls < cases\n",
      "\n"
     ]
    },
    {
     "name": "stdout",
     "output_type": "stream",
     "text": [
      "[1] \"auc: 0.725505316515578\"\n",
      "[1] \"O/E 比率: 0.941497928946967\"\n",
      "[1] \"c_slope: 1.10853853685473\"\n",
      "[1] \"Brier 分数: 0.143963219772121\"\n"
     ]
    },
    {
     "name": "stderr",
     "output_type": "stream",
     "text": [
      "Setting levels: control = 0, case = 1\n",
      "\n",
      "Setting direction: controls < cases\n",
      "\n"
     ]
    },
    {
     "name": "stdout",
     "output_type": "stream",
     "text": [
      "[1] \"auc: 0.721874106121281\"\n",
      "[1] \"O/E 比率: 0.976340445525105\"\n",
      "[1] \"c_slope: 1.10452885683486\"\n",
      "[1] \"Brier 分数: 0.143641071026351\"\n"
     ]
    },
    {
     "name": "stderr",
     "output_type": "stream",
     "text": [
      "Setting levels: control = 0, case = 1\n",
      "\n",
      "Setting direction: controls < cases\n",
      "\n"
     ]
    },
    {
     "name": "stdout",
     "output_type": "stream",
     "text": [
      "[1] \"auc: 0.719644910117057\"\n",
      "[1] \"O/E 比率: 0.956098432004158\"\n",
      "[1] \"c_slope: 1.05299666099676\"\n",
      "[1] \"Brier 分数: 0.144105682857348\"\n"
     ]
    },
    {
     "name": "stderr",
     "output_type": "stream",
     "text": [
      "Setting levels: control = 0, case = 1\n",
      "\n",
      "Setting direction: controls < cases\n",
      "\n"
     ]
    },
    {
     "name": "stdout",
     "output_type": "stream",
     "text": [
      "[1] \"auc: 0.723686273323359\"\n",
      "[1] \"O/E 比率: 1.00621105782593\"\n",
      "[1] \"c_slope: 1.12556048505355\"\n",
      "[1] \"Brier 分数: 0.143774465112225\"\n"
     ]
    },
    {
     "name": "stderr",
     "output_type": "stream",
     "text": [
      "Setting levels: control = 0, case = 1\n",
      "\n",
      "Setting direction: controls < cases\n",
      "\n"
     ]
    },
    {
     "name": "stdout",
     "output_type": "stream",
     "text": [
      "[1] \"auc: 0.720672870643373\"\n",
      "[1] \"O/E 比率: 0.971449235208305\"\n",
      "[1] \"c_slope: 1.1461186243591\"\n",
      "[1] \"Brier 分数: 0.144334250300196\"\n"
     ]
    },
    {
     "name": "stderr",
     "output_type": "stream",
     "text": [
      "Setting levels: control = 0, case = 1\n",
      "\n",
      "Setting direction: controls < cases\n",
      "\n"
     ]
    },
    {
     "name": "stdout",
     "output_type": "stream",
     "text": [
      "[1] \"auc: 0.721537182604295\"\n",
      "[1] \"O/E 比率: 0.978200369356852\"\n",
      "[1] \"c_slope: 1.04851331923822\"\n",
      "[1] \"Brier 分数: 0.143997795488005\"\n"
     ]
    },
    {
     "name": "stderr",
     "output_type": "stream",
     "text": [
      "Setting levels: control = 0, case = 1\n",
      "\n",
      "Setting direction: controls < cases\n",
      "\n"
     ]
    },
    {
     "name": "stdout",
     "output_type": "stream",
     "text": [
      "[1] \"auc: 0.724661976324591\"\n",
      "[1] \"O/E 比率: 0.98443797183442\"\n",
      "[1] \"c_slope: 1.16314134137389\"\n",
      "[1] \"Brier 分数: 0.143401327257327\"\n"
     ]
    },
    {
     "name": "stderr",
     "output_type": "stream",
     "text": [
      "Setting levels: control = 0, case = 1\n",
      "\n",
      "Setting direction: controls < cases\n",
      "\n"
     ]
    },
    {
     "name": "stdout",
     "output_type": "stream",
     "text": [
      "[1] \"auc: 0.722010594525612\"\n",
      "[1] \"O/E 比率: 0.978569162040726\"\n",
      "[1] \"c_slope: 1.12608380918978\"\n",
      "[1] \"Brier 分数: 0.14426881166179\"\n"
     ]
    },
    {
     "name": "stderr",
     "output_type": "stream",
     "text": [
      "Setting levels: control = 0, case = 1\n",
      "\n",
      "Setting direction: controls < cases\n",
      "\n"
     ]
    },
    {
     "name": "stdout",
     "output_type": "stream",
     "text": [
      "[1] \"auc: 0.719436911415244\"\n",
      "[1] \"O/E 比率: 0.98433587014656\"\n",
      "[1] \"c_slope: 1.11154128114508\"\n",
      "[1] \"Brier 分数: 0.144332701758602\"\n"
     ]
    },
    {
     "name": "stderr",
     "output_type": "stream",
     "text": [
      "Setting levels: control = 0, case = 1\n",
      "\n",
      "Setting direction: controls < cases\n",
      "\n"
     ]
    },
    {
     "name": "stdout",
     "output_type": "stream",
     "text": [
      "[1] \"auc: 0.720733379356627\"\n",
      "[1] \"O/E 比率: 1.00179850790632\"\n",
      "[1] \"c_slope: 1.09737140218739\"\n",
      "[1] \"Brier 分数: 0.144317090092462\"\n"
     ]
    },
    {
     "name": "stderr",
     "output_type": "stream",
     "text": [
      "Setting levels: control = 0, case = 1\n",
      "\n",
      "Setting direction: controls < cases\n",
      "\n"
     ]
    },
    {
     "name": "stdout",
     "output_type": "stream",
     "text": [
      "[1] \"auc: 0.718802601324591\"\n",
      "[1] \"O/E 比率: 0.999570324941368\"\n",
      "[1] \"c_slope: 1.04288155621\"\n",
      "[1] \"Brier 分数: 0.144237691674618\"\n"
     ]
    },
    {
     "name": "stderr",
     "output_type": "stream",
     "text": [
      "Setting levels: control = 0, case = 1\n",
      "\n",
      "Setting direction: controls < cases\n",
      "\n"
     ]
    },
    {
     "name": "stdout",
     "output_type": "stream",
     "text": [
      "[1] \"auc: 0.71977383493223\"\n",
      "[1] \"O/E 比率: 0.985898107355456\"\n",
      "[1] \"c_slope: 1.06995791916777\"\n",
      "[1] \"Brier 分数: 0.144396713022508\"\n"
     ]
    },
    {
     "name": "stderr",
     "output_type": "stream",
     "text": [
      "Setting levels: control = 0, case = 1\n",
      "\n",
      "Setting direction: controls < cases\n",
      "\n"
     ]
    },
    {
     "name": "stdout",
     "output_type": "stream",
     "text": [
      "[1] \"auc: 0.725106165287801\"\n",
      "[1] \"O/E 比率: 1.00293000629746\"\n",
      "[1] \"c_slope: 1.15294995452\"\n",
      "[1] \"Brier 分数: 0.143348391851212\"\n"
     ]
    },
    {
     "name": "stderr",
     "output_type": "stream",
     "text": [
      "Setting levels: control = 0, case = 1\n",
      "\n",
      "Setting direction: controls < cases\n",
      "\n"
     ]
    },
    {
     "name": "stdout",
     "output_type": "stream",
     "text": [
      "[1] \"auc: 0.722717446312269\"\n",
      "[1] \"O/E 比率: 0.950047061663972\"\n",
      "[1] \"c_slope: 1.07431308152847\"\n",
      "[1] \"Brier 分数: 0.143699895415695\"\n"
     ]
    },
    {
     "name": "stderr",
     "output_type": "stream",
     "text": [
      "Setting levels: control = 0, case = 1\n",
      "\n",
      "Setting direction: controls < cases\n",
      "\n"
     ]
    },
    {
     "name": "stdout",
     "output_type": "stream",
     "text": [
      "[1] \"auc: 0.722910317835768\"\n",
      "[1] \"O/E 比率: 0.979330762271672\"\n",
      "[1] \"c_slope: 1.16416905675234\"\n",
      "[1] \"Brier 分数: 0.143934595561912\"\n"
     ]
    },
    {
     "name": "stderr",
     "output_type": "stream",
     "text": [
      "Setting levels: control = 0, case = 1\n",
      "\n",
      "Setting direction: controls < cases\n",
      "\n"
     ]
    },
    {
     "name": "stdout",
     "output_type": "stream",
     "text": [
      "[1] \"auc: 0.720930376474212\"\n",
      "[1] \"O/E 比率: 1.042780865231\"\n",
      "[1] \"c_slope: 1.05291210174\"\n",
      "[1] \"Brier 分数: 0.144354305039894\"\n"
     ]
    },
    {
     "name": "stderr",
     "output_type": "stream",
     "text": [
      "Setting levels: control = 0, case = 1\n",
      "\n",
      "Setting direction: controls < cases\n",
      "\n"
     ]
    },
    {
     "name": "stdout",
     "output_type": "stream",
     "text": [
      "[1] \"auc: 0.722196933858476\"\n",
      "[1] \"O/E 比率: 1.00537090481105\"\n",
      "[1] \"c_slope: 1.07077706219606\"\n",
      "[1] \"Brier 分数: 0.143570023386428\"\n"
     ]
    },
    {
     "name": "stderr",
     "output_type": "stream",
     "text": [
      "Setting levels: control = 0, case = 1\n",
      "\n",
      "Setting direction: controls < cases\n",
      "\n"
     ]
    },
    {
     "name": "stdout",
     "output_type": "stream",
     "text": [
      "[1] \"auc: 0.721010825558881\"\n",
      "[1] \"O/E 比率: 0.99870956180206\"\n",
      "[1] \"c_slope: 1.04615584697433\"\n",
      "[1] \"Brier 分数: 0.144380046232771\"\n"
     ]
    },
    {
     "name": "stderr",
     "output_type": "stream",
     "text": [
      "Setting levels: control = 0, case = 1\n",
      "\n",
      "Setting direction: controls < cases\n",
      "\n"
     ]
    },
    {
     "name": "stdout",
     "output_type": "stream",
     "text": [
      "[1] \"auc: 0.720537757437071\"\n",
      "[1] \"O/E 比率: 1.03538325608416\"\n",
      "[1] \"c_slope: 1.0560155767652\"\n",
      "[1] \"Brier 分数: 0.144095831209163\"\n"
     ]
    },
    {
     "name": "stderr",
     "output_type": "stream",
     "text": [
      "Setting levels: control = 0, case = 1\n",
      "\n",
      "Setting direction: controls < cases\n",
      "\n"
     ]
    },
    {
     "name": "stdout",
     "output_type": "stream",
     "text": [
      "[1] \"auc: 0.723041649247492\"\n",
      "[1] \"O/E 比率: 0.991369706367484\"\n",
      "[1] \"c_slope: 1.10510747551465\"\n",
      "[1] \"Brier 分数: 0.14360156831229\"\n"
     ]
    },
    {
     "name": "stderr",
     "output_type": "stream",
     "text": [
      "Setting levels: control = 0, case = 1\n",
      "\n",
      "Setting direction: controls < cases\n",
      "\n"
     ]
    },
    {
     "name": "stdout",
     "output_type": "stream",
     "text": [
      "[1] \"auc: 0.721006012365781\"\n",
      "[1] \"O/E 比率: 0.971535019180367\"\n",
      "[1] \"c_slope: 1.12615730632483\"\n",
      "[1] \"Brier 分数: 0.144241787053388\"\n"
     ]
    },
    {
     "name": "stderr",
     "output_type": "stream",
     "text": [
      "Setting levels: control = 0, case = 1\n",
      "\n",
      "Setting direction: controls < cases\n",
      "\n"
     ]
    },
    {
     "name": "stdout",
     "output_type": "stream",
     "text": [
      "[1] \"auc: 0.717774296998768\"\n",
      "[1] \"O/E 比率: 0.977667806407679\"\n",
      "[1] \"c_slope: 1.06159895272242\"\n",
      "[1] \"Brier 分数: 0.14444689365713\"\n"
     ]
    },
    {
     "name": "stderr",
     "output_type": "stream",
     "text": [
      "Setting levels: control = 0, case = 1\n",
      "\n",
      "Setting direction: controls < cases\n",
      "\n"
     ]
    },
    {
     "name": "stdout",
     "output_type": "stream",
     "text": [
      "[1] \"auc: 0.720443900171625\"\n",
      "[1] \"O/E 比率: 1.01860887537113\"\n",
      "[1] \"c_slope: 1.11340090698949\"\n",
      "[1] \"Brier 分数: 0.144430965521599\"\n"
     ]
    },
    {
     "name": "stderr",
     "output_type": "stream",
     "text": [
      "Setting levels: control = 0, case = 1\n",
      "\n",
      "Setting direction: controls < cases\n",
      "\n"
     ]
    },
    {
     "name": "stdout",
     "output_type": "stream",
     "text": [
      "[1] \"auc: 0.717869529462243\"\n",
      "[1] \"O/E 比率: 0.963837094918434\"\n",
      "[1] \"c_slope: 1.04570880741827\"\n",
      "[1] \"Brier 分数: 0.144672737273597\"\n"
     ]
    },
    {
     "name": "stderr",
     "output_type": "stream",
     "text": [
      "Setting levels: control = 0, case = 1\n",
      "\n",
      "Setting direction: controls < cases\n",
      "\n"
     ]
    },
    {
     "name": "stdout",
     "output_type": "stream",
     "text": [
      "[1] \"auc: 0.720381672460834\"\n",
      "[1] \"O/E 比率: 0.978377506628061\"\n",
      "[1] \"c_slope: 1.09390026583093\"\n",
      "[1] \"Brier 分数: 0.143681664991348\"\n"
     ]
    },
    {
     "name": "stderr",
     "output_type": "stream",
     "text": [
      "Setting levels: control = 0, case = 1\n",
      "\n",
      "Setting direction: controls < cases\n",
      "\n"
     ]
    },
    {
     "name": "stdout",
     "output_type": "stream",
     "text": [
      "[1] \"auc: 0.72475789638708\"\n",
      "[1] \"O/E 比率: 1.00201599180568\"\n",
      "[1] \"c_slope: 1.092405623595\"\n",
      "[1] \"Brier 分数: 0.1435962876894\"\n"
     ]
    },
    {
     "name": "stderr",
     "output_type": "stream",
     "text": [
      "Setting levels: control = 0, case = 1\n",
      "\n",
      "Setting direction: controls < cases\n",
      "\n"
     ]
    },
    {
     "name": "stdout",
     "output_type": "stream",
     "text": [
      "[1] \"auc: 0.719896571356275\"\n",
      "[1] \"O/E 比率: 1.02117212610147\"\n",
      "[1] \"c_slope: 1.12455322327685\"\n",
      "[1] \"Brier 分数: 0.143806773332373\"\n"
     ]
    },
    {
     "name": "stderr",
     "output_type": "stream",
     "text": [
      "Setting levels: control = 0, case = 1\n",
      "\n",
      "Setting direction: controls < cases\n",
      "\n"
     ]
    },
    {
     "name": "stdout",
     "output_type": "stream",
     "text": [
      "[1] \"auc: 0.72250532201637\"\n",
      "[1] \"O/E 比率: 0.974845580623561\"\n",
      "[1] \"c_slope: 1.09840232643209\"\n",
      "[1] \"Brier 分数: 0.143894238863389\"\n"
     ]
    },
    {
     "name": "stderr",
     "output_type": "stream",
     "text": [
      "Setting levels: control = 0, case = 1\n",
      "\n",
      "Setting direction: controls < cases\n",
      "\n"
     ]
    },
    {
     "name": "stdout",
     "output_type": "stream",
     "text": [
      "[1] \"auc: 0.718770284170921\"\n",
      "[1] \"O/E 比率: 0.98740434308774\"\n",
      "[1] \"c_slope: 1.06940511303426\"\n",
      "[1] \"Brier 分数: 0.144229470871464\"\n"
     ]
    },
    {
     "name": "stderr",
     "output_type": "stream",
     "text": [
      "Setting levels: control = 0, case = 1\n",
      "\n",
      "Setting direction: controls < cases\n",
      "\n"
     ]
    },
    {
     "name": "stdout",
     "output_type": "stream",
     "text": [
      "[1] \"auc: 0.725141920436543\"\n",
      "[1] \"O/E 比率: 1.01047657376472\"\n",
      "[1] \"c_slope: 1.13458275475007\"\n",
      "[1] \"Brier 分数: 0.143445567286844\"\n"
     ]
    },
    {
     "name": "stderr",
     "output_type": "stream",
     "text": [
      "Setting levels: control = 0, case = 1\n",
      "\n",
      "Setting direction: controls < cases\n",
      "\n"
     ]
    },
    {
     "name": "stdout",
     "output_type": "stream",
     "text": [
      "[1] \"auc: 0.723025834470164\"\n",
      "[1] \"O/E 比率: 0.959972583035435\"\n",
      "[1] \"c_slope: 1.01226652311779\"\n",
      "[1] \"Brier 分数: 0.14404455383963\"\n"
     ]
    },
    {
     "name": "stderr",
     "output_type": "stream",
     "text": [
      "Setting levels: control = 0, case = 1\n",
      "\n",
      "Setting direction: controls < cases\n",
      "\n"
     ]
    },
    {
     "name": "stdout",
     "output_type": "stream",
     "text": [
      "[1] \"auc: 0.718041773015314\"\n",
      "[1] \"O/E 比率: 0.990904255181074\"\n",
      "[1] \"c_slope: 1.04338759724815\"\n",
      "[1] \"Brier 分数: 0.144478504122447\"\n"
     ]
    },
    {
     "name": "stderr",
     "output_type": "stream",
     "text": [
      "Setting levels: control = 0, case = 1\n",
      "\n",
      "Setting direction: controls < cases\n",
      "\n"
     ]
    },
    {
     "name": "stdout",
     "output_type": "stream",
     "text": [
      "[1] \"auc: 0.719634252332336\"\n",
      "[1] \"O/E 比率: 0.959966045763711\"\n",
      "[1] \"c_slope: 1.04816494582394\"\n",
      "[1] \"Brier 分数: 0.143988500516579\"\n"
     ]
    },
    {
     "name": "stderr",
     "output_type": "stream",
     "text": [
      "Setting levels: control = 0, case = 1\n",
      "\n",
      "Setting direction: controls < cases\n",
      "\n"
     ]
    },
    {
     "name": "stdout",
     "output_type": "stream",
     "text": [
      "[1] \"auc: 0.721985840961098\"\n",
      "[1] \"O/E 比率: 1.0089233323162\"\n",
      "[1] \"c_slope: 1.1365570569235\"\n",
      "[1] \"Brier 分数: 0.143442060252095\"\n"
     ]
    },
    {
     "name": "stderr",
     "output_type": "stream",
     "text": [
      "Setting levels: control = 0, case = 1\n",
      "\n",
      "Setting direction: controls < cases\n",
      "\n"
     ]
    },
    {
     "name": "stdout",
     "output_type": "stream",
     "text": [
      "[1] \"auc: 0.721864135935575\"\n",
      "[1] \"O/E 比率: 1.00036464392706\"\n",
      "[1] \"c_slope: 1.10726721852382\"\n",
      "[1] \"Brier 分数: 0.143805446813243\"\n"
     ]
    },
    {
     "name": "stderr",
     "output_type": "stream",
     "text": [
      "Setting levels: control = 0, case = 1\n",
      "\n",
      "Setting direction: controls < cases\n",
      "\n"
     ]
    },
    {
     "name": "stdout",
     "output_type": "stream",
     "text": [
      "[1] \"auc: 0.721058269890864\"\n",
      "[1] \"O/E 比率: 0.976084379242245\"\n",
      "[1] \"c_slope: 1.06084036697351\"\n",
      "[1] \"Brier 分数: 0.144948157877002\"\n"
     ]
    },
    {
     "name": "stderr",
     "output_type": "stream",
     "text": [
      "Setting levels: control = 0, case = 1\n",
      "\n",
      "Setting direction: controls < cases\n",
      "\n"
     ]
    },
    {
     "name": "stdout",
     "output_type": "stream",
     "text": [
      "[1] \"auc: 0.720818297834888\"\n",
      "[1] \"O/E 比率: 0.973951827647851\"\n",
      "[1] \"c_slope: 1.02338560836167\"\n",
      "[1] \"Brier 分数: 0.144268076275049\"\n"
     ]
    },
    {
     "name": "stderr",
     "output_type": "stream",
     "text": [
      "Setting levels: control = 0, case = 1\n",
      "\n",
      "Setting direction: controls < cases\n",
      "\n"
     ]
    },
    {
     "name": "stdout",
     "output_type": "stream",
     "text": [
      "[1] \"auc: 0.718321969613624\"\n",
      "[1] \"O/E 比率: 1.01340497357716\"\n",
      "[1] \"c_slope: 1.10851266108382\"\n",
      "[1] \"Brier 分数: 0.144757223741286\"\n"
     ]
    },
    {
     "name": "stderr",
     "output_type": "stream",
     "text": [
      "Setting levels: control = 0, case = 1\n",
      "\n",
      "Setting direction: controls < cases\n",
      "\n"
     ]
    },
    {
     "name": "stdout",
     "output_type": "stream",
     "text": [
      "[1] \"auc: 0.722772110433902\"\n",
      "[1] \"O/E 比率: 0.996947936388393\"\n",
      "[1] \"c_slope: 1.16194430228583\"\n",
      "[1] \"Brier 分数: 0.143763829452823\"\n"
     ]
    },
    {
     "name": "stderr",
     "output_type": "stream",
     "text": [
      "Setting levels: control = 0, case = 1\n",
      "\n",
      "Setting direction: controls < cases\n",
      "\n"
     ]
    },
    {
     "name": "stdout",
     "output_type": "stream",
     "text": [
      "[1] \"auc: 0.721198540089773\"\n",
      "[1] \"O/E 比率: 0.993113556802863\"\n",
      "[1] \"c_slope: 1.11798925159433\"\n",
      "[1] \"Brier 分数: 0.143969457618607\"\n"
     ]
    },
    {
     "name": "stderr",
     "output_type": "stream",
     "text": [
      "Setting levels: control = 0, case = 1\n",
      "\n",
      "Setting direction: controls < cases\n",
      "\n"
     ]
    },
    {
     "name": "stdout",
     "output_type": "stream",
     "text": [
      "[1] \"auc: 0.719247134087309\"\n",
      "[1] \"O/E 比率: 1.01590788780827\"\n",
      "[1] \"c_slope: 1.13345363124571\"\n",
      "[1] \"Brier 分数: 0.144125927958647\"\n"
     ]
    },
    {
     "name": "stderr",
     "output_type": "stream",
     "text": [
      "Setting levels: control = 0, case = 1\n",
      "\n",
      "Setting direction: controls < cases\n",
      "\n"
     ]
    },
    {
     "name": "stdout",
     "output_type": "stream",
     "text": [
      "[1] \"auc: 0.717425684298539\"\n",
      "[1] \"O/E 比率: 0.976156959995133\"\n",
      "[1] \"c_slope: 1.09768390344549\"\n",
      "[1] \"Brier 分数: 0.144355419376209\"\n"
     ]
    },
    {
     "name": "stderr",
     "output_type": "stream",
     "text": [
      "Setting levels: control = 0, case = 1\n",
      "\n",
      "Setting direction: controls < cases\n",
      "\n"
     ]
    },
    {
     "name": "stdout",
     "output_type": "stream",
     "text": [
      "[1] \"auc: 0.721913643064601\"\n",
      "[1] \"O/E 比率: 1.00724197384611\"\n",
      "[1] \"c_slope: 1.08801458769391\"\n",
      "[1] \"Brier 分数: 0.14436352392505\"\n"
     ]
    },
    {
     "name": "stderr",
     "output_type": "stream",
     "text": [
      "Setting levels: control = 0, case = 1\n",
      "\n",
      "Setting direction: controls < cases\n",
      "\n"
     ]
    },
    {
     "name": "stdout",
     "output_type": "stream",
     "text": [
      "[1] \"auc: 0.726492021101039\"\n",
      "[1] \"O/E 比率: 0.975142109396675\"\n",
      "[1] \"c_slope: 1.1280486195173\"\n",
      "[1] \"Brier 分数: 0.143318735273368\"\n"
     ]
    },
    {
     "name": "stderr",
     "output_type": "stream",
     "text": [
      "Setting levels: control = 0, case = 1\n",
      "\n",
      "Setting direction: controls < cases\n",
      "\n"
     ]
    },
    {
     "name": "stdout",
     "output_type": "stream",
     "text": [
      "[1] \"auc: 0.720845457995951\"\n",
      "[1] \"O/E 比率: 0.953513945704109\"\n",
      "[1] \"c_slope: 1.09845846891248\"\n",
      "[1] \"Brier 分数: 0.143835402456649\"\n"
     ]
    },
    {
     "name": "stderr",
     "output_type": "stream",
     "text": [
      "Setting levels: control = 0, case = 1\n",
      "\n",
      "Setting direction: controls < cases\n",
      "\n"
     ]
    },
    {
     "name": "stdout",
     "output_type": "stream",
     "text": [
      "[1] \"auc: 0.719821623063721\"\n",
      "[1] \"O/E 比率: 0.990133330095391\"\n",
      "[1] \"c_slope: 1.10456443550338\"\n",
      "[1] \"Brier 分数: 0.144880542488507\"\n"
     ]
    },
    {
     "name": "stderr",
     "output_type": "stream",
     "text": [
      "Setting levels: control = 0, case = 1\n",
      "\n",
      "Setting direction: controls < cases\n",
      "\n"
     ]
    },
    {
     "name": "stdout",
     "output_type": "stream",
     "text": [
      "[1] \"auc: 0.722483318847914\"\n",
      "[1] \"O/E 比率: 0.998962619536995\"\n",
      "[1] \"c_slope: 1.0449769583481\"\n",
      "[1] \"Brier 分数: 0.143545656070483\"\n"
     ]
    },
    {
     "name": "stderr",
     "output_type": "stream",
     "text": [
      "Setting levels: control = 0, case = 1\n",
      "\n",
      "Setting direction: controls < cases\n",
      "\n"
     ]
    },
    {
     "name": "stdout",
     "output_type": "stream",
     "text": [
      "[1] \"auc: 0.720305348970252\"\n",
      "[1] \"O/E 比率: 1.03322075940075\"\n",
      "[1] \"c_slope: 1.05840862145653\"\n",
      "[1] \"Brier 分数: 0.145036840600082\"\n"
     ]
    },
    {
     "name": "stderr",
     "output_type": "stream",
     "text": [
      "Setting levels: control = 0, case = 1\n",
      "\n",
      "Setting direction: controls < cases\n",
      "\n"
     ]
    },
    {
     "name": "stdout",
     "output_type": "stream",
     "text": [
      "[1] \"auc: 0.722324827275128\"\n",
      "[1] \"O/E 比率: 0.947355890639735\"\n",
      "[1] \"c_slope: 1.10896808465092\"\n",
      "[1] \"Brier 分数: 0.143695394208359\"\n"
     ]
    },
    {
     "name": "stderr",
     "output_type": "stream",
     "text": [
      "Setting levels: control = 0, case = 1\n",
      "\n",
      "Setting direction: controls < cases\n",
      "\n"
     ]
    },
    {
     "name": "stdout",
     "output_type": "stream",
     "text": [
      "[1] \"auc: 0.720704156398521\"\n",
      "[1] \"O/E 比率: 0.970991880559601\"\n",
      "[1] \"c_slope: 1.13362381615528\"\n",
      "[1] \"Brier 分数: 0.143929638133367\"\n"
     ]
    },
    {
     "name": "stderr",
     "output_type": "stream",
     "text": [
      "Setting levels: control = 0, case = 1\n",
      "\n",
      "Setting direction: controls < cases\n",
      "\n"
     ]
    },
    {
     "name": "stdout",
     "output_type": "stream",
     "text": [
      "[1] \"auc: 0.721495239064425\"\n",
      "[1] \"O/E 比率: 0.968857772808893\"\n",
      "[1] \"c_slope: 1.13625953280612\"\n",
      "[1] \"Brier 分数: 0.144167235801179\"\n"
     ]
    },
    {
     "name": "stderr",
     "output_type": "stream",
     "text": [
      "Setting levels: control = 0, case = 1\n",
      "\n",
      "Setting direction: controls < cases\n",
      "\n"
     ]
    },
    {
     "name": "stdout",
     "output_type": "stream",
     "text": [
      "[1] \"auc: 0.720676652437951\"\n",
      "[1] \"O/E 比率: 0.991265357787895\"\n",
      "[1] \"c_slope: 1.1163465963253\"\n",
      "[1] \"Brier 分数: 0.144505337170297\"\n"
     ]
    },
    {
     "name": "stderr",
     "output_type": "stream",
     "text": [
      "Setting levels: control = 0, case = 1\n",
      "\n",
      "Setting direction: controls < cases\n",
      "\n"
     ]
    },
    {
     "name": "stdout",
     "output_type": "stream",
     "text": [
      "[1] \"auc: 0.720595515754269\"\n",
      "[1] \"O/E 比率: 0.994898399860778\"\n",
      "[1] \"c_slope: 1.1097448474767\"\n",
      "[1] \"Brier 分数: 0.144181782605494\"\n"
     ]
    },
    {
     "name": "stderr",
     "output_type": "stream",
     "text": [
      "Setting levels: control = 0, case = 1\n",
      "\n",
      "Setting direction: controls < cases\n",
      "\n"
     ]
    },
    {
     "name": "stdout",
     "output_type": "stream",
     "text": [
      "[1] \"auc: 0.726459016348354\"\n",
      "[1] \"O/E 比率: 1.00847927603788\"\n",
      "[1] \"c_slope: 1.18765965136696\"\n",
      "[1] \"Brier 分数: 0.143678547917066\"\n"
     ]
    },
    {
     "name": "stderr",
     "output_type": "stream",
     "text": [
      "Setting levels: control = 0, case = 1\n",
      "\n",
      "Setting direction: controls < cases\n",
      "\n"
     ]
    },
    {
     "name": "stdout",
     "output_type": "stream",
     "text": [
      "[1] \"auc: 0.71909964409875\"\n",
      "[1] \"O/E 比率: 0.98988980210213\"\n",
      "[1] \"c_slope: 1.09084023166434\"\n",
      "[1] \"Brier 分数: 0.14439362610436\"\n"
     ]
    },
    {
     "name": "stderr",
     "output_type": "stream",
     "text": [
      "Setting levels: control = 0, case = 1\n",
      "\n",
      "Setting direction: controls < cases\n",
      "\n"
     ]
    },
    {
     "name": "stdout",
     "output_type": "stream",
     "text": [
      "[1] \"auc: 0.723631265402218\"\n",
      "[1] \"O/E 比率: 0.951226979056032\"\n",
      "[1] \"c_slope: 1.19672023366693\"\n",
      "[1] \"Brier 分数: 0.144011060474585\"\n"
     ]
    },
    {
     "name": "stderr",
     "output_type": "stream",
     "text": [
      "Setting levels: control = 0, case = 1\n",
      "\n",
      "Setting direction: controls < cases\n",
      "\n"
     ]
    },
    {
     "name": "stdout",
     "output_type": "stream",
     "text": [
      "[1] \"auc: 0.725080380324767\"\n",
      "[1] \"O/E 比率: 0.982106898109232\"\n",
      "[1] \"c_slope: 1.09949504879343\"\n",
      "[1] \"Brier 分数: 0.143100708327049\"\n"
     ]
    },
    {
     "name": "stderr",
     "output_type": "stream",
     "text": [
      "Setting levels: control = 0, case = 1\n",
      "\n",
      "Setting direction: controls < cases\n",
      "\n"
     ]
    },
    {
     "name": "stdout",
     "output_type": "stream",
     "text": [
      "[1] \"auc: 0.717856465080972\"\n",
      "[1] \"O/E 比率: 0.99648274496447\"\n",
      "[1] \"c_slope: 1.0939927431018\"\n",
      "[1] \"Brier 分数: 0.144201310736375\"\n"
     ]
    },
    {
     "name": "stderr",
     "output_type": "stream",
     "text": [
      "Setting levels: control = 0, case = 1\n",
      "\n",
      "Setting direction: controls < cases\n",
      "\n"
     ]
    },
    {
     "name": "stdout",
     "output_type": "stream",
     "text": [
      "[1] \"auc: 0.719428660227073\"\n",
      "[1] \"O/E 比率: 0.982341616104955\"\n",
      "[1] \"c_slope: 1.10824375381059\"\n",
      "[1] \"Brier 分数: 0.143816709788895\"\n"
     ]
    },
    {
     "name": "stderr",
     "output_type": "stream",
     "text": [
      "Setting levels: control = 0, case = 1\n",
      "\n",
      "Setting direction: controls < cases\n",
      "\n"
     ]
    },
    {
     "name": "stdout",
     "output_type": "stream",
     "text": [
      "[1] \"auc: 0.721428885759549\"\n",
      "[1] \"O/E 比率: 0.970891454657462\"\n",
      "[1] \"c_slope: 1.13711097988253\"\n",
      "[1] \"Brier 分数: 0.144407997033269\"\n"
     ]
    },
    {
     "name": "stderr",
     "output_type": "stream",
     "text": [
      "Setting levels: control = 0, case = 1\n",
      "\n",
      "Setting direction: controls < cases\n",
      "\n"
     ]
    },
    {
     "name": "stdout",
     "output_type": "stream",
     "text": [
      "[1] \"auc: 0.723316345053688\"\n",
      "[1] \"O/E 比率: 1.00705331205256\"\n",
      "[1] \"c_slope: 1.08340846211072\"\n",
      "[1] \"Brier 分数: 0.143711107670567\"\n"
     ]
    },
    {
     "name": "stderr",
     "output_type": "stream",
     "text": [
      "Setting levels: control = 0, case = 1\n",
      "\n",
      "Setting direction: controls < cases\n",
      "\n"
     ]
    },
    {
     "name": "stdout",
     "output_type": "stream",
     "text": [
      "[1] \"auc: 0.721750338298715\"\n",
      "[1] \"O/E 比率: 1.00863052143537\"\n",
      "[1] \"c_slope: 1.17036081020605\"\n",
      "[1] \"Brier 分数: 0.144441307832653\"\n"
     ]
    },
    {
     "name": "stderr",
     "output_type": "stream",
     "text": [
      "Setting levels: control = 0, case = 1\n",
      "\n",
      "Setting direction: controls < cases\n",
      "\n"
     ]
    },
    {
     "name": "stdout",
     "output_type": "stream",
     "text": [
      "[1] \"auc: 0.721337091291146\"\n",
      "[1] \"O/E 比率: 1.00110668889145\"\n",
      "[1] \"c_slope: 1.08612991884536\"\n",
      "[1] \"Brier 分数: 0.143586388811893\"\n"
     ]
    },
    {
     "name": "stderr",
     "output_type": "stream",
     "text": [
      "Setting levels: control = 0, case = 1\n",
      "\n",
      "Setting direction: controls < cases\n",
      "\n"
     ]
    },
    {
     "name": "stdout",
     "output_type": "stream",
     "text": [
      "[1] \"auc: 0.72170426916476\"\n",
      "[1] \"O/E 比率: 0.955355974854449\"\n",
      "[1] \"c_slope: 1.08557302894202\"\n",
      "[1] \"Brier 分数: 0.1438520653721\"\n"
     ]
    },
    {
     "name": "stderr",
     "output_type": "stream",
     "text": [
      "Setting levels: control = 0, case = 1\n",
      "\n",
      "Setting direction: controls < cases\n",
      "\n"
     ]
    },
    {
     "name": "stdout",
     "output_type": "stream",
     "text": [
      "[1] \"auc: 0.721250797614857\"\n",
      "[1] \"O/E 比率: 0.970282439151214\"\n",
      "[1] \"c_slope: 1.1495713400285\"\n",
      "[1] \"Brier 分数: 0.143954313141746\"\n"
     ]
    },
    {
     "name": "stderr",
     "output_type": "stream",
     "text": [
      "Setting levels: control = 0, case = 1\n",
      "\n",
      "Setting direction: controls < cases\n",
      "\n"
     ]
    },
    {
     "name": "stdout",
     "output_type": "stream",
     "text": [
      "[1] \"auc: 0.722179056284105\"\n",
      "[1] \"O/E 比率: 1.0262981375842\"\n",
      "[1] \"c_slope: 1.06648344618854\"\n",
      "[1] \"Brier 分数: 0.14390680378878\"\n"
     ]
    },
    {
     "name": "stderr",
     "output_type": "stream",
     "text": [
      "Setting levels: control = 0, case = 1\n",
      "\n",
      "Setting direction: controls < cases\n",
      "\n"
     ]
    },
    {
     "name": "stdout",
     "output_type": "stream",
     "text": [
      "[1] \"auc: 0.722936102798803\"\n",
      "[1] \"O/E 比率: 0.987856542225567\"\n",
      "[1] \"c_slope: 1.10182678251915\"\n",
      "[1] \"Brier 分数: 0.143496278452198\"\n"
     ]
    },
    {
     "name": "stderr",
     "output_type": "stream",
     "text": [
      "Setting levels: control = 0, case = 1\n",
      "\n",
      "Setting direction: controls < cases\n",
      "\n"
     ]
    },
    {
     "name": "stdout",
     "output_type": "stream",
     "text": [
      "[1] \"auc: 0.722485725444464\"\n",
      "[1] \"O/E 比率: 0.998058209405119\"\n",
      "[1] \"c_slope: 1.08257657711391\"\n",
      "[1] \"Brier 分数: 0.14416219751336\"\n"
     ]
    },
    {
     "name": "stderr",
     "output_type": "stream",
     "text": [
      "Setting levels: control = 0, case = 1\n",
      "\n",
      "Setting direction: controls < cases\n",
      "\n"
     ]
    },
    {
     "name": "stdout",
     "output_type": "stream",
     "text": [
      "[1] \"auc: 0.721361157256645\"\n",
      "[1] \"O/E 比率: 1.00246916816015\"\n",
      "[1] \"c_slope: 1.08439717551853\"\n",
      "[1] \"Brier 分数: 0.144130458401587\"\n"
     ]
    },
    {
     "name": "stderr",
     "output_type": "stream",
     "text": [
      "Setting levels: control = 0, case = 1\n",
      "\n",
      "Setting direction: controls < cases\n",
      "\n"
     ]
    },
    {
     "name": "stdout",
     "output_type": "stream",
     "text": [
      "[1] \"auc: 0.725979759835416\"\n",
      "[1] \"O/E 比率: 0.974137239936447\"\n",
      "[1] \"c_slope: 1.11588935035788\"\n",
      "[1] \"Brier 分数: 0.143504263628142\"\n"
     ]
    },
    {
     "name": "stderr",
     "output_type": "stream",
     "text": [
      "Setting levels: control = 0, case = 1\n",
      "\n",
      "Setting direction: controls < cases\n",
      "\n"
     ]
    },
    {
     "name": "stdout",
     "output_type": "stream",
     "text": [
      "[1] \"auc: 0.719426253630523\"\n",
      "[1] \"O/E 比率: 0.967333103819229\"\n",
      "[1] \"c_slope: 1.08180876685486\"\n",
      "[1] \"Brier 分数: 0.14483841064671\"\n"
     ]
    },
    {
     "name": "stderr",
     "output_type": "stream",
     "text": [
      "Setting levels: control = 0, case = 1\n",
      "\n",
      "Setting direction: controls < cases\n",
      "\n"
     ]
    },
    {
     "name": "stdout",
     "output_type": "stream",
     "text": [
      "[1] \"auc: 0.719589214596902\"\n",
      "[1] \"O/E 比率: 0.984946341177234\"\n",
      "[1] \"c_slope: 1.09284015853137\"\n",
      "[1] \"Brier 分数: 0.143999957530039\"\n"
     ]
    },
    {
     "name": "stderr",
     "output_type": "stream",
     "text": [
      "Setting levels: control = 0, case = 1\n",
      "\n",
      "Setting direction: controls < cases\n",
      "\n"
     ]
    },
    {
     "name": "stdout",
     "output_type": "stream",
     "text": [
      "[1] \"auc: 0.725420398037317\"\n",
      "[1] \"O/E 比率: 0.98197545134889\"\n",
      "[1] \"c_slope: 1.09619409775667\"\n",
      "[1] \"Brier 分数: 0.143898050675485\"\n"
     ]
    },
    {
     "name": "stderr",
     "output_type": "stream",
     "text": [
      "Setting levels: control = 0, case = 1\n",
      "\n",
      "Setting direction: controls < cases\n",
      "\n"
     ]
    },
    {
     "name": "stdout",
     "output_type": "stream",
     "text": [
      "[1] \"auc: 0.721584283136772\"\n",
      "[1] \"O/E 比率: 1.00134310550093\"\n",
      "[1] \"c_slope: 1.04068124550579\"\n",
      "[1] \"Brier 分数: 0.143911808443935\"\n"
     ]
    },
    {
     "name": "stderr",
     "output_type": "stream",
     "text": [
      "Setting levels: control = 0, case = 1\n",
      "\n",
      "Setting direction: controls < cases\n",
      "\n"
     ]
    },
    {
     "name": "stdout",
     "output_type": "stream",
     "text": [
      "[1] \"auc: 0.723574882283049\"\n",
      "[1] \"O/E 比率: 0.950804568473524\"\n",
      "[1] \"c_slope: 1.10632154945731\"\n",
      "[1] \"Brier 分数: 0.143949553759846\"\n"
     ]
    },
    {
     "name": "stderr",
     "output_type": "stream",
     "text": [
      "Setting levels: control = 0, case = 1\n",
      "\n",
      "Setting direction: controls < cases\n",
      "\n"
     ]
    },
    {
     "name": "stdout",
     "output_type": "stream",
     "text": [
      "[1] \"auc: 0.7222897597254\"\n",
      "[1] \"O/E 比率: 1.01644750905523\"\n",
      "[1] \"c_slope: 1.10369113393982\"\n",
      "[1] \"Brier 分数: 0.14376925015203\"\n"
     ]
    },
    {
     "name": "stderr",
     "output_type": "stream",
     "text": [
      "Setting levels: control = 0, case = 1\n",
      "\n",
      "Setting direction: controls < cases\n",
      "\n"
     ]
    },
    {
     "name": "stdout",
     "output_type": "stream",
     "text": [
      "[1] \"auc: 0.722355081631755\"\n",
      "[1] \"O/E 比率: 0.99929264558106\"\n",
      "[1] \"c_slope: 1.09681000970346\"\n",
      "[1] \"Brier 分数: 0.144027814262836\"\n"
     ]
    },
    {
     "name": "stderr",
     "output_type": "stream",
     "text": [
      "Setting levels: control = 0, case = 1\n",
      "\n",
      "Setting direction: controls < cases\n",
      "\n"
     ]
    },
    {
     "name": "stdout",
     "output_type": "stream",
     "text": [
      "[1] \"auc: 0.718505558550431\"\n",
      "[1] \"O/E 比率: 0.988685333680942\"\n",
      "[1] \"c_slope: 1.06562460935893\"\n",
      "[1] \"Brier 分数: 0.144254051455563\"\n"
     ]
    },
    {
     "name": "stderr",
     "output_type": "stream",
     "text": [
      "Setting levels: control = 0, case = 1\n",
      "\n",
      "Setting direction: controls < cases\n",
      "\n"
     ]
    },
    {
     "name": "stdout",
     "output_type": "stream",
     "text": [
      "[1] \"auc: 0.722539014368069\"\n",
      "[1] \"O/E 比率: 0.951317775865774\"\n",
      "[1] \"c_slope: 1.16907464393938\"\n",
      "[1] \"Brier 分数: 0.14354842489373\"\n"
     ]
    },
    {
     "name": "stderr",
     "output_type": "stream",
     "text": [
      "Setting levels: control = 0, case = 1\n",
      "\n",
      "Setting direction: controls < cases\n",
      "\n"
     ]
    },
    {
     "name": "stdout",
     "output_type": "stream",
     "text": [
      "[1] \"auc: 0.723345568011794\"\n",
      "[1] \"O/E 比率: 0.967568480717597\"\n",
      "[1] \"c_slope: 1.09570457268156\"\n",
      "[1] \"Brier 分数: 0.143737860771923\"\n"
     ]
    },
    {
     "name": "stderr",
     "output_type": "stream",
     "text": [
      "Setting levels: control = 0, case = 1\n",
      "\n",
      "Setting direction: controls < cases\n",
      "\n"
     ]
    },
    {
     "name": "stdout",
     "output_type": "stream",
     "text": [
      "[1] \"auc: 0.723528125550079\"\n",
      "[1] \"O/E 比率: 0.941350001386053\"\n",
      "[1] \"c_slope: 1.1475630910692\"\n",
      "[1] \"Brier 分数: 0.14379662384766\"\n"
     ]
    },
    {
     "name": "stderr",
     "output_type": "stream",
     "text": [
      "Setting levels: control = 0, case = 1\n",
      "\n",
      "Setting direction: controls < cases\n",
      "\n"
     ]
    },
    {
     "name": "stdout",
     "output_type": "stream",
     "text": [
      "[1] \"auc: 0.71978105472188\"\n",
      "[1] \"O/E 比率: 1.01443423839616\"\n",
      "[1] \"c_slope: 1.14221671739758\"\n",
      "[1] \"Brier 分数: 0.144572287727576\"\n"
     ]
    },
    {
     "name": "stderr",
     "output_type": "stream",
     "text": [
      "Setting levels: control = 0, case = 1\n",
      "\n",
      "Setting direction: controls < cases\n",
      "\n"
     ]
    },
    {
     "name": "stdout",
     "output_type": "stream",
     "text": [
      "[1] \"auc: 0.721427166762014\"\n",
      "[1] \"O/E 比率: 0.978054296635194\"\n",
      "[1] \"c_slope: 1.06330899791442\"\n",
      "[1] \"Brier 分数: 0.144456591813359\"\n"
     ]
    },
    {
     "name": "stderr",
     "output_type": "stream",
     "text": [
      "Setting levels: control = 0, case = 1\n",
      "\n",
      "Setting direction: controls < cases\n",
      "\n"
     ]
    },
    {
     "name": "stdout",
     "output_type": "stream",
     "text": [
      "[1] \"auc: 0.721399662801443\"\n",
      "[1] \"O/E 比率: 0.997233871446128\"\n",
      "[1] \"c_slope: 1.06854313582814\"\n",
      "[1] \"Brier 分数: 0.144432188898656\"\n"
     ]
    },
    {
     "name": "stderr",
     "output_type": "stream",
     "text": [
      "Setting levels: control = 0, case = 1\n",
      "\n",
      "Setting direction: controls < cases\n",
      "\n"
     ]
    },
    {
     "name": "stdout",
     "output_type": "stream",
     "text": [
      "[1] \"auc: 0.7240740791674\"\n",
      "[1] \"O/E 比率: 0.985769203403284\"\n",
      "[1] \"c_slope: 1.10154926390056\"\n",
      "[1] \"Brier 分数: 0.143918419547559\"\n"
     ]
    },
    {
     "name": "stderr",
     "output_type": "stream",
     "text": [
      "Setting levels: control = 0, case = 1\n",
      "\n",
      "Setting direction: controls < cases\n",
      "\n"
     ]
    },
    {
     "name": "stdout",
     "output_type": "stream",
     "text": [
      "[1] \"auc: 0.724437819045943\"\n",
      "[1] \"O/E 比率: 0.98550551229592\"\n",
      "[1] \"c_slope: 1.09163923859084\"\n",
      "[1] \"Brier 分数: 0.143934703831756\"\n"
     ]
    },
    {
     "name": "stderr",
     "output_type": "stream",
     "text": [
      "Setting levels: control = 0, case = 1\n",
      "\n",
      "Setting direction: controls < cases\n",
      "\n"
     ]
    },
    {
     "name": "stdout",
     "output_type": "stream",
     "text": [
      "[1] \"auc: 0.71991994972276\"\n",
      "[1] \"O/E 比率: 1.0302533046858\"\n",
      "[1] \"c_slope: 1.16719602828133\"\n",
      "[1] \"Brier 分数: 0.144701175129135\"\n"
     ]
    },
    {
     "name": "stderr",
     "output_type": "stream",
     "text": [
      "Setting levels: control = 0, case = 1\n",
      "\n",
      "Setting direction: controls < cases\n",
      "\n"
     ]
    },
    {
     "name": "stdout",
     "output_type": "stream",
     "text": [
      "[1] \"auc: 0.723885677037493\"\n",
      "[1] \"O/E 比率: 1.01936666073723\"\n",
      "[1] \"c_slope: 1.09334538651494\"\n",
      "[1] \"Brier 分数: 0.143713532966065\"\n"
     ]
    },
    {
     "name": "stderr",
     "output_type": "stream",
     "text": [
      "Setting levels: control = 0, case = 1\n",
      "\n",
      "Setting direction: controls < cases\n",
      "\n"
     ]
    },
    {
     "name": "stdout",
     "output_type": "stream",
     "text": [
      "[1] \"auc: 0.721308212132547\"\n",
      "[1] \"O/E 比率: 1.00488738400649\"\n",
      "[1] \"c_slope: 1.10146709839455\"\n",
      "[1] \"Brier 分数: 0.143698507625806\"\n"
     ]
    },
    {
     "name": "stderr",
     "output_type": "stream",
     "text": [
      "Setting levels: control = 0, case = 1\n",
      "\n",
      "Setting direction: controls < cases\n",
      "\n"
     ]
    },
    {
     "name": "stdout",
     "output_type": "stream",
     "text": [
      "[1] \"auc: 0.724478043588277\"\n",
      "[1] \"O/E 比率: 0.991506790290819\"\n",
      "[1] \"c_slope: 1.13252919138275\"\n",
      "[1] \"Brier 分数: 0.143422434866557\"\n"
     ]
    },
    {
     "name": "stderr",
     "output_type": "stream",
     "text": [
      "Setting levels: control = 0, case = 1\n",
      "\n",
      "Setting direction: controls < cases\n",
      "\n"
     ]
    },
    {
     "name": "stdout",
     "output_type": "stream",
     "text": [
      "[1] \"auc: 0.720798357463475\"\n",
      "[1] \"O/E 比率: 1.03012508697749\"\n",
      "[1] \"c_slope: 1.15620964770261\"\n",
      "[1] \"Brier 分数: 0.144179633283806\"\n"
     ]
    },
    {
     "name": "stderr",
     "output_type": "stream",
     "text": [
      "Setting levels: control = 0, case = 1\n",
      "\n",
      "Setting direction: controls < cases\n",
      "\n"
     ]
    },
    {
     "name": "stdout",
     "output_type": "stream",
     "text": [
      "[1] \"auc: 0.723800070960218\"\n",
      "[1] \"O/E 比率: 0.964959344652992\"\n",
      "[1] \"c_slope: 1.15067949640103\"\n",
      "[1] \"Brier 分数: 0.143744178298063\"\n"
     ]
    },
    {
     "name": "stderr",
     "output_type": "stream",
     "text": [
      "Setting levels: control = 0, case = 1\n",
      "\n",
      "Setting direction: controls < cases\n",
      "\n"
     ]
    },
    {
     "name": "stdout",
     "output_type": "stream",
     "text": [
      "[1] \"auc: 0.722423497733674\"\n",
      "[1] \"O/E 比率: 0.978064140785354\"\n",
      "[1] \"c_slope: 1.19393958053434\"\n",
      "[1] \"Brier 分数: 0.144077886939656\"\n"
     ]
    },
    {
     "name": "stderr",
     "output_type": "stream",
     "text": [
      "Setting levels: control = 0, case = 1\n",
      "\n",
      "Setting direction: controls < cases\n",
      "\n"
     ]
    },
    {
     "name": "stdout",
     "output_type": "stream",
     "text": [
      "[1] \"auc: 0.721799157828727\"\n",
      "[1] \"O/E 比率: 1.00539347388458\"\n",
      "[1] \"c_slope: 1.04716086911335\"\n",
      "[1] \"Brier 分数: 0.143851010126187\"\n"
     ]
    },
    {
     "name": "stderr",
     "output_type": "stream",
     "text": [
      "Setting levels: control = 0, case = 1\n",
      "\n",
      "Setting direction: controls < cases\n",
      "\n"
     ]
    },
    {
     "name": "stdout",
     "output_type": "stream",
     "text": [
      "[1] \"auc: 0.71767218854515\"\n",
      "[1] \"O/E 比率: 1.03007383213254\"\n",
      "[1] \"c_slope: 1.07524801980701\"\n",
      "[1] \"Brier 分数: 0.144748740452629\"\n"
     ]
    },
    {
     "name": "stderr",
     "output_type": "stream",
     "text": [
      "Setting levels: control = 0, case = 1\n",
      "\n",
      "Setting direction: controls < cases\n",
      "\n"
     ]
    },
    {
     "name": "stdout",
     "output_type": "stream",
     "text": [
      "[1] \"auc: 0.719971519648829\"\n",
      "[1] \"O/E 比率: 1.0062975948335\"\n",
      "[1] \"c_slope: 1.03338482940037\"\n",
      "[1] \"Brier 分数: 0.144033002545023\"\n"
     ]
    },
    {
     "name": "stderr",
     "output_type": "stream",
     "text": [
      "Setting levels: control = 0, case = 1\n",
      "\n",
      "Setting direction: controls < cases\n",
      "\n"
     ]
    },
    {
     "name": "stdout",
     "output_type": "stream",
     "text": [
      "[1] \"auc: 0.722674127574371\"\n",
      "[1] \"O/E 比率: 0.989563192642217\"\n",
      "[1] \"c_slope: 1.12053026281683\"\n",
      "[1] \"Brier 分数: 0.144347706116756\"\n"
     ]
    },
    {
     "name": "stderr",
     "output_type": "stream",
     "text": [
      "Setting levels: control = 0, case = 1\n",
      "\n",
      "Setting direction: controls < cases\n",
      "\n"
     ]
    },
    {
     "name": "stdout",
     "output_type": "stream",
     "text": [
      "[1] \"auc: 0.723429455091533\"\n",
      "[1] \"O/E 比率: 0.997058509978029\"\n",
      "[1] \"c_slope: 1.09609255482112\"\n",
      "[1] \"Brier 分数: 0.143392778551791\"\n"
     ]
    },
    {
     "name": "stderr",
     "output_type": "stream",
     "text": [
      "Setting levels: control = 0, case = 1\n",
      "\n",
      "Setting direction: controls < cases\n",
      "\n"
     ]
    },
    {
     "name": "stdout",
     "output_type": "stream",
     "text": [
      "[1] \"auc: 0.722315200888928\"\n",
      "[1] \"O/E 比率: 1.02086481510112\"\n",
      "[1] \"c_slope: 1.0975840590781\"\n",
      "[1] \"Brier 分数: 0.144390983022486\"\n"
     ]
    },
    {
     "name": "stderr",
     "output_type": "stream",
     "text": [
      "Setting levels: control = 0, case = 1\n",
      "\n",
      "Setting direction: controls < cases\n",
      "\n"
     ]
    },
    {
     "name": "stdout",
     "output_type": "stream",
     "text": [
      "[1] \"auc: 0.722336860257877\"\n",
      "[1] \"O/E 比率: 0.983036822020471\"\n",
      "[1] \"c_slope: 1.10458638237604\"\n",
      "[1] \"Brier 分数: 0.143828205751562\"\n"
     ]
    },
    {
     "name": "stderr",
     "output_type": "stream",
     "text": [
      "Setting levels: control = 0, case = 1\n",
      "\n",
      "Setting direction: controls < cases\n",
      "\n"
     ]
    },
    {
     "name": "stdout",
     "output_type": "stream",
     "text": [
      "[1] \"auc: 0.716207946444288\"\n",
      "[1] \"O/E 比率: 0.98243234623333\"\n",
      "[1] \"c_slope: 1.05945285997945\"\n",
      "[1] \"Brier 分数: 0.144878349351151\"\n"
     ]
    },
    {
     "name": "stderr",
     "output_type": "stream",
     "text": [
      "Setting levels: control = 0, case = 1\n",
      "\n",
      "Setting direction: controls < cases\n",
      "\n"
     ]
    },
    {
     "name": "stdout",
     "output_type": "stream",
     "text": [
      "[1] \"auc: 0.718672645110896\"\n",
      "[1] \"O/E 比率: 0.955697684323185\"\n",
      "[1] \"c_slope: 1.10683377187774\"\n",
      "[1] \"Brier 分数: 0.144199807292759\"\n"
     ]
    },
    {
     "name": "stderr",
     "output_type": "stream",
     "text": [
      "Setting levels: control = 0, case = 1\n",
      "\n",
      "Setting direction: controls < cases\n",
      "\n"
     ]
    },
    {
     "name": "stdout",
     "output_type": "stream",
     "text": [
      "[1] \"auc: 0.722112015380215\"\n",
      "[1] \"O/E 比率: 0.975660810643579\"\n",
      "[1] \"c_slope: 1.09616866489412\"\n",
      "[1] \"Brier 分数: 0.144290276481248\"\n"
     ]
    },
    {
     "name": "stderr",
     "output_type": "stream",
     "text": [
      "Setting levels: control = 0, case = 1\n",
      "\n",
      "Setting direction: controls < cases\n",
      "\n"
     ]
    },
    {
     "name": "stdout",
     "output_type": "stream",
     "text": [
      "[1] \"auc: 0.721695674177081\"\n",
      "[1] \"O/E 比率: 0.95673399682616\"\n",
      "[1] \"c_slope: 1.12063686170527\"\n",
      "[1] \"Brier 分数: 0.143723690383818\"\n"
     ]
    },
    {
     "name": "stderr",
     "output_type": "stream",
     "text": [
      "Setting levels: control = 0, case = 1\n",
      "\n",
      "Setting direction: controls < cases\n",
      "\n"
     ]
    },
    {
     "name": "stdout",
     "output_type": "stream",
     "text": [
      "[1] \"auc: 0.720978164605703\"\n",
      "[1] \"O/E 比率: 1.01995595079288\"\n",
      "[1] \"c_slope: 1.09684340567805\"\n",
      "[1] \"Brier 分数: 0.144508374422463\"\n"
     ]
    },
    {
     "name": "stderr",
     "output_type": "stream",
     "text": [
      "Setting levels: control = 0, case = 1\n",
      "\n",
      "Setting direction: controls < cases\n",
      "\n"
     ]
    },
    {
     "name": "stdout",
     "output_type": "stream",
     "text": [
      "[1] \"auc: 0.723234176971484\"\n",
      "[1] \"O/E 比率: 0.979658549305564\"\n",
      "[1] \"c_slope: 1.09567155434946\"\n",
      "[1] \"Brier 分数: 0.144040462809186\"\n"
     ]
    },
    {
     "name": "stderr",
     "output_type": "stream",
     "text": [
      "Setting levels: control = 0, case = 1\n",
      "\n",
      "Setting direction: controls < cases\n",
      "\n"
     ]
    },
    {
     "name": "stdout",
     "output_type": "stream",
     "text": [
      "[1] \"auc: 0.72236402041894\"\n",
      "[1] \"O/E 比率: 1.02888668420716\"\n",
      "[1] \"c_slope: 1.14226753059088\"\n",
      "[1] \"Brier 分数: 0.143976071435161\"\n"
     ]
    },
    {
     "name": "stderr",
     "output_type": "stream",
     "text": [
      "Setting levels: control = 0, case = 1\n",
      "\n",
      "Setting direction: controls < cases\n",
      "\n"
     ]
    },
    {
     "name": "stdout",
     "output_type": "stream",
     "text": [
      "[1] \"auc: 0.72010560145661\"\n",
      "[1] \"O/E 比率: 0.949175292303466\"\n",
      "[1] \"c_slope: 1.08612367170501\"\n",
      "[1] \"Brier 分数: 0.143930721797767\"\n"
     ]
    },
    {
     "name": "stderr",
     "output_type": "stream",
     "text": [
      "Setting levels: control = 0, case = 1\n",
      "\n",
      "Setting direction: controls < cases\n",
      "\n"
     ]
    },
    {
     "name": "stdout",
     "output_type": "stream",
     "text": [
      "[1] \"auc: 0.723110409148917\"\n",
      "[1] \"O/E 比率: 0.978626115581195\"\n",
      "[1] \"c_slope: 1.1539947857792\"\n",
      "[1] \"Brier 分数: 0.143797175148306\"\n"
     ]
    },
    {
     "name": "stderr",
     "output_type": "stream",
     "text": [
      "Setting levels: control = 0, case = 1\n",
      "\n",
      "Setting direction: controls < cases\n",
      "\n"
     ]
    },
    {
     "name": "stdout",
     "output_type": "stream",
     "text": [
      "[1] \"auc: 0.720610642932582\"\n",
      "[1] \"O/E 比率: 0.974464351841605\"\n",
      "[1] \"c_slope: 1.09014307968401\"\n",
      "[1] \"Brier 分数: 0.14402912990714\"\n"
     ]
    },
    {
     "name": "stderr",
     "output_type": "stream",
     "text": [
      "Setting levels: control = 0, case = 1\n",
      "\n",
      "Setting direction: controls < cases\n",
      "\n"
     ]
    },
    {
     "name": "stdout",
     "output_type": "stream",
     "text": [
      "[1] \"auc: 0.720390267448513\"\n",
      "[1] \"O/E 比率: 0.986568646583018\"\n",
      "[1] \"c_slope: 1.08705302698795\"\n",
      "[1] \"Brier 分数: 0.143991538420889\"\n"
     ]
    },
    {
     "name": "stderr",
     "output_type": "stream",
     "text": [
      "Setting levels: control = 0, case = 1\n",
      "\n",
      "Setting direction: controls < cases\n",
      "\n"
     ]
    },
    {
     "name": "stdout",
     "output_type": "stream",
     "text": [
      "[1] \"auc: 0.721368033246788\"\n",
      "[1] \"O/E 比率: 1.02366441066305\"\n",
      "[1] \"c_slope: 1.09322090456258\"\n",
      "[1] \"Brier 分数: 0.144140190853556\"\n"
     ]
    },
    {
     "name": "stderr",
     "output_type": "stream",
     "text": [
      "Setting levels: control = 0, case = 1\n",
      "\n",
      "Setting direction: controls < cases\n",
      "\n"
     ]
    },
    {
     "name": "stdout",
     "output_type": "stream",
     "text": [
      "[1] \"auc: 0.720490656904594\"\n",
      "[1] \"O/E 比率: 0.990511309331104\"\n",
      "[1] \"c_slope: 0.993522193955753\"\n",
      "[1] \"Brier 分数: 0.144115565177431\"\n"
     ]
    },
    {
     "name": "stderr",
     "output_type": "stream",
     "text": [
      "Setting levels: control = 0, case = 1\n",
      "\n",
      "Setting direction: controls < cases\n",
      "\n"
     ]
    },
    {
     "name": "stdout",
     "output_type": "stream",
     "text": [
      "[1] \"auc: 0.723285059298539\"\n",
      "[1] \"O/E 比率: 0.963272816486052\"\n",
      "[1] \"c_slope: 1.21150287517431\"\n",
      "[1] \"Brier 分数: 0.144195755984896\"\n"
     ]
    },
    {
     "name": "stderr",
     "output_type": "stream",
     "text": [
      "Setting levels: control = 0, case = 1\n",
      "\n",
      "Setting direction: controls < cases\n",
      "\n"
     ]
    },
    {
     "name": "stdout",
     "output_type": "stream",
     "text": [
      "[1] \"auc: 0.71970920062489\"\n",
      "[1] \"O/E 比率: 1.01200554624757\"\n",
      "[1] \"c_slope: 1.1649201723577\"\n",
      "[1] \"Brier 分数: 0.143956220302011\"\n"
     ]
    },
    {
     "name": "stderr",
     "output_type": "stream",
     "text": [
      "Setting levels: control = 0, case = 1\n",
      "\n",
      "Setting direction: controls < cases\n",
      "\n"
     ]
    },
    {
     "name": "stdout",
     "output_type": "stream",
     "text": [
      "[1] \"auc: 0.723750563831192\"\n",
      "[1] \"O/E 比率: 0.990977508531869\"\n",
      "[1] \"c_slope: 1.1095559510991\"\n",
      "[1] \"Brier 分数: 0.143716736659084\"\n"
     ]
    },
    {
     "name": "stderr",
     "output_type": "stream",
     "text": [
      "Setting levels: control = 0, case = 1\n",
      "\n",
      "Setting direction: controls < cases\n",
      "\n"
     ]
    },
    {
     "name": "stdout",
     "output_type": "stream",
     "text": [
      "[1] \"auc: 0.721593221923957\"\n",
      "[1] \"O/E 比率: 0.978740540328296\"\n",
      "[1] \"c_slope: 1.13845397802779\"\n",
      "[1] \"Brier 分数: 0.144443599787858\"\n"
     ]
    },
    {
     "name": "stderr",
     "output_type": "stream",
     "text": [
      "Setting levels: control = 0, case = 1\n",
      "\n",
      "Setting direction: controls < cases\n",
      "\n"
     ]
    },
    {
     "name": "stdout",
     "output_type": "stream",
     "text": [
      "[1] \"auc: 0.721128061190812\"\n",
      "[1] \"O/E 比率: 0.984392694557796\"\n",
      "[1] \"c_slope: 1.11918683660265\"\n",
      "[1] \"Brier 分数: 0.143488987230989\"\n"
     ]
    },
    {
     "name": "stderr",
     "output_type": "stream",
     "text": [
      "Setting levels: control = 0, case = 1\n",
      "\n",
      "Setting direction: controls < cases\n",
      "\n"
     ]
    },
    {
     "name": "stdout",
     "output_type": "stream",
     "text": [
      "[1] \"auc: 0.7242525111116\"\n",
      "[1] \"O/E 比率: 1.00977948222832\"\n",
      "[1] \"c_slope: 1.1072170297992\"\n",
      "[1] \"Brier 分数: 0.143824185411696\"\n"
     ]
    },
    {
     "name": "stderr",
     "output_type": "stream",
     "text": [
      "Setting levels: control = 0, case = 1\n",
      "\n",
      "Setting direction: controls < cases\n",
      "\n"
     ]
    },
    {
     "name": "stdout",
     "output_type": "stream",
     "text": [
      "[1] \"auc: 0.720937252464355\"\n",
      "[1] \"O/E 比率: 1.01181483435013\"\n",
      "[1] \"c_slope: 1.11512146010539\"\n",
      "[1] \"Brier 分数: 0.144267887873283\"\n"
     ]
    },
    {
     "name": "stderr",
     "output_type": "stream",
     "text": [
      "Setting levels: control = 0, case = 1\n",
      "\n",
      "Setting direction: controls < cases\n",
      "\n"
     ]
    },
    {
     "name": "stdout",
     "output_type": "stream",
     "text": [
      "[1] \"auc: 0.721409976786657\"\n",
      "[1] \"O/E 比率: 0.967524845388069\"\n",
      "[1] \"c_slope: 1.05138063428938\"\n",
      "[1] \"Brier 分数: 0.143977082274663\"\n"
     ]
    },
    {
     "name": "stderr",
     "output_type": "stream",
     "text": [
      "Setting levels: control = 0, case = 1\n",
      "\n",
      "Setting direction: controls < cases\n",
      "\n"
     ]
    },
    {
     "name": "stdout",
     "output_type": "stream",
     "text": [
      "[1] \"auc: 0.71955586604471\"\n",
      "[1] \"O/E 比率: 0.961258586608789\"\n",
      "[1] \"c_slope: 1.20884589700376\"\n",
      "[1] \"Brier 分数: 0.144215360977471\"\n"
     ]
    },
    {
     "name": "stderr",
     "output_type": "stream",
     "text": [
      "Setting levels: control = 0, case = 1\n",
      "\n",
      "Setting direction: controls < cases\n",
      "\n"
     ]
    },
    {
     "name": "stdout",
     "output_type": "stream",
     "text": [
      "[1] \"auc: 0.722994204915508\"\n",
      "[1] \"O/E 比率: 0.975353125961684\"\n",
      "[1] \"c_slope: 1.11777392690273\"\n",
      "[1] \"Brier 分数: 0.143705681954548\"\n"
     ]
    },
    {
     "name": "stderr",
     "output_type": "stream",
     "text": [
      "Setting levels: control = 0, case = 1\n",
      "\n",
      "Setting direction: controls < cases\n",
      "\n"
     ]
    },
    {
     "name": "stdout",
     "output_type": "stream",
     "text": [
      "[1] \"auc: 0.720708281992607\"\n",
      "[1] \"O/E 比率: 1.04121997413139\"\n",
      "[1] \"c_slope: 1.09896358644681\"\n",
      "[1] \"Brier 分数: 0.144646586865865\"\n"
     ]
    },
    {
     "name": "stderr",
     "output_type": "stream",
     "text": [
      "Setting levels: control = 0, case = 1\n",
      "\n",
      "Setting direction: controls < cases\n",
      "\n"
     ]
    },
    {
     "name": "stdout",
     "output_type": "stream",
     "text": [
      "[1] \"auc: 0.71953317527724\"\n",
      "[1] \"O/E 比率: 0.955000016044602\"\n",
      "[1] \"c_slope: 1.17365942684704\"\n",
      "[1] \"Brier 分数: 0.144240734556446\"\n"
     ]
    },
    {
     "name": "stderr",
     "output_type": "stream",
     "text": [
      "Setting levels: control = 0, case = 1\n",
      "\n",
      "Setting direction: controls < cases\n",
      "\n"
     ]
    },
    {
     "name": "stdout",
     "output_type": "stream",
     "text": [
      "[1] \"auc: 0.720970944816054\"\n",
      "[1] \"O/E 比率: 0.953642693630674\"\n",
      "[1] \"c_slope: 1.107082853158\"\n",
      "[1] \"Brier 分数: 0.143870669366975\"\n"
     ]
    },
    {
     "name": "stderr",
     "output_type": "stream",
     "text": [
      "Setting levels: control = 0, case = 1\n",
      "\n",
      "Setting direction: controls < cases\n",
      "\n"
     ]
    },
    {
     "name": "stdout",
     "output_type": "stream",
     "text": [
      "[1] \"auc: 0.726435981781376\"\n",
      "[1] \"O/E 比率: 0.99206111864019\"\n",
      "[1] \"c_slope: 1.1848138464302\"\n",
      "[1] \"Brier 分数: 0.143559251330015\"\n"
     ]
    },
    {
     "name": "stderr",
     "output_type": "stream",
     "text": [
      "Setting levels: control = 0, case = 1\n",
      "\n",
      "Setting direction: controls < cases\n",
      "\n"
     ]
    },
    {
     "name": "stdout",
     "output_type": "stream",
     "text": [
      "[1] \"auc: 0.720459027349938\"\n",
      "[1] \"O/E 比率: 0.978453395585099\"\n",
      "[1] \"c_slope: 1.11935453545538\"\n",
      "[1] \"Brier 分数: 0.144586862608006\"\n"
     ]
    },
    {
     "name": "stderr",
     "output_type": "stream",
     "text": [
      "Setting levels: control = 0, case = 1\n",
      "\n",
      "Setting direction: controls < cases\n",
      "\n"
     ]
    },
    {
     "name": "stdout",
     "output_type": "stream",
     "text": [
      "[1] \"auc: 0.719800651293786\"\n",
      "[1] \"O/E 比率: 1.01537680856301\"\n",
      "[1] \"c_slope: 1.07683694314031\"\n",
      "[1] \"Brier 分数: 0.144345470023974\"\n"
     ]
    },
    {
     "name": "stderr",
     "output_type": "stream",
     "text": [
      "Setting levels: control = 0, case = 1\n",
      "\n",
      "Setting direction: controls < cases\n",
      "\n"
     ]
    },
    {
     "name": "stdout",
     "output_type": "stream",
     "text": [
      "[1] \"auc: 0.724434037251364\"\n",
      "[1] \"O/E 比率: 0.998954119830562\"\n",
      "[1] \"c_slope: 1.20200168397469\"\n",
      "[1] \"Brier 分数: 0.143344921704361\"\n"
     ]
    },
    {
     "name": "stderr",
     "output_type": "stream",
     "text": [
      "Setting levels: control = 0, case = 1\n",
      "\n",
      "Setting direction: controls < cases\n",
      "\n"
     ]
    },
    {
     "name": "stdout",
     "output_type": "stream",
     "text": [
      "[1] \"auc: 0.720214929699877\"\n",
      "[1] \"O/E 比率: 0.993668140344446\"\n",
      "[1] \"c_slope: 1.05772906682435\"\n",
      "[1] \"Brier 分数: 0.143635587278552\"\n"
     ]
    },
    {
     "name": "stderr",
     "output_type": "stream",
     "text": [
      "Setting levels: control = 0, case = 1\n",
      "\n",
      "Setting direction: controls < cases\n",
      "\n"
     ]
    },
    {
     "name": "stdout",
     "output_type": "stream",
     "text": [
      "[1] \"auc: 0.718597696818342\"\n",
      "[1] \"O/E 比率: 0.984553652594468\"\n",
      "[1] \"c_slope: 1.18925545972776\"\n",
      "[1] \"Brier 分数: 0.144814061593692\"\n"
     ]
    },
    {
     "name": "stderr",
     "output_type": "stream",
     "text": [
      "Setting levels: control = 0, case = 1\n",
      "\n",
      "Setting direction: controls < cases\n",
      "\n"
     ]
    },
    {
     "name": "stdout",
     "output_type": "stream",
     "text": [
      "[1] \"auc: 0.720992260385495\"\n",
      "[1] \"O/E 比率: 0.94506075049613\"\n",
      "[1] \"c_slope: 1.13678272924491\"\n",
      "[1] \"Brier 分数: 0.144235661687207\"\n"
     ]
    },
    {
     "name": "stderr",
     "output_type": "stream",
     "text": [
      "Setting levels: control = 0, case = 1\n",
      "\n",
      "Setting direction: controls < cases\n",
      "\n"
     ]
    },
    {
     "name": "stdout",
     "output_type": "stream",
     "text": [
      "[1] \"auc: 0.718275556680162\"\n",
      "[1] \"O/E 比率: 0.965934429591415\"\n",
      "[1] \"c_slope: 1.14140597622604\"\n",
      "[1] \"Brier 分数: 0.144351489184084\"\n"
     ]
    },
    {
     "name": "stderr",
     "output_type": "stream",
     "text": [
      "Setting levels: control = 0, case = 1\n",
      "\n",
      "Setting direction: controls < cases\n",
      "\n"
     ]
    },
    {
     "name": "stdout",
     "output_type": "stream",
     "text": [
      "[1] \"auc: 0.722467504070586\"\n",
      "[1] \"O/E 比率: 1.00555315419605\"\n",
      "[1] \"c_slope: 1.17471333542668\"\n",
      "[1] \"Brier 分数: 0.14412170200515\"\n"
     ]
    },
    {
     "name": "stderr",
     "output_type": "stream",
     "text": [
      "Setting levels: control = 0, case = 1\n",
      "\n",
      "Setting direction: controls < cases\n",
      "\n"
     ]
    },
    {
     "name": "stdout",
     "output_type": "stream",
     "text": [
      "[1] \"auc: 0.72449076417004\"\n",
      "[1] \"O/E 比率: 0.985732759103936\"\n",
      "[1] \"c_slope: 1.10584524242318\"\n",
      "[1] \"Brier 分数: 0.143651765719916\"\n"
     ]
    },
    {
     "name": "stderr",
     "output_type": "stream",
     "text": [
      "Setting levels: control = 0, case = 1\n",
      "\n",
      "Setting direction: controls < cases\n",
      "\n"
     ]
    },
    {
     "name": "stdout",
     "output_type": "stream",
     "text": [
      "[1] \"auc: 0.720281970603767\"\n",
      "[1] \"O/E 比率: 0.967902401660848\"\n",
      "[1] \"c_slope: 1.11288034499653\"\n",
      "[1] \"Brier 分数: 0.143878486549557\"\n"
     ]
    },
    {
     "name": "stderr",
     "output_type": "stream",
     "text": [
      "Setting levels: control = 0, case = 1\n",
      "\n",
      "Setting direction: controls < cases\n",
      "\n"
     ]
    },
    {
     "name": "stdout",
     "output_type": "stream",
     "text": [
      "[1] \"auc: 0.721776810860764\"\n",
      "[1] \"O/E 比率: 0.977897848127468\"\n",
      "[1] \"c_slope: 1.11748260801187\"\n",
      "[1] \"Brier 分数: 0.143825653362963\"\n"
     ]
    },
    {
     "name": "stderr",
     "output_type": "stream",
     "text": [
      "Setting levels: control = 0, case = 1\n",
      "\n",
      "Setting direction: controls < cases\n",
      "\n"
     ]
    },
    {
     "name": "stdout",
     "output_type": "stream",
     "text": [
      "[1] \"auc: 0.720794919468403\"\n",
      "[1] \"O/E 比率: 1.03269895679866\"\n",
      "[1] \"c_slope: 1.08562610568457\"\n",
      "[1] \"Brier 分数: 0.144192047722586\"\n"
     ]
    },
    {
     "name": "stderr",
     "output_type": "stream",
     "text": [
      "Setting levels: control = 0, case = 1\n",
      "\n",
      "Setting direction: controls < cases\n",
      "\n"
     ]
    },
    {
     "name": "stdout",
     "output_type": "stream",
     "text": [
      "[1] \"auc: 0.720706562995071\"\n",
      "[1] \"O/E 比率: 0.957712666321698\"\n",
      "[1] \"c_slope: 1.09104064235728\"\n",
      "[1] \"Brier 分数: 0.14371246219327\"\n"
     ]
    },
    {
     "name": "stderr",
     "output_type": "stream",
     "text": [
      "Setting levels: control = 0, case = 1\n",
      "\n",
      "Setting direction: controls < cases\n",
      "\n"
     ]
    },
    {
     "name": "stdout",
     "output_type": "stream",
     "text": [
      "[1] \"auc: 0.727128737788241\"\n",
      "[1] \"O/E 比率: 0.982903461584114\"\n",
      "[1] \"c_slope: 1.13647393758815\"\n",
      "[1] \"Brier 分数: 0.14302729284829\"\n"
     ]
    },
    {
     "name": "stderr",
     "output_type": "stream",
     "text": [
      "Setting levels: control = 0, case = 1\n",
      "\n",
      "Setting direction: controls < cases\n",
      "\n"
     ]
    },
    {
     "name": "stdout",
     "output_type": "stream",
     "text": [
      "[1] \"auc: 0.724114647509241\"\n",
      "[1] \"O/E 比率: 0.983740457338745\"\n",
      "[1] \"c_slope: 1.09734696485178\"\n",
      "[1] \"Brier 分数: 0.143583027554228\"\n"
     ]
    },
    {
     "name": "stderr",
     "output_type": "stream",
     "text": [
      "Setting levels: control = 0, case = 1\n",
      "\n",
      "Setting direction: controls < cases\n",
      "\n"
     ]
    },
    {
     "name": "stdout",
     "output_type": "stream",
     "text": [
      "[1] \"auc: 0.721616944089949\"\n",
      "[1] \"O/E 比率: 0.953250827847941\"\n",
      "[1] \"c_slope: 1.10260886273436\"\n",
      "[1] \"Brier 分数: 0.14337369450752\"\n"
     ]
    },
    {
     "name": "stderr",
     "output_type": "stream",
     "text": [
      "Setting levels: control = 0, case = 1\n",
      "\n",
      "Setting direction: controls < cases\n",
      "\n"
     ]
    },
    {
     "name": "stdout",
     "output_type": "stream",
     "text": [
      "[1] \"auc: 0.72410880291762\"\n",
      "[1] \"O/E 比率: 0.9656246798856\"\n",
      "[1] \"c_slope: 1.09665394928362\"\n",
      "[1] \"Brier 分数: 0.143394482433296\"\n"
     ]
    },
    {
     "name": "stderr",
     "output_type": "stream",
     "text": [
      "Setting levels: control = 0, case = 1\n",
      "\n",
      "Setting direction: controls < cases\n",
      "\n"
     ]
    },
    {
     "name": "stdout",
     "output_type": "stream",
     "text": [
      "[1] \"auc: 0.719922012519803\"\n",
      "[1] \"O/E 比率: 1.01134620709066\"\n",
      "[1] \"c_slope: 1.14509836387205\"\n",
      "[1] \"Brier 分数: 0.143913316971272\"\n"
     ]
    },
    {
     "name": "stderr",
     "output_type": "stream",
     "text": [
      "Setting levels: control = 0, case = 1\n",
      "\n",
      "Setting direction: controls < cases\n",
      "\n"
     ]
    },
    {
     "name": "stdout",
     "output_type": "stream",
     "text": [
      "[1] \"auc: 0.721646854647069\"\n",
      "[1] \"O/E 比率: 0.97952453542002\"\n",
      "[1] \"c_slope: 1.08565537828119\"\n",
      "[1] \"Brier 分数: 0.143448057200618\"\n"
     ]
    },
    {
     "name": "stderr",
     "output_type": "stream",
     "text": [
      "Setting levels: control = 0, case = 1\n",
      "\n",
      "Setting direction: controls < cases\n",
      "\n"
     ]
    },
    {
     "name": "stdout",
     "output_type": "stream",
     "text": [
      "[1] \"auc: 0.722079354427038\"\n",
      "[1] \"O/E 比率: 0.970886803060784\"\n",
      "[1] \"c_slope: 1.0593385939552\"\n",
      "[1] \"Brier 分数: 0.144075185973363\"\n"
     ]
    },
    {
     "name": "stderr",
     "output_type": "stream",
     "text": [
      "Setting levels: control = 0, case = 1\n",
      "\n",
      "Setting direction: controls < cases\n",
      "\n"
     ]
    },
    {
     "name": "stdout",
     "output_type": "stream",
     "text": [
      "[1] \"auc: 0.723609262233762\"\n",
      "[1] \"O/E 比率: 0.972083196551254\"\n",
      "[1] \"c_slope: 1.16501828261539\"\n",
      "[1] \"Brier 分数: 0.144119673992507\"\n"
     ]
    },
    {
     "name": "stderr",
     "output_type": "stream",
     "text": [
      "Setting levels: control = 0, case = 1\n",
      "\n",
      "Setting direction: controls < cases\n",
      "\n"
     ]
    },
    {
     "name": "stdout",
     "output_type": "stream",
     "text": [
      "[1] \"auc: 0.719167028802148\"\n",
      "[1] \"O/E 比率: 1.00663617309409\"\n",
      "[1] \"c_slope: 1.11131053917438\"\n",
      "[1] \"Brier 分数: 0.145041881011088\"\n"
     ]
    },
    {
     "name": "stderr",
     "output_type": "stream",
     "text": [
      "Setting levels: control = 0, case = 1\n",
      "\n",
      "Setting direction: controls < cases\n",
      "\n"
     ]
    },
    {
     "name": "stdout",
     "output_type": "stream",
     "text": [
      "[1] \"auc: 0.720077409897025\"\n",
      "[1] \"O/E 比率: 0.962638589137207\"\n",
      "[1] \"c_slope: 1.06082802648616\"\n",
      "[1] \"Brier 分数: 0.144483768410376\"\n"
     ]
    },
    {
     "name": "stderr",
     "output_type": "stream",
     "text": [
      "Setting levels: control = 0, case = 1\n",
      "\n",
      "Setting direction: controls < cases\n",
      "\n"
     ]
    },
    {
     "name": "stdout",
     "output_type": "stream",
     "text": [
      "[1] \"auc: 0.725171487194156\"\n",
      "[1] \"O/E 比率: 0.994625616462557\"\n",
      "[1] \"c_slope: 1.15310842557418\"\n",
      "[1] \"Brier 分数: 0.143581934842338\"\n"
     ]
    },
    {
     "name": "stderr",
     "output_type": "stream",
     "text": [
      "Setting levels: control = 0, case = 1\n",
      "\n",
      "Setting direction: controls < cases\n",
      "\n"
     ]
    },
    {
     "name": "stdout",
     "output_type": "stream",
     "text": [
      "[1] \"auc: 0.722353706433726\"\n",
      "[1] \"O/E 比率: 0.976089820682955\"\n",
      "[1] \"c_slope: 1.09982788747183\"\n",
      "[1] \"Brier 分数: 0.143469999952538\"\n"
     ]
    },
    {
     "name": "stderr",
     "output_type": "stream",
     "text": [
      "Setting levels: control = 0, case = 1\n",
      "\n",
      "Setting direction: controls < cases\n",
      "\n"
     ]
    },
    {
     "name": "stdout",
     "output_type": "stream",
     "text": [
      "[1] \"auc: 0.725013339420877\"\n",
      "[1] \"O/E 比率: 0.98170365610705\"\n",
      "[1] \"c_slope: 1.04808032212334\"\n",
      "[1] \"Brier 分数: 0.143155636487094\"\n"
     ]
    },
    {
     "name": "stderr",
     "output_type": "stream",
     "text": [
      "Setting levels: control = 0, case = 1\n",
      "\n",
      "Setting direction: controls < cases\n",
      "\n"
     ]
    },
    {
     "name": "stdout",
     "output_type": "stream",
     "text": [
      "[1] \"auc: 0.723131724718359\"\n",
      "[1] \"O/E 比率: 1.00313719080522\"\n",
      "[1] \"c_slope: 1.14452185743221\"\n",
      "[1] \"Brier 分数: 0.143911251855384\"\n"
     ]
    },
    {
     "name": "stderr",
     "output_type": "stream",
     "text": [
      "Setting levels: control = 0, case = 1\n",
      "\n",
      "Setting direction: controls < cases\n",
      "\n"
     ]
    },
    {
     "name": "stdout",
     "output_type": "stream",
     "text": [
      "[1] \"auc: 0.721956618002992\"\n",
      "[1] \"O/E 比率: 0.963478974158637\"\n",
      "[1] \"c_slope: 1.07484935812363\"\n",
      "[1] \"Brier 分数: 0.144332015946995\"\n"
     ]
    },
    {
     "name": "stderr",
     "output_type": "stream",
     "text": [
      "Setting levels: control = 0, case = 1\n",
      "\n",
      "Setting direction: controls < cases\n",
      "\n"
     ]
    },
    {
     "name": "stdout",
     "output_type": "stream",
     "text": [
      "[1] \"auc: 0.723206329211406\"\n",
      "[1] \"O/E 比率: 0.989198648141129\"\n",
      "[1] \"c_slope: 1.09949587296087\"\n",
      "[1] \"Brier 分数: 0.143311814694668\"\n"
     ]
    },
    {
     "name": "stderr",
     "output_type": "stream",
     "text": [
      "Setting levels: control = 0, case = 1\n",
      "\n",
      "Setting direction: controls < cases\n",
      "\n"
     ]
    },
    {
     "name": "stdout",
     "output_type": "stream",
     "text": [
      "[1] \"auc: 0.723683866726809\"\n",
      "[1] \"O/E 比率: 0.999369134517819\"\n",
      "[1] \"c_slope: 1.08386389980881\"\n",
      "[1] \"Brier 分数: 0.143647098434786\"\n"
     ]
    },
    {
     "name": "stderr",
     "output_type": "stream",
     "text": [
      "Setting levels: control = 0, case = 1\n",
      "\n",
      "Setting direction: controls < cases\n",
      "\n"
     ]
    },
    {
     "name": "stdout",
     "output_type": "stream",
     "text": [
      "[1] \"auc: 0.726073273301355\"\n",
      "[1] \"O/E 比率: 1.00930193326043\"\n",
      "[1] \"c_slope: 1.1101461679047\"\n",
      "[1] \"Brier 分数: 0.143865497031832\"\n"
     ]
    },
    {
     "name": "stderr",
     "output_type": "stream",
     "text": [
      "Setting levels: control = 0, case = 1\n",
      "\n",
      "Setting direction: controls < cases\n",
      "\n"
     ]
    },
    {
     "name": "stdout",
     "output_type": "stream",
     "text": [
      "[1] \"auc: 0.723861267272487\"\n",
      "[1] \"O/E 比率: 0.99014649883813\"\n",
      "[1] \"c_slope: 1.08597202894788\"\n",
      "[1] \"Brier 分数: 0.143849437399824\"\n"
     ]
    },
    {
     "name": "stderr",
     "output_type": "stream",
     "text": [
      "Setting levels: control = 0, case = 1\n",
      "\n",
      "Setting direction: controls < cases\n",
      "\n"
     ]
    },
    {
     "name": "stdout",
     "output_type": "stream",
     "text": [
      "[1] \"auc: 0.723430142690547\"\n",
      "[1] \"O/E 比率: 0.988112053546445\"\n",
      "[1] \"c_slope: 1.12877670745662\"\n",
      "[1] \"Brier 分数: 0.144100742533659\"\n"
     ]
    },
    {
     "name": "stderr",
     "output_type": "stream",
     "text": [
      "Setting levels: control = 0, case = 1\n",
      "\n",
      "Setting direction: controls < cases\n",
      "\n"
     ]
    },
    {
     "name": "stdout",
     "output_type": "stream",
     "text": [
      "[1] \"auc: 0.723824480725224\"\n",
      "[1] \"O/E 比率: 1.00779082064925\"\n",
      "[1] \"c_slope: 1.10908246574452\"\n",
      "[1] \"Brier 分数: 0.14356812886212\"\n"
     ]
    },
    {
     "name": "stderr",
     "output_type": "stream",
     "text": [
      "Setting levels: control = 0, case = 1\n",
      "\n",
      "Setting direction: controls < cases\n",
      "\n"
     ]
    },
    {
     "name": "stdout",
     "output_type": "stream",
     "text": [
      "[1] \"auc: 0.723297092281288\"\n",
      "[1] \"O/E 比率: 0.977942109018452\"\n",
      "[1] \"c_slope: 1.09593744129482\"\n",
      "[1] \"Brier 分数: 0.144250730167021\"\n"
     ]
    },
    {
     "name": "stderr",
     "output_type": "stream",
     "text": [
      "Setting levels: control = 0, case = 1\n",
      "\n",
      "Setting direction: controls < cases\n",
      "\n"
     ]
    },
    {
     "name": "stdout",
     "output_type": "stream",
     "text": [
      "[1] \"auc: 0.722571675321246\"\n",
      "[1] \"O/E 比率: 1.00343064172209\"\n",
      "[1] \"c_slope: 1.07640109463131\"\n",
      "[1] \"Brier 分数: 0.144129690504462\"\n"
     ]
    },
    {
     "name": "stderr",
     "output_type": "stream",
     "text": [
      "Setting levels: control = 0, case = 1\n",
      "\n",
      "Setting direction: controls < cases\n",
      "\n"
     ]
    },
    {
     "name": "stdout",
     "output_type": "stream",
     "text": [
      "[1] \"auc: 0.722230970009681\"\n",
      "[1] \"O/E 比率: 0.984944944662805\"\n",
      "[1] \"c_slope: 1.08523578753524\"\n",
      "[1] \"Brier 分数: 0.143291051971056\"\n"
     ]
    },
    {
     "name": "stderr",
     "output_type": "stream",
     "text": [
      "Setting levels: control = 0, case = 1\n",
      "\n",
      "Setting direction: controls < cases\n",
      "\n"
     ]
    },
    {
     "name": "stdout",
     "output_type": "stream",
     "text": [
      "[1] \"auc: 0.721308212132547\"\n",
      "[1] \"O/E 比率: 0.956301639675263\"\n",
      "[1] \"c_slope: 1.08606246309132\"\n",
      "[1] \"Brier 分数: 0.143789985216022\"\n"
     ]
    },
    {
     "name": "stderr",
     "output_type": "stream",
     "text": [
      "Setting levels: control = 0, case = 1\n",
      "\n",
      "Setting direction: controls < cases\n",
      "\n"
     ]
    },
    {
     "name": "stdout",
     "output_type": "stream",
     "text": [
      "[1] \"auc: 0.723354162999472\"\n",
      "[1] \"O/E 比率: 0.978545604301137\"\n",
      "[1] \"c_slope: 1.1008512102108\"\n",
      "[1] \"Brier 分数: 0.143434466340861\"\n"
     ]
    },
    {
     "name": "stderr",
     "output_type": "stream",
     "text": [
      "Setting levels: control = 0, case = 1\n",
      "\n",
      "Setting direction: controls < cases\n",
      "\n"
     ]
    },
    {
     "name": "stdout",
     "output_type": "stream",
     "text": [
      "[1] \"auc: 0.719087954915508\"\n",
      "[1] \"O/E 比率: 0.975391832271741\"\n",
      "[1] \"c_slope: 1.15092765285337\"\n",
      "[1] \"Brier 分数: 0.144173131376668\"\n"
     ]
    },
    {
     "name": "stderr",
     "output_type": "stream",
     "text": [
      "Setting levels: control = 0, case = 1\n",
      "\n",
      "Setting direction: controls < cases\n",
      "\n"
     ]
    },
    {
     "name": "stdout",
     "output_type": "stream",
     "text": [
      "[1] \"auc: 0.726804191053512\"\n",
      "[1] \"O/E 比率: 0.975665335862982\"\n",
      "[1] \"c_slope: 1.09706964496057\"\n",
      "[1] \"Brier 分数: 0.14274382774639\"\n"
     ]
    },
    {
     "name": "stderr",
     "output_type": "stream",
     "text": [
      "Setting levels: control = 0, case = 1\n",
      "\n",
      "Setting direction: controls < cases\n",
      "\n"
     ]
    },
    {
     "name": "stdout",
     "output_type": "stream",
     "text": [
      "[1] \"auc: 0.72197965256997\"\n",
      "[1] \"O/E 比率: 0.947971269268208\"\n",
      "[1] \"c_slope: 1.14265509576379\"\n",
      "[1] \"Brier 分数: 0.144277649908054\"\n"
     ]
    },
    {
     "name": "stderr",
     "output_type": "stream",
     "text": [
      "Setting levels: control = 0, case = 1\n",
      "\n",
      "Setting direction: controls < cases\n",
      "\n"
     ]
    },
    {
     "name": "stdout",
     "output_type": "stream",
     "text": [
      "[1] \"auc: 0.717377896167048\"\n",
      "[1] \"O/E 比率: 1.03296488372666\"\n",
      "[1] \"c_slope: 1.05394098159626\"\n",
      "[1] \"Brier 分数: 0.144645955512754\"\n"
     ]
    },
    {
     "name": "stderr",
     "output_type": "stream",
     "text": [
      "Setting levels: control = 0, case = 1\n",
      "\n",
      "Setting direction: controls < cases\n",
      "\n"
     ]
    },
    {
     "name": "stdout",
     "output_type": "stream",
     "text": [
      "[1] \"auc: 0.720134824414716\"\n",
      "[1] \"O/E 比率: 0.996522219204464\"\n",
      "[1] \"c_slope: 1.2149489987847\"\n",
      "[1] \"Brier 分数: 0.144416989469927\"\n"
     ]
    },
    {
     "name": "stderr",
     "output_type": "stream",
     "text": [
      "Setting levels: control = 0, case = 1\n",
      "\n",
      "Setting direction: controls < cases\n",
      "\n"
     ]
    },
    {
     "name": "stdout",
     "output_type": "stream",
     "text": [
      "[1] \"auc: 0.722146739130435\"\n",
      "[1] \"O/E 比率: 0.961582986608483\"\n",
      "[1] \"c_slope: 1.02501192965851\"\n",
      "[1] \"Brier 分数: 0.144095536917109\"\n"
     ]
    },
    {
     "name": "stderr",
     "output_type": "stream",
     "text": [
      "Setting levels: control = 0, case = 1\n",
      "\n",
      "Setting direction: controls < cases\n",
      "\n"
     ]
    },
    {
     "name": "stdout",
     "output_type": "stream",
     "text": [
      "[1] \"auc: 0.722466472672065\"\n",
      "[1] \"O/E 比率: 0.989699755420987\"\n",
      "[1] \"c_slope: 1.09967188692002\"\n",
      "[1] \"Brier 分数: 0.144208014177931\"\n"
     ]
    },
    {
     "name": "stderr",
     "output_type": "stream",
     "text": [
      "Setting levels: control = 0, case = 1\n",
      "\n",
      "Setting direction: controls < cases\n",
      "\n"
     ]
    },
    {
     "name": "stdout",
     "output_type": "stream",
     "text": [
      "[1] \"auc: 0.722826430756029\"\n",
      "[1] \"O/E 比率: 0.985659512220899\"\n",
      "[1] \"c_slope: 1.09768479689\"\n",
      "[1] \"Brier 分数: 0.143801638219131\"\n"
     ]
    },
    {
     "name": "stderr",
     "output_type": "stream",
     "text": [
      "Setting levels: control = 0, case = 1\n",
      "\n",
      "Setting direction: controls < cases\n",
      "\n"
     ]
    },
    {
     "name": "stdout",
     "output_type": "stream",
     "text": [
      "[1] \"auc: 0.725982510231473\"\n",
      "[1] \"O/E 比率: 0.944728091685725\"\n",
      "[1] \"c_slope: 1.07413065778735\"\n",
      "[1] \"Brier 分数: 0.143252771093091\"\n"
     ]
    },
    {
     "name": "stderr",
     "output_type": "stream",
     "text": [
      "Setting levels: control = 0, case = 1\n",
      "\n",
      "Setting direction: controls < cases\n",
      "\n"
     ]
    },
    {
     "name": "stdout",
     "output_type": "stream",
     "text": [
      "[1] \"auc: 0.726337998921845\"\n",
      "[1] \"O/E 比率: 0.969708319757165\"\n",
      "[1] \"c_slope: 1.0749146445453\"\n",
      "[1] \"Brier 分数: 0.142839759110844\"\n"
     ]
    },
    {
     "name": "stderr",
     "output_type": "stream",
     "text": [
      "Setting levels: control = 0, case = 1\n",
      "\n",
      "Setting direction: controls < cases\n",
      "\n"
     ]
    },
    {
     "name": "stdout",
     "output_type": "stream",
     "text": [
      "[1] \"auc: 0.721479768086605\"\n",
      "[1] \"O/E 比率: 0.995425106695139\"\n",
      "[1] \"c_slope: 1.08894709990746\"\n",
      "[1] \"Brier 分数: 0.14424001395525\"\n"
     ]
    },
    {
     "name": "stderr",
     "output_type": "stream",
     "text": [
      "Setting levels: control = 0, case = 1\n",
      "\n",
      "Setting direction: controls < cases\n",
      "\n"
     ]
    },
    {
     "name": "stdout",
     "output_type": "stream",
     "text": [
      "[1] \"auc: 0.723183982243443\"\n",
      "[1] \"O/E 比率: 0.97228316740119\"\n",
      "[1] \"c_slope: 1.11776224191779\"\n",
      "[1] \"Brier 分数: 0.143449734504348\"\n"
     ]
    },
    {
     "name": "stderr",
     "output_type": "stream",
     "text": [
      "Setting levels: control = 0, case = 1\n",
      "\n",
      "Setting direction: controls < cases\n",
      "\n"
     ]
    },
    {
     "name": "stdout",
     "output_type": "stream",
     "text": [
      "[1] \"auc: 0.722800645792994\"\n",
      "[1] \"O/E 比率: 0.995746870995204\"\n",
      "[1] \"c_slope: 1.20142894719885\"\n",
      "[1] \"Brier 分数: 0.143897260720282\"\n"
     ]
    },
    {
     "name": "stderr",
     "output_type": "stream",
     "text": [
      "Setting levels: control = 0, case = 1\n",
      "\n",
      "Setting direction: controls < cases\n",
      "\n"
     ]
    },
    {
     "name": "stdout",
     "output_type": "stream",
     "text": [
      "[1] \"auc: 0.729284704497448\"\n",
      "[1] \"O/E 比率: 0.986606012661457\"\n",
      "[1] \"c_slope: 1.08543089467241\"\n",
      "[1] \"Brier 分数: 0.142572791340103\"\n"
     ]
    },
    {
     "name": "stderr",
     "output_type": "stream",
     "text": [
      "Setting levels: control = 0, case = 1\n",
      "\n",
      "Setting direction: controls < cases\n",
      "\n"
     ]
    },
    {
     "name": "stdout",
     "output_type": "stream",
     "text": [
      "[1] \"auc: 0.722757670854603\"\n",
      "[1] \"O/E 比率: 0.999029587586772\"\n",
      "[1] \"c_slope: 1.09032915902472\"\n",
      "[1] \"Brier 分数: 0.14370881400642\"\n"
     ]
    },
    {
     "name": "stderr",
     "output_type": "stream",
     "text": [
      "Setting levels: control = 0, case = 1\n",
      "\n",
      "Setting direction: controls < cases\n",
      "\n"
     ]
    },
    {
     "name": "stdout",
     "output_type": "stream",
     "text": [
      "[1] \"auc: 0.720110758449217\"\n",
      "[1] \"O/E 比率: 1.01715389036156\"\n",
      "[1] \"c_slope: 1.07192914356764\"\n",
      "[1] \"Brier 分数: 0.144296893339549\"\n"
     ]
    },
    {
     "name": "stderr",
     "output_type": "stream",
     "text": [
      "Setting levels: control = 0, case = 1\n",
      "\n",
      "Setting direction: controls < cases\n",
      "\n"
     ]
    },
    {
     "name": "stdout",
     "output_type": "stream",
     "text": [
      "[1] \"auc: 0.724714233849674\"\n",
      "[1] \"O/E 比率: 0.96681558584668\"\n",
      "[1] \"c_slope: 1.16956051522374\"\n",
      "[1] \"Brier 分数: 0.14386349931981\"\n"
     ]
    },
    {
     "name": "stderr",
     "output_type": "stream",
     "text": [
      "Setting levels: control = 0, case = 1\n",
      "\n",
      "Setting direction: controls < cases\n",
      "\n"
     ]
    },
    {
     "name": "stdout",
     "output_type": "stream",
     "text": [
      "[1] \"auc: 0.720336978524908\"\n",
      "[1] \"O/E 比率: 0.997068978220826\"\n",
      "[1] \"c_slope: 1.0690927839557\"\n",
      "[1] \"Brier 分数: 0.143685774379493\"\n"
     ]
    },
    {
     "name": "stderr",
     "output_type": "stream",
     "text": [
      "Setting levels: control = 0, case = 1\n",
      "\n",
      "Setting direction: controls < cases\n",
      "\n"
     ]
    },
    {
     "name": "stdout",
     "output_type": "stream",
     "text": [
      "[1] \"auc: 0.720444931570146\"\n",
      "[1] \"O/E 比率: 0.973852493358069\"\n",
      "[1] \"c_slope: 1.10591778143656\"\n",
      "[1] \"Brier 分数: 0.143676030584471\"\n"
     ]
    },
    {
     "name": "stderr",
     "output_type": "stream",
     "text": [
      "Setting levels: control = 0, case = 1\n",
      "\n",
      "Setting direction: controls < cases\n",
      "\n"
     ]
    },
    {
     "name": "stdout",
     "output_type": "stream",
     "text": [
      "[1] \"auc: 0.726803847254005\"\n",
      "[1] \"O/E 比率: 0.979985339112668\"\n",
      "[1] \"c_slope: 1.04536380380873\"\n",
      "[1] \"Brier 分数: 0.143195147953361\"\n"
     ]
    },
    {
     "name": "stderr",
     "output_type": "stream",
     "text": [
      "Setting levels: control = 0, case = 1\n",
      "\n",
      "Setting direction: controls < cases\n",
      "\n"
     ]
    },
    {
     "name": "stdout",
     "output_type": "stream",
     "text": [
      "[1] \"auc: 0.722004062334976\"\n",
      "[1] \"O/E 比率: 0.995613468974459\"\n",
      "[1] \"c_slope: 1.05441434250246\"\n",
      "[1] \"Brier 分数: 0.143929615041175\"\n"
     ]
    },
    {
     "name": "stderr",
     "output_type": "stream",
     "text": [
      "Setting levels: control = 0, case = 1\n",
      "\n",
      "Setting direction: controls < cases\n",
      "\n"
     ]
    },
    {
     "name": "stdout",
     "output_type": "stream",
     "text": [
      "[1] \"auc: 0.718173104427038\"\n",
      "[1] \"O/E 比率: 0.937106100563649\"\n",
      "[1] \"c_slope: 1.06630460517743\"\n",
      "[1] \"Brier 分数: 0.144235315937111\"\n"
     ]
    },
    {
     "name": "stderr",
     "output_type": "stream",
     "text": [
      "Setting levels: control = 0, case = 1\n",
      "\n",
      "Setting direction: controls < cases\n",
      "\n"
     ]
    },
    {
     "name": "stdout",
     "output_type": "stream",
     "text": [
      "[1] \"auc: 0.723843389698117\"\n",
      "[1] \"O/E 比率: 0.971051873935161\"\n",
      "[1] \"c_slope: 1.0645967828989\"\n",
      "[1] \"Brier 分数: 0.143616728863898\"\n"
     ]
    },
    {
     "name": "stderr",
     "output_type": "stream",
     "text": [
      "Setting levels: control = 0, case = 1\n",
      "\n",
      "Setting direction: controls < cases\n",
      "\n"
     ]
    },
    {
     "name": "stdout",
     "output_type": "stream",
     "text": [
      "[1] \"auc: 0.720119353436895\"\n",
      "[1] \"O/E 比率: 0.967350316601402\"\n",
      "[1] \"c_slope: 1.0933102513177\"\n",
      "[1] \"Brier 分数: 0.143947493199356\"\n"
     ]
    },
    {
     "name": "stderr",
     "output_type": "stream",
     "text": [
      "Setting levels: control = 0, case = 1\n",
      "\n",
      "Setting direction: controls < cases\n",
      "\n"
     ]
    },
    {
     "name": "stdout",
     "output_type": "stream",
     "text": [
      "[1] \"auc: 0.722435186916916\"\n",
      "[1] \"O/E 比率: 0.93650879234357\"\n",
      "[1] \"c_slope: 1.07025133584987\"\n",
      "[1] \"Brier 分数: 0.144173452620328\"\n"
     ]
    },
    {
     "name": "stderr",
     "output_type": "stream",
     "text": [
      "Setting levels: control = 0, case = 1\n",
      "\n",
      "Setting direction: controls < cases\n",
      "\n"
     ]
    },
    {
     "name": "stdout",
     "output_type": "stream",
     "text": [
      "[1] \"auc: 0.721224325052808\"\n",
      "[1] \"O/E 比率: 1.00308485826196\"\n",
      "[1] \"c_slope: 1.08943727903624\"\n",
      "[1] \"Brier 分数: 0.144219890669217\"\n"
     ]
    },
    {
     "name": "stderr",
     "output_type": "stream",
     "text": [
      "Setting levels: control = 0, case = 1\n",
      "\n",
      "Setting direction: controls < cases\n",
      "\n"
     ]
    },
    {
     "name": "stdout",
     "output_type": "stream",
     "text": [
      "[1] \"auc: 0.71822192395705\"\n",
      "[1] \"O/E 比率: 0.944491794919317\"\n",
      "[1] \"c_slope: 1.0793989189728\"\n",
      "[1] \"Brier 分数: 0.144390982173241\"\n"
     ]
    },
    {
     "name": "stderr",
     "output_type": "stream",
     "text": [
      "Setting levels: control = 0, case = 1\n",
      "\n",
      "Setting direction: controls < cases\n",
      "\n"
     ]
    },
    {
     "name": "stdout",
     "output_type": "stream",
     "text": [
      "[1] \"auc: 0.718790912141348\"\n",
      "[1] \"O/E 比率: 0.980096115794175\"\n",
      "[1] \"c_slope: 1.07550213744012\"\n",
      "[1] \"Brier 分数: 0.144248034484017\"\n"
     ]
    },
    {
     "name": "stderr",
     "output_type": "stream",
     "text": [
      "Setting levels: control = 0, case = 1\n",
      "\n",
      "Setting direction: controls < cases\n",
      "\n"
     ]
    },
    {
     "name": "stdout",
     "output_type": "stream",
     "text": [
      "[1] \"auc: 0.724665758119169\"\n",
      "[1] \"O/E 比率: 0.963730247953943\"\n",
      "[1] \"c_slope: 1.24665053948716\"\n",
      "[1] \"Brier 分数: 0.143636602013142\"\n"
     ]
    },
    {
     "name": "stderr",
     "output_type": "stream",
     "text": [
      "Setting levels: control = 0, case = 1\n",
      "\n",
      "Setting direction: controls < cases\n",
      "\n"
     ]
    },
    {
     "name": "stdout",
     "output_type": "stream",
     "text": [
      "[1] \"auc: 0.717477598024115\"\n",
      "[1] \"O/E 比率: 1.00124972493353\"\n",
      "[1] \"c_slope: 1.07281740325947\"\n",
      "[1] \"Brier 分数: 0.144545408061153\"\n"
     ]
    },
    {
     "name": "stderr",
     "output_type": "stream",
     "text": [
      "Setting levels: control = 0, case = 1\n",
      "\n",
      "Setting direction: controls < cases\n",
      "\n"
     ]
    },
    {
     "name": "stdout",
     "output_type": "stream",
     "text": [
      "[1] \"auc: 0.722773141832424\"\n",
      "[1] \"O/E 比率: 1.03802277272767\"\n",
      "[1] \"c_slope: 1.1279173642113\"\n",
      "[1] \"Brier 分数: 0.143958726238673\"\n"
     ]
    },
    {
     "name": "stderr",
     "output_type": "stream",
     "text": [
      "Setting levels: control = 0, case = 1\n",
      "\n",
      "Setting direction: controls < cases\n",
      "\n"
     ]
    },
    {
     "name": "stdout",
     "output_type": "stream",
     "text": [
      "[1] \"auc: 0.722559986138004\"\n",
      "[1] \"O/E 比率: 0.974624294544784\"\n",
      "[1] \"c_slope: 1.08644869767443\"\n",
      "[1] \"Brier 分数: 0.143972384986037\"\n"
     ]
    },
    {
     "name": "stderr",
     "output_type": "stream",
     "text": [
      "Setting levels: control = 0, case = 1\n",
      "\n",
      "Setting direction: controls < cases\n",
      "\n"
     ]
    },
    {
     "name": "stdout",
     "output_type": "stream",
     "text": [
      "[1] \"auc: 0.718325407608696\"\n",
      "[1] \"O/E 比率: 1.01453217431945\"\n",
      "[1] \"c_slope: 1.10565504119659\"\n",
      "[1] \"Brier 分数: 0.144631597278718\"\n"
     ]
    },
    {
     "name": "stderr",
     "output_type": "stream",
     "text": [
      "Setting levels: control = 0, case = 1\n",
      "\n",
      "Setting direction: controls < cases\n",
      "\n"
     ]
    },
    {
     "name": "stdout",
     "output_type": "stream",
     "text": [
      "[1] \"auc: 0.723082217589333\"\n",
      "[1] \"O/E 比率: 0.98396993311582\"\n",
      "[1] \"c_slope: 1.13081164565612\"\n",
      "[1] \"Brier 分数: 0.143886335986199\"\n"
     ]
    },
    {
     "name": "stderr",
     "output_type": "stream",
     "text": [
      "Setting levels: control = 0, case = 1\n",
      "\n",
      "Setting direction: controls < cases\n",
      "\n"
     ]
    },
    {
     "name": "stdout",
     "output_type": "stream",
     "text": [
      "[1] \"auc: 0.723230395176905\"\n",
      "[1] \"O/E 比率: 0.97347587298\"\n",
      "[1] \"c_slope: 1.11579917722666\"\n",
      "[1] \"Brier 分数: 0.143801166716799\"\n"
     ]
    },
    {
     "name": "stderr",
     "output_type": "stream",
     "text": [
      "Setting levels: control = 0, case = 1\n",
      "\n",
      "Setting direction: controls < cases\n",
      "\n"
     ]
    },
    {
     "name": "stdout",
     "output_type": "stream",
     "text": [
      "[1] \"auc: 0.720915249295899\"\n",
      "[1] \"O/E 比率: 0.977945987167044\"\n",
      "[1] \"c_slope: 1.16160197708174\"\n",
      "[1] \"Brier 分数: 0.144192255615637\"\n"
     ]
    },
    {
     "name": "stderr",
     "output_type": "stream",
     "text": [
      "Setting levels: control = 0, case = 1\n",
      "\n",
      "Setting direction: controls < cases\n",
      "\n"
     ]
    },
    {
     "name": "stdout",
     "output_type": "stream",
     "text": [
      "[1] \"auc: 0.721201978084844\"\n",
      "[1] \"O/E 比率: 0.967331401830672\"\n",
      "[1] \"c_slope: 1.04299193220429\"\n",
      "[1] \"Brier 分数: 0.144359478495391\"\n"
     ]
    },
    {
     "name": "stderr",
     "output_type": "stream",
     "text": [
      "Setting levels: control = 0, case = 1\n",
      "\n",
      "Setting direction: controls < cases\n",
      "\n"
     ]
    },
    {
     "name": "stdout",
     "output_type": "stream",
     "text": [
      "[1] \"auc: 0.721618663087485\"\n",
      "[1] \"O/E 比率: 0.997297046193014\"\n",
      "[1] \"c_slope: 1.09791985011528\"\n",
      "[1] \"Brier 分数: 0.144027759790569\"\n"
     ]
    },
    {
     "name": "stderr",
     "output_type": "stream",
     "text": [
      "Setting levels: control = 0, case = 1\n",
      "\n",
      "Setting direction: controls < cases\n",
      "\n"
     ]
    },
    {
     "name": "stdout",
     "output_type": "stream",
     "text": [
      "[1] \"auc: 0.719953985873966\"\n",
      "[1] \"O/E 比率: 1.01261343145955\"\n",
      "[1] \"c_slope: 1.11351537169552\"\n",
      "[1] \"Brier 分数: 0.143598699233012\"\n"
     ]
    },
    {
     "name": "stderr",
     "output_type": "stream",
     "text": [
      "Setting levels: control = 0, case = 1\n",
      "\n",
      "Setting direction: controls < cases\n",
      "\n"
     ]
    },
    {
     "name": "stdout",
     "output_type": "stream",
     "text": [
      "[1] \"auc: 0.722042224080268\"\n",
      "[1] \"O/E 比率: 0.970158622012545\"\n",
      "[1] \"c_slope: 1.06502684037799\"\n",
      "[1] \"Brier 分数: 0.143695117418032\"\n"
     ]
    },
    {
     "name": "stderr",
     "output_type": "stream",
     "text": [
      "Setting levels: control = 0, case = 1\n",
      "\n",
      "Setting direction: controls < cases\n",
      "\n"
     ]
    },
    {
     "name": "stdout",
     "output_type": "stream",
     "text": [
      "[1] \"auc: 0.724431286855307\"\n",
      "[1] \"O/E 比率: 0.97988586167583\"\n",
      "[1] \"c_slope: 1.16131931798644\"\n",
      "[1] \"Brier 分数: 0.143257643117824\"\n"
     ]
    },
    {
     "name": "stderr",
     "output_type": "stream",
     "text": [
      "Setting levels: control = 0, case = 1\n",
      "\n",
      "Setting direction: controls < cases\n",
      "\n"
     ]
    },
    {
     "name": "stdout",
     "output_type": "stream",
     "text": [
      "[1] \"auc: 0.720530537647421\"\n",
      "[1] \"O/E 比率: 0.971452372284926\"\n",
      "[1] \"c_slope: 1.10531643519742\"\n",
      "[1] \"Brier 分数: 0.144276699622981\"\n"
     ]
    },
    {
     "name": "stderr",
     "output_type": "stream",
     "text": [
      "Setting levels: control = 0, case = 1\n",
      "\n",
      "Setting direction: controls < cases\n",
      "\n"
     ]
    },
    {
     "name": "stdout",
     "output_type": "stream",
     "text": [
      "[1] \"auc: 0.719874568187819\"\n",
      "[1] \"O/E 比率: 0.982652004249703\"\n",
      "[1] \"c_slope: 1.11528783321268\"\n",
      "[1] \"Brier 分数: 0.144190076112545\"\n"
     ]
    },
    {
     "name": "stderr",
     "output_type": "stream",
     "text": [
      "Setting levels: control = 0, case = 1\n",
      "\n",
      "Setting direction: controls < cases\n",
      "\n"
     ]
    },
    {
     "name": "stdout",
     "output_type": "stream",
     "text": [
      "[1] \"auc: 0.718772690767471\"\n",
      "[1] \"O/E 比率: 0.998008187780441\"\n",
      "[1] \"c_slope: 1.08614338644553\"\n",
      "[1] \"Brier 分数: 0.144330629340241\"\n"
     ]
    },
    {
     "name": "stderr",
     "output_type": "stream",
     "text": [
      "Setting levels: control = 0, case = 1\n",
      "\n",
      "Setting direction: controls < cases\n",
      "\n"
     ]
    },
    {
     "name": "stdout",
     "output_type": "stream",
     "text": [
      "[1] \"auc: 0.718919493157015\"\n",
      "[1] \"O/E 比率: 0.991627458555692\"\n",
      "[1] \"c_slope: 1.04264366302137\"\n",
      "[1] \"Brier 分数: 0.144099265390902\"\n"
     ]
    },
    {
     "name": "stderr",
     "output_type": "stream",
     "text": [
      "Setting levels: control = 0, case = 1\n",
      "\n",
      "Setting direction: controls < cases\n",
      "\n"
     ]
    },
    {
     "name": "stdout",
     "output_type": "stream",
     "text": [
      "[1] \"auc: 0.720516441867629\"\n",
      "[1] \"O/E 比率: 0.955184817741791\"\n",
      "[1] \"c_slope: 1.11119277604545\"\n",
      "[1] \"Brier 分数: 0.144448167107031\"\n"
     ]
    },
    {
     "name": "stderr",
     "output_type": "stream",
     "text": [
      "Setting levels: control = 0, case = 1\n",
      "\n",
      "Setting direction: controls < cases\n",
      "\n"
     ]
    },
    {
     "name": "stdout",
     "output_type": "stream",
     "text": [
      "[1] \"auc: 0.724540958898081\"\n",
      "[1] \"O/E 比率: 0.99615357829524\"\n",
      "[1] \"c_slope: 1.13846957272\"\n",
      "[1] \"Brier 分数: 0.143325776147249\"\n"
     ]
    },
    {
     "name": "stderr",
     "output_type": "stream",
     "text": [
      "Setting levels: control = 0, case = 1\n",
      "\n",
      "Setting direction: controls < cases\n",
      "\n"
     ]
    },
    {
     "name": "stdout",
     "output_type": "stream",
     "text": [
      "[1] \"auc: 0.721459827715191\"\n",
      "[1] \"O/E 比率: 0.943325458864963\"\n",
      "[1] \"c_slope: 1.05917914855372\"\n",
      "[1] \"Brier 分数: 0.14383003828635\"\n"
     ]
    },
    {
     "name": "stderr",
     "output_type": "stream",
     "text": [
      "Setting levels: control = 0, case = 1\n",
      "\n",
      "Setting direction: controls < cases\n",
      "\n"
     ]
    },
    {
     "name": "stdout",
     "output_type": "stream",
     "text": [
      "[1] \"auc: 0.716506364416476\"\n",
      "[1] \"O/E 比率: 0.95734108579636\"\n",
      "[1] \"c_slope: 1.14377509046986\"\n",
      "[1] \"Brier 分数: 0.144291071423178\"\n"
     ]
    },
    {
     "name": "stderr",
     "output_type": "stream",
     "text": [
      "Setting levels: control = 0, case = 1\n",
      "\n",
      "Setting direction: controls < cases\n",
      "\n"
     ]
    },
    {
     "name": "stdout",
     "output_type": "stream",
     "text": [
      "[1] \"auc: 0.720592421558704\"\n",
      "[1] \"O/E 比率: 1.03542652468687\"\n",
      "[1] \"c_slope: 1.04763539513637\"\n",
      "[1] \"Brier 分数: 0.14420303752702\"\n"
     ]
    },
    {
     "name": "stderr",
     "output_type": "stream",
     "text": [
      "Setting levels: control = 0, case = 1\n",
      "\n",
      "Setting direction: controls < cases\n",
      "\n"
     ]
    },
    {
     "name": "stdout",
     "output_type": "stream",
     "text": [
      "[1] \"auc: 0.725321727578771\"\n",
      "[1] \"O/E 比率: 1.01095834775174\"\n",
      "[1] \"c_slope: 1.06892526342944\"\n",
      "[1] \"Brier 分数: 0.143349959751761\"\n"
     ]
    },
    {
     "name": "stderr",
     "output_type": "stream",
     "text": [
      "Setting levels: control = 0, case = 1\n",
      "\n",
      "Setting direction: controls < cases\n",
      "\n"
     ]
    },
    {
     "name": "stdout",
     "output_type": "stream",
     "text": [
      "[1] \"auc: 0.726613382327055\"\n",
      "[1] \"O/E 比率: 0.99843512549798\"\n",
      "[1] \"c_slope: 0.989088654722245\"\n",
      "[1] \"Brier 分数: 0.143807275567207\"\n"
     ]
    },
    {
     "name": "stderr",
     "output_type": "stream",
     "text": [
      "Setting levels: control = 0, case = 1\n",
      "\n",
      "Setting direction: controls < cases\n",
      "\n"
     ]
    },
    {
     "name": "stdout",
     "output_type": "stream",
     "text": [
      "[1] \"auc: 0.720095631270903\"\n",
      "[1] \"O/E 比率: 1.02700671644529\"\n",
      "[1] \"c_slope: 1.05952691891013\"\n",
      "[1] \"Brier 分数: 0.144202945155154\"\n"
     ]
    },
    {
     "name": "stderr",
     "output_type": "stream",
     "text": [
      "Setting levels: control = 0, case = 1\n",
      "\n",
      "Setting direction: controls < cases\n",
      "\n"
     ]
    },
    {
     "name": "stdout",
     "output_type": "stream",
     "text": [
      "[1] \"auc: 0.722556548142933\"\n",
      "[1] \"O/E 比率: 1.00491433064506\"\n",
      "[1] \"c_slope: 1.11279541306724\"\n",
      "[1] \"Brier 分数: 0.143958395334829\"\n"
     ]
    },
    {
     "name": "stderr",
     "output_type": "stream",
     "text": [
      "Setting levels: control = 0, case = 1\n",
      "\n",
      "Setting direction: controls < cases\n",
      "\n"
     ]
    },
    {
     "name": "stdout",
     "output_type": "stream",
     "text": [
      "[1] \"auc: 0.723762253014434\"\n",
      "[1] \"O/E 比率: 0.97962867531524\"\n",
      "[1] \"c_slope: 1.07165834690131\"\n",
      "[1] \"Brier 分数: 0.143430888681633\"\n"
     ]
    },
    {
     "name": "stderr",
     "output_type": "stream",
     "text": [
      "Setting levels: control = 0, case = 1\n",
      "\n",
      "Setting direction: controls < cases\n",
      "\n"
     ]
    },
    {
     "name": "stdout",
     "output_type": "stream",
     "text": [
      "[1] \"auc: 0.71796201152966\"\n",
      "[1] \"O/E 比率: 1.01781973393505\"\n",
      "[1] \"c_slope: 1.08018067302847\"\n",
      "[1] \"Brier 分数: 0.144475912084233\"\n"
     ]
    },
    {
     "name": "stderr",
     "output_type": "stream",
     "text": [
      "Setting levels: control = 0, case = 1\n",
      "\n",
      "Setting direction: controls < cases\n",
      "\n"
     ]
    },
    {
     "name": "stdout",
     "output_type": "stream",
     "text": [
      "[1] \"auc: 0.724880976610632\"\n",
      "[1] \"O/E 比率: 1.01270288274845\"\n",
      "[1] \"c_slope: 1.12944175169713\"\n",
      "[1] \"Brier 分数: 0.143962676656407\"\n"
     ]
    },
    {
     "name": "stderr",
     "output_type": "stream",
     "text": [
      "Setting levels: control = 0, case = 1\n",
      "\n",
      "Setting direction: controls < cases\n",
      "\n"
     ]
    },
    {
     "name": "stdout",
     "output_type": "stream",
     "text": [
      "[1] \"auc: 0.718520685728745\"\n",
      "[1] \"O/E 比率: 0.955953527654292\"\n",
      "[1] \"c_slope: 1.05657640222084\"\n",
      "[1] \"Brier 分数: 0.144448204137155\"\n"
     ]
    },
    {
     "name": "stderr",
     "output_type": "stream",
     "text": [
      "Setting levels: control = 0, case = 1\n",
      "\n",
      "Setting direction: controls < cases\n",
      "\n"
     ]
    },
    {
     "name": "stdout",
     "output_type": "stream",
     "text": [
      "[1] \"auc: 0.722771766634395\"\n",
      "[1] \"O/E 比率: 0.961538506012896\"\n",
      "[1] \"c_slope: 1.08815610748332\"\n",
      "[1] \"Brier 分数: 0.143691609143765\"\n"
     ]
    },
    {
     "name": "stderr",
     "output_type": "stream",
     "text": [
      "Setting levels: control = 0, case = 1\n",
      "\n",
      "Setting direction: controls < cases\n",
      "\n"
     ]
    },
    {
     "name": "stdout",
     "output_type": "stream",
     "text": [
      "[1] \"auc: 0.722002343337441\"\n",
      "[1] \"O/E 比率: 0.989981404036973\"\n",
      "[1] \"c_slope: 1.05646388180847\"\n",
      "[1] \"Brier 分数: 0.144060384295594\"\n"
     ]
    },
    {
     "name": "stderr",
     "output_type": "stream",
     "text": [
      "Setting levels: control = 0, case = 1\n",
      "\n",
      "Setting direction: controls < cases\n",
      "\n"
     ]
    },
    {
     "name": "stdout",
     "output_type": "stream",
     "text": [
      "[1] \"auc: 0.721529619015138\"\n",
      "[1] \"O/E 比率: 1.013915322031\"\n",
      "[1] \"c_slope: 1.13274892223698\"\n",
      "[1] \"Brier 分数: 0.144109112984097\"\n"
     ]
    },
    {
     "name": "stderr",
     "output_type": "stream",
     "text": [
      "Setting levels: control = 0, case = 1\n",
      "\n",
      "Setting direction: controls < cases\n",
      "\n"
     ]
    },
    {
     "name": "stdout",
     "output_type": "stream",
     "text": [
      "[1] \"auc: 0.722300073710614\"\n",
      "[1] \"O/E 比率: 0.966759802001531\"\n",
      "[1] \"c_slope: 1.09381745458196\"\n",
      "[1] \"Brier 分数: 0.143945031076311\"\n"
     ]
    },
    {
     "name": "stderr",
     "output_type": "stream",
     "text": [
      "Setting levels: control = 0, case = 1\n",
      "\n",
      "Setting direction: controls < cases\n",
      "\n"
     ]
    },
    {
     "name": "stdout",
     "output_type": "stream",
     "text": [
      "[1] \"auc: 0.727683286393241\"\n",
      "[1] \"O/E 比率: 0.988944219124242\"\n",
      "[1] \"c_slope: 1.07175199307286\"\n",
      "[1] \"Brier 分数: 0.143165316979473\"\n"
     ]
    },
    {
     "name": "stderr",
     "output_type": "stream",
     "text": [
      "Setting levels: control = 0, case = 1\n",
      "\n",
      "Setting direction: controls < cases\n",
      "\n"
     ]
    },
    {
     "name": "stdout",
     "output_type": "stream",
     "text": [
      "[1] \"auc: 0.722752513861996\"\n",
      "[1] \"O/E 比率: 1.00470653645334\"\n",
      "[1] \"c_slope: 1.11428434887594\"\n",
      "[1] \"Brier 分数: 0.143809287248005\"\n"
     ]
    },
    {
     "name": "stderr",
     "output_type": "stream",
     "text": [
      "Setting levels: control = 0, case = 1\n",
      "\n",
      "Setting direction: controls < cases\n",
      "\n"
     ]
    },
    {
     "name": "stdout",
     "output_type": "stream",
     "text": [
      "[1] \"auc: 0.721275894978877\"\n",
      "[1] \"O/E 比率: 0.958528899404025\"\n",
      "[1] \"c_slope: 1.00213064763809\"\n",
      "[1] \"Brier 分数: 0.144423968422561\"\n"
     ]
    },
    {
     "name": "stderr",
     "output_type": "stream",
     "text": [
      "Setting levels: control = 0, case = 1\n",
      "\n",
      "Setting direction: controls < cases\n",
      "\n"
     ]
    },
    {
     "name": "stdout",
     "output_type": "stream",
     "text": [
      "[1] \"auc: 0.71778357958546\"\n",
      "[1] \"O/E 比率: 0.981412097803739\"\n",
      "[1] \"c_slope: 1.05448451725847\"\n",
      "[1] \"Brier 分数: 0.144435504872711\"\n"
     ]
    },
    {
     "name": "stderr",
     "output_type": "stream",
     "text": [
      "Setting levels: control = 0, case = 1\n",
      "\n",
      "Setting direction: controls < cases\n",
      "\n"
     ]
    },
    {
     "name": "stdout",
     "output_type": "stream",
     "text": [
      "[1] \"auc: 0.718126003894561\"\n",
      "[1] \"O/E 比率: 0.957076454896055\"\n",
      "[1] \"c_slope: 1.03648498086195\"\n",
      "[1] \"Brier 分数: 0.144104776439192\"\n"
     ]
    },
    {
     "name": "stderr",
     "output_type": "stream",
     "text": [
      "Setting levels: control = 0, case = 1\n",
      "\n",
      "Setting direction: controls < cases\n",
      "\n"
     ]
    },
    {
     "name": "stdout",
     "output_type": "stream",
     "text": [
      "[1] \"auc: 0.721738649115473\"\n",
      "[1] \"O/E 比率: 1.02865427652123\"\n",
      "[1] \"c_slope: 1.13330568638733\"\n",
      "[1] \"Brier 分数: 0.144175711435399\"\n"
     ]
    },
    {
     "name": "stderr",
     "output_type": "stream",
     "text": [
      "Setting levels: control = 0, case = 1\n",
      "\n",
      "Setting direction: controls < cases\n",
      "\n"
     ]
    },
    {
     "name": "stdout",
     "output_type": "stream",
     "text": [
      "[1] \"auc: 0.723310500462067\"\n",
      "[1] \"O/E 比率: 0.999818190061136\"\n",
      "[1] \"c_slope: 1.11494971052081\"\n",
      "[1] \"Brier 分数: 0.144027265358617\"\n"
     ]
    },
    {
     "name": "stderr",
     "output_type": "stream",
     "text": [
      "Setting levels: control = 0, case = 1\n",
      "\n",
      "Setting direction: controls < cases\n",
      "\n"
     ]
    },
    {
     "name": "stdout",
     "output_type": "stream",
     "text": [
      "[1] \"auc: 0.722884189073226\"\n",
      "[1] \"O/E 比率: 0.954157320688635\"\n",
      "[1] \"c_slope: 1.08771778678949\"\n",
      "[1] \"Brier 分数: 0.143920016885039\"\n"
     ]
    },
    {
     "name": "stderr",
     "output_type": "stream",
     "text": [
      "Setting levels: control = 0, case = 1\n",
      "\n",
      "Setting direction: controls < cases\n",
      "\n"
     ]
    },
    {
     "name": "stdout",
     "output_type": "stream",
     "text": [
      "[1] \"auc: 0.722367114614504\"\n",
      "[1] \"O/E 比率: 0.969202711491257\"\n",
      "[1] \"c_slope: 1.02745216811958\"\n",
      "[1] \"Brier 分数: 0.144078756460308\"\n"
     ]
    },
    {
     "name": "stderr",
     "output_type": "stream",
     "text": [
      "Setting levels: control = 0, case = 1\n",
      "\n",
      "Setting direction: controls < cases\n",
      "\n"
     ]
    },
    {
     "name": "stdout",
     "output_type": "stream",
     "text": [
      "[1] \"auc: 0.719023320608168\"\n",
      "[1] \"O/E 比率: 0.963047350497887\"\n",
      "[1] \"c_slope: 1.14006177586745\"\n",
      "[1] \"Brier 分数: 0.144666174947585\"\n"
     ]
    },
    {
     "name": "stderr",
     "output_type": "stream",
     "text": [
      "Setting levels: control = 0, case = 1\n",
      "\n",
      "Setting direction: controls < cases\n",
      "\n"
     ]
    },
    {
     "name": "stdout",
     "output_type": "stream",
     "text": [
      "[1] \"auc: 0.724110865714663\"\n",
      "[1] \"O/E 比率: 0.991440234548312\"\n",
      "[1] \"c_slope: 1.17495082351786\"\n",
      "[1] \"Brier 分数: 0.143386173531151\"\n"
     ]
    },
    {
     "name": "stderr",
     "output_type": "stream",
     "text": [
      "Setting levels: control = 0, case = 1\n",
      "\n",
      "Setting direction: controls < cases\n",
      "\n"
     ]
    },
    {
     "name": "stdout",
     "output_type": "stream",
     "text": [
      "[1] \"auc: 0.720299160579123\"\n",
      "[1] \"O/E 比率: 0.995757623358648\"\n",
      "[1] \"c_slope: 1.12960316323312\"\n",
      "[1] \"Brier 分数: 0.144203850841316\"\n"
     ]
    },
    {
     "name": "stderr",
     "output_type": "stream",
     "text": [
      "Setting levels: control = 0, case = 1\n",
      "\n",
      "Setting direction: controls < cases\n",
      "\n"
     ]
    },
    {
     "name": "stdout",
     "output_type": "stream",
     "text": [
      "[1] \"auc: 0.720522630258757\"\n",
      "[1] \"O/E 比率: 1.00915908557483\"\n",
      "[1] \"c_slope: 1.13005843963102\"\n",
      "[1] \"Brier 分数: 0.144263574861987\"\n"
     ]
    },
    {
     "name": "stderr",
     "output_type": "stream",
     "text": [
      "Setting levels: control = 0, case = 1\n",
      "\n",
      "Setting direction: controls < cases\n",
      "\n"
     ]
    },
    {
     "name": "stdout",
     "output_type": "stream",
     "text": [
      "[1] \"auc: 0.719673101676641\"\n",
      "[1] \"O/E 比率: 0.958259939927166\"\n",
      "[1] \"c_slope: 1.04559883355734\"\n",
      "[1] \"Brier 分数: 0.144578842488049\"\n"
     ]
    },
    {
     "name": "stderr",
     "output_type": "stream",
     "text": [
      "Setting levels: control = 0, case = 1\n",
      "\n",
      "Setting direction: controls < cases\n",
      "\n"
     ]
    },
    {
     "name": "stdout",
     "output_type": "stream",
     "text": [
      "[1] \"auc: 0.721143188369125\"\n",
      "[1] \"O/E 比率: 1.00226994777329\"\n",
      "[1] \"c_slope: 1.09430305861972\"\n",
      "[1] \"Brier 分数: 0.144208053394082\"\n"
     ]
    },
    {
     "name": "stderr",
     "output_type": "stream",
     "text": [
      "Setting levels: control = 0, case = 1\n",
      "\n",
      "Setting direction: controls < cases\n",
      "\n"
     ]
    },
    {
     "name": "stdout",
     "output_type": "stream",
     "text": [
      "[1] \"auc: 0.724316114020419\"\n",
      "[1] \"O/E 比率: 0.968602319705061\"\n",
      "[1] \"c_slope: 1.10750603749798\"\n",
      "[1] \"Brier 分数: 0.143658413060871\"\n"
     ]
    },
    {
     "name": "stderr",
     "output_type": "stream",
     "text": [
      "Setting levels: control = 0, case = 1\n",
      "\n",
      "Setting direction: controls < cases\n",
      "\n"
     ]
    },
    {
     "name": "stdout",
     "output_type": "stream",
     "text": [
      "[1] \"auc: 0.720523661657279\"\n",
      "[1] \"O/E 比率: 0.978710227153862\"\n",
      "[1] \"c_slope: 1.0768894124413\"\n",
      "[1] \"Brier 分数: 0.144179842871158\"\n"
     ]
    },
    {
     "name": "stderr",
     "output_type": "stream",
     "text": [
      "Setting levels: control = 0, case = 1\n",
      "\n",
      "Setting direction: controls < cases\n",
      "\n"
     ]
    },
    {
     "name": "stdout",
     "output_type": "stream",
     "text": [
      "[1] \"auc: 0.720675277239923\"\n",
      "[1] \"O/E 比率: 0.98298232944334\"\n",
      "[1] \"c_slope: 1.10542510875467\"\n",
      "[1] \"Brier 分数: 0.144830084602891\"\n"
     ]
    },
    {
     "name": "stderr",
     "output_type": "stream",
     "text": [
      "Setting levels: control = 0, case = 1\n",
      "\n",
      "Setting direction: controls < cases\n",
      "\n"
     ]
    },
    {
     "name": "stdout",
     "output_type": "stream",
     "text": [
      "[1] \"auc: 0.723909055403978\"\n",
      "[1] \"O/E 比率: 0.994243452360348\"\n",
      "[1] \"c_slope: 1.05830507328185\"\n",
      "[1] \"Brier 分数: 0.143435815972245\"\n"
     ]
    },
    {
     "name": "stderr",
     "output_type": "stream",
     "text": [
      "Setting levels: control = 0, case = 1\n",
      "\n",
      "Setting direction: controls < cases\n",
      "\n"
     ]
    },
    {
     "name": "stdout",
     "output_type": "stream",
     "text": [
      "[1] \"auc: 0.720516098068122\"\n",
      "[1] \"O/E 比率: 1.01181195599605\"\n",
      "[1] \"c_slope: 1.04084385999199\"\n",
      "[1] \"Brier 分数: 0.144190195757922\"\n"
     ]
    },
    {
     "name": "stderr",
     "output_type": "stream",
     "text": [
      "Setting levels: control = 0, case = 1\n",
      "\n",
      "Setting direction: controls < cases\n",
      "\n"
     ]
    },
    {
     "name": "stdout",
     "output_type": "stream",
     "text": [
      "[1] \"auc: 0.721259736402042\"\n",
      "[1] \"O/E 比率: 0.940739442905196\"\n",
      "[1] \"c_slope: 1.09403874930322\"\n",
      "[1] \"Brier 分数: 0.143958986061416\"\n"
     ]
    },
    {
     "name": "stderr",
     "output_type": "stream",
     "text": [
      "Setting levels: control = 0, case = 1\n",
      "\n",
      "Setting direction: controls < cases\n",
      "\n"
     ]
    },
    {
     "name": "stdout",
     "output_type": "stream",
     "text": [
      "[1] \"auc: 0.720177799353107\"\n",
      "[1] \"O/E 比率: 0.966107725512309\"\n",
      "[1] \"c_slope: 1.13286814950826\"\n",
      "[1] \"Brier 分数: 0.144034065143667\"\n"
     ]
    },
    {
     "name": "stderr",
     "output_type": "stream",
     "text": [
      "Setting levels: control = 0, case = 1\n",
      "\n",
      "Setting direction: controls < cases\n",
      "\n"
     ]
    },
    {
     "name": "stdout",
     "output_type": "stream",
     "text": [
      "[1] \"auc: 0.723092875374054\"\n",
      "[1] \"O/E 比率: 0.966431925870674\"\n",
      "[1] \"c_slope: 1.14735415542521\"\n",
      "[1] \"Brier 分数: 0.144028134281784\"\n"
     ]
    },
    {
     "name": "stderr",
     "output_type": "stream",
     "text": [
      "Setting levels: control = 0, case = 1\n",
      "\n",
      "Setting direction: controls < cases\n",
      "\n"
     ]
    },
    {
     "name": "stdout",
     "output_type": "stream",
     "text": [
      "[1] \"auc: 0.724128743289034\"\n",
      "[1] \"O/E 比率: 0.9836467774209\"\n",
      "[1] \"c_slope: 1.14199223513561\"\n",
      "[1] \"Brier 分数: 0.143891918506171\"\n"
     ]
    },
    {
     "name": "stderr",
     "output_type": "stream",
     "text": [
      "Setting levels: control = 0, case = 1\n",
      "\n",
      "Setting direction: controls < cases\n",
      "\n"
     ]
    },
    {
     "name": "stdout",
     "output_type": "stream",
     "text": [
      "[1] \"auc: 0.721712864152438\"\n",
      "[1] \"O/E 比率: 0.99253436096856\"\n",
      "[1] \"c_slope: 1.13721198687894\"\n",
      "[1] \"Brier 分数: 0.143738773702028\"\n"
     ]
    },
    {
     "name": "stderr",
     "output_type": "stream",
     "text": [
      "Setting levels: control = 0, case = 1\n",
      "\n",
      "Setting direction: controls < cases\n",
      "\n"
     ]
    },
    {
     "name": "stdout",
     "output_type": "stream",
     "text": [
      "[1] \"auc: 0.72612415562841\"\n",
      "[1] \"O/E 比率: 1.00125264406589\"\n",
      "[1] \"c_slope: 1.1859961787523\"\n",
      "[1] \"Brier 分数: 0.143709744762761\"\n"
     ]
    },
    {
     "name": "stderr",
     "output_type": "stream",
     "text": [
      "Setting levels: control = 0, case = 1\n",
      "\n",
      "Setting direction: controls < cases\n",
      "\n"
     ]
    },
    {
     "name": "stdout",
     "output_type": "stream",
     "text": [
      "[1] \"auc: 0.720641584888224\"\n",
      "[1] \"O/E 比率: 0.980261863029936\"\n",
      "[1] \"c_slope: 1.0851589233582\"\n",
      "[1] \"Brier 分数: 0.144027897462448\"\n"
     ]
    },
    {
     "name": "stderr",
     "output_type": "stream",
     "text": [
      "Setting levels: control = 0, case = 1\n",
      "\n",
      "Setting direction: controls < cases\n",
      "\n"
     ]
    },
    {
     "name": "stdout",
     "output_type": "stream",
     "text": [
      "[1] \"auc: 0.722886251870269\"\n",
      "[1] \"O/E 比率: 0.971568765448999\"\n",
      "[1] \"c_slope: 1.15237417599304\"\n",
      "[1] \"Brier 分数: 0.144275737077038\"\n"
     ]
    },
    {
     "name": "stderr",
     "output_type": "stream",
     "text": [
      "Setting levels: control = 0, case = 1\n",
      "\n",
      "Setting direction: controls < cases\n",
      "\n"
     ]
    },
    {
     "name": "stdout",
     "output_type": "stream",
     "text": [
      "[1] \"auc: 0.72098332159831\"\n",
      "[1] \"O/E 比率: 0.974222789061907\"\n",
      "[1] \"c_slope: 1.07262342193585\"\n",
      "[1] \"Brier 分数: 0.143642121393191\"\n"
     ]
    },
    {
     "name": "stderr",
     "output_type": "stream",
     "text": [
      "Setting levels: control = 0, case = 1\n",
      "\n",
      "Setting direction: controls < cases\n",
      "\n"
     ]
    },
    {
     "name": "stdout",
     "output_type": "stream",
     "text": [
      "[1] \"auc: 0.716737741484774\"\n",
      "[1] \"O/E 比率: 0.993470230062951\"\n",
      "[1] \"c_slope: 1.07914802100133\"\n",
      "[1] \"Brier 分数: 0.144321840735353\"\n"
     ]
    },
    {
     "name": "stderr",
     "output_type": "stream",
     "text": [
      "Setting levels: control = 0, case = 1\n",
      "\n",
      "Setting direction: controls < cases\n",
      "\n"
     ]
    },
    {
     "name": "stdout",
     "output_type": "stream",
     "text": [
      "[1] \"auc: 0.719334115362612\"\n",
      "[1] \"O/E 比率: 0.977532239768904\"\n",
      "[1] \"c_slope: 1.09847085937562\"\n",
      "[1] \"Brier 分数: 0.144122672483364\"\n"
     ]
    },
    {
     "name": "stderr",
     "output_type": "stream",
     "text": [
      "Setting levels: control = 0, case = 1\n",
      "\n",
      "Setting direction: controls < cases\n",
      "\n"
     ]
    },
    {
     "name": "stdout",
     "output_type": "stream",
     "text": [
      "[1] \"auc: 0.721911924067066\"\n",
      "[1] \"O/E 比率: 0.964015168429762\"\n",
      "[1] \"c_slope: 1.1313463217019\"\n",
      "[1] \"Brier 分数: 0.144315472517549\"\n"
     ]
    },
    {
     "name": "stderr",
     "output_type": "stream",
     "text": [
      "Setting levels: control = 0, case = 1\n",
      "\n",
      "Setting direction: controls < cases\n",
      "\n"
     ]
    },
    {
     "name": "stdout",
     "output_type": "stream",
     "text": [
      "[1] \"auc: 0.72080248305756\"\n",
      "[1] \"O/E 比率: 1.00104816019541\"\n",
      "[1] \"c_slope: 1.08813581551407\"\n",
      "[1] \"Brier 分数: 0.143577751608948\"\n"
     ]
    },
    {
     "name": "stderr",
     "output_type": "stream",
     "text": [
      "Setting levels: control = 0, case = 1\n",
      "\n",
      "Setting direction: controls < cases\n",
      "\n"
     ]
    },
    {
     "name": "stdout",
     "output_type": "stream",
     "text": [
      "[1] \"auc: 0.720741286745291\"\n",
      "[1] \"O/E 比率: 1.00397893591169\"\n",
      "[1] \"c_slope: 1.15820647843185\"\n",
      "[1] \"Brier 分数: 0.144689254891144\"\n"
     ]
    },
    {
     "name": "stderr",
     "output_type": "stream",
     "text": [
      "Setting levels: control = 0, case = 1\n",
      "\n",
      "Setting direction: controls < cases\n",
      "\n"
     ]
    },
    {
     "name": "stdout",
     "output_type": "stream",
     "text": [
      "[1] \"auc: 0.718785755148741\"\n",
      "[1] \"O/E 比率: 0.995138631115431\"\n",
      "[1] \"c_slope: 1.06170291277873\"\n",
      "[1] \"Brier 分数: 0.143946705520187\"\n"
     ]
    },
    {
     "name": "stderr",
     "output_type": "stream",
     "text": [
      "Setting levels: control = 0, case = 1\n",
      "\n",
      "Setting direction: controls < cases\n",
      "\n"
     ]
    },
    {
     "name": "stdout",
     "output_type": "stream",
     "text": [
      "[1] \"auc: 0.725252967677346\"\n",
      "[1] \"O/E 比率: 0.946491092591972\"\n",
      "[1] \"c_slope: 1.08237648390863\"\n",
      "[1] \"Brier 分数: 0.143757705423953\"\n"
     ]
    },
    {
     "name": "stderr",
     "output_type": "stream",
     "text": [
      "Setting levels: control = 0, case = 1\n",
      "\n",
      "Setting direction: controls < cases\n",
      "\n"
     ]
    },
    {
     "name": "stdout",
     "output_type": "stream",
     "text": [
      "[1] \"auc: 0.722553797746876\"\n",
      "[1] \"O/E 比率: 0.96572213185717\"\n",
      "[1] \"c_slope: 1.14560120100346\"\n",
      "[1] \"Brier 分数: 0.143969830247869\"\n"
     ]
    },
    {
     "name": "stderr",
     "output_type": "stream",
     "text": [
      "Setting levels: control = 0, case = 1\n",
      "\n",
      "Setting direction: controls < cases\n",
      "\n"
     ]
    },
    {
     "name": "stdout",
     "output_type": "stream",
     "text": [
      "[1] \"auc: 0.721916737260165\"\n",
      "[1] \"O/E 比率: 0.991273577205617\"\n",
      "[1] \"c_slope: 1.07367009976696\"\n",
      "[1] \"Brier 分数: 0.144192051839534\"\n"
     ]
    },
    {
     "name": "stderr",
     "output_type": "stream",
     "text": [
      "Setting levels: control = 0, case = 1\n",
      "\n",
      "Setting direction: controls < cases\n",
      "\n"
     ]
    },
    {
     "name": "stdout",
     "output_type": "stream",
     "text": [
      "[1] \"auc: 0.722221343623482\"\n",
      "[1] \"O/E 比率: 0.979477042803634\"\n",
      "[1] \"c_slope: 1.0884514033847\"\n",
      "[1] \"Brier 分数: 0.143557657389417\"\n"
     ]
    },
    {
     "name": "stderr",
     "output_type": "stream",
     "text": [
      "Setting levels: control = 0, case = 1\n",
      "\n",
      "Setting direction: controls < cases\n",
      "\n"
     ]
    },
    {
     "name": "stdout",
     "output_type": "stream",
     "text": [
      "[1] \"auc: 0.722598147883295\"\n",
      "[1] \"O/E 比率: 0.993989177306875\"\n",
      "[1] \"c_slope: 1.0824406120404\"\n",
      "[1] \"Brier 分数: 0.144082367722982\"\n"
     ]
    },
    {
     "name": "stderr",
     "output_type": "stream",
     "text": [
      "Setting levels: control = 0, case = 1\n",
      "\n",
      "Setting direction: controls < cases\n",
      "\n"
     ]
    },
    {
     "name": "stdout",
     "output_type": "stream",
     "text": [
      "[1] \"auc: 0.720152701989086\"\n",
      "[1] \"O/E 比率: 0.998534700906716\"\n",
      "[1] \"c_slope: 1.08624250327576\"\n",
      "[1] \"Brier 分数: 0.144030468974535\"\n"
     ]
    },
    {
     "name": "stderr",
     "output_type": "stream",
     "text": [
      "Setting levels: control = 0, case = 1\n",
      "\n",
      "Setting direction: controls < cases\n",
      "\n"
     ]
    },
    {
     "name": "stdout",
     "output_type": "stream",
     "text": [
      "[1] \"auc: 0.722653155804436\"\n",
      "[1] \"O/E 比率: 0.968780420609442\"\n",
      "[1] \"c_slope: 1.10170043529048\"\n",
      "[1] \"Brier 分数: 0.143977940704343\"\n"
     ]
    },
    {
     "name": "stderr",
     "output_type": "stream",
     "text": [
      "Setting levels: control = 0, case = 1\n",
      "\n",
      "Setting direction: controls < cases\n",
      "\n"
     ]
    },
    {
     "name": "stdout",
     "output_type": "stream",
     "text": [
      "[1] \"auc: 0.719961205663616\"\n",
      "[1] \"O/E 比率: 0.960556294608176\"\n",
      "[1] \"c_slope: 1.08874595621082\"\n",
      "[1] \"Brier 分数: 0.1447198271189\"\n"
     ]
    },
    {
     "name": "stderr",
     "output_type": "stream",
     "text": [
      "Setting levels: control = 0, case = 1\n",
      "\n",
      "Setting direction: controls < cases\n",
      "\n"
     ]
    },
    {
     "name": "stdout",
     "output_type": "stream",
     "text": [
      "[1] \"auc: 0.721341560684739\"\n",
      "[1] \"O/E 比率: 0.983378004251668\"\n",
      "[1] \"c_slope: 1.10505452826254\"\n",
      "[1] \"Brier 分数: 0.143946489486065\"\n"
     ]
    },
    {
     "name": "stderr",
     "output_type": "stream",
     "text": [
      "Setting levels: control = 0, case = 1\n",
      "\n",
      "Setting direction: controls < cases\n",
      "\n"
     ]
    },
    {
     "name": "stdout",
     "output_type": "stream",
     "text": [
      "[1] \"auc: 0.726228670678578\"\n",
      "[1] \"O/E 比率: 0.972833012651947\"\n",
      "[1] \"c_slope: 1.10811497878268\"\n",
      "[1] \"Brier 分数: 0.143979351307285\"\n"
     ]
    },
    {
     "name": "stderr",
     "output_type": "stream",
     "text": [
      "Setting levels: control = 0, case = 1\n",
      "\n",
      "Setting direction: controls < cases\n",
      "\n"
     ]
    },
    {
     "name": "stdout",
     "output_type": "stream",
     "text": [
      "[1] \"auc: 0.720229713078683\"\n",
      "[1] \"O/E 比率: 0.988816848171161\"\n",
      "[1] \"c_slope: 1.07703528306258\"\n",
      "[1] \"Brier 分数: 0.143951131627909\"\n"
     ]
    },
    {
     "name": "stderr",
     "output_type": "stream",
     "text": [
      "Setting levels: control = 0, case = 1\n",
      "\n",
      "Setting direction: controls < cases\n",
      "\n"
     ]
    },
    {
     "name": "stdout",
     "output_type": "stream",
     "text": [
      "[1] \"auc: 0.722765578243267\"\n",
      "[1] \"O/E 比率: 0.950464059267647\"\n",
      "[1] \"c_slope: 1.11110268657152\"\n",
      "[1] \"Brier 分数: 0.143937444755852\"\n"
     ]
    },
    {
     "name": "stderr",
     "output_type": "stream",
     "text": [
      "Setting levels: control = 0, case = 1\n",
      "\n",
      "Setting direction: controls < cases\n",
      "\n"
     ]
    },
    {
     "name": "stdout",
     "output_type": "stream",
     "text": [
      "[1] \"auc: 0.720938283862876\"\n",
      "[1] \"O/E 比率: 1.00986434729158\"\n",
      "[1] \"c_slope: 1.09008556700593\"\n",
      "[1] \"Brier 分数: 0.143829765171831\"\n"
     ]
    },
    {
     "name": "stderr",
     "output_type": "stream",
     "text": [
      "Setting levels: control = 0, case = 1\n",
      "\n",
      "Setting direction: controls < cases\n",
      "\n"
     ]
    },
    {
     "name": "stdout",
     "output_type": "stream",
     "text": [
      "[1] \"auc: 0.720801795458546\"\n",
      "[1] \"O/E 比率: 0.979476243926215\"\n",
      "[1] \"c_slope: 1.12308027820818\"\n",
      "[1] \"Brier 分数: 0.14377570156162\"\n"
     ]
    },
    {
     "name": "stderr",
     "output_type": "stream",
     "text": [
      "Setting levels: control = 0, case = 1\n",
      "\n",
      "Setting direction: controls < cases\n",
      "\n"
     ]
    },
    {
     "name": "stdout",
     "output_type": "stream",
     "text": [
      "[1] \"auc: 0.720960287031333\"\n",
      "[1] \"O/E 比率: 0.983410909883028\"\n",
      "[1] \"c_slope: 1.08347763851499\"\n",
      "[1] \"Brier 分数: 0.144009652491874\"\n"
     ]
    },
    {
     "name": "stderr",
     "output_type": "stream",
     "text": [
      "Setting levels: control = 0, case = 1\n",
      "\n",
      "Setting direction: controls < cases\n",
      "\n"
     ]
    },
    {
     "name": "stdout",
     "output_type": "stream",
     "text": [
      "[1] \"auc: 0.724408596087837\"\n",
      "[1] \"O/E 比率: 0.944992103005173\"\n",
      "[1] \"c_slope: 1.16179373245135\"\n",
      "[1] \"Brier 分数: 0.143742982392121\"\n"
     ]
    },
    {
     "name": "stderr",
     "output_type": "stream",
     "text": [
      "Setting levels: control = 0, case = 1\n",
      "\n",
      "Setting direction: controls < cases\n",
      "\n"
     ]
    },
    {
     "name": "stdout",
     "output_type": "stream",
     "text": [
      "[1] \"auc: 0.723936215565041\"\n",
      "[1] \"O/E 比率: 0.962928825854698\"\n",
      "[1] \"c_slope: 1.09589960328633\"\n",
      "[1] \"Brier 分数: 0.143696471580195\"\n"
     ]
    },
    {
     "name": "stderr",
     "output_type": "stream",
     "text": [
      "Setting levels: control = 0, case = 1\n",
      "\n",
      "Setting direction: controls < cases\n",
      "\n"
     ]
    },
    {
     "name": "stdout",
     "output_type": "stream",
     "text": [
      "[1] \"auc: 0.724032823226545\"\n",
      "[1] \"O/E 比率: 0.949352788231118\"\n",
      "[1] \"c_slope: 1.15525232184617\"\n",
      "[1] \"Brier 分数: 0.143623487471542\"\n"
     ]
    },
    {
     "name": "stderr",
     "output_type": "stream",
     "text": [
      "Setting levels: control = 0, case = 1\n",
      "\n",
      "Setting direction: controls < cases\n",
      "\n"
     ]
    },
    {
     "name": "stdout",
     "output_type": "stream",
     "text": [
      "[1] \"auc: 0.721575000550079\"\n",
      "[1] \"O/E 比率: 1.00694590323744\"\n",
      "[1] \"c_slope: 1.14792127590869\"\n",
      "[1] \"Brier 分数: 0.144540168695798\"\n"
     ]
    },
    {
     "name": "stderr",
     "output_type": "stream",
     "text": [
      "Setting levels: control = 0, case = 1\n",
      "\n",
      "Setting direction: controls < cases\n",
      "\n"
     ]
    },
    {
     "name": "stdout",
     "output_type": "stream",
     "text": [
      "[1] \"auc: 0.718982064667312\"\n",
      "[1] \"O/E 比率: 0.971306222283685\"\n",
      "[1] \"c_slope: 1.05750728250897\"\n",
      "[1] \"Brier 分数: 0.144436401518236\"\n"
     ]
    },
    {
     "name": "stderr",
     "output_type": "stream",
     "text": [
      "Setting levels: control = 0, case = 1\n",
      "\n",
      "Setting direction: controls < cases\n",
      "\n"
     ]
    },
    {
     "name": "stdout",
     "output_type": "stream",
     "text": [
      "[1] \"auc: 0.723556660909171\"\n",
      "[1] \"O/E 比率: 0.996105205416841\"\n",
      "[1] \"c_slope: 1.1288738621235\"\n",
      "[1] \"Brier 分数: 0.144051124716341\"\n"
     ]
    },
    {
     "name": "stderr",
     "output_type": "stream",
     "text": [
      "Setting levels: control = 0, case = 1\n",
      "\n",
      "Setting direction: controls < cases\n",
      "\n"
     ]
    },
    {
     "name": "stdout",
     "output_type": "stream",
     "text": [
      "[1] \"auc: 0.723041305447985\"\n",
      "[1] \"O/E 比率: 0.97884598368882\"\n",
      "[1] \"c_slope: 1.09871190401608\"\n",
      "[1] \"Brier 分数: 0.143887631199697\"\n"
     ]
    },
    {
     "name": "stderr",
     "output_type": "stream",
     "text": [
      "Setting levels: control = 0, case = 1\n",
      "\n",
      "Setting direction: controls < cases\n",
      "\n"
     ]
    },
    {
     "name": "stdout",
     "output_type": "stream",
     "text": [
      "[1] \"auc: 0.723961656728569\"\n",
      "[1] \"O/E 比率: 0.981654545171469\"\n",
      "[1] \"c_slope: 1.09081234978299\"\n",
      "[1] \"Brier 分数: 0.143858893253957\"\n"
     ]
    },
    {
     "name": "stderr",
     "output_type": "stream",
     "text": [
      "Setting levels: control = 0, case = 1\n",
      "\n",
      "Setting direction: controls < cases\n",
      "\n"
     ]
    },
    {
     "name": "stdout",
     "output_type": "stream",
     "text": [
      "[1] \"auc: 0.724372153340081\"\n",
      "[1] \"O/E 比率: 0.991653646646259\"\n",
      "[1] \"c_slope: 1.16252820872573\"\n",
      "[1] \"Brier 分数: 0.143322326840173\"\n"
     ]
    },
    {
     "name": "stderr",
     "output_type": "stream",
     "text": [
      "Setting levels: control = 0, case = 1\n",
      "\n",
      "Setting direction: controls < cases\n",
      "\n"
     ]
    },
    {
     "name": "stdout",
     "output_type": "stream",
     "text": [
      "[1] \"auc: 0.723034429457842\"\n",
      "[1] \"O/E 比率: 1.01354326798658\"\n",
      "[1] \"c_slope: 1.07461413212011\"\n",
      "[1] \"Brier 分数: 0.143897020991038\"\n"
     ]
    },
    {
     "name": "stderr",
     "output_type": "stream",
     "text": [
      "Setting levels: control = 0, case = 1\n",
      "\n",
      "Setting direction: controls < cases\n",
      "\n"
     ]
    },
    {
     "name": "stdout",
     "output_type": "stream",
     "text": [
      "[1] \"auc: 0.720726503366485\"\n",
      "[1] \"O/E 比率: 0.996215487038914\"\n",
      "[1] \"c_slope: 1.08890594316938\"\n",
      "[1] \"Brier 分数: 0.143668202271986\"\n"
     ]
    },
    {
     "name": "stderr",
     "output_type": "stream",
     "text": [
      "Setting levels: control = 0, case = 1\n",
      "\n",
      "Setting direction: controls < cases\n",
      "\n"
     ]
    },
    {
     "name": "stdout",
     "output_type": "stream",
     "text": [
      "[1] \"auc: 0.721242546426685\"\n",
      "[1] \"O/E 比率: 0.987671702261652\"\n",
      "[1] \"c_slope: 1.13487462910332\"\n",
      "[1] \"Brier 分数: 0.14377042382016\"\n"
     ]
    },
    {
     "name": "stderr",
     "output_type": "stream",
     "text": [
      "Setting levels: control = 0, case = 1\n",
      "\n",
      "Setting direction: controls < cases\n",
      "\n"
     ]
    },
    {
     "name": "stdout",
     "output_type": "stream",
     "text": [
      "[1] \"auc: 0.720632302301531\"\n",
      "[1] \"O/E 比率: 1.02451491712049\"\n",
      "[1] \"c_slope: 1.16543749837407\"\n",
      "[1] \"Brier 分数: 0.144290385202829\"\n"
     ]
    },
    {
     "name": "stderr",
     "output_type": "stream",
     "text": [
      "Setting levels: control = 0, case = 1\n",
      "\n",
      "Setting direction: controls < cases\n",
      "\n"
     ]
    },
    {
     "name": "stdout",
     "output_type": "stream",
     "text": [
      "[1] \"auc: 0.719435880016722\"\n",
      "[1] \"O/E 比率: 0.987042645226722\"\n",
      "[1] \"c_slope: 1.07147013507022\"\n",
      "[1] \"Brier 分数: 0.144314633268846\"\n"
     ]
    },
    {
     "name": "stderr",
     "output_type": "stream",
     "text": [
      "Setting levels: control = 0, case = 1\n",
      "\n",
      "Setting direction: controls < cases\n",
      "\n"
     ]
    },
    {
     "name": "stdout",
     "output_type": "stream",
     "text": [
      "[1] \"auc: 0.72273291729009\"\n",
      "[1] \"O/E 比率: 0.962369155629322\"\n",
      "[1] \"c_slope: 1.08610141672796\"\n",
      "[1] \"Brier 分数: 0.144442063709351\"\n"
     ]
    },
    {
     "name": "stderr",
     "output_type": "stream",
     "text": [
      "Setting levels: control = 0, case = 1\n",
      "\n",
      "Setting direction: controls < cases\n",
      "\n"
     ]
    },
    {
     "name": "stdout",
     "output_type": "stream",
     "text": [
      "[1] \"auc: 0.722887970867805\"\n",
      "[1] \"O/E 比率: 0.998894472062436\"\n",
      "[1] \"c_slope: 1.0454601840523\"\n",
      "[1] \"Brier 分数: 0.143620993077273\"\n"
     ]
    },
    {
     "name": "stderr",
     "output_type": "stream",
     "text": [
      "Setting levels: control = 0, case = 1\n",
      "\n",
      "Setting direction: controls < cases\n",
      "\n"
     ]
    },
    {
     "name": "stdout",
     "output_type": "stream",
     "text": [
      "[1] \"auc: 0.715403111798099\"\n",
      "[1] \"O/E 比率: 1.02145834754602\"\n",
      "[1] \"c_slope: 1.05405079934947\"\n",
      "[1] \"Brier 分数: 0.144831476394192\"\n"
     ]
    },
    {
     "name": "stderr",
     "output_type": "stream",
     "text": [
      "Setting levels: control = 0, case = 1\n",
      "\n",
      "Setting direction: controls < cases\n",
      "\n"
     ]
    },
    {
     "name": "stdout",
     "output_type": "stream",
     "text": [
      "[1] \"auc: 0.716726739900546\"\n",
      "[1] \"O/E 比率: 1.00405071304734\"\n",
      "[1] \"c_slope: 1.02494754555267\"\n",
      "[1] \"Brier 分数: 0.144253319003188\"\n"
     ]
    },
    {
     "name": "stderr",
     "output_type": "stream",
     "text": [
      "Setting levels: control = 0, case = 1\n",
      "\n",
      "Setting direction: controls < cases\n",
      "\n"
     ]
    },
    {
     "name": "stdout",
     "output_type": "stream",
     "text": [
      "[1] \"auc: 0.722028472099982\"\n",
      "[1] \"O/E 比率: 0.981932503917287\"\n",
      "[1] \"c_slope: 1.11287653329884\"\n",
      "[1] \"Brier 分数: 0.144404683306719\"\n"
     ]
    },
    {
     "name": "stderr",
     "output_type": "stream",
     "text": [
      "Setting levels: control = 0, case = 1\n",
      "\n",
      "Setting direction: controls < cases\n",
      "\n"
     ]
    },
    {
     "name": "stdout",
     "output_type": "stream",
     "text": [
      "[1] \"auc: 0.723636766194332\"\n",
      "[1] \"O/E 比率: 0.994955187749211\"\n",
      "[1] \"c_slope: 1.09451562466874\"\n",
      "[1] \"Brier 分数: 0.143388229152792\"\n"
     ]
    },
    {
     "name": "stderr",
     "output_type": "stream",
     "text": [
      "Setting levels: control = 0, case = 1\n",
      "\n",
      "Setting direction: controls < cases\n",
      "\n"
     ]
    },
    {
     "name": "stdout",
     "output_type": "stream",
     "text": [
      "[1] \"auc: 0.721350843271431\"\n",
      "[1] \"O/E 比率: 1.01369346644465\"\n",
      "[1] \"c_slope: 1.11343647007338\"\n",
      "[1] \"Brier 分数: 0.144336393694326\"\n"
     ]
    },
    {
     "name": "stderr",
     "output_type": "stream",
     "text": [
      "Setting levels: control = 0, case = 1\n",
      "\n",
      "Setting direction: controls < cases\n",
      "\n"
     ]
    },
    {
     "name": "stdout",
     "output_type": "stream",
     "text": [
      "[1] \"auc: 0.721984809562577\"\n",
      "[1] \"O/E 比率: 0.974061923855118\"\n",
      "[1] \"c_slope: 1.10762300627169\"\n",
      "[1] \"Brier 分数: 0.143598342872779\"\n"
     ]
    },
    {
     "name": "stderr",
     "output_type": "stream",
     "text": [
      "Setting levels: control = 0, case = 1\n",
      "\n",
      "Setting direction: controls < cases\n",
      "\n"
     ]
    },
    {
     "name": "stdout",
     "output_type": "stream",
     "text": [
      "[1] \"auc: 0.715272811784897\"\n",
      "[1] \"O/E 比率: 0.97627753408306\"\n",
      "[1] \"c_slope: 1.05952823876265\"\n",
      "[1] \"Brier 分数: 0.145040043505558\"\n"
     ]
    },
    {
     "name": "stderr",
     "output_type": "stream",
     "text": [
      "Setting levels: control = 0, case = 1\n",
      "\n",
      "Setting direction: controls < cases\n",
      "\n"
     ]
    },
    {
     "name": "stdout",
     "output_type": "stream",
     "text": [
      "[1] \"auc: 0.721981027767999\"\n",
      "[1] \"O/E 比率: 0.948521243332234\"\n",
      "[1] \"c_slope: 1.14009050507046\"\n",
      "[1] \"Brier 分数: 0.143628542473743\"\n"
     ]
    },
    {
     "name": "stderr",
     "output_type": "stream",
     "text": [
      "Setting levels: control = 0, case = 1\n",
      "\n",
      "Setting direction: controls < cases\n",
      "\n"
     ]
    },
    {
     "name": "stdout",
     "output_type": "stream",
     "text": [
      "[1] \"auc: 0.723958562533005\"\n",
      "[1] \"O/E 比率: 0.973923174773646\"\n",
      "[1] \"c_slope: 1.08173406532145\"\n",
      "[1] \"Brier 分数: 0.143774017528175\"\n"
     ]
    },
    {
     "name": "stderr",
     "output_type": "stream",
     "text": [
      "Setting levels: control = 0, case = 1\n",
      "\n",
      "Setting direction: controls < cases\n",
      "\n"
     ]
    },
    {
     "name": "stdout",
     "output_type": "stream",
     "text": [
      "[1] \"auc: 0.719192813765182\"\n",
      "[1] \"O/E 比率: 0.982813777868731\"\n",
      "[1] \"c_slope: 1.12794747496778\"\n",
      "[1] \"Brier 分数: 0.144608200721909\"\n"
     ]
    },
    {
     "name": "stderr",
     "output_type": "stream",
     "text": [
      "Setting levels: control = 0, case = 1\n",
      "\n",
      "Setting direction: controls < cases\n",
      "\n"
     ]
    },
    {
     "name": "stdout",
     "output_type": "stream",
     "text": [
      "[1] \"auc: 0.71879194353987\"\n",
      "[1] \"O/E 比率: 1.01165016628108\"\n",
      "[1] \"c_slope: 1.08891977047517\"\n",
      "[1] \"Brier 分数: 0.144740634702558\"\n"
     ]
    },
    {
     "name": "stderr",
     "output_type": "stream",
     "text": [
      "Setting levels: control = 0, case = 1\n",
      "\n",
      "Setting direction: controls < cases\n",
      "\n"
     ]
    },
    {
     "name": "stdout",
     "output_type": "stream",
     "text": [
      "[1] \"auc: 0.72092109388752\"\n",
      "[1] \"O/E 比率: 0.974922548732773\"\n",
      "[1] \"c_slope: 1.10209052863574\"\n",
      "[1] \"Brier 分数: 0.143861127261961\"\n"
     ]
    },
    {
     "name": "stderr",
     "output_type": "stream",
     "text": [
      "Setting levels: control = 0, case = 1\n",
      "\n",
      "Setting direction: controls < cases\n",
      "\n"
     ]
    },
    {
     "name": "stdout",
     "output_type": "stream",
     "text": [
      "[1] \"auc: 0.723657050365253\"\n",
      "[1] \"O/E 比率: 1.00346275610026\"\n",
      "[1] \"c_slope: 1.13385209321968\"\n",
      "[1] \"Brier 分数: 0.14429521490756\"\n"
     ]
    },
    {
     "name": "stderr",
     "output_type": "stream",
     "text": [
      "Setting levels: control = 0, case = 1\n",
      "\n",
      "Setting direction: controls < cases\n",
      "\n"
     ]
    },
    {
     "name": "stdout",
     "output_type": "stream",
     "text": [
      "[1] \"auc: 0.720944128454497\"\n",
      "[1] \"O/E 比率: 0.944674529519656\"\n",
      "[1] \"c_slope: 1.09670201061107\"\n",
      "[1] \"Brier 分数: 0.14405840055355\"\n"
     ]
    },
    {
     "name": "stderr",
     "output_type": "stream",
     "text": [
      "Setting levels: control = 0, case = 1\n",
      "\n",
      "Setting direction: controls < cases\n",
      "\n"
     ]
    },
    {
     "name": "stdout",
     "output_type": "stream",
     "text": [
      "[1] \"auc: 0.722519417796163\"\n",
      "[1] \"O/E 比率: 0.980035561418547\"\n",
      "[1] \"c_slope: 1.10302509769822\"\n",
      "[1] \"Brier 分数: 0.143958960722368\"\n"
     ]
    },
    {
     "name": "stderr",
     "output_type": "stream",
     "text": [
      "Setting levels: control = 0, case = 1\n",
      "\n",
      "Setting direction: controls < cases\n",
      "\n"
     ]
    },
    {
     "name": "stdout",
     "output_type": "stream",
     "text": [
      "[1] \"auc: 0.720619925519275\"\n",
      "[1] \"O/E 比率: 0.971171311461196\"\n",
      "[1] \"c_slope: 1.10035121278898\"\n",
      "[1] \"Brier 分数: 0.143990218575892\"\n"
     ]
    },
    {
     "name": "stderr",
     "output_type": "stream",
     "text": [
      "Setting levels: control = 0, case = 1\n",
      "\n",
      "Setting direction: controls < cases\n",
      "\n"
     ]
    },
    {
     "name": "stdout",
     "output_type": "stream",
     "text": [
      "[1] \"auc: 0.720498908092765\"\n",
      "[1] \"O/E 比率: 0.98497465248211\"\n",
      "[1] \"c_slope: 1.10801178840851\"\n",
      "[1] \"Brier 分数: 0.143837653461674\"\n"
     ]
    },
    {
     "name": "stderr",
     "output_type": "stream",
     "text": [
      "Setting levels: control = 0, case = 1\n",
      "\n",
      "Setting direction: controls < cases\n",
      "\n"
     ]
    },
    {
     "name": "stdout",
     "output_type": "stream",
     "text": [
      "[1] \"auc: 0.720048530738426\"\n",
      "[1] \"O/E 比率: 1.0180871510126\"\n",
      "[1] \"c_slope: 1.02352132154442\"\n",
      "[1] \"Brier 分数: 0.144488597040296\"\n"
     ]
    },
    {
     "name": "stderr",
     "output_type": "stream",
     "text": [
      "Setting levels: control = 0, case = 1\n",
      "\n",
      "Setting direction: controls < cases\n",
      "\n"
     ]
    },
    {
     "name": "stdout",
     "output_type": "stream",
     "text": [
      "[1] \"auc: 0.722432436520859\"\n",
      "[1] \"O/E 比率: 0.983301005021326\"\n",
      "[1] \"c_slope: 1.00643162153286\"\n",
      "[1] \"Brier 分数: 0.143874482181753\"\n"
     ]
    },
    {
     "name": "stderr",
     "output_type": "stream",
     "text": [
      "Setting levels: control = 0, case = 1\n",
      "\n",
      "Setting direction: controls < cases\n",
      "\n"
     ]
    },
    {
     "name": "stdout",
     "output_type": "stream",
     "text": [
      "[1] \"auc: 0.724228101346594\"\n",
      "[1] \"O/E 比率: 0.957374171148956\"\n",
      "[1] \"c_slope: 1.19740308098306\"\n",
      "[1] \"Brier 分数: 0.144108737436452\"\n"
     ]
    },
    {
     "name": "stderr",
     "output_type": "stream",
     "text": [
      "Setting levels: control = 0, case = 1\n",
      "\n",
      "Setting direction: controls < cases\n",
      "\n"
     ]
    },
    {
     "name": "stdout",
     "output_type": "stream",
     "text": [
      "[1] \"auc: 0.720530537647421\"\n",
      "[1] \"O/E 比率: 1.00675552241316\"\n",
      "[1] \"c_slope: 1.17137113232162\"\n",
      "[1] \"Brier 分数: 0.143847975411592\"\n"
     ]
    },
    {
     "name": "stderr",
     "output_type": "stream",
     "text": [
      "Setting levels: control = 0, case = 1\n",
      "\n",
      "Setting direction: controls < cases\n",
      "\n"
     ]
    },
    {
     "name": "stdout",
     "output_type": "stream",
     "text": [
      "[1] \"auc: 0.720965100224432\"\n",
      "[1] \"O/E 比率: 0.98618505519836\"\n",
      "[1] \"c_slope: 1.09482985525307\"\n",
      "[1] \"Brier 分数: 0.144065146033028\"\n"
     ]
    },
    {
     "name": "stderr",
     "output_type": "stream",
     "text": [
      "Setting levels: control = 0, case = 1\n",
      "\n",
      "Setting direction: controls < cases\n",
      "\n"
     ]
    },
    {
     "name": "stdout",
     "output_type": "stream",
     "text": [
      "[1] \"auc: 0.71970438743179\"\n",
      "[1] \"O/E 比率: 0.978175296515896\"\n",
      "[1] \"c_slope: 1.13920804675393\"\n",
      "[1] \"Brier 分数: 0.144528071746287\"\n"
     ]
    },
    {
     "name": "stderr",
     "output_type": "stream",
     "text": [
      "Setting levels: control = 0, case = 1\n",
      "\n",
      "Setting direction: controls < cases\n",
      "\n"
     ]
    },
    {
     "name": "stdout",
     "output_type": "stream",
     "text": [
      "[1] \"auc: 0.721876512717831\"\n",
      "[1] \"O/E 比率: 0.981339753386341\"\n",
      "[1] \"c_slope: 1.1456004789664\"\n",
      "[1] \"Brier 分数: 0.143471064253134\"\n"
     ]
    },
    {
     "name": "stderr",
     "output_type": "stream",
     "text": [
      "Setting levels: control = 0, case = 1\n",
      "\n",
      "Setting direction: controls < cases\n",
      "\n"
     ]
    },
    {
     "name": "stdout",
     "output_type": "stream",
     "text": [
      "[1] \"auc: 0.72635415749868\"\n",
      "[1] \"O/E 比率: 1.00114436101868\"\n",
      "[1] \"c_slope: 1.10714265847326\"\n",
      "[1] \"Brier 分数: 0.143556724269839\"\n"
     ]
    },
    {
     "name": "stderr",
     "output_type": "stream",
     "text": [
      "Setting levels: control = 0, case = 1\n",
      "\n",
      "Setting direction: controls < cases\n",
      "\n"
     ]
    },
    {
     "name": "stdout",
     "output_type": "stream",
     "text": [
      "[1] \"auc: 0.719385685288682\"\n",
      "[1] \"O/E 比率: 1.00697043994876\"\n",
      "[1] \"c_slope: 1.10215130224624\"\n",
      "[1] \"Brier 分数: 0.144525495411942\"\n"
     ]
    },
    {
     "name": "stderr",
     "output_type": "stream",
     "text": [
      "Setting levels: control = 0, case = 1\n",
      "\n",
      "Setting direction: controls < cases\n",
      "\n"
     ]
    },
    {
     "name": "stdout",
     "output_type": "stream",
     "text": [
      "[1] \"auc: 0.722107889786129\"\n",
      "[1] \"O/E 比率: 0.960655345691743\"\n",
      "[1] \"c_slope: 1.05775560527182\"\n",
      "[1] \"Brier 分数: 0.143814292921395\"\n"
     ]
    },
    {
     "name": "stderr",
     "output_type": "stream",
     "text": [
      "Setting levels: control = 0, case = 1\n",
      "\n",
      "Setting direction: controls < cases\n",
      "\n"
     ]
    },
    {
     "name": "stdout",
     "output_type": "stream",
     "text": [
      "[1] \"auc: 0.719092768108608\"\n",
      "[1] \"O/E 比率: 0.961409681116517\"\n",
      "[1] \"c_slope: 1.11305609683923\"\n",
      "[1] \"Brier 分数: 0.14452826053829\"\n"
     ]
    },
    {
     "name": "stderr",
     "output_type": "stream",
     "text": [
      "Setting levels: control = 0, case = 1\n",
      "\n",
      "Setting direction: controls < cases\n",
      "\n"
     ]
    },
    {
     "name": "stdout",
     "output_type": "stream",
     "text": [
      "[1] \"auc: 0.720443556372118\"\n",
      "[1] \"O/E 比率: 0.975199012061096\"\n",
      "[1] \"c_slope: 1.0942494899489\"\n",
      "[1] \"Brier 分数: 0.144150550650864\"\n"
     ]
    },
    {
     "name": "stderr",
     "output_type": "stream",
     "text": [
      "Setting levels: control = 0, case = 1\n",
      "\n",
      "Setting direction: controls < cases\n",
      "\n"
     ]
    },
    {
     "name": "stdout",
     "output_type": "stream",
     "text": [
      "[1] \"auc: 0.721162441141524\"\n",
      "[1] \"O/E 比率: 1.03328035494859\"\n",
      "[1] \"c_slope: 1.10493148857832\"\n",
      "[1] \"Brier 分数: 0.144467920168727\"\n"
     ]
    },
    {
     "name": "stderr",
     "output_type": "stream",
     "text": [
      "Setting levels: control = 0, case = 1\n",
      "\n",
      "Setting direction: controls < cases\n",
      "\n"
     ]
    },
    {
     "name": "stdout",
     "output_type": "stream",
     "text": [
      "[1] \"auc: 0.719638377926421\"\n",
      "[1] \"O/E 比率: 0.947381963082084\"\n",
      "[1] \"c_slope: 1.16319616090068\"\n",
      "[1] \"Brier 分数: 0.144315372784941\"\n"
     ]
    },
    {
     "name": "stderr",
     "output_type": "stream",
     "text": [
      "Setting levels: control = 0, case = 1\n",
      "\n",
      "Setting direction: controls < cases\n",
      "\n"
     ]
    },
    {
     "name": "stdout",
     "output_type": "stream",
     "text": [
      "[1] \"auc: 0.722704038131491\"\n",
      "[1] \"O/E 比率: 0.947522838394873\"\n",
      "[1] \"c_slope: 1.11083890386884\"\n",
      "[1] \"Brier 分数: 0.143595078326022\"\n"
     ]
    },
    {
     "name": "stderr",
     "output_type": "stream",
     "text": [
      "Setting levels: control = 0, case = 1\n",
      "\n",
      "Setting direction: controls < cases\n",
      "\n"
     ]
    },
    {
     "name": "stdout",
     "output_type": "stream",
     "text": [
      "[1] \"auc: 0.72681037944464\"\n",
      "[1] \"O/E 比率: 0.985935300994274\"\n",
      "[1] \"c_slope: 1.20248798372414\"\n",
      "[1] \"Brier 分数: 0.143551317760363\"\n"
     ]
    },
    {
     "name": "stderr",
     "output_type": "stream",
     "text": [
      "Setting levels: control = 0, case = 1\n",
      "\n",
      "Setting direction: controls < cases\n",
      "\n"
     ]
    },
    {
     "name": "stdout",
     "output_type": "stream",
     "text": [
      "[1] \"auc: 0.720886026337793\"\n",
      "[1] \"O/E 比率: 0.990196511214512\"\n",
      "[1] \"c_slope: 1.03126319427906\"\n",
      "[1] \"Brier 分数: 0.144333726357129\"\n"
     ]
    },
    {
     "name": "stderr",
     "output_type": "stream",
     "text": [
      "Setting levels: control = 0, case = 1\n",
      "\n",
      "Setting direction: controls < cases\n",
      "\n"
     ]
    },
    {
     "name": "stdout",
     "output_type": "stream",
     "text": [
      "[1] \"auc: 0.722128861556064\"\n",
      "[1] \"O/E 比率: 0.977306242371282\"\n",
      "[1] \"c_slope: 1.18918699350539\"\n",
      "[1] \"Brier 分数: 0.144712241991673\"\n"
     ]
    },
    {
     "name": "stderr",
     "output_type": "stream",
     "text": [
      "Setting levels: control = 0, case = 1\n",
      "\n",
      "Setting direction: controls < cases\n",
      "\n"
     ]
    },
    {
     "name": "stdout",
     "output_type": "stream",
     "text": [
      "[1] \"auc: 0.722176305888048\"\n",
      "[1] \"O/E 比率: 0.987234494471673\"\n",
      "[1] \"c_slope: 1.15843930801188\"\n",
      "[1] \"Brier 分数: 0.144251149963747\"\n"
     ]
    },
    {
     "name": "stderr",
     "output_type": "stream",
     "text": [
      "Setting levels: control = 0, case = 1\n",
      "\n",
      "Setting direction: controls < cases\n",
      "\n"
     ]
    },
    {
     "name": "stdout",
     "output_type": "stream",
     "text": [
      "[1] \"auc: 0.721451232727513\"\n",
      "[1] \"O/E 比率: 0.986781809595723\"\n",
      "[1] \"c_slope: 1.05922815415766\"\n",
      "[1] \"Brier 分数: 0.144013357162397\"\n"
     ]
    },
    {
     "name": "stderr",
     "output_type": "stream",
     "text": [
      "Setting levels: control = 0, case = 1\n",
      "\n",
      "Setting direction: controls < cases\n",
      "\n"
     ]
    },
    {
     "name": "stdout",
     "output_type": "stream",
     "text": [
      "[1] \"auc: 0.719584401403802\"\n",
      "[1] \"O/E 比率: 0.980449757686347\"\n",
      "[1] \"c_slope: 1.18879157659045\"\n",
      "[1] \"Brier 分数: 0.144567804321927\"\n"
     ]
    },
    {
     "name": "stderr",
     "output_type": "stream",
     "text": [
      "Setting levels: control = 0, case = 1\n",
      "\n",
      "Setting direction: controls < cases\n",
      "\n"
     ]
    },
    {
     "name": "stdout",
     "output_type": "stream",
     "text": [
      "[1] \"auc: 0.722003374735962\"\n",
      "[1] \"O/E 比率: 0.949469564465159\"\n",
      "[1] \"c_slope: 1.13551055279545\"\n",
      "[1] \"Brier 分数: 0.143982044913443\"\n"
     ]
    },
    {
     "name": "stderr",
     "output_type": "stream",
     "text": [
      "Setting levels: control = 0, case = 1\n",
      "\n",
      "Setting direction: controls < cases\n",
      "\n"
     ]
    },
    {
     "name": "stdout",
     "output_type": "stream",
     "text": [
      "[1] \"auc: 0.722059414055624\"\n",
      "[1] \"O/E 比率: 0.987760934086419\"\n",
      "[1] \"c_slope: 1.16601577889456\"\n",
      "[1] \"Brier 分数: 0.14393652749597\"\n"
     ]
    },
    {
     "name": "stderr",
     "output_type": "stream",
     "text": [
      "Setting levels: control = 0, case = 1\n",
      "\n",
      "Setting direction: controls < cases\n",
      "\n"
     ]
    },
    {
     "name": "stdout",
     "output_type": "stream",
     "text": [
      "[1] \"auc: 0.722273944948073\"\n",
      "[1] \"O/E 比率: 0.999131967738651\"\n",
      "[1] \"c_slope: 1.17716479880104\"\n",
      "[1] \"Brier 分数: 0.143832941814975\"\n"
     ]
    },
    {
     "name": "stderr",
     "output_type": "stream",
     "text": [
      "Setting levels: control = 0, case = 1\n",
      "\n",
      "Setting direction: controls < cases\n",
      "\n"
     ]
    },
    {
     "name": "stdout",
     "output_type": "stream",
     "text": [
      "[1] \"auc: 0.722940572192396\"\n",
      "[1] \"O/E 比率: 0.984152326753624\"\n",
      "[1] \"c_slope: 1.10879997857757\"\n",
      "[1] \"Brier 分数: 0.143733709771244\"\n"
     ]
    },
    {
     "name": "stderr",
     "output_type": "stream",
     "text": [
      "Setting levels: control = 0, case = 1\n",
      "\n",
      "Setting direction: controls < cases\n",
      "\n"
     ]
    },
    {
     "name": "stdout",
     "output_type": "stream",
     "text": [
      "[1] \"auc: 0.719149838826791\"\n",
      "[1] \"O/E 比率: 0.963149119957521\"\n",
      "[1] \"c_slope: 1.10478243798022\"\n",
      "[1] \"Brier 分数: 0.143761331997092\"\n"
     ]
    },
    {
     "name": "stderr",
     "output_type": "stream",
     "text": [
      "Setting levels: control = 0, case = 1\n",
      "\n",
      "Setting direction: controls < cases\n",
      "\n"
     ]
    },
    {
     "name": "stdout",
     "output_type": "stream",
     "text": [
      "[1] \"auc: 0.721656137233762\"\n",
      "[1] \"O/E 比率: 0.97379173890111\"\n",
      "[1] \"c_slope: 1.11809170657789\"\n",
      "[1] \"Brier 分数: 0.143692678393721\"\n"
     ]
    },
    {
     "name": "stderr",
     "output_type": "stream",
     "text": [
      "Setting levels: control = 0, case = 1\n",
      "\n",
      "Setting direction: controls < cases\n",
      "\n"
     ]
    },
    {
     "name": "stdout",
     "output_type": "stream",
     "text": [
      "[1] \"auc: 0.720779448490583\"\n",
      "[1] \"O/E 比率: 1.02514934714039\"\n",
      "[1] \"c_slope: 1.08493902156312\"\n",
      "[1] \"Brier 分数: 0.144127080364844\"\n"
     ]
    },
    {
     "name": "stderr",
     "output_type": "stream",
     "text": [
      "Setting levels: control = 0, case = 1\n",
      "\n",
      "Setting direction: controls < cases\n",
      "\n"
     ]
    },
    {
     "name": "stdout",
     "output_type": "stream",
     "text": [
      "[1] \"auc: 0.722674471373878\"\n",
      "[1] \"O/E 比率: 0.97817008912256\"\n",
      "[1] \"c_slope: 1.11045416125992\"\n",
      "[1] \"Brier 分数: 0.14374102317254\"\n"
     ]
    },
    {
     "name": "stderr",
     "output_type": "stream",
     "text": [
      "Setting levels: control = 0, case = 1\n",
      "\n",
      "Setting direction: controls < cases\n",
      "\n"
     ]
    },
    {
     "name": "stdout",
     "output_type": "stream",
     "text": [
      "[1] \"auc: 0.724442288439535\"\n",
      "[1] \"O/E 比率: 0.977640894734026\"\n",
      "[1] \"c_slope: 1.12615539569891\"\n",
      "[1] \"Brier 分数: 0.143394049584754\"\n"
     ]
    },
    {
     "name": "stderr",
     "output_type": "stream",
     "text": [
      "Setting levels: control = 0, case = 1\n",
      "\n",
      "Setting direction: controls < cases\n",
      "\n"
     ]
    },
    {
     "name": "stdout",
     "output_type": "stream",
     "text": [
      "[1] \"auc: 0.722984922328815\"\n",
      "[1] \"O/E 比率: 0.997760849195253\"\n",
      "[1] \"c_slope: 1.05786638767811\"\n",
      "[1] \"Brier 分数: 0.143632265061747\"\n"
     ]
    },
    {
     "name": "stderr",
     "output_type": "stream",
     "text": [
      "Setting levels: control = 0, case = 1\n",
      "\n",
      "Setting direction: controls < cases\n",
      "\n"
     ]
    },
    {
     "name": "stdout",
     "output_type": "stream",
     "text": [
      "[1] \"auc: 0.721790219041542\"\n",
      "[1] \"O/E 比率: 0.986231231403814\"\n",
      "[1] \"c_slope: 1.06707791470526\"\n",
      "[1] \"Brier 分数: 0.143606571302587\"\n"
     ]
    },
    {
     "name": "stderr",
     "output_type": "stream",
     "text": [
      "Setting levels: control = 0, case = 1\n",
      "\n",
      "Setting direction: controls < cases\n",
      "\n"
     ]
    },
    {
     "name": "stdout",
     "output_type": "stream",
     "text": [
      "[1] \"auc: 0.723823105527196\"\n",
      "[1] \"O/E 比率: 0.961765089444101\"\n",
      "[1] \"c_slope: 1.09430766201844\"\n",
      "[1] \"Brier 分数: 0.143509255463025\"\n"
     ]
    },
    {
     "name": "stderr",
     "output_type": "stream",
     "text": [
      "Setting levels: control = 0, case = 1\n",
      "\n",
      "Setting direction: controls < cases\n",
      "\n"
     ]
    },
    {
     "name": "stdout",
     "output_type": "stream",
     "text": [
      "[1] \"auc: 0.719988709624186\"\n",
      "[1] \"O/E 比率: 1.00090790795747\"\n",
      "[1] \"c_slope: 1.14616074723954\"\n",
      "[1] \"Brier 分数: 0.143970997039213\"\n"
     ]
    },
    {
     "name": "stderr",
     "output_type": "stream",
     "text": [
      "Setting levels: control = 0, case = 1\n",
      "\n",
      "Setting direction: controls < cases\n",
      "\n"
     ]
    },
    {
     "name": "stdout",
     "output_type": "stream",
     "text": [
      "[1] \"auc: 0.724337429589861\"\n",
      "[1] \"O/E 比率: 0.972304722626796\"\n",
      "[1] \"c_slope: 1.09395139721056\"\n",
      "[1] \"Brier 分数: 0.143251214573085\"\n"
     ]
    },
    {
     "name": "stderr",
     "output_type": "stream",
     "text": [
      "Setting levels: control = 0, case = 1\n",
      "\n",
      "Setting direction: controls < cases\n",
      "\n"
     ]
    },
    {
     "name": "stdout",
     "output_type": "stream",
     "text": [
      "[1] \"auc: 0.725165298803028\"\n",
      "[1] \"O/E 比率: 0.943599808990976\"\n",
      "[1] \"c_slope: 1.06789282293419\"\n",
      "[1] \"Brier 分数: 0.143788432076439\"\n"
     ]
    },
    {
     "name": "stderr",
     "output_type": "stream",
     "text": [
      "Setting levels: control = 0, case = 1\n",
      "\n",
      "Setting direction: controls < cases\n",
      "\n"
     ]
    },
    {
     "name": "stdout",
     "output_type": "stream",
     "text": [
      "[1] \"auc: 0.723998443275832\"\n",
      "[1] \"O/E 比率: 0.964948064435752\"\n",
      "[1] \"c_slope: 1.13902061379819\"\n",
      "[1] \"Brier 分数: 0.143903340435056\"\n"
     ]
    },
    {
     "name": "stderr",
     "output_type": "stream",
     "text": [
      "Setting levels: control = 0, case = 1\n",
      "\n",
      "Setting direction: controls < cases\n",
      "\n"
     ]
    },
    {
     "name": "stdout",
     "output_type": "stream",
     "text": [
      "[1] \"auc: 0.720866773565393\"\n",
      "[1] \"O/E 比率: 1.00047101108021\"\n",
      "[1] \"c_slope: 1.11581846126261\"\n",
      "[1] \"Brier 分数: 0.144816629006077\"\n"
     ]
    },
    {
     "name": "stderr",
     "output_type": "stream",
     "text": [
      "Setting levels: control = 0, case = 1\n",
      "\n",
      "Setting direction: controls < cases\n",
      "\n"
     ]
    },
    {
     "name": "stdout",
     "output_type": "stream",
     "text": [
      "[1] \"auc: 0.720623363514346\"\n",
      "[1] \"O/E 比率: 0.960531184201626\"\n",
      "[1] \"c_slope: 1.07907990502389\"\n",
      "[1] \"Brier 分数: 0.143986742028371\"\n"
     ]
    },
    {
     "name": "stderr",
     "output_type": "stream",
     "text": [
      "Setting levels: control = 0, case = 1\n",
      "\n",
      "Setting direction: controls < cases\n",
      "\n"
     ]
    },
    {
     "name": "stdout",
     "output_type": "stream",
     "text": [
      "[1] \"auc: 0.722139175541278\"\n",
      "[1] \"O/E 比率: 0.986436628886993\"\n",
      "[1] \"c_slope: 1.14414557634634\"\n",
      "[1] \"Brier 分数: 0.143885118916931\"\n"
     ]
    },
    {
     "name": "stderr",
     "output_type": "stream",
     "text": [
      "Setting levels: control = 0, case = 1\n",
      "\n",
      "Setting direction: controls < cases\n",
      "\n"
     ]
    },
    {
     "name": "stdout",
     "output_type": "stream",
     "text": [
      "[1] \"auc: 0.72511716687203\"\n",
      "[1] \"O/E 比率: 0.972556962807771\"\n",
      "[1] \"c_slope: 1.11972573010714\"\n",
      "[1] \"Brier 分数: 0.143260895048199\"\n"
     ]
    },
    {
     "name": "stderr",
     "output_type": "stream",
     "text": [
      "Setting levels: control = 0, case = 1\n",
      "\n",
      "Setting direction: controls < cases\n",
      "\n"
     ]
    },
    {
     "name": "stdout",
     "output_type": "stream",
     "text": [
      "[1] \"auc: 0.724264200294842\"\n",
      "[1] \"O/E 比率: 0.975586905898719\"\n",
      "[1] \"c_slope: 1.04857943010036\"\n",
      "[1] \"Brier 分数: 0.143057085166757\"\n"
     ]
    },
    {
     "name": "stderr",
     "output_type": "stream",
     "text": [
      "Setting levels: control = 0, case = 1\n",
      "\n",
      "Setting direction: controls < cases\n",
      "\n"
     ]
    },
    {
     "name": "stdout",
     "output_type": "stream",
     "text": [
      "[1] \"auc: 0.722838807538286\"\n",
      "[1] \"O/E 比率: 0.996093761879951\"\n",
      "[1] \"c_slope: 1.14142035078302\"\n",
      "[1] \"Brier 分数: 0.143918298589703\"\n"
     ]
    },
    {
     "name": "stderr",
     "output_type": "stream",
     "text": [
      "Setting levels: control = 0, case = 1\n",
      "\n",
      "Setting direction: controls < cases\n",
      "\n"
     ]
    },
    {
     "name": "stdout",
     "output_type": "stream",
     "text": [
      "[1] \"auc: 0.722206904044182\"\n",
      "[1] \"O/E 比率: 0.978216163280315\"\n",
      "[1] \"c_slope: 1.0992753491969\"\n",
      "[1] \"Brier 分数: 0.14389273294592\"\n"
     ]
    },
    {
     "name": "stderr",
     "output_type": "stream",
     "text": [
      "Setting levels: control = 0, case = 1\n",
      "\n",
      "Setting direction: controls < cases\n",
      "\n"
     ]
    },
    {
     "name": "stdout",
     "output_type": "stream",
     "text": [
      "[1] \"auc: 0.721775779462243\"\n",
      "[1] \"O/E 比率: 0.984645351085187\"\n",
      "[1] \"c_slope: 1.10007055703195\"\n",
      "[1] \"Brier 分数: 0.143631960223843\"\n"
     ]
    },
    {
     "name": "stderr",
     "output_type": "stream",
     "text": [
      "Setting levels: control = 0, case = 1\n",
      "\n",
      "Setting direction: controls < cases\n",
      "\n"
     ]
    },
    {
     "name": "stdout",
     "output_type": "stream",
     "text": [
      "[1] \"auc: 0.723882239042422\"\n",
      "[1] \"O/E 比率: 0.995153284752989\"\n",
      "[1] \"c_slope: 1.07774632729322\"\n",
      "[1] \"Brier 分数: 0.143809201663148\"\n"
     ]
    },
    {
     "name": "stderr",
     "output_type": "stream",
     "text": [
      "Setting levels: control = 0, case = 1\n",
      "\n",
      "Setting direction: controls < cases\n",
      "\n"
     ]
    },
    {
     "name": "stdout",
     "output_type": "stream",
     "text": [
      "[1] \"auc: 0.723291591489174\"\n",
      "[1] \"O/E 比率: 1.00298833075928\"\n",
      "[1] \"c_slope: 1.10531572958958\"\n",
      "[1] \"Brier 分数: 0.144047990744652\"\n"
     ]
    },
    {
     "name": "stderr",
     "output_type": "stream",
     "text": [
      "Setting levels: control = 0, case = 1\n",
      "\n",
      "Setting direction: controls < cases\n",
      "\n"
     ]
    },
    {
     "name": "stdout",
     "output_type": "stream",
     "text": [
      "[1] \"auc: 0.723881207643901\"\n",
      "[1] \"O/E 比率: 0.982147936473403\"\n",
      "[1] \"c_slope: 1.08797135879303\"\n",
      "[1] \"Brier 分数: 0.143555066656554\"\n"
     ]
    },
    {
     "name": "stderr",
     "output_type": "stream",
     "text": [
      "Setting levels: control = 0, case = 1\n",
      "\n",
      "Setting direction: controls < cases\n",
      "\n"
     ]
    },
    {
     "name": "stdout",
     "output_type": "stream",
     "text": [
      "[1] \"auc: 0.721729710328287\"\n",
      "[1] \"O/E 比率: 0.984404502835815\"\n",
      "[1] \"c_slope: 1.12497140798323\"\n",
      "[1] \"Brier 分数: 0.144098642071848\"\n"
     ]
    },
    {
     "name": "stderr",
     "output_type": "stream",
     "text": [
      "Setting levels: control = 0, case = 1\n",
      "\n",
      "Setting direction: controls < cases\n",
      "\n"
     ]
    },
    {
     "name": "stdout",
     "output_type": "stream",
     "text": [
      "[1] \"auc: 0.722570987722232\"\n",
      "[1] \"O/E 比率: 1.00374593910018\"\n",
      "[1] \"c_slope: 1.10774151539856\"\n",
      "[1] \"Brier 分数: 0.143733087961205\"\n"
     ]
    },
    {
     "name": "stderr",
     "output_type": "stream",
     "text": [
      "Setting levels: control = 0, case = 1\n",
      "\n",
      "Setting direction: controls < cases\n",
      "\n"
     ]
    },
    {
     "name": "stdout",
     "output_type": "stream",
     "text": [
      "[1] \"auc: 0.720789762475797\"\n",
      "[1] \"O/E 比率: 0.979271574197391\"\n",
      "[1] \"c_slope: 1.07773930614735\"\n",
      "[1] \"Brier 分数: 0.144309936272797\"\n"
     ]
    },
    {
     "name": "stderr",
     "output_type": "stream",
     "text": [
      "Setting levels: control = 0, case = 1\n",
      "\n",
      "Setting direction: controls < cases\n",
      "\n"
     ]
    },
    {
     "name": "stdout",
     "output_type": "stream",
     "text": [
      "[1] \"auc: 0.722338579255413\"\n",
      "[1] \"O/E 比率: 0.999537303597743\"\n",
      "[1] \"c_slope: 1.09172704518459\"\n",
      "[1] \"Brier 分数: 0.143874238837431\"\n"
     ]
    },
    {
     "name": "stderr",
     "output_type": "stream",
     "text": [
      "Setting levels: control = 0, case = 1\n",
      "\n",
      "Setting direction: controls < cases\n",
      "\n"
     ]
    },
    {
     "name": "stdout",
     "output_type": "stream",
     "text": [
      "[1] \"auc: 0.720762602314733\"\n",
      "[1] \"O/E 比率: 0.981191883351058\"\n",
      "[1] \"c_slope: 1.08058258613976\"\n",
      "[1] \"Brier 分数: 0.143563775043474\"\n"
     ]
    },
    {
     "name": "stderr",
     "output_type": "stream",
     "text": [
      "Setting levels: control = 0, case = 1\n",
      "\n",
      "Setting direction: controls < cases\n",
      "\n"
     ]
    },
    {
     "name": "stdout",
     "output_type": "stream",
     "text": [
      "[1] \"auc: 0.720039248151734\"\n",
      "[1] \"O/E 比率: 0.952222842686104\"\n",
      "[1] \"c_slope: 1.04727331541244\"\n",
      "[1] \"Brier 分数: 0.144110021851668\"\n"
     ]
    },
    {
     "name": "stderr",
     "output_type": "stream",
     "text": [
      "Setting levels: control = 0, case = 1\n",
      "\n",
      "Setting direction: controls < cases\n",
      "\n"
     ]
    },
    {
     "name": "stdout",
     "output_type": "stream",
     "text": [
      "[1] \"auc: 0.722873531288506\"\n",
      "[1] \"O/E 比率: 0.973485149163484\"\n",
      "[1] \"c_slope: 1.11071778628716\"\n",
      "[1] \"Brier 分数: 0.14330558140853\"\n"
     ]
    },
    {
     "name": "stderr",
     "output_type": "stream",
     "text": [
      "Setting levels: control = 0, case = 1\n",
      "\n",
      "Setting direction: controls < cases\n",
      "\n"
     ]
    },
    {
     "name": "stdout",
     "output_type": "stream",
     "text": [
      "[1] \"auc: 0.720688341621193\"\n",
      "[1] \"O/E 比率: 0.969314415152389\"\n",
      "[1] \"c_slope: 1.13348718480153\"\n",
      "[1] \"Brier 分数: 0.144240296106364\"\n"
     ]
    },
    {
     "name": "stderr",
     "output_type": "stream",
     "text": [
      "Setting levels: control = 0, case = 1\n",
      "\n",
      "Setting direction: controls < cases\n",
      "\n"
     ]
    },
    {
     "name": "stdout",
     "output_type": "stream",
     "text": [
      "[1] \"auc: 0.723929339574899\"\n",
      "[1] \"O/E 比率: 0.969458451304841\"\n",
      "[1] \"c_slope: 1.08999319534824\"\n",
      "[1] \"Brier 分数: 0.143129972811095\"\n"
     ]
    },
    {
     "name": "stderr",
     "output_type": "stream",
     "text": [
      "Setting levels: control = 0, case = 1\n",
      "\n",
      "Setting direction: controls < cases\n",
      "\n"
     ]
    },
    {
     "name": "stdout",
     "output_type": "stream",
     "text": [
      "[1] \"auc: 0.721488019274776\"\n",
      "[1] \"O/E 比率: 0.944363517933207\"\n",
      "[1] \"c_slope: 1.13647996672238\"\n",
      "[1] \"Brier 分数: 0.144326207650037\"\n"
     ]
    },
    {
     "name": "stderr",
     "output_type": "stream",
     "text": [
      "Setting levels: control = 0, case = 1\n",
      "\n",
      "Setting direction: controls < cases\n",
      "\n"
     ]
    },
    {
     "name": "stdout",
     "output_type": "stream",
     "text": [
      "[1] \"auc: 0.717236250770111\"\n",
      "[1] \"O/E 比率: 1.02473642053011\"\n",
      "[1] \"c_slope: 1.05640832148353\"\n",
      "[1] \"Brier 分数: 0.144707354979624\"\n"
     ]
    },
    {
     "name": "stderr",
     "output_type": "stream",
     "text": [
      "Setting levels: control = 0, case = 1\n",
      "\n",
      "Setting direction: controls < cases\n",
      "\n"
     ]
    },
    {
     "name": "stdout",
     "output_type": "stream",
     "text": [
      "[1] \"auc: 0.722808209382151\"\n",
      "[1] \"O/E 比率: 0.988226032886417\"\n",
      "[1] \"c_slope: 1.14633199743309\"\n",
      "[1] \"Brier 分数: 0.144008705699832\"\n"
     ]
    },
    {
     "name": "stderr",
     "output_type": "stream",
     "text": [
      "Setting levels: control = 0, case = 1\n",
      "\n",
      "Setting direction: controls < cases\n",
      "\n"
     ]
    },
    {
     "name": "stdout",
     "output_type": "stream",
     "text": [
      "[1] \"auc: 0.721800533026756\"\n",
      "[1] \"O/E 比率: 0.956927426204042\"\n",
      "[1] \"c_slope: 1.00227645626534\"\n",
      "[1] \"Brier 分数: 0.144503536797583\"\n"
     ]
    },
    {
     "name": "stderr",
     "output_type": "stream",
     "text": [
      "Setting levels: control = 0, case = 1\n",
      "\n",
      "Setting direction: controls < cases\n",
      "\n"
     ]
    },
    {
     "name": "stdout",
     "output_type": "stream",
     "text": [
      "[1] \"auc: 0.721096087836648\"\n",
      "[1] \"O/E 比率: 0.965798874222729\"\n",
      "[1] \"c_slope: 1.06023397731113\"\n",
      "[1] \"Brier 分数: 0.144460890558249\"\n"
     ]
    },
    {
     "name": "stderr",
     "output_type": "stream",
     "text": [
      "Setting levels: control = 0, case = 1\n",
      "\n",
      "Setting direction: controls < cases\n",
      "\n"
     ]
    },
    {
     "name": "stdout",
     "output_type": "stream",
     "text": [
      "[1] \"auc: 0.72358554006777\"\n",
      "[1] \"O/E 比率: 0.980953143364571\"\n",
      "[1] \"c_slope: 1.09364220532429\"\n",
      "[1] \"Brier 分数: 0.143774382702315\"\n"
     ]
    },
    {
     "name": "stderr",
     "output_type": "stream",
     "text": [
      "Setting levels: control = 0, case = 1\n",
      "\n",
      "Setting direction: controls < cases\n",
      "\n"
     ]
    },
    {
     "name": "stdout",
     "output_type": "stream",
     "text": [
      "[1] \"auc: 0.725295942615737\"\n",
      "[1] \"O/E 比率: 0.939228115206535\"\n",
      "[1] \"c_slope: 1.06835094004992\"\n",
      "[1] \"Brier 分数: 0.143205136497919\"\n"
     ]
    },
    {
     "name": "stderr",
     "output_type": "stream",
     "text": [
      "Setting levels: control = 0, case = 1\n",
      "\n",
      "Setting direction: controls < cases\n",
      "\n"
     ]
    },
    {
     "name": "stdout",
     "output_type": "stream",
     "text": [
      "[1] \"auc: 0.725009213826791\"\n",
      "[1] \"O/E 比率: 0.968723808358134\"\n",
      "[1] \"c_slope: 1.16012044809774\"\n",
      "[1] \"Brier 分数: 0.143761888327335\"\n"
     ]
    },
    {
     "name": "stderr",
     "output_type": "stream",
     "text": [
      "Setting levels: control = 0, case = 1\n",
      "\n",
      "Setting direction: controls < cases\n",
      "\n"
     ]
    },
    {
     "name": "stdout",
     "output_type": "stream",
     "text": [
      "[1] \"auc: 0.719531112480197\"\n",
      "[1] \"O/E 比率: 0.99028371438798\"\n",
      "[1] \"c_slope: 1.08957908727038\"\n",
      "[1] \"Brier 分数: 0.144355237580379\"\n"
     ]
    },
    {
     "name": "stderr",
     "output_type": "stream",
     "text": [
      "Setting levels: control = 0, case = 1\n",
      "\n",
      "Setting direction: controls < cases\n",
      "\n"
     ]
    },
    {
     "name": "stdout",
     "output_type": "stream",
     "text": [
      "[1] \"auc: 0.724878913813589\"\n",
      "[1] \"O/E 比率: 1.00635078950489\"\n",
      "[1] \"c_slope: 1.05791233745394\"\n",
      "[1] \"Brier 分数: 0.142705065698427\"\n"
     ]
    },
    {
     "name": "stderr",
     "output_type": "stream",
     "text": [
      "Setting levels: control = 0, case = 1\n",
      "\n",
      "Setting direction: controls < cases\n",
      "\n"
     ]
    },
    {
     "name": "stdout",
     "output_type": "stream",
     "text": [
      "[1] \"auc: 0.723784599982397\"\n",
      "[1] \"O/E 比率: 0.987506990881731\"\n",
      "[1] \"c_slope: 1.19721792594524\"\n",
      "[1] \"Brier 分数: 0.14399906767434\"\n"
     ]
    },
    {
     "name": "stderr",
     "output_type": "stream",
     "text": [
      "Setting levels: control = 0, case = 1\n",
      "\n",
      "Setting direction: controls < cases\n",
      "\n"
     ]
    },
    {
     "name": "stdout",
     "output_type": "stream",
     "text": [
      "[1] \"auc: 0.72367527173913\"\n",
      "[1] \"O/E 比率: 0.973314876511449\"\n",
      "[1] \"c_slope: 1.14926436399544\"\n",
      "[1] \"Brier 分数: 0.144102129107909\"\n"
     ]
    },
    {
     "name": "stderr",
     "output_type": "stream",
     "text": [
      "Setting levels: control = 0, case = 1\n",
      "\n",
      "Setting direction: controls < cases\n",
      "\n"
     ]
    },
    {
     "name": "stdout",
     "output_type": "stream",
     "text": [
      "[1] \"auc: 0.72387295645573\"\n",
      "[1] \"O/E 比率: 0.990189618475349\"\n",
      "[1] \"c_slope: 1.09097789640097\"\n",
      "[1] \"Brier 分数: 0.143564831731546\"\n"
     ]
    },
    {
     "name": "stderr",
     "output_type": "stream",
     "text": [
      "Setting levels: control = 0, case = 1\n",
      "\n",
      "Setting direction: controls < cases\n",
      "\n"
     ]
    },
    {
     "name": "stdout",
     "output_type": "stream",
     "text": [
      "[1] \"auc: 0.721612474696356\"\n",
      "[1] \"O/E 比率: 1.01632295315116\"\n",
      "[1] \"c_slope: 1.06955430436256\"\n",
      "[1] \"Brier 分数: 0.144467997657131\"\n"
     ]
    },
    {
     "name": "stderr",
     "output_type": "stream",
     "text": [
      "Setting levels: control = 0, case = 1\n",
      "\n",
      "Setting direction: controls < cases\n",
      "\n"
     ]
    },
    {
     "name": "stdout",
     "output_type": "stream",
     "text": [
      "[1] \"auc: 0.724414784478965\"\n",
      "[1] \"O/E 比率: 0.96064887086629\"\n",
      "[1] \"c_slope: 1.1630567549284\"\n",
      "[1] \"Brier 分数: 0.143798784141981\"\n"
     ]
    },
    {
     "name": "stderr",
     "output_type": "stream",
     "text": [
      "Setting levels: control = 0, case = 1\n",
      "\n",
      "Setting direction: controls < cases\n",
      "\n"
     ]
    },
    {
     "name": "stdout",
     "output_type": "stream",
     "text": [
      "[1] \"auc: 0.723035460856363\"\n",
      "[1] \"O/E 比率: 0.993804712859072\"\n",
      "[1] \"c_slope: 1.08589818602068\"\n",
      "[1] \"Brier 分数: 0.143483148296867\"\n"
     ]
    },
    {
     "name": "stderr",
     "output_type": "stream",
     "text": [
      "Setting levels: control = 0, case = 1\n",
      "\n",
      "Setting direction: controls < cases\n",
      "\n"
     ]
    },
    {
     "name": "stdout",
     "output_type": "stream",
     "text": [
      "[1] \"auc: 0.72156537416388\"\n",
      "[1] \"O/E 比率: 0.967025382128086\"\n",
      "[1] \"c_slope: 1.10496529292901\"\n",
      "[1] \"Brier 分数: 0.143373513829634\"\n"
     ]
    },
    {
     "name": "stderr",
     "output_type": "stream",
     "text": [
      "Setting levels: control = 0, case = 1\n",
      "\n",
      "Setting direction: controls < cases\n",
      "\n"
     ]
    },
    {
     "name": "stdout",
     "output_type": "stream",
     "text": [
      "[1] \"auc: 0.72524884208326\"\n",
      "[1] \"O/E 比率: 0.97320393660051\"\n",
      "[1] \"c_slope: 1.04733295953385\"\n",
      "[1] \"Brier 分数: 0.143021189312685\"\n"
     ]
    },
    {
     "name": "stderr",
     "output_type": "stream",
     "text": [
      "Setting levels: control = 0, case = 1\n",
      "\n",
      "Setting direction: controls < cases\n",
      "\n"
     ]
    },
    {
     "name": "stdout",
     "output_type": "stream",
     "text": [
      "[1] \"auc: 0.721292397355219\"\n",
      "[1] \"O/E 比率: 0.992069665741382\"\n",
      "[1] \"c_slope: 1.05854691781707\"\n",
      "[1] \"Brier 分数: 0.144012615507862\"\n"
     ]
    },
    {
     "name": "stderr",
     "output_type": "stream",
     "text": [
      "Setting levels: control = 0, case = 1\n",
      "\n",
      "Setting direction: controls < cases\n",
      "\n"
     ]
    },
    {
     "name": "stdout",
     "output_type": "stream",
     "text": [
      "[1] \"auc: 0.723023084074107\"\n",
      "[1] \"O/E 比率: 0.941335248664059\"\n",
      "[1] \"c_slope: 1.14041756200829\"\n",
      "[1] \"Brier 分数: 0.143881984508862\"\n"
     ]
    },
    {
     "name": "stderr",
     "output_type": "stream",
     "text": [
      "Setting levels: control = 0, case = 1\n",
      "\n",
      "Setting direction: controls < cases\n",
      "\n"
     ]
    },
    {
     "name": "stdout",
     "output_type": "stream",
     "text": [
      "[1] \"auc: 0.719323457577891\"\n",
      "[1] \"O/E 比率: 0.959560715099537\"\n",
      "[1] \"c_slope: 1.09357246240505\"\n",
      "[1] \"Brier 分数: 0.144119914176423\"\n"
     ]
    },
    {
     "name": "stderr",
     "output_type": "stream",
     "text": [
      "Setting levels: control = 0, case = 1\n",
      "\n",
      "Setting direction: controls < cases\n",
      "\n"
     ]
    },
    {
     "name": "stdout",
     "output_type": "stream",
     "text": [
      "[1] \"auc: 0.721421322170393\"\n",
      "[1] \"O/E 比率: 0.968122668286011\"\n",
      "[1] \"c_slope: 1.09634740626772\"\n",
      "[1] \"Brier 分数: 0.144140675449343\"\n"
     ]
    },
    {
     "name": "stderr",
     "output_type": "stream",
     "text": [
      "Setting levels: control = 0, case = 1\n",
      "\n",
      "Setting direction: controls < cases\n",
      "\n"
     ]
    },
    {
     "name": "stdout",
     "output_type": "stream",
     "text": [
      "[1] \"auc: 0.722228563413131\"\n",
      "[1] \"O/E 比率: 0.930002761680954\"\n",
      "[1] \"c_slope: 1.06151578987874\"\n",
      "[1] \"Brier 分数: 0.144268856502849\"\n"
     ]
    },
    {
     "name": "stderr",
     "output_type": "stream",
     "text": [
      "Setting levels: control = 0, case = 1\n",
      "\n",
      "Setting direction: controls < cases\n",
      "\n"
     ]
    },
    {
     "name": "stdout",
     "output_type": "stream",
     "text": [
      "[1] \"auc: 0.721707019560817\"\n",
      "[1] \"O/E 比率: 1.00162770191552\"\n",
      "[1] \"c_slope: 1.097853937296\"\n",
      "[1] \"Brier 分数: 0.144307507538473\"\n"
     ]
    },
    {
     "name": "stderr",
     "output_type": "stream",
     "text": [
      "Setting levels: control = 0, case = 1\n",
      "\n",
      "Setting direction: controls < cases\n",
      "\n"
     ]
    },
    {
     "name": "stdout",
     "output_type": "stream",
     "text": [
      "[1] \"auc: 0.723398169336384\"\n",
      "[1] \"O/E 比率: 0.937661766218046\"\n",
      "[1] \"c_slope: 1.07774332949413\"\n",
      "[1] \"Brier 分数: 0.144100552187408\"\n"
     ]
    },
    {
     "name": "stderr",
     "output_type": "stream",
     "text": [
      "Setting levels: control = 0, case = 1\n",
      "\n",
      "Setting direction: controls < cases\n",
      "\n"
     ]
    },
    {
     "name": "stdout",
     "output_type": "stream",
     "text": [
      "[1] \"auc: 0.721966931988206\"\n",
      "[1] \"O/E 比率: 0.999415202410232\"\n",
      "[1] \"c_slope: 1.13499603920882\"\n",
      "[1] \"Brier 分数: 0.14423978517411\"\n"
     ]
    },
    {
     "name": "stderr",
     "output_type": "stream",
     "text": [
      "Setting levels: control = 0, case = 1\n",
      "\n",
      "Setting direction: controls < cases\n",
      "\n"
     ]
    },
    {
     "name": "stdout",
     "output_type": "stream",
     "text": [
      "[1] \"auc: 0.725888652966027\"\n",
      "[1] \"O/E 比率: 0.957583693087743\"\n",
      "[1] \"c_slope: 1.23038447566248\"\n",
      "[1] \"Brier 分数: 0.143599091562747\"\n"
     ]
    },
    {
     "name": "stderr",
     "output_type": "stream",
     "text": [
      "Setting levels: control = 0, case = 1\n",
      "\n",
      "Setting direction: controls < cases\n",
      "\n"
     ]
    },
    {
     "name": "stdout",
     "output_type": "stream",
     "text": [
      "[1] \"auc: 0.717765358211582\"\n",
      "[1] \"O/E 比率: 0.99921463270975\"\n",
      "[1] \"c_slope: 1.08682708342985\"\n",
      "[1] \"Brier 分数: 0.144496373312288\"\n"
     ]
    },
    {
     "name": "stderr",
     "output_type": "stream",
     "text": [
      "Setting levels: control = 0, case = 1\n",
      "\n",
      "Setting direction: controls < cases\n",
      "\n"
     ]
    },
    {
     "name": "stdout",
     "output_type": "stream",
     "text": [
      "[1] \"auc: 0.724359776557824\"\n",
      "[1] \"O/E 比率: 1.03084141604071\"\n",
      "[1] \"c_slope: 1.13632397840732\"\n",
      "[1] \"Brier 分数: 0.144040666524911\"\n"
     ]
    },
    {
     "name": "stderr",
     "output_type": "stream",
     "text": [
      "Setting levels: control = 0, case = 1\n",
      "\n",
      "Setting direction: controls < cases\n",
      "\n"
     ]
    },
    {
     "name": "stdout",
     "output_type": "stream",
     "text": [
      "[1] \"auc: 0.723877082049815\"\n",
      "[1] \"O/E 比率: 0.968901789636073\"\n",
      "[1] \"c_slope: 1.09524825371141\"\n",
      "[1] \"Brier 分数: 0.143753096396343\"\n"
     ]
    },
    {
     "name": "stderr",
     "output_type": "stream",
     "text": [
      "Setting levels: control = 0, case = 1\n",
      "\n",
      "Setting direction: controls < cases\n",
      "\n"
     ]
    },
    {
     "name": "stdout",
     "output_type": "stream",
     "text": [
      "[1] \"auc: 0.723652924771167\"\n",
      "[1] \"O/E 比率: 0.977228778140305\"\n",
      "[1] \"c_slope: 1.17315343916321\"\n",
      "[1] \"Brier 分数: 0.144002218025249\"\n"
     ]
    },
    {
     "name": "stderr",
     "output_type": "stream",
     "text": [
      "Setting levels: control = 0, case = 1\n",
      "\n",
      "Setting direction: controls < cases\n",
      "\n"
     ]
    },
    {
     "name": "stdout",
     "output_type": "stream",
     "text": [
      "[1] \"auc: 0.72379628916564\"\n",
      "[1] \"O/E 比率: 0.985093199968\"\n",
      "[1] \"c_slope: 1.15597303726557\"\n",
      "[1] \"Brier 分数: 0.14389296212148\"\n"
     ]
    },
    {
     "name": "stderr",
     "output_type": "stream",
     "text": [
      "Setting levels: control = 0, case = 1\n",
      "\n",
      "Setting direction: controls < cases\n",
      "\n"
     ]
    },
    {
     "name": "stdout",
     "output_type": "stream",
     "text": [
      "[1] \"auc: 0.722200715653054\"\n",
      "[1] \"O/E 比率: 0.968358559553802\"\n",
      "[1] \"c_slope: 1.12121604979881\"\n",
      "[1] \"Brier 分数: 0.143723666818922\"\n"
     ]
    },
    {
     "name": "stderr",
     "output_type": "stream",
     "text": [
      "Setting levels: control = 0, case = 1\n",
      "\n",
      "Setting direction: controls < cases\n",
      "\n"
     ]
    },
    {
     "name": "stdout",
     "output_type": "stream",
     "text": [
      "[1] \"auc: 0.721095744037141\"\n",
      "[1] \"O/E 比率: 0.97255877808299\"\n",
      "[1] \"c_slope: 1.15487917596125\"\n",
      "[1] \"Brier 分数: 0.144238032037855\"\n"
     ]
    },
    {
     "name": "stderr",
     "output_type": "stream",
     "text": [
      "Setting levels: control = 0, case = 1\n",
      "\n",
      "Setting direction: controls < cases\n",
      "\n"
     ]
    },
    {
     "name": "stdout",
     "output_type": "stream",
     "text": [
      "[1] \"auc: 0.722845339728921\"\n",
      "[1] \"O/E 比率: 0.945323835594518\"\n",
      "[1] \"c_slope: 1.06289736684656\"\n",
      "[1] \"Brier 分数: 0.144053463039418\"\n"
     ]
    },
    {
     "name": "stderr",
     "output_type": "stream",
     "text": [
      "Setting levels: control = 0, case = 1\n",
      "\n",
      "Setting direction: controls < cases\n",
      "\n"
     ]
    },
    {
     "name": "stdout",
     "output_type": "stream",
     "text": [
      "[1] \"auc: 0.720475873525788\"\n",
      "[1] \"O/E 比率: 0.980401602144414\"\n",
      "[1] \"c_slope: 1.11333130888427\"\n",
      "[1] \"Brier 分数: 0.144588887542491\"\n"
     ]
    },
    {
     "name": "stderr",
     "output_type": "stream",
     "text": [
      "Setting levels: control = 0, case = 1\n",
      "\n",
      "Setting direction: controls < cases\n",
      "\n"
     ]
    },
    {
     "name": "stdout",
     "output_type": "stream",
     "text": [
      "[1] \"auc: 0.721050706301707\"\n",
      "[1] \"O/E 比率: 0.964229216581199\"\n",
      "[1] \"c_slope: 1.18444236540696\"\n",
      "[1] \"Brier 分数: 0.144371137520056\"\n"
     ]
    },
    {
     "name": "stderr",
     "output_type": "stream",
     "text": [
      "Setting levels: control = 0, case = 1\n",
      "\n",
      "Setting direction: controls < cases\n",
      "\n"
     ]
    },
    {
     "name": "stdout",
     "output_type": "stream",
     "text": [
      "[1] \"auc: 0.723191202033093\"\n",
      "[1] \"O/E 比率: 0.962579255183553\"\n",
      "[1] \"c_slope: 1.06519816529008\"\n",
      "[1] \"Brier 分数: 0.143729146234961\"\n"
     ]
    },
    {
     "name": "stderr",
     "output_type": "stream",
     "text": [
      "Setting levels: control = 0, case = 1\n",
      "\n",
      "Setting direction: controls < cases\n",
      "\n"
     ]
    },
    {
     "name": "stdout",
     "output_type": "stream",
     "text": [
      "[1] \"auc: 0.719321050981341\"\n",
      "[1] \"O/E 比率: 1.0086640437891\"\n",
      "[1] \"c_slope: 1.14825016608296\"\n",
      "[1] \"Brier 分数: 0.144314599617226\"\n"
     ]
    },
    {
     "name": "stderr",
     "output_type": "stream",
     "text": [
      "Setting levels: control = 0, case = 1\n",
      "\n",
      "Setting direction: controls < cases\n",
      "\n"
     ]
    },
    {
     "name": "stdout",
     "output_type": "stream",
     "text": [
      "[1] \"auc: 0.721275894978877\"\n",
      "[1] \"O/E 比率: 0.967201033026092\"\n",
      "[1] \"c_slope: 1.1182365979605\"\n",
      "[1] \"Brier 分数: 0.144236949049013\"\n"
     ]
    },
    {
     "name": "stderr",
     "output_type": "stream",
     "text": [
      "Setting levels: control = 0, case = 1\n",
      "\n",
      "Setting direction: controls < cases\n",
      "\n"
     ]
    },
    {
     "name": "stdout",
     "output_type": "stream",
     "text": [
      "[1] \"auc: 0.721102620027284\"\n",
      "[1] \"O/E 比率: 0.976032300874273\"\n",
      "[1] \"c_slope: 1.11871908470862\"\n",
      "[1] \"Brier 分数: 0.144062460269551\"\n"
     ]
    },
    {
     "name": "stderr",
     "output_type": "stream",
     "text": [
      "Setting levels: control = 0, case = 1\n",
      "\n",
      "Setting direction: controls < cases\n",
      "\n"
     ]
    },
    {
     "name": "stdout",
     "output_type": "stream",
     "text": [
      "[1] \"auc: 0.719760426751452\"\n",
      "[1] \"O/E 比率: 0.991189878128383\"\n",
      "[1] \"c_slope: 1.08446980052628\"\n",
      "[1] \"Brier 分数: 0.144363484022671\"\n"
     ]
    },
    {
     "name": "stderr",
     "output_type": "stream",
     "text": [
      "Setting levels: control = 0, case = 1\n",
      "\n",
      "Setting direction: controls < cases\n",
      "\n"
     ]
    },
    {
     "name": "stdout",
     "output_type": "stream",
     "text": [
      "[1] \"auc: 0.717710006490935\"\n",
      "[1] \"O/E 比率: 0.986683068848103\"\n",
      "[1] \"c_slope: 1.03920998563898\"\n",
      "[1] \"Brier 分数: 0.143966228593155\"\n"
     ]
    },
    {
     "name": "stderr",
     "output_type": "stream",
     "text": [
      "Setting levels: control = 0, case = 1\n",
      "\n",
      "Setting direction: controls < cases\n",
      "\n"
     ]
    },
    {
     "name": "stdout",
     "output_type": "stream",
     "text": [
      "[1] \"auc: 0.721204384681394\"\n",
      "[1] \"O/E 比率: 0.947913692419853\"\n",
      "[1] \"c_slope: 1.10711152645864\"\n",
      "[1] \"Brier 分数: 0.144472779633264\"\n"
     ]
    },
    {
     "name": "stderr",
     "output_type": "stream",
     "text": [
      "Setting levels: control = 0, case = 1\n",
      "\n",
      "Setting direction: controls < cases\n",
      "\n"
     ]
    },
    {
     "name": "stdout",
     "output_type": "stream",
     "text": [
      "[1] \"auc: 0.721124966995247\"\n",
      "[1] \"O/E 比率: 0.990870865264339\"\n",
      "[1] \"c_slope: 1.11557120878538\"\n",
      "[1] \"Brier 分数: 0.143558267118538\"\n"
     ]
    },
    {
     "name": "stderr",
     "output_type": "stream",
     "text": [
      "Setting levels: control = 0, case = 1\n",
      "\n",
      "Setting direction: controls < cases\n",
      "\n"
     ]
    },
    {
     "name": "stdout",
     "output_type": "stream",
     "text": [
      "[1] \"auc: 0.719464415375814\"\n",
      "[1] \"O/E 比率: 0.939532009109449\"\n",
      "[1] \"c_slope: 1.04644861118935\"\n",
      "[1] \"Brier 分数: 0.144406441081585\"\n"
     ]
    },
    {
     "name": "stderr",
     "output_type": "stream",
     "text": [
      "Setting levels: control = 0, case = 1\n",
      "\n",
      "Setting direction: controls < cases\n",
      "\n"
     ]
    },
    {
     "name": "stdout",
     "output_type": "stream",
     "text": [
      "[1] \"auc: 0.719524236490055\"\n",
      "[1] \"O/E 比率: 0.948862819283286\"\n",
      "[1] \"c_slope: 1.13693488112873\"\n",
      "[1] \"Brier 分数: 0.144200673597438\"\n"
     ]
    },
    {
     "name": "stderr",
     "output_type": "stream",
     "text": [
      "Setting levels: control = 0, case = 1\n",
      "\n",
      "Setting direction: controls < cases\n",
      "\n"
     ]
    },
    {
     "name": "stdout",
     "output_type": "stream",
     "text": [
      "[1] \"auc: 0.720522974058264\"\n",
      "[1] \"O/E 比率: 1.03065480014457\"\n",
      "[1] \"c_slope: 1.05690212202959\"\n",
      "[1] \"Brier 分数: 0.144029706485629\"\n"
     ]
    },
    {
     "name": "stderr",
     "output_type": "stream",
     "text": [
      "Setting levels: control = 0, case = 1\n",
      "\n",
      "Setting direction: controls < cases\n",
      "\n"
     ]
    },
    {
     "name": "stdout",
     "output_type": "stream",
     "text": [
      "[1] \"auc: 0.724664382921141\"\n",
      "[1] \"O/E 比率: 1.00395716923849\"\n",
      "[1] \"c_slope: 1.05379407786992\"\n",
      "[1] \"Brier 分数: 0.143472158484854\"\n"
     ]
    },
    {
     "name": "stderr",
     "output_type": "stream",
     "text": [
      "Setting levels: control = 0, case = 1\n",
      "\n",
      "Setting direction: controls < cases\n",
      "\n"
     ]
    },
    {
     "name": "stdout",
     "output_type": "stream",
     "text": [
      "[1] \"auc: 0.722747356869389\"\n",
      "[1] \"O/E 比率: 0.983484790196712\"\n",
      "[1] \"c_slope: 1.04283418590315\"\n",
      "[1] \"Brier 分数: 0.144198147628621\"\n"
     ]
    },
    {
     "name": "stderr",
     "output_type": "stream",
     "text": [
      "Setting levels: control = 0, case = 1\n",
      "\n",
      "Setting direction: controls < cases\n",
      "\n"
     ]
    },
    {
     "name": "stdout",
     "output_type": "stream",
     "text": [
      "[1] \"auc: 0.720814172240803\"\n",
      "[1] \"O/E 比率: 1.02694176535117\"\n",
      "[1] \"c_slope: 1.0557778926859\"\n",
      "[1] \"Brier 分数: 0.144485514797121\"\n"
     ]
    },
    {
     "name": "stderr",
     "output_type": "stream",
     "text": [
      "Setting levels: control = 0, case = 1\n",
      "\n",
      "Setting direction: controls < cases\n",
      "\n"
     ]
    },
    {
     "name": "stdout",
     "output_type": "stream",
     "text": [
      "[1] \"auc: 0.719801682692308\"\n",
      "[1] \"O/E 比率: 1.00129576544649\"\n",
      "[1] \"c_slope: 1.11474482740651\"\n",
      "[1] \"Brier 分数: 0.144051160078017\"\n"
     ]
    },
    {
     "name": "stderr",
     "output_type": "stream",
     "text": [
      "Setting levels: control = 0, case = 1\n",
      "\n",
      "Setting direction: controls < cases\n",
      "\n"
     ]
    },
    {
     "name": "stdout",
     "output_type": "stream",
     "text": [
      "[1] \"auc: 0.723812791541982\"\n",
      "[1] \"O/E 比率: 0.972730770772074\"\n",
      "[1] \"c_slope: 1.06905762886963\"\n",
      "[1] \"Brier 分数: 0.143450856688634\"\n"
     ]
    },
    {
     "name": "stderr",
     "output_type": "stream",
     "text": [
      "Setting levels: control = 0, case = 1\n",
      "\n",
      "Setting direction: controls < cases\n",
      "\n"
     ]
    },
    {
     "name": "stdout",
     "output_type": "stream",
     "text": [
      "[1] \"auc: 0.719691666850026\"\n",
      "[1] \"O/E 比率: 1.01184958466703\"\n",
      "[1] \"c_slope: 1.07957855200879\"\n",
      "[1] \"Brier 分数: 0.144540026868367\"\n"
     ]
    },
    {
     "name": "stderr",
     "output_type": "stream",
     "text": [
      "Setting levels: control = 0, case = 1\n",
      "\n",
      "Setting direction: controls < cases\n",
      "\n"
     ]
    },
    {
     "name": "stdout",
     "output_type": "stream",
     "text": [
      "[1] \"auc: 0.721059645088893\"\n",
      "[1] \"O/E 比率: 1.00587663952249\"\n",
      "[1] \"c_slope: 1.10675721428882\"\n",
      "[1] \"Brier 分数: 0.144272836108517\"\n"
     ]
    },
    {
     "name": "stderr",
     "output_type": "stream",
     "text": [
      "Setting levels: control = 0, case = 1\n",
      "\n",
      "Setting direction: controls < cases\n",
      "\n"
     ]
    },
    {
     "name": "stdout",
     "output_type": "stream",
     "text": [
      "[1] \"auc: 0.719917886925717\"\n",
      "[1] \"O/E 比率: 0.953122481435712\"\n",
      "[1] \"c_slope: 1.08113679730784\"\n",
      "[1] \"Brier 分数: 0.144159372538342\"\n"
     ]
    },
    {
     "name": "stderr",
     "output_type": "stream",
     "text": [
      "Setting levels: control = 0, case = 1\n",
      "\n",
      "Setting direction: controls < cases\n",
      "\n"
     ]
    },
    {
     "name": "stdout",
     "output_type": "stream",
     "text": [
      "[1] \"auc: 0.724109490516634\"\n",
      "[1] \"O/E 比率: 0.95792272702995\"\n",
      "[1] \"c_slope: 1.09625799871967\"\n",
      "[1] \"Brier 分数: 0.14339928588438\"\n"
     ]
    },
    {
     "name": "stderr",
     "output_type": "stream",
     "text": [
      "Setting levels: control = 0, case = 1\n",
      "\n",
      "Setting direction: controls < cases\n",
      "\n"
     ]
    },
    {
     "name": "stdout",
     "output_type": "stream",
     "text": [
      "[1] \"auc: 0.722447219899666\"\n",
      "[1] \"O/E 比率: 0.982507856846831\"\n",
      "[1] \"c_slope: 1.06989778273606\"\n",
      "[1] \"Brier 分数: 0.143793329088652\"\n"
     ]
    },
    {
     "name": "stderr",
     "output_type": "stream",
     "text": [
      "Setting levels: control = 0, case = 1\n",
      "\n",
      "Setting direction: controls < cases\n",
      "\n"
     ]
    },
    {
     "name": "stdout",
     "output_type": "stream",
     "text": [
      "[1] \"auc: 0.722209310640732\"\n",
      "[1] \"O/E 比率: 1.00612526599699\"\n",
      "[1] \"c_slope: 1.13419077043855\"\n",
      "[1] \"Brier 分数: 0.143984279732243\"\n"
     ]
    },
    {
     "name": "stderr",
     "output_type": "stream",
     "text": [
      "Setting levels: control = 0, case = 1\n",
      "\n",
      "Setting direction: controls < cases\n",
      "\n"
     ]
    },
    {
     "name": "stdout",
     "output_type": "stream",
     "text": [
      "[1] \"auc: 0.722363676619433\"\n",
      "[1] \"O/E 比率: 0.962368068110118\"\n",
      "[1] \"c_slope: 1.09753907627263\"\n",
      "[1] \"Brier 分数: 0.143938374694078\"\n"
     ]
    },
    {
     "name": "stderr",
     "output_type": "stream",
     "text": [
      "Setting levels: control = 0, case = 1\n",
      "\n",
      "Setting direction: controls < cases\n",
      "\n"
     ]
    },
    {
     "name": "stdout",
     "output_type": "stream",
     "text": [
      "[1] \"auc: 0.726191884131315\"\n",
      "[1] \"O/E 比率: 0.981977126200645\"\n",
      "[1] \"c_slope: 1.06153227762351\"\n",
      "[1] \"Brier 分数: 0.143460166334203\"\n"
     ]
    },
    {
     "name": "stderr",
     "output_type": "stream",
     "text": [
      "Setting levels: control = 0, case = 1\n",
      "\n",
      "Setting direction: controls < cases\n",
      "\n"
     ]
    },
    {
     "name": "stdout",
     "output_type": "stream",
     "text": [
      "[1] \"auc: 0.724031104229009\"\n",
      "[1] \"O/E 比率: 0.998652574406465\"\n",
      "[1] \"c_slope: 1.11638730020955\"\n",
      "[1] \"Brier 分数: 0.143870742662687\"\n"
     ]
    },
    {
     "name": "stderr",
     "output_type": "stream",
     "text": [
      "Setting levels: control = 0, case = 1\n",
      "\n",
      "Setting direction: controls < cases\n",
      "\n"
     ]
    },
    {
     "name": "stdout",
     "output_type": "stream",
     "text": [
      "[1] \"auc: 0.72385611027988\"\n",
      "[1] \"O/E 比率: 0.95014623835335\"\n",
      "[1] \"c_slope: 1.11642432216132\"\n",
      "[1] \"Brier 分数: 0.144423137479483\"\n"
     ]
    },
    {
     "name": "stderr",
     "output_type": "stream",
     "text": [
      "Setting levels: control = 0, case = 1\n",
      "\n",
      "Setting direction: controls < cases\n",
      "\n"
     ]
    },
    {
     "name": "stdout",
     "output_type": "stream",
     "text": [
      "[1] \"auc: 0.716123715565041\"\n",
      "[1] \"O/E 比率: 0.981477206316523\"\n",
      "[1] \"c_slope: 1.03151005866239\"\n",
      "[1] \"Brier 分数: 0.144675445892653\"\n"
     ]
    },
    {
     "name": "stderr",
     "output_type": "stream",
     "text": [
      "Setting levels: control = 0, case = 1\n",
      "\n",
      "Setting direction: controls < cases\n",
      "\n"
     ]
    },
    {
     "name": "stdout",
     "output_type": "stream",
     "text": [
      "[1] \"auc: 0.722124735961979\"\n",
      "[1] \"O/E 比率: 0.948215468109465\"\n",
      "[1] \"c_slope: 1.0517125856803\"\n",
      "[1] \"Brier 分数: 0.14363565644326\"\n"
     ]
    },
    {
     "name": "stderr",
     "output_type": "stream",
     "text": [
      "Setting levels: control = 0, case = 1\n",
      "\n",
      "Setting direction: controls < cases\n",
      "\n"
     ]
    },
    {
     "name": "stdout",
     "output_type": "stream",
     "text": [
      "[1] \"auc: 0.723920744587221\"\n",
      "[1] \"O/E 比率: 1.0258433442348\"\n",
      "[1] \"c_slope: 1.14363829204557\"\n",
      "[1] \"Brier 分数: 0.144004477439108\"\n"
     ]
    },
    {
     "name": "stderr",
     "output_type": "stream",
     "text": [
      "Setting levels: control = 0, case = 1\n",
      "\n",
      "Setting direction: controls < cases\n",
      "\n"
     ]
    },
    {
     "name": "stdout",
     "output_type": "stream",
     "text": [
      "[1] \"auc: 0.721522055425981\"\n",
      "[1] \"O/E 比率: 0.98605362234066\"\n",
      "[1] \"c_slope: 1.10977691534912\"\n",
      "[1] \"Brier 分数: 0.143959621021755\"\n"
     ]
    },
    {
     "name": "stderr",
     "output_type": "stream",
     "text": [
      "Setting levels: control = 0, case = 1\n",
      "\n",
      "Setting direction: controls < cases\n",
      "\n"
     ]
    },
    {
     "name": "stdout",
     "output_type": "stream",
     "text": [
      "[1] \"auc: 0.718065495181306\"\n",
      "[1] \"O/E 比率: 0.96805473476193\"\n",
      "[1] \"c_slope: 1.06638503736507\"\n",
      "[1] \"Brier 分数: 0.1445916643613\"\n"
     ]
    },
    {
     "name": "stderr",
     "output_type": "stream",
     "text": [
      "Setting levels: control = 0, case = 1\n",
      "\n",
      "Setting direction: controls < cases\n",
      "\n"
     ]
    },
    {
     "name": "stdout",
     "output_type": "stream",
     "text": [
      "[1] \"auc: 0.72229697951505\"\n",
      "[1] \"O/E 比率: 0.99472030335274\"\n",
      "[1] \"c_slope: 1.04272913109334\"\n",
      "[1] \"Brier 分数: 0.143426064863914\"\n"
     ]
    },
    {
     "name": "stderr",
     "output_type": "stream",
     "text": [
      "Setting levels: control = 0, case = 1\n",
      "\n",
      "Setting direction: controls < cases\n",
      "\n"
     ]
    },
    {
     "name": "stdout",
     "output_type": "stream",
     "text": [
      "[1] \"auc: 0.718672645110896\"\n",
      "[1] \"O/E 比率: 0.963332419728652\"\n",
      "[1] \"c_slope: 1.16271795806942\"\n",
      "[1] \"Brier 分数: 0.144638092588716\"\n"
     ]
    },
    {
     "name": "stderr",
     "output_type": "stream",
     "text": [
      "Setting levels: control = 0, case = 1\n",
      "\n",
      "Setting direction: controls < cases\n",
      "\n"
     ]
    },
    {
     "name": "stdout",
     "output_type": "stream",
     "text": [
      "[1] \"auc: 0.722332047064777\"\n",
      "[1] \"O/E 比率: 0.994751318775887\"\n",
      "[1] \"c_slope: 1.13588687597136\"\n",
      "[1] \"Brier 分数: 0.143702828973953\"\n"
     ]
    },
    {
     "name": "stderr",
     "output_type": "stream",
     "text": [
      "Setting levels: control = 0, case = 1\n",
      "\n",
      "Setting direction: controls < cases\n",
      "\n"
     ]
    },
    {
     "name": "stdout",
     "output_type": "stream",
     "text": [
      "[1] \"auc: 0.721065145881007\"\n",
      "[1] \"O/E 比率: 0.986929436296631\"\n",
      "[1] \"c_slope: 1.13680466434066\"\n",
      "[1] \"Brier 分数: 0.144169229439261\"\n"
     ]
    },
    {
     "name": "stderr",
     "output_type": "stream",
     "text": [
      "Setting levels: control = 0, case = 1\n",
      "\n",
      "Setting direction: controls < cases\n",
      "\n"
     ]
    },
    {
     "name": "stdout",
     "output_type": "stream",
     "text": [
      "[1] \"auc: 0.723175387255765\"\n",
      "[1] \"O/E 比率: 1.0116713584026\"\n",
      "[1] \"c_slope: 1.14161470865241\"\n",
      "[1] \"Brier 分数: 0.143470746292858\"\n"
     ]
    },
    {
     "name": "stderr",
     "output_type": "stream",
     "text": [
      "Setting levels: control = 0, case = 1\n",
      "\n",
      "Setting direction: controls < cases\n",
      "\n"
     ]
    },
    {
     "name": "stdout",
     "output_type": "stream",
     "text": [
      "[1] \"auc: 0.719293203221264\"\n",
      "[1] \"O/E 比率: 0.959498362428877\"\n",
      "[1] \"c_slope: 1.0862670703935\"\n",
      "[1] \"Brier 分数: 0.144603962686536\"\n"
     ]
    },
    {
     "name": "stderr",
     "output_type": "stream",
     "text": [
      "Setting levels: control = 0, case = 1\n",
      "\n",
      "Setting direction: controls < cases\n",
      "\n"
     ]
    },
    {
     "name": "stdout",
     "output_type": "stream",
     "text": [
      "[1] \"auc: 0.726152347187995\"\n",
      "[1] \"O/E 比率: 0.993381211879737\"\n",
      "[1] \"c_slope: 1.11428346864474\"\n",
      "[1] \"Brier 分数: 0.143813650978447\"\n"
     ]
    },
    {
     "name": "stderr",
     "output_type": "stream",
     "text": [
      "Setting levels: control = 0, case = 1\n",
      "\n",
      "Setting direction: controls < cases\n",
      "\n"
     ]
    },
    {
     "name": "stdout",
     "output_type": "stream",
     "text": [
      "[1] \"auc: 0.724515861534061\"\n",
      "[1] \"O/E 比率: 0.965120853779484\"\n",
      "[1] \"c_slope: 1.11403175057812\"\n",
      "[1] \"Brier 分数: 0.143766959372751\"\n"
     ]
    },
    {
     "name": "stderr",
     "output_type": "stream",
     "text": [
      "Setting levels: control = 0, case = 1\n",
      "\n",
      "Setting direction: controls < cases\n",
      "\n"
     ]
    },
    {
     "name": "stdout",
     "output_type": "stream",
     "text": [
      "[1] \"auc: 0.72038339145837\"\n",
      "[1] \"O/E 比率: 0.965937035972049\"\n",
      "[1] \"c_slope: 1.11049966885141\"\n",
      "[1] \"Brier 分数: 0.143511156462326\"\n"
     ]
    },
    {
     "name": "stderr",
     "output_type": "stream",
     "text": [
      "Setting levels: control = 0, case = 1\n",
      "\n",
      "Setting direction: controls < cases\n",
      "\n"
     ]
    },
    {
     "name": "stdout",
     "output_type": "stream",
     "text": [
      "[1] \"auc: 0.7171633652746\"\n",
      "[1] \"O/E 比率: 0.987091429381234\"\n",
      "[1] \"c_slope: 1.0702933395154\"\n",
      "[1] \"Brier 分数: 0.144647076075625\"\n"
     ]
    },
    {
     "name": "stderr",
     "output_type": "stream",
     "text": [
      "Setting levels: control = 0, case = 1\n",
      "\n",
      "Setting direction: controls < cases\n",
      "\n"
     ]
    },
    {
     "name": "stdout",
     "output_type": "stream",
     "text": [
      "[1] \"auc: 0.723279214706918\"\n",
      "[1] \"O/E 比率: 0.987054055794218\"\n",
      "[1] \"c_slope: 1.05293852353364\"\n",
      "[1] \"Brier 分数: 0.143500125708957\"\n"
     ]
    },
    {
     "name": "stderr",
     "output_type": "stream",
     "text": [
      "Setting levels: control = 0, case = 1\n",
      "\n",
      "Setting direction: controls < cases\n",
      "\n"
     ]
    },
    {
     "name": "stdout",
     "output_type": "stream",
     "text": [
      "[1] \"auc: 0.717078790595846\"\n",
      "[1] \"O/E 比率: 1.0213036342875\"\n",
      "[1] \"c_slope: 1.06196025403888\"\n",
      "[1] \"Brier 分数: 0.145179544229488\"\n"
     ]
    },
    {
     "name": "stderr",
     "output_type": "stream",
     "text": [
      "Setting levels: control = 0, case = 1\n",
      "\n",
      "Setting direction: controls < cases\n",
      "\n"
     ]
    },
    {
     "name": "stdout",
     "output_type": "stream",
     "text": [
      "[1] \"auc: 0.720081879290618\"\n",
      "[1] \"O/E 比率: 0.935950112383828\"\n",
      "[1] \"c_slope: 1.0801712671474\"\n",
      "[1] \"Brier 分数: 0.144262816618431\"\n"
     ]
    },
    {
     "name": "stderr",
     "output_type": "stream",
     "text": [
      "Setting levels: control = 0, case = 1\n",
      "\n",
      "Setting direction: controls < cases\n",
      "\n"
     ]
    },
    {
     "name": "stdout",
     "output_type": "stream",
     "text": [
      "[1] \"auc: 0.721688454387432\"\n",
      "[1] \"O/E 比率: 0.97974961464834\"\n",
      "[1] \"c_slope: 1.09555868235587\"\n",
      "[1] \"Brier 分数: 0.143494293899478\"\n"
     ]
    },
    {
     "name": "stderr",
     "output_type": "stream",
     "text": [
      "Setting levels: control = 0, case = 1\n",
      "\n",
      "Setting direction: controls < cases\n",
      "\n"
     ]
    },
    {
     "name": "stdout",
     "output_type": "stream",
     "text": [
      "[1] \"auc: 0.725680998063721\"\n",
      "[1] \"O/E 比率: 0.961145530848303\"\n",
      "[1] \"c_slope: 1.16030294007969\"\n",
      "[1] \"Brier 分数: 0.143700791107369\"\n"
     ]
    },
    {
     "name": "stderr",
     "output_type": "stream",
     "text": [
      "Setting levels: control = 0, case = 1\n",
      "\n",
      "Setting direction: controls < cases\n",
      "\n"
     ]
    },
    {
     "name": "stdout",
     "output_type": "stream",
     "text": [
      "[1] \"auc: 0.723254804941912\"\n",
      "[1] \"O/E 比率: 0.961273183551044\"\n",
      "[1] \"c_slope: 1.13269200461822\"\n",
      "[1] \"Brier 分数: 0.1441628457749\"\n"
     ]
    },
    {
     "name": "stderr",
     "output_type": "stream",
     "text": [
      "Setting levels: control = 0, case = 1\n",
      "\n",
      "Setting direction: controls < cases\n",
      "\n"
     ]
    },
    {
     "name": "stdout",
     "output_type": "stream",
     "text": [
      "[1] \"auc: 0.720027902767999\"\n",
      "[1] \"O/E 比率: 0.986735845710796\"\n",
      "[1] \"c_slope: 1.12564730227528\"\n",
      "[1] \"Brier 分数: 0.143997601971427\"\n"
     ]
    },
    {
     "name": "stderr",
     "output_type": "stream",
     "text": [
      "Setting levels: control = 0, case = 1\n",
      "\n",
      "Setting direction: controls < cases\n",
      "\n"
     ]
    },
    {
     "name": "stdout",
     "output_type": "stream",
     "text": [
      "[1] \"auc: 0.720340072720472\"\n",
      "[1] \"O/E 比率: 0.988232566539234\"\n",
      "[1] \"c_slope: 1.12503520143098\"\n",
      "[1] \"Brier 分数: 0.144082363998193\"\n"
     ]
    },
    {
     "name": "stderr",
     "output_type": "stream",
     "text": [
      "Setting levels: control = 0, case = 1\n",
      "\n",
      "Setting direction: controls < cases\n",
      "\n"
     ]
    },
    {
     "name": "stdout",
     "output_type": "stream",
     "text": [
      "[1] \"auc: 0.722206560244675\"\n",
      "[1] \"O/E 比率: 0.973365651300163\"\n",
      "[1] \"c_slope: 1.09809396932227\"\n",
      "[1] \"Brier 分数: 0.143942849568244\"\n"
     ]
    },
    {
     "name": "stderr",
     "output_type": "stream",
     "text": [
      "Setting levels: control = 0, case = 1\n",
      "\n",
      "Setting direction: controls < cases\n",
      "\n"
     ]
    },
    {
     "name": "stdout",
     "output_type": "stream",
     "text": [
      "[1] \"auc: 0.726336623723816\"\n",
      "[1] \"O/E 比率: 0.941141613083519\"\n",
      "[1] \"c_slope: 1.21436700083279\"\n",
      "[1] \"Brier 分数: 0.143431034230567\"\n"
     ]
    },
    {
     "name": "stderr",
     "output_type": "stream",
     "text": [
      "Setting levels: control = 0, case = 1\n",
      "\n",
      "Setting direction: controls < cases\n",
      "\n"
     ]
    },
    {
     "name": "stdout",
     "output_type": "stream",
     "text": [
      "[1] \"auc: 0.724248729317022\"\n",
      "[1] \"O/E 比率: 0.969867126364266\"\n",
      "[1] \"c_slope: 1.0814294199149\"\n",
      "[1] \"Brier 分数: 0.143502905037318\"\n"
     ]
    },
    {
     "name": "stderr",
     "output_type": "stream",
     "text": [
      "Setting levels: control = 0, case = 1\n",
      "\n",
      "Setting direction: controls < cases\n",
      "\n"
     ]
    },
    {
     "name": "stdout",
     "output_type": "stream",
     "text": [
      "[1] \"auc: 0.720312568759901\"\n",
      "[1] \"O/E 比率: 0.988816122728\"\n",
      "[1] \"c_slope: 1.09138577472456\"\n",
      "[1] \"Brier 分数: 0.14414635080359\"\n"
     ]
    },
    {
     "name": "stderr",
     "output_type": "stream",
     "text": [
      "Setting levels: control = 0, case = 1\n",
      "\n",
      "Setting direction: controls < cases\n",
      "\n"
     ]
    },
    {
     "name": "stdout",
     "output_type": "stream",
     "text": [
      "[1] \"auc: 0.72115694034941\"\n",
      "[1] \"O/E 比率: 0.973628572654728\"\n",
      "[1] \"c_slope: 1.08826760933864\"\n",
      "[1] \"Brier 分数: 0.143829110467428\"\n"
     ]
    },
    {
     "name": "stderr",
     "output_type": "stream",
     "text": [
      "Setting levels: control = 0, case = 1\n",
      "\n",
      "Setting direction: controls < cases\n",
      "\n"
     ]
    },
    {
     "name": "stdout",
     "output_type": "stream",
     "text": [
      "[1] \"auc: 0.721646510847562\"\n",
      "[1] \"O/E 比率: 0.957953361671564\"\n",
      "[1] \"c_slope: 1.13917199228519\"\n",
      "[1] \"Brier 分数: 0.14433820271781\"\n"
     ]
    },
    {
     "name": "stderr",
     "output_type": "stream",
     "text": [
      "Setting levels: control = 0, case = 1\n",
      "\n",
      "Setting direction: controls < cases\n",
      "\n"
     ]
    },
    {
     "name": "stdout",
     "output_type": "stream",
     "text": [
      "[1] \"auc: 0.722721571906354\"\n",
      "[1] \"O/E 比率: 0.997210932726125\"\n",
      "[1] \"c_slope: 1.10428743320493\"\n",
      "[1] \"Brier 分数: 0.143395686491721\"\n"
     ]
    },
    {
     "name": "stderr",
     "output_type": "stream",
     "text": [
      "Setting levels: control = 0, case = 1\n",
      "\n",
      "Setting direction: controls < cases\n",
      "\n"
     ]
    },
    {
     "name": "stdout",
     "output_type": "stream",
     "text": [
      "[1] \"auc: 0.719651442307692\"\n",
      "[1] \"O/E 比率: 0.997000510172705\"\n",
      "[1] \"c_slope: 1.1536459980457\"\n",
      "[1] \"Brier 分数: 0.14449135386276\"\n"
     ]
    },
    {
     "name": "stderr",
     "output_type": "stream",
     "text": [
      "Setting levels: control = 0, case = 1\n",
      "\n",
      "Setting direction: controls < cases\n",
      "\n"
     ]
    },
    {
     "name": "stdout",
     "output_type": "stream",
     "text": [
      "[1] \"auc: 0.720192238932406\"\n",
      "[1] \"O/E 比率: 0.989375293502471\"\n",
      "[1] \"c_slope: 1.06945368953091\"\n",
      "[1] \"Brier 分数: 0.144044469177063\"\n"
     ]
    },
    {
     "name": "stderr",
     "output_type": "stream",
     "text": [
      "Setting levels: control = 0, case = 1\n",
      "\n",
      "Setting direction: controls < cases\n",
      "\n"
     ]
    },
    {
     "name": "stdout",
     "output_type": "stream",
     "text": [
      "[1] \"auc: 0.723179856649357\"\n",
      "[1] \"O/E 比率: 0.949580214220095\"\n",
      "[1] \"c_slope: 1.10725977484265\"\n",
      "[1] \"Brier 分数: 0.143641035028828\"\n"
     ]
    },
    {
     "name": "stderr",
     "output_type": "stream",
     "text": [
      "Setting levels: control = 0, case = 1\n",
      "\n",
      "Setting direction: controls < cases\n",
      "\n"
     ]
    },
    {
     "name": "stdout",
     "output_type": "stream",
     "text": [
      "[1] \"auc: 0.722402869763246\"\n",
      "[1] \"O/E 比率: 0.960930398604652\"\n",
      "[1] \"c_slope: 1.1193012175434\"\n",
      "[1] \"Brier 分数: 0.14379176034124\"\n"
     ]
    },
    {
     "name": "stderr",
     "output_type": "stream",
     "text": [
      "Setting levels: control = 0, case = 1\n",
      "\n",
      "Setting direction: controls < cases\n",
      "\n"
     ]
    },
    {
     "name": "stdout",
     "output_type": "stream",
     "text": [
      "[1] \"auc: 0.723050588034677\"\n",
      "[1] \"O/E 比率: 1.01677390291241\"\n",
      "[1] \"c_slope: 1.06381928598321\"\n",
      "[1] \"Brier 分数: 0.143795749332113\"\n"
     ]
    },
    {
     "name": "stderr",
     "output_type": "stream",
     "text": [
      "Setting levels: control = 0, case = 1\n",
      "\n",
      "Setting direction: controls < cases\n",
      "\n"
     ]
    },
    {
     "name": "stdout",
     "output_type": "stream",
     "text": [
      "[1] \"auc: 0.723396106539342\"\n",
      "[1] \"O/E 比率: 0.970886139473049\"\n",
      "[1] \"c_slope: 1.08746868973699\"\n",
      "[1] \"Brier 分数: 0.143351998243164\"\n"
     ]
    },
    {
     "name": "stderr",
     "output_type": "stream",
     "text": [
      "Setting levels: control = 0, case = 1\n",
      "\n",
      "Setting direction: controls < cases\n",
      "\n"
     ]
    },
    {
     "name": "stdout",
     "output_type": "stream",
     "text": [
      "[1] \"auc: 0.722240940195388\"\n",
      "[1] \"O/E 比率: 0.986580301061815\"\n",
      "[1] \"c_slope: 1.06140609566066\"\n",
      "[1] \"Brier 分数: 0.144486922014348\"\n"
     ]
    },
    {
     "name": "stderr",
     "output_type": "stream",
     "text": [
      "Setting levels: control = 0, case = 1\n",
      "\n",
      "Setting direction: controls < cases\n",
      "\n"
     ]
    },
    {
     "name": "stdout",
     "output_type": "stream",
     "text": [
      "[1] \"auc: 0.724808091115121\"\n",
      "[1] \"O/E 比率: 0.97771046693994\"\n",
      "[1] \"c_slope: 1.13764384930355\"\n",
      "[1] \"Brier 分数: 0.143557506119833\"\n"
     ]
    },
    {
     "name": "stderr",
     "output_type": "stream",
     "text": [
      "Setting levels: control = 0, case = 1\n",
      "\n",
      "Setting direction: controls < cases\n",
      "\n"
     ]
    },
    {
     "name": "stdout",
     "output_type": "stream",
     "text": [
      "[1] \"auc: 0.72709538923605\"\n",
      "[1] \"O/E 比率: 0.962921396143355\"\n",
      "[1] \"c_slope: 1.14643658972814\"\n",
      "[1] \"Brier 分数: 0.143108607851812\"\n"
     ]
    },
    {
     "name": "stderr",
     "output_type": "stream",
     "text": [
      "Setting levels: control = 0, case = 1\n",
      "\n",
      "Setting direction: controls < cases\n",
      "\n"
     ]
    },
    {
     "name": "stdout",
     "output_type": "stream",
     "text": [
      "[1] \"auc: 0.718839731671361\"\n",
      "[1] \"O/E 比率: 0.953379203222674\"\n",
      "[1] \"c_slope: 1.09236602343083\"\n",
      "[1] \"Brier 分数: 0.144644277656359\"\n"
     ]
    },
    {
     "name": "stderr",
     "output_type": "stream",
     "text": [
      "Setting levels: control = 0, case = 1\n",
      "\n",
      "Setting direction: controls < cases\n",
      "\n"
     ]
    },
    {
     "name": "stdout",
     "output_type": "stream",
     "text": [
      "[1] \"auc: 0.718811540111776\"\n",
      "[1] \"O/E 比率: 0.976661654256155\"\n",
      "[1] \"c_slope: 1.09168457666056\"\n",
      "[1] \"Brier 分数: 0.144048934855265\"\n"
     ]
    },
    {
     "name": "stderr",
     "output_type": "stream",
     "text": [
      "Setting levels: control = 0, case = 1\n",
      "\n",
      "Setting direction: controls < cases\n",
      "\n"
     ]
    },
    {
     "name": "stdout",
     "output_type": "stream",
     "text": [
      "[1] \"auc: 0.726454203155254\"\n",
      "[1] \"O/E 比率: 0.968809686749631\"\n",
      "[1] \"c_slope: 1.11266082241014\"\n",
      "[1] \"Brier 分数: 0.143637197870133\"\n"
     ]
    },
    {
     "name": "stderr",
     "output_type": "stream",
     "text": [
      "Setting levels: control = 0, case = 1\n",
      "\n",
      "Setting direction: controls < cases\n",
      "\n"
     ]
    },
    {
     "name": "stdout",
     "output_type": "stream",
     "text": [
      "[1] \"auc: 0.719647316713607\"\n",
      "[1] \"O/E 比率: 0.982588262027402\"\n",
      "[1] \"c_slope: 1.08049252560938\"\n",
      "[1] \"Brier 分数: 0.14398641327441\"\n"
     ]
    },
    {
     "name": "stderr",
     "output_type": "stream",
     "text": [
      "Setting levels: control = 0, case = 1\n",
      "\n",
      "Setting direction: controls < cases\n",
      "\n"
     ]
    },
    {
     "name": "stdout",
     "output_type": "stream",
     "text": [
      "[1] \"auc: 0.7224681916696\"\n",
      "[1] \"O/E 比率: 0.944136169559738\"\n",
      "[1] \"c_slope: 1.1079081860393\"\n",
      "[1] \"Brier 分数: 0.143954758907554\"\n"
     ]
    },
    {
     "name": "stderr",
     "output_type": "stream",
     "text": [
      "Setting levels: control = 0, case = 1\n",
      "\n",
      "Setting direction: controls < cases\n",
      "\n"
     ]
    },
    {
     "name": "stdout",
     "output_type": "stream",
     "text": [
      "[1] \"auc: 0.720123822830488\"\n",
      "[1] \"O/E 比率: 1.00180972321633\"\n",
      "[1] \"c_slope: 1.08634406774689\"\n",
      "[1] \"Brier 分数: 0.144040365498942\"\n"
     ]
    },
    {
     "name": "stderr",
     "output_type": "stream",
     "text": [
      "Setting levels: control = 0, case = 1\n",
      "\n",
      "Setting direction: controls < cases\n",
      "\n"
     ]
    },
    {
     "name": "stdout",
     "output_type": "stream",
     "text": [
      "[1] \"auc: 0.723422922900898\"\n",
      "[1] \"O/E 比率: 0.974716164312094\"\n",
      "[1] \"c_slope: 1.12977209749755\"\n",
      "[1] \"Brier 分数: 0.143824582548628\"\n"
     ]
    },
    {
     "name": "stderr",
     "output_type": "stream",
     "text": [
      "Setting levels: control = 0, case = 1\n",
      "\n",
      "Setting direction: controls < cases\n",
      "\n"
     ]
    },
    {
     "name": "stdout",
     "output_type": "stream",
     "text": [
      "[1] \"auc: 0.722617056856187\"\n",
      "[1] \"O/E 比率: 0.978967250764624\"\n",
      "[1] \"c_slope: 1.08092257917111\"\n",
      "[1] \"Brier 分数: 0.143901254835597\"\n"
     ]
    },
    {
     "name": "stderr",
     "output_type": "stream",
     "text": [
      "Setting levels: control = 0, case = 1\n",
      "\n",
      "Setting direction: controls < cases\n",
      "\n"
     ]
    },
    {
     "name": "stdout",
     "output_type": "stream",
     "text": [
      "[1] \"auc: 0.722794113602359\"\n",
      "[1] \"O/E 比率: 0.93810037042202\"\n",
      "[1] \"c_slope: 1.14108445868619\"\n",
      "[1] \"Brier 分数: 0.143975366720676\"\n"
     ]
    },
    {
     "name": "stderr",
     "output_type": "stream",
     "text": [
      "Setting levels: control = 0, case = 1\n",
      "\n",
      "Setting direction: controls < cases\n",
      "\n"
     ]
    },
    {
     "name": "stdout",
     "output_type": "stream",
     "text": [
      "[1] \"auc: 0.723486869609224\"\n",
      "[1] \"O/E 比率: 0.955673025928302\"\n",
      "[1] \"c_slope: 1.08588327372374\"\n",
      "[1] \"Brier 分数: 0.143601509088829\"\n"
     ]
    },
    {
     "name": "stderr",
     "output_type": "stream",
     "text": [
      "Setting levels: control = 0, case = 1\n",
      "\n",
      "Setting direction: controls < cases\n",
      "\n"
     ]
    },
    {
     "name": "stdout",
     "output_type": "stream",
     "text": [
      "[1] \"auc: 0.722892096461891\"\n",
      "[1] \"O/E 比率: 0.937729694795765\"\n",
      "[1] \"c_slope: 1.16832555652365\"\n",
      "[1] \"Brier 分数: 0.143744926470979\"\n"
     ]
    },
    {
     "name": "stderr",
     "output_type": "stream",
     "text": [
      "Setting levels: control = 0, case = 1\n",
      "\n",
      "Setting direction: controls < cases\n",
      "\n"
     ]
    },
    {
     "name": "stdout",
     "output_type": "stream",
     "text": [
      "[1] \"auc: 0.719785524115473\"\n",
      "[1] \"O/E 比率: 1.00323826248538\"\n",
      "[1] \"c_slope: 1.14162594668296\"\n",
      "[1] \"Brier 分数: 0.144844549543728\"\n"
     ]
    },
    {
     "name": "stderr",
     "output_type": "stream",
     "text": [
      "Setting levels: control = 0, case = 1\n",
      "\n",
      "Setting direction: controls < cases\n",
      "\n"
     ]
    },
    {
     "name": "stdout",
     "output_type": "stream",
     "text": [
      "[1] \"auc: 0.721933239636508\"\n",
      "[1] \"O/E 比率: 0.972441674978613\"\n",
      "[1] \"c_slope: 1.05306823062051\"\n",
      "[1] \"Brier 分数: 0.144214185793761\"\n"
     ]
    },
    {
     "name": "stderr",
     "output_type": "stream",
     "text": [
      "Setting levels: control = 0, case = 1\n",
      "\n",
      "Setting direction: controls < cases\n",
      "\n"
     ]
    },
    {
     "name": "stdout",
     "output_type": "stream",
     "text": [
      "[1] \"auc: 0.722817148169336\"\n",
      "[1] \"O/E 比率: 0.974775217236389\"\n",
      "[1] \"c_slope: 1.09108530717423\"\n",
      "[1] \"Brier 分数: 0.144076979241289\"\n"
     ]
    },
    {
     "name": "stderr",
     "output_type": "stream",
     "text": [
      "Setting levels: control = 0, case = 1\n",
      "\n",
      "Setting direction: controls < cases\n",
      "\n"
     ]
    },
    {
     "name": "stdout",
     "output_type": "stream",
     "text": [
      "[1] \"auc: 0.724437475246436\"\n",
      "[1] \"O/E 比率: 0.958118097947594\"\n",
      "[1] \"c_slope: 1.08260970996877\"\n",
      "[1] \"Brier 分数: 0.143725053698522\"\n"
     ]
    },
    {
     "name": "stderr",
     "output_type": "stream",
     "text": [
      "Setting levels: control = 0, case = 1\n",
      "\n",
      "Setting direction: controls < cases\n",
      "\n"
     ]
    },
    {
     "name": "stdout",
     "output_type": "stream",
     "text": [
      "[1] \"auc: 0.720406426025348\"\n",
      "[1] \"O/E 比率: 0.97690400025612\"\n",
      "[1] \"c_slope: 1.0785893273887\"\n",
      "[1] \"Brier 分数: 0.144168353905556\"\n"
     ]
    },
    {
     "name": "stderr",
     "output_type": "stream",
     "text": [
      "Setting levels: control = 0, case = 1\n",
      "\n",
      "Setting direction: controls < cases\n",
      "\n"
     ]
    },
    {
     "name": "stdout",
     "output_type": "stream",
     "text": [
      "[1] \"auc: 0.721541308198381\"\n",
      "[1] \"O/E 比率: 0.96014906076472\"\n",
      "[1] \"c_slope: 1.16241019290581\"\n",
      "[1] \"Brier 分数: 0.144373417108131\"\n"
     ]
    },
    {
     "name": "stderr",
     "output_type": "stream",
     "text": [
      "Setting levels: control = 0, case = 1\n",
      "\n",
      "Setting direction: controls < cases\n",
      "\n"
     ]
    },
    {
     "name": "stdout",
     "output_type": "stream",
     "text": [
      "[1] \"auc: 0.723825168324239\"\n",
      "[1] \"O/E 比率: 1.00551705916343\"\n",
      "[1] \"c_slope: 1.07963251819423\"\n",
      "[1] \"Brier 分数: 0.143812424018871\"\n"
     ]
    },
    {
     "name": "stderr",
     "output_type": "stream",
     "text": [
      "Setting levels: control = 0, case = 1\n",
      "\n",
      "Setting direction: controls < cases\n",
      "\n"
     ]
    },
    {
     "name": "stdout",
     "output_type": "stream",
     "text": [
      "[1] \"auc: 0.722226844415596\"\n",
      "[1] \"O/E 比率: 0.992303685189264\"\n",
      "[1] \"c_slope: 1.09763351940897\"\n",
      "[1] \"Brier 分数: 0.14350440959193\"\n"
     ]
    },
    {
     "name": "stderr",
     "output_type": "stream",
     "text": [
      "Setting levels: control = 0, case = 1\n",
      "\n",
      "Setting direction: controls < cases\n",
      "\n"
     ]
    },
    {
     "name": "stdout",
     "output_type": "stream",
     "text": [
      "[1] \"auc: 0.721834912977469\"\n",
      "[1] \"O/E 比率: 0.957380608224174\"\n",
      "[1] \"c_slope: 1.12248299064265\"\n",
      "[1] \"Brier 分数: 0.143741756660436\"\n"
     ]
    },
    {
     "name": "stderr",
     "output_type": "stream",
     "text": [
      "Setting levels: control = 0, case = 1\n",
      "\n",
      "Setting direction: controls < cases\n",
      "\n"
     ]
    },
    {
     "name": "stdout",
     "output_type": "stream",
     "text": [
      "[1] \"auc: 0.719251259681394\"\n",
      "[1] \"O/E 比率: 1.02230321095355\"\n",
      "[1] \"c_slope: 1.15488363145307\"\n",
      "[1] \"Brier 分数: 0.144643114207099\"\n"
     ]
    },
    {
     "name": "stderr",
     "output_type": "stream",
     "text": [
      "Setting levels: control = 0, case = 1\n",
      "\n",
      "Setting direction: controls < cases\n",
      "\n"
     ]
    },
    {
     "name": "stdout",
     "output_type": "stream",
     "text": [
      "[1] \"auc: 0.724439194243971\"\n",
      "[1] \"O/E 比率: 0.97081345737633\"\n",
      "[1] \"c_slope: 1.16264562085216\"\n",
      "[1] \"Brier 分数: 0.143557572097287\"\n"
     ]
    },
    {
     "name": "stderr",
     "output_type": "stream",
     "text": [
      "Setting levels: control = 0, case = 1\n",
      "\n",
      "Setting direction: controls < cases\n",
      "\n"
     ]
    },
    {
     "name": "stdout",
     "output_type": "stream",
     "text": [
      "[1] \"auc: 0.721274175981341\"\n",
      "[1] \"O/E 比率: 0.959154647196255\"\n",
      "[1] \"c_slope: 1.09350891440081\"\n",
      "[1] \"Brier 分数: 0.144549802753161\"\n"
     ]
    },
    {
     "name": "stderr",
     "output_type": "stream",
     "text": [
      "Setting levels: control = 0, case = 1\n",
      "\n",
      "Setting direction: controls < cases\n",
      "\n"
     ]
    },
    {
     "name": "stdout",
     "output_type": "stream",
     "text": [
      "[1] \"auc: 0.721532369411195\"\n",
      "[1] \"O/E 比率: 0.992756645789648\"\n",
      "[1] \"c_slope: 1.04319073800005\"\n",
      "[1] \"Brier 分数: 0.143788598607543\"\n"
     ]
    },
    {
     "name": "stderr",
     "output_type": "stream",
     "text": [
      "Setting levels: control = 0, case = 1\n",
      "\n",
      "Setting direction: controls < cases\n",
      "\n"
     ]
    },
    {
     "name": "stdout",
     "output_type": "stream",
     "text": [
      "[1] \"auc: 0.718044867210878\"\n",
      "[1] \"O/E 比率: 1.01769332037596\"\n",
      "[1] \"c_slope: 1.05525236649893\"\n",
      "[1] \"Brier 分数: 0.145017839167641\"\n"
     ]
    },
    {
     "name": "stderr",
     "output_type": "stream",
     "text": [
      "Setting levels: control = 0, case = 1\n",
      "\n",
      "Setting direction: controls < cases\n",
      "\n"
     ]
    },
    {
     "name": "stdout",
     "output_type": "stream",
     "text": [
      "[1] \"auc: 0.718700149071466\"\n",
      "[1] \"O/E 比率: 0.997780609432618\"\n",
      "[1] \"c_slope: 1.03028998560674\"\n",
      "[1] \"Brier 分数: 0.144285669482868\"\n"
     ]
    },
    {
     "name": "stderr",
     "output_type": "stream",
     "text": [
      "Setting levels: control = 0, case = 1\n",
      "\n",
      "Setting direction: controls < cases\n",
      "\n"
     ]
    },
    {
     "name": "stdout",
     "output_type": "stream",
     "text": [
      "[1] \"auc: 0.720318413351523\"\n",
      "[1] \"O/E 比率: 0.980255306140187\"\n",
      "[1] \"c_slope: 1.11823668010688\"\n",
      "[1] \"Brier 分数: 0.144427624590348\"\n"
     ]
    },
    {
     "name": "stderr",
     "output_type": "stream",
     "text": [
      "Setting levels: control = 0, case = 1\n",
      "\n",
      "Setting direction: controls < cases\n",
      "\n"
     ]
    },
    {
     "name": "stdout",
     "output_type": "stream",
     "text": [
      "[1] \"auc: 0.72251494840257\"\n",
      "[1] \"O/E 比率: 0.992121946953423\"\n",
      "[1] \"c_slope: 1.10000699333187\"\n",
      "[1] \"Brier 分数: 0.143591216442869\"\n"
     ]
    },
    {
     "name": "stderr",
     "output_type": "stream",
     "text": [
      "Setting levels: control = 0, case = 1\n",
      "\n",
      "Setting direction: controls < cases\n",
      "\n"
     ]
    },
    {
     "name": "stdout",
     "output_type": "stream",
     "text": [
      "[1] \"auc: 0.721579126144165\"\n",
      "[1] \"O/E 比率: 1.00748566408181\"\n",
      "[1] \"c_slope: 1.09916014317098\"\n",
      "[1] \"Brier 分数: 0.144372324057092\"\n"
     ]
    },
    {
     "name": "stderr",
     "output_type": "stream",
     "text": [
      "Setting levels: control = 0, case = 1\n",
      "\n",
      "Setting direction: controls < cases\n",
      "\n"
     ]
    },
    {
     "name": "stdout",
     "output_type": "stream",
     "text": [
      "[1] \"auc: 0.722114765776272\"\n",
      "[1] \"O/E 比率: 0.98245469426074\"\n",
      "[1] \"c_slope: 1.10010665231607\"\n",
      "[1] \"Brier 分数: 0.143656981436165\"\n"
     ]
    },
    {
     "name": "stderr",
     "output_type": "stream",
     "text": [
      "Setting levels: control = 0, case = 1\n",
      "\n",
      "Setting direction: controls < cases\n",
      "\n"
     ]
    },
    {
     "name": "stdout",
     "output_type": "stream",
     "text": [
      "[1] \"auc: 0.720614080927654\"\n",
      "[1] \"O/E 比率: 0.991452728455481\"\n",
      "[1] \"c_slope: 1.08289726920321\"\n",
      "[1] \"Brier 分数: 0.144105053953621\"\n"
     ]
    },
    {
     "name": "stderr",
     "output_type": "stream",
     "text": [
      "Setting levels: control = 0, case = 1\n",
      "\n",
      "Setting direction: controls < cases\n",
      "\n"
     ]
    },
    {
     "name": "stdout",
     "output_type": "stream",
     "text": [
      "[1] \"auc: 0.721872043324239\"\n",
      "[1] \"O/E 比率: 0.941014961145855\"\n",
      "[1] \"c_slope: 1.1276706646889\"\n",
      "[1] \"Brier 分数: 0.143693931742955\"\n"
     ]
    },
    {
     "name": "stderr",
     "output_type": "stream",
     "text": [
      "Setting levels: control = 0, case = 1\n",
      "\n",
      "Setting direction: controls < cases\n",
      "\n"
     ]
    },
    {
     "name": "stdout",
     "output_type": "stream",
     "text": [
      "[1] \"auc: 0.724330209800211\"\n",
      "[1] \"O/E 比率: 0.968084057878337\"\n",
      "[1] \"c_slope: 1.09478463805758\"\n",
      "[1] \"Brier 分数: 0.14360692500015\"\n"
     ]
    },
    {
     "name": "stderr",
     "output_type": "stream",
     "text": [
      "Setting levels: control = 0, case = 1\n",
      "\n",
      "Setting direction: controls < cases\n",
      "\n"
     ]
    },
    {
     "name": "stdout",
     "output_type": "stream",
     "text": [
      "[1] \"auc: 0.720956161437247\"\n",
      "[1] \"O/E 比率: 0.976202423876521\"\n",
      "[1] \"c_slope: 1.13211007455617\"\n",
      "[1] \"Brier 分数: 0.144705497722823\"\n"
     ]
    },
    {
     "name": "stderr",
     "output_type": "stream",
     "text": [
      "Setting levels: control = 0, case = 1\n",
      "\n",
      "Setting direction: controls < cases\n",
      "\n"
     ]
    },
    {
     "name": "stdout",
     "output_type": "stream",
     "text": [
      "[1] \"auc: 0.721754120093293\"\n",
      "[1] \"O/E 比率: 0.998062800097653\"\n",
      "[1] \"c_slope: 1.08678123086198\"\n",
      "[1] \"Brier 分数: 0.14380967869019\"\n"
     ]
    },
    {
     "name": "stderr",
     "output_type": "stream",
     "text": [
      "Setting levels: control = 0, case = 1\n",
      "\n",
      "Setting direction: controls < cases\n",
      "\n"
     ]
    },
    {
     "name": "stdout",
     "output_type": "stream",
     "text": [
      "[1] \"auc: 0.720238308066362\"\n",
      "[1] \"O/E 比率: 0.970257045364544\"\n",
      "[1] \"c_slope: 1.08653746840506\"\n",
      "[1] \"Brier 分数: 0.144213744484382\"\n"
     ]
    },
    {
     "name": "stderr",
     "output_type": "stream",
     "text": [
      "Setting levels: control = 0, case = 1\n",
      "\n",
      "Setting direction: controls < cases\n",
      "\n"
     ]
    },
    {
     "name": "stdout",
     "output_type": "stream",
     "text": [
      "[1] \"auc: 0.722156021717127\"\n",
      "[1] \"O/E 比率: 0.999410431558514\"\n",
      "[1] \"c_slope: 1.12507438897081\"\n",
      "[1] \"Brier 分数: 0.144785719157735\"\n"
     ]
    },
    {
     "name": "stderr",
     "output_type": "stream",
     "text": [
      "Setting levels: control = 0, case = 1\n",
      "\n",
      "Setting direction: controls < cases\n",
      "\n"
     ]
    },
    {
     "name": "stdout",
     "output_type": "stream",
     "text": [
      "[1] \"auc: 0.719123022465235\"\n",
      "[1] \"O/E 比率: 0.988981674142284\"\n",
      "[1] \"c_slope: 1.07332903321405\"\n",
      "[1] \"Brier 分数: 0.144508771849789\"\n"
     ]
    },
    {
     "name": "stderr",
     "output_type": "stream",
     "text": [
      "Setting levels: control = 0, case = 1\n",
      "\n",
      "Setting direction: controls < cases\n",
      "\n"
     ]
    },
    {
     "name": "stdout",
     "output_type": "stream",
     "text": [
      "[1] \"auc: 0.724959706697764\"\n",
      "[1] \"O/E 比率: 0.962626254133178\"\n",
      "[1] \"c_slope: 1.12054377152031\"\n",
      "[1] \"Brier 分数: 0.143679278601497\"\n"
     ]
    },
    {
     "name": "stderr",
     "output_type": "stream",
     "text": [
      "Setting levels: control = 0, case = 1\n",
      "\n",
      "Setting direction: controls < cases\n",
      "\n"
     ]
    },
    {
     "name": "stdout",
     "output_type": "stream",
     "text": [
      "[1] \"auc: 0.722111671580708\"\n",
      "[1] \"O/E 比率: 0.965652031519666\"\n",
      "[1] \"c_slope: 1.10123495071791\"\n",
      "[1] \"Brier 分数: 0.143841269514537\"\n"
     ]
    },
    {
     "name": "stderr",
     "output_type": "stream",
     "text": [
      "Setting levels: control = 0, case = 1\n",
      "\n",
      "Setting direction: controls < cases\n",
      "\n"
     ]
    },
    {
     "name": "stdout",
     "output_type": "stream",
     "text": [
      "[1] \"auc: 0.724859317241683\"\n",
      "[1] \"O/E 比率: 0.978718815925656\"\n",
      "[1] \"c_slope: 1.17415910236551\"\n",
      "[1] \"Brier 分数: 0.143151438187682\"\n"
     ]
    },
    {
     "name": "stderr",
     "output_type": "stream",
     "text": [
      "Setting levels: control = 0, case = 1\n",
      "\n",
      "Setting direction: controls < cases\n",
      "\n"
     ]
    },
    {
     "name": "stdout",
     "output_type": "stream",
     "text": [
      "[1] \"auc: 0.721054488096286\"\n",
      "[1] \"O/E 比率: 1.01271823773138\"\n",
      "[1] \"c_slope: 1.03039322010963\"\n",
      "[1] \"Brier 分数: 0.144207779674084\"\n"
     ]
    },
    {
     "name": "stderr",
     "output_type": "stream",
     "text": [
      "Setting levels: control = 0, case = 1\n",
      "\n",
      "Setting direction: controls < cases\n",
      "\n"
     ]
    },
    {
     "name": "stdout",
     "output_type": "stream",
     "text": [
      "[1] \"auc: 0.719406657058616\"\n",
      "[1] \"O/E 比率: 0.978922870563896\"\n",
      "[1] \"c_slope: 0.997474258384531\"\n",
      "[1] \"Brier 分数: 0.144175826782161\"\n"
     ]
    },
    {
     "name": "stderr",
     "output_type": "stream",
     "text": [
      "Setting levels: control = 0, case = 1\n",
      "\n",
      "Setting direction: controls < cases\n",
      "\n"
     ]
    },
    {
     "name": "stdout",
     "output_type": "stream",
     "text": [
      "[1] \"auc: 0.726265457225841\"\n",
      "[1] \"O/E 比率: 0.975397641292672\"\n",
      "[1] \"c_slope: 1.15589463593649\"\n",
      "[1] \"Brier 分数: 0.143084442673877\"\n"
     ]
    },
    {
     "name": "stderr",
     "output_type": "stream",
     "text": [
      "Setting levels: control = 0, case = 1\n",
      "\n",
      "Setting direction: controls < cases\n",
      "\n"
     ]
    },
    {
     "name": "stdout",
     "output_type": "stream",
     "text": [
      "[1] \"auc: 0.727355989262454\"\n",
      "[1] \"O/E 比率: 1.0005855203139\"\n",
      "[1] \"c_slope: 1.09880462730608\"\n",
      "[1] \"Brier 分数: 0.143174720347903\"\n"
     ]
    },
    {
     "name": "stderr",
     "output_type": "stream",
     "text": [
      "Setting levels: control = 0, case = 1\n",
      "\n",
      "Setting direction: controls < cases\n",
      "\n"
     ]
    },
    {
     "name": "stdout",
     "output_type": "stream",
     "text": [
      "[1] \"auc: 0.721519305029924\"\n",
      "[1] \"O/E 比率: 0.984474330531059\"\n",
      "[1] \"c_slope: 1.10075163654353\"\n",
      "[1] \"Brier 分数: 0.144106740530309\"\n"
     ]
    },
    {
     "name": "stderr",
     "output_type": "stream",
     "text": [
      "Setting levels: control = 0, case = 1\n",
      "\n",
      "Setting direction: controls < cases\n",
      "\n"
     ]
    },
    {
     "name": "stdout",
     "output_type": "stream",
     "text": [
      "[1] \"auc: 0.721573281552544\"\n",
      "[1] \"O/E 比率: 0.973670085341596\"\n",
      "[1] \"c_slope: 1.13902133837669\"\n",
      "[1] \"Brier 分数: 0.144435013786726\"\n"
     ]
    },
    {
     "name": "stderr",
     "output_type": "stream",
     "text": [
      "Setting levels: control = 0, case = 1\n",
      "\n",
      "Setting direction: controls < cases\n",
      "\n"
     ]
    },
    {
     "name": "stdout",
     "output_type": "stream",
     "text": [
      "[1] \"auc: 0.72113184298539\"\n",
      "[1] \"O/E 比率: 0.97680951415731\"\n",
      "[1] \"c_slope: 1.15622646760666\"\n",
      "[1] \"Brier 分数: 0.143676697828644\"\n"
     ]
    },
    {
     "name": "stderr",
     "output_type": "stream",
     "text": [
      "Setting levels: control = 0, case = 1\n",
      "\n",
      "Setting direction: controls < cases\n",
      "\n"
     ]
    },
    {
     "name": "stdout",
     "output_type": "stream",
     "text": [
      "[1] \"auc: 0.7247829937511\"\n",
      "[1] \"O/E 比率: 0.997209342637504\"\n",
      "[1] \"c_slope: 1.09385237333269\"\n",
      "[1] \"Brier 分数: 0.143828542534893\"\n"
     ]
    },
    {
     "name": "stderr",
     "output_type": "stream",
     "text": [
      "Setting levels: control = 0, case = 1\n",
      "\n",
      "Setting direction: controls < cases\n",
      "\n"
     ]
    },
    {
     "name": "stdout",
     "output_type": "stream",
     "text": [
      "[1] \"auc: 0.718799850928534\"\n",
      "[1] \"O/E 比率: 0.998932822379618\"\n",
      "[1] \"c_slope: 1.08869293761635\"\n",
      "[1] \"Brier 分数: 0.144730652972684\"\n"
     ]
    },
    {
     "name": "stderr",
     "output_type": "stream",
     "text": [
      "Setting levels: control = 0, case = 1\n",
      "\n",
      "Setting direction: controls < cases\n",
      "\n"
     ]
    },
    {
     "name": "stdout",
     "output_type": "stream",
     "text": [
      "[1] \"auc: 0.720340072720472\"\n",
      "[1] \"O/E 比率: 0.972784531707449\"\n",
      "[1] \"c_slope: 1.09127235050896\"\n",
      "[1] \"Brier 分数: 0.143655005597152\"\n"
     ]
    },
    {
     "name": "stderr",
     "output_type": "stream",
     "text": [
      "Setting levels: control = 0, case = 1\n",
      "\n",
      "Setting direction: controls < cases\n",
      "\n"
     ]
    },
    {
     "name": "stdout",
     "output_type": "stream",
     "text": [
      "[1] \"auc: 0.721595284721\"\n",
      "[1] \"O/E 比率: 0.961910813199659\"\n",
      "[1] \"c_slope: 1.124161680097\"\n",
      "[1] \"Brier 分数: 0.14414474300543\"\n"
     ]
    },
    {
     "name": "stderr",
     "output_type": "stream",
     "text": [
      "Setting levels: control = 0, case = 1\n",
      "\n",
      "Setting direction: controls < cases\n",
      "\n"
     ]
    },
    {
     "name": "stdout",
     "output_type": "stream",
     "text": [
      "[1] \"auc: 0.722059070256117\"\n",
      "[1] \"O/E 比率: 0.966821093928324\"\n",
      "[1] \"c_slope: 1.09234466484167\"\n",
      "[1] \"Brier 分数: 0.144002088674422\"\n"
     ]
    },
    {
     "name": "stderr",
     "output_type": "stream",
     "text": [
      "Setting levels: control = 0, case = 1\n",
      "\n",
      "Setting direction: controls < cases\n",
      "\n"
     ]
    },
    {
     "name": "stdout",
     "output_type": "stream",
     "text": [
      "[1] \"auc: 0.719231319309981\"\n",
      "[1] \"O/E 比率: 1.02579680680544\"\n",
      "[1] \"c_slope: 1.08864576401147\"\n",
      "[1] \"Brier 分数: 0.144632940407808\"\n"
     ]
    },
    {
     "name": "stderr",
     "output_type": "stream",
     "text": [
      "Setting levels: control = 0, case = 1\n",
      "\n",
      "Setting direction: controls < cases\n",
      "\n"
     ]
    },
    {
     "name": "stdout",
     "output_type": "stream",
     "text": [
      "[1] \"auc: 0.724513798737018\"\n",
      "[1] \"O/E 比率: 0.958599262289078\"\n",
      "[1] \"c_slope: 1.16805934813001\"\n",
      "[1] \"Brier 分数: 0.143677558045882\"\n"
     ]
    },
    {
     "name": "stderr",
     "output_type": "stream",
     "text": [
      "Setting levels: control = 0, case = 1\n",
      "\n",
      "Setting direction: controls < cases\n",
      "\n"
     ]
    },
    {
     "name": "stdout",
     "output_type": "stream",
     "text": [
      "[1] \"auc: 0.723224894384791\"\n",
      "[1] \"O/E 比率: 0.942964818749828\"\n",
      "[1] \"c_slope: 1.11158577357811\"\n",
      "[1] \"Brier 分数: 0.143494000586039\"\n"
     ]
    },
    {
     "name": "stderr",
     "output_type": "stream",
     "text": [
      "Setting levels: control = 0, case = 1\n",
      "\n",
      "Setting direction: controls < cases\n",
      "\n"
     ]
    },
    {
     "name": "stdout",
     "output_type": "stream",
     "text": [
      "[1] \"auc: 0.722939196994367\"\n",
      "[1] \"O/E 比率: 0.978013575381762\"\n",
      "[1] \"c_slope: 1.1754565623796\"\n",
      "[1] \"Brier 分数: 0.143699981092213\"\n"
     ]
    },
    {
     "name": "stderr",
     "output_type": "stream",
     "text": [
      "Setting levels: control = 0, case = 1\n",
      "\n",
      "Setting direction: controls < cases\n",
      "\n"
     ]
    },
    {
     "name": "stdout",
     "output_type": "stream",
     "text": [
      "[1] \"auc: 0.719767990340609\"\n",
      "[1] \"O/E 比率: 0.985753782175503\"\n",
      "[1] \"c_slope: 1.02999969282776\"\n",
      "[1] \"Brier 分数: 0.144446514032574\"\n"
     ]
    },
    {
     "name": "stderr",
     "output_type": "stream",
     "text": [
      "Setting levels: control = 0, case = 1\n",
      "\n",
      "Setting direction: controls < cases\n",
      "\n"
     ]
    },
    {
     "name": "stdout",
     "output_type": "stream",
     "text": [
      "[1] \"auc: 0.723093219173561\"\n",
      "[1] \"O/E 比率: 1.00255377829519\"\n",
      "[1] \"c_slope: 1.08590024559184\"\n",
      "[1] \"Brier 分数: 0.144276024167339\"\n"
     ]
    },
    {
     "name": "stderr",
     "output_type": "stream",
     "text": [
      "Setting levels: control = 0, case = 1\n",
      "\n",
      "Setting direction: controls < cases\n",
      "\n"
     ]
    },
    {
     "name": "stdout",
     "output_type": "stream",
     "text": [
      "[1] \"auc: 0.723382010759549\"\n",
      "[1] \"O/E 比率: 0.953333896537996\"\n",
      "[1] \"c_slope: 1.10498393319191\"\n",
      "[1] \"Brier 分数: 0.144113099274739\"\n"
     ]
    },
    {
     "name": "stderr",
     "output_type": "stream",
     "text": [
      "Setting levels: control = 0, case = 1\n",
      "\n",
      "Setting direction: controls < cases\n",
      "\n"
     ]
    },
    {
     "name": "stdout",
     "output_type": "stream",
     "text": [
      "[1] \"auc: 0.721160722143989\"\n",
      "[1] \"O/E 比率: 0.981552364362671\"\n",
      "[1] \"c_slope: 1.04339737410825\"\n",
      "[1] \"Brier 分数: 0.143999259376816\"\n"
     ]
    },
    {
     "name": "stderr",
     "output_type": "stream",
     "text": [
      "Setting levels: control = 0, case = 1\n",
      "\n",
      "Setting direction: controls < cases\n",
      "\n"
     ]
    },
    {
     "name": "stdout",
     "output_type": "stream",
     "text": [
      "[1] \"auc: 0.718649610543918\"\n",
      "[1] \"O/E 比率: 0.974525991926241\"\n",
      "[1] \"c_slope: 1.18799437230511\"\n",
      "[1] \"Brier 分数: 0.144326383960401\"\n"
     ]
    },
    {
     "name": "stderr",
     "output_type": "stream",
     "text": [
      "Setting levels: control = 0, case = 1\n",
      "\n",
      "Setting direction: controls < cases\n",
      "\n"
     ]
    },
    {
     "name": "stdout",
     "output_type": "stream",
     "text": [
      "[1] \"auc: 0.722389117782961\"\n",
      "[1] \"O/E 比率: 0.94583162244418\"\n",
      "[1] \"c_slope: 1.13612693460266\"\n",
      "[1] \"Brier 分数: 0.144109552687869\"\n"
     ]
    },
    {
     "name": "stderr",
     "output_type": "stream",
     "text": [
      "Setting levels: control = 0, case = 1\n",
      "\n",
      "Setting direction: controls < cases\n",
      "\n"
     ]
    },
    {
     "name": "stdout",
     "output_type": "stream",
     "text": [
      "[1] \"auc: 0.720087380082732\"\n",
      "[1] \"O/E 比率: 0.977993608355029\"\n",
      "[1] \"c_slope: 1.10521129624017\"\n",
      "[1] \"Brier 分数: 0.144143694277384\"\n"
     ]
    },
    {
     "name": "stderr",
     "output_type": "stream",
     "text": [
      "Setting levels: control = 0, case = 1\n",
      "\n",
      "Setting direction: controls < cases\n",
      "\n"
     ]
    },
    {
     "name": "stdout",
     "output_type": "stream",
     "text": [
      "[1] \"auc: 0.720542570630171\"\n",
      "[1] \"O/E 比率: 0.996767604644192\"\n",
      "[1] \"c_slope: 1.17963009353123\"\n",
      "[1] \"Brier 分数: 0.14398544768423\"\n"
     ]
    },
    {
     "name": "stderr",
     "output_type": "stream",
     "text": [
      "Setting levels: control = 0, case = 1\n",
      "\n",
      "Setting direction: controls < cases\n",
      "\n"
     ]
    },
    {
     "name": "stdout",
     "output_type": "stream",
     "text": [
      "[1] \"auc: 0.720037529154198\"\n",
      "[1] \"O/E 比率: 0.980693571801931\"\n",
      "[1] \"c_slope: 1.10883288055054\"\n",
      "[1] \"Brier 分数: 0.144011608483069\"\n"
     ]
    },
    {
     "name": "stderr",
     "output_type": "stream",
     "text": [
      "Setting levels: control = 0, case = 1\n",
      "\n",
      "Setting direction: controls < cases\n",
      "\n"
     ]
    },
    {
     "name": "stdout",
     "output_type": "stream",
     "text": [
      "[1] \"auc: 0.723688336120401\"\n",
      "[1] \"O/E 比率: 0.970900022516304\"\n",
      "[1] \"c_slope: 1.11786043114349\"\n",
      "[1] \"Brier 分数: 0.143801909067053\"\n"
     ]
    },
    {
     "name": "stderr",
     "output_type": "stream",
     "text": [
      "Setting levels: control = 0, case = 1\n",
      "\n",
      "Setting direction: controls < cases\n",
      "\n"
     ]
    },
    {
     "name": "stdout",
     "output_type": "stream",
     "text": [
      "[1] \"auc: 0.724560211670481\"\n",
      "[1] \"O/E 比率: 0.968514651100629\"\n",
      "[1] \"c_slope: 1.12795451483593\"\n",
      "[1] \"Brier 分数: 0.143366493526791\"\n"
     ]
    },
    {
     "name": "stderr",
     "output_type": "stream",
     "text": [
      "Setting levels: control = 0, case = 1\n",
      "\n",
      "Setting direction: controls < cases\n",
      "\n"
     ]
    },
    {
     "name": "stdout",
     "output_type": "stream",
     "text": [
      "[1] \"auc: 0.722736699084668\"\n",
      "[1] \"O/E 比率: 1.01612552453211\"\n",
      "[1] \"c_slope: 1.10732447821951\"\n",
      "[1] \"Brier 分数: 0.143446647585603\"\n"
     ]
    },
    {
     "name": "stderr",
     "output_type": "stream",
     "text": [
      "Setting levels: control = 0, case = 1\n",
      "\n",
      "Setting direction: controls < cases\n",
      "\n"
     ]
    },
    {
     "name": "stdout",
     "output_type": "stream",
     "text": [
      "[1] \"auc: 0.721317838518747\"\n",
      "[1] \"O/E 比率: 0.963467077082263\"\n",
      "[1] \"c_slope: 1.08977594927809\"\n",
      "[1] \"Brier 分数: 0.14399371091393\"\n"
     ]
    },
    {
     "name": "stderr",
     "output_type": "stream",
     "text": [
      "Setting levels: control = 0, case = 1\n",
      "\n",
      "Setting direction: controls < cases\n",
      "\n"
     ]
    },
    {
     "name": "stdout",
     "output_type": "stream",
     "text": [
      "[1] \"auc: 0.721836631975004\"\n",
      "[1] \"O/E 比率: 0.97269682627961\"\n",
      "[1] \"c_slope: 1.10487974391396\"\n",
      "[1] \"Brier 分数: 0.143806017817073\"\n"
     ]
    },
    {
     "name": "stderr",
     "output_type": "stream",
     "text": [
      "Setting levels: control = 0, case = 1\n",
      "\n",
      "Setting direction: controls < cases\n",
      "\n"
     ]
    },
    {
     "name": "stdout",
     "output_type": "stream",
     "text": [
      "[1] \"auc: 0.725317258185179\"\n",
      "[1] \"O/E 比率: 0.970778841617549\"\n",
      "[1] \"c_slope: 1.1083786932404\"\n",
      "[1] \"Brier 分数: 0.143342074500839\"\n"
     ]
    },
    {
     "name": "stderr",
     "output_type": "stream",
     "text": [
      "Setting levels: control = 0, case = 1\n",
      "\n",
      "Setting direction: controls < cases\n",
      "\n"
     ]
    },
    {
     "name": "stdout",
     "output_type": "stream",
     "text": [
      "[1] \"auc: 0.716628069442\"\n",
      "[1] \"O/E 比率: 0.919180945740836\"\n",
      "[1] \"c_slope: 1.05194159367296\"\n",
      "[1] \"Brier 分数: 0.144698743253013\"\n"
     ]
    },
    {
     "name": "stderr",
     "output_type": "stream",
     "text": [
      "Setting levels: control = 0, case = 1\n",
      "\n",
      "Setting direction: controls < cases\n",
      "\n"
     ]
    },
    {
     "name": "stdout",
     "output_type": "stream",
     "text": [
      "[1] \"auc: 0.725231652107904\"\n",
      "[1] \"O/E 比率: 0.98353271847174\"\n",
      "[1] \"c_slope: 1.09722900187015\"\n",
      "[1] \"Brier 分数: 0.143433368098933\"\n"
     ]
    },
    {
     "name": "stderr",
     "output_type": "stream",
     "text": [
      "Setting levels: control = 0, case = 1\n",
      "\n",
      "Setting direction: controls < cases\n",
      "\n"
     ]
    },
    {
     "name": "stdout",
     "output_type": "stream",
     "text": [
      "[1] \"auc: 0.718882362810245\"\n",
      "[1] \"O/E 比率: 1.00283467954629\"\n",
      "[1] \"c_slope: 1.13063448367839\"\n",
      "[1] \"Brier 分数: 0.144096830577177\"\n"
     ]
    },
    {
     "name": "stderr",
     "output_type": "stream",
     "text": [
      "Setting levels: control = 0, case = 1\n",
      "\n",
      "Setting direction: controls < cases\n",
      "\n"
     ]
    },
    {
     "name": "stdout",
     "output_type": "stream",
     "text": [
      "[1] \"auc: 0.722910317835768\"\n",
      "[1] \"O/E 比率: 0.965425747568328\"\n",
      "[1] \"c_slope: 1.06454402070372\"\n",
      "[1] \"Brier 分数: 0.143333576703085\"\n"
     ]
    },
    {
     "name": "stderr",
     "output_type": "stream",
     "text": [
      "Setting levels: control = 0, case = 1\n",
      "\n",
      "Setting direction: controls < cases\n",
      "\n"
     ]
    },
    {
     "name": "stdout",
     "output_type": "stream",
     "text": [
      "[1] \"auc: 0.724022165441824\"\n",
      "[1] \"O/E 比率: 0.939011258230713\"\n",
      "[1] \"c_slope: 1.07710542360573\"\n",
      "[1] \"Brier 分数: 0.143728203329938\"\n"
     ]
    },
    {
     "name": "stderr",
     "output_type": "stream",
     "text": [
      "Setting levels: control = 0, case = 1\n",
      "\n",
      "Setting direction: controls < cases\n",
      "\n"
     ]
    },
    {
     "name": "stdout",
     "output_type": "stream",
     "text": [
      "[1] \"auc: 0.721746212704629\"\n",
      "[1] \"O/E 比率: 0.959911345376554\"\n",
      "[1] \"c_slope: 1.13954834529563\"\n",
      "[1] \"Brier 分数: 0.144004269854583\"\n"
     ]
    },
    {
     "name": "stderr",
     "output_type": "stream",
     "text": [
      "Setting levels: control = 0, case = 1\n",
      "\n",
      "Setting direction: controls < cases\n",
      "\n"
     ]
    },
    {
     "name": "stdout",
     "output_type": "stream",
     "text": [
      "[1] \"auc: 0.720527443451857\"\n",
      "[1] \"O/E 比率: 0.996166070525147\"\n",
      "[1] \"c_slope: 1.12891859339212\"\n",
      "[1] \"Brier 分数: 0.144742757522699\"\n"
     ]
    },
    {
     "name": "stderr",
     "output_type": "stream",
     "text": [
      "Setting levels: control = 0, case = 1\n",
      "\n",
      "Setting direction: controls < cases\n",
      "\n"
     ]
    },
    {
     "name": "stdout",
     "output_type": "stream",
     "text": [
      "[1] \"auc: 0.721349124273895\"\n",
      "[1] \"O/E 比率: 0.953306224624904\"\n",
      "[1] \"c_slope: 1.06955573360947\"\n",
      "[1] \"Brier 分数: 0.144212174821938\"\n"
     ]
    },
    {
     "name": "stderr",
     "output_type": "stream",
     "text": [
      "Setting levels: control = 0, case = 1\n",
      "\n",
      "Setting direction: controls < cases\n",
      "\n"
     ]
    },
    {
     "name": "stdout",
     "output_type": "stream",
     "text": [
      "[1] \"auc: 0.721360813457138\"\n",
      "[1] \"O/E 比率: 0.961033160211492\"\n",
      "[1] \"c_slope: 1.12851896781335\"\n",
      "[1] \"Brier 分数: 0.144283367960415\"\n"
     ]
    },
    {
     "name": "stderr",
     "output_type": "stream",
     "text": [
      "Setting levels: control = 0, case = 1\n",
      "\n",
      "Setting direction: controls < cases\n",
      "\n"
     ]
    },
    {
     "name": "stdout",
     "output_type": "stream",
     "text": [
      "[1] \"auc: 0.725184551575427\"\n",
      "[1] \"O/E 比率: 0.96750231456007\"\n",
      "[1] \"c_slope: 1.12037846940906\"\n",
      "[1] \"Brier 分数: 0.14333664209366\"\n"
     ]
    },
    {
     "name": "stderr",
     "output_type": "stream",
     "text": [
      "Setting levels: control = 0, case = 1\n",
      "\n",
      "Setting direction: controls < cases\n",
      "\n"
     ]
    },
    {
     "name": "stdout",
     "output_type": "stream",
     "text": [
      "[1] \"auc: 0.722437249713959\"\n",
      "[1] \"O/E 比率: 0.967791520300967\"\n",
      "[1] \"c_slope: 1.08660657547169\"\n",
      "[1] \"Brier 分数: 0.143302919177656\"\n"
     ]
    },
    {
     "name": "stderr",
     "output_type": "stream",
     "text": [
      "Setting levels: control = 0, case = 1\n",
      "\n",
      "Setting direction: controls < cases\n",
      "\n"
     ]
    },
    {
     "name": "stdout",
     "output_type": "stream",
     "text": [
      "[1] \"auc: 0.721341560684739\"\n",
      "[1] \"O/E 比率: 0.989035032480806\"\n",
      "[1] \"c_slope: 1.06447040571979\"\n",
      "[1] \"Brier 分数: 0.144402167907907\"\n"
     ]
    },
    {
     "name": "stderr",
     "output_type": "stream",
     "text": [
      "Setting levels: control = 0, case = 1\n",
      "\n",
      "Setting direction: controls < cases\n",
      "\n"
     ]
    },
    {
     "name": "stdout",
     "output_type": "stream",
     "text": [
      "[1] \"auc: 0.723714464882943\"\n",
      "[1] \"O/E 比率: 0.993433784698861\"\n",
      "[1] \"c_slope: 1.06332412648128\"\n",
      "[1] \"Brier 分数: 0.143936133353087\"\n"
     ]
    },
    {
     "name": "stderr",
     "output_type": "stream",
     "text": [
      "Setting levels: control = 0, case = 1\n",
      "\n",
      "Setting direction: controls < cases\n",
      "\n"
     ]
    },
    {
     "name": "stdout",
     "output_type": "stream",
     "text": [
      "[1] \"auc: 0.721968307186235\"\n",
      "[1] \"O/E 比率: 0.979394370795408\"\n",
      "[1] \"c_slope: 1.11288373168795\"\n",
      "[1] \"Brier 分数: 0.143468980651774\"\n"
     ]
    },
    {
     "name": "stderr",
     "output_type": "stream",
     "text": [
      "Setting levels: control = 0, case = 1\n",
      "\n",
      "Setting direction: controls < cases\n",
      "\n"
     ]
    },
    {
     "name": "stdout",
     "output_type": "stream",
     "text": [
      "[1] \"auc: 0.726010014192044\"\n",
      "[1] \"O/E 比率: 0.986243076221071\"\n",
      "[1] \"c_slope: 1.08268813057845\"\n",
      "[1] \"Brier 分数: 0.143642436306691\"\n"
     ]
    },
    {
     "name": "stderr",
     "output_type": "stream",
     "text": [
      "Setting levels: control = 0, case = 1\n",
      "\n",
      "Setting direction: controls < cases\n",
      "\n"
     ]
    },
    {
     "name": "stdout",
     "output_type": "stream",
     "text": [
      "[1] \"auc: 0.724160716643197\"\n",
      "[1] \"O/E 比率: 0.998766385537291\"\n",
      "[1] \"c_slope: 1.10276987030392\"\n",
      "[1] \"Brier 分数: 0.143931547841652\"\n"
     ]
    },
    {
     "name": "stderr",
     "output_type": "stream",
     "text": [
      "Setting levels: control = 0, case = 1\n",
      "\n",
      "Setting direction: controls < cases\n",
      "\n"
     ]
    },
    {
     "name": "stdout",
     "output_type": "stream",
     "text": [
      "[1] \"auc: 0.724786775545679\"\n",
      "[1] \"O/E 比率: 0.977642864391838\"\n",
      "[1] \"c_slope: 1.09831056398828\"\n",
      "[1] \"Brier 分数: 0.143930736351149\"\n"
     ]
    },
    {
     "name": "stderr",
     "output_type": "stream",
     "text": [
      "Setting levels: control = 0, case = 1\n",
      "\n",
      "Setting direction: controls < cases\n",
      "\n"
     ]
    },
    {
     "name": "stdout",
     "output_type": "stream",
     "text": [
      "[1] \"auc: 0.723614075426862\"\n",
      "[1] \"O/E 比率: 0.978473583069692\"\n",
      "[1] \"c_slope: 1.13215054624735\"\n",
      "[1] \"Brier 分数: 0.144109932853401\"\n"
     ]
    },
    {
     "name": "stderr",
     "output_type": "stream",
     "text": [
      "Setting levels: control = 0, case = 1\n",
      "\n",
      "Setting direction: controls < cases\n",
      "\n"
     ]
    },
    {
     "name": "stdout",
     "output_type": "stream",
     "text": [
      "[1] \"auc: 0.720489625506073\"\n",
      "[1] \"O/E 比率: 0.996968346491965\"\n",
      "[1] \"c_slope: 1.09164037891609\"\n",
      "[1] \"Brier 分数: 0.144213718731975\"\n"
     ]
    },
    {
     "name": "stderr",
     "output_type": "stream",
     "text": [
      "Setting levels: control = 0, case = 1\n",
      "\n",
      "Setting direction: controls < cases\n",
      "\n"
     ]
    },
    {
     "name": "stdout",
     "output_type": "stream",
     "text": [
      "[1] \"auc: 0.72191020506953\"\n",
      "[1] \"O/E 比率: 0.975374729563094\"\n",
      "[1] \"c_slope: 1.0808810038823\"\n",
      "[1] \"Brier 分数: 0.143991956217583\"\n"
     ]
    },
    {
     "name": "stderr",
     "output_type": "stream",
     "text": [
      "Setting levels: control = 0, case = 1\n",
      "\n",
      "Setting direction: controls < cases\n",
      "\n"
     ]
    },
    {
     "name": "stdout",
     "output_type": "stream",
     "text": [
      "[1] \"auc: 0.721415477578771\"\n",
      "[1] \"O/E 比率: 0.995193243703568\"\n",
      "[1] \"c_slope: 1.06902490052876\"\n",
      "[1] \"Brier 分数: 0.144014423512683\"\n"
     ]
    },
    {
     "name": "stderr",
     "output_type": "stream",
     "text": [
      "Setting levels: control = 0, case = 1\n",
      "\n",
      "Setting direction: controls < cases\n",
      "\n"
     ]
    },
    {
     "name": "stdout",
     "output_type": "stream",
     "text": [
      "[1] \"auc: 0.720247934452561\"\n",
      "[1] \"O/E 比率: 0.976625953607876\"\n",
      "[1] \"c_slope: 1.08019951153801\"\n",
      "[1] \"Brier 分数: 0.143580147358042\"\n"
     ]
    },
    {
     "name": "stderr",
     "output_type": "stream",
     "text": [
      "Setting levels: control = 0, case = 1\n",
      "\n",
      "Setting direction: controls < cases\n",
      "\n"
     ]
    },
    {
     "name": "stdout",
     "output_type": "stream",
     "text": [
      "[1] \"auc: 0.719188688171097\"\n",
      "[1] \"O/E 比率: 0.947569802585579\"\n",
      "[1] \"c_slope: 1.04651968582912\"\n",
      "[1] \"Brier 分数: 0.144281892925979\"\n"
     ]
    },
    {
     "name": "stderr",
     "output_type": "stream",
     "text": [
      "Setting levels: control = 0, case = 1\n",
      "\n",
      "Setting direction: controls < cases\n",
      "\n"
     ]
    },
    {
     "name": "stdout",
     "output_type": "stream",
     "text": [
      "[1] \"auc: 0.723633328199261\"\n",
      "[1] \"O/E 比率: 0.965322871497791\"\n",
      "[1] \"c_slope: 1.09935865444774\"\n",
      "[1] \"Brier 分数: 0.14334267661974\"\n"
     ]
    },
    {
     "name": "stderr",
     "output_type": "stream",
     "text": [
      "Setting levels: control = 0, case = 1\n",
      "\n",
      "Setting direction: controls < cases\n",
      "\n"
     ]
    },
    {
     "name": "stdout",
     "output_type": "stream",
     "text": [
      "[1] \"auc: 0.720861272773279\"\n",
      "[1] \"O/E 比率: 0.961599466959886\"\n",
      "[1] \"c_slope: 1.14812059816621\"\n",
      "[1] \"Brier 分数: 0.144264010601232\"\n"
     ]
    },
    {
     "name": "stderr",
     "output_type": "stream",
     "text": [
      "Setting levels: control = 0, case = 1\n",
      "\n",
      "Setting direction: controls < cases\n",
      "\n"
     ]
    },
    {
     "name": "stdout",
     "output_type": "stream",
     "text": [
      "[1] \"auc: 0.723511966973244\"\n",
      "[1] \"O/E 比率: 0.959076410392446\"\n",
      "[1] \"c_slope: 1.08408239026415\"\n",
      "[1] \"Brier 分数: 0.143258514915192\"\n"
     ]
    },
    {
     "name": "stderr",
     "output_type": "stream",
     "text": [
      "Setting levels: control = 0, case = 1\n",
      "\n",
      "Setting direction: controls < cases\n",
      "\n"
     ]
    },
    {
     "name": "stdout",
     "output_type": "stream",
     "text": [
      "[1] \"auc: 0.725631490934695\"\n",
      "[1] \"O/E 比率: 0.988158535603913\"\n",
      "[1] \"c_slope: 1.14773205886625\"\n",
      "[1] \"Brier 分数: 0.143303560594626\"\n"
     ]
    },
    {
     "name": "stderr",
     "output_type": "stream",
     "text": [
      "Setting levels: control = 0, case = 1\n",
      "\n",
      "Setting direction: controls < cases\n",
      "\n"
     ]
    },
    {
     "name": "stdout",
     "output_type": "stream",
     "text": [
      "[1] \"auc: 0.716777278428094\"\n",
      "[1] \"O/E 比率: 1.02254892043736\"\n",
      "[1] \"c_slope: 1.05702811908264\"\n",
      "[1] \"Brier 分数: 0.144771066890112\"\n"
     ]
    },
    {
     "name": "stderr",
     "output_type": "stream",
     "text": [
      "Setting levels: control = 0, case = 1\n",
      "\n",
      "Setting direction: controls < cases\n",
      "\n"
     ]
    },
    {
     "name": "stdout",
     "output_type": "stream",
     "text": [
      "[1] \"auc: 0.722020908510826\"\n",
      "[1] \"O/E 比率: 0.986252134346648\"\n",
      "[1] \"c_slope: 1.14574997050866\"\n",
      "[1] \"Brier 分数: 0.144208240180195\"\n"
     ]
    },
    {
     "name": "stderr",
     "output_type": "stream",
     "text": [
      "Setting levels: control = 0, case = 1\n",
      "\n",
      "Setting direction: controls < cases\n",
      "\n"
     ]
    },
    {
     "name": "stdout",
     "output_type": "stream",
     "text": [
      "[1] \"auc: 0.722628058440415\"\n",
      "[1] \"O/E 比率: 0.952529476816113\"\n",
      "[1] \"c_slope: 1.01833468093012\"\n",
      "[1] \"Brier 分数: 0.144223523693611\"\n"
     ]
    },
    {
     "name": "stderr",
     "output_type": "stream",
     "text": [
      "Setting levels: control = 0, case = 1\n",
      "\n",
      "Setting direction: controls < cases\n",
      "\n"
     ]
    },
    {
     "name": "stdout",
     "output_type": "stream",
     "text": [
      "[1] \"auc: 0.721719396343073\"\n",
      "[1] \"O/E 比率: 0.958678324779074\"\n",
      "[1] \"c_slope: 1.06029921315619\"\n",
      "[1] \"Brier 分数: 0.144334124963658\"\n"
     ]
    },
    {
     "name": "stderr",
     "output_type": "stream",
     "text": [
      "Setting levels: control = 0, case = 1\n",
      "\n",
      "Setting direction: controls < cases\n",
      "\n"
     ]
    },
    {
     "name": "stdout",
     "output_type": "stream",
     "text": [
      "[1] \"auc: 0.722215155232353\"\n",
      "[1] \"O/E 比率: 1.01634338252242\"\n",
      "[1] \"c_slope: 1.11451881912301\"\n",
      "[1] \"Brier 分数: 0.144171455468117\"\n"
     ]
    },
    {
     "name": "stderr",
     "output_type": "stream",
     "text": [
      "Setting levels: control = 0, case = 1\n",
      "\n",
      "Setting direction: controls < cases\n",
      "\n"
     ]
    },
    {
     "name": "stdout",
     "output_type": "stream",
     "text": [
      "[1] \"auc: 0.726674922438831\"\n",
      "[1] \"O/E 比率: 0.932077776893646\"\n",
      "[1] \"c_slope: 1.08258649321197\"\n",
      "[1] \"Brier 分数: 0.143200484418287\"\n"
     ]
    },
    {
     "name": "stderr",
     "output_type": "stream",
     "text": [
      "Setting levels: control = 0, case = 1\n",
      "\n",
      "Setting direction: controls < cases\n",
      "\n"
     ]
    },
    {
     "name": "stdout",
     "output_type": "stream",
     "text": [
      "[1] \"auc: 0.726279209206126\"\n",
      "[1] \"O/E 比率: 0.96197162028538\"\n",
      "[1] \"c_slope: 1.13869374531003\"\n",
      "[1] \"Brier 分数: 0.143481166927477\"\n"
     ]
    },
    {
     "name": "stderr",
     "output_type": "stream",
     "text": [
      "Setting levels: control = 0, case = 1\n",
      "\n",
      "Setting direction: controls < cases\n",
      "\n"
     ]
    },
    {
     "name": "stdout",
     "output_type": "stream",
     "text": [
      "[1] \"auc: 0.718657517932582\"\n",
      "[1] \"O/E 比率: 0.98457303773127\"\n",
      "[1] \"c_slope: 1.08128851812988\"\n",
      "[1] \"Brier 分数: 0.144403863891444\"\n"
     ]
    },
    {
     "name": "stderr",
     "output_type": "stream",
     "text": [
      "Setting levels: control = 0, case = 1\n",
      "\n",
      "Setting direction: controls < cases\n",
      "\n"
     ]
    },
    {
     "name": "stdout",
     "output_type": "stream",
     "text": [
      "[1] \"auc: 0.724699794270375\"\n",
      "[1] \"O/E 比率: 0.961642274352486\"\n",
      "[1] \"c_slope: 1.10645865721714\"\n",
      "[1] \"Brier 分数: 0.143320540071052\"\n"
     ]
    },
    {
     "name": "stderr",
     "output_type": "stream",
     "text": [
      "Setting levels: control = 0, case = 1\n",
      "\n",
      "Setting direction: controls < cases\n",
      "\n"
     ]
    },
    {
     "name": "stdout",
     "output_type": "stream",
     "text": [
      "[1] \"auc: 0.72077497909699\"\n",
      "[1] \"O/E 比率: 0.983693807866381\"\n",
      "[1] \"c_slope: 1.19450821443007\"\n",
      "[1] \"Brier 分数: 0.144005136165329\"\n"
     ]
    },
    {
     "name": "stderr",
     "output_type": "stream",
     "text": [
      "Setting levels: control = 0, case = 1\n",
      "\n",
      "Setting direction: controls < cases\n",
      "\n"
     ]
    },
    {
     "name": "stdout",
     "output_type": "stream",
     "text": [
      "[1] \"auc: 0.724274858079563\"\n",
      "[1] \"O/E 比率: 0.967126842694531\"\n",
      "[1] \"c_slope: 1.15366117505427\"\n",
      "[1] \"Brier 分数: 0.143932175974529\"\n"
     ]
    },
    {
     "name": "stderr",
     "output_type": "stream",
     "text": [
      "Setting levels: control = 0, case = 1\n",
      "\n",
      "Setting direction: controls < cases\n",
      "\n"
     ]
    },
    {
     "name": "stdout",
     "output_type": "stream",
     "text": [
      "[1] \"auc: 0.721487331675761\"\n",
      "[1] \"O/E 比率: 0.984203296788773\"\n",
      "[1] \"c_slope: 1.07203210777731\"\n",
      "[1] \"Brier 分数: 0.143897977569931\"\n"
     ]
    },
    {
     "name": "stderr",
     "output_type": "stream",
     "text": [
      "Setting levels: control = 0, case = 1\n",
      "\n",
      "Setting direction: controls < cases\n",
      "\n"
     ]
    },
    {
     "name": "stdout",
     "output_type": "stream",
     "text": [
      "[1] \"auc: 0.719217223530188\"\n",
      "[1] \"O/E 比率: 1.00678256399559\"\n",
      "[1] \"c_slope: 1.05609786961268\"\n",
      "[1] \"Brier 分数: 0.144669111167372\"\n"
     ]
    },
    {
     "name": "stderr",
     "output_type": "stream",
     "text": [
      "Setting levels: control = 0, case = 1\n",
      "\n",
      "Setting direction: controls < cases\n",
      "\n"
     ]
    },
    {
     "name": "stdout",
     "output_type": "stream",
     "text": [
      "[1] \"auc: 0.723336285425101\"\n",
      "[1] \"O/E 比率: 0.955033308434274\"\n",
      "[1] \"c_slope: 1.16195242693366\"\n",
      "[1] \"Brier 分数: 0.143823442240256\"\n"
     ]
    },
    {
     "name": "stderr",
     "output_type": "stream",
     "text": [
      "Setting levels: control = 0, case = 1\n",
      "\n",
      "Setting direction: controls < cases\n",
      "\n"
     ]
    },
    {
     "name": "stdout",
     "output_type": "stream",
     "text": [
      "[1] \"auc: 0.723759502618377\"\n",
      "[1] \"O/E 比率: 0.99078706558379\"\n",
      "[1] \"c_slope: 1.08479721663861\"\n",
      "[1] \"Brier 分数: 0.1433372611221\"\n"
     ]
    },
    {
     "name": "stderr",
     "output_type": "stream",
     "text": [
      "Setting levels: control = 0, case = 1\n",
      "\n",
      "Setting direction: controls < cases\n",
      "\n"
     ]
    },
    {
     "name": "stdout",
     "output_type": "stream",
     "text": [
      "[1] \"auc: 0.721401725598486\"\n",
      "[1] \"O/E 比率: 0.960567693778956\"\n",
      "[1] \"c_slope: 1.09725659100519\"\n",
      "[1] \"Brier 分数: 0.143646480355851\"\n"
     ]
    },
    {
     "name": "stderr",
     "output_type": "stream",
     "text": [
      "Setting levels: control = 0, case = 1\n",
      "\n",
      "Setting direction: controls < cases\n",
      "\n"
     ]
    },
    {
     "name": "stdout",
     "output_type": "stream",
     "text": [
      "[1] \"auc: 0.724225350950537\"\n",
      "[1] \"O/E 比率: 0.971513247149191\"\n",
      "[1] \"c_slope: 1.03904622605178\"\n",
      "[1] \"Brier 分数: 0.14342934228463\"\n"
     ]
    },
    {
     "name": "stderr",
     "output_type": "stream",
     "text": [
      "Setting levels: control = 0, case = 1\n",
      "\n",
      "Setting direction: controls < cases\n",
      "\n"
     ]
    },
    {
     "name": "stdout",
     "output_type": "stream",
     "text": [
      "[1] \"auc: 0.720354856099278\"\n",
      "[1] \"O/E 比率: 0.98305870370191\"\n",
      "[1] \"c_slope: 1.04456156747716\"\n",
      "[1] \"Brier 分数: 0.144161674285102\"\n"
     ]
    },
    {
     "name": "stderr",
     "output_type": "stream",
     "text": [
      "Setting levels: control = 0, case = 1\n",
      "\n",
      "Setting direction: controls < cases\n",
      "\n"
     ]
    },
    {
     "name": "stdout",
     "output_type": "stream",
     "text": [
      "[1] \"auc: 0.723057807824327\"\n",
      "[1] \"O/E 比率: 0.93735087908746\"\n",
      "[1] \"c_slope: 1.15218513467604\"\n",
      "[1] \"Brier 分数: 0.143761682758292\"\n"
     ]
    },
    {
     "name": "stderr",
     "output_type": "stream",
     "text": [
      "Setting levels: control = 0, case = 1\n",
      "\n",
      "Setting direction: controls < cases\n",
      "\n"
     ]
    },
    {
     "name": "stdout",
     "output_type": "stream",
     "text": [
      "[1] \"auc: 0.720221118091005\"\n",
      "[1] \"O/E 比率: 0.940629197427445\"\n",
      "[1] \"c_slope: 1.05815083996574\"\n",
      "[1] \"Brier 分数: 0.144304840548468\"\n"
     ]
    },
    {
     "name": "stderr",
     "output_type": "stream",
     "text": [
      "Setting levels: control = 0, case = 1\n",
      "\n",
      "Setting direction: controls < cases\n",
      "\n"
     ]
    },
    {
     "name": "stdout",
     "output_type": "stream",
     "text": [
      "[1] \"auc: 0.722033285293082\"\n",
      "[1] \"O/E 比率: 0.962463655909267\"\n",
      "[1] \"c_slope: 1.10590893159997\"\n",
      "[1] \"Brier 分数: 0.144094174894118\"\n"
     ]
    },
    {
     "name": "stderr",
     "output_type": "stream",
     "text": [
      "Setting levels: control = 0, case = 1\n",
      "\n",
      "Setting direction: controls < cases\n",
      "\n"
     ]
    },
    {
     "name": "stdout",
     "output_type": "stream",
     "text": [
      "[1] \"auc: 0.723518155364372\"\n",
      "[1] \"O/E 比率: 0.926367529442779\"\n",
      "[1] \"c_slope: 1.07122909774785\"\n",
      "[1] \"Brier 分数: 0.144185908351749\"\n"
     ]
    },
    {
     "name": "stderr",
     "output_type": "stream",
     "text": [
      "Setting levels: control = 0, case = 1\n",
      "\n",
      "Setting direction: controls < cases\n",
      "\n"
     ]
    },
    {
     "name": "stdout",
     "output_type": "stream",
     "text": [
      "[1] \"auc: 0.721357719261574\"\n",
      "[1] \"O/E 比率: 0.995466328943431\"\n",
      "[1] \"c_slope: 1.0756196869999\"\n",
      "[1] \"Brier 分数: 0.144298830091261\"\n"
     ]
    },
    {
     "name": "stderr",
     "output_type": "stream",
     "text": [
      "Setting levels: control = 0, case = 1\n",
      "\n",
      "Setting direction: controls < cases\n",
      "\n"
     ]
    },
    {
     "name": "stdout",
     "output_type": "stream",
     "text": [
      "[1] \"auc: 0.723961312929062\"\n",
      "[1] \"O/E 比率: 0.948363996646922\"\n",
      "[1] \"c_slope: 1.09403640581549\"\n",
      "[1] \"Brier 分数: 0.143866203978998\"\n"
     ]
    },
    {
     "name": "stderr",
     "output_type": "stream",
     "text": [
      "Setting levels: control = 0, case = 1\n",
      "\n",
      "Setting direction: controls < cases\n",
      "\n"
     ]
    },
    {
     "name": "stdout",
     "output_type": "stream",
     "text": [
      "[1] \"auc: 0.720964412625418\"\n",
      "[1] \"O/E 比率: 0.995178780692333\"\n",
      "[1] \"c_slope: 1.12051481968588\"\n",
      "[1] \"Brier 分数: 0.144624628059727\"\n"
     ]
    },
    {
     "name": "stderr",
     "output_type": "stream",
     "text": [
      "Setting levels: control = 0, case = 1\n",
      "\n",
      "Setting direction: controls < cases\n",
      "\n"
     ]
    },
    {
     "name": "stdout",
     "output_type": "stream",
     "text": [
      "[1] \"auc: 0.722673439975356\"\n",
      "[1] \"O/E 比率: 0.973296289005406\"\n",
      "[1] \"c_slope: 1.12313879110293\"\n",
      "[1] \"Brier 分数: 0.143872998862056\"\n"
     ]
    },
    {
     "name": "stderr",
     "output_type": "stream",
     "text": [
      "Setting levels: control = 0, case = 1\n",
      "\n",
      "Setting direction: controls < cases\n",
      "\n"
     ]
    },
    {
     "name": "stdout",
     "output_type": "stream",
     "text": [
      "[1] \"auc: 0.720682840829079\"\n",
      "[1] \"O/E 比率: 0.978042632181229\"\n",
      "[1] \"c_slope: 1.1437353493432\"\n",
      "[1] \"Brier 分数: 0.143945198483361\"\n"
     ]
    },
    {
     "name": "stderr",
     "output_type": "stream",
     "text": [
      "Setting levels: control = 0, case = 1\n",
      "\n",
      "Setting direction: controls < cases\n",
      "\n"
     ]
    },
    {
     "name": "stdout",
     "output_type": "stream",
     "text": [
      "[1] \"auc: 0.723698993905122\"\n",
      "[1] \"O/E 比率: 1.0211661742125\"\n",
      "[1] \"c_slope: 1.10948449913305\"\n",
      "[1] \"Brier 分数: 0.144213810074697\"\n"
     ]
    },
    {
     "name": "stderr",
     "output_type": "stream",
     "text": [
      "Setting levels: control = 0, case = 1\n",
      "\n",
      "Setting direction: controls < cases\n",
      "\n"
     ]
    },
    {
     "name": "stdout",
     "output_type": "stream",
     "text": [
      "[1] \"auc: 0.722909630236754\"\n",
      "[1] \"O/E 比率: 0.969689961231208\"\n",
      "[1] \"c_slope: 1.12318963264957\"\n",
      "[1] \"Brier 分数: 0.143079555121585\"\n"
     ]
    },
    {
     "name": "stderr",
     "output_type": "stream",
     "text": [
      "Setting levels: control = 0, case = 1\n",
      "\n",
      "Setting direction: controls < cases\n",
      "\n"
     ]
    },
    {
     "name": "stdout",
     "output_type": "stream",
     "text": [
      "[1] \"auc: 0.721467391304348\"\n",
      "[1] \"O/E 比率: 0.993752322996056\"\n",
      "[1] \"c_slope: 1.11171257901272\"\n",
      "[1] \"Brier 分数: 0.144562006127377\"\n"
     ]
    },
    {
     "name": "stderr",
     "output_type": "stream",
     "text": [
      "Setting levels: control = 0, case = 1\n",
      "\n",
      "Setting direction: controls < cases\n",
      "\n"
     ]
    },
    {
     "name": "stdout",
     "output_type": "stream",
     "text": [
      "[1] \"auc: 0.723473805227953\"\n",
      "[1] \"O/E 比率: 0.98140311331084\"\n",
      "[1] \"c_slope: 1.14184089186102\"\n",
      "[1] \"Brier 分数: 0.143860011599691\"\n"
     ]
    },
    {
     "name": "stderr",
     "output_type": "stream",
     "text": [
      "Setting levels: control = 0, case = 1\n",
      "\n",
      "Setting direction: controls < cases\n",
      "\n"
     ]
    },
    {
     "name": "stdout",
     "output_type": "stream",
     "text": [
      "[1] \"auc: 0.722320014082028\"\n",
      "[1] \"O/E 比率: 0.965762811204632\"\n",
      "[1] \"c_slope: 1.11803859018643\"\n",
      "[1] \"Brier 分数: 0.144008698431086\"\n"
     ]
    },
    {
     "name": "stderr",
     "output_type": "stream",
     "text": [
      "Setting levels: control = 0, case = 1\n",
      "\n",
      "Setting direction: controls < cases\n",
      "\n"
     ]
    },
    {
     "name": "stdout",
     "output_type": "stream",
     "text": [
      "[1] \"auc: 0.723963719525612\"\n",
      "[1] \"O/E 比率: 0.948297263988994\"\n",
      "[1] \"c_slope: 1.16837690654407\"\n",
      "[1] \"Brier 分数: 0.143997304995552\"\n"
     ]
    },
    {
     "name": "stderr",
     "output_type": "stream",
     "text": [
      "Setting levels: control = 0, case = 1\n",
      "\n",
      "Setting direction: controls < cases\n",
      "\n"
     ]
    },
    {
     "name": "stdout",
     "output_type": "stream",
     "text": [
      "[1] \"auc: 0.722051162867453\"\n",
      "[1] \"O/E 比率: 0.938172650627056\"\n",
      "[1] \"c_slope: 1.05393722117941\"\n",
      "[1] \"Brier 分数: 0.144050781401044\"\n"
     ]
    },
    {
     "name": "stderr",
     "output_type": "stream",
     "text": [
      "Setting levels: control = 0, case = 1\n",
      "\n",
      "Setting direction: controls < cases\n",
      "\n"
     ]
    },
    {
     "name": "stdout",
     "output_type": "stream",
     "text": [
      "[1] \"auc: 0.721206791277944\"\n",
      "[1] \"O/E 比率: 0.97165718639627\"\n",
      "[1] \"c_slope: 1.12115574462514\"\n",
      "[1] \"Brier 分数: 0.144469133701148\"\n"
     ]
    },
    {
     "name": "stderr",
     "output_type": "stream",
     "text": [
      "Setting levels: control = 0, case = 1\n",
      "\n",
      "Setting direction: controls < cases\n",
      "\n"
     ]
    },
    {
     "name": "stdout",
     "output_type": "stream",
     "text": [
      "[1] \"auc: 0.721533400809717\"\n",
      "[1] \"O/E 比率: 0.961080896409301\"\n",
      "[1] \"c_slope: 1.19297644435223\"\n",
      "[1] \"Brier 分数: 0.144272402061987\"\n"
     ]
    },
    {
     "name": "stderr",
     "output_type": "stream",
     "text": [
      "Setting levels: control = 0, case = 1\n",
      "\n",
      "Setting direction: controls < cases\n",
      "\n"
     ]
    },
    {
     "name": "stdout",
     "output_type": "stream",
     "text": [
      "[1] \"auc: 0.721624163879599\"\n",
      "[1] \"O/E 比率: 0.954038871891812\"\n",
      "[1] \"c_slope: 1.05932313554423\"\n",
      "[1] \"Brier 分数: 0.143673574793965\"\n"
     ]
    },
    {
     "name": "stderr",
     "output_type": "stream",
     "text": [
      "Setting levels: control = 0, case = 1\n",
      "\n",
      "Setting direction: controls < cases\n",
      "\n"
     ]
    },
    {
     "name": "stdout",
     "output_type": "stream",
     "text": [
      "[1] \"auc: 0.719872849190283\"\n",
      "[1] \"O/E 比率: 1.00798428886473\"\n",
      "[1] \"c_slope: 1.15138183280038\"\n",
      "[1] \"Brier 分数: 0.14412712442369\"\n"
     ]
    },
    {
     "name": "stderr",
     "output_type": "stream",
     "text": [
      "Setting levels: control = 0, case = 1\n",
      "\n",
      "Setting direction: controls < cases\n",
      "\n"
     ]
    },
    {
     "name": "stdout",
     "output_type": "stream",
     "text": [
      "[1] \"auc: 0.720275094613624\"\n",
      "[1] \"O/E 比率: 0.962190439273706\"\n",
      "[1] \"c_slope: 1.12135037843397\"\n",
      "[1] \"Brier 分数: 0.144225694783917\"\n"
     ]
    },
    {
     "name": "stderr",
     "output_type": "stream",
     "text": [
      "Setting levels: control = 0, case = 1\n",
      "\n",
      "Setting direction: controls < cases\n",
      "\n"
     ]
    },
    {
     "name": "stdout",
     "output_type": "stream",
     "text": [
      "[1] \"auc: 0.721716645947016\"\n",
      "[1] \"O/E 比率: 0.972438370116586\"\n",
      "[1] \"c_slope: 1.12217438860892\"\n",
      "[1] \"Brier 分数: 0.143988263451878\"\n"
     ]
    },
    {
     "name": "stderr",
     "output_type": "stream",
     "text": [
      "Setting levels: control = 0, case = 1\n",
      "\n",
      "Setting direction: controls < cases\n",
      "\n"
     ]
    },
    {
     "name": "stdout",
     "output_type": "stream",
     "text": [
      "[1] \"auc: 0.720535007041014\"\n",
      "[1] \"O/E 比率: 0.988496039078909\"\n",
      "[1] \"c_slope: 1.10419332902479\"\n",
      "[1] \"Brier 分数: 0.144124580239366\"\n"
     ]
    },
    {
     "name": "stderr",
     "output_type": "stream",
     "text": [
      "Setting levels: control = 0, case = 1\n",
      "\n",
      "Setting direction: controls < cases\n",
      "\n"
     ]
    },
    {
     "name": "stdout",
     "output_type": "stream",
     "text": [
      "[1] \"auc: 0.725858054809893\"\n",
      "[1] \"O/E 比率: 0.962591475474347\"\n",
      "[1] \"c_slope: 1.20016126794806\"\n",
      "[1] \"Brier 分数: 0.144162286097947\"\n"
     ]
    },
    {
     "name": "stderr",
     "output_type": "stream",
     "text": [
      "Setting levels: control = 0, case = 1\n",
      "\n",
      "Setting direction: controls < cases\n",
      "\n"
     ]
    },
    {
     "name": "stdout",
     "output_type": "stream",
     "text": [
      "[1] \"auc: 0.722146395330928\"\n",
      "[1] \"O/E 比率: 0.946580622532199\"\n",
      "[1] \"c_slope: 1.11371223741462\"\n",
      "[1] \"Brier 分数: 0.144341137015128\"\n"
     ]
    },
    {
     "name": "stderr",
     "output_type": "stream",
     "text": [
      "Setting levels: control = 0, case = 1\n",
      "\n",
      "Setting direction: controls < cases\n",
      "\n"
     ]
    },
    {
     "name": "stdout",
     "output_type": "stream",
     "text": [
      "[1] \"auc: 0.728034649489526\"\n",
      "[1] \"O/E 比率: 0.98955935422465\"\n",
      "[1] \"c_slope: 1.09979658831555\"\n",
      "[1] \"Brier 分数: 0.142883225473193\"\n"
     ]
    },
    {
     "name": "stderr",
     "output_type": "stream",
     "text": [
      "Setting levels: control = 0, case = 1\n",
      "\n",
      "Setting direction: controls < cases\n",
      "\n"
     ]
    },
    {
     "name": "stdout",
     "output_type": "stream",
     "text": [
      "[1] \"auc: 0.721599754114593\"\n",
      "[1] \"O/E 比率: 0.944294520024302\"\n",
      "[1] \"c_slope: 1.05594358009472\"\n",
      "[1] \"Brier 分数: 0.144277866190998\"\n"
     ]
    },
    {
     "name": "stderr",
     "output_type": "stream",
     "text": [
      "Setting levels: control = 0, case = 1\n",
      "\n",
      "Setting direction: controls < cases\n",
      "\n"
     ]
    },
    {
     "name": "stdout",
     "output_type": "stream",
     "text": [
      "[1] \"auc: 0.721096775435663\"\n",
      "[1] \"O/E 比率: 0.964533710026457\"\n",
      "[1] \"c_slope: 1.15536201978569\"\n",
      "[1] \"Brier 分数: 0.144260710137358\"\n"
     ]
    },
    {
     "name": "stderr",
     "output_type": "stream",
     "text": [
      "Setting levels: control = 0, case = 1\n",
      "\n",
      "Setting direction: controls < cases\n",
      "\n"
     ]
    },
    {
     "name": "stdout",
     "output_type": "stream",
     "text": [
      "[1] \"auc: 0.722651780606407\"\n",
      "[1] \"O/E 比率: 1.0217023394945\"\n",
      "[1] \"c_slope: 1.0605661917557\"\n",
      "[1] \"Brier 分数: 0.143915297230658\"\n"
     ]
    },
    {
     "name": "stderr",
     "output_type": "stream",
     "text": [
      "Setting levels: control = 0, case = 1\n",
      "\n",
      "Setting direction: controls < cases\n",
      "\n"
     ]
    },
    {
     "name": "stdout",
     "output_type": "stream",
     "text": [
      "[1] \"auc: 0.723912493399049\"\n",
      "[1] \"O/E 比率: 0.996141368505498\"\n",
      "[1] \"c_slope: 1.05201984479381\"\n",
      "[1] \"Brier 分数: 0.143460164226048\"\n"
     ]
    },
    {
     "name": "stderr",
     "output_type": "stream",
     "text": [
      "Setting levels: control = 0, case = 1\n",
      "\n",
      "Setting direction: controls < cases\n",
      "\n"
     ]
    },
    {
     "name": "stdout",
     "output_type": "stream",
     "text": [
      "[1] \"auc: 0.721649948842633\"\n",
      "[1] \"O/E 比率: 0.983367960402191\"\n",
      "[1] \"c_slope: 1.05323142644052\"\n",
      "[1] \"Brier 分数: 0.144152236126757\"\n"
     ]
    },
    {
     "name": "stderr",
     "output_type": "stream",
     "text": [
      "Setting levels: control = 0, case = 1\n",
      "\n",
      "Setting direction: controls < cases\n",
      "\n"
     ]
    },
    {
     "name": "stdout",
     "output_type": "stream",
     "text": [
      "[1] \"auc: 0.72056663659567\"\n",
      "[1] \"O/E 比率: 1.01828275234241\"\n",
      "[1] \"c_slope: 1.0564867122313\"\n",
      "[1] \"Brier 分数: 0.144455770100687\"\n"
     ]
    },
    {
     "name": "stderr",
     "output_type": "stream",
     "text": [
      "Setting levels: control = 0, case = 1\n",
      "\n",
      "Setting direction: controls < cases\n",
      "\n"
     ]
    },
    {
     "name": "stdout",
     "output_type": "stream",
     "text": [
      "[1] \"auc: 0.721119466203133\"\n",
      "[1] \"O/E 比率: 0.994823075082609\"\n",
      "[1] \"c_slope: 1.11419095341842\"\n",
      "[1] \"Brier 分数: 0.143595778819809\"\n"
     ]
    },
    {
     "name": "stderr",
     "output_type": "stream",
     "text": [
      "Setting levels: control = 0, case = 1\n",
      "\n",
      "Setting direction: controls < cases\n",
      "\n"
     ]
    },
    {
     "name": "stdout",
     "output_type": "stream",
     "text": [
      "[1] \"auc: 0.723008644494807\"\n",
      "[1] \"O/E 比率: 0.965803302284673\"\n",
      "[1] \"c_slope: 1.07285939908701\"\n",
      "[1] \"Brier 分数: 0.14318932113091\"\n"
     ]
    },
    {
     "name": "stderr",
     "output_type": "stream",
     "text": [
      "Setting levels: control = 0, case = 1\n",
      "\n",
      "Setting direction: controls < cases\n",
      "\n"
     ]
    },
    {
     "name": "stdout",
     "output_type": "stream",
     "text": [
      "[1] \"auc: 0.718490775171625\"\n",
      "[1] \"O/E 比率: 1.00738658148186\"\n",
      "[1] \"c_slope: 1.08931265019326\"\n",
      "[1] \"Brier 分数: 0.144877949069058\"\n"
     ]
    },
    {
     "name": "stderr",
     "output_type": "stream",
     "text": [
      "Setting levels: control = 0, case = 1\n",
      "\n",
      "Setting direction: controls < cases\n",
      "\n"
     ]
    },
    {
     "name": "stdout",
     "output_type": "stream",
     "text": [
      "[1] \"auc: 0.725476781156487\"\n",
      "[1] \"O/E 比率: 1.00061870861859\"\n",
      "[1] \"c_slope: 1.09574156290662\"\n",
      "[1] \"Brier 分数: 0.143938852521668\"\n"
     ]
    },
    {
     "name": "stderr",
     "output_type": "stream",
     "text": [
      "Setting levels: control = 0, case = 1\n",
      "\n",
      "Setting direction: controls < cases\n",
      "\n"
     ]
    },
    {
     "name": "stdout",
     "output_type": "stream",
     "text": [
      "[1] \"auc: 0.721535807406266\"\n",
      "[1] \"O/E 比率: 0.944478944940482\"\n",
      "[1] \"c_slope: 1.08169314223724\"\n",
      "[1] \"Brier 分数: 0.144274164302878\"\n"
     ]
    },
    {
     "name": "stderr",
     "output_type": "stream",
     "text": [
      "Setting levels: control = 0, case = 1\n",
      "\n",
      "Setting direction: controls < cases\n",
      "\n"
     ]
    },
    {
     "name": "stdout",
     "output_type": "stream",
     "text": [
      "[1] \"auc: 0.722569956323711\"\n",
      "[1] \"O/E 比率: 0.93946010858397\"\n",
      "[1] \"c_slope: 1.04771853438782\"\n",
      "[1] \"Brier 分数: 0.144252342477403\"\n"
     ]
    },
    {
     "name": "stderr",
     "output_type": "stream",
     "text": [
      "Setting levels: control = 0, case = 1\n",
      "\n",
      "Setting direction: controls < cases\n",
      "\n"
     ]
    },
    {
     "name": "stdout",
     "output_type": "stream",
     "text": [
      "[1] \"auc: 0.723326659038902\"\n",
      "[1] \"O/E 比率: 0.976024243786245\"\n",
      "[1] \"c_slope: 1.0760904825786\"\n",
      "[1] \"Brier 分数: 0.143830860626789\"\n"
     ]
    },
    {
     "name": "stderr",
     "output_type": "stream",
     "text": [
      "Setting levels: control = 0, case = 1\n",
      "\n",
      "Setting direction: controls < cases\n",
      "\n"
     ]
    },
    {
     "name": "stdout",
     "output_type": "stream",
     "text": [
      "[1] \"auc: 0.72041089541894\"\n",
      "[1] \"O/E 比率: 1.00184103989773\"\n",
      "[1] \"c_slope: 1.13312537830009\"\n",
      "[1] \"Brier 分数: 0.144016219626314\"\n"
     ]
    },
    {
     "name": "stderr",
     "output_type": "stream",
     "text": [
      "Setting levels: control = 0, case = 1\n",
      "\n",
      "Setting direction: controls < cases\n",
      "\n"
     ]
    },
    {
     "name": "stdout",
     "output_type": "stream",
     "text": [
      "[1] \"auc: 0.722235095603767\"\n",
      "[1] \"O/E 比率: 0.956357622669306\"\n",
      "[1] \"c_slope: 1.09371646590863\"\n",
      "[1] \"Brier 分数: 0.14402266229766\"\n"
     ]
    },
    {
     "name": "stderr",
     "output_type": "stream",
     "text": [
      "Setting levels: control = 0, case = 1\n",
      "\n",
      "Setting direction: controls < cases\n",
      "\n"
     ]
    },
    {
     "name": "stdout",
     "output_type": "stream",
     "text": [
      "[1] \"auc: 0.72631221395881\"\n",
      "[1] \"O/E 比率: 0.973156230542551\"\n",
      "[1] \"c_slope: 1.05944974848492\"\n",
      "[1] \"Brier 分数: 0.143382590531049\"\n"
     ]
    },
    {
     "name": "stderr",
     "output_type": "stream",
     "text": [
      "Setting levels: control = 0, case = 1\n",
      "\n",
      "Setting direction: controls < cases\n",
      "\n"
     ]
    },
    {
     "name": "stdout",
     "output_type": "stream",
     "text": [
      "[1] \"auc: 0.723827231121281\"\n",
      "[1] \"O/E 比率: 0.993369337491921\"\n",
      "[1] \"c_slope: 1.13030235024214\"\n",
      "[1] \"Brier 分数: 0.143763576608731\"\n"
     ]
    },
    {
     "name": "stderr",
     "output_type": "stream",
     "text": [
      "Setting levels: control = 0, case = 1\n",
      "\n",
      "Setting direction: controls < cases\n",
      "\n"
     ]
    },
    {
     "name": "stdout",
     "output_type": "stream",
     "text": [
      "[1] \"auc: 0.721086117650942\"\n",
      "[1] \"O/E 比率: 0.943891734665543\"\n",
      "[1] \"c_slope: 1.09861588910941\"\n",
      "[1] \"Brier 分数: 0.144501033948587\"\n"
     ]
    },
    {
     "name": "stderr",
     "output_type": "stream",
     "text": [
      "Setting levels: control = 0, case = 1\n",
      "\n",
      "Setting direction: controls < cases\n",
      "\n"
     ]
    },
    {
     "name": "stdout",
     "output_type": "stream",
     "text": [
      "[1] \"auc: 0.71879675673297\"\n",
      "[1] \"O/E 比率: 0.97457600066138\"\n",
      "[1] \"c_slope: 1.04993845652015\"\n",
      "[1] \"Brier 分数: 0.144226423532079\"\n"
     ]
    },
    {
     "name": "stderr",
     "output_type": "stream",
     "text": [
      "Setting levels: control = 0, case = 1\n",
      "\n",
      "Setting direction: controls < cases\n",
      "\n"
     ]
    },
    {
     "name": "stdout",
     "output_type": "stream",
     "text": [
      "[1] \"auc: 0.720944472254005\"\n",
      "[1] \"O/E 比率: 0.942091702929104\"\n",
      "[1] \"c_slope: 1.04014829913286\"\n",
      "[1] \"Brier 分数: 0.144143401342025\"\n"
     ]
    },
    {
     "name": "stderr",
     "output_type": "stream",
     "text": [
      "Setting levels: control = 0, case = 1\n",
      "\n",
      "Setting direction: controls < cases\n",
      "\n"
     ]
    },
    {
     "name": "stdout",
     "output_type": "stream",
     "text": [
      "[1] \"auc: 0.720575919182362\"\n",
      "[1] \"O/E 比率: 1.00662536565938\"\n",
      "[1] \"c_slope: 1.12516568707483\"\n",
      "[1] \"Brier 分数: 0.143455055828668\"\n"
     ]
    },
    {
     "name": "stderr",
     "output_type": "stream",
     "text": [
      "Setting levels: control = 0, case = 1\n",
      "\n",
      "Setting direction: controls < cases\n",
      "\n"
     ]
    },
    {
     "name": "stdout",
     "output_type": "stream",
     "text": [
      "[1] \"auc: 0.72318913923605\"\n",
      "[1] \"O/E 比率: 0.983210999716527\"\n",
      "[1] \"c_slope: 1.09921202538339\"\n",
      "[1] \"Brier 分数: 0.143996016238437\"\n"
     ]
    },
    {
     "name": "stderr",
     "output_type": "stream",
     "text": [
      "Setting levels: control = 0, case = 1\n",
      "\n",
      "Setting direction: controls < cases\n",
      "\n"
     ]
    },
    {
     "name": "stdout",
     "output_type": "stream",
     "text": [
      "[1] \"auc: 0.720099069265974\"\n",
      "[1] \"O/E 比率: 0.963740477759196\"\n",
      "[1] \"c_slope: 1.08690194151214\"\n",
      "[1] \"Brier 分数: 0.143831958395343\"\n"
     ]
    },
    {
     "name": "stderr",
     "output_type": "stream",
     "text": [
      "Setting levels: control = 0, case = 1\n",
      "\n",
      "Setting direction: controls < cases\n",
      "\n"
     ]
    },
    {
     "name": "stdout",
     "output_type": "stream",
     "text": [
      "[1] \"auc: 0.720454214156839\"\n",
      "[1] \"O/E 比率: 0.951216596565357\"\n",
      "[1] \"c_slope: 1.00207496636452\"\n",
      "[1] \"Brier 分数: 0.144517908650284\"\n"
     ]
    },
    {
     "name": "stderr",
     "output_type": "stream",
     "text": [
      "Setting levels: control = 0, case = 1\n",
      "\n",
      "Setting direction: controls < cases\n",
      "\n"
     ]
    },
    {
     "name": "stdout",
     "output_type": "stream",
     "text": [
      "[1] \"auc: 0.718091623943848\"\n",
      "[1] \"O/E 比率: 0.989142127019164\"\n",
      "[1] \"c_slope: 1.08995962577232\"\n",
      "[1] \"Brier 分数: 0.144978644662442\"\n"
     ]
    },
    {
     "name": "stderr",
     "output_type": "stream",
     "text": [
      "Setting levels: control = 0, case = 1\n",
      "\n",
      "Setting direction: controls < cases\n",
      "\n"
     ]
    },
    {
     "name": "stdout",
     "output_type": "stream",
     "text": [
      "[1] \"auc: 0.724492483167576\"\n",
      "[1] \"O/E 比率: 0.94733776733006\"\n",
      "[1] \"c_slope: 1.11809646126291\"\n",
      "[1] \"Brier 分数: 0.143669882329658\"\n"
     ]
    },
    {
     "name": "stderr",
     "output_type": "stream",
     "text": [
      "Setting levels: control = 0, case = 1\n",
      "\n",
      "Setting direction: controls < cases\n",
      "\n"
     ]
    },
    {
     "name": "stdout",
     "output_type": "stream",
     "text": [
      "[1] \"auc: 0.722212061036789\"\n",
      "[1] \"O/E 比率: 0.979292783447161\"\n",
      "[1] \"c_slope: 1.12566154145219\"\n",
      "[1] \"Brier 分数: 0.144187298334043\"\n"
     ]
    },
    {
     "name": "stderr",
     "output_type": "stream",
     "text": [
      "Setting levels: control = 0, case = 1\n",
      "\n",
      "Setting direction: controls < cases\n",
      "\n"
     ]
    },
    {
     "name": "stdout",
     "output_type": "stream",
     "text": [
      "[1] \"auc: 0.718690866484774\"\n",
      "[1] \"O/E 比率: 1.01138451220359\"\n",
      "[1] \"c_slope: 1.10653368272193\"\n",
      "[1] \"Brier 分数: 0.144590971768851\"\n"
     ]
    },
    {
     "name": "stderr",
     "output_type": "stream",
     "text": [
      "Setting levels: control = 0, case = 1\n",
      "\n",
      "Setting direction: controls < cases\n",
      "\n"
     ]
    },
    {
     "name": "stdout",
     "output_type": "stream",
     "text": [
      "[1] \"auc: 0.722131611952121\"\n",
      "[1] \"O/E 比率: 0.955037696583588\"\n",
      "[1] \"c_slope: 1.10236927355155\"\n",
      "[1] \"Brier 分数: 0.144174359058129\"\n"
     ]
    },
    {
     "name": "stderr",
     "output_type": "stream",
     "text": [
      "Setting levels: control = 0, case = 1\n",
      "\n",
      "Setting direction: controls < cases\n",
      "\n"
     ]
    },
    {
     "name": "stdout",
     "output_type": "stream",
     "text": [
      "[1] \"auc: 0.722636309628586\"\n",
      "[1] \"O/E 比率: 1.00294795435141\"\n",
      "[1] \"c_slope: 1.07564829600383\"\n",
      "[1] \"Brier 分数: 0.14401530539441\"\n"
     ]
    },
    {
     "name": "stderr",
     "output_type": "stream",
     "text": [
      "Setting levels: control = 0, case = 1\n",
      "\n",
      "Setting direction: controls < cases\n",
      "\n"
     ]
    },
    {
     "name": "stdout",
     "output_type": "stream",
     "text": [
      "[1] \"auc: 0.722169086098398\"\n",
      "[1] \"O/E 比率: 0.959387781639378\"\n",
      "[1] \"c_slope: 1.11088300017148\"\n",
      "[1] \"Brier 分数: 0.144018454490174\"\n"
     ]
    },
    {
     "name": "stderr",
     "output_type": "stream",
     "text": [
      "Setting levels: control = 0, case = 1\n",
      "\n",
      "Setting direction: controls < cases\n",
      "\n"
     ]
    },
    {
     "name": "stdout",
     "output_type": "stream",
     "text": [
      "[1] \"auc: 0.723649486776096\"\n",
      "[1] \"O/E 比率: 0.949768456235993\"\n",
      "[1] \"c_slope: 1.06042052044456\"\n",
      "[1] \"Brier 分数: 0.143281887837267\"\n"
     ]
    },
    {
     "name": "stderr",
     "output_type": "stream",
     "text": [
      "Setting levels: control = 0, case = 1\n",
      "\n",
      "Setting direction: controls < cases\n",
      "\n"
     ]
    },
    {
     "name": "stdout",
     "output_type": "stream",
     "text": [
      "[1] \"auc: 0.72220243465059\"\n",
      "[1] \"O/E 比率: 0.986792549350881\"\n",
      "[1] \"c_slope: 1.0878106694544\"\n",
      "[1] \"Brier 分数: 0.144192700494012\"\n"
     ]
    },
    {
     "name": "stderr",
     "output_type": "stream",
     "text": [
      "Setting levels: control = 0, case = 1\n",
      "\n",
      "Setting direction: controls < cases\n",
      "\n"
     ]
    },
    {
     "name": "stdout",
     "output_type": "stream",
     "text": [
      "[1] \"auc: 0.724132868883119\"\n",
      "[1] \"O/E 比率: 0.983173901065947\"\n",
      "[1] \"c_slope: 1.05077927680968\"\n",
      "[1] \"Brier 分数: 0.14343651849972\"\n"
     ]
    },
    {
     "name": "stderr",
     "output_type": "stream",
     "text": [
      "Setting levels: control = 0, case = 1\n",
      "\n",
      "Setting direction: controls < cases\n",
      "\n"
     ]
    },
    {
     "name": "stdout",
     "output_type": "stream",
     "text": [
      "[1] \"auc: 0.723070184606583\"\n",
      "[1] \"O/E 比率: 1.00123858931223\"\n",
      "[1] \"c_slope: 1.06358240602614\"\n",
      "[1] \"Brier 分数: 0.143883452515002\"\n"
     ]
    },
    {
     "name": "stderr",
     "output_type": "stream",
     "text": [
      "Setting levels: control = 0, case = 1\n",
      "\n",
      "Setting direction: controls < cases\n",
      "\n"
     ]
    },
    {
     "name": "stdout",
     "output_type": "stream",
     "text": [
      "[1] \"auc: 0.721717677345538\"\n",
      "[1] \"O/E 比率: 0.928107815764361\"\n",
      "[1] \"c_slope: 1.08331473393126\"\n",
      "[1] \"Brier 分数: 0.144011310440474\"\n"
     ]
    },
    {
     "name": "stderr",
     "output_type": "stream",
     "text": [
      "Setting levels: control = 0, case = 1\n",
      "\n",
      "Setting direction: controls < cases\n",
      "\n"
     ]
    },
    {
     "name": "stdout",
     "output_type": "stream",
     "text": [
      "[1] \"auc: 0.720536382239042\"\n",
      "[1] \"O/E 比率: 0.958565255640706\"\n",
      "[1] \"c_slope: 1.13322119739075\"\n",
      "[1] \"Brier 分数: 0.144176240306377\"\n"
     ]
    },
    {
     "name": "stderr",
     "output_type": "stream",
     "text": [
      "Setting levels: control = 0, case = 1\n",
      "\n",
      "Setting direction: controls < cases\n",
      "\n"
     ]
    },
    {
     "name": "stdout",
     "output_type": "stream",
     "text": [
      "[1] \"auc: 0.727556768174617\"\n",
      "[1] \"O/E 比率: 0.961327478027877\"\n",
      "[1] \"c_slope: 1.17430266171075\"\n",
      "[1] \"Brier 分数: 0.143792513764756\"\n"
     ]
    },
    {
     "name": "stderr",
     "output_type": "stream",
     "text": [
      "Setting levels: control = 0, case = 1\n",
      "\n",
      "Setting direction: controls < cases\n",
      "\n"
     ]
    },
    {
     "name": "stdout",
     "output_type": "stream",
     "text": [
      "[1] \"auc: 0.722501540221792\"\n",
      "[1] \"O/E 比率: 0.973508151506705\"\n",
      "[1] \"c_slope: 1.07847878023636\"\n",
      "[1] \"Brier 分数: 0.143933242976692\"\n"
     ]
    },
    {
     "name": "stderr",
     "output_type": "stream",
     "text": [
      "Setting levels: control = 0, case = 1\n",
      "\n",
      "Setting direction: controls < cases\n",
      "\n"
     ]
    },
    {
     "name": "stdout",
     "output_type": "stream",
     "text": [
      "[1] \"auc: 0.721868949128674\"\n",
      "[1] \"O/E 比率: 0.98171432656641\"\n",
      "[1] \"c_slope: 1.12514188463181\"\n",
      "[1] \"Brier 分数: 0.143946808279478\"\n"
     ]
    },
    {
     "name": "stderr",
     "output_type": "stream",
     "text": [
      "Setting levels: control = 0, case = 1\n",
      "\n",
      "Setting direction: controls < cases\n",
      "\n"
     ]
    },
    {
     "name": "stdout",
     "output_type": "stream",
     "text": [
      "[1] \"auc: 0.722104107991551\"\n",
      "[1] \"O/E 比率: 0.984226489671522\"\n",
      "[1] \"c_slope: 1.12154549767243\"\n",
      "[1] \"Brier 分数: 0.144028581188117\"\n"
     ]
    },
    {
     "name": "stderr",
     "output_type": "stream",
     "text": [
      "Setting levels: control = 0, case = 1\n",
      "\n",
      "Setting direction: controls < cases\n",
      "\n"
     ]
    },
    {
     "name": "stdout",
     "output_type": "stream",
     "text": [
      "[1] \"auc: 0.721632071268263\"\n",
      "[1] \"O/E 比率: 0.971497699750607\"\n",
      "[1] \"c_slope: 1.10191838759318\"\n",
      "[1] \"Brier 分数: 0.144057290266147\"\n"
     ]
    },
    {
     "name": "stderr",
     "output_type": "stream",
     "text": [
      "Setting levels: control = 0, case = 1\n",
      "\n",
      "Setting direction: controls < cases\n",
      "\n"
     ]
    },
    {
     "name": "stdout",
     "output_type": "stream",
     "text": [
      "[1] \"auc: 0.726631603700933\"\n",
      "[1] \"O/E 比率: 0.933687116113187\"\n",
      "[1] \"c_slope: 1.20802912592769\"\n",
      "[1] \"Brier 分数: 0.143458998849909\"\n"
     ]
    },
    {
     "name": "stderr",
     "output_type": "stream",
     "text": [
      "Setting levels: control = 0, case = 1\n",
      "\n",
      "Setting direction: controls < cases\n",
      "\n"
     ]
    },
    {
     "name": "stdout",
     "output_type": "stream",
     "text": [
      "[1] \"auc: 0.726766373107728\"\n",
      "[1] \"O/E 比率: 0.965658042532789\"\n",
      "[1] \"c_slope: 1.10670369213196\"\n",
      "[1] \"Brier 分数: 0.14301095327951\"\n"
     ]
    },
    {
     "name": "stderr",
     "output_type": "stream",
     "text": [
      "Setting levels: control = 0, case = 1\n",
      "\n",
      "Setting direction: controls < cases\n",
      "\n"
     ]
    },
    {
     "name": "stdout",
     "output_type": "stream",
     "text": [
      "[1] \"auc: 0.717633339200845\"\n",
      "[1] \"O/E 比率: 0.982048092286718\"\n",
      "[1] \"c_slope: 1.08326501151346\"\n",
      "[1] \"Brier 分数: 0.144414500775959\"\n"
     ]
    },
    {
     "name": "stderr",
     "output_type": "stream",
     "text": [
      "Setting levels: control = 0, case = 1\n",
      "\n",
      "Setting direction: controls < cases\n",
      "\n"
     ]
    },
    {
     "name": "stdout",
     "output_type": "stream",
     "text": [
      "[1] \"auc: 0.719434848618201\"\n",
      "[1] \"O/E 比率: 0.966796327183304\"\n",
      "[1] \"c_slope: 1.09061578905739\"\n",
      "[1] \"Brier 分数: 0.143998977097288\"\n"
     ]
    },
    {
     "name": "stderr",
     "output_type": "stream",
     "text": [
      "Setting levels: control = 0, case = 1\n",
      "\n",
      "Setting direction: controls < cases\n",
      "\n"
     ]
    },
    {
     "name": "stdout",
     "output_type": "stream",
     "text": [
      "[1] \"auc: 0.721470829299419\"\n",
      "[1] \"O/E 比率: 0.954804869619862\"\n",
      "[1] \"c_slope: 1.13637112650705\"\n",
      "[1] \"Brier 分数: 0.144560907574692\"\n"
     ]
    },
    {
     "name": "stderr",
     "output_type": "stream",
     "text": [
      "Setting levels: control = 0, case = 1\n",
      "\n",
      "Setting direction: controls < cases\n",
      "\n"
     ]
    },
    {
     "name": "stdout",
     "output_type": "stream",
     "text": [
      "[1] \"auc: 0.721786093447456\"\n",
      "[1] \"O/E 比率: 0.979776848376777\"\n",
      "[1] \"c_slope: 1.1036640994083\"\n",
      "[1] \"Brier 分数: 0.143916516287532\"\n"
     ]
    },
    {
     "name": "stderr",
     "output_type": "stream",
     "text": [
      "Setting levels: control = 0, case = 1\n",
      "\n",
      "Setting direction: controls < cases\n",
      "\n"
     ]
    },
    {
     "name": "stdout",
     "output_type": "stream",
     "text": [
      "[1] \"auc: 0.721431979955114\"\n",
      "[1] \"O/E 比率: 0.993880356324474\"\n",
      "[1] \"c_slope: 1.18285102437216\"\n",
      "[1] \"Brier 分数: 0.144486246130171\"\n"
     ]
    },
    {
     "name": "stderr",
     "output_type": "stream",
     "text": [
      "Setting levels: control = 0, case = 1\n",
      "\n",
      "Setting direction: controls < cases\n",
      "\n"
     ]
    },
    {
     "name": "stdout",
     "output_type": "stream",
     "text": [
      "[1] \"auc: 0.725570294622426\"\n",
      "[1] \"O/E 比率: 0.986178105635244\"\n",
      "[1] \"c_slope: 1.09272012506041\"\n",
      "[1] \"Brier 分数: 0.143460568820262\"\n"
     ]
    },
    {
     "name": "stderr",
     "output_type": "stream",
     "text": [
      "Setting levels: control = 0, case = 1\n",
      "\n",
      "Setting direction: controls < cases\n",
      "\n"
     ]
    },
    {
     "name": "stdout",
     "output_type": "stream",
     "text": [
      "[1] \"auc: 0.72378184958634\"\n",
      "[1] \"O/E 比率: 0.945912266715358\"\n",
      "[1] \"c_slope: 1.09601755267935\"\n",
      "[1] \"Brier 分数: 0.143870915207078\"\n"
     ]
    },
    {
     "name": "stderr",
     "output_type": "stream",
     "text": [
      "Setting levels: control = 0, case = 1\n",
      "\n",
      "Setting direction: controls < cases\n",
      "\n"
     ]
    },
    {
     "name": "stdout",
     "output_type": "stream",
     "text": [
      "[1] \"auc: 0.724066515578243\"\n",
      "[1] \"O/E 比率: 0.954440458311\"\n",
      "[1] \"c_slope: 1.13379680759182\"\n",
      "[1] \"Brier 分数: 0.143620199133568\"\n"
     ]
    },
    {
     "name": "stderr",
     "output_type": "stream",
     "text": [
      "Setting levels: control = 0, case = 1\n",
      "\n",
      "Setting direction: controls < cases\n",
      "\n"
     ]
    },
    {
     "name": "stdout",
     "output_type": "stream",
     "text": [
      "[1] \"auc: 0.720778760891568\"\n",
      "[1] \"O/E 比率: 0.995783631057585\"\n",
      "[1] \"c_slope: 1.00922329313305\"\n",
      "[1] \"Brier 分数: 0.144559706346384\"\n"
     ]
    },
    {
     "name": "stderr",
     "output_type": "stream",
     "text": [
      "Setting levels: control = 0, case = 1\n",
      "\n",
      "Setting direction: controls < cases\n",
      "\n"
     ]
    },
    {
     "name": "stdout",
     "output_type": "stream",
     "text": [
      "[1] \"auc: 0.721362188655166\"\n",
      "[1] \"O/E 比率: 0.964684836321888\"\n",
      "[1] \"c_slope: 1.07421259150003\"\n",
      "[1] \"Brier 分数: 0.143552240628472\"\n"
     ]
    },
    {
     "name": "stderr",
     "output_type": "stream",
     "text": [
      "Setting levels: control = 0, case = 1\n",
      "\n",
      "Setting direction: controls < cases\n",
      "\n"
     ]
    },
    {
     "name": "stdout",
     "output_type": "stream",
     "text": [
      "[1] \"auc: 0.722178712484598\"\n",
      "[1] \"O/E 比率: 0.979327582156687\"\n",
      "[1] \"c_slope: 1.06928405115919\"\n",
      "[1] \"Brier 分数: 0.144296876112847\"\n"
     ]
    },
    {
     "name": "stderr",
     "output_type": "stream",
     "text": [
      "Setting levels: control = 0, case = 1\n",
      "\n",
      "Setting direction: controls < cases\n",
      "\n"
     ]
    },
    {
     "name": "stdout",
     "output_type": "stream",
     "text": [
      "[1] \"auc: 0.721693611380039\"\n",
      "[1] \"O/E 比率: 0.970848268977137\"\n",
      "[1] \"c_slope: 1.1046293257825\"\n",
      "[1] \"Brier 分数: 0.144215349572758\"\n"
     ]
    },
    {
     "name": "stderr",
     "output_type": "stream",
     "text": [
      "Setting levels: control = 0, case = 1\n",
      "\n",
      "Setting direction: controls < cases\n",
      "\n"
     ]
    },
    {
     "name": "stdout",
     "output_type": "stream",
     "text": [
      "[1] \"auc: 0.726341780716423\"\n",
      "[1] \"O/E 比率: 0.958826197021076\"\n",
      "[1] \"c_slope: 1.1061661879499\"\n",
      "[1] \"Brier 分数: 0.143598757316859\"\n"
     ]
    },
    {
     "name": "stderr",
     "output_type": "stream",
     "text": [
      "Setting levels: control = 0, case = 1\n",
      "\n",
      "Setting direction: controls < cases\n",
      "\n"
     ]
    },
    {
     "name": "stdout",
     "output_type": "stream",
     "text": [
      "[1] \"auc: 0.72453752090301\"\n",
      "[1] \"O/E 比率: 0.964100898233478\"\n",
      "[1] \"c_slope: 1.1115075423173\"\n",
      "[1] \"Brier 分数: 0.143343911229186\"\n"
     ]
    },
    {
     "name": "stderr",
     "output_type": "stream",
     "text": [
      "Setting levels: control = 0, case = 1\n",
      "\n",
      "Setting direction: controls < cases\n",
      "\n"
     ]
    },
    {
     "name": "stdout",
     "output_type": "stream",
     "text": [
      "[1] \"auc: 0.719052199766766\"\n",
      "[1] \"O/E 比率: 0.990709928903955\"\n",
      "[1] \"c_slope: 1.06079229852796\"\n",
      "[1] \"Brier 分数: 0.14422781476466\"\n"
     ]
    },
    {
     "name": "stderr",
     "output_type": "stream",
     "text": [
      "Setting levels: control = 0, case = 1\n",
      "\n",
      "Setting direction: controls < cases\n",
      "\n"
     ]
    },
    {
     "name": "stdout",
     "output_type": "stream",
     "text": [
      "[1] \"auc: 0.723946529550255\"\n",
      "[1] \"O/E 比率: 0.968485657657189\"\n",
      "[1] \"c_slope: 1.10308339699885\"\n",
      "[1] \"Brier 分数: 0.144036343642215\"\n"
     ]
    },
    {
     "name": "stderr",
     "output_type": "stream",
     "text": [
      "Setting levels: control = 0, case = 1\n",
      "\n",
      "Setting direction: controls < cases\n",
      "\n"
     ]
    },
    {
     "name": "stdout",
     "output_type": "stream",
     "text": [
      "[1] \"auc: 0.723097344767647\"\n",
      "[1] \"O/E 比率: 0.979960084549002\"\n",
      "[1] \"c_slope: 1.09217782547645\"\n",
      "[1] \"Brier 分数: 0.143608528085848\"\n"
     ]
    },
    {
     "name": "stderr",
     "output_type": "stream",
     "text": [
      "Setting levels: control = 0, case = 1\n",
      "\n",
      "Setting direction: controls < cases\n",
      "\n"
     ]
    },
    {
     "name": "stdout",
     "output_type": "stream",
     "text": [
      "[1] \"auc: 0.722670345779792\"\n",
      "[1] \"O/E 比率: 0.933143952207051\"\n",
      "[1] \"c_slope: 1.09248997189207\"\n",
      "[1] \"Brier 分数: 0.143946590899254\"\n"
     ]
    },
    {
     "name": "stderr",
     "output_type": "stream",
     "text": [
      "Setting levels: control = 0, case = 1\n",
      "\n",
      "Setting direction: controls < cases\n",
      "\n"
     ]
    },
    {
     "name": "stdout",
     "output_type": "stream",
     "text": [
      "[1] \"auc: 0.722963262959866\"\n",
      "[1] \"O/E 比率: 0.983910992717688\"\n",
      "[1] \"c_slope: 1.10001963173927\"\n",
      "[1] \"Brier 分数: 0.144142803513726\"\n"
     ]
    },
    {
     "name": "stderr",
     "output_type": "stream",
     "text": [
      "Setting levels: control = 0, case = 1\n",
      "\n",
      "Setting direction: controls < cases\n",
      "\n"
     ]
    },
    {
     "name": "stdout",
     "output_type": "stream",
     "text": [
      "[1] \"auc: 0.721031453529308\"\n",
      "[1] \"O/E 比率: 0.964502025677648\"\n",
      "[1] \"c_slope: 1.10834113898036\"\n",
      "[1] \"Brier 分数: 0.143990014922422\"\n"
     ]
    },
    {
     "name": "stderr",
     "output_type": "stream",
     "text": [
      "Setting levels: control = 0, case = 1\n",
      "\n",
      "Setting direction: controls < cases\n",
      "\n"
     ]
    },
    {
     "name": "stdout",
     "output_type": "stream",
     "text": [
      "[1] \"auc: 0.724614875792114\"\n",
      "[1] \"O/E 比率: 0.971764386759639\"\n",
      "[1] \"c_slope: 1.0904450534106\"\n",
      "[1] \"Brier 分数: 0.143800731261712\"\n"
     ]
    },
    {
     "name": "stderr",
     "output_type": "stream",
     "text": [
      "Setting levels: control = 0, case = 1\n",
      "\n",
      "Setting direction: controls < cases\n",
      "\n"
     ]
    },
    {
     "name": "stdout",
     "output_type": "stream",
     "text": [
      "[1] \"auc: 0.723919025589685\"\n",
      "[1] \"O/E 比率: 0.957762199905123\"\n",
      "[1] \"c_slope: 1.12706086686612\"\n",
      "[1] \"Brier 分数: 0.143127672236433\"\n"
     ]
    },
    {
     "name": "stderr",
     "output_type": "stream",
     "text": [
      "Setting levels: control = 0, case = 1\n",
      "\n",
      "Setting direction: controls < cases\n",
      "\n"
     ]
    },
    {
     "name": "stdout",
     "output_type": "stream",
     "text": [
      "[1] \"auc: 0.723913868597078\"\n",
      "[1] \"O/E 比率: 0.950217705106918\"\n",
      "[1] \"c_slope: 1.09134543024155\"\n",
      "[1] \"Brier 分数: 0.143723051183084\"\n"
     ]
    },
    {
     "name": "stderr",
     "output_type": "stream",
     "text": [
      "Setting levels: control = 0, case = 1\n",
      "\n",
      "Setting direction: controls < cases\n",
      "\n"
     ]
    },
    {
     "name": "stdout",
     "output_type": "stream",
     "text": [
      "[1] \"auc: 0.726244141656399\"\n",
      "[1] \"O/E 比率: 0.98315927171876\"\n",
      "[1] \"c_slope: 1.11647227554018\"\n",
      "[1] \"Brier 分数: 0.142934590494312\"\n"
     ]
    },
    {
     "name": "stderr",
     "output_type": "stream",
     "text": [
      "Setting levels: control = 0, case = 1\n",
      "\n",
      "Setting direction: controls < cases\n",
      "\n"
     ]
    },
    {
     "name": "stdout",
     "output_type": "stream",
     "text": [
      "[1] \"auc: 0.719714357617497\"\n",
      "[1] \"O/E 比率: 0.998637117742705\"\n",
      "[1] \"c_slope: 1.15291287927431\"\n",
      "[1] \"Brier 分数: 0.144774973591617\"\n"
     ]
    },
    {
     "name": "stderr",
     "output_type": "stream",
     "text": [
      "Setting levels: control = 0, case = 1\n",
      "\n",
      "Setting direction: controls < cases\n",
      "\n"
     ]
    },
    {
     "name": "stdout",
     "output_type": "stream",
     "text": [
      "[1] \"auc: 0.72067080784633\"\n",
      "[1] \"O/E 比率: 0.968532983766757\"\n",
      "[1] \"c_slope: 1.05286384192664\"\n",
      "[1] \"Brier 分数: 0.144330085032009\"\n"
     ]
    },
    {
     "name": "stderr",
     "output_type": "stream",
     "text": [
      "Setting levels: control = 0, case = 1\n",
      "\n",
      "Setting direction: controls < cases\n",
      "\n"
     ]
    },
    {
     "name": "stdout",
     "output_type": "stream",
     "text": [
      "[1] \"auc: 0.722062164451681\"\n",
      "[1] \"O/E 比率: 0.971604868185679\"\n",
      "[1] \"c_slope: 1.10508427678688\"\n",
      "[1] \"Brier 分数: 0.144005112088059\"\n"
     ]
    },
    {
     "name": "stderr",
     "output_type": "stream",
     "text": [
      "Setting levels: control = 0, case = 1\n",
      "\n",
      "Setting direction: controls < cases\n",
      "\n"
     ]
    },
    {
     "name": "stdout",
     "output_type": "stream",
     "text": [
      "[1] \"auc: 0.723761909214927\"\n",
      "[1] \"O/E 比率: 0.953597601994988\"\n",
      "[1] \"c_slope: 1.08299709191891\"\n",
      "[1] \"Brier 分数: 0.14394022913563\"\n"
     ]
    },
    {
     "name": "stderr",
     "output_type": "stream",
     "text": [
      "Setting levels: control = 0, case = 1\n",
      "\n",
      "Setting direction: controls < cases\n",
      "\n"
     ]
    },
    {
     "name": "stdout",
     "output_type": "stream",
     "text": [
      "[1] \"auc: 0.723078779594262\"\n",
      "[1] \"O/E 比率: 0.971290030572883\"\n",
      "[1] \"c_slope: 1.07767966088073\"\n",
      "[1] \"Brier 分数: 0.143742033376788\"\n"
     ]
    },
    {
     "name": "stderr",
     "output_type": "stream",
     "text": [
      "Setting levels: control = 0, case = 1\n",
      "\n",
      "Setting direction: controls < cases\n",
      "\n"
     ]
    },
    {
     "name": "stdout",
     "output_type": "stream",
     "text": [
      "[1] \"auc: 0.719427628828551\"\n",
      "[1] \"O/E 比率: 1.0166791528847\"\n",
      "[1] \"c_slope: 1.12318505969327\"\n",
      "[1] \"Brier 分数: 0.144344736808786\"\n"
     ]
    },
    {
     "name": "stderr",
     "output_type": "stream",
     "text": [
      "Setting levels: control = 0, case = 1\n",
      "\n",
      "Setting direction: controls < cases\n",
      "\n"
     ]
    },
    {
     "name": "stdout",
     "output_type": "stream",
     "text": [
      "[1] \"auc: 0.723006925497272\"\n",
      "[1] \"O/E 比率: 1.00044583844082\"\n",
      "[1] \"c_slope: 1.07271979763613\"\n",
      "[1] \"Brier 分数: 0.14378306213632\"\n"
     ]
    },
    {
     "name": "stderr",
     "output_type": "stream",
     "text": [
      "Setting levels: control = 0, case = 1\n",
      "\n",
      "Setting direction: controls < cases\n",
      "\n"
     ]
    },
    {
     "name": "stdout",
     "output_type": "stream",
     "text": [
      "[1] \"auc: 0.718865172834888\"\n",
      "[1] \"O/E 比率: 0.987395829142233\"\n",
      "[1] \"c_slope: 1.09614780735269\"\n",
      "[1] \"Brier 分数: 0.143779984784771\"\n"
     ]
    },
    {
     "name": "stderr",
     "output_type": "stream",
     "text": [
      "Setting levels: control = 0, case = 1\n",
      "\n",
      "Setting direction: controls < cases\n",
      "\n"
     ]
    },
    {
     "name": "stdout",
     "output_type": "stream",
     "text": [
      "[1] \"auc: 0.722422810134659\"\n",
      "[1] \"O/E 比率: 0.950950039457232\"\n",
      "[1] \"c_slope: 1.18080927314323\"\n",
      "[1] \"Brier 分数: 0.143673555625488\"\n"
     ]
    },
    {
     "name": "stderr",
     "output_type": "stream",
     "text": [
      "Setting levels: control = 0, case = 1\n",
      "\n",
      "Setting direction: controls < cases\n",
      "\n"
     ]
    },
    {
     "name": "stdout",
     "output_type": "stream",
     "text": [
      "[1] \"auc: 0.71988522597254\"\n",
      "[1] \"O/E 比率: 1.01780268003346\"\n",
      "[1] \"c_slope: 1.17039882094006\"\n",
      "[1] \"Brier 分数: 0.144368166979475\"\n"
     ]
    },
    {
     "name": "stderr",
     "output_type": "stream",
     "text": [
      "Setting levels: control = 0, case = 1\n",
      "\n",
      "Setting direction: controls < cases\n",
      "\n"
     ]
    },
    {
     "name": "stdout",
     "output_type": "stream",
     "text": [
      "[1] \"auc: 0.722257786371237\"\n",
      "[1] \"O/E 比率: 0.949520062469027\"\n",
      "[1] \"c_slope: 1.13601548718558\"\n",
      "[1] \"Brier 分数: 0.144149534195122\"\n"
     ]
    },
    {
     "name": "stderr",
     "output_type": "stream",
     "text": [
      "Setting levels: control = 0, case = 1\n",
      "\n",
      "Setting direction: controls < cases\n",
      "\n"
     ]
    },
    {
     "name": "stdout",
     "output_type": "stream",
     "text": [
      "[1] \"auc: 0.725091381908995\"\n",
      "[1] \"O/E 比率: 0.955996974082726\"\n",
      "[1] \"c_slope: 1.09731365375521\"\n",
      "[1] \"Brier 分数: 0.144418441705422\"\n"
     ]
    },
    {
     "name": "stderr",
     "output_type": "stream",
     "text": [
      "Setting levels: control = 0, case = 1\n",
      "\n",
      "Setting direction: controls < cases\n",
      "\n"
     ]
    },
    {
     "name": "stdout",
     "output_type": "stream",
     "text": [
      "[1] \"auc: 0.720327352138708\"\n",
      "[1] \"O/E 比率: 0.988779328096872\"\n",
      "[1] \"c_slope: 1.0391262675143\"\n",
      "[1] \"Brier 分数: 0.144022651794094\"\n"
     ]
    },
    {
     "name": "stderr",
     "output_type": "stream",
     "text": [
      "Setting levels: control = 0, case = 1\n",
      "\n",
      "Setting direction: controls < cases\n",
      "\n"
     ]
    },
    {
     "name": "stdout",
     "output_type": "stream",
     "text": [
      "[1] \"auc: 0.716109275985742\"\n",
      "[1] \"O/E 比率: 1.01109189177692\"\n",
      "[1] \"c_slope: 1.05081802384006\"\n",
      "[1] \"Brier 分数: 0.145027307766113\"\n"
     ]
    },
    {
     "name": "stderr",
     "output_type": "stream",
     "text": [
      "Setting levels: control = 0, case = 1\n",
      "\n",
      "Setting direction: controls < cases\n",
      "\n"
     ]
    },
    {
     "name": "stdout",
     "output_type": "stream",
     "text": [
      "[1] \"auc: 0.722337891656399\"\n",
      "[1] \"O/E 比率: 1.02186182064229\"\n",
      "[1] \"c_slope: 1.10145817400692\"\n",
      "[1] \"Brier 分数: 0.143523381498773\"\n"
     ]
    },
    {
     "name": "stderr",
     "output_type": "stream",
     "text": [
      "Setting levels: control = 0, case = 1\n",
      "\n",
      "Setting direction: controls < cases\n",
      "\n"
     ]
    },
    {
     "name": "stdout",
     "output_type": "stream",
     "text": [
      "[1] \"auc: 0.717430497491639\"\n",
      "[1] \"O/E 比率: 0.972242242260959\"\n",
      "[1] \"c_slope: 1.09983233314766\"\n",
      "[1] \"Brier 分数: 0.144716074299823\"\n"
     ]
    },
    {
     "name": "stderr",
     "output_type": "stream",
     "text": [
      "Setting levels: control = 0, case = 1\n",
      "\n",
      "Setting direction: controls < cases\n",
      "\n"
     ]
    },
    {
     "name": "stdout",
     "output_type": "stream",
     "text": [
      "[1] \"auc: 0.724390718513466\"\n",
      "[1] \"O/E 比率: 0.984817937183998\"\n",
      "[1] \"c_slope: 1.09910789979228\"\n",
      "[1] \"Brier 分数: 0.143251209667633\"\n"
     ]
    },
    {
     "name": "stderr",
     "output_type": "stream",
     "text": [
      "Setting levels: control = 0, case = 1\n",
      "\n",
      "Setting direction: controls < cases\n",
      "\n"
     ]
    },
    {
     "name": "stdout",
     "output_type": "stream",
     "text": [
      "[1] \"auc: 0.721686391590389\"\n",
      "[1] \"O/E 比率: 0.972869813994899\"\n",
      "[1] \"c_slope: 1.0910122767604\"\n",
      "[1] \"Brier 分数: 0.143686866017067\"\n"
     ]
    },
    {
     "name": "stderr",
     "output_type": "stream",
     "text": [
      "Setting levels: control = 0, case = 1\n",
      "\n",
      "Setting direction: controls < cases\n",
      "\n"
     ]
    },
    {
     "name": "stdout",
     "output_type": "stream",
     "text": [
      "[1] \"auc: 0.721208166475973\"\n",
      "[1] \"O/E 比率: 0.991208235689657\"\n",
      "[1] \"c_slope: 1.05634665329134\"\n",
      "[1] \"Brier 分数: 0.144178689718988\"\n"
     ]
    },
    {
     "name": "stderr",
     "output_type": "stream",
     "text": [
      "Setting levels: control = 0, case = 1\n",
      "\n",
      "Setting direction: controls < cases\n",
      "\n"
     ]
    },
    {
     "name": "stdout",
     "output_type": "stream",
     "text": [
      "[1] \"auc: 0.7206983118069\"\n",
      "[1] \"O/E 比率: 0.986629158936182\"\n",
      "[1] \"c_slope: 1.07772423640016\"\n",
      "[1] \"Brier 分数: 0.144021263106501\"\n"
     ]
    },
    {
     "name": "stderr",
     "output_type": "stream",
     "text": [
      "Setting levels: control = 0, case = 1\n",
      "\n",
      "Setting direction: controls < cases\n",
      "\n"
     ]
    },
    {
     "name": "stdout",
     "output_type": "stream",
     "text": [
      "[1] \"auc: 0.720729597562049\"\n",
      "[1] \"O/E 比率: 0.931223148884104\"\n",
      "[1] \"c_slope: 1.12552657361797\"\n",
      "[1] \"Brier 分数: 0.143661691680317\"\n"
     ]
    },
    {
     "name": "stderr",
     "output_type": "stream",
     "text": [
      "Setting levels: control = 0, case = 1\n",
      "\n",
      "Setting direction: controls < cases\n",
      "\n"
     ]
    },
    {
     "name": "stdout",
     "output_type": "stream",
     "text": [
      "[1] \"auc: 0.723919025589685\"\n",
      "[1] \"O/E 比率: 0.960850679185062\"\n",
      "[1] \"c_slope: 1.11733874435227\"\n",
      "[1] \"Brier 分数: 0.14368218098412\"\n"
     ]
    },
    {
     "name": "stderr",
     "output_type": "stream",
     "text": [
      "Setting levels: control = 0, case = 1\n",
      "\n",
      "Setting direction: controls < cases\n",
      "\n"
     ]
    },
    {
     "name": "stdout",
     "output_type": "stream",
     "text": [
      "[1] \"auc: 0.717803863756381\"\n",
      "[1] \"O/E 比率: 0.962257126573741\"\n",
      "[1] \"c_slope: 1.09737782123907\"\n",
      "[1] \"Brier 分数: 0.145042383000072\"\n"
     ]
    },
    {
     "name": "stderr",
     "output_type": "stream",
     "text": [
      "Setting levels: control = 0, case = 1\n",
      "\n",
      "Setting direction: controls < cases\n",
      "\n"
     ]
    },
    {
     "name": "stdout",
     "output_type": "stream",
     "text": [
      "[1] \"auc: 0.720217336296427\"\n",
      "[1] \"O/E 比率: 0.995681367767755\"\n",
      "[1] \"c_slope: 1.08435033385543\"\n",
      "[1] \"Brier 分数: 0.143845379653872\"\n"
     ]
    },
    {
     "name": "stderr",
     "output_type": "stream",
     "text": [
      "Setting levels: control = 0, case = 1\n",
      "\n",
      "Setting direction: controls < cases\n",
      "\n"
     ]
    },
    {
     "name": "stdout",
     "output_type": "stream",
     "text": [
      "[1] \"auc: 0.721807752816406\"\n",
      "[1] \"O/E 比率: 0.966934215412155\"\n",
      "[1] \"c_slope: 1.10418479935728\"\n",
      "[1] \"Brier 分数: 0.143762426604155\"\n"
     ]
    },
    {
     "name": "stderr",
     "output_type": "stream",
     "text": [
      "Setting levels: control = 0, case = 1\n",
      "\n",
      "Setting direction: controls < cases\n",
      "\n"
     ]
    },
    {
     "name": "stdout",
     "output_type": "stream",
     "text": [
      "[1] \"auc: 0.723548065921493\"\n",
      "[1] \"O/E 比率: 0.992200778323743\"\n",
      "[1] \"c_slope: 1.13426499410343\"\n",
      "[1] \"Brier 分数: 0.144483379813236\"\n"
     ]
    },
    {
     "name": "stderr",
     "output_type": "stream",
     "text": [
      "Setting levels: control = 0, case = 1\n",
      "\n",
      "Setting direction: controls < cases\n",
      "\n"
     ]
    },
    {
     "name": "stdout",
     "output_type": "stream",
     "text": [
      "[1] \"auc: 0.721616944089949\"\n",
      "[1] \"O/E 比率: 0.983544449564356\"\n",
      "[1] \"c_slope: 1.06063801209867\"\n",
      "[1] \"Brier 分数: 0.143934916459331\"\n"
     ]
    },
    {
     "name": "stderr",
     "output_type": "stream",
     "text": [
      "Setting levels: control = 0, case = 1\n",
      "\n",
      "Setting direction: controls < cases\n",
      "\n"
     ]
    },
    {
     "name": "stdout",
     "output_type": "stream",
     "text": [
      "[1] \"auc: 0.72188510770551\"\n",
      "[1] \"O/E 比率: 0.974904972188029\"\n",
      "[1] \"c_slope: 1.12706253892346\"\n",
      "[1] \"Brier 分数: 0.143817672327474\"\n"
     ]
    },
    {
     "name": "stderr",
     "output_type": "stream",
     "text": [
      "Setting levels: control = 0, case = 1\n",
      "\n",
      "Setting direction: controls < cases\n",
      "\n"
     ]
    },
    {
     "name": "stdout",
     "output_type": "stream",
     "text": [
      "[1] \"auc: 0.721312337726633\"\n",
      "[1] \"O/E 比率: 0.962673364097149\"\n",
      "[1] \"c_slope: 1.10096609828485\"\n",
      "[1] \"Brier 分数: 0.143821039163661\"\n"
     ]
    },
    {
     "name": "stderr",
     "output_type": "stream",
     "text": [
      "Setting levels: control = 0, case = 1\n",
      "\n",
      "Setting direction: controls < cases\n",
      "\n"
     ]
    },
    {
     "name": "stdout",
     "output_type": "stream",
     "text": [
      "[1] \"auc: 0.724415815877486\"\n",
      "[1] \"O/E 比率: 0.973162631656524\"\n",
      "[1] \"c_slope: 1.16482721204204\"\n",
      "[1] \"Brier 分数: 0.143291497403754\"\n"
     ]
    },
    {
     "name": "stderr",
     "output_type": "stream",
     "text": [
      "Setting levels: control = 0, case = 1\n",
      "\n",
      "Setting direction: controls < cases\n",
      "\n"
     ]
    },
    {
     "name": "stdout",
     "output_type": "stream",
     "text": [
      "[1] \"auc: 0.717143081103679\"\n",
      "[1] \"O/E 比率: 0.995161200975601\"\n",
      "[1] \"c_slope: 1.02504780318312\"\n",
      "[1] \"Brier 分数: 0.144726014211892\"\n"
     ]
    },
    {
     "name": "stderr",
     "output_type": "stream",
     "text": [
      "Setting levels: control = 0, case = 1\n",
      "\n",
      "Setting direction: controls < cases\n",
      "\n"
     ]
    },
    {
     "name": "stdout",
     "output_type": "stream",
     "text": [
      "[1] \"auc: 0.721415477578771\"\n",
      "[1] \"O/E 比率: 0.97333475307964\"\n",
      "[1] \"c_slope: 1.01579301318922\"\n",
      "[1] \"Brier 分数: 0.143965950292306\"\n"
     ]
    },
    {
     "name": "stderr",
     "output_type": "stream",
     "text": [
      "Setting levels: control = 0, case = 1\n",
      "\n",
      "Setting direction: controls < cases\n",
      "\n"
     ]
    },
    {
     "name": "stdout",
     "output_type": "stream",
     "text": [
      "[1] \"auc: 0.726419823204541\"\n",
      "[1] \"O/E 比率: 0.970259362770979\"\n",
      "[1] \"c_slope: 1.14409332298709\"\n",
      "[1] \"Brier 分数: 0.143177490182672\"\n"
     ]
    },
    {
     "name": "stderr",
     "output_type": "stream",
     "text": [
      "Setting levels: control = 0, case = 1\n",
      "\n",
      "Setting direction: controls < cases\n",
      "\n"
     ]
    },
    {
     "name": "stdout",
     "output_type": "stream",
     "text": [
      "[1] \"auc: 0.726602724542334\"\n",
      "[1] \"O/E 比率: 0.993974679298775\"\n",
      "[1] \"c_slope: 1.11114958151072\"\n",
      "[1] \"Brier 分数: 0.143228944497803\"\n"
     ]
    },
    {
     "name": "stderr",
     "output_type": "stream",
     "text": [
      "Setting levels: control = 0, case = 1\n",
      "\n",
      "Setting direction: controls < cases\n",
      "\n"
     ]
    },
    {
     "name": "stdout",
     "output_type": "stream",
     "text": [
      "[1] \"auc: 0.720989166189931\"\n",
      "[1] \"O/E 比率: 0.980062884364589\"\n",
      "[1] \"c_slope: 1.09177533090278\"\n",
      "[1] \"Brier 分数: 0.144104781791484\"\n"
     ]
    },
    {
     "name": "stderr",
     "output_type": "stream",
     "text": [
      "Setting levels: control = 0, case = 1\n",
      "\n",
      "Setting direction: controls < cases\n",
      "\n"
     ]
    },
    {
     "name": "stdout",
     "output_type": "stream",
     "text": [
      "[1] \"auc: 0.718081309958634\"\n",
      "[1] \"O/E 比率: 0.972791588374736\"\n",
      "[1] \"c_slope: 1.13789787573747\"\n",
      "[1] \"Brier 分数: 0.144910900232194\"\n"
     ]
    },
    {
     "name": "stderr",
     "output_type": "stream",
     "text": [
      "Setting levels: control = 0, case = 1\n",
      "\n",
      "Setting direction: controls < cases\n",
      "\n"
     ]
    },
    {
     "name": "stdout",
     "output_type": "stream",
     "text": [
      "[1] \"auc: 0.721289990758669\"\n",
      "[1] \"O/E 比率: 0.970839947393948\"\n",
      "[1] \"c_slope: 1.14865129733797\"\n",
      "[1] \"Brier 分数: 0.143605819060748\"\n"
     ]
    },
    {
     "name": "stderr",
     "output_type": "stream",
     "text": [
      "Setting levels: control = 0, case = 1\n",
      "\n",
      "Setting direction: controls < cases\n",
      "\n"
     ]
    },
    {
     "name": "stdout",
     "output_type": "stream",
     "text": [
      "[1] \"auc: 0.722525262387784\"\n",
      "[1] \"O/E 比率: 0.960170854898036\"\n",
      "[1] \"c_slope: 1.09769386974996\"\n",
      "[1] \"Brier 分数: 0.143828724573246\"\n"
     ]
    },
    {
     "name": "stderr",
     "output_type": "stream",
     "text": [
      "Setting levels: control = 0, case = 1\n",
      "\n",
      "Setting direction: controls < cases\n",
      "\n"
     ]
    },
    {
     "name": "stdout",
     "output_type": "stream",
     "text": [
      "[1] \"auc: 0.720342135517515\"\n",
      "[1] \"O/E 比率: 0.997222939668843\"\n",
      "[1] \"c_slope: 1.09167065327159\"\n",
      "[1] \"Brier 分数: 0.144713759029681\"\n"
     ]
    },
    {
     "name": "stderr",
     "output_type": "stream",
     "text": [
      "Setting levels: control = 0, case = 1\n",
      "\n",
      "Setting direction: controls < cases\n",
      "\n"
     ]
    },
    {
     "name": "stdout",
     "output_type": "stream",
     "text": [
      "[1] \"auc: 0.719345460746347\"\n",
      "[1] \"O/E 比率: 1.01354883520057\"\n",
      "[1] \"c_slope: 1.11898432263647\"\n",
      "[1] \"Brier 分数: 0.143831720637061\"\n"
     ]
    },
    {
     "name": "stderr",
     "output_type": "stream",
     "text": [
      "Setting levels: control = 0, case = 1\n",
      "\n",
      "Setting direction: controls < cases\n",
      "\n"
     ]
    },
    {
     "name": "stdout",
     "output_type": "stream",
     "text": [
      "[1] \"auc: 0.721901266282345\"\n",
      "[1] \"O/E 比率: 0.958355120610869\"\n",
      "[1] \"c_slope: 1.12005476430609\"\n",
      "[1] \"Brier 分数: 0.144176246208673\"\n"
     ]
    },
    {
     "name": "stderr",
     "output_type": "stream",
     "text": [
      "Setting levels: control = 0, case = 1\n",
      "\n",
      "Setting direction: controls < cases\n",
      "\n"
     ]
    },
    {
     "name": "stdout",
     "output_type": "stream",
     "text": [
      "[1] \"auc: 0.724001881270903\"\n",
      "[1] \"O/E 比率: 0.955553861047696\"\n",
      "[1] \"c_slope: 1.12154264035687\"\n",
      "[1] \"Brier 分数: 0.143227033558356\"\n"
     ]
    },
    {
     "name": "stderr",
     "output_type": "stream",
     "text": [
      "Setting levels: control = 0, case = 1\n",
      "\n",
      "Setting direction: controls < cases\n",
      "\n"
     ]
    },
    {
     "name": "stdout",
     "output_type": "stream",
     "text": [
      "[1] \"auc: 0.717718257679106\"\n",
      "[1] \"O/E 比率: 1.01619324015135\"\n",
      "[1] \"c_slope: 1.08100420957064\"\n",
      "[1] \"Brier 分数: 0.144835163517039\"\n"
     ]
    },
    {
     "name": "stderr",
     "output_type": "stream",
     "text": [
      "Setting levels: control = 0, case = 1\n",
      "\n",
      "Setting direction: controls < cases\n",
      "\n"
     ]
    },
    {
     "name": "stdout",
     "output_type": "stream",
     "text": [
      "[1] \"auc: 0.7214216659699\"\n",
      "[1] \"O/E 比率: 0.984886316551496\"\n",
      "[1] \"c_slope: 1.09905249901222\"\n",
      "[1] \"Brier 分数: 0.144270601434336\"\n"
     ]
    },
    {
     "name": "stderr",
     "output_type": "stream",
     "text": [
      "Setting levels: control = 0, case = 1\n",
      "\n",
      "Setting direction: controls < cases\n",
      "\n"
     ]
    },
    {
     "name": "stdout",
     "output_type": "stream",
     "text": [
      "[1] \"auc: 0.722183525677698\"\n",
      "[1] \"O/E 比率: 0.937796934279537\"\n",
      "[1] \"c_slope: 1.09551457616283\"\n",
      "[1] \"Brier 分数: 0.143790329899536\"\n"
     ]
    },
    {
     "name": "stderr",
     "output_type": "stream",
     "text": [
      "Setting levels: control = 0, case = 1\n",
      "\n",
      "Setting direction: controls < cases\n",
      "\n"
     ]
    },
    {
     "name": "stdout",
     "output_type": "stream",
     "text": [
      "[1] \"auc: 0.720332509131315\"\n",
      "[1] \"O/E 比率: 0.972935475974583\"\n",
      "[1] \"c_slope: 1.17360948109606\"\n",
      "[1] \"Brier 分数: 0.144312348226693\"\n"
     ]
    },
    {
     "name": "stderr",
     "output_type": "stream",
     "text": [
      "Setting levels: control = 0, case = 1\n",
      "\n",
      "Setting direction: controls < cases\n",
      "\n"
     ]
    },
    {
     "name": "stdout",
     "output_type": "stream",
     "text": [
      "[1] \"auc: 0.720167485367893\"\n",
      "[1] \"O/E 比率: 0.980084384783807\"\n",
      "[1] \"c_slope: 1.02863859501251\"\n",
      "[1] \"Brier 分数: 0.144425554402052\"\n"
     ]
    },
    {
     "name": "stderr",
     "output_type": "stream",
     "text": [
      "Setting levels: control = 0, case = 1\n",
      "\n",
      "Setting direction: controls < cases\n",
      "\n"
     ]
    },
    {
     "name": "stdout",
     "output_type": "stream",
     "text": [
      "[1] \"auc: 0.723527781750572\"\n",
      "[1] \"O/E 比率: 0.995604838473157\"\n",
      "[1] \"c_slope: 1.08887770266609\"\n",
      "[1] \"Brier 分数: 0.144262720670879\"\n"
     ]
    },
    {
     "name": "stderr",
     "output_type": "stream",
     "text": [
      "Setting levels: control = 0, case = 1\n",
      "\n",
      "Setting direction: controls < cases\n",
      "\n"
     ]
    },
    {
     "name": "stdout",
     "output_type": "stream",
     "text": [
      "[1] \"auc: 0.720781855087133\"\n",
      "[1] \"O/E 比率: 0.94871565898631\"\n",
      "[1] \"c_slope: 1.10443339299537\"\n",
      "[1] \"Brier 分数: 0.144123963897136\"\n"
     ]
    },
    {
     "name": "stderr",
     "output_type": "stream",
     "text": [
      "Setting levels: control = 0, case = 1\n",
      "\n",
      "Setting direction: controls < cases\n",
      "\n"
     ]
    },
    {
     "name": "stdout",
     "output_type": "stream",
     "text": [
      "[1] \"auc: 0.722865967699349\"\n",
      "[1] \"O/E 比率: 0.977417318937874\"\n",
      "[1] \"c_slope: 1.0439439478488\"\n",
      "[1] \"Brier 分数: 0.143743638524746\"\n"
     ]
    },
    {
     "name": "stderr",
     "output_type": "stream",
     "text": [
      "Setting levels: control = 0, case = 1\n",
      "\n",
      "Setting direction: controls < cases\n",
      "\n"
     ]
    },
    {
     "name": "stdout",
     "output_type": "stream",
     "text": [
      "[1] \"auc: 0.71793932076219\"\n",
      "[1] \"O/E 比率: 0.9705207526741\"\n",
      "[1] \"c_slope: 1.18543430184154\"\n",
      "[1] \"Brier 分数: 0.144412326844823\"\n"
     ]
    },
    {
     "name": "stderr",
     "output_type": "stream",
     "text": [
      "Setting levels: control = 0, case = 1\n",
      "\n",
      "Setting direction: controls < cases\n",
      "\n"
     ]
    },
    {
     "name": "stdout",
     "output_type": "stream",
     "text": [
      "[1] \"auc: 0.722143644934871\"\n",
      "[1] \"O/E 比率: 0.932287853065789\"\n",
      "[1] \"c_slope: 1.14295386329479\"\n",
      "[1] \"Brier 分数: 0.144222240392864\"\n"
     ]
    },
    {
     "name": "stderr",
     "output_type": "stream",
     "text": [
      "Setting levels: control = 0, case = 1\n",
      "\n",
      "Setting direction: controls < cases\n",
      "\n"
     ]
    },
    {
     "name": "stdout",
     "output_type": "stream",
     "text": [
      "[1] \"auc: 0.717814865340609\"\n",
      "[1] \"O/E 比率: 0.974304939736023\"\n",
      "[1] \"c_slope: 1.14004310650598\"\n",
      "[1] \"Brier 分数: 0.144565047919808\"\n"
     ]
    },
    {
     "name": "stderr",
     "output_type": "stream",
     "text": [
      "Setting levels: control = 0, case = 1\n",
      "\n",
      "Setting direction: controls < cases\n",
      "\n"
     ]
    },
    {
     "name": "stdout",
     "output_type": "stream",
     "text": [
      "[1] \"auc: 0.722435530716423\"\n",
      "[1] \"O/E 比率: 0.991147121412027\"\n",
      "[1] \"c_slope: 1.18804813303559\"\n",
      "[1] \"Brier 分数: 0.143732169390592\"\n"
     ]
    },
    {
     "name": "stderr",
     "output_type": "stream",
     "text": [
      "Setting levels: control = 0, case = 1\n",
      "\n",
      "Setting direction: controls < cases\n",
      "\n"
     ]
    },
    {
     "name": "stdout",
     "output_type": "stream",
     "text": [
      "[1] \"auc: 0.724452602424749\"\n",
      "[1] \"O/E 比率: 0.96771942512591\"\n",
      "[1] \"c_slope: 1.11000620516995\"\n",
      "[1] \"Brier 分数: 0.143111291659755\"\n"
     ]
    },
    {
     "name": "stderr",
     "output_type": "stream",
     "text": [
      "Setting levels: control = 0, case = 1\n",
      "\n",
      "Setting direction: controls < cases\n",
      "\n"
     ]
    },
    {
     "name": "stdout",
     "output_type": "stream",
     "text": [
      "[1] \"auc: 0.724028353832952\"\n",
      "[1] \"O/E 比率: 0.966519165715525\"\n",
      "[1] \"c_slope: 1.120662311078\"\n",
      "[1] \"Brier 分数: 0.143475798645979\"\n"
     ]
    },
    {
     "name": "stderr",
     "output_type": "stream",
     "text": [
      "Setting levels: control = 0, case = 1\n",
      "\n",
      "Setting direction: controls < cases\n",
      "\n"
     ]
    },
    {
     "name": "stdout",
     "output_type": "stream",
     "text": [
      "[1] \"auc: 0.723883270440943\"\n",
      "[1] \"O/E 比率: 0.964904674889264\"\n",
      "[1] \"c_slope: 1.13422125000708\"\n",
      "[1] \"Brier 分数: 0.143511907452427\"\n"
     ]
    },
    {
     "name": "stderr",
     "output_type": "stream",
     "text": [
      "Setting levels: control = 0, case = 1\n",
      "\n",
      "Setting direction: controls < cases\n",
      "\n"
     ]
    },
    {
     "name": "stdout",
     "output_type": "stream",
     "text": [
      "[1] \"auc: 0.724095738536349\"\n",
      "[1] \"O/E 比率: 1.01109142565028\"\n",
      "[1] \"c_slope: 1.09790733737704\"\n",
      "[1] \"Brier 分数: 0.143763981068251\"\n"
     ]
    },
    {
     "name": "stderr",
     "output_type": "stream",
     "text": [
      "Setting levels: control = 0, case = 1\n",
      "\n",
      "Setting direction: controls < cases\n",
      "\n"
     ]
    },
    {
     "name": "stdout",
     "output_type": "stream",
     "text": [
      "[1] \"auc: 0.724331241198733\"\n",
      "[1] \"O/E 比率: 0.964658652145908\"\n",
      "[1] \"c_slope: 1.10655550426721\"\n",
      "[1] \"Brier 分数: 0.143775683774028\"\n"
     ]
    },
    {
     "name": "stderr",
     "output_type": "stream",
     "text": [
      "Setting levels: control = 0, case = 1\n",
      "\n",
      "Setting direction: controls < cases\n",
      "\n"
     ]
    },
    {
     "name": "stdout",
     "output_type": "stream",
     "text": [
      "[1] \"auc: 0.724004975466467\"\n",
      "[1] \"O/E 比率: 0.969575164460862\"\n",
      "[1] \"c_slope: 1.11723868201043\"\n",
      "[1] \"Brier 分数: 0.143532800560118\"\n"
     ]
    },
    {
     "name": "stderr",
     "output_type": "stream",
     "text": [
      "Setting levels: control = 0, case = 1\n",
      "\n",
      "Setting direction: controls < cases\n",
      "\n"
     ]
    },
    {
     "name": "stdout",
     "output_type": "stream",
     "text": [
      "[1] \"auc: 0.721120841401162\"\n",
      "[1] \"O/E 比率: 0.952683625500855\"\n",
      "[1] \"c_slope: 1.03762207898586\"\n",
      "[1] \"Brier 分数: 0.144182762056382\"\n"
     ]
    },
    {
     "name": "stderr",
     "output_type": "stream",
     "text": [
      "Setting levels: control = 0, case = 1\n",
      "\n",
      "Setting direction: controls < cases\n",
      "\n"
     ]
    },
    {
     "name": "stdout",
     "output_type": "stream",
     "text": [
      "[1] \"auc: 0.719885569772047\"\n",
      "[1] \"O/E 比率: 0.952089524244638\"\n",
      "[1] \"c_slope: 1.09596242850662\"\n",
      "[1] \"Brier 分数: 0.144124922359147\"\n"
     ]
    },
    {
     "name": "stderr",
     "output_type": "stream",
     "text": [
      "Setting levels: control = 0, case = 1\n",
      "\n",
      "Setting direction: controls < cases\n",
      "\n"
     ]
    },
    {
     "name": "stdout",
     "output_type": "stream",
     "text": [
      "[1] \"auc: 0.723325971439887\"\n",
      "[1] \"O/E 比率: 0.953285034561328\"\n",
      "[1] \"c_slope: 1.0911041840085\"\n",
      "[1] \"Brier 分数: 0.143454593551619\"\n"
     ]
    },
    {
     "name": "stderr",
     "output_type": "stream",
     "text": [
      "Setting levels: control = 0, case = 1\n",
      "\n",
      "Setting direction: controls < cases\n",
      "\n"
     ]
    },
    {
     "name": "stdout",
     "output_type": "stream",
     "text": [
      "[1] \"auc: 0.720543602028692\"\n",
      "[1] \"O/E 比率: 0.994852803514494\"\n",
      "[1] \"c_slope: 1.13415734921355\"\n",
      "[1] \"Brier 分数: 0.14406023272679\"\n"
     ]
    },
    {
     "name": "stderr",
     "output_type": "stream",
     "text": [
      "Setting levels: control = 0, case = 1\n",
      "\n",
      "Setting direction: controls < cases\n",
      "\n"
     ]
    },
    {
     "name": "stdout",
     "output_type": "stream",
     "text": [
      "[1] \"auc: 0.722539701967083\"\n",
      "[1] \"O/E 比率: 0.962169048798801\"\n",
      "[1] \"c_slope: 1.05383711778192\"\n",
      "[1] \"Brier 分数: 0.1435629554267\"\n"
     ]
    },
    {
     "name": "stderr",
     "output_type": "stream",
     "text": [
      "Setting levels: control = 0, case = 1\n",
      "\n",
      "Setting direction: controls < cases\n",
      "\n"
     ]
    },
    {
     "name": "stdout",
     "output_type": "stream",
     "text": [
      "[1] \"auc: 0.721325058308396\"\n",
      "[1] \"O/E 比率: 0.95477581337962\"\n",
      "[1] \"c_slope: 1.04983618374031\"\n",
      "[1] \"Brier 分数: 0.14424833051557\"\n"
     ]
    },
    {
     "name": "stderr",
     "output_type": "stream",
     "text": [
      "Setting levels: control = 0, case = 1\n",
      "\n",
      "Setting direction: controls < cases\n",
      "\n"
     ]
    },
    {
     "name": "stdout",
     "output_type": "stream",
     "text": [
      "[1] \"auc: 0.722395649973596\"\n",
      "[1] \"O/E 比率: 0.956841060177657\"\n",
      "[1] \"c_slope: 1.14327471953355\"\n",
      "[1] \"Brier 分数: 0.143768762863847\"\n"
     ]
    },
    {
     "name": "stderr",
     "output_type": "stream",
     "text": [
      "Setting levels: control = 0, case = 1\n",
      "\n",
      "Setting direction: controls < cases\n",
      "\n"
     ]
    },
    {
     "name": "stdout",
     "output_type": "stream",
     "text": [
      "[1] \"auc: 0.721124279396233\"\n",
      "[1] \"O/E 比率: 0.986654604212763\"\n",
      "[1] \"c_slope: 1.11079632907881\"\n",
      "[1] \"Brier 分数: 0.144555583695949\"\n"
     ]
    },
    {
     "name": "stderr",
     "output_type": "stream",
     "text": [
      "Setting levels: control = 0, case = 1\n",
      "\n",
      "Setting direction: controls < cases\n",
      "\n"
     ]
    },
    {
     "name": "stdout",
     "output_type": "stream",
     "text": [
      "[1] \"auc: 0.720846489394473\"\n",
      "[1] \"O/E 比率: 0.949811258399802\"\n",
      "[1] \"c_slope: 1.0720147337095\"\n",
      "[1] \"Brier 分数: 0.144187021116854\"\n"
     ]
    },
    {
     "name": "stderr",
     "output_type": "stream",
     "text": [
      "Setting levels: control = 0, case = 1\n",
      "\n",
      "Setting direction: controls < cases\n",
      "\n"
     ]
    },
    {
     "name": "stdout",
     "output_type": "stream",
     "text": [
      "[1] \"auc: 0.720451463760782\"\n",
      "[1] \"O/E 比率: 0.954582055381657\"\n",
      "[1] \"c_slope: 1.13063021505564\"\n",
      "[1] \"Brier 分数: 0.144310719595838\"\n"
     ]
    },
    {
     "name": "stderr",
     "output_type": "stream",
     "text": [
      "Setting levels: control = 0, case = 1\n",
      "\n",
      "Setting direction: controls < cases\n",
      "\n"
     ]
    },
    {
     "name": "stdout",
     "output_type": "stream",
     "text": [
      "[1] \"auc: 0.724538552301531\"\n",
      "[1] \"O/E 比率: 0.962695817792585\"\n",
      "[1] \"c_slope: 1.12113085962066\"\n",
      "[1] \"Brier 分数: 0.143289908013394\"\n"
     ]
    },
    {
     "name": "stderr",
     "output_type": "stream",
     "text": [
      "Setting levels: control = 0, case = 1\n",
      "\n",
      "Setting direction: controls < cases\n",
      "\n"
     ]
    },
    {
     "name": "stdout",
     "output_type": "stream",
     "text": [
      "[1] \"auc: 0.722997986710086\"\n",
      "[1] \"O/E 比率: 0.961116505793516\"\n",
      "[1] \"c_slope: 1.09317248036623\"\n",
      "[1] \"Brier 分数: 0.143184654256287\"\n"
     ]
    },
    {
     "name": "stderr",
     "output_type": "stream",
     "text": [
      "Setting levels: control = 0, case = 1\n",
      "\n",
      "Setting direction: controls < cases\n",
      "\n"
     ]
    },
    {
     "name": "stdout",
     "output_type": "stream",
     "text": [
      "[1] \"auc: 0.724473917994191\"\n",
      "[1] \"O/E 比率: 0.98246106175624\"\n",
      "[1] \"c_slope: 1.0764133061968\"\n",
      "[1] \"Brier 分数: 0.14406134576979\"\n"
     ]
    },
    {
     "name": "stderr",
     "output_type": "stream",
     "text": [
      "Setting levels: control = 0, case = 1\n",
      "\n",
      "Setting direction: controls < cases\n",
      "\n"
     ]
    },
    {
     "name": "stdout",
     "output_type": "stream",
     "text": [
      "[1] \"auc: 0.720992260385495\"\n",
      "[1] \"O/E 比率: 0.968089136397885\"\n",
      "[1] \"c_slope: 1.09631862788437\"\n",
      "[1] \"Brier 分数: 0.144090752496942\"\n"
     ]
    },
    {
     "name": "stderr",
     "output_type": "stream",
     "text": [
      "Setting levels: control = 0, case = 1\n",
      "\n",
      "Setting direction: controls < cases\n",
      "\n"
     ]
    },
    {
     "name": "stdout",
     "output_type": "stream",
     "text": [
      "[1] \"auc: 0.723258242936983\"\n",
      "[1] \"O/E 比率: 0.976615906488384\"\n",
      "[1] \"c_slope: 1.11647322994153\"\n",
      "[1] \"Brier 分数: 0.143523795232892\"\n"
     ]
    },
    {
     "name": "stderr",
     "output_type": "stream",
     "text": [
      "Setting levels: control = 0, case = 1\n",
      "\n",
      "Setting direction: controls < cases\n",
      "\n"
     ]
    },
    {
     "name": "stdout",
     "output_type": "stream",
     "text": [
      "[1] \"auc: 0.724374903736138\"\n",
      "[1] \"O/E 比率: 0.980605594065552\"\n",
      "[1] \"c_slope: 1.05580737371444\"\n",
      "[1] \"Brier 分数: 0.143906462574785\"\n"
     ]
    },
    {
     "name": "stderr",
     "output_type": "stream",
     "text": [
      "Setting levels: control = 0, case = 1\n",
      "\n",
      "Setting direction: controls < cases\n",
      "\n"
     ]
    },
    {
     "name": "stdout",
     "output_type": "stream",
     "text": [
      "[1] \"auc: 0.725052188765182\"\n",
      "[1] \"O/E 比率: 0.99343761701721\"\n",
      "[1] \"c_slope: 1.10528100321311\"\n",
      "[1] \"Brier 分数: 0.143972296837343\"\n"
     ]
    },
    {
     "name": "stderr",
     "output_type": "stream",
     "text": [
      "Setting levels: control = 0, case = 1\n",
      "\n",
      "Setting direction: controls < cases\n",
      "\n"
     ]
    },
    {
     "name": "stdout",
     "output_type": "stream",
     "text": [
      "[1] \"auc: 0.7239100868025\"\n",
      "[1] \"O/E 比率: 0.966715637311699\"\n",
      "[1] \"c_slope: 1.08023648583154\"\n",
      "[1] \"Brier 分数: 0.144026889194185\"\n"
     ]
    },
    {
     "name": "stderr",
     "output_type": "stream",
     "text": [
      "Setting levels: control = 0, case = 1\n",
      "\n",
      "Setting direction: controls < cases\n",
      "\n"
     ]
    },
    {
     "name": "stdout",
     "output_type": "stream",
     "text": [
      "[1] \"auc: 0.721687079189403\"\n",
      "[1] \"O/E 比率: 0.973334482823731\"\n",
      "[1] \"c_slope: 1.13133515827872\"\n",
      "[1] \"Brier 分数: 0.144170165039859\"\n"
     ]
    },
    {
     "name": "stderr",
     "output_type": "stream",
     "text": [
      "Setting levels: control = 0, case = 1\n",
      "\n",
      "Setting direction: controls < cases\n",
      "\n"
     ]
    },
    {
     "name": "stdout",
     "output_type": "stream",
     "text": [
      "[1] \"auc: 0.723024803071642\"\n",
      "[1] \"O/E 比率: 0.986157177192899\"\n",
      "[1] \"c_slope: 1.10431720164916\"\n",
      "[1] \"Brier 分数: 0.143729925873251\"\n"
     ]
    },
    {
     "name": "stderr",
     "output_type": "stream",
     "text": [
      "Setting levels: control = 0, case = 1\n",
      "\n",
      "Setting direction: controls < cases\n",
      "\n"
     ]
    },
    {
     "name": "stdout",
     "output_type": "stream",
     "text": [
      "[1] \"auc: 0.721144563567154\"\n",
      "[1] \"O/E 比率: 0.969035562833698\"\n",
      "[1] \"c_slope: 1.08119076555512\"\n",
      "[1] \"Brier 分数: 0.144037991197904\"\n"
     ]
    },
    {
     "name": "stderr",
     "output_type": "stream",
     "text": [
      "Setting levels: control = 0, case = 1\n",
      "\n",
      "Setting direction: controls < cases\n",
      "\n"
     ]
    },
    {
     "name": "stdout",
     "output_type": "stream",
     "text": [
      "[1] \"auc: 0.723649830575603\"\n",
      "[1] \"O/E 比率: 0.991951754096188\"\n",
      "[1] \"c_slope: 1.09170349503253\"\n",
      "[1] \"Brier 分数: 0.143936658347477\"\n"
     ]
    },
    {
     "name": "stderr",
     "output_type": "stream",
     "text": [
      "Setting levels: control = 0, case = 1\n",
      "\n",
      "Setting direction: controls < cases\n",
      "\n"
     ]
    },
    {
     "name": "stdout",
     "output_type": "stream",
     "text": [
      "[1] \"auc: 0.720418459008097\"\n",
      "[1] \"O/E 比率: 0.969272275262941\"\n",
      "[1] \"c_slope: 1.08304852055277\"\n",
      "[1] \"Brier 分数: 0.143535790539755\"\n"
     ]
    },
    {
     "name": "stderr",
     "output_type": "stream",
     "text": [
      "Setting levels: control = 0, case = 1\n",
      "\n",
      "Setting direction: controls < cases\n",
      "\n"
     ]
    },
    {
     "name": "stdout",
     "output_type": "stream",
     "text": [
      "[1] \"auc: 0.720387173252948\"\n",
      "[1] \"O/E 比率: 0.942501354006046\"\n",
      "[1] \"c_slope: 1.0499953302198\"\n",
      "[1] \"Brier 分数: 0.144166438979894\"\n"
     ]
    },
    {
     "name": "stderr",
     "output_type": "stream",
     "text": [
      "Setting levels: control = 0, case = 1\n",
      "\n",
      "Setting direction: controls < cases\n",
      "\n"
     ]
    },
    {
     "name": "stdout",
     "output_type": "stream",
     "text": [
      "[1] \"auc: 0.723102501760253\"\n",
      "[1] \"O/E 比率: 0.96349805531144\"\n",
      "[1] \"c_slope: 1.10058429770184\"\n",
      "[1] \"Brier 分数: 0.143580032611648\"\n"
     ]
    },
    {
     "name": "stderr",
     "output_type": "stream",
     "text": [
      "Setting levels: control = 0, case = 1\n",
      "\n",
      "Setting direction: controls < cases\n",
      "\n"
     ]
    },
    {
     "name": "stdout",
     "output_type": "stream",
     "text": [
      "[1] \"auc: 0.721216417664144\"\n",
      "[1] \"O/E 比率: 0.958491458953825\"\n",
      "[1] \"c_slope: 1.15255242539307\"\n",
      "[1] \"Brier 分数: 0.144167440208409\"\n"
     ]
    },
    {
     "name": "stderr",
     "output_type": "stream",
     "text": [
      "Setting levels: control = 0, case = 1\n",
      "\n",
      "Setting direction: controls < cases\n",
      "\n"
     ]
    },
    {
     "name": "stdout",
     "output_type": "stream",
     "text": [
      "[1] \"auc: 0.720082910689139\"\n",
      "[1] \"O/E 比率: 0.968706276711086\"\n",
      "[1] \"c_slope: 1.0939393755855\"\n",
      "[1] \"Brier 分数: 0.143899576716885\"\n"
     ]
    },
    {
     "name": "stderr",
     "output_type": "stream",
     "text": [
      "Setting levels: control = 0, case = 1\n",
      "\n",
      "Setting direction: controls < cases\n",
      "\n"
     ]
    },
    {
     "name": "stdout",
     "output_type": "stream",
     "text": [
      "[1] \"auc: 0.724403782894737\"\n",
      "[1] \"O/E 比率: 0.983763370491281\"\n",
      "[1] \"c_slope: 1.13023179831681\"\n",
      "[1] \"Brier 分数: 0.143727043159854\"\n"
     ]
    },
    {
     "name": "stderr",
     "output_type": "stream",
     "text": [
      "Setting levels: control = 0, case = 1\n",
      "\n",
      "Setting direction: controls < cases\n",
      "\n"
     ]
    },
    {
     "name": "stdout",
     "output_type": "stream",
     "text": [
      "[1] \"auc: 0.71672502090301\"\n",
      "[1] \"O/E 比率: 1.01692664621846\"\n",
      "[1] \"c_slope: 1.07112845293397\"\n",
      "[1] \"Brier 分数: 0.144351307313826\"\n"
     ]
    },
    {
     "name": "stderr",
     "output_type": "stream",
     "text": [
      "Setting levels: control = 0, case = 1\n",
      "\n",
      "Setting direction: controls < cases\n",
      "\n"
     ]
    },
    {
     "name": "stdout",
     "output_type": "stream",
     "text": [
      "[1] \"auc: 0.719126116660799\"\n",
      "[1] \"O/E 比率: 0.98356555052042\"\n",
      "[1] \"c_slope: 1.19507897237173\"\n",
      "[1] \"Brier 分数: 0.144425551750503\"\n"
     ]
    },
    {
     "name": "stderr",
     "output_type": "stream",
     "text": [
      "Setting levels: control = 0, case = 1\n",
      "\n",
      "Setting direction: controls < cases\n",
      "\n"
     ]
    },
    {
     "name": "stdout",
     "output_type": "stream",
     "text": [
      "[1] \"auc: 0.723881207643901\"\n",
      "[1] \"O/E 比率: 0.946098746524623\"\n",
      "[1] \"c_slope: 1.02989968411371\"\n",
      "[1] \"Brier 分数: 0.143962877863581\"\n"
     ]
    },
    {
     "name": "stderr",
     "output_type": "stream",
     "text": [
      "Setting levels: control = 0, case = 1\n",
      "\n",
      "Setting direction: controls < cases\n",
      "\n"
     ]
    },
    {
     "name": "stdout",
     "output_type": "stream",
     "text": [
      "[1] \"auc: 0.724790901139764\"\n",
      "[1] \"O/E 比率: 0.952842726535247\"\n",
      "[1] \"c_slope: 1.08173827143413\"\n",
      "[1] \"Brier 分数: 0.143994967143861\"\n"
     ]
    },
    {
     "name": "stderr",
     "output_type": "stream",
     "text": [
      "Setting levels: control = 0, case = 1\n",
      "\n",
      "Setting direction: controls < cases\n",
      "\n"
     ]
    },
    {
     "name": "stdout",
     "output_type": "stream",
     "text": [
      "[1] \"auc: 0.72273051069354\"\n",
      "[1] \"O/E 比率: 0.970802864731773\"\n",
      "[1] \"c_slope: 1.1082259249733\"\n",
      "[1] \"Brier 分数: 0.143729270287219\"\n"
     ]
    },
    {
     "name": "stderr",
     "output_type": "stream",
     "text": [
      "Setting levels: control = 0, case = 1\n",
      "\n",
      "Setting direction: controls < cases\n",
      "\n"
     ]
    },
    {
     "name": "stdout",
     "output_type": "stream",
     "text": [
      "[1] \"auc: 0.725077286129203\"\n",
      "[1] \"O/E 比率: 0.927170196643034\"\n",
      "[1] \"c_slope: 1.08623048542248\"\n",
      "[1] \"Brier 分数: 0.143434059818319\"\n"
     ]
    },
    {
     "name": "stderr",
     "output_type": "stream",
     "text": [
      "Setting levels: control = 0, case = 1\n",
      "\n",
      "Setting direction: controls < cases\n",
      "\n"
     ]
    },
    {
     "name": "stdout",
     "output_type": "stream",
     "text": [
      "[1] \"auc: 0.724759959184123\"\n",
      "[1] \"O/E 比率: 0.956131542185345\"\n",
      "[1] \"c_slope: 1.1623749326384\"\n",
      "[1] \"Brier 分数: 0.143695488649495\"\n"
     ]
    },
    {
     "name": "stderr",
     "output_type": "stream",
     "text": [
      "Setting levels: control = 0, case = 1\n",
      "\n",
      "Setting direction: controls < cases\n",
      "\n"
     ]
    },
    {
     "name": "stdout",
     "output_type": "stream",
     "text": [
      "[1] \"auc: 0.719079016128322\"\n",
      "[1] \"O/E 比率: 0.981367406813202\"\n",
      "[1] \"c_slope: 1.09317859041659\"\n",
      "[1] \"Brier 分数: 0.144094238014553\"\n"
     ]
    },
    {
     "name": "stderr",
     "output_type": "stream",
     "text": [
      "Setting levels: control = 0, case = 1\n",
      "\n",
      "Setting direction: controls < cases\n",
      "\n"
     ]
    },
    {
     "name": "stdout",
     "output_type": "stream",
     "text": [
      "[1] \"auc: 0.722504978216863\"\n",
      "[1] \"O/E 比率: 0.978367511563922\"\n",
      "[1] \"c_slope: 1.08962865726167\"\n",
      "[1] \"Brier 分数: 0.143472221700376\"\n"
     ]
    },
    {
     "name": "stderr",
     "output_type": "stream",
     "text": [
      "Setting levels: control = 0, case = 1\n",
      "\n",
      "Setting direction: controls < cases\n",
      "\n"
     ]
    },
    {
     "name": "stdout",
     "output_type": "stream",
     "text": [
      "[1] \"auc: 0.720484812312973\"\n",
      "[1] \"O/E 比率: 0.957175994480583\"\n",
      "[1] \"c_slope: 1.21863962869454\"\n",
      "[1] \"Brier 分数: 0.14440420130986\"\n"
     ]
    },
    {
     "name": "stderr",
     "output_type": "stream",
     "text": [
      "Setting levels: control = 0, case = 1\n",
      "\n",
      "Setting direction: controls < cases\n",
      "\n"
     ]
    },
    {
     "name": "stdout",
     "output_type": "stream",
     "text": [
      "[1] \"auc: 0.723967157520683\"\n",
      "[1] \"O/E 比率: 0.958887868681039\"\n",
      "[1] \"c_slope: 1.13776637916424\"\n",
      "[1] \"Brier 分数: 0.143880229360738\"\n"
     ]
    },
    {
     "name": "stderr",
     "output_type": "stream",
     "text": [
      "Setting levels: control = 0, case = 1\n",
      "\n",
      "Setting direction: controls < cases\n",
      "\n"
     ]
    },
    {
     "name": "stdout",
     "output_type": "stream",
     "text": [
      "[1] \"auc: 0.72250532201637\"\n",
      "[1] \"O/E 比率: 0.981767137981935\"\n",
      "[1] \"c_slope: 1.07205857857854\"\n",
      "[1] \"Brier 分数: 0.144079827733289\"\n"
     ]
    },
    {
     "name": "stderr",
     "output_type": "stream",
     "text": [
      "Setting levels: control = 0, case = 1\n",
      "\n",
      "Setting direction: controls < cases\n",
      "\n"
     ]
    },
    {
     "name": "stdout",
     "output_type": "stream",
     "text": [
      "[1] \"auc: 0.720168516766414\"\n",
      "[1] \"O/E 比率: 1.00199115763637\"\n",
      "[1] \"c_slope: 1.06436192191647\"\n",
      "[1] \"Brier 分数: 0.144501190568297\"\n"
     ]
    },
    {
     "name": "stderr",
     "output_type": "stream",
     "text": [
      "Setting levels: control = 0, case = 1\n",
      "\n",
      "Setting direction: controls < cases\n",
      "\n"
     ]
    },
    {
     "name": "stdout",
     "output_type": "stream",
     "text": [
      "[1] \"auc: 0.722182838078683\"\n",
      "[1] \"O/E 比率: 0.950402589896115\"\n",
      "[1] \"c_slope: 1.17479810654252\"\n",
      "[1] \"Brier 分数: 0.143815217934606\"\n"
     ]
    },
    {
     "name": "stderr",
     "output_type": "stream",
     "text": [
      "Setting levels: control = 0, case = 1\n",
      "\n",
      "Setting direction: controls < cases\n",
      "\n"
     ]
    },
    {
     "name": "stdout",
     "output_type": "stream",
     "text": [
      "[1] \"auc: 0.722145707731913\"\n",
      "[1] \"O/E 比率: 0.983148354766998\"\n",
      "[1] \"c_slope: 1.08164793119164\"\n",
      "[1] \"Brier 分数: 0.143574419367298\"\n"
     ]
    },
    {
     "name": "stderr",
     "output_type": "stream",
     "text": [
      "Setting levels: control = 0, case = 1\n",
      "\n",
      "Setting direction: controls < cases\n",
      "\n"
     ]
    },
    {
     "name": "stdout",
     "output_type": "stream",
     "text": [
      "[1] \"auc: 0.721167941933638\"\n",
      "[1] \"O/E 比率: 0.955042696348819\"\n",
      "[1] \"c_slope: 1.08457094704897\"\n",
      "[1] \"Brier 分数: 0.143831888179473\"\n"
     ]
    },
    {
     "name": "stderr",
     "output_type": "stream",
     "text": [
      "Setting levels: control = 0, case = 1\n",
      "\n",
      "Setting direction: controls < cases\n",
      "\n"
     ]
    },
    {
     "name": "stdout",
     "output_type": "stream",
     "text": [
      "[1] \"auc: 0.723492714200845\"\n",
      "[1] \"O/E 比率: 0.964638293088074\"\n",
      "[1] \"c_slope: 1.02757163990375\"\n",
      "[1] \"Brier 分数: 0.143822104857268\"\n"
     ]
    },
    {
     "name": "stderr",
     "output_type": "stream",
     "text": [
      "Setting levels: control = 0, case = 1\n",
      "\n",
      "Setting direction: controls < cases\n",
      "\n"
     ]
    },
    {
     "name": "stdout",
     "output_type": "stream",
     "text": [
      "[1] \"auc: 0.721160378344482\"\n",
      "[1] \"O/E 比率: 0.9762761230909\"\n",
      "[1] \"c_slope: 1.05513037557872\"\n",
      "[1] \"Brier 分数: 0.144098684118526\"\n"
     ]
    },
    {
     "name": "stderr",
     "output_type": "stream",
     "text": [
      "Setting levels: control = 0, case = 1\n",
      "\n",
      "Setting direction: controls < cases\n",
      "\n"
     ]
    },
    {
     "name": "stdout",
     "output_type": "stream",
     "text": [
      "[1] \"auc: 0.720785636881711\"\n",
      "[1] \"O/E 比率: 0.933443859172813\"\n",
      "[1] \"c_slope: 1.13377428474585\"\n",
      "[1] \"Brier 分数: 0.144118069564581\"\n"
     ]
    },
    {
     "name": "stderr",
     "output_type": "stream",
     "text": [
      "Setting levels: control = 0, case = 1\n",
      "\n",
      "Setting direction: controls < cases\n",
      "\n"
     ]
    },
    {
     "name": "stdout",
     "output_type": "stream",
     "text": [
      "[1] \"auc: 0.721719052543566\"\n",
      "[1] \"O/E 比率: 0.953448926649873\"\n",
      "[1] \"c_slope: 1.05859391353418\"\n",
      "[1] \"Brier 分数: 0.14384833910266\"\n"
     ]
    },
    {
     "name": "stderr",
     "output_type": "stream",
     "text": [
      "Setting levels: control = 0, case = 1\n",
      "\n",
      "Setting direction: controls < cases\n",
      "\n"
     ]
    },
    {
     "name": "stdout",
     "output_type": "stream",
     "text": [
      "[1] \"auc: 0.722487444442\"\n",
      "[1] \"O/E 比率: 0.955701807528431\"\n",
      "[1] \"c_slope: 1.11348300722414\"\n",
      "[1] \"Brier 分数: 0.14397586572449\"\n"
     ]
    },
    {
     "name": "stderr",
     "output_type": "stream",
     "text": [
      "Setting levels: control = 0, case = 1\n",
      "\n",
      "Setting direction: controls < cases\n",
      "\n"
     ]
    },
    {
     "name": "stdout",
     "output_type": "stream",
     "text": [
      "[1] \"auc: 0.722114421976765\"\n",
      "[1] \"O/E 比率: 0.920572901017813\"\n",
      "[1] \"c_slope: 1.05464529927253\"\n",
      "[1] \"Brier 分数: 0.144461620652161\"\n"
     ]
    },
    {
     "name": "stderr",
     "output_type": "stream",
     "text": [
      "Setting levels: control = 0, case = 1\n",
      "\n",
      "Setting direction: controls < cases\n",
      "\n"
     ]
    },
    {
     "name": "stdout",
     "output_type": "stream",
     "text": [
      "[1] \"auc: 0.72121091687203\"\n",
      "[1] \"O/E 比率: 0.989982513954259\"\n",
      "[1] \"c_slope: 1.07124675919646\"\n",
      "[1] \"Brier 分数: 0.14427804809351\"\n"
     ]
    },
    {
     "name": "stderr",
     "output_type": "stream",
     "text": [
      "Setting levels: control = 0, case = 1\n",
      "\n",
      "Setting direction: controls < cases\n",
      "\n"
     ]
    },
    {
     "name": "stdout",
     "output_type": "stream",
     "text": [
      "[1] \"auc: 0.721714239350466\"\n",
      "[1] \"O/E 比率: 0.930512509289778\"\n",
      "[1] \"c_slope: 1.09336581670748\"\n",
      "[1] \"Brier 分数: 0.144098617684685\"\n"
     ]
    },
    {
     "name": "stderr",
     "output_type": "stream",
     "text": [
      "Setting levels: control = 0, case = 1\n",
      "\n",
      "Setting direction: controls < cases\n",
      "\n"
     ]
    },
    {
     "name": "stdout",
     "output_type": "stream",
     "text": [
      "[1] \"auc: 0.723694868311037\"\n",
      "[1] \"O/E 比率: 0.989983536591456\"\n",
      "[1] \"c_slope: 1.1470360321963\"\n",
      "[1] \"Brier 分数: 0.144173695419989\"\n"
     ]
    },
    {
     "name": "stderr",
     "output_type": "stream",
     "text": [
      "Setting levels: control = 0, case = 1\n",
      "\n",
      "Setting direction: controls < cases\n",
      "\n"
     ]
    },
    {
     "name": "stdout",
     "output_type": "stream",
     "text": [
      "[1] \"auc: 0.723099751364196\"\n",
      "[1] \"O/E 比率: 0.967325733037306\"\n",
      "[1] \"c_slope: 1.12499613789388\"\n",
      "[1] \"Brier 分数: 0.143944971779098\"\n"
     ]
    },
    {
     "name": "stderr",
     "output_type": "stream",
     "text": [
      "Setting levels: control = 0, case = 1\n",
      "\n",
      "Setting direction: controls < cases\n",
      "\n"
     ]
    },
    {
     "name": "stdout",
     "output_type": "stream",
     "text": [
      "[1] \"auc: 0.718491118971132\"\n",
      "[1] \"O/E 比率: 0.973784535437993\"\n",
      "[1] \"c_slope: 1.1236419509044\"\n",
      "[1] \"Brier 分数: 0.144087433385521\"\n"
     ]
    },
    {
     "name": "stderr",
     "output_type": "stream",
     "text": [
      "Setting levels: control = 0, case = 1\n",
      "\n",
      "Setting direction: controls < cases\n",
      "\n"
     ]
    },
    {
     "name": "stdout",
     "output_type": "stream",
     "text": [
      "[1] \"auc: 0.719706450228833\"\n",
      "[1] \"O/E 比率: 1.01926938296928\"\n",
      "[1] \"c_slope: 1.10798899162887\"\n",
      "[1] \"Brier 分数: 0.144530736249253\"\n"
     ]
    },
    {
     "name": "stderr",
     "output_type": "stream",
     "text": [
      "Setting levels: control = 0, case = 1\n",
      "\n",
      "Setting direction: controls < cases\n",
      "\n"
     ]
    },
    {
     "name": "stdout",
     "output_type": "stream",
     "text": [
      "[1] \"auc: 0.721592534324943\"\n",
      "[1] \"O/E 比率: 0.956662594720814\"\n",
      "[1] \"c_slope: 1.13180081588257\"\n",
      "[1] \"Brier 分数: 0.144042647711292\"\n"
     ]
    },
    {
     "name": "stderr",
     "output_type": "stream",
     "text": [
      "Setting levels: control = 0, case = 1\n",
      "\n",
      "Setting direction: controls < cases\n",
      "\n"
     ]
    },
    {
     "name": "stdout",
     "output_type": "stream",
     "text": [
      "[1] \"auc: 0.722007844129555\"\n",
      "[1] \"O/E 比率: 0.996676156914114\"\n",
      "[1] \"c_slope: 1.1120764574428\"\n",
      "[1] \"Brier 分数: 0.144178287154738\"\n"
     ]
    },
    {
     "name": "stderr",
     "output_type": "stream",
     "text": [
      "Setting levels: control = 0, case = 1\n",
      "\n",
      "Setting direction: controls < cases\n",
      "\n"
     ]
    },
    {
     "name": "stdout",
     "output_type": "stream",
     "text": [
      "[1] \"auc: 0.719950204079387\"\n",
      "[1] \"O/E 比率: 1.01023937084612\"\n",
      "[1] \"c_slope: 1.09480048082382\"\n",
      "[1] \"Brier 分数: 0.144297424674192\"\n"
     ]
    },
    {
     "name": "stderr",
     "output_type": "stream",
     "text": [
      "Setting levels: control = 0, case = 1\n",
      "\n",
      "Setting direction: controls < cases\n",
      "\n"
     ]
    },
    {
     "name": "stdout",
     "output_type": "stream",
     "text": [
      "[1] \"auc: 0.723792163571554\"\n",
      "[1] \"O/E 比率: 0.940968570212734\"\n",
      "[1] \"c_slope: 1.0989853107495\"\n",
      "[1] \"Brier 分数: 0.143987987619436\"\n"
     ]
    },
    {
     "name": "stderr",
     "output_type": "stream",
     "text": [
      "Setting levels: control = 0, case = 1\n",
      "\n",
      "Setting direction: controls < cases\n",
      "\n"
     ]
    },
    {
     "name": "stdout",
     "output_type": "stream",
     "text": [
      "[1] \"auc: 0.722224781618553\"\n",
      "[1] \"O/E 比率: 0.962486848686346\"\n",
      "[1] \"c_slope: 1.15645764924339\"\n",
      "[1] \"Brier 分数: 0.144353163532996\"\n"
     ]
    },
    {
     "name": "stderr",
     "output_type": "stream",
     "text": [
      "Setting levels: control = 0, case = 1\n",
      "\n",
      "Setting direction: controls < cases\n",
      "\n"
     ]
    },
    {
     "name": "stdout",
     "output_type": "stream",
     "text": [
      "[1] \"auc: 0.71952354889104\"\n",
      "[1] \"O/E 比率: 0.932974718778327\"\n",
      "[1] \"c_slope: 1.04745544624255\"\n",
      "[1] \"Brier 分数: 0.144476035425218\"\n"
     ]
    },
    {
     "name": "stderr",
     "output_type": "stream",
     "text": [
      "Setting levels: control = 0, case = 1\n",
      "\n",
      "Setting direction: controls < cases\n",
      "\n"
     ]
    },
    {
     "name": "stdout",
     "output_type": "stream",
     "text": [
      "[1] \"auc: 0.720897027922021\"\n",
      "[1] \"O/E 比率: 0.98521821625181\"\n",
      "[1] \"c_slope: 1.09111401843394\"\n",
      "[1] \"Brier 分数: 0.144516711024981\"\n"
     ]
    },
    {
     "name": "stderr",
     "output_type": "stream",
     "text": [
      "Setting levels: control = 0, case = 1\n",
      "\n",
      "Setting direction: controls < cases\n",
      "\n"
     ]
    },
    {
     "name": "stdout",
     "output_type": "stream",
     "text": [
      "[1] \"auc: 0.718974844877662\"\n",
      "[1] \"O/E 比率: 0.954242680132426\"\n",
      "[1] \"c_slope: 1.18299512448649\"\n",
      "[1] \"Brier 分数: 0.144377725841595\"\n"
     ]
    },
    {
     "name": "stderr",
     "output_type": "stream",
     "text": [
      "Setting levels: control = 0, case = 1\n",
      "\n",
      "Setting direction: controls < cases\n",
      "\n"
     ]
    },
    {
     "name": "stdout",
     "output_type": "stream",
     "text": [
      "[1] \"auc: 0.724006350664496\"\n",
      "[1] \"O/E 比率: 0.947432009437999\"\n",
      "[1] \"c_slope: 1.04930921404409\"\n",
      "[1] \"Brier 分数: 0.143722689831738\"\n"
     ]
    },
    {
     "name": "stderr",
     "output_type": "stream",
     "text": [
      "Setting levels: control = 0, case = 1\n",
      "\n",
      "Setting direction: controls < cases\n",
      "\n"
     ]
    },
    {
     "name": "stdout",
     "output_type": "stream",
     "text": [
      "[1] \"auc: 0.720567324194684\"\n",
      "[1] \"O/E 比率: 1.00197951013196\"\n",
      "[1] \"c_slope: 1.1577662035261\"\n",
      "[1] \"Brier 分数: 0.144227634794315\"\n"
     ]
    },
    {
     "name": "stderr",
     "output_type": "stream",
     "text": [
      "Setting levels: control = 0, case = 1\n",
      "\n",
      "Setting direction: controls < cases\n",
      "\n"
     ]
    },
    {
     "name": "stdout",
     "output_type": "stream",
     "text": [
      "[1] \"auc: 0.723155790683858\"\n",
      "[1] \"O/E 比率: 0.981498428762939\"\n",
      "[1] \"c_slope: 1.12853236025767\"\n",
      "[1] \"Brier 分数: 0.143856403458384\"\n"
     ]
    },
    {
     "name": "stderr",
     "output_type": "stream",
     "text": [
      "Setting levels: control = 0, case = 1\n",
      "\n",
      "Setting direction: controls < cases\n",
      "\n"
     ]
    },
    {
     "name": "stdout",
     "output_type": "stream",
     "text": [
      "[1] \"auc: 0.720150295392536\"\n",
      "[1] \"O/E 比率: 0.967634536402633\"\n",
      "[1] \"c_slope: 1.13104042029504\"\n",
      "[1] \"Brier 分数: 0.144230496808358\"\n"
     ]
    },
    {
     "name": "stderr",
     "output_type": "stream",
     "text": [
      "Setting levels: control = 0, case = 1\n",
      "\n",
      "Setting direction: controls < cases\n",
      "\n"
     ]
    },
    {
     "name": "stdout",
     "output_type": "stream",
     "text": [
      "[1] \"auc: 0.718524123723816\"\n",
      "[1] \"O/E 比率: 0.983754565703875\"\n",
      "[1] \"c_slope: 1.0933854352614\"\n",
      "[1] \"Brier 分数: 0.144665369229055\"\n"
     ]
    },
    {
     "name": "stderr",
     "output_type": "stream",
     "text": [
      "Setting levels: control = 0, case = 1\n",
      "\n",
      "Setting direction: controls < cases\n",
      "\n"
     ]
    },
    {
     "name": "stdout",
     "output_type": "stream",
     "text": [
      "[1] \"auc: 0.721374565437423\"\n",
      "[1] \"O/E 比率: 0.957671824864121\"\n",
      "[1] \"c_slope: 1.18068608550831\"\n",
      "[1] \"Brier 分数: 0.14465952157045\"\n"
     ]
    },
    {
     "name": "stderr",
     "output_type": "stream",
     "text": [
      "Setting levels: control = 0, case = 1\n",
      "\n",
      "Setting direction: controls < cases\n",
      "\n"
     ]
    },
    {
     "name": "stdout",
     "output_type": "stream",
     "text": [
      "[1] \"auc: 0.721816347804084\"\n",
      "[1] \"O/E 比率: 0.939335568201289\"\n",
      "[1] \"c_slope: 1.12298303238632\"\n",
      "[1] \"Brier 分数: 0.144211267427006\"\n"
     ]
    },
    {
     "name": "stderr",
     "output_type": "stream",
     "text": [
      "Setting levels: control = 0, case = 1\n",
      "\n",
      "Setting direction: controls < cases\n",
      "\n"
     ]
    },
    {
     "name": "stdout",
     "output_type": "stream",
     "text": [
      "[1] \"auc: 0.722801333392008\"\n",
      "[1] \"O/E 比率: 0.965627320667734\"\n",
      "[1] \"c_slope: 1.09139134401169\"\n",
      "[1] \"Brier 分数: 0.144206596275692\"\n"
     ]
    },
    {
     "name": "stderr",
     "output_type": "stream",
     "text": [
      "Setting levels: control = 0, case = 1\n",
      "\n",
      "Setting direction: controls < cases\n",
      "\n"
     ]
    },
    {
     "name": "stdout",
     "output_type": "stream",
     "text": [
      "[1] \"auc: 0.721955242804964\"\n",
      "[1] \"O/E 比率: 0.937694691284617\"\n",
      "[1] \"c_slope: 1.06063847024477\"\n",
      "[1] \"Brier 分数: 0.144001115128398\"\n"
     ]
    },
    {
     "name": "stderr",
     "output_type": "stream",
     "text": [
      "Setting levels: control = 0, case = 1\n",
      "\n",
      "Setting direction: controls < cases\n",
      "\n"
     ]
    },
    {
     "name": "stdout",
     "output_type": "stream",
     "text": [
      "[1] \"auc: 0.719337209558176\"\n",
      "[1] \"O/E 比率: 0.936950334353761\"\n",
      "[1] \"c_slope: 1.12823270158766\"\n",
      "[1] \"Brier 分数: 0.144621610271644\"\n"
     ]
    },
    {
     "name": "stderr",
     "output_type": "stream",
     "text": [
      "Setting levels: control = 0, case = 1\n",
      "\n",
      "Setting direction: controls < cases\n",
      "\n"
     ]
    },
    {
     "name": "stdout",
     "output_type": "stream",
     "text": [
      "[1] \"auc: 0.719896571356275\"\n",
      "[1] \"O/E 比率: 1.01690238968186\"\n",
      "[1] \"c_slope: 1.04357650941041\"\n",
      "[1] \"Brier 分数: 0.144062121403301\"\n"
     ]
    },
    {
     "name": "stderr",
     "output_type": "stream",
     "text": [
      "Setting levels: control = 0, case = 1\n",
      "\n",
      "Setting direction: controls < cases\n",
      "\n"
     ]
    },
    {
     "name": "stdout",
     "output_type": "stream",
     "text": [
      "[1] \"auc: 0.723894959624186\"\n",
      "[1] \"O/E 比率: 0.986506836952361\"\n",
      "[1] \"c_slope: 1.05791400736966\"\n",
      "[1] \"Brier 分数: 0.143547756932536\"\n"
     ]
    },
    {
     "name": "stderr",
     "output_type": "stream",
     "text": [
      "Setting levels: control = 0, case = 1\n",
      "\n",
      "Setting direction: controls < cases\n",
      "\n"
     ]
    },
    {
     "name": "stdout",
     "output_type": "stream",
     "text": [
      "[1] \"auc: 0.72447288659567\"\n",
      "[1] \"O/E 比率: 0.977205780282135\"\n",
      "[1] \"c_slope: 0.971249718433003\"\n",
      "[1] \"Brier 分数: 0.144009434126451\"\n"
     ]
    },
    {
     "name": "stderr",
     "output_type": "stream",
     "text": [
      "Setting levels: control = 0, case = 1\n",
      "\n",
      "Setting direction: controls < cases\n",
      "\n"
     ]
    },
    {
     "name": "stdout",
     "output_type": "stream",
     "text": [
      "[1] \"auc: 0.724760990582644\"\n",
      "[1] \"O/E 比率: 1.01746911555904\"\n",
      "[1] \"c_slope: 1.07986752024098\"\n",
      "[1] \"Brier 分数: 0.144213808875141\"\n"
     ]
    },
    {
     "name": "stderr",
     "output_type": "stream",
     "text": [
      "Setting levels: control = 0, case = 1\n",
      "\n",
      "Setting direction: controls < cases\n",
      "\n"
     ]
    },
    {
     "name": "stdout",
     "output_type": "stream",
     "text": [
      "[1] \"auc: 0.722486069243971\"\n",
      "[1] \"O/E 比率: 0.984133626765753\"\n",
      "[1] \"c_slope: 1.1137235329803\"\n",
      "[1] \"Brier 分数: 0.143669281609514\"\n"
     ]
    },
    {
     "name": "stderr",
     "output_type": "stream",
     "text": [
      "Setting levels: control = 0, case = 1\n",
      "\n",
      "Setting direction: controls < cases\n",
      "\n"
     ]
    },
    {
     "name": "stdout",
     "output_type": "stream",
     "text": [
      "[1] \"auc: 0.720671151645837\"\n",
      "[1] \"O/E 比率: 0.948841921293867\"\n",
      "[1] \"c_slope: 1.12076332612447\"\n",
      "[1] \"Brier 分数: 0.144291925711825\"\n"
     ]
    },
    {
     "name": "stderr",
     "output_type": "stream",
     "text": [
      "Setting levels: control = 0, case = 1\n",
      "\n",
      "Setting direction: controls < cases\n",
      "\n"
     ]
    },
    {
     "name": "stdout",
     "output_type": "stream",
     "text": [
      "[1] \"auc: 0.718919836956522\"\n",
      "[1] \"O/E 比率: 0.960331018752829\"\n",
      "[1] \"c_slope: 1.12943512862196\"\n",
      "[1] \"Brier 分数: 0.144391015556136\"\n"
     ]
    },
    {
     "name": "stderr",
     "output_type": "stream",
     "text": [
      "Setting levels: control = 0, case = 1\n",
      "\n",
      "Setting direction: controls < cases\n",
      "\n"
     ]
    },
    {
     "name": "stdout",
     "output_type": "stream",
     "text": [
      "[1] \"auc: 0.722590928093646\"\n",
      "[1] \"O/E 比率: 0.998963080484723\"\n",
      "[1] \"c_slope: 1.09178843496159\"\n",
      "[1] \"Brier 分数: 0.144283758772575\"\n"
     ]
    },
    {
     "name": "stderr",
     "output_type": "stream",
     "text": [
      "Setting levels: control = 0, case = 1\n",
      "\n",
      "Setting direction: controls < cases\n",
      "\n"
     ]
    },
    {
     "name": "stdout",
     "output_type": "stream",
     "text": [
      "[1] \"auc: 0.718975532476677\"\n",
      "[1] \"O/E 比率: 0.937562694964417\"\n",
      "[1] \"c_slope: 1.07782753356049\"\n",
      "[1] \"Brier 分数: 0.144479559818018\"\n"
     ]
    },
    {
     "name": "stderr",
     "output_type": "stream",
     "text": [
      "Setting levels: control = 0, case = 1\n",
      "\n",
      "Setting direction: controls < cases\n",
      "\n"
     ]
    },
    {
     "name": "stdout",
     "output_type": "stream",
     "text": [
      "[1] \"auc: 0.722061820652174\"\n",
      "[1] \"O/E 比率: 0.936145698609187\"\n",
      "[1] \"c_slope: 1.03285083480057\"\n",
      "[1] \"Brier 分数: 0.144609035689696\"\n"
     ]
    },
    {
     "name": "stderr",
     "output_type": "stream",
     "text": [
      "Setting levels: control = 0, case = 1\n",
      "\n",
      "Setting direction: controls < cases\n",
      "\n"
     ]
    },
    {
     "name": "stdout",
     "output_type": "stream",
     "text": [
      "[1] \"auc: 0.725470248965851\"\n",
      "[1] \"O/E 比率: 0.976725331091256\"\n",
      "[1] \"c_slope: 1.08537951213671\"\n",
      "[1] \"Brier 分数: 0.143580054555803\"\n"
     ]
    },
    {
     "name": "stderr",
     "output_type": "stream",
     "text": [
      "Setting levels: control = 0, case = 1\n",
      "\n",
      "Setting direction: controls < cases\n",
      "\n"
     ]
    },
    {
     "name": "stdout",
     "output_type": "stream",
     "text": [
      "[1] \"auc: 0.723894959624186\"\n",
      "[1] \"O/E 比率: 0.996563457883811\"\n",
      "[1] \"c_slope: 1.14528996877845\"\n",
      "[1] \"Brier 分数: 0.143860967834141\"\n"
     ]
    },
    {
     "name": "stderr",
     "output_type": "stream",
     "text": [
      "Setting levels: control = 0, case = 1\n",
      "\n",
      "Setting direction: controls < cases\n",
      "\n"
     ]
    },
    {
     "name": "stdout",
     "output_type": "stream",
     "text": [
      "[1] \"auc: 0.724616250990143\"\n",
      "[1] \"O/E 比率: 0.953906727799756\"\n",
      "[1] \"c_slope: 1.09806748335936\"\n",
      "[1] \"Brier 分数: 0.144007601971166\"\n"
     ]
    },
    {
     "name": "stderr",
     "output_type": "stream",
     "text": [
      "Setting levels: control = 0, case = 1\n",
      "\n",
      "Setting direction: controls < cases\n",
      "\n"
     ]
    },
    {
     "name": "stdout",
     "output_type": "stream",
     "text": [
      "[1] \"auc: 0.725511504906707\"\n",
      "[1] \"O/E 比率: 0.965394360836091\"\n",
      "[1] \"c_slope: 1.07150674947461\"\n",
      "[1] \"Brier 分数: 0.143327425146648\"\n"
     ]
    },
    {
     "name": "stderr",
     "output_type": "stream",
     "text": [
      "Setting levels: control = 0, case = 1\n",
      "\n",
      "Setting direction: controls < cases\n",
      "\n"
     ]
    },
    {
     "name": "stdout",
     "output_type": "stream",
     "text": [
      "[1] \"auc: 0.721145594965675\"\n",
      "[1] \"O/E 比率: 0.986955465545712\"\n",
      "[1] \"c_slope: 1.11636816045354\"\n",
      "[1] \"Brier 分数: 0.143864245891043\"\n"
     ]
    },
    {
     "name": "stderr",
     "output_type": "stream",
     "text": [
      "Setting levels: control = 0, case = 1\n",
      "\n",
      "Setting direction: controls < cases\n",
      "\n"
     ]
    },
    {
     "name": "stdout",
     "output_type": "stream",
     "text": [
      "[1] \"auc: 0.720901497315613\"\n",
      "[1] \"O/E 比率: 0.94425630153896\"\n",
      "[1] \"c_slope: 1.11595532410172\"\n",
      "[1] \"Brier 分数: 0.144159792613354\"\n"
     ]
    },
    {
     "name": "stderr",
     "output_type": "stream",
     "text": [
      "Setting levels: control = 0, case = 1\n",
      "\n",
      "Setting direction: controls < cases\n",
      "\n"
     ]
    },
    {
     "name": "stdout",
     "output_type": "stream",
     "text": [
      "[1] \"auc: 0.717740948446576\"\n",
      "[1] \"O/E 比率: 0.970213081215055\"\n",
      "[1] \"c_slope: 1.03012792313235\"\n",
      "[1] \"Brier 分数: 0.144667374006272\"\n"
     ]
    },
    {
     "name": "stderr",
     "output_type": "stream",
     "text": [
      "Setting levels: control = 0, case = 1\n",
      "\n",
      "Setting direction: controls < cases\n",
      "\n"
     ]
    },
    {
     "name": "stdout",
     "output_type": "stream",
     "text": [
      "[1] \"auc: 0.719204846747932\"\n",
      "[1] \"O/E 比率: 0.936257554114156\"\n",
      "[1] \"c_slope: 1.04003083176563\"\n",
      "[1] \"Brier 分数: 0.144239470158074\"\n"
     ]
    },
    {
     "name": "stderr",
     "output_type": "stream",
     "text": [
      "Setting levels: control = 0, case = 1\n",
      "\n",
      "Setting direction: controls < cases\n",
      "\n"
     ]
    },
    {
     "name": "stdout",
     "output_type": "stream",
     "text": [
      "[1] \"auc: 0.72354118993135\"\n",
      "[1] \"O/E 比率: 0.988343123000516\"\n",
      "[1] \"c_slope: 1.13370583215943\"\n",
      "[1] \"Brier 分数: 0.143391964292806\"\n"
     ]
    },
    {
     "name": "stderr",
     "output_type": "stream",
     "text": [
      "Setting levels: control = 0, case = 1\n",
      "\n",
      "Setting direction: controls < cases\n",
      "\n"
     ]
    },
    {
     "name": "stdout",
     "output_type": "stream",
     "text": [
      "[1] \"auc: 0.723175043456258\"\n",
      "[1] \"O/E 比率: 0.979952328974847\"\n",
      "[1] \"c_slope: 1.09077297974895\"\n",
      "[1] \"Brier 分数: 0.144183291920756\"\n"
     ]
    },
    {
     "name": "stderr",
     "output_type": "stream",
     "text": [
      "Setting levels: control = 0, case = 1\n",
      "\n",
      "Setting direction: controls < cases\n",
      "\n"
     ]
    },
    {
     "name": "stdout",
     "output_type": "stream",
     "text": [
      "[1] \"auc: 0.72202640930294\"\n",
      "[1] \"O/E 比率: 0.957288222171238\"\n",
      "[1] \"c_slope: 1.08001495326213\"\n",
      "[1] \"Brier 分数: 0.144117537023359\"\n"
     ]
    },
    {
     "name": "stderr",
     "output_type": "stream",
     "text": [
      "Setting levels: control = 0, case = 1\n",
      "\n",
      "Setting direction: controls < cases\n",
      "\n"
     ]
    },
    {
     "name": "stdout",
     "output_type": "stream",
     "text": [
      "[1] \"auc: 0.719299391612392\"\n",
      "[1] \"O/E 比率: 0.944280673401202\"\n",
      "[1] \"c_slope: 1.00143256090306\"\n",
      "[1] \"Brier 分数: 0.144393137919627\"\n"
     ]
    },
    {
     "name": "stderr",
     "output_type": "stream",
     "text": [
      "Setting levels: control = 0, case = 1\n",
      "\n",
      "Setting direction: controls < cases\n",
      "\n"
     ]
    },
    {
     "name": "stdout",
     "output_type": "stream",
     "text": [
      "[1] \"auc: 0.722791363206302\"\n",
      "[1] \"O/E 比率: 0.946843642152326\"\n",
      "[1] \"c_slope: 1.17193387279212\"\n",
      "[1] \"Brier 分数: 0.144024328753857\"\n"
     ]
    },
    {
     "name": "stderr",
     "output_type": "stream",
     "text": [
      "Setting levels: control = 0, case = 1\n",
      "\n",
      "Setting direction: controls < cases\n",
      "\n"
     ]
    },
    {
     "name": "stdout",
     "output_type": "stream",
     "text": [
      "[1] \"auc: 0.723680772531245\"\n",
      "[1] \"O/E 比率: 0.942824563290315\"\n",
      "[1] \"c_slope: 1.11379322332255\"\n",
      "[1] \"Brier 分数: 0.143565342373978\"\n"
     ]
    },
    {
     "name": "stderr",
     "output_type": "stream",
     "text": [
      "Setting levels: control = 0, case = 1\n",
      "\n",
      "Setting direction: controls < cases\n",
      "\n"
     ]
    },
    {
     "name": "stdout",
     "output_type": "stream",
     "text": [
      "[1] \"auc: 0.722368146013026\"\n",
      "[1] \"O/E 比率: 0.974169282954451\"\n",
      "[1] \"c_slope: 1.12271256524727\"\n",
      "[1] \"Brier 分数: 0.144344023422869\"\n"
     ]
    },
    {
     "name": "stderr",
     "output_type": "stream",
     "text": [
      "Setting levels: control = 0, case = 1\n",
      "\n",
      "Setting direction: controls < cases\n",
      "\n"
     ]
    },
    {
     "name": "stdout",
     "output_type": "stream",
     "text": [
      "[1] \"auc: 0.719329989768527\"\n",
      "[1] \"O/E 比率: 1.00500774616505\"\n",
      "[1] \"c_slope: 1.13013554165668\"\n",
      "[1] \"Brier 分数: 0.144134873369954\"\n"
     ]
    },
    {
     "name": "stderr",
     "output_type": "stream",
     "text": [
      "Setting levels: control = 0, case = 1\n",
      "\n",
      "Setting direction: controls < cases\n",
      "\n"
     ]
    },
    {
     "name": "stdout",
     "output_type": "stream",
     "text": [
      "[1] \"auc: 0.720757445322126\"\n",
      "[1] \"O/E 比率: 0.95104155011877\"\n",
      "[1] \"c_slope: 1.10107901194873\"\n",
      "[1] \"Brier 分数: 0.144046803080216\"\n"
     ]
    },
    {
     "name": "stderr",
     "output_type": "stream",
     "text": [
      "Setting levels: control = 0, case = 1\n",
      "\n",
      "Setting direction: controls < cases\n",
      "\n"
     ]
    },
    {
     "name": "stdout",
     "output_type": "stream",
     "text": [
      "[1] \"auc: 0.719520110895969\"\n",
      "[1] \"O/E 比率: 1.02215467802239\"\n",
      "[1] \"c_slope: 1.15662199986191\"\n",
      "[1] \"Brier 分数: 0.144550824593729\"\n"
     ]
    },
    {
     "name": "stderr",
     "output_type": "stream",
     "text": [
      "Setting levels: control = 0, case = 1\n",
      "\n",
      "Setting direction: controls < cases\n",
      "\n"
     ]
    },
    {
     "name": "stdout",
     "output_type": "stream",
     "text": [
      "[1] \"auc: 0.723393356143285\"\n",
      "[1] \"O/E 比率: 0.956818264777101\"\n",
      "[1] \"c_slope: 1.13196039805508\"\n",
      "[1] \"Brier 分数: 0.143677434734016\"\n"
     ]
    },
    {
     "name": "stderr",
     "output_type": "stream",
     "text": [
      "Setting levels: control = 0, case = 1\n",
      "\n",
      "Setting direction: controls < cases\n",
      "\n"
     ]
    },
    {
     "name": "stdout",
     "output_type": "stream",
     "text": [
      "[1] \"auc: 0.721840413769583\"\n",
      "[1] \"O/E 比率: 0.944494615324436\"\n",
      "[1] \"c_slope: 1.04365062743936\"\n",
      "[1] \"Brier 分数: 0.143656150886232\"\n"
     ]
    },
    {
     "name": "stderr",
     "output_type": "stream",
     "text": [
      "Setting levels: control = 0, case = 1\n",
      "\n",
      "Setting direction: controls < cases\n",
      "\n"
     ]
    },
    {
     "name": "stdout",
     "output_type": "stream",
     "text": [
      "[1] \"auc: 0.720699343205422\"\n",
      "[1] \"O/E 比率: 0.981217727817249\"\n",
      "[1] \"c_slope: 1.06616201148329\"\n",
      "[1] \"Brier 分数: 0.144702866321601\"\n"
     ]
    },
    {
     "name": "stderr",
     "output_type": "stream",
     "text": [
      "Setting levels: control = 0, case = 1\n",
      "\n",
      "Setting direction: controls < cases\n",
      "\n"
     ]
    },
    {
     "name": "stdout",
     "output_type": "stream",
     "text": [
      "[1] \"auc: 0.722142269736842\"\n",
      "[1] \"O/E 比率: 0.979635711185882\"\n",
      "[1] \"c_slope: 1.03744170235017\"\n",
      "[1] \"Brier 分数: 0.143746938633954\"\n"
     ]
    },
    {
     "name": "stderr",
     "output_type": "stream",
     "text": [
      "Setting levels: control = 0, case = 1\n",
      "\n",
      "Setting direction: controls < cases\n",
      "\n"
     ]
    },
    {
     "name": "stdout",
     "output_type": "stream",
     "text": [
      "[1] \"auc: 0.721007387563809\"\n",
      "[1] \"O/E 比率: 1.01153772113241\"\n",
      "[1] \"c_slope: 1.09776334315527\"\n",
      "[1] \"Brier 分数: 0.144796439822377\"\n"
     ]
    },
    {
     "name": "stderr",
     "output_type": "stream",
     "text": [
      "Setting levels: control = 0, case = 1\n",
      "\n",
      "Setting direction: controls < cases\n",
      "\n"
     ]
    },
    {
     "name": "stdout",
     "output_type": "stream",
     "text": [
      "[1] \"auc: 0.722539358167576\"\n",
      "[1] \"O/E 比率: 0.922785325583942\"\n",
      "[1] \"c_slope: 1.09686925176671\"\n",
      "[1] \"Brier 分数: 0.144076575021744\"\n"
     ]
    },
    {
     "name": "stderr",
     "output_type": "stream",
     "text": [
      "Setting levels: control = 0, case = 1\n",
      "\n",
      "Setting direction: controls < cases\n",
      "\n"
     ]
    },
    {
     "name": "stdout",
     "output_type": "stream",
     "text": [
      "[1] \"auc: 0.72261671305668\"\n",
      "[1] \"O/E 比率: 0.952396561089601\"\n",
      "[1] \"c_slope: 1.15538264549975\"\n",
      "[1] \"Brier 分数: 0.144005845765551\"\n"
     ]
    },
    {
     "name": "stderr",
     "output_type": "stream",
     "text": [
      "Setting levels: control = 0, case = 1\n",
      "\n",
      "Setting direction: controls < cases\n",
      "\n"
     ]
    },
    {
     "name": "stdout",
     "output_type": "stream",
     "text": [
      "[1] \"auc: 0.727393463408731\"\n",
      "[1] \"O/E 比率: 0.955242808015345\"\n",
      "[1] \"c_slope: 1.17134182868006\"\n",
      "[1] \"Brier 分数: 0.1436078318588\"\n"
     ]
    },
    {
     "name": "stderr",
     "output_type": "stream",
     "text": [
      "Setting levels: control = 0, case = 1\n",
      "\n",
      "Setting direction: controls < cases\n",
      "\n"
     ]
    },
    {
     "name": "stdout",
     "output_type": "stream",
     "text": [
      "[1] \"auc: 0.721561592369301\"\n",
      "[1] \"O/E 比率: 0.96690861269927\"\n",
      "[1] \"c_slope: 1.1030398864944\"\n",
      "[1] \"Brier 分数: 0.144408928687932\"\n"
     ]
    },
    {
     "name": "stderr",
     "output_type": "stream",
     "text": [
      "Setting levels: control = 0, case = 1\n",
      "\n",
      "Setting direction: controls < cases\n",
      "\n"
     ]
    },
    {
     "name": "stdout",
     "output_type": "stream",
     "text": [
      "[1] \"auc: 0.722357488228305\"\n",
      "[1] \"O/E 比率: 0.976797757805724\"\n",
      "[1] \"c_slope: 1.11818957638388\"\n",
      "[1] \"Brier 分数: 0.143751157727367\"\n"
     ]
    },
    {
     "name": "stderr",
     "output_type": "stream",
     "text": [
      "Setting levels: control = 0, case = 1\n",
      "\n",
      "Setting direction: controls < cases\n",
      "\n"
     ]
    },
    {
     "name": "stdout",
     "output_type": "stream",
     "text": [
      "[1] \"auc: 0.721554028780144\"\n",
      "[1] \"O/E 比率: 0.952300149260976\"\n",
      "[1] \"c_slope: 1.15863547116228\"\n",
      "[1] \"Brier 分数: 0.144158624138315\"\n"
     ]
    },
    {
     "name": "stderr",
     "output_type": "stream",
     "text": [
      "Setting levels: control = 0, case = 1\n",
      "\n",
      "Setting direction: controls < cases\n",
      "\n"
     ]
    },
    {
     "name": "stdout",
     "output_type": "stream",
     "text": [
      "[1] \"auc: 0.721425447764478\"\n",
      "[1] \"O/E 比率: 0.96717142205925\"\n",
      "[1] \"c_slope: 1.08686374421318\"\n",
      "[1] \"Brier 分数: 0.144471300695416\"\n"
     ]
    },
    {
     "name": "stderr",
     "output_type": "stream",
     "text": [
      "Setting levels: control = 0, case = 1\n",
      "\n",
      "Setting direction: controls < cases\n",
      "\n"
     ]
    },
    {
     "name": "stdout",
     "output_type": "stream",
     "text": [
      "[1] \"auc: 0.724015977050695\"\n",
      "[1] \"O/E 比率: 0.936215938484105\"\n",
      "[1] \"c_slope: 1.14755258118955\"\n",
      "[1] \"Brier 分数: 0.143979389585835\"\n"
     ]
    },
    {
     "name": "stderr",
     "output_type": "stream",
     "text": [
      "Setting levels: control = 0, case = 1\n",
      "\n",
      "Setting direction: controls < cases\n",
      "\n"
     ]
    },
    {
     "name": "stdout",
     "output_type": "stream",
     "text": [
      "[1] \"auc: 0.725420398037317\"\n",
      "[1] \"O/E 比率: 0.956373249078915\"\n",
      "[1] \"c_slope: 1.08828572755069\"\n",
      "[1] \"Brier 分数: 0.143199746482895\"\n"
     ]
    },
    {
     "name": "stderr",
     "output_type": "stream",
     "text": [
      "Setting levels: control = 0, case = 1\n",
      "\n",
      "Setting direction: controls < cases\n",
      "\n"
     ]
    },
    {
     "name": "stdout",
     "output_type": "stream",
     "text": [
      "[1] \"auc: 0.722671720977821\"\n",
      "[1] \"O/E 比率: 0.968872510039935\"\n",
      "[1] \"c_slope: 1.11539735853332\"\n",
      "[1] \"Brier 分数: 0.14320398219713\"\n"
     ]
    },
    {
     "name": "stderr",
     "output_type": "stream",
     "text": [
      "Setting levels: control = 0, case = 1\n",
      "\n",
      "Setting direction: controls < cases\n",
      "\n"
     ]
    },
    {
     "name": "stdout",
     "output_type": "stream",
     "text": [
      "[1] \"auc: 0.722470942065657\"\n",
      "[1] \"O/E 比率: 0.963144441177639\"\n",
      "[1] \"c_slope: 1.09457664964014\"\n",
      "[1] \"Brier 分数: 0.143925808317786\"\n"
     ]
    },
    {
     "name": "stderr",
     "output_type": "stream",
     "text": [
      "Setting levels: control = 0, case = 1\n",
      "\n",
      "Setting direction: controls < cases\n",
      "\n"
     ]
    },
    {
     "name": "stdout",
     "output_type": "stream",
     "text": [
      "[1] \"auc: 0.726656357265446\"\n",
      "[1] \"O/E 比率: 0.975250940857973\"\n",
      "[1] \"c_slope: 1.13453474264578\"\n",
      "[1] \"Brier 分数: 0.143274512528835\"\n"
     ]
    },
    {
     "name": "stderr",
     "output_type": "stream",
     "text": [
      "Setting levels: control = 0, case = 1\n",
      "\n",
      "Setting direction: controls < cases\n",
      "\n"
     ]
    },
    {
     "name": "stdout",
     "output_type": "stream",
     "text": [
      "[1] \"auc: 0.723248616550783\"\n",
      "[1] \"O/E 比率: 0.973372618821909\"\n",
      "[1] \"c_slope: 1.10189336973151\"\n",
      "[1] \"Brier 分数: 0.143893985449099\"\n"
     ]
    },
    {
     "name": "stderr",
     "output_type": "stream",
     "text": [
      "Setting levels: control = 0, case = 1\n",
      "\n",
      "Setting direction: controls < cases\n",
      "\n"
     ]
    },
    {
     "name": "stdout",
     "output_type": "stream",
     "text": [
      "[1] \"auc: 0.719155339618905\"\n",
      "[1] \"O/E 比率: 0.988851033871137\"\n",
      "[1] \"c_slope: 1.16647205418473\"\n",
      "[1] \"Brier 分数: 0.144748990084041\"\n"
     ]
    },
    {
     "name": "stderr",
     "output_type": "stream",
     "text": [
      "Setting levels: control = 0, case = 1\n",
      "\n",
      "Setting direction: controls < cases\n",
      "\n"
     ]
    },
    {
     "name": "stdout",
     "output_type": "stream",
     "text": [
      "[1] \"auc: 0.723770848002112\"\n",
      "[1] \"O/E 比率: 0.981482699770049\"\n",
      "[1] \"c_slope: 1.09544542568111\"\n",
      "[1] \"Brier 分数: 0.143408671120809\"\n"
     ]
    },
    {
     "name": "stderr",
     "output_type": "stream",
     "text": [
      "Setting levels: control = 0, case = 1\n",
      "\n",
      "Setting direction: controls < cases\n",
      "\n"
     ]
    },
    {
     "name": "stdout",
     "output_type": "stream",
     "text": [
      "[1] \"auc: 0.724462572610456\"\n",
      "[1] \"O/E 比率: 0.939074984591037\"\n",
      "[1] \"c_slope: 1.08920638225063\"\n",
      "[1] \"Brier 分数: 0.143723380451776\"\n"
     ]
    },
    {
     "name": "stderr",
     "output_type": "stream",
     "text": [
      "Setting levels: control = 0, case = 1\n",
      "\n",
      "Setting direction: controls < cases\n",
      "\n"
     ]
    },
    {
     "name": "stdout",
     "output_type": "stream",
     "text": [
      "[1] \"auc: 0.72474105021123\"\n",
      "[1] \"O/E 比率: 0.948102635687396\"\n",
      "[1] \"c_slope: 1.13366622734157\"\n",
      "[1] \"Brier 分数: 0.143683688317039\"\n"
     ]
    },
    {
     "name": "stderr",
     "output_type": "stream",
     "text": [
      "Setting levels: control = 0, case = 1\n",
      "\n",
      "Setting direction: controls < cases\n",
      "\n"
     ]
    },
    {
     "name": "stdout",
     "output_type": "stream",
     "text": [
      "[1] \"auc: 0.722829524951593\"\n",
      "[1] \"O/E 比率: 0.957944340087508\"\n",
      "[1] \"c_slope: 1.07271888745839\"\n",
      "[1] \"Brier 分数: 0.143405546944815\"\n"
     ]
    },
    {
     "name": "stderr",
     "output_type": "stream",
     "text": [
      "Setting levels: control = 0, case = 1\n",
      "\n",
      "Setting direction: controls < cases\n",
      "\n"
     ]
    },
    {
     "name": "stdout",
     "output_type": "stream",
     "text": [
      "[1] \"auc: 0.719502233321598\"\n",
      "[1] \"O/E 比率: 0.962947836685806\"\n",
      "[1] \"c_slope: 1.1183007237059\"\n",
      "[1] \"Brier 分数: 0.144492397603764\"\n"
     ]
    },
    {
     "name": "stderr",
     "output_type": "stream",
     "text": [
      "Setting levels: control = 0, case = 1\n",
      "\n",
      "Setting direction: controls < cases\n",
      "\n"
     ]
    },
    {
     "name": "stdout",
     "output_type": "stream",
     "text": [
      "[1] \"auc: 0.723776348794226\"\n",
      "[1] \"O/E 比率: 0.975639107024071\"\n",
      "[1] \"c_slope: 1.08077474775981\"\n",
      "[1] \"Brier 分数: 0.144113732956819\"\n"
     ]
    },
    {
     "name": "stderr",
     "output_type": "stream",
     "text": [
      "Setting levels: control = 0, case = 1\n",
      "\n",
      "Setting direction: controls < cases\n",
      "\n"
     ]
    },
    {
     "name": "stdout",
     "output_type": "stream",
     "text": [
      "[1] \"auc: 0.719459945982221\"\n",
      "[1] \"O/E 比率: 0.96659614925393\"\n",
      "[1] \"c_slope: 1.08050482077172\"\n",
      "[1] \"Brier 分数: 0.144343450375977\"\n"
     ]
    },
    {
     "name": "stderr",
     "output_type": "stream",
     "text": [
      "Setting levels: control = 0, case = 1\n",
      "\n",
      "Setting direction: controls < cases\n",
      "\n"
     ]
    },
    {
     "name": "stdout",
     "output_type": "stream",
     "text": [
      "[1] \"auc: 0.727030411129203\"\n",
      "[1] \"O/E 比率: 0.983834649425569\"\n",
      "[1] \"c_slope: 1.13550392264095\"\n",
      "[1] \"Brier 分数: 0.142917914933499\"\n"
     ]
    },
    {
     "name": "stderr",
     "output_type": "stream",
     "text": [
      "Setting levels: control = 0, case = 1\n",
      "\n",
      "Setting direction: controls < cases\n",
      "\n"
     ]
    },
    {
     "name": "stdout",
     "output_type": "stream",
     "text": [
      "[1] \"auc: 0.72084442659743\"\n",
      "[1] \"O/E 比率: 0.946183365493618\"\n",
      "[1] \"c_slope: 1.10803917302296\"\n",
      "[1] \"Brier 分数: 0.144463661422162\"\n"
     ]
    },
    {
     "name": "stderr",
     "output_type": "stream",
     "text": [
      "Setting levels: control = 0, case = 1\n",
      "\n",
      "Setting direction: controls < cases\n",
      "\n"
     ]
    },
    {
     "name": "stdout",
     "output_type": "stream",
     "text": [
      "[1] \"auc: 0.722601242078859\"\n",
      "[1] \"O/E 比率: 0.935776345176949\"\n",
      "[1] \"c_slope: 1.07605093745685\"\n",
      "[1] \"Brier 分数: 0.14377659162223\"\n"
     ]
    },
    {
     "name": "stderr",
     "output_type": "stream",
     "text": [
      "Setting levels: control = 0, case = 1\n",
      "\n",
      "Setting direction: controls < cases\n",
      "\n"
     ]
    },
    {
     "name": "stdout",
     "output_type": "stream",
     "text": [
      "[1] \"auc: 0.72082173582996\"\n",
      "[1] \"O/E 比率: 0.985873542223299\"\n",
      "[1] \"c_slope: 1.05638396304647\"\n",
      "[1] \"Brier 分数: 0.144614684254336\"\n"
     ]
    },
    {
     "name": "stderr",
     "output_type": "stream",
     "text": [
      "Setting levels: control = 0, case = 1\n",
      "\n",
      "Setting direction: controls < cases\n",
      "\n"
     ]
    },
    {
     "name": "stdout",
     "output_type": "stream",
     "text": [
      "[1] \"auc: 0.719229944111952\"\n",
      "[1] \"O/E 比率: 0.978739151020373\"\n",
      "[1] \"c_slope: 1.07935402198621\"\n",
      "[1] \"Brier 分数: 0.143945754732813\"\n"
     ]
    },
    {
     "name": "stderr",
     "output_type": "stream",
     "text": [
      "Setting levels: control = 0, case = 1\n",
      "\n",
      "Setting direction: controls < cases\n",
      "\n"
     ]
    },
    {
     "name": "stdout",
     "output_type": "stream",
     "text": [
      "[1] \"auc: 0.72120610367893\"\n",
      "[1] \"O/E 比率: 0.927734055217588\"\n",
      "[1] \"c_slope: 1.0774226666065\"\n",
      "[1] \"Brier 分数: 0.144237535747788\"\n"
     ]
    },
    {
     "name": "stderr",
     "output_type": "stream",
     "text": [
      "Setting levels: control = 0, case = 1\n",
      "\n",
      "Setting direction: controls < cases\n",
      "\n"
     ]
    },
    {
     "name": "stdout",
     "output_type": "stream",
     "text": [
      "[1] \"auc: 0.722176993487062\"\n",
      "[1] \"O/E 比率: 0.942887373432639\"\n",
      "[1] \"c_slope: 1.10735475803451\"\n",
      "[1] \"Brier 分数: 0.144083705818964\"\n"
     ]
    },
    {
     "name": "stderr",
     "output_type": "stream",
     "text": [
      "Setting levels: control = 0, case = 1\n",
      "\n",
      "Setting direction: controls < cases\n",
      "\n"
     ]
    },
    {
     "name": "stdout",
     "output_type": "stream",
     "text": [
      "[1] \"auc: 0.723721340873086\"\n",
      "[1] \"O/E 比率: 0.962781543107675\"\n",
      "[1] \"c_slope: 1.12034240625479\"\n",
      "[1] \"Brier 分数: 0.143941188535352\"\n"
     ]
    },
    {
     "name": "stderr",
     "output_type": "stream",
     "text": [
      "Setting levels: control = 0, case = 1\n",
      "\n",
      "Setting direction: controls < cases\n",
      "\n"
     ]
    },
    {
     "name": "stdout",
     "output_type": "stream",
     "text": [
      "[1] \"auc: 0.720940346659919\"\n",
      "[1] \"O/E 比率: 0.99465845825398\"\n",
      "[1] \"c_slope: 1.06449366639419\"\n",
      "[1] \"Brier 分数: 0.143502802471764\"\n"
     ]
    },
    {
     "name": "stderr",
     "output_type": "stream",
     "text": [
      "Setting levels: control = 0, case = 1\n",
      "\n",
      "Setting direction: controls < cases\n",
      "\n"
     ]
    },
    {
     "name": "stdout",
     "output_type": "stream",
     "text": [
      "[1] \"auc: 0.724088862546207\"\n",
      "[1] \"O/E 比率: 0.953584605144071\"\n",
      "[1] \"c_slope: 1.13287441924291\"\n",
      "[1] \"Brier 分数: 0.143081186237579\"\n"
     ]
    },
    {
     "name": "stderr",
     "output_type": "stream",
     "text": [
      "Setting levels: control = 0, case = 1\n",
      "\n",
      "Setting direction: controls < cases\n",
      "\n"
     ]
    },
    {
     "name": "stdout",
     "output_type": "stream",
     "text": [
      "[1] \"auc: 0.723611668830312\"\n",
      "[1] \"O/E 比率: 0.945939688953626\"\n",
      "[1] \"c_slope: 1.08886699675086\"\n",
      "[1] \"Brier 分数: 0.143779843396393\"\n"
     ]
    },
    {
     "name": "stderr",
     "output_type": "stream",
     "text": [
      "Setting levels: control = 0, case = 1\n",
      "\n",
      "Setting direction: controls < cases\n",
      "\n"
     ]
    },
    {
     "name": "stdout",
     "output_type": "stream",
     "text": [
      "[1] \"auc: 0.727318515116177\"\n",
      "[1] \"O/E 比率: 0.978028327159369\"\n",
      "[1] \"c_slope: 1.11211482121558\"\n",
      "[1] \"Brier 分数: 0.143064948565446\"\n"
     ]
    },
    {
     "name": "stderr",
     "output_type": "stream",
     "text": [
      "Setting levels: control = 0, case = 1\n",
      "\n",
      "Setting direction: controls < cases\n",
      "\n"
     ]
    },
    {
     "name": "stdout",
     "output_type": "stream",
     "text": [
      "[1] \"auc: 0.719759395352931\"\n",
      "[1] \"O/E 比率: 0.993932223592743\"\n",
      "[1] \"c_slope: 1.15993969279542\"\n",
      "[1] \"Brier 分数: 0.144886700038605\"\n"
     ]
    },
    {
     "name": "stderr",
     "output_type": "stream",
     "text": [
      "Setting levels: control = 0, case = 1\n",
      "\n",
      "Setting direction: controls < cases\n",
      "\n"
     ]
    },
    {
     "name": "stdout",
     "output_type": "stream",
     "text": [
      "[1] \"auc: 0.718628638773983\"\n",
      "[1] \"O/E 比率: 0.952843421249335\"\n",
      "[1] \"c_slope: 1.05297849459359\"\n",
      "[1] \"Brier 分数: 0.144546935150161\"\n"
     ]
    },
    {
     "name": "stderr",
     "output_type": "stream",
     "text": [
      "Setting levels: control = 0, case = 1\n",
      "\n",
      "Setting direction: controls < cases\n",
      "\n"
     ]
    },
    {
     "name": "stdout",
     "output_type": "stream",
     "text": [
      "[1] \"auc: 0.723890146431086\"\n",
      "[1] \"O/E 比率: 0.96738268385749\"\n",
      "[1] \"c_slope: 1.1291950558011\"\n",
      "[1] \"Brier 分数: 0.14402279275465\"\n"
     ]
    },
    {
     "name": "stderr",
     "output_type": "stream",
     "text": [
      "Setting levels: control = 0, case = 1\n",
      "\n",
      "Setting direction: controls < cases\n",
      "\n"
     ]
    },
    {
     "name": "stdout",
     "output_type": "stream",
     "text": [
      "[1] \"auc: 0.723852672284809\"\n",
      "[1] \"O/E 比率: 0.962958352484297\"\n",
      "[1] \"c_slope: 1.09552831975558\"\n",
      "[1] \"Brier 分数: 0.143959035331232\"\n"
     ]
    },
    {
     "name": "stderr",
     "output_type": "stream",
     "text": [
      "Setting levels: control = 0, case = 1\n",
      "\n",
      "Setting direction: controls < cases\n",
      "\n"
     ]
    },
    {
     "name": "stdout",
     "output_type": "stream",
     "text": [
      "[1] \"auc: 0.720164391172329\"\n",
      "[1] \"O/E 比率: 0.96793282555277\"\n",
      "[1] \"c_slope: 1.05268435329739\"\n",
      "[1] \"Brier 分数: 0.144562008923659\"\n"
     ]
    },
    {
     "name": "stderr",
     "output_type": "stream",
     "text": [
      "Setting levels: control = 0, case = 1\n",
      "\n",
      "Setting direction: controls < cases\n",
      "\n"
     ]
    },
    {
     "name": "stdout",
     "output_type": "stream",
     "text": [
      "[1] \"auc: 0.722705069530012\"\n",
      "[1] \"O/E 比率: 1.00314019910352\"\n",
      "[1] \"c_slope: 1.14716463719547\"\n",
      "[1] \"Brier 分数: 0.144109270661173\"\n"
     ]
    },
    {
     "name": "stderr",
     "output_type": "stream",
     "text": [
      "Setting levels: control = 0, case = 1\n",
      "\n",
      "Setting direction: controls < cases\n",
      "\n"
     ]
    },
    {
     "name": "stdout",
     "output_type": "stream",
     "text": [
      "[1] \"auc: 0.721240139830136\"\n",
      "[1] \"O/E 比率: 0.994036136407764\"\n",
      "[1] \"c_slope: 1.06171503772246\"\n",
      "[1] \"Brier 分数: 0.144026579132305\"\n"
     ]
    },
    {
     "name": "stderr",
     "output_type": "stream",
     "text": [
      "Setting levels: control = 0, case = 1\n",
      "\n",
      "Setting direction: controls < cases\n",
      "\n"
     ]
    },
    {
     "name": "stdout",
     "output_type": "stream",
     "text": [
      "[1] \"auc: 0.719761114350466\"\n",
      "[1] \"O/E 比率: 0.979204725672244\"\n",
      "[1] \"c_slope: 1.08855266975033\"\n",
      "[1] \"Brier 分数: 0.143896227232453\"\n"
     ]
    },
    {
     "name": "stderr",
     "output_type": "stream",
     "text": [
      "Setting levels: control = 0, case = 1\n",
      "\n",
      "Setting direction: controls < cases\n",
      "\n"
     ]
    },
    {
     "name": "stdout",
     "output_type": "stream",
     "text": [
      "[1] \"auc: 0.724280702671185\"\n",
      "[1] \"O/E 比率: 0.949205779857176\"\n",
      "[1] \"c_slope: 1.1435347539008\"\n",
      "[1] \"Brier 分数: 0.14346728685356\"\n"
     ]
    },
    {
     "name": "stderr",
     "output_type": "stream",
     "text": [
      "Setting levels: control = 0, case = 1\n",
      "\n",
      "Setting direction: controls < cases\n",
      "\n"
     ]
    },
    {
     "name": "stdout",
     "output_type": "stream",
     "text": [
      "[1] \"auc: 0.720203240516634\"\n",
      "[1] \"O/E 比率: 1.01152142893294\"\n",
      "[1] \"c_slope: 1.15954217433424\"\n",
      "[1] \"Brier 分数: 0.144414415694307\"\n"
     ]
    },
    {
     "name": "stderr",
     "output_type": "stream",
     "text": [
      "Setting levels: control = 0, case = 1\n",
      "\n",
      "Setting direction: controls < cases\n",
      "\n"
     ]
    },
    {
     "name": "stdout",
     "output_type": "stream",
     "text": [
      "[1] \"auc: 0.719978395638972\"\n",
      "[1] \"O/E 比率: 0.948515318599804\"\n",
      "[1] \"c_slope: 1.12303315366415\"\n",
      "[1] \"Brier 分数: 0.144348660969314\"\n"
     ]
    },
    {
     "name": "stderr",
     "output_type": "stream",
     "text": [
      "Setting levels: control = 0, case = 1\n",
      "\n",
      "Setting direction: controls < cases\n",
      "\n"
     ]
    },
    {
     "name": "stdout",
     "output_type": "stream",
     "text": [
      "[1] \"auc: 0.719145369433198\"\n",
      "[1] \"O/E 比率: 0.952638433369242\"\n",
      "[1] \"c_slope: 1.09931436681359\"\n",
      "[1] \"Brier 分数: 0.144895297406184\"\n"
     ]
    },
    {
     "name": "stderr",
     "output_type": "stream",
     "text": [
      "Setting levels: control = 0, case = 1\n",
      "\n",
      "Setting direction: controls < cases\n",
      "\n"
     ]
    },
    {
     "name": "stdout",
     "output_type": "stream",
     "text": [
      "[1] \"auc: 0.7224730048627\"\n",
      "[1] \"O/E 比率: 0.98242264964306\"\n",
      "[1] \"c_slope: 1.05032997322277\"\n",
      "[1] \"Brier 分数: 0.143624869014878\"\n"
     ]
    },
    {
     "name": "stderr",
     "output_type": "stream",
     "text": [
      "Setting levels: control = 0, case = 1\n",
      "\n",
      "Setting direction: controls < cases\n",
      "\n"
     ]
    },
    {
     "name": "stdout",
     "output_type": "stream",
     "text": [
      "[1] \"auc: 0.717828961120401\"\n",
      "[1] \"O/E 比率: 1.00749403127817\"\n",
      "[1] \"c_slope: 1.05938389743134\"\n",
      "[1] \"Brier 分数: 0.144847940595689\"\n"
     ]
    },
    {
     "name": "stderr",
     "output_type": "stream",
     "text": [
      "Setting levels: control = 0, case = 1\n",
      "\n",
      "Setting direction: controls < cases\n",
      "\n"
     ]
    },
    {
     "name": "stdout",
     "output_type": "stream",
     "text": [
      "[1] \"auc: 0.723380291762014\"\n",
      "[1] \"O/E 比率: 1.01083378863669\"\n",
      "[1] \"c_slope: 1.11349354467999\"\n",
      "[1] \"Brier 分数: 0.143527448548514\"\n"
     ]
    },
    {
     "name": "stderr",
     "output_type": "stream",
     "text": [
      "Setting levels: control = 0, case = 1\n",
      "\n",
      "Setting direction: controls < cases\n",
      "\n"
     ]
    },
    {
     "name": "stdout",
     "output_type": "stream",
     "text": [
      "[1] \"auc: 0.719718483211582\"\n",
      "[1] \"O/E 比率: 0.966196025743676\"\n",
      "[1] \"c_slope: 1.07838236372487\"\n",
      "[1] \"Brier 分数: 0.144455053602391\"\n"
     ]
    },
    {
     "name": "stderr",
     "output_type": "stream",
     "text": [
      "Setting levels: control = 0, case = 1\n",
      "\n",
      "Setting direction: controls < cases\n",
      "\n"
     ]
    },
    {
     "name": "stdout",
     "output_type": "stream",
     "text": [
      "[1] \"auc: 0.723269588320718\"\n",
      "[1] \"O/E 比率: 0.97901919337431\"\n",
      "[1] \"c_slope: 1.11646122574151\"\n",
      "[1] \"Brier 分数: 0.143296636833401\"\n"
     ]
    },
    {
     "name": "stderr",
     "output_type": "stream",
     "text": [
      "Setting levels: control = 0, case = 1\n",
      "\n",
      "Setting direction: controls < cases\n",
      "\n"
     ]
    },
    {
     "name": "stdout",
     "output_type": "stream",
     "text": [
      "[1] \"auc: 0.720554947412427\"\n",
      "[1] \"O/E 比率: 0.9705343507374\"\n",
      "[1] \"c_slope: 1.16385078893867\"\n",
      "[1] \"Brier 分数: 0.144078720554135\"\n"
     ]
    },
    {
     "name": "stderr",
     "output_type": "stream",
     "text": [
      "Setting levels: control = 0, case = 1\n",
      "\n",
      "Setting direction: controls < cases\n",
      "\n"
     ]
    },
    {
     "name": "stdout",
     "output_type": "stream",
     "text": [
      "[1] \"auc: 0.723320470647773\"\n",
      "[1] \"O/E 比率: 0.970463694053034\"\n",
      "[1] \"c_slope: 1.07415926734709\"\n",
      "[1] \"Brier 分数: 0.144223324941184\"\n"
     ]
    },
    {
     "name": "stderr",
     "output_type": "stream",
     "text": [
      "Setting levels: control = 0, case = 1\n",
      "\n",
      "Setting direction: controls < cases\n",
      "\n"
     ]
    },
    {
     "name": "stdout",
     "output_type": "stream",
     "text": [
      "[1] \"auc: 0.721763402679986\"\n",
      "[1] \"O/E 比率: 0.979609653553286\"\n",
      "[1] \"c_slope: 1.05649291573459\"\n",
      "[1] \"Brier 分数: 0.14407804976748\"\n"
     ]
    },
    {
     "name": "stderr",
     "output_type": "stream",
     "text": [
      "Setting levels: control = 0, case = 1\n",
      "\n",
      "Setting direction: controls < cases\n",
      "\n"
     ]
    },
    {
     "name": "stdout",
     "output_type": "stream",
     "text": [
      "[1] \"auc: 0.721670233013554\"\n",
      "[1] \"O/E 比率: 0.92630884993633\"\n",
      "[1] \"c_slope: 1.13284589844431\"\n",
      "[1] \"Brier 分数: 0.143766717610419\"\n"
     ]
    },
    {
     "name": "stderr",
     "output_type": "stream",
     "text": [
      "Setting levels: control = 0, case = 1\n",
      "\n",
      "Setting direction: controls < cases\n",
      "\n"
     ]
    },
    {
     "name": "stdout",
     "output_type": "stream",
     "text": [
      "[1] \"auc: 0.724299955443584\"\n",
      "[1] \"O/E 比率: 0.958436076303709\"\n",
      "[1] \"c_slope: 1.12610345038094\"\n",
      "[1] \"Brier 分数: 0.143541164798888\"\n"
     ]
    },
    {
     "name": "stderr",
     "output_type": "stream",
     "text": [
      "Setting levels: control = 0, case = 1\n",
      "\n",
      "Setting direction: controls < cases\n",
      "\n"
     ]
    },
    {
     "name": "stdout",
     "output_type": "stream",
     "text": [
      "[1] \"auc: 0.719954329673473\"\n",
      "[1] \"O/E 比率: 0.959858678902278\"\n",
      "[1] \"c_slope: 1.10450438305376\"\n",
      "[1] \"Brier 分数: 0.144853982597903\"\n"
     ]
    },
    {
     "name": "stderr",
     "output_type": "stream",
     "text": [
      "Setting levels: control = 0, case = 1\n",
      "\n",
      "Setting direction: controls < cases\n",
      "\n"
     ]
    },
    {
     "name": "stdout",
     "output_type": "stream",
     "text": [
      "[1] \"auc: 0.721127373591797\"\n",
      "[1] \"O/E 比率: 0.99309373758843\"\n",
      "[1] \"c_slope: 1.09812133451197\"\n",
      "[1] \"Brier 分数: 0.143962794380266\"\n"
     ]
    },
    {
     "name": "stderr",
     "output_type": "stream",
     "text": [
      "Setting levels: control = 0, case = 1\n",
      "\n",
      "Setting direction: controls < cases\n",
      "\n"
     ]
    },
    {
     "name": "stdout",
     "output_type": "stream",
     "text": [
      "[1] \"auc: 0.722447563699173\"\n",
      "[1] \"O/E 比率: 0.960447836565685\"\n",
      "[1] \"c_slope: 1.10235436642764\"\n",
      "[1] \"Brier 分数: 0.143904150215407\"\n"
     ]
    },
    {
     "name": "stderr",
     "output_type": "stream",
     "text": [
      "Setting levels: control = 0, case = 1\n",
      "\n",
      "Setting direction: controls < cases\n",
      "\n"
     ]
    },
    {
     "name": "stdout",
     "output_type": "stream",
     "text": [
      "[1] \"auc: 0.718318187819046\"\n",
      "[1] \"O/E 比率: 0.990050121516668\"\n",
      "[1] \"c_slope: 1.11218881654184\"\n",
      "[1] \"Brier 分数: 0.145128022140486\"\n"
     ]
    },
    {
     "name": "stderr",
     "output_type": "stream",
     "text": [
      "Setting levels: control = 0, case = 1\n",
      "\n",
      "Setting direction: controls < cases\n",
      "\n"
     ]
    },
    {
     "name": "stdout",
     "output_type": "stream",
     "text": [
      "[1] \"auc: 0.719615687158951\"\n",
      "[1] \"O/E 比率: 0.978546002784453\"\n",
      "[1] \"c_slope: 1.04569284536606\"\n",
      "[1] \"Brier 分数: 0.144346822367187\"\n"
     ]
    },
    {
     "name": "stderr",
     "output_type": "stream",
     "text": [
      "Setting levels: control = 0, case = 1\n",
      "\n",
      "Setting direction: controls < cases\n",
      "\n"
     ]
    },
    {
     "name": "stdout",
     "output_type": "stream",
     "text": [
      "[1] \"auc: 0.722649717809364\"\n",
      "[1] \"O/E 比率: 0.971589939972949\"\n",
      "[1] \"c_slope: 1.13521483552114\"\n",
      "[1] \"Brier 分数: 0.143812770441527\"\n"
     ]
    },
    {
     "name": "stderr",
     "output_type": "stream",
     "text": [
      "Setting levels: control = 0, case = 1\n",
      "\n",
      "Setting direction: controls < cases\n",
      "\n"
     ]
    },
    {
     "name": "stdout",
     "output_type": "stream",
     "text": [
      "[1] \"auc: 0.721164503938567\"\n",
      "[1] \"O/E 比率: 0.95608236389142\"\n",
      "[1] \"c_slope: 1.09209276446312\"\n",
      "[1] \"Brier 分数: 0.143994775825375\"\n"
     ]
    },
    {
     "name": "stderr",
     "output_type": "stream",
     "text": [
      "Setting levels: control = 0, case = 1\n",
      "\n",
      "Setting direction: controls < cases\n",
      "\n"
     ]
    },
    {
     "name": "stdout",
     "output_type": "stream",
     "text": [
      "[1] \"auc: 0.723114534743003\"\n",
      "[1] \"O/E 比率: 0.96963605174091\"\n",
      "[1] \"c_slope: 1.16236016338304\"\n",
      "[1] \"Brier 分数: 0.143352941910426\"\n"
     ]
    },
    {
     "name": "stderr",
     "output_type": "stream",
     "text": [
      "Setting levels: control = 0, case = 1\n",
      "\n",
      "Setting direction: controls < cases\n",
      "\n"
     ]
    },
    {
     "name": "stdout",
     "output_type": "stream",
     "text": [
      "[1] \"auc: 0.715401049001056\"\n",
      "[1] \"O/E 比率: 0.989754807825524\"\n",
      "[1] \"c_slope: 1.00206388475464\"\n",
      "[1] \"Brier 分数: 0.145301605062304\"\n"
     ]
    },
    {
     "name": "stderr",
     "output_type": "stream",
     "text": [
      "Setting levels: control = 0, case = 1\n",
      "\n",
      "Setting direction: controls < cases\n",
      "\n"
     ]
    },
    {
     "name": "stdout",
     "output_type": "stream",
     "text": [
      "[1] \"auc: 0.721994435948777\"\n",
      "[1] \"O/E 比率: 0.980814477243165\"\n",
      "[1] \"c_slope: 1.06194164659127\"\n",
      "[1] \"Brier 分数: 0.143855025550474\"\n"
     ]
    },
    {
     "name": "stderr",
     "output_type": "stream",
     "text": [
      "Setting levels: control = 0, case = 1\n",
      "\n",
      "Setting direction: controls < cases\n",
      "\n"
     ]
    },
    {
     "name": "stdout",
     "output_type": "stream",
     "text": [
      "[1] \"auc: 0.72681519263774\"\n",
      "[1] \"O/E 比率: 0.942498305260932\"\n",
      "[1] \"c_slope: 1.20686765409162\"\n",
      "[1] \"Brier 分数: 0.143846874301\"\n"
     ]
    },
    {
     "name": "stderr",
     "output_type": "stream",
     "text": [
      "Setting levels: control = 0, case = 1\n",
      "\n",
      "Setting direction: controls < cases\n",
      "\n"
     ]
    },
    {
     "name": "stdout",
     "output_type": "stream",
     "text": [
      "[1] \"auc: 0.726846478392889\"\n",
      "[1] \"O/E 比率: 0.989547177407233\"\n",
      "[1] \"c_slope: 1.1111430549647\"\n",
      "[1] \"Brier 分数: 0.143123021797558\"\n"
     ]
    },
    {
     "name": "stderr",
     "output_type": "stream",
     "text": [
      "Setting levels: control = 0, case = 1\n",
      "\n",
      "Setting direction: controls < cases\n",
      "\n"
     ]
    },
    {
     "name": "stdout",
     "output_type": "stream",
     "text": [
      "[1] \"auc: 0.718669207115825\"\n",
      "[1] \"O/E 比率: 0.973507007008199\"\n",
      "[1] \"c_slope: 1.08404892482653\"\n",
      "[1] \"Brier 分数: 0.144178545071772\"\n"
     ]
    },
    {
     "name": "stderr",
     "output_type": "stream",
     "text": [
      "Setting levels: control = 0, case = 1\n",
      "\n",
      "Setting direction: controls < cases\n",
      "\n"
     ]
    },
    {
     "name": "stdout",
     "output_type": "stream",
     "text": [
      "[1] \"auc: 0.719350961538462\"\n",
      "[1] \"O/E 比率: 0.965098995320646\"\n",
      "[1] \"c_slope: 1.13291049295965\"\n",
      "[1] \"Brier 分数: 0.144531717733071\"\n"
     ]
    },
    {
     "name": "stderr",
     "output_type": "stream",
     "text": [
      "Setting levels: control = 0, case = 1\n",
      "\n",
      "Setting direction: controls < cases\n",
      "\n"
     ]
    },
    {
     "name": "stdout",
     "output_type": "stream",
     "text": [
      "[1] \"auc: 0.724818061300827\"\n",
      "[1] \"O/E 比率: 0.971917853989977\"\n",
      "[1] \"c_slope: 1.1695044001214\"\n",
      "[1] \"Brier 分数: 0.142952209067521\"\n"
     ]
    },
    {
     "name": "stderr",
     "output_type": "stream",
     "text": [
      "Setting levels: control = 0, case = 1\n",
      "\n",
      "Setting direction: controls < cases\n",
      "\n"
     ]
    },
    {
     "name": "stdout",
     "output_type": "stream",
     "text": [
      "[1] \"auc: 0.724261106099278\"\n",
      "[1] \"O/E 比率: 0.98587704611191\"\n",
      "[1] \"c_slope: 1.07644219133328\"\n",
      "[1] \"Brier 分数: 0.14407631306257\"\n"
     ]
    },
    {
     "name": "stderr",
     "output_type": "stream",
     "text": [
      "Setting levels: control = 0, case = 1\n",
      "\n",
      "Setting direction: controls < cases\n",
      "\n"
     ]
    },
    {
     "name": "stdout",
     "output_type": "stream",
     "text": [
      "[1] \"auc: 0.719368151513818\"\n",
      "[1] \"O/E 比率: 0.988942304774788\"\n",
      "[1] \"c_slope: 1.07044576610394\"\n",
      "[1] \"Brier 分数: 0.144946331988181\"\n"
     ]
    },
    {
     "name": "stderr",
     "output_type": "stream",
     "text": [
      "Setting levels: control = 0, case = 1\n",
      "\n",
      "Setting direction: controls < cases\n",
      "\n"
     ]
    },
    {
     "name": "stdout",
     "output_type": "stream",
     "text": [
      "[1] \"auc: 0.720518160865165\"\n",
      "[1] \"O/E 比率: 0.954997334507129\"\n",
      "[1] \"c_slope: 1.07804822849012\"\n",
      "[1] \"Brier 分数: 0.144054049239554\"\n"
     ]
    },
    {
     "name": "stderr",
     "output_type": "stream",
     "text": [
      "Setting levels: control = 0, case = 1\n",
      "\n",
      "Setting direction: controls < cases\n",
      "\n"
     ]
    },
    {
     "name": "stdout",
     "output_type": "stream",
     "text": [
      "[1] \"auc: 0.721412727182714\"\n",
      "[1] \"O/E 比率: 0.951353587663484\"\n",
      "[1] \"c_slope: 1.12841858939018\"\n",
      "[1] \"Brier 分数: 0.144022552599144\"\n"
     ]
    },
    {
     "name": "stderr",
     "output_type": "stream",
     "text": [
      "Setting levels: control = 0, case = 1\n",
      "\n",
      "Setting direction: controls < cases\n",
      "\n"
     ]
    },
    {
     "name": "stdout",
     "output_type": "stream",
     "text": [
      "[1] \"auc: 0.724057920590565\"\n",
      "[1] \"O/E 比率: 0.952511057689646\"\n",
      "[1] \"c_slope: 1.1280226797723\"\n",
      "[1] \"Brier 分数: 0.143471282303836\"\n"
     ]
    },
    {
     "name": "stderr",
     "output_type": "stream",
     "text": [
      "Setting levels: control = 0, case = 1\n",
      "\n",
      "Setting direction: controls < cases\n",
      "\n"
     ]
    },
    {
     "name": "stdout",
     "output_type": "stream",
     "text": [
      "[1] \"auc: 0.719053918764302\"\n",
      "[1] \"O/E 比率: 1.01537551005436\"\n",
      "[1] \"c_slope: 1.10603973471226\"\n",
      "[1] \"Brier 分数: 0.144757866752907\"\n"
     ]
    },
    {
     "name": "stderr",
     "output_type": "stream",
     "text": [
      "Setting levels: control = 0, case = 1\n",
      "\n",
      "Setting direction: controls < cases\n",
      "\n"
     ]
    },
    {
     "name": "stdout",
     "output_type": "stream",
     "text": [
      "[1] \"auc: 0.722240596395881\"\n",
      "[1] \"O/E 比率: 0.978312635591063\"\n",
      "[1] \"c_slope: 1.11423455596881\"\n",
      "[1] \"Brier 分数: 0.143861156346112\"\n"
     ]
    },
    {
     "name": "stderr",
     "output_type": "stream",
     "text": [
      "Setting levels: control = 0, case = 1\n",
      "\n",
      "Setting direction: controls < cases\n",
      "\n"
     ]
    },
    {
     "name": "stdout",
     "output_type": "stream",
     "text": [
      "[1] \"auc: 0.72339507514082\"\n",
      "[1] \"O/E 比率: 0.934274692435057\"\n",
      "[1] \"c_slope: 1.11528487412716\"\n",
      "[1] \"Brier 分数: 0.14340876935655\"\n"
     ]
    },
    {
     "name": "stderr",
     "output_type": "stream",
     "text": [
      "Setting levels: control = 0, case = 1\n",
      "\n",
      "Setting direction: controls < cases\n",
      "\n"
     ]
    },
    {
     "name": "stdout",
     "output_type": "stream",
     "text": [
      "[1] \"auc: 0.721321620313325\"\n",
      "[1] \"O/E 比率: 0.96741607293527\"\n",
      "[1] \"c_slope: 1.17290804763548\"\n",
      "[1] \"Brier 分数: 0.143939360377659\"\n"
     ]
    },
    {
     "name": "stderr",
     "output_type": "stream",
     "text": [
      "Setting levels: control = 0, case = 1\n",
      "\n",
      "Setting direction: controls < cases\n",
      "\n"
     ]
    },
    {
     "name": "stdout",
     "output_type": "stream",
     "text": [
      "[1] \"auc: 0.72190298527988\"\n",
      "[1] \"O/E 比率: 0.961069299626486\"\n",
      "[1] \"c_slope: 1.14334739935422\"\n",
      "[1] \"Brier 分数: 0.144085563700049\"\n"
     ]
    },
    {
     "name": "stderr",
     "output_type": "stream",
     "text": [
      "Setting levels: control = 0, case = 1\n",
      "\n",
      "Setting direction: controls < cases\n",
      "\n"
     ]
    },
    {
     "name": "stdout",
     "output_type": "stream",
     "text": [
      "[1] \"auc: 0.72027922020771\"\n",
      "[1] \"O/E 比率: 0.950695382190912\"\n",
      "[1] \"c_slope: 1.17259066231001\"\n",
      "[1] \"Brier 分数: 0.143763511444538\"\n"
     ]
    },
    {
     "name": "stderr",
     "output_type": "stream",
     "text": [
      "Setting levels: control = 0, case = 1\n",
      "\n",
      "Setting direction: controls < cases\n",
      "\n"
     ]
    },
    {
     "name": "stdout",
     "output_type": "stream",
     "text": [
      "[1] \"auc: 0.722266381358916\"\n",
      "[1] \"O/E 比率: 0.943199159605048\"\n",
      "[1] \"c_slope: 1.09859583133487\"\n",
      "[1] \"Brier 分数: 0.144133962261187\"\n"
     ]
    },
    {
     "name": "stderr",
     "output_type": "stream",
     "text": [
      "Setting levels: control = 0, case = 1\n",
      "\n",
      "Setting direction: controls < cases\n",
      "\n"
     ]
    },
    {
     "name": "stdout",
     "output_type": "stream",
     "text": [
      "[1] \"auc: 0.720027558968491\"\n",
      "[1] \"O/E 比率: 0.972155696934018\"\n",
      "[1] \"c_slope: 1.04076816299537\"\n",
      "[1] \"Brier 分数: 0.143941384854566\"\n"
     ]
    },
    {
     "name": "stderr",
     "output_type": "stream",
     "text": [
      "Setting levels: control = 0, case = 1\n",
      "\n",
      "Setting direction: controls < cases\n",
      "\n"
     ]
    },
    {
     "name": "stdout",
     "output_type": "stream",
     "text": [
      "[1] \"auc: 0.717432560288682\"\n",
      "[1] \"O/E 比率: 0.966720274300321\"\n",
      "[1] \"c_slope: 1.19190362316396\"\n",
      "[1] \"Brier 分数: 0.144314302442413\"\n"
     ]
    },
    {
     "name": "stderr",
     "output_type": "stream",
     "text": [
      "Setting levels: control = 0, case = 1\n",
      "\n",
      "Setting direction: controls < cases\n",
      "\n"
     ]
    },
    {
     "name": "stdout",
     "output_type": "stream",
     "text": [
      "[1] \"auc: 0.722465097474036\"\n",
      "[1] \"O/E 比率: 0.931594519024981\"\n",
      "[1] \"c_slope: 1.14377450829365\"\n",
      "[1] \"Brier 分数: 0.144264716572503\"\n"
     ]
    },
    {
     "name": "stderr",
     "output_type": "stream",
     "text": [
      "Setting levels: control = 0, case = 1\n",
      "\n",
      "Setting direction: controls < cases\n",
      "\n"
     ]
    },
    {
     "name": "stdout",
     "output_type": "stream",
     "text": [
      "[1] \"auc: 0.719240601896673\"\n",
      "[1] \"O/E 比率: 0.972522073012295\"\n",
      "[1] \"c_slope: 1.14824085527467\"\n",
      "[1] \"Brier 分数: 0.144342212133674\"\n"
     ]
    },
    {
     "name": "stderr",
     "output_type": "stream",
     "text": [
      "Setting levels: control = 0, case = 1\n",
      "\n",
      "Setting direction: controls < cases\n",
      "\n"
     ]
    },
    {
     "name": "stdout",
     "output_type": "stream",
     "text": [
      "[1] \"auc: 0.724084049353107\"\n",
      "[1] \"O/E 比率: 0.985813575371699\"\n",
      "[1] \"c_slope: 1.17305128755102\"\n",
      "[1] \"Brier 分数: 0.143729509022895\"\n"
     ]
    },
    {
     "name": "stderr",
     "output_type": "stream",
     "text": [
      "Setting levels: control = 0, case = 1\n",
      "\n",
      "Setting direction: controls < cases\n",
      "\n"
     ]
    },
    {
     "name": "stdout",
     "output_type": "stream",
     "text": [
      "[1] \"auc: 0.723419141106319\"\n",
      "[1] \"O/E 比率: 0.963770961932797\"\n",
      "[1] \"c_slope: 1.11210281019268\"\n",
      "[1] \"Brier 分数: 0.143356033164705\"\n"
     ]
    },
    {
     "name": "stderr",
     "output_type": "stream",
     "text": [
      "Setting levels: control = 0, case = 1\n",
      "\n",
      "Setting direction: controls < cases\n",
      "\n"
     ]
    },
    {
     "name": "stdout",
     "output_type": "stream",
     "text": [
      "[1] \"auc: 0.722301105109136\"\n",
      "[1] \"O/E 比率: 0.961171863821162\"\n",
      "[1] \"c_slope: 1.13714029152151\"\n",
      "[1] \"Brier 分数: 0.143335600893307\"\n"
     ]
    },
    {
     "name": "stderr",
     "output_type": "stream",
     "text": [
      "Setting levels: control = 0, case = 1\n",
      "\n",
      "Setting direction: controls < cases\n",
      "\n"
     ]
    },
    {
     "name": "stdout",
     "output_type": "stream",
     "text": [
      "[1] \"auc: 0.723048525237634\"\n",
      "[1] \"O/E 比率: 0.960759452137631\"\n",
      "[1] \"c_slope: 1.13780756001674\"\n",
      "[1] \"Brier 分数: 0.143463576996281\"\n"
     ]
    },
    {
     "name": "stderr",
     "output_type": "stream",
     "text": [
      "Setting levels: control = 0, case = 1\n",
      "\n",
      "Setting direction: controls < cases\n",
      "\n"
     ]
    },
    {
     "name": "stdout",
     "output_type": "stream",
     "text": [
      "[1] \"auc: 0.722883157674705\"\n",
      "[1] \"O/E 比率: 1.00596400145894\"\n",
      "[1] \"c_slope: 1.10194219099528\"\n",
      "[1] \"Brier 分数: 0.143867926798882\"\n"
     ]
    },
    {
     "name": "stderr",
     "output_type": "stream",
     "text": [
      "Setting levels: control = 0, case = 1\n",
      "\n",
      "Setting direction: controls < cases\n",
      "\n"
     ]
    },
    {
     "name": "stdout",
     "output_type": "stream",
     "text": [
      "[1] \"auc: 0.724660601126562\"\n",
      "[1] \"O/E 比率: 0.959821204814247\"\n",
      "[1] \"c_slope: 1.11772924127028\"\n",
      "[1] \"Brier 分数: 0.143601759578259\"\n"
     ]
    },
    {
     "name": "stderr",
     "output_type": "stream",
     "text": [
      "Setting levels: control = 0, case = 1\n",
      "\n",
      "Setting direction: controls < cases\n",
      "\n"
     ]
    },
    {
     "name": "stdout",
     "output_type": "stream",
     "text": [
      "[1] \"auc: 0.724384873921845\"\n",
      "[1] \"O/E 比率: 0.965321369683439\"\n",
      "[1] \"c_slope: 1.13029016170184\"\n",
      "[1] \"Brier 分数: 0.143433626518258\"\n"
     ]
    },
    {
     "name": "stderr",
     "output_type": "stream",
     "text": [
      "Setting levels: control = 0, case = 1\n",
      "\n",
      "Setting direction: controls < cases\n",
      "\n"
     ]
    },
    {
     "name": "stdout",
     "output_type": "stream",
     "text": [
      "[1] \"auc: 0.723186388839993\"\n",
      "[1] \"O/E 比率: 0.952671213327676\"\n",
      "[1] \"c_slope: 1.04243347055747\"\n",
      "[1] \"Brier 分数: 0.143430949155627\"\n"
     ]
    },
    {
     "name": "stderr",
     "output_type": "stream",
     "text": [
      "Setting levels: control = 0, case = 1\n",
      "\n",
      "Setting direction: controls < cases\n",
      "\n"
     ]
    },
    {
     "name": "stdout",
     "output_type": "stream",
     "text": [
      "[1] \"auc: 0.719378465499032\"\n",
      "[1] \"O/E 比率: 0.906382978419662\"\n",
      "[1] \"c_slope: 1.06437442261272\"\n",
      "[1] \"Brier 分数: 0.144482866565644\"\n"
     ]
    },
    {
     "name": "stderr",
     "output_type": "stream",
     "text": [
      "Setting levels: control = 0, case = 1\n",
      "\n",
      "Setting direction: controls < cases\n",
      "\n"
     ]
    },
    {
     "name": "stdout",
     "output_type": "stream",
     "text": [
      "[1] \"auc: 0.722494664231649\"\n",
      "[1] \"O/E 比率: 0.946040486706046\"\n",
      "[1] \"c_slope: 1.09132280034504\"\n",
      "[1] \"Brier 分数: 0.143613170013292\"\n"
     ]
    },
    {
     "name": "stderr",
     "output_type": "stream",
     "text": [
      "Setting levels: control = 0, case = 1\n",
      "\n",
      "Setting direction: controls < cases\n",
      "\n"
     ]
    },
    {
     "name": "stdout",
     "output_type": "stream",
     "text": [
      "[1] \"auc: 0.719951579277416\"\n",
      "[1] \"O/E 比率: 0.995207169578409\"\n",
      "[1] \"c_slope: 1.17258645335432\"\n",
      "[1] \"Brier 分数: 0.144102381337589\"\n"
     ]
    },
    {
     "name": "stderr",
     "output_type": "stream",
     "text": [
      "Setting levels: control = 0, case = 1\n",
      "\n",
      "Setting direction: controls < cases\n",
      "\n"
     ]
    },
    {
     "name": "stdout",
     "output_type": "stream",
     "text": [
      "[1] \"auc: 0.721086805249956\"\n",
      "[1] \"O/E 比率: 0.9559699545383\"\n",
      "[1] \"c_slope: 1.0556226745022\"\n",
      "[1] \"Brier 分数: 0.143688234148194\"\n"
     ]
    },
    {
     "name": "stderr",
     "output_type": "stream",
     "text": [
      "Setting levels: control = 0, case = 1\n",
      "\n",
      "Setting direction: controls < cases\n",
      "\n"
     ]
    },
    {
     "name": "stdout",
     "output_type": "stream",
     "text": [
      "[1] \"auc: 0.72439862590213\"\n",
      "[1] \"O/E 比率: 0.916420773871007\"\n",
      "[1] \"c_slope: 1.0649010799833\"\n",
      "[1] \"Brier 分数: 0.143617865276393\"\n"
     ]
    },
    {
     "name": "stderr",
     "output_type": "stream",
     "text": [
      "Setting levels: control = 0, case = 1\n",
      "\n",
      "Setting direction: controls < cases\n",
      "\n"
     ]
    },
    {
     "name": "stdout",
     "output_type": "stream",
     "text": [
      "[1] \"auc: 0.722838463738778\"\n",
      "[1] \"O/E 比率: 0.951880940768451\"\n",
      "[1] \"c_slope: 1.15619207665461\"\n",
      "[1] \"Brier 分数: 0.143586691010814\"\n"
     ]
    },
    {
     "name": "stderr",
     "output_type": "stream",
     "text": [
      "Setting levels: control = 0, case = 1\n",
      "\n",
      "Setting direction: controls < cases\n",
      "\n"
     ]
    },
    {
     "name": "stdout",
     "output_type": "stream",
     "text": [
      "[1] \"auc: 0.720032028362084\"\n",
      "[1] \"O/E 比率: 0.983728164513588\"\n",
      "[1] \"c_slope: 1.12069526826667\"\n",
      "[1] \"Brier 分数: 0.144379431525938\"\n"
     ]
    },
    {
     "name": "stderr",
     "output_type": "stream",
     "text": [
      "Setting levels: control = 0, case = 1\n",
      "\n",
      "Setting direction: controls < cases\n",
      "\n"
     ]
    },
    {
     "name": "stdout",
     "output_type": "stream",
     "text": [
      "[1] \"auc: 0.721595284721\"\n",
      "[1] \"O/E 比率: 0.944439096879086\"\n",
      "[1] \"c_slope: 1.06152050872356\"\n",
      "[1] \"Brier 分数: 0.144277635862634\"\n"
     ]
    },
    {
     "name": "stderr",
     "output_type": "stream",
     "text": [
      "Setting levels: control = 0, case = 1\n",
      "\n",
      "Setting direction: controls < cases\n",
      "\n"
     ]
    },
    {
     "name": "stdout",
     "output_type": "stream",
     "text": [
      "[1] \"auc: 0.71945169479405\"\n",
      "[1] \"O/E 比率: 0.964006792798899\"\n",
      "[1] \"c_slope: 1.13065590936532\"\n",
      "[1] \"Brier 分数: 0.144221913380533\"\n"
     ]
    },
    {
     "name": "stderr",
     "output_type": "stream",
     "text": [
      "Setting levels: control = 0, case = 1\n",
      "\n",
      "Setting direction: controls < cases\n",
      "\n"
     ]
    },
    {
     "name": "stdout",
     "output_type": "stream",
     "text": [
      "[1] \"auc: 0.724600436212815\"\n",
      "[1] \"O/E 比率: 0.958053498445926\"\n",
      "[1] \"c_slope: 1.12655314274592\"\n",
      "[1] \"Brier 分数: 0.143287686356477\"\n"
     ]
    },
    {
     "name": "stderr",
     "output_type": "stream",
     "text": [
      "Setting levels: control = 0, case = 1\n",
      "\n",
      "Setting direction: controls < cases\n",
      "\n"
     ]
    },
    {
     "name": "stdout",
     "output_type": "stream",
     "text": [
      "[1] \"auc: 0.724414096879951\"\n",
      "[1] \"O/E 比率: 0.958216402868581\"\n",
      "[1] \"c_slope: 1.10928040157246\"\n",
      "[1] \"Brier 分数: 0.143111788849721\"\n"
     ]
    },
    {
     "name": "stderr",
     "output_type": "stream",
     "text": [
      "Setting levels: control = 0, case = 1\n",
      "\n",
      "Setting direction: controls < cases\n",
      "\n"
     ]
    },
    {
     "name": "stdout",
     "output_type": "stream",
     "text": [
      "[1] \"auc: 0.722729135495511\"\n",
      "[1] \"O/E 比率: 0.976082956170076\"\n",
      "[1] \"c_slope: 1.06566040917042\"\n",
      "[1] \"Brier 分数: 0.144369159837731\"\n"
     ]
    },
    {
     "name": "stderr",
     "output_type": "stream",
     "text": [
      "Setting levels: control = 0, case = 1\n",
      "\n",
      "Setting direction: controls < cases\n",
      "\n"
     ]
    },
    {
     "name": "stdout",
     "output_type": "stream",
     "text": [
      "[1] \"auc: 0.720583138972012\"\n",
      "[1] \"O/E 比率: 0.966593122399207\"\n",
      "[1] \"c_slope: 1.10277345515416\"\n",
      "[1] \"Brier 分数: 0.144061886445209\"\n"
     ]
    },
    {
     "name": "stderr",
     "output_type": "stream",
     "text": [
      "Setting levels: control = 0, case = 1\n",
      "\n",
      "Setting direction: controls < cases\n",
      "\n"
     ]
    },
    {
     "name": "stdout",
     "output_type": "stream",
     "text": [
      "[1] \"auc: 0.721395537207358\"\n",
      "[1] \"O/E 比率: 0.971058413819046\"\n",
      "[1] \"c_slope: 1.10465698816811\"\n",
      "[1] \"Brier 分数: 0.143801360043242\"\n"
     ]
    },
    {
     "name": "stderr",
     "output_type": "stream",
     "text": [
      "Setting levels: control = 0, case = 1\n",
      "\n",
      "Setting direction: controls < cases\n",
      "\n"
     ]
    },
    {
     "name": "stdout",
     "output_type": "stream",
     "text": [
      "[1] \"auc: 0.720554259813413\"\n",
      "[1] \"O/E 比率: 0.95871821966731\"\n",
      "[1] \"c_slope: 1.09520488452895\"\n",
      "[1] \"Brier 分数: 0.144224903349281\"\n"
     ]
    },
    {
     "name": "stderr",
     "output_type": "stream",
     "text": [
      "Setting levels: control = 0, case = 1\n",
      "\n",
      "Setting direction: controls < cases\n",
      "\n"
     ]
    },
    {
     "name": "stdout",
     "output_type": "stream",
     "text": [
      "[1] \"auc: 0.724352212968667\"\n",
      "[1] \"O/E 比率: 0.989603072271592\"\n",
      "[1] \"c_slope: 1.119103598815\"\n",
      "[1] \"Brier 分数: 0.144008947199212\"\n"
     ]
    },
    {
     "name": "stderr",
     "output_type": "stream",
     "text": [
      "Setting levels: control = 0, case = 1\n",
      "\n",
      "Setting direction: controls < cases\n",
      "\n"
     ]
    },
    {
     "name": "stdout",
     "output_type": "stream",
     "text": [
      "[1] \"auc: 0.72335794479405\"\n",
      "[1] \"O/E 比率: 0.964209774534827\"\n",
      "[1] \"c_slope: 1.07498730114206\"\n",
      "[1] \"Brier 分数: 0.144329589794989\"\n"
     ]
    },
    {
     "name": "stderr",
     "output_type": "stream",
     "text": [
      "Setting levels: control = 0, case = 1\n",
      "\n",
      "Setting direction: controls < cases\n",
      "\n"
     ]
    },
    {
     "name": "stdout",
     "output_type": "stream",
     "text": [
      "[1] \"auc: 0.724203347782081\"\n",
      "[1] \"O/E 比率: 0.969883223793366\"\n",
      "[1] \"c_slope: 1.13594807932635\"\n",
      "[1] \"Brier 分数: 0.143686660191788\"\n"
     ]
    },
    {
     "name": "stderr",
     "output_type": "stream",
     "text": [
      "Setting levels: control = 0, case = 1\n",
      "\n",
      "Setting direction: controls < cases\n",
      "\n"
     ]
    },
    {
     "name": "stdout",
     "output_type": "stream",
     "text": [
      "[1] \"auc: 0.723217674595142\"\n",
      "[1] \"O/E 比率: 0.984388776047102\"\n",
      "[1] \"c_slope: 1.11015486551708\"\n",
      "[1] \"Brier 分数: 0.143880727223732\"\n"
     ]
    },
    {
     "name": "stderr",
     "output_type": "stream",
     "text": [
      "Setting levels: control = 0, case = 1\n",
      "\n",
      "Setting direction: controls < cases\n",
      "\n"
     ]
    },
    {
     "name": "stdout",
     "output_type": "stream",
     "text": [
      "[1] \"auc: 0.720884307340257\"\n",
      "[1] \"O/E 比率: 0.964587822995879\"\n",
      "[1] \"c_slope: 1.0684273265458\"\n",
      "[1] \"Brier 分数: 0.1440712125112\"\n"
     ]
    },
    {
     "name": "stderr",
     "output_type": "stream",
     "text": [
      "Setting levels: control = 0, case = 1\n",
      "\n",
      "Setting direction: controls < cases\n",
      "\n"
     ]
    },
    {
     "name": "stdout",
     "output_type": "stream",
     "text": [
      "[1] \"auc: 0.72396268812709\"\n",
      "[1] \"O/E 比率: 0.987078323448882\"\n",
      "[1] \"c_slope: 1.08994256772027\"\n",
      "[1] \"Brier 分数: 0.144112200770382\"\n"
     ]
    },
    {
     "name": "stderr",
     "output_type": "stream",
     "text": [
      "Setting levels: control = 0, case = 1\n",
      "\n",
      "Setting direction: controls < cases\n",
      "\n"
     ]
    },
    {
     "name": "stdout",
     "output_type": "stream",
     "text": [
      "[1] \"auc: 0.72215327132107\"\n",
      "[1] \"O/E 比率: 0.966298283245762\"\n",
      "[1] \"c_slope: 1.09298562911124\"\n",
      "[1] \"Brier 分数: 0.143212892336959\"\n"
     ]
    },
    {
     "name": "stderr",
     "output_type": "stream",
     "text": [
      "Setting levels: control = 0, case = 1\n",
      "\n",
      "Setting direction: controls < cases\n",
      "\n"
     ]
    },
    {
     "name": "stdout",
     "output_type": "stream",
     "text": [
      "[1] \"auc: 0.723727873063721\"\n",
      "[1] \"O/E 比率: 0.93868937863827\"\n",
      "[1] \"c_slope: 1.09980385850621\"\n",
      "[1] \"Brier 分数: 0.143825928279436\"\n"
     ]
    },
    {
     "name": "stderr",
     "output_type": "stream",
     "text": [
      "Setting levels: control = 0, case = 1\n",
      "\n",
      "Setting direction: controls < cases\n",
      "\n"
     ]
    },
    {
     "name": "stdout",
     "output_type": "stream",
     "text": [
      "[1] \"auc: 0.724753426993487\"\n",
      "[1] \"O/E 比率: 0.957511493045266\"\n",
      "[1] \"c_slope: 1.10477600234046\"\n",
      "[1] \"Brier 分数: 0.143383394532206\"\n"
     ]
    },
    {
     "name": "stderr",
     "output_type": "stream",
     "text": [
      "Setting levels: control = 0, case = 1\n",
      "\n",
      "Setting direction: controls < cases\n",
      "\n"
     ]
    },
    {
     "name": "stdout",
     "output_type": "stream",
     "text": [
      "[1] \"auc: 0.721939428027636\"\n",
      "[1] \"O/E 比率: 0.969279377940813\"\n",
      "[1] \"c_slope: 1.1194683060014\"\n",
      "[1] \"Brier 分数: 0.143942999801304\"\n"
     ]
    },
    {
     "name": "stderr",
     "output_type": "stream",
     "text": [
      "Setting levels: control = 0, case = 1\n",
      "\n",
      "Setting direction: controls < cases\n",
      "\n"
     ]
    },
    {
     "name": "stdout",
     "output_type": "stream",
     "text": [
      "[1] \"auc: 0.721865167334096\"\n",
      "[1] \"O/E 比率: 0.964935135163392\"\n",
      "[1] \"c_slope: 1.09273583283368\"\n",
      "[1] \"Brier 分数: 0.144230379910974\"\n"
     ]
    },
    {
     "name": "stderr",
     "output_type": "stream",
     "text": [
      "Setting levels: control = 0, case = 1\n",
      "\n",
      "Setting direction: controls < cases\n",
      "\n"
     ]
    },
    {
     "name": "stdout",
     "output_type": "stream",
     "text": [
      "[1] \"auc: 0.721634477864812\"\n",
      "[1] \"O/E 比率: 0.930227786201389\"\n",
      "[1] \"c_slope: 1.15298530488724\"\n",
      "[1] \"Brier 分数: 0.144424799417937\"\n"
     ]
    },
    {
     "name": "stderr",
     "output_type": "stream",
     "text": [
      "Setting levels: control = 0, case = 1\n",
      "\n",
      "Setting direction: controls < cases\n",
      "\n"
     ]
    },
    {
     "name": "stdout",
     "output_type": "stream",
     "text": [
      "[1] \"auc: 0.718041773015314\"\n",
      "[1] \"O/E 比率: 1.0121364155482\"\n",
      "[1] \"c_slope: 1.0630526769429\"\n",
      "[1] \"Brier 分数: 0.14452314014581\"\n"
     ]
    },
    {
     "name": "stderr",
     "output_type": "stream",
     "text": [
      "Setting levels: control = 0, case = 1\n",
      "\n",
      "Setting direction: controls < cases\n",
      "\n"
     ]
    },
    {
     "name": "stdout",
     "output_type": "stream",
     "text": [
      "[1] \"auc: 0.719908948138532\"\n",
      "[1] \"O/E 比率: 0.979000939811792\"\n",
      "[1] \"c_slope: 1.20365269202641\"\n",
      "[1] \"Brier 分数: 0.144370074090093\"\n"
     ]
    },
    {
     "name": "stderr",
     "output_type": "stream",
     "text": [
      "Setting levels: control = 0, case = 1\n",
      "\n",
      "Setting direction: controls < cases\n",
      "\n"
     ]
    },
    {
     "name": "stdout",
     "output_type": "stream",
     "text": [
      "[1] \"auc: 0.723473461428446\"\n",
      "[1] \"O/E 比率: 0.939989966273152\"\n",
      "[1] \"c_slope: 1.02436479394845\"\n",
      "[1] \"Brier 分数: 0.144222973548962\"\n"
     ]
    },
    {
     "name": "stderr",
     "output_type": "stream",
     "text": [
      "Setting levels: control = 0, case = 1\n",
      "\n",
      "Setting direction: controls < cases\n",
      "\n"
     ]
    },
    {
     "name": "stdout",
     "output_type": "stream",
     "text": [
      "[1] \"auc: 0.718761001584228\"\n",
      "[1] \"O/E 比率: 0.975847753434988\"\n",
      "[1] \"c_slope: 1.1035080090587\"\n",
      "[1] \"Brier 分数: 0.144605351700847\"\n"
     ]
    },
    {
     "name": "stderr",
     "output_type": "stream",
     "text": [
      "Setting levels: control = 0, case = 1\n",
      "\n",
      "Setting direction: controls < cases\n",
      "\n"
     ]
    },
    {
     "name": "stdout",
     "output_type": "stream",
     "text": [
      "[1] \"auc: 0.722053569464003\"\n",
      "[1] \"O/E 比率: 0.96655425596491\"\n",
      "[1] \"c_slope: 1.09512532273539\"\n",
      "[1] \"Brier 分数: 0.143760344962275\"\n"
     ]
    },
    {
     "name": "stderr",
     "output_type": "stream",
     "text": [
      "Setting levels: control = 0, case = 1\n",
      "\n",
      "Setting direction: controls < cases\n",
      "\n"
     ]
    },
    {
     "name": "stdout",
     "output_type": "stream",
     "text": [
      "[1] \"auc: 0.723175731055272\"\n",
      "[1] \"O/E 比率: 0.957295980391039\"\n",
      "[1] \"c_slope: 1.11971569713398\"\n",
      "[1] \"Brier 分数: 0.143610788236044\"\n"
     ]
    },
    {
     "name": "stderr",
     "output_type": "stream",
     "text": [
      "Setting levels: control = 0, case = 1\n",
      "\n",
      "Setting direction: controls < cases\n",
      "\n"
     ]
    },
    {
     "name": "stdout",
     "output_type": "stream",
     "text": [
      "[1] \"auc: 0.723173668258229\"\n",
      "[1] \"O/E 比率: 0.951734393964623\"\n",
      "[1] \"c_slope: 1.15145639746173\"\n",
      "[1] \"Brier 分数: 0.143734970487634\"\n"
     ]
    },
    {
     "name": "stderr",
     "output_type": "stream",
     "text": [
      "Setting levels: control = 0, case = 1\n",
      "\n",
      "Setting direction: controls < cases\n",
      "\n"
     ]
    },
    {
     "name": "stdout",
     "output_type": "stream",
     "text": [
      "[1] \"auc: 0.718342597584052\"\n",
      "[1] \"O/E 比率: 0.979109773337266\"\n",
      "[1] \"c_slope: 1.10513562001434\"\n",
      "[1] \"Brier 分数: 0.144261381192474\"\n"
     ]
    },
    {
     "name": "stderr",
     "output_type": "stream",
     "text": [
      "Setting levels: control = 0, case = 1\n",
      "\n",
      "Setting direction: controls < cases\n",
      "\n"
     ]
    },
    {
     "name": "stdout",
     "output_type": "stream",
     "text": [
      "[1] \"auc: 0.726783219283577\"\n",
      "[1] \"O/E 比率: 0.94891791122668\"\n",
      "[1] \"c_slope: 1.08246250453331\"\n",
      "[1] \"Brier 分数: 0.143368340697915\"\n"
     ]
    },
    {
     "name": "stderr",
     "output_type": "stream",
     "text": [
      "Setting levels: control = 0, case = 1\n",
      "\n",
      "Setting direction: controls < cases\n",
      "\n"
     ]
    },
    {
     "name": "stdout",
     "output_type": "stream",
     "text": [
      "[1] \"auc: 0.724604218007393\"\n",
      "[1] \"O/E 比率: 0.972207042941493\"\n",
      "[1] \"c_slope: 1.21651721488455\"\n",
      "[1] \"Brier 分数: 0.143670317956037\"\n"
     ]
    },
    {
     "name": "stderr",
     "output_type": "stream",
     "text": [
      "Setting levels: control = 0, case = 1\n",
      "\n",
      "Setting direction: controls < cases\n",
      "\n"
     ]
    },
    {
     "name": "stdout",
     "output_type": "stream",
     "text": [
      "[1] \"auc: 0.724394844107552\"\n",
      "[1] \"O/E 比率: 0.965603734012499\"\n",
      "[1] \"c_slope: 1.09848986336361\"\n",
      "[1] \"Brier 分数: 0.14396543055009\"\n"
     ]
    },
    {
     "name": "stderr",
     "output_type": "stream",
     "text": [
      "Setting levels: control = 0, case = 1\n",
      "\n",
      "Setting direction: controls < cases\n",
      "\n"
     ]
    },
    {
     "name": "stdout",
     "output_type": "stream",
     "text": [
      "[1] \"auc: 0.721331934298539\"\n",
      "[1] \"O/E 比率: 0.974463203580967\"\n",
      "[1] \"c_slope: 1.06851385858534\"\n",
      "[1] \"Brier 分数: 0.143949014111955\"\n"
     ]
    },
    {
     "name": "stderr",
     "output_type": "stream",
     "text": [
      "Setting levels: control = 0, case = 1\n",
      "\n",
      "Setting direction: controls < cases\n",
      "\n"
     ]
    },
    {
     "name": "stdout",
     "output_type": "stream",
     "text": [
      "[1] \"auc: 0.71748309881623\"\n",
      "[1] \"O/E 比率: 0.969272312356942\"\n",
      "[1] \"c_slope: 1.13926518348585\"\n",
      "[1] \"Brier 分数: 0.145186776129115\"\n"
     ]
    },
    {
     "name": "stderr",
     "output_type": "stream",
     "text": [
      "Setting levels: control = 0, case = 1\n",
      "\n",
      "Setting direction: controls < cases\n",
      "\n"
     ]
    },
    {
     "name": "stdout",
     "output_type": "stream",
     "text": [
      "[1] \"auc: 0.722454783488822\"\n",
      "[1] \"O/E 比率: 0.944954678156187\"\n",
      "[1] \"c_slope: 1.17531065347216\"\n",
      "[1] \"Brier 分数: 0.143683864215708\"\n"
     ]
    },
    {
     "name": "stderr",
     "output_type": "stream",
     "text": [
      "Setting levels: control = 0, case = 1\n",
      "\n",
      "Setting direction: controls < cases\n",
      "\n"
     ]
    },
    {
     "name": "stdout",
     "output_type": "stream",
     "text": [
      "[1] \"auc: 0.724675728304876\"\n",
      "[1] \"O/E 比率: 0.991834673949514\"\n",
      "[1] \"c_slope: 1.13065032593026\"\n",
      "[1] \"Brier 分数: 0.143211225268832\"\n"
     ]
    },
    {
     "name": "stderr",
     "output_type": "stream",
     "text": [
      "Setting levels: control = 0, case = 1\n",
      "\n",
      "Setting direction: controls < cases\n",
      "\n"
     ]
    },
    {
     "name": "stdout",
     "output_type": "stream",
     "text": [
      "[1] \"auc: 0.719146744631227\"\n",
      "[1] \"O/E 比率: 0.947222894358477\"\n",
      "[1] \"c_slope: 1.063150530461\"\n",
      "[1] \"Brier 分数: 0.144285500502766\"\n"
     ]
    },
    {
     "name": "stderr",
     "output_type": "stream",
     "text": [
      "Setting levels: control = 0, case = 1\n",
      "\n",
      "Setting direction: controls < cases\n",
      "\n"
     ]
    },
    {
     "name": "stdout",
     "output_type": "stream",
     "text": [
      "[1] \"auc: 0.722786893812709\"\n",
      "[1] \"O/E 比率: 0.959507517828694\"\n",
      "[1] \"c_slope: 1.03354483585395\"\n",
      "[1] \"Brier 分数: 0.143847116940971\"\n"
     ]
    },
    {
     "name": "stderr",
     "output_type": "stream",
     "text": [
      "Setting levels: control = 0, case = 1\n",
      "\n",
      "Setting direction: controls < cases\n",
      "\n"
     ]
    },
    {
     "name": "stdout",
     "output_type": "stream",
     "text": [
      "[1] \"auc: 0.721180662515402\"\n",
      "[1] \"O/E 比率: 0.972501784871572\"\n",
      "[1] \"c_slope: 1.05822797347527\"\n",
      "[1] \"Brier 分数: 0.144171641776836\"\n"
     ]
    },
    {
     "name": "stderr",
     "output_type": "stream",
     "text": [
      "Setting levels: control = 0, case = 1\n",
      "\n",
      "Setting direction: controls < cases\n",
      "\n"
     ]
    },
    {
     "name": "stdout",
     "output_type": "stream",
     "text": [
      "[1] \"auc: 0.724692574480725\"\n",
      "[1] \"O/E 比率: 0.927971782597666\"\n",
      "[1] \"c_slope: 1.15546452029032\"\n",
      "[1] \"Brier 分数: 0.143822671403414\"\n"
     ]
    },
    {
     "name": "stderr",
     "output_type": "stream",
     "text": [
      "Setting levels: control = 0, case = 1\n",
      "\n",
      "Setting direction: controls < cases\n",
      "\n"
     ]
    },
    {
     "name": "stdout",
     "output_type": "stream",
     "text": [
      "[1] \"auc: 0.722861154506249\"\n",
      "[1] \"O/E 比率: 0.962549924164377\"\n",
      "[1] \"c_slope: 1.09859416575402\"\n",
      "[1] \"Brier 分数: 0.143632454008937\"\n"
     ]
    },
    {
     "name": "stderr",
     "output_type": "stream",
     "text": [
      "Setting levels: control = 0, case = 1\n",
      "\n",
      "Setting direction: controls < cases\n",
      "\n"
     ]
    },
    {
     "name": "stdout",
     "output_type": "stream",
     "text": [
      "[1] \"auc: 0.724362183154374\"\n",
      "[1] \"O/E 比率: 0.983209485723856\"\n",
      "[1] \"c_slope: 1.08608166393149\"\n",
      "[1] \"Brier 分数: 0.144054272386521\"\n"
     ]
    },
    {
     "name": "stderr",
     "output_type": "stream",
     "text": [
      "Setting levels: control = 0, case = 1\n",
      "\n",
      "Setting direction: controls < cases\n",
      "\n"
     ]
    },
    {
     "name": "stdout",
     "output_type": "stream",
     "text": [
      "[1] \"auc: 0.722304886903714\"\n",
      "[1] \"O/E 比率: 0.917817922029329\"\n",
      "[1] \"c_slope: 1.07000150595968\"\n",
      "[1] \"Brier 分数: 0.144155619644895\"\n"
     ]
    },
    {
     "name": "stderr",
     "output_type": "stream",
     "text": [
      "Setting levels: control = 0, case = 1\n",
      "\n",
      "Setting direction: controls < cases\n",
      "\n"
     ]
    },
    {
     "name": "stdout",
     "output_type": "stream",
     "text": [
      "[1] \"auc: 0.719504983717655\"\n",
      "[1] \"O/E 比率: 0.975735323347162\"\n",
      "[1] \"c_slope: 1.09203820823321\"\n",
      "[1] \"Brier 分数: 0.144058464720997\"\n"
     ]
    },
    {
     "name": "stderr",
     "output_type": "stream",
     "text": [
      "Setting levels: control = 0, case = 1\n",
      "\n",
      "Setting direction: controls < cases\n",
      "\n"
     ]
    },
    {
     "name": "stdout",
     "output_type": "stream",
     "text": [
      "[1] \"auc: 0.723162322874494\"\n",
      "[1] \"O/E 比率: 0.925297939595544\"\n",
      "[1] \"c_slope: 1.11042896950484\"\n",
      "[1] \"Brier 分数: 0.143743825717215\"\n"
     ]
    },
    {
     "name": "stderr",
     "output_type": "stream",
     "text": [
      "Setting levels: control = 0, case = 1\n",
      "\n",
      "Setting direction: controls < cases\n",
      "\n"
     ]
    },
    {
     "name": "stdout",
     "output_type": "stream",
     "text": [
      "[1] \"auc: 0.72218799507129\"\n",
      "[1] \"O/E 比率: 0.986374944000276\"\n",
      "[1] \"c_slope: 1.13389948591498\"\n",
      "[1] \"Brier 分数: 0.144361722767441\"\n"
     ]
    },
    {
     "name": "stderr",
     "output_type": "stream",
     "text": [
      "Setting levels: control = 0, case = 1\n",
      "\n",
      "Setting direction: controls < cases\n",
      "\n"
     ]
    },
    {
     "name": "stdout",
     "output_type": "stream",
     "text": [
      "[1] \"auc: 0.72181325360852\"\n",
      "[1] \"O/E 比率: 0.940601709917301\"\n",
      "[1] \"c_slope: 1.20275390375943\"\n",
      "[1] \"Brier 分数: 0.144186438452337\"\n"
     ]
    },
    {
     "name": "stderr",
     "output_type": "stream",
     "text": [
      "Setting levels: control = 0, case = 1\n",
      "\n",
      "Setting direction: controls < cases\n",
      "\n"
     ]
    },
    {
     "name": "stdout",
     "output_type": "stream",
     "text": [
      "[1] \"auc: 0.721584626936279\"\n",
      "[1] \"O/E 比率: 0.990962354877328\"\n",
      "[1] \"c_slope: 1.09853083872918\"\n",
      "[1] \"Brier 分数: 0.144076691841128\"\n"
     ]
    },
    {
     "name": "stderr",
     "output_type": "stream",
     "text": [
      "Setting levels: control = 0, case = 1\n",
      "\n",
      "Setting direction: controls < cases\n",
      "\n"
     ]
    },
    {
     "name": "stdout",
     "output_type": "stream",
     "text": [
      "[1] \"auc: 0.722833650545679\"\n",
      "[1] \"O/E 比率: 1.01223295632091\"\n",
      "[1] \"c_slope: 1.10341249914488\"\n",
      "[1] \"Brier 分数: 0.144266758541947\"\n"
     ]
    },
    {
     "name": "stderr",
     "output_type": "stream",
     "text": [
      "Setting levels: control = 0, case = 1\n",
      "\n",
      "Setting direction: controls < cases\n",
      "\n"
     ]
    },
    {
     "name": "stdout",
     "output_type": "stream",
     "text": [
      "[1] \"auc: 0.724754114592501\"\n",
      "[1] \"O/E 比率: 0.959309801373344\"\n",
      "[1] \"c_slope: 1.13399101638218\"\n",
      "[1] \"Brier 分数: 0.142942975151926\"\n"
     ]
    },
    {
     "name": "stderr",
     "output_type": "stream",
     "text": [
      "Setting levels: control = 0, case = 1\n",
      "\n",
      "Setting direction: controls < cases\n",
      "\n"
     ]
    },
    {
     "name": "stdout",
     "output_type": "stream",
     "text": [
      "[1] \"auc: 0.719207597143989\"\n",
      "[1] \"O/E 比率: 0.991443366922753\"\n",
      "[1] \"c_slope: 1.1134805746268\"\n",
      "[1] \"Brier 分数: 0.144191725431343\"\n"
     ]
    },
    {
     "name": "stderr",
     "output_type": "stream",
     "text": [
      "Setting levels: control = 0, case = 1\n",
      "\n",
      "Setting direction: controls < cases\n",
      "\n"
     ]
    },
    {
     "name": "stdout",
     "output_type": "stream",
     "text": [
      "[1] \"auc: 0.722583020704982\"\n",
      "[1] \"O/E 比率: 0.96528272042274\"\n",
      "[1] \"c_slope: 1.14916878141924\"\n",
      "[1] \"Brier 分数: 0.143775582105432\"\n"
     ]
    },
    {
     "name": "stderr",
     "output_type": "stream",
     "text": [
      "Setting levels: control = 0, case = 1\n",
      "\n",
      "Setting direction: controls < cases\n",
      "\n"
     ]
    },
    {
     "name": "stdout",
     "output_type": "stream",
     "text": [
      "[1] \"auc: 0.72334247381623\"\n",
      "[1] \"O/E 比率: 0.950456183676633\"\n",
      "[1] \"c_slope: 1.13622055568757\"\n",
      "[1] \"Brier 分数: 0.143932184426786\"\n"
     ]
    },
    {
     "name": "stderr",
     "output_type": "stream",
     "text": [
      "Setting levels: control = 0, case = 1\n",
      "\n",
      "Setting direction: controls < cases\n",
      "\n"
     ]
    },
    {
     "name": "stdout",
     "output_type": "stream",
     "text": [
      "[1] \"auc: 0.724865161833304\"\n",
      "[1] \"O/E 比率: 0.954188046112834\"\n",
      "[1] \"c_slope: 1.09438127777712\"\n",
      "[1] \"Brier 分数: 0.14393888009322\"\n"
     ]
    },
    {
     "name": "stderr",
     "output_type": "stream",
     "text": [
      "Setting levels: control = 0, case = 1\n",
      "\n",
      "Setting direction: controls < cases\n",
      "\n"
     ]
    },
    {
     "name": "stdout",
     "output_type": "stream",
     "text": [
      "[1] \"auc: 0.720241746061433\"\n",
      "[1] \"O/E 比率: 0.945981533893195\"\n",
      "[1] \"c_slope: 1.06246675551344\"\n",
      "[1] \"Brier 分数: 0.144604567469597\"\n"
     ]
    },
    {
     "name": "stderr",
     "output_type": "stream",
     "text": [
      "Setting levels: control = 0, case = 1\n",
      "\n",
      "Setting direction: controls < cases\n",
      "\n"
     ]
    },
    {
     "name": "stdout",
     "output_type": "stream",
     "text": [
      "[1] \"auc: 0.724035573622602\"\n",
      "[1] \"O/E 比率: 0.964141272497531\"\n",
      "[1] \"c_slope: 1.13254225323171\"\n",
      "[1] \"Brier 分数: 0.144196546126654\"\n"
     ]
    },
    {
     "name": "stderr",
     "output_type": "stream",
     "text": [
      "Setting levels: control = 0, case = 1\n",
      "\n",
      "Setting direction: controls < cases\n",
      "\n"
     ]
    },
    {
     "name": "stdout",
     "output_type": "stream",
     "text": [
      "[1] \"auc: 0.721887858101567\"\n",
      "[1] \"O/E 比率: 0.946929089135798\"\n",
      "[1] \"c_slope: 1.18057550731092\"\n",
      "[1] \"Brier 分数: 0.144245632595403\"\n"
     ]
    },
    {
     "name": "stderr",
     "output_type": "stream",
     "text": [
      "Setting levels: control = 0, case = 1\n",
      "\n",
      "Setting direction: controls < cases\n",
      "\n"
     ]
    },
    {
     "name": "stdout",
     "output_type": "stream",
     "text": [
      "[1] \"auc: 0.723185701240979\"\n",
      "[1] \"O/E 比率: 0.943632247170338\"\n",
      "[1] \"c_slope: 1.04875292682041\"\n",
      "[1] \"Brier 分数: 0.144067170152586\"\n"
     ]
    },
    {
     "name": "stderr",
     "output_type": "stream",
     "text": [
      "Setting levels: control = 0, case = 1\n",
      "\n",
      "Setting direction: controls < cases\n",
      "\n"
     ]
    },
    {
     "name": "stdout",
     "output_type": "stream",
     "text": [
      "[1] \"auc: 0.721547496589509\"\n",
      "[1] \"O/E 比率: 0.99867197469938\"\n",
      "[1] \"c_slope: 1.18114251143455\"\n",
      "[1] \"Brier 分数: 0.144015657477972\"\n"
     ]
    },
    {
     "name": "stderr",
     "output_type": "stream",
     "text": [
      "Setting levels: control = 0, case = 1\n",
      "\n",
      "Setting direction: controls < cases\n",
      "\n"
     ]
    },
    {
     "name": "stdout",
     "output_type": "stream",
     "text": [
      "[1] \"auc: 0.726148909192924\"\n",
      "[1] \"O/E 比率: 0.97495337445784\"\n",
      "[1] \"c_slope: 1.15447554955129\"\n",
      "[1] \"Brier 分数: 0.143509806520702\"\n"
     ]
    },
    {
     "name": "stderr",
     "output_type": "stream",
     "text": [
      "Setting levels: control = 0, case = 1\n",
      "\n",
      "Setting direction: controls < cases\n",
      "\n"
     ]
    },
    {
     "name": "stdout",
     "output_type": "stream",
     "text": [
      "[1] \"auc: 0.719496388729977\"\n",
      "[1] \"O/E 比率: 0.964529942306264\"\n",
      "[1] \"c_slope: 1.13090349056843\"\n",
      "[1] \"Brier 分数: 0.144181982437438\"\n"
     ]
    },
    {
     "name": "stderr",
     "output_type": "stream",
     "text": [
      "Setting levels: control = 0, case = 1\n",
      "\n",
      "Setting direction: controls < cases\n",
      "\n"
     ]
    },
    {
     "name": "stdout",
     "output_type": "stream",
     "text": [
      "[1] \"auc: 0.719893477160711\"\n",
      "[1] \"O/E 比率: 1.00228846570661\"\n",
      "[1] \"c_slope: 1.10814731444146\"\n",
      "[1] \"Brier 分数: 0.144224304436958\"\n"
     ]
    },
    {
     "name": "stderr",
     "output_type": "stream",
     "text": [
      "Setting levels: control = 0, case = 1\n",
      "\n",
      "Setting direction: controls < cases\n",
      "\n"
     ]
    },
    {
     "name": "stdout",
     "output_type": "stream",
     "text": [
      "[1] \"auc: 0.722323452077099\"\n",
      "[1] \"O/E 比率: 0.956575589261516\"\n",
      "[1] \"c_slope: 1.19482314414578\"\n",
      "[1] \"Brier 分数: 0.144409260899671\"\n"
     ]
    },
    {
     "name": "stderr",
     "output_type": "stream",
     "text": [
      "Setting levels: control = 0, case = 1\n",
      "\n",
      "Setting direction: controls < cases\n",
      "\n"
     ]
    },
    {
     "name": "stdout",
     "output_type": "stream",
     "text": [
      "[1] \"auc: 0.721470141700405\"\n",
      "[1] \"O/E 比率: 0.932318329605852\"\n",
      "[1] \"c_slope: 1.11141104927884\"\n",
      "[1] \"Brier 分数: 0.144369327331309\"\n"
     ]
    },
    {
     "name": "stderr",
     "output_type": "stream",
     "text": [
      "Setting levels: control = 0, case = 1\n",
      "\n",
      "Setting direction: controls < cases\n",
      "\n"
     ]
    },
    {
     "name": "stdout",
     "output_type": "stream",
     "text": [
      "[1] \"auc: 0.723393356143285\"\n",
      "[1] \"O/E 比率: 0.963396528174388\"\n",
      "[1] \"c_slope: 1.07103963759224\"\n",
      "[1] \"Brier 分数: 0.144455541465988\"\n"
     ]
    },
    {
     "name": "stderr",
     "output_type": "stream",
     "text": [
      "Setting levels: control = 0, case = 1\n",
      "\n",
      "Setting direction: controls < cases\n",
      "\n"
     ]
    },
    {
     "name": "stdout",
     "output_type": "stream",
     "text": [
      "[1] \"auc: 0.720795950866925\"\n",
      "[1] \"O/E 比率: 0.933688614841368\"\n",
      "[1] \"c_slope: 1.02578754985587\"\n",
      "[1] \"Brier 分数: 0.144051733111226\"\n"
     ]
    },
    {
     "name": "stderr",
     "output_type": "stream",
     "text": [
      "Setting levels: control = 0, case = 1\n",
      "\n",
      "Setting direction: controls < cases\n",
      "\n"
     ]
    },
    {
     "name": "stdout",
     "output_type": "stream",
     "text": [
      "[1] \"auc: 0.719839156838585\"\n",
      "[1] \"O/E 比率: 0.955350085312013\"\n",
      "[1] \"c_slope: 1.15211143376603\"\n",
      "[1] \"Brier 分数: 0.144029745101278\"\n"
     ]
    },
    {
     "name": "stderr",
     "output_type": "stream",
     "text": [
      "Setting levels: control = 0, case = 1\n",
      "\n",
      "Setting direction: controls < cases\n",
      "\n"
     ]
    },
    {
     "name": "stdout",
     "output_type": "stream",
     "text": [
      "[1] \"auc: 0.718703930866045\"\n",
      "[1] \"O/E 比率: 1.0155309835356\"\n",
      "[1] \"c_slope: 1.04871340668212\"\n",
      "[1] \"Brier 分数: 0.144090878430148\"\n"
     ]
    },
    {
     "name": "stderr",
     "output_type": "stream",
     "text": [
      "Setting levels: control = 0, case = 1\n",
      "\n",
      "Setting direction: controls < cases\n",
      "\n"
     ]
    },
    {
     "name": "stdout",
     "output_type": "stream",
     "text": [
      "[1] \"auc: 0.727387962616617\"\n",
      "[1] \"O/E 比率: 0.978911684078469\"\n",
      "[1] \"c_slope: 1.07210078930321\"\n",
      "[1] \"Brier 分数: 0.143385203859854\"\n"
     ]
    },
    {
     "name": "stderr",
     "output_type": "stream",
     "text": [
      "Setting levels: control = 0, case = 1\n",
      "\n",
      "Setting direction: controls < cases\n",
      "\n"
     ]
    },
    {
     "name": "stdout",
     "output_type": "stream",
     "text": [
      "[1] \"auc: 0.727303044138356\"\n",
      "[1] \"O/E 比率: 0.971582430068688\"\n",
      "[1] \"c_slope: 0.990979287749501\"\n",
      "[1] \"Brier 分数: 0.143375739850043\"\n"
     ]
    },
    {
     "name": "stderr",
     "output_type": "stream",
     "text": [
      "Setting levels: control = 0, case = 1\n",
      "\n",
      "Setting direction: controls < cases\n",
      "\n"
     ]
    },
    {
     "name": "stdout",
     "output_type": "stream",
     "text": [
      "[1] \"auc: 0.722988704123394\"\n",
      "[1] \"O/E 比率: 1.01295771342619\"\n",
      "[1] \"c_slope: 1.07146220677437\"\n",
      "[1] \"Brier 分数: 0.144333357431985\"\n"
     ]
    },
    {
     "name": "stderr",
     "output_type": "stream",
     "text": [
      "Setting levels: control = 0, case = 1\n",
      "\n",
      "Setting direction: controls < cases\n",
      "\n"
     ]
    },
    {
     "name": "stdout",
     "output_type": "stream",
     "text": [
      "[1] \"auc: 0.722831243949129\"\n",
      "[1] \"O/E 比率: 0.978619594803187\"\n",
      "[1] \"c_slope: 1.1129674094704\"\n",
      "[1] \"Brier 分数: 0.143493583778342\"\n"
     ]
    },
    {
     "name": "stderr",
     "output_type": "stream",
     "text": [
      "Setting levels: control = 0, case = 1\n",
      "\n",
      "Setting direction: controls < cases\n",
      "\n"
     ]
    },
    {
     "name": "stdout",
     "output_type": "stream",
     "text": [
      "[1] \"auc: 0.720491344503609\"\n",
      "[1] \"O/E 比率: 0.944145209624221\"\n",
      "[1] \"c_slope: 1.12803873961184\"\n",
      "[1] \"Brier 分数: 0.144254347838663\"\n"
     ]
    },
    {
     "name": "stderr",
     "output_type": "stream",
     "text": [
      "Setting levels: control = 0, case = 1\n",
      "\n",
      "Setting direction: controls < cases\n",
      "\n"
     ]
    },
    {
     "name": "stdout",
     "output_type": "stream",
     "text": [
      "[1] \"auc: 0.720777729493047\"\n",
      "[1] \"O/E 比率: 0.955994558273061\"\n",
      "[1] \"c_slope: 1.13477656897917\"\n",
      "[1] \"Brier 分数: 0.144193777243362\"\n"
     ]
    },
    {
     "name": "stderr",
     "output_type": "stream",
     "text": [
      "Setting levels: control = 0, case = 1\n",
      "\n",
      "Setting direction: controls < cases\n",
      "\n"
     ]
    },
    {
     "name": "stdout",
     "output_type": "stream",
     "text": [
      "[1] \"auc: 0.721682609795811\"\n",
      "[1] \"O/E 比率: 0.990202182922083\"\n",
      "[1] \"c_slope: 1.08378502153119\"\n",
      "[1] \"Brier 分数: 0.144254159157043\"\n"
     ]
    },
    {
     "name": "stderr",
     "output_type": "stream",
     "text": [
      "Setting levels: control = 0, case = 1\n",
      "\n",
      "Setting direction: controls < cases\n",
      "\n"
     ]
    },
    {
     "name": "stdout",
     "output_type": "stream",
     "text": [
      "[1] \"auc: 0.719544176861468\"\n",
      "[1] \"O/E 比率: 0.935721232949672\"\n",
      "[1] \"c_slope: 1.09933906617055\"\n",
      "[1] \"Brier 分数: 0.144157610230044\"\n"
     ]
    },
    {
     "name": "stderr",
     "output_type": "stream",
     "text": [
      "Setting levels: control = 0, case = 1\n",
      "\n",
      "Setting direction: controls < cases\n",
      "\n"
     ]
    },
    {
     "name": "stdout",
     "output_type": "stream",
     "text": [
      "[1] \"auc: 0.723424641898433\"\n",
      "[1] \"O/E 比率: 0.933367629795442\"\n",
      "[1] \"c_slope: 1.0495939282048\"\n",
      "[1] \"Brier 分数: 0.144154483895943\"\n"
     ]
    },
    {
     "name": "stderr",
     "output_type": "stream",
     "text": [
      "Setting levels: control = 0, case = 1\n",
      "\n",
      "Setting direction: controls < cases\n",
      "\n"
     ]
    },
    {
     "name": "stdout",
     "output_type": "stream",
     "text": [
      "[1] \"auc: 0.726271645616969\"\n",
      "[1] \"O/E 比率: 0.978575959973792\"\n",
      "[1] \"c_slope: 1.08905671093583\"\n",
      "[1] \"Brier 分数: 0.143430358599609\"\n"
     ]
    },
    {
     "name": "stderr",
     "output_type": "stream",
     "text": [
      "Setting levels: control = 0, case = 1\n",
      "\n",
      "Setting direction: controls < cases\n",
      "\n"
     ]
    },
    {
     "name": "stdout",
     "output_type": "stream",
     "text": [
      "[1] \"auc: 0.722898628652526\"\n",
      "[1] \"O/E 比率: 0.992332694031932\"\n",
      "[1] \"c_slope: 1.14819008700318\"\n",
      "[1] \"Brier 分数: 0.143828545018545\"\n"
     ]
    },
    {
     "name": "stderr",
     "output_type": "stream",
     "text": [
      "Setting levels: control = 0, case = 1\n",
      "\n",
      "Setting direction: controls < cases\n",
      "\n"
     ]
    },
    {
     "name": "stdout",
     "output_type": "stream",
     "text": [
      "[1] \"auc: 0.721793313237106\"\n",
      "[1] \"O/E 比率: 0.946926452352243\"\n",
      "[1] \"c_slope: 1.09711288490664\"\n",
      "[1] \"Brier 分数: 0.144134460973974\"\n"
     ]
    },
    {
     "name": "stderr",
     "output_type": "stream",
     "text": [
      "Setting levels: control = 0, case = 1\n",
      "\n",
      "Setting direction: controls < cases\n",
      "\n"
     ]
    },
    {
     "name": "stdout",
     "output_type": "stream",
     "text": [
      "[1] \"auc: 0.725744944772047\"\n",
      "[1] \"O/E 比率: 0.962738874388533\"\n",
      "[1] \"c_slope: 1.0686689494746\"\n",
      "[1] \"Brier 分数: 0.143532050779905\"\n"
     ]
    },
    {
     "name": "stderr",
     "output_type": "stream",
     "text": [
      "Setting levels: control = 0, case = 1\n",
      "\n",
      "Setting direction: controls < cases\n",
      "\n"
     ]
    },
    {
     "name": "stdout",
     "output_type": "stream",
     "text": [
      "[1] \"auc: 0.721529275215631\"\n",
      "[1] \"O/E 比率: 0.983530490853303\"\n",
      "[1] \"c_slope: 1.1182010162825\"\n",
      "[1] \"Brier 分数: 0.144013437259194\"\n"
     ]
    },
    {
     "name": "stderr",
     "output_type": "stream",
     "text": [
      "Setting levels: control = 0, case = 1\n",
      "\n",
      "Setting direction: controls < cases\n",
      "\n"
     ]
    },
    {
     "name": "stdout",
     "output_type": "stream",
     "text": [
      "[1] \"auc: 0.717678376936279\"\n",
      "[1] \"O/E 比率: 0.934572138863115\"\n",
      "[1] \"c_slope: 1.10063398818371\"\n",
      "[1] \"Brier 分数: 0.144519696558408\"\n"
     ]
    },
    {
     "name": "stderr",
     "output_type": "stream",
     "text": [
      "Setting levels: control = 0, case = 1\n",
      "\n",
      "Setting direction: controls < cases\n",
      "\n"
     ]
    },
    {
     "name": "stdout",
     "output_type": "stream",
     "text": [
      "[1] \"auc: 0.716770746237458\"\n",
      "[1] \"O/E 比率: 0.964830516191576\"\n",
      "[1] \"c_slope: 1.02649862226907\"\n",
      "[1] \"Brier 分数: 0.144698394094317\"\n"
     ]
    },
    {
     "name": "stderr",
     "output_type": "stream",
     "text": [
      "Setting levels: control = 0, case = 1\n",
      "\n",
      "Setting direction: controls < cases\n",
      "\n"
     ]
    },
    {
     "name": "stdout",
     "output_type": "stream",
     "text": [
      "[1] \"auc: 0.720207709910227\"\n",
      "[1] \"O/E 比率: 0.932460642608389\"\n",
      "[1] \"c_slope: 1.05584641631396\"\n",
      "[1] \"Brier 分数: 0.143778129142692\"\n"
     ]
    },
    {
     "name": "stderr",
     "output_type": "stream",
     "text": [
      "Setting levels: control = 0, case = 1\n",
      "\n",
      "Setting direction: controls < cases\n",
      "\n"
     ]
    },
    {
     "name": "stdout",
     "output_type": "stream",
     "text": [
      "[1] \"auc: 0.724605937004929\"\n",
      "[1] \"O/E 比率: 0.982531960576337\"\n",
      "[1] \"c_slope: 1.14074031313352\"\n",
      "[1] \"Brier 分数: 0.143304641536877\"\n"
     ]
    },
    {
     "name": "stderr",
     "output_type": "stream",
     "text": [
      "Setting levels: control = 0, case = 1\n",
      "\n",
      "Setting direction: controls < cases\n",
      "\n"
     ]
    },
    {
     "name": "stdout",
     "output_type": "stream",
     "text": [
      "[1] \"auc: 0.723066746611512\"\n",
      "[1] \"O/E 比率: 0.983232639817291\"\n",
      "[1] \"c_slope: 1.11312164662222\"\n",
      "[1] \"Brier 分数: 0.143893832097045\"\n"
     ]
    },
    {
     "name": "stderr",
     "output_type": "stream",
     "text": [
      "Setting levels: control = 0, case = 1\n",
      "\n",
      "Setting direction: controls < cases\n",
      "\n"
     ]
    },
    {
     "name": "stdout",
     "output_type": "stream",
     "text": [
      "[1] \"auc: 0.722691317549727\"\n",
      "[1] \"O/E 比率: 0.951951567354227\"\n",
      "[1] \"c_slope: 1.09293745534407\"\n",
      "[1] \"Brier 分数: 0.143907729270579\"\n"
     ]
    },
    {
     "name": "stderr",
     "output_type": "stream",
     "text": [
      "Setting levels: control = 0, case = 1\n",
      "\n",
      "Setting direction: controls < cases\n",
      "\n"
     ]
    },
    {
     "name": "stdout",
     "output_type": "stream",
     "text": [
      "[1] \"auc: 0.71988522597254\"\n",
      "[1] \"O/E 比率: 0.940409763391234\"\n",
      "[1] \"c_slope: 1.00364588284856\"\n",
      "[1] \"Brier 分数: 0.144520308336237\"\n"
     ]
    },
    {
     "name": "stderr",
     "output_type": "stream",
     "text": [
      "Setting levels: control = 0, case = 1\n",
      "\n",
      "Setting direction: controls < cases\n",
      "\n"
     ]
    },
    {
     "name": "stdout",
     "output_type": "stream",
     "text": [
      "[1] \"auc: 0.721712864152438\"\n",
      "[1] \"O/E 比率: 0.938684208236749\"\n",
      "[1] \"c_slope: 1.16425692456505\"\n",
      "[1] \"Brier 分数: 0.144341352036642\"\n"
     ]
    },
    {
     "name": "stderr",
     "output_type": "stream",
     "text": [
      "Setting levels: control = 0, case = 1\n",
      "\n",
      "Setting direction: controls < cases\n",
      "\n"
     ]
    },
    {
     "name": "stdout",
     "output_type": "stream",
     "text": [
      "[1] \"auc: 0.722605367672945\"\n",
      "[1] \"O/E 比率: 0.981666644771753\"\n",
      "[1] \"c_slope: 1.12221325273849\"\n",
      "[1] \"Brier 分数: 0.143839540394545\"\n"
     ]
    },
    {
     "name": "stderr",
     "output_type": "stream",
     "text": [
      "Setting levels: control = 0, case = 1\n",
      "\n",
      "Setting direction: controls < cases\n",
      "\n"
     ]
    },
    {
     "name": "stdout",
     "output_type": "stream",
     "text": [
      "[1] \"auc: 0.723663238756381\"\n",
      "[1] \"O/E 比率: 0.969132784850635\"\n",
      "[1] \"c_slope: 1.13803552312331\"\n",
      "[1] \"Brier 分数: 0.143754494206829\"\n"
     ]
    },
    {
     "name": "stderr",
     "output_type": "stream",
     "text": [
      "Setting levels: control = 0, case = 1\n",
      "\n",
      "Setting direction: controls < cases\n",
      "\n"
     ]
    },
    {
     "name": "stdout",
     "output_type": "stream",
     "text": [
      "[1] \"auc: 0.721918456257701\"\n",
      "[1] \"O/E 比率: 0.954563940490505\"\n",
      "[1] \"c_slope: 1.11145210388091\"\n",
      "[1] \"Brier 分数: 0.143285315661992\"\n"
     ]
    },
    {
     "name": "stderr",
     "output_type": "stream",
     "text": [
      "Setting levels: control = 0, case = 1\n",
      "\n",
      "Setting direction: controls < cases\n",
      "\n"
     ]
    },
    {
     "name": "stdout",
     "output_type": "stream",
     "text": [
      "[1] \"auc: 0.717266505126738\"\n",
      "[1] \"O/E 比率: 0.94782553654981\"\n",
      "[1] \"c_slope: 1.09257512705463\"\n",
      "[1] \"Brier 分数: 0.144414836073196\"\n"
     ]
    },
    {
     "name": "stderr",
     "output_type": "stream",
     "text": [
      "Setting levels: control = 0, case = 1\n",
      "\n",
      "Setting direction: controls < cases\n",
      "\n"
     ]
    },
    {
     "name": "stdout",
     "output_type": "stream",
     "text": [
      "[1] \"auc: 0.723904242210878\"\n",
      "[1] \"O/E 比率: 0.991164842719773\"\n",
      "[1] \"c_slope: 1.08669680617589\"\n",
      "[1] \"Brier 分数: 0.143574221271482\"\n"
     ]
    },
    {
     "name": "stderr",
     "output_type": "stream",
     "text": [
      "Setting levels: control = 0, case = 1\n",
      "\n",
      "Setting direction: controls < cases\n",
      "\n"
     ]
    },
    {
     "name": "stdout",
     "output_type": "stream",
     "text": [
      "[1] \"auc: 0.722591959492167\"\n",
      "[1] \"O/E 比率: 0.975233080034453\"\n",
      "[1] \"c_slope: 1.13268186404051\"\n",
      "[1] \"Brier 分数: 0.143870060904218\"\n"
     ]
    },
    {
     "name": "stderr",
     "output_type": "stream",
     "text": [
      "Setting levels: control = 0, case = 1\n",
      "\n",
      "Setting direction: controls < cases\n",
      "\n"
     ]
    },
    {
     "name": "stdout",
     "output_type": "stream",
     "text": [
      "[1] \"auc: 0.721315431922197\"\n",
      "[1] \"O/E 比率: 0.939106287742328\"\n",
      "[1] \"c_slope: 1.04166242992182\"\n",
      "[1] \"Brier 分数: 0.143786153043468\"\n"
     ]
    },
    {
     "name": "stderr",
     "output_type": "stream",
     "text": [
      "Setting levels: control = 0, case = 1\n",
      "\n",
      "Setting direction: controls < cases\n",
      "\n"
     ]
    },
    {
     "name": "stdout",
     "output_type": "stream",
     "text": [
      "[1] \"auc: 0.722259505368773\"\n",
      "[1] \"O/E 比率: 0.97094373173755\"\n",
      "[1] \"c_slope: 1.07449650921188\"\n",
      "[1] \"Brier 分数: 0.144262868897568\"\n"
     ]
    },
    {
     "name": "stderr",
     "output_type": "stream",
     "text": [
      "Setting levels: control = 0, case = 1\n",
      "\n",
      "Setting direction: controls < cases\n",
      "\n"
     ]
    },
    {
     "name": "stdout",
     "output_type": "stream",
     "text": [
      "[1] \"auc: 0.724791932538286\"\n",
      "[1] \"O/E 比率: 0.975547378317224\"\n",
      "[1] \"c_slope: 1.04569096255519\"\n",
      "[1] \"Brier 分数: 0.143664117693199\"\n"
     ]
    },
    {
     "name": "stderr",
     "output_type": "stream",
     "text": [
      "Setting levels: control = 0, case = 1\n",
      "\n",
      "Setting direction: controls < cases\n",
      "\n"
     ]
    },
    {
     "name": "stdout",
     "output_type": "stream",
     "text": [
      "[1] \"auc: 0.719745643372646\"\n",
      "[1] \"O/E 比率: 1.00193930043854\"\n",
      "[1] \"c_slope: 1.08112480257558\"\n",
      "[1] \"Brier 分数: 0.144961859494413\"\n"
     ]
    },
    {
     "name": "stderr",
     "output_type": "stream",
     "text": [
      "Setting levels: control = 0, case = 1\n",
      "\n",
      "Setting direction: controls < cases\n",
      "\n"
     ]
    },
    {
     "name": "stdout",
     "output_type": "stream",
     "text": [
      "[1] \"auc: 0.723902179413836\"\n",
      "[1] \"O/E 比率: 0.917035667808942\"\n",
      "[1] \"c_slope: 1.10276650177553\"\n",
      "[1] \"Brier 分数: 0.143844101920418\"\n"
     ]
    },
    {
     "name": "stderr",
     "output_type": "stream",
     "text": [
      "Setting levels: control = 0, case = 1\n",
      "\n",
      "Setting direction: controls < cases\n",
      "\n"
     ]
    },
    {
     "name": "stdout",
     "output_type": "stream",
     "text": [
      "[1] \"auc: 0.72073544215367\"\n",
      "[1] \"O/E 比率: 0.948500174577834\"\n",
      "[1] \"c_slope: 1.15102100563019\"\n",
      "[1] \"Brier 分数: 0.144324086276039\"\n"
     ]
    },
    {
     "name": "stderr",
     "output_type": "stream",
     "text": [
      "Setting levels: control = 0, case = 1\n",
      "\n",
      "Setting direction: controls < cases\n",
      "\n"
     ]
    },
    {
     "name": "stdout",
     "output_type": "stream",
     "text": [
      "[1] \"auc: 0.724835595075691\"\n",
      "[1] \"O/E 比率: 0.949243383677062\"\n",
      "[1] \"c_slope: 1.16370461686004\"\n",
      "[1] \"Brier 分数: 0.143718823984034\"\n"
     ]
    },
    {
     "name": "stderr",
     "output_type": "stream",
     "text": [
      "Setting levels: control = 0, case = 1\n",
      "\n",
      "Setting direction: controls < cases\n",
      "\n"
     ]
    },
    {
     "name": "stdout",
     "output_type": "stream",
     "text": [
      "[1] \"auc: 0.721709769956874\"\n",
      "[1] \"O/E 比率: 0.961780617699025\"\n",
      "[1] \"c_slope: 1.07019716657727\"\n",
      "[1] \"Brier 分数: 0.144124026693546\"\n"
     ]
    },
    {
     "name": "stderr",
     "output_type": "stream",
     "text": [
      "Setting levels: control = 0, case = 1\n",
      "\n",
      "Setting direction: controls < cases\n",
      "\n"
     ]
    },
    {
     "name": "stdout",
     "output_type": "stream",
     "text": [
      "[1] \"auc: 0.721021483343601\"\n",
      "[1] \"O/E 比率: 0.974576086464549\"\n",
      "[1] \"c_slope: 1.12121335969669\"\n",
      "[1] \"Brier 分数: 0.144010722433014\"\n"
     ]
    },
    {
     "name": "stderr",
     "output_type": "stream",
     "text": [
      "Setting levels: control = 0, case = 1\n",
      "\n",
      "Setting direction: controls < cases\n",
      "\n"
     ]
    },
    {
     "name": "stdout",
     "output_type": "stream",
     "text": [
      "[1] \"auc: 0.72469085548319\"\n",
      "[1] \"O/E 比率: 0.963886154723777\"\n",
      "[1] \"c_slope: 1.13632716935405\"\n",
      "[1] \"Brier 分数: 0.143794952593971\"\n"
     ]
    },
    {
     "name": "stderr",
     "output_type": "stream",
     "text": [
      "Setting levels: control = 0, case = 1\n",
      "\n",
      "Setting direction: controls < cases\n",
      "\n"
     ]
    },
    {
     "name": "stdout",
     "output_type": "stream",
     "text": [
      "[1] \"auc: 0.722687535755149\"\n",
      "[1] \"O/E 比率: 0.961927677131538\"\n",
      "[1] \"c_slope: 1.09705633886784\"\n",
      "[1] \"Brier 分数: 0.144006420860794\"\n"
     ]
    },
    {
     "name": "stderr",
     "output_type": "stream",
     "text": [
      "Setting levels: control = 0, case = 1\n",
      "\n",
      "Setting direction: controls < cases\n",
      "\n"
     ]
    },
    {
     "name": "stdout",
     "output_type": "stream",
     "text": [
      "[1] \"auc: 0.724677447302412\"\n",
      "[1] \"O/E 比率: 0.951872567371422\"\n",
      "[1] \"c_slope: 1.18489295292722\"\n",
      "[1] \"Brier 分数: 0.143857470339027\"\n"
     ]
    },
    {
     "name": "stderr",
     "output_type": "stream",
     "text": [
      "Setting levels: control = 0, case = 1\n",
      "\n",
      "Setting direction: controls < cases\n",
      "\n"
     ]
    },
    {
     "name": "stdout",
     "output_type": "stream",
     "text": [
      "[1] \"auc: 0.724460166013906\"\n",
      "[1] \"O/E 比率: 0.919588319147783\"\n",
      "[1] \"c_slope: 1.12556060126134\"\n",
      "[1] \"Brier 分数: 0.143302627303668\"\n"
     ]
    },
    {
     "name": "stderr",
     "output_type": "stream",
     "text": [
      "Setting levels: control = 0, case = 1\n",
      "\n",
      "Setting direction: controls < cases\n",
      "\n"
     ]
    },
    {
     "name": "stdout",
     "output_type": "stream",
     "text": [
      "[1] \"auc: 0.723592072258405\"\n",
      "[1] \"O/E 比率: 0.960319107984522\"\n",
      "[1] \"c_slope: 1.11759294489723\"\n",
      "[1] \"Brier 分数: 0.143352095612587\"\n"
     ]
    },
    {
     "name": "stderr",
     "output_type": "stream",
     "text": [
      "Setting levels: control = 0, case = 1\n",
      "\n",
      "Setting direction: controls < cases\n",
      "\n"
     ]
    },
    {
     "name": "stdout",
     "output_type": "stream",
     "text": [
      "[1] \"auc: 0.719752519362788\"\n",
      "[1] \"O/E 比率: 0.957821497881384\"\n",
      "[1] \"c_slope: 1.08781238834158\"\n",
      "[1] \"Brier 分数: 0.144244769698367\"\n"
     ]
    },
    {
     "name": "stderr",
     "output_type": "stream",
     "text": [
      "Setting levels: control = 0, case = 1\n",
      "\n",
      "Setting direction: controls < cases\n",
      "\n"
     ]
    },
    {
     "name": "stdout",
     "output_type": "stream",
     "text": [
      "[1] \"auc: 0.71988763256909\"\n",
      "[1] \"O/E 比率: 0.961974601277739\"\n",
      "[1] \"c_slope: 1.14165456779168\"\n",
      "[1] \"Brier 分数: 0.144308088456798\"\n"
     ]
    },
    {
     "name": "stderr",
     "output_type": "stream",
     "text": [
      "Setting levels: control = 0, case = 1\n",
      "\n",
      "Setting direction: controls < cases\n",
      "\n"
     ]
    },
    {
     "name": "stdout",
     "output_type": "stream",
     "text": [
      "[1] \"auc: 0.72339507514082\"\n",
      "[1] \"O/E 比率: 0.978237800091417\"\n",
      "[1] \"c_slope: 1.10010022281257\"\n",
      "[1] \"Brier 分数: 0.143586906245684\"\n"
     ]
    },
    {
     "name": "stderr",
     "output_type": "stream",
     "text": [
      "Setting levels: control = 0, case = 1\n",
      "\n",
      "Setting direction: controls < cases\n",
      "\n"
     ]
    },
    {
     "name": "stdout",
     "output_type": "stream",
     "text": [
      "[1] \"auc: 0.723172636859708\"\n",
      "[1] \"O/E 比率: 0.965776612720017\"\n",
      "[1] \"c_slope: 1.1196004922242\"\n",
      "[1] \"Brier 分数: 0.14403329212487\"\n"
     ]
    },
    {
     "name": "stderr",
     "output_type": "stream",
     "text": [
      "Setting levels: control = 0, case = 1\n",
      "\n",
      "Setting direction: controls < cases\n",
      "\n"
     ]
    },
    {
     "name": "stdout",
     "output_type": "stream",
     "text": [
      "[1] \"auc: 0.722297323314557\"\n",
      "[1] \"O/E 比率: 0.972986159241694\"\n",
      "[1] \"c_slope: 1.0790554837468\"\n",
      "[1] \"Brier 分数: 0.14368165740118\"\n"
     ]
    },
    {
     "name": "stderr",
     "output_type": "stream",
     "text": [
      "Setting levels: control = 0, case = 1\n",
      "\n",
      "Setting direction: controls < cases\n",
      "\n"
     ]
    },
    {
     "name": "stdout",
     "output_type": "stream",
     "text": [
      "[1] \"auc: 0.725319664781729\"\n",
      "[1] \"O/E 比率: 0.930659538638087\"\n",
      "[1] \"c_slope: 1.1066411046693\"\n",
      "[1] \"Brier 分数: 0.143575859103441\"\n"
     ]
    },
    {
     "name": "stderr",
     "output_type": "stream",
     "text": [
      "Setting levels: control = 0, case = 1\n",
      "\n",
      "Setting direction: controls < cases\n",
      "\n"
     ]
    },
    {
     "name": "stdout",
     "output_type": "stream",
     "text": [
      "[1] \"auc: 0.724819780298363\"\n",
      "[1] \"O/E 比率: 0.943875619791612\"\n",
      "[1] \"c_slope: 1.13145856505992\"\n",
      "[1] \"Brier 分数: 0.143660301300548\"\n"
     ]
    },
    {
     "name": "stderr",
     "output_type": "stream",
     "text": [
      "Setting levels: control = 0, case = 1\n",
      "\n",
      "Setting direction: controls < cases\n",
      "\n"
     ]
    },
    {
     "name": "stdout",
     "output_type": "stream",
     "text": [
      "[1] \"auc: 0.722911693033797\"\n",
      "[1] \"O/E 比率: 0.952885909610766\"\n",
      "[1] \"c_slope: 1.06473251713718\"\n",
      "[1] \"Brier 分数: 0.143608139238365\"\n"
     ]
    },
    {
     "name": "stderr",
     "output_type": "stream",
     "text": [
      "Setting levels: control = 0, case = 1\n",
      "\n",
      "Setting direction: controls < cases\n",
      "\n"
     ]
    },
    {
     "name": "stdout",
     "output_type": "stream",
     "text": [
      "[1] \"auc: 0.72169945597166\"\n",
      "[1] \"O/E 比率: 0.956349519864592\"\n",
      "[1] \"c_slope: 1.12141301227903\"\n",
      "[1] \"Brier 分数: 0.144254858502487\"\n"
     ]
    },
    {
     "name": "stderr",
     "output_type": "stream",
     "text": [
      "Setting levels: control = 0, case = 1\n",
      "\n",
      "Setting direction: controls < cases\n",
      "\n"
     ]
    },
    {
     "name": "stdout",
     "output_type": "stream",
     "text": [
      "[1] \"auc: 0.722783112018131\"\n",
      "[1] \"O/E 比率: 0.951713511901573\"\n",
      "[1] \"c_slope: 1.15428856382808\"\n",
      "[1] \"Brier 分数: 0.144200350561699\"\n"
     ]
    },
    {
     "name": "stderr",
     "output_type": "stream",
     "text": [
      "Setting levels: control = 0, case = 1\n",
      "\n",
      "Setting direction: controls < cases\n",
      "\n"
     ]
    },
    {
     "name": "stdout",
     "output_type": "stream",
     "text": [
      "[1] \"auc: 0.718203014984158\"\n",
      "[1] \"O/E 比率: 0.977470458889942\"\n",
      "[1] \"c_slope: 1.13393719580588\"\n",
      "[1] \"Brier 分数: 0.14414572337653\"\n"
     ]
    },
    {
     "name": "stderr",
     "output_type": "stream",
     "text": [
      "Setting levels: control = 0, case = 1\n",
      "\n",
      "Setting direction: controls < cases\n",
      "\n"
     ]
    },
    {
     "name": "stdout",
     "output_type": "stream",
     "text": [
      "[1] \"auc: 0.726737493949129\"\n",
      "[1] \"O/E 比率: 0.94723936160987\"\n",
      "[1] \"c_slope: 1.15268801451678\"\n",
      "[1] \"Brier 分数: 0.143219557883731\"\n"
     ]
    },
    {
     "name": "stderr",
     "output_type": "stream",
     "text": [
      "Setting levels: control = 0, case = 1\n",
      "\n",
      "Setting direction: controls < cases\n",
      "\n"
     ]
    },
    {
     "name": "stdout",
     "output_type": "stream",
     "text": [
      "[1] \"auc: 0.717150300893329\"\n",
      "[1] \"O/E 比率: 0.945129689578068\"\n",
      "[1] \"c_slope: 1.10195791482172\"\n",
      "[1] \"Brier 分数: 0.144631403127772\"\n"
     ]
    },
    {
     "name": "stderr",
     "output_type": "stream",
     "text": [
      "Setting levels: control = 0, case = 1\n",
      "\n",
      "Setting direction: controls < cases\n",
      "\n"
     ]
    },
    {
     "name": "stdout",
     "output_type": "stream",
     "text": [
      "[1] \"auc: 0.723051275633691\"\n",
      "[1] \"O/E 比率: 0.93014095714712\"\n",
      "[1] \"c_slope: 1.08198969422865\"\n",
      "[1] \"Brier 分数: 0.143608325920171\"\n"
     ]
    },
    {
     "name": "stderr",
     "output_type": "stream",
     "text": [
      "Setting levels: control = 0, case = 1\n",
      "\n",
      "Setting direction: controls < cases\n",
      "\n"
     ]
    },
    {
     "name": "stdout",
     "output_type": "stream",
     "text": [
      "[1] \"auc: 0.722829181152086\"\n",
      "[1] \"O/E 比率: 0.948544393651761\"\n",
      "[1] \"c_slope: 1.12197953111341\"\n",
      "[1] \"Brier 分数: 0.144478236568931\"\n"
     ]
    },
    {
     "name": "stderr",
     "output_type": "stream",
     "text": [
      "Setting levels: control = 0, case = 1\n",
      "\n",
      "Setting direction: controls < cases\n",
      "\n"
     ]
    },
    {
     "name": "stdout",
     "output_type": "stream",
     "text": [
      "[1] \"auc: 0.719867692197676\"\n",
      "[1] \"O/E 比率: 0.977438561828231\"\n",
      "[1] \"c_slope: 1.09828230957814\"\n",
      "[1] \"Brier 分数: 0.143896101316268\"\n"
     ]
    },
    {
     "name": "stderr",
     "output_type": "stream",
     "text": [
      "Setting levels: control = 0, case = 1\n",
      "\n",
      "Setting direction: controls < cases\n",
      "\n"
     ]
    },
    {
     "name": "stdout",
     "output_type": "stream",
     "text": [
      "[1] \"auc: 0.723757439821334\"\n",
      "[1] \"O/E 比率: 0.920930265535322\"\n",
      "[1] \"c_slope: 1.09737220141267\"\n",
      "[1] \"Brier 分数: 0.143808078920551\"\n"
     ]
    },
    {
     "name": "stderr",
     "output_type": "stream",
     "text": [
      "Setting levels: control = 0, case = 1\n",
      "\n",
      "Setting direction: controls < cases\n",
      "\n"
     ]
    },
    {
     "name": "stdout",
     "output_type": "stream",
     "text": [
      "[1] \"auc: 0.722147770528956\"\n",
      "[1] \"O/E 比率: 0.941492442886877\"\n",
      "[1] \"c_slope: 1.10804253610205\"\n",
      "[1] \"Brier 分数: 0.144275114748373\"\n"
     ]
    },
    {
     "name": "stderr",
     "output_type": "stream",
     "text": [
      "Setting levels: control = 0, case = 1\n",
      "\n",
      "Setting direction: controls < cases\n",
      "\n"
     ]
    },
    {
     "name": "stdout",
     "output_type": "stream",
     "text": [
      "[1] \"auc: 0.722575457115825\"\n",
      "[1] \"O/E 比率: 0.924940309918419\"\n",
      "[1] \"c_slope: 1.12702518299136\"\n",
      "[1] \"Brier 分数: 0.143941143050567\"\n"
     ]
    },
    {
     "name": "stderr",
     "output_type": "stream",
     "text": [
      "Setting levels: control = 0, case = 1\n",
      "\n",
      "Setting direction: controls < cases\n",
      "\n"
     ]
    },
    {
     "name": "stdout",
     "output_type": "stream",
     "text": [
      "[1] \"auc: 0.720857490978701\"\n",
      "[1] \"O/E 比率: 0.989971497411988\"\n",
      "[1] \"c_slope: 1.06213649705866\"\n",
      "[1] \"Brier 分数: 0.143811494991689\"\n"
     ]
    },
    {
     "name": "stderr",
     "output_type": "stream",
     "text": [
      "Setting levels: control = 0, case = 1\n",
      "\n",
      "Setting direction: controls < cases\n",
      "\n"
     ]
    },
    {
     "name": "stdout",
     "output_type": "stream",
     "text": [
      "[1] \"auc: 0.722151208524027\"\n",
      "[1] \"O/E 比率: 0.950277691730538\"\n",
      "[1] \"c_slope: 1.1267175349907\"\n",
      "[1] \"Brier 分数: 0.143367978550438\"\n"
     ]
    },
    {
     "name": "stderr",
     "output_type": "stream",
     "text": [
      "Setting levels: control = 0, case = 1\n",
      "\n",
      "Setting direction: controls < cases\n",
      "\n"
     ]
    },
    {
     "name": "stdout",
     "output_type": "stream",
     "text": [
      "[1] \"auc: 0.724263168896321\"\n",
      "[1] \"O/E 比率: 0.94002943474303\"\n",
      "[1] \"c_slope: 1.1040734004539\"\n",
      "[1] \"Brier 分数: 0.143595927297313\"\n"
     ]
    },
    {
     "name": "stderr",
     "output_type": "stream",
     "text": [
      "Setting levels: control = 0, case = 1\n",
      "\n",
      "Setting direction: controls < cases\n",
      "\n"
     ]
    },
    {
     "name": "stdout",
     "output_type": "stream",
     "text": [
      "[1] \"auc: 0.723583477270727\"\n",
      "[1] \"O/E 比率: 0.937214068673878\"\n",
      "[1] \"c_slope: 1.10002175402007\"\n",
      "[1] \"Brier 分数: 0.143850096672697\"\n"
     ]
    },
    {
     "name": "stderr",
     "output_type": "stream",
     "text": [
      "Setting levels: control = 0, case = 1\n",
      "\n",
      "Setting direction: controls < cases\n",
      "\n"
     ]
    },
    {
     "name": "stdout",
     "output_type": "stream",
     "text": [
      "[1] \"auc: 0.718905741176729\"\n",
      "[1] \"O/E 比率: 0.988611533003271\"\n",
      "[1] \"c_slope: 1.1694250771057\"\n",
      "[1] \"Brier 分数: 0.144871321281236\"\n"
     ]
    },
    {
     "name": "stderr",
     "output_type": "stream",
     "text": [
      "Setting levels: control = 0, case = 1\n",
      "\n",
      "Setting direction: controls < cases\n",
      "\n"
     ]
    },
    {
     "name": "stdout",
     "output_type": "stream",
     "text": [
      "[1] \"auc: 0.720839957203837\"\n",
      "[1] \"O/E 比率: 0.95536222982737\"\n",
      "[1] \"c_slope: 1.03470737781129\"\n",
      "[1] \"Brier 分数: 0.144367408561045\"\n"
     ]
    },
    {
     "name": "stderr",
     "output_type": "stream",
     "text": [
      "Setting levels: control = 0, case = 1\n",
      "\n",
      "Setting direction: controls < cases\n",
      "\n"
     ]
    },
    {
     "name": "stdout",
     "output_type": "stream",
     "text": [
      "[1] \"auc: 0.722097575800915\"\n",
      "[1] \"O/E 比率: 0.975279916237175\"\n",
      "[1] \"c_slope: 1.05476287258697\"\n",
      "[1] \"Brier 分数: 0.144410183088824\"\n"
     ]
    },
    {
     "name": "stderr",
     "output_type": "stream",
     "text": [
      "Setting levels: control = 0, case = 1\n",
      "\n",
      "Setting direction: controls < cases\n",
      "\n"
     ]
    },
    {
     "name": "stdout",
     "output_type": "stream",
     "text": [
      "[1] \"auc: 0.723085311784897\"\n",
      "[1] \"O/E 比率: 0.945225588763283\"\n",
      "[1] \"c_slope: 1.09741077947874\"\n",
      "[1] \"Brier 分数: 0.144023009914035\"\n"
     ]
    },
    {
     "name": "stderr",
     "output_type": "stream",
     "text": [
      "Setting levels: control = 0, case = 1\n",
      "\n",
      "Setting direction: controls < cases\n",
      "\n"
     ]
    },
    {
     "name": "stdout",
     "output_type": "stream",
     "text": [
      "[1] \"auc: 0.718996848046119\"\n",
      "[1] \"O/E 比率: 0.967724511216132\"\n",
      "[1] \"c_slope: 1.06971826191969\"\n",
      "[1] \"Brier 分数: 0.14436670928494\"\n"
     ]
    },
    {
     "name": "stderr",
     "output_type": "stream",
     "text": [
      "Setting levels: control = 0, case = 1\n",
      "\n",
      "Setting direction: controls < cases\n",
      "\n"
     ]
    },
    {
     "name": "stdout",
     "output_type": "stream",
     "text": [
      "[1] \"auc: 0.718871361226017\"\n",
      "[1] \"O/E 比率: 0.997482258692776\"\n",
      "[1] \"c_slope: 1.1332082432693\"\n",
      "[1] \"Brier 分数: 0.144629114916552\"\n"
     ]
    },
    {
     "name": "stderr",
     "output_type": "stream",
     "text": [
      "Setting levels: control = 0, case = 1\n",
      "\n",
      "Setting direction: controls < cases\n",
      "\n"
     ]
    },
    {
     "name": "stdout",
     "output_type": "stream",
     "text": [
      "[1] \"auc: 0.725031904594262\"\n",
      "[1] \"O/E 比率: 0.985821572678837\"\n",
      "[1] \"c_slope: 1.07572573574779\"\n",
      "[1] \"Brier 分数: 0.143645668930737\"\n"
     ]
    },
    {
     "name": "stderr",
     "output_type": "stream",
     "text": [
      "Setting levels: control = 0, case = 1\n",
      "\n",
      "Setting direction: controls < cases\n",
      "\n"
     ]
    },
    {
     "name": "stdout",
     "output_type": "stream",
     "text": [
      "[1] \"auc: 0.722156709316142\"\n",
      "[1] \"O/E 比率: 0.975381304732523\"\n",
      "[1] \"c_slope: 1.09303177002605\"\n",
      "[1] \"Brier 分数: 0.143489346993897\"\n"
     ]
    },
    {
     "name": "stderr",
     "output_type": "stream",
     "text": [
      "Setting levels: control = 0, case = 1\n",
      "\n",
      "Setting direction: controls < cases\n",
      "\n"
     ]
    },
    {
     "name": "stdout",
     "output_type": "stream",
     "text": [
      "[1] \"auc: 0.721144907366661\"\n",
      "[1] \"O/E 比率: 0.956919292847322\"\n",
      "[1] \"c_slope: 1.16727997741869\"\n",
      "[1] \"Brier 分数: 0.144321601650534\"\n"
     ]
    },
    {
     "name": "stderr",
     "output_type": "stream",
     "text": [
      "Setting levels: control = 0, case = 1\n",
      "\n",
      "Setting direction: controls < cases\n",
      "\n"
     ]
    },
    {
     "name": "stdout",
     "output_type": "stream",
     "text": [
      "[1] \"auc: 0.720258592237282\"\n",
      "[1] \"O/E 比率: 1.00999747640942\"\n",
      "[1] \"c_slope: 1.16278541159374\"\n",
      "[1] \"Brier 分数: 0.14430598775348\"\n"
     ]
    },
    {
     "name": "stderr",
     "output_type": "stream",
     "text": [
      "Setting levels: control = 0, case = 1\n",
      "\n",
      "Setting direction: controls < cases\n",
      "\n"
     ]
    },
    {
     "name": "stdout",
     "output_type": "stream",
     "text": [
      "[1] \"auc: 0.721527900017602\"\n",
      "[1] \"O/E 比率: 0.942893919966177\"\n",
      "[1] \"c_slope: 1.13568733701761\"\n",
      "[1] \"Brier 分数: 0.144189087033441\"\n"
     ]
    },
    {
     "name": "stderr",
     "output_type": "stream",
     "text": [
      "Setting levels: control = 0, case = 1\n",
      "\n",
      "Setting direction: controls < cases\n",
      "\n"
     ]
    },
    {
     "name": "stdout",
     "output_type": "stream",
     "text": [
      "[1] \"auc: 0.718713901051751\"\n",
      "[1] \"O/E 比率: 0.949928013215861\"\n",
      "[1] \"c_slope: 1.10387705705908\"\n",
      "[1] \"Brier 分数: 0.144840907556136\"\n"
     ]
    },
    {
     "name": "stderr",
     "output_type": "stream",
     "text": [
      "Setting levels: control = 0, case = 1\n",
      "\n",
      "Setting direction: controls < cases\n",
      "\n"
     ]
    },
    {
     "name": "stdout",
     "output_type": "stream",
     "text": [
      "[1] \"auc: 0.722652468205422\"\n",
      "[1] \"O/E 比率: 0.97787265497536\"\n",
      "[1] \"c_slope: 1.05627688247691\"\n",
      "[1] \"Brier 分数: 0.14351170607225\"\n"
     ]
    },
    {
     "name": "stderr",
     "output_type": "stream",
     "text": [
      "Setting levels: control = 0, case = 1\n",
      "\n",
      "Setting direction: controls < cases\n",
      "\n"
     ]
    },
    {
     "name": "stdout",
     "output_type": "stream",
     "text": [
      "[1] \"auc: 0.716321400281641\"\n",
      "[1] \"O/E 比率: 1.0036636519817\"\n",
      "[1] \"c_slope: 1.05321038647797\"\n",
      "[1] \"Brier 分数: 0.145156422843251\"\n"
     ]
    },
    {
     "name": "stderr",
     "output_type": "stream",
     "text": [
      "Setting levels: control = 0, case = 1\n",
      "\n",
      "Setting direction: controls < cases\n",
      "\n"
     ]
    },
    {
     "name": "stdout",
     "output_type": "stream",
     "text": [
      "[1] \"auc: 0.722123704563457\"\n",
      "[1] \"O/E 比率: 1.0038185937921\"\n",
      "[1] \"c_slope: 1.09473398369138\"\n",
      "[1] \"Brier 分数: 0.14390707810156\"\n"
     ]
    },
    {
     "name": "stderr",
     "output_type": "stream",
     "text": [
      "Setting levels: control = 0, case = 1\n",
      "\n",
      "Setting direction: controls < cases\n",
      "\n"
     ]
    },
    {
     "name": "stdout",
     "output_type": "stream",
     "text": [
      "[1] \"auc: 0.720557697808484\"\n",
      "[1] \"O/E 比率: 0.949787772662626\"\n",
      "[1] \"c_slope: 1.06159977014352\"\n",
      "[1] \"Brier 分数: 0.14397765665165\"\n"
     ]
    },
    {
     "name": "stderr",
     "output_type": "stream",
     "text": [
      "Setting levels: control = 0, case = 1\n",
      "\n",
      "Setting direction: controls < cases\n",
      "\n"
     ]
    },
    {
     "name": "stdout",
     "output_type": "stream",
     "text": [
      "[1] \"auc: 0.723112815745467\"\n",
      "[1] \"O/E 比率: 0.980869043119701\"\n",
      "[1] \"c_slope: 1.06163039399936\"\n",
      "[1] \"Brier 分数: 0.143292651892332\"\n"
     ]
    },
    {
     "name": "stderr",
     "output_type": "stream",
     "text": [
      "Setting levels: control = 0, case = 1\n",
      "\n",
      "Setting direction: controls < cases\n",
      "\n"
     ]
    },
    {
     "name": "stdout",
     "output_type": "stream",
     "text": [
      "[1] \"auc: 0.722889002266326\"\n",
      "[1] \"O/E 比率: 0.99274791858222\"\n",
      "[1] \"c_slope: 1.11476682280674\"\n",
      "[1] \"Brier 分数: 0.144085306718887\"\n"
     ]
    },
    {
     "name": "stderr",
     "output_type": "stream",
     "text": [
      "Setting levels: control = 0, case = 1\n",
      "\n",
      "Setting direction: controls < cases\n",
      "\n"
     ]
    },
    {
     "name": "stdout",
     "output_type": "stream",
     "text": [
      "[1] \"auc: 0.720935189667312\"\n",
      "[1] \"O/E 比率: 0.970334103189308\"\n",
      "[1] \"c_slope: 1.06098538101877\"\n",
      "[1] \"Brier 分数: 0.144656496624008\"\n"
     ]
    },
    {
     "name": "stderr",
     "output_type": "stream",
     "text": [
      "Setting levels: control = 0, case = 1\n",
      "\n",
      "Setting direction: controls < cases\n",
      "\n"
     ]
    },
    {
     "name": "stdout",
     "output_type": "stream",
     "text": [
      "[1] \"auc: 0.721358406860588\"\n",
      "[1] \"O/E 比率: 0.996053205843989\"\n",
      "[1] \"c_slope: 1.11786960428137\"\n",
      "[1] \"Brier 分数: 0.14481944474499\"\n"
     ]
    },
    {
     "name": "stderr",
     "output_type": "stream",
     "text": [
      "Setting levels: control = 0, case = 1\n",
      "\n",
      "Setting direction: controls < cases\n",
      "\n"
     ]
    },
    {
     "name": "stdout",
     "output_type": "stream",
     "text": [
      "[1] \"auc: 0.722146395330928\"\n",
      "[1] \"O/E 比率: 0.921589747779038\"\n",
      "[1] \"c_slope: 1.13762005009474\"\n",
      "[1] \"Brier 分数: 0.14385098056018\"\n"
     ]
    },
    {
     "name": "stderr",
     "output_type": "stream",
     "text": [
      "Setting levels: control = 0, case = 1\n",
      "\n",
      "Setting direction: controls < cases\n",
      "\n"
     ]
    },
    {
     "name": "stdout",
     "output_type": "stream",
     "text": [
      "[1] \"auc: 0.721636884461362\"\n",
      "[1] \"O/E 比率: 0.956920420483915\"\n",
      "[1] \"c_slope: 1.12591071412995\"\n",
      "[1] \"Brier 分数: 0.143701971747166\"\n"
     ]
    },
    {
     "name": "stderr",
     "output_type": "stream",
     "text": [
      "Setting levels: control = 0, case = 1\n",
      "\n",
      "Setting direction: controls < cases\n",
      "\n"
     ]
    },
    {
     "name": "stdout",
     "output_type": "stream",
     "text": [
      "[1] \"auc: 0.717670813347122\"\n",
      "[1] \"O/E 比率: 0.954217019486156\"\n",
      "[1] \"c_slope: 1.10061279510167\"\n",
      "[1] \"Brier 分数: 0.144767787650007\"\n"
     ]
    },
    {
     "name": "stderr",
     "output_type": "stream",
     "text": [
      "Setting levels: control = 0, case = 1\n",
      "\n",
      "Setting direction: controls < cases\n",
      "\n"
     ]
    },
    {
     "name": "stdout",
     "output_type": "stream",
     "text": [
      "[1] \"auc: 0.720672183044358\"\n",
      "[1] \"O/E 比率: 0.985433604376789\"\n",
      "[1] \"c_slope: 1.09281908574451\"\n",
      "[1] \"Brier 分数: 0.143804493031424\"\n"
     ]
    },
    {
     "name": "stderr",
     "output_type": "stream",
     "text": [
      "Setting levels: control = 0, case = 1\n",
      "\n",
      "Setting direction: controls < cases\n",
      "\n"
     ]
    },
    {
     "name": "stdout",
     "output_type": "stream",
     "text": [
      "[1] \"auc: 0.720414677213519\"\n",
      "[1] \"O/E 比率: 0.959074040915507\"\n",
      "[1] \"c_slope: 1.108484519912\"\n",
      "[1] \"Brier 分数: 0.144002542801368\"\n"
     ]
    },
    {
     "name": "stderr",
     "output_type": "stream",
     "text": [
      "Setting levels: control = 0, case = 1\n",
      "\n",
      "Setting direction: controls < cases\n",
      "\n"
     ]
    },
    {
     "name": "stdout",
     "output_type": "stream",
     "text": [
      "[1] \"auc: 0.721765809276536\"\n",
      "[1] \"O/E 比率: 0.980439731634229\"\n",
      "[1] \"c_slope: 1.13688206091266\"\n",
      "[1] \"Brier 分数: 0.14443605778225\"\n"
     ]
    },
    {
     "name": "stderr",
     "output_type": "stream",
     "text": [
      "Setting levels: control = 0, case = 1\n",
      "\n",
      "Setting direction: controls < cases\n",
      "\n"
     ]
    },
    {
     "name": "stdout",
     "output_type": "stream",
     "text": [
      "[1] \"auc: 0.723675615538638\"\n",
      "[1] \"O/E 比率: 0.924775477998733\"\n",
      "[1] \"c_slope: 1.11647147570169\"\n",
      "[1] \"Brier 分数: 0.143758525778887\"\n"
     ]
    },
    {
     "name": "stderr",
     "output_type": "stream",
     "text": [
      "Setting levels: control = 0, case = 1\n",
      "\n",
      "Setting direction: controls < cases\n",
      "\n"
     ]
    },
    {
     "name": "stdout",
     "output_type": "stream",
     "text": [
      "[1] \"auc: 0.722512885605527\"\n",
      "[1] \"O/E 比率: 0.967806243562984\"\n",
      "[1] \"c_slope: 1.12837328972686\"\n",
      "[1] \"Brier 分数: 0.143994364367381\"\n"
     ]
    },
    {
     "name": "stderr",
     "output_type": "stream",
     "text": [
      "Setting levels: control = 0, case = 1\n",
      "\n",
      "Setting direction: controls < cases\n",
      "\n"
     ]
    },
    {
     "name": "stdout",
     "output_type": "stream",
     "text": [
      "[1] \"auc: 0.721265580993663\"\n",
      "[1] \"O/E 比率: 0.953491446728713\"\n",
      "[1] \"c_slope: 1.09207724971868\"\n",
      "[1] \"Brier 分数: 0.144186701918604\"\n"
     ]
    },
    {
     "name": "stderr",
     "output_type": "stream",
     "text": [
      "Setting levels: control = 0, case = 1\n",
      "\n",
      "Setting direction: controls < cases\n",
      "\n"
     ]
    },
    {
     "name": "stdout",
     "output_type": "stream",
     "text": [
      "[1] \"auc: 0.723396794138356\"\n",
      "[1] \"O/E 比率: 0.964501427673378\"\n",
      "[1] \"c_slope: 1.16071898082321\"\n",
      "[1] \"Brier 分数: 0.143339110620661\"\n"
     ]
    },
    {
     "name": "stderr",
     "output_type": "stream",
     "text": [
      "Setting levels: control = 0, case = 1\n",
      "\n",
      "Setting direction: controls < cases\n",
      "\n"
     ]
    },
    {
     "name": "stdout",
     "output_type": "stream",
     "text": [
      "[1] \"auc: 0.721985497161591\"\n",
      "[1] \"O/E 比率: 1.00008914890497\"\n",
      "[1] \"c_slope: 1.03049409331609\"\n",
      "[1] \"Brier 分数: 0.144201774220585\"\n"
     ]
    },
    {
     "name": "stderr",
     "output_type": "stream",
     "text": [
      "Setting levels: control = 0, case = 1\n",
      "\n",
      "Setting direction: controls < cases\n",
      "\n"
     ]
    },
    {
     "name": "stdout",
     "output_type": "stream",
     "text": [
      "[1] \"auc: 0.722446532300651\"\n",
      "[1] \"O/E 比率: 0.976233962986974\"\n",
      "[1] \"c_slope: 1.06149491161276\"\n",
      "[1] \"Brier 分数: 0.143874075065929\"\n"
     ]
    },
    {
     "name": "stderr",
     "output_type": "stream",
     "text": [
      "Setting levels: control = 0, case = 1\n",
      "\n",
      "Setting direction: controls < cases\n",
      "\n"
     ]
    },
    {
     "name": "stdout",
     "output_type": "stream",
     "text": [
      "[1] \"auc: 0.724906761573667\"\n",
      "[1] \"O/E 比率: 0.937551383097008\"\n",
      "[1] \"c_slope: 1.20898218493399\"\n",
      "[1] \"Brier 分数: 0.144008435125278\"\n"
     ]
    },
    {
     "name": "stderr",
     "output_type": "stream",
     "text": [
      "Setting levels: control = 0, case = 1\n",
      "\n",
      "Setting direction: controls < cases\n",
      "\n"
     ]
    },
    {
     "name": "stdout",
     "output_type": "stream",
     "text": [
      "[1] \"auc: 0.723748501034149\"\n",
      "[1] \"O/E 比率: 0.984266721502891\"\n",
      "[1] \"c_slope: 1.09813085415304\"\n",
      "[1] \"Brier 分数: 0.143511215397968\"\n"
     ]
    },
    {
     "name": "stderr",
     "output_type": "stream",
     "text": [
      "Setting levels: control = 0, case = 1\n",
      "\n",
      "Setting direction: controls < cases\n",
      "\n"
     ]
    },
    {
     "name": "stdout",
     "output_type": "stream",
     "text": [
      "[1] \"auc: 0.720051624933991\"\n",
      "[1] \"O/E 比率: 0.968288486945004\"\n",
      "[1] \"c_slope: 1.09484634880275\"\n",
      "[1] \"Brier 分数: 0.144319138874233\"\n"
     ]
    },
    {
     "name": "stderr",
     "output_type": "stream",
     "text": [
      "Setting levels: control = 0, case = 1\n",
      "\n",
      "Setting direction: controls < cases\n",
      "\n"
     ]
    },
    {
     "name": "stdout",
     "output_type": "stream",
     "text": [
      "[1] \"auc: 0.719940577693188\"\n",
      "[1] \"O/E 比率: 0.962272024569843\"\n",
      "[1] \"c_slope: 1.12822315515499\"\n",
      "[1] \"Brier 分数: 0.144676848141553\"\n"
     ]
    },
    {
     "name": "stderr",
     "output_type": "stream",
     "text": [
      "Setting levels: control = 0, case = 1\n",
      "\n",
      "Setting direction: controls < cases\n",
      "\n"
     ]
    },
    {
     "name": "stdout",
     "output_type": "stream",
     "text": [
      "[1] \"auc: 0.724454665221792\"\n",
      "[1] \"O/E 比率: 0.964925020314127\"\n",
      "[1] \"c_slope: 1.17364637649398\"\n",
      "[1] \"Brier 分数: 0.143050412344159\"\n"
     ]
    },
    {
     "name": "stderr",
     "output_type": "stream",
     "text": [
      "Setting levels: control = 0, case = 1\n",
      "\n",
      "Setting direction: controls < cases\n",
      "\n"
     ]
    },
    {
     "name": "stdout",
     "output_type": "stream",
     "text": [
      "[1] \"auc: 0.72209826339993\"\n",
      "[1] \"O/E 比率: 0.980654878948939\"\n",
      "[1] \"c_slope: 1.07884400931958\"\n",
      "[1] \"Brier 分数: 0.144417729020829\"\n"
     ]
    },
    {
     "name": "stderr",
     "output_type": "stream",
     "text": [
      "Setting levels: control = 0, case = 1\n",
      "\n",
      "Setting direction: controls < cases\n",
      "\n"
     ]
    },
    {
     "name": "stdout",
     "output_type": "stream",
     "text": [
      "[1] \"auc: 0.722891408862876\"\n",
      "[1] \"O/E 比率: 0.966961165735169\"\n",
      "[1] \"c_slope: 1.08191181241673\"\n",
      "[1] \"Brier 分数: 0.143784380839051\"\n"
     ]
    },
    {
     "name": "stderr",
     "output_type": "stream",
     "text": [
      "Setting levels: control = 0, case = 1\n",
      "\n",
      "Setting direction: controls < cases\n",
      "\n"
     ]
    },
    {
     "name": "stdout",
     "output_type": "stream",
     "text": [
      "[1] \"auc: 0.722106170788594\"\n",
      "[1] \"O/E 比率: 0.999817071907778\"\n",
      "[1] \"c_slope: 1.12089069074559\"\n",
      "[1] \"Brier 分数: 0.144296847992275\"\n"
     ]
    },
    {
     "name": "stderr",
     "output_type": "stream",
     "text": [
      "Setting levels: control = 0, case = 1\n",
      "\n",
      "Setting direction: controls < cases\n",
      "\n"
     ]
    },
    {
     "name": "stdout",
     "output_type": "stream",
     "text": [
      "[1] \"auc: 0.720860241374758\"\n",
      "[1] \"O/E 比率: 0.946205900838984\"\n",
      "[1] \"c_slope: 1.11533181018181\"\n",
      "[1] \"Brier 分数: 0.144287961893383\"\n"
     ]
    },
    {
     "name": "stderr",
     "output_type": "stream",
     "text": [
      "Setting levels: control = 0, case = 1\n",
      "\n",
      "Setting direction: controls < cases\n",
      "\n"
     ]
    },
    {
     "name": "stdout",
     "output_type": "stream",
     "text": [
      "[1] \"auc: 0.724008757261046\"\n",
      "[1] \"O/E 比率: 0.949435071181665\"\n",
      "[1] \"c_slope: 1.13228104923074\"\n",
      "[1] \"Brier 分数: 0.143067242530878\"\n"
     ]
    },
    {
     "name": "stderr",
     "output_type": "stream",
     "text": [
      "Setting levels: control = 0, case = 1\n",
      "\n",
      "Setting direction: controls < cases\n",
      "\n"
     ]
    },
    {
     "name": "stdout",
     "output_type": "stream",
     "text": [
      "[1] \"auc: 0.720189832335856\"\n",
      "[1] \"O/E 比率: 1.01093233080879\"\n",
      "[1] \"c_slope: 1.11171980879986\"\n",
      "[1] \"Brier 分数: 0.144704072491059\"\n"
     ]
    },
    {
     "name": "stderr",
     "output_type": "stream",
     "text": [
      "Setting levels: control = 0, case = 1\n",
      "\n",
      "Setting direction: controls < cases\n",
      "\n"
     ]
    },
    {
     "name": "stdout",
     "output_type": "stream",
     "text": [
      "[1] \"auc: 0.721346030078331\"\n",
      "[1] \"O/E 比率: 0.924505494893839\"\n",
      "[1] \"c_slope: 1.18080011758986\"\n",
      "[1] \"Brier 分数: 0.144364057104801\"\n"
     ]
    },
    {
     "name": "stderr",
     "output_type": "stream",
     "text": [
      "Setting levels: control = 0, case = 1\n",
      "\n",
      "Setting direction: controls < cases\n",
      "\n"
     ]
    },
    {
     "name": "stdout",
     "output_type": "stream",
     "text": [
      "[1] \"auc: 0.723992942483718\"\n",
      "[1] \"O/E 比率: 0.929540854035283\"\n",
      "[1] \"c_slope: 1.11239751204512\"\n",
      "[1] \"Brier 分数: 0.143068567971579\"\n"
     ]
    },
    {
     "name": "stderr",
     "output_type": "stream",
     "text": [
      "Setting levels: control = 0, case = 1\n",
      "\n",
      "Setting direction: controls < cases\n",
      "\n"
     ]
    },
    {
     "name": "stdout",
     "output_type": "stream",
     "text": [
      "[1] \"auc: 0.721485268878719\"\n",
      "[1] \"O/E 比率: 0.987926172882979\"\n",
      "[1] \"c_slope: 1.13744288362694\"\n",
      "[1] \"Brier 分数: 0.143935918715577\"\n"
     ]
    },
    {
     "name": "stderr",
     "output_type": "stream",
     "text": [
      "Setting levels: control = 0, case = 1\n",
      "\n",
      "Setting direction: controls < cases\n",
      "\n"
     ]
    },
    {
     "name": "stdout",
     "output_type": "stream",
     "text": [
      "[1] \"auc: 0.723098719965675\"\n",
      "[1] \"O/E 比率: 0.956205722530579\"\n",
      "[1] \"c_slope: 1.14617802325172\"\n",
      "[1] \"Brier 分数: 0.144090475934992\"\n"
     ]
    },
    {
     "name": "stderr",
     "output_type": "stream",
     "text": [
      "Setting levels: control = 0, case = 1\n",
      "\n",
      "Setting direction: controls < cases\n",
      "\n"
     ]
    },
    {
     "name": "stdout",
     "output_type": "stream",
     "text": [
      "[1] \"auc: 0.718667144318782\"\n",
      "[1] \"O/E 比率: 0.945427240946454\"\n",
      "[1] \"c_slope: 1.1674345520211\"\n",
      "[1] \"Brier 分数: 0.14424808093616\"\n"
     ]
    },
    {
     "name": "stderr",
     "output_type": "stream",
     "text": [
      "Setting levels: control = 0, case = 1\n",
      "\n",
      "Setting direction: controls < cases\n",
      "\n"
     ]
    },
    {
     "name": "stdout",
     "output_type": "stream",
     "text": [
      "[1] \"auc: 0.721019420546559\"\n",
      "[1] \"O/E 比率: 0.939238956469412\"\n",
      "[1] \"c_slope: 1.09509986884298\"\n",
      "[1] \"Brier 分数: 0.144125423403385\"\n"
     ]
    },
    {
     "name": "stderr",
     "output_type": "stream",
     "text": [
      "Setting levels: control = 0, case = 1\n",
      "\n",
      "Setting direction: controls < cases\n",
      "\n"
     ]
    },
    {
     "name": "stdout",
     "output_type": "stream",
     "text": [
      "[1] \"auc: 0.719937139698117\"\n",
      "[1] \"O/E 比率: 0.96612086871458\"\n",
      "[1] \"c_slope: 1.04895402185879\"\n",
      "[1] \"Brier 分数: 0.143960901540873\"\n"
     ]
    },
    {
     "name": "stderr",
     "output_type": "stream",
     "text": [
      "Setting levels: control = 0, case = 1\n",
      "\n",
      "Setting direction: controls < cases\n",
      "\n"
     ]
    },
    {
     "name": "stdout",
     "output_type": "stream",
     "text": [
      "[1] \"auc: 0.718708744059145\"\n",
      "[1] \"O/E 比率: 0.960916131517989\"\n",
      "[1] \"c_slope: 1.1811826990034\"\n",
      "[1] \"Brier 分数: 0.144750348881535\"\n"
     ]
    },
    {
     "name": "stderr",
     "output_type": "stream",
     "text": [
      "Setting levels: control = 0, case = 1\n",
      "\n",
      "Setting direction: controls < cases\n",
      "\n"
     ]
    },
    {
     "name": "stdout",
     "output_type": "stream",
     "text": [
      "[1] \"auc: 0.722040848882239\"\n",
      "[1] \"O/E 比率: 0.926850040607948\"\n",
      "[1] \"c_slope: 1.1377075785614\"\n",
      "[1] \"Brier 分数: 0.144376370262383\"\n"
     ]
    },
    {
     "name": "stderr",
     "output_type": "stream",
     "text": [
      "Setting levels: control = 0, case = 1\n",
      "\n",
      "Setting direction: controls < cases\n",
      "\n"
     ]
    },
    {
     "name": "stdout",
     "output_type": "stream",
     "text": [
      "[1] \"auc: 0.716905171844746\"\n",
      "[1] \"O/E 比率: 0.966050971525357\"\n",
      "[1] \"c_slope: 1.13991244102188\"\n",
      "[1] \"Brier 分数: 0.144601381814208\"\n"
     ]
    },
    {
     "name": "stderr",
     "output_type": "stream",
     "text": [
      "Setting levels: control = 0, case = 1\n",
      "\n",
      "Setting direction: controls < cases\n",
      "\n"
     ]
    },
    {
     "name": "stdout",
     "output_type": "stream",
     "text": [
      "[1] \"auc: 0.72071034478965\"\n",
      "[1] \"O/E 比率: 0.980747921567286\"\n",
      "[1] \"c_slope: 1.13729768149721\"\n",
      "[1] \"Brier 分数: 0.14433932275149\"\n"
     ]
    },
    {
     "name": "stderr",
     "output_type": "stream",
     "text": [
      "Setting levels: control = 0, case = 1\n",
      "\n",
      "Setting direction: controls < cases\n",
      "\n"
     ]
    },
    {
     "name": "stdout",
     "output_type": "stream",
     "text": [
      "[1] \"auc: 0.726360689689315\"\n",
      "[1] \"O/E 比率: 0.958142725937366\"\n",
      "[1] \"c_slope: 1.13240155313448\"\n",
      "[1] \"Brier 分数: 0.1430270321276\"\n"
     ]
    },
    {
     "name": "stderr",
     "output_type": "stream",
     "text": [
      "Setting levels: control = 0, case = 1\n",
      "\n",
      "Setting direction: controls < cases\n",
      "\n"
     ]
    },
    {
     "name": "stdout",
     "output_type": "stream",
     "text": [
      "[1] \"auc: 0.724039699216687\"\n",
      "[1] \"O/E 比率: 0.955823474856007\"\n",
      "[1] \"c_slope: 1.14537473903439\"\n",
      "[1] \"Brier 分数: 0.143219646621145\"\n"
     ]
    },
    {
     "name": "stderr",
     "output_type": "stream",
     "text": [
      "Setting levels: control = 0, case = 1\n",
      "\n",
      "Setting direction: controls < cases\n",
      "\n"
     ]
    },
    {
     "name": "stdout",
     "output_type": "stream",
     "text": [
      "[1] \"auc: 0.722726728898962\"\n",
      "[1] \"O/E 比率: 0.943803574641665\"\n",
      "[1] \"c_slope: 1.1049899273856\"\n",
      "[1] \"Brier 分数: 0.144167941640173\"\n"
     ]
    },
    {
     "name": "stderr",
     "output_type": "stream",
     "text": [
      "Setting levels: control = 0, case = 1\n",
      "\n",
      "Setting direction: controls < cases\n",
      "\n"
     ]
    },
    {
     "name": "stdout",
     "output_type": "stream",
     "text": [
      "[1] \"auc: 0.721699799771167\"\n",
      "[1] \"O/E 比率: 1.00037727576585\"\n",
      "[1] \"c_slope: 1.10306995407608\"\n",
      "[1] \"Brier 分数: 0.143945734451209\"\n"
     ]
    },
    {
     "name": "stderr",
     "output_type": "stream",
     "text": [
      "Setting levels: control = 0, case = 1\n",
      "\n",
      "Setting direction: controls < cases\n",
      "\n"
     ]
    },
    {
     "name": "stdout",
     "output_type": "stream",
     "text": [
      "[1] \"auc: 0.723326659038902\"\n",
      "[1] \"O/E 比率: 0.958146219204666\"\n",
      "[1] \"c_slope: 1.11652546927529\"\n",
      "[1] \"Brier 分数: 0.143683765217763\"\n"
     ]
    },
    {
     "name": "stderr",
     "output_type": "stream",
     "text": [
      "Setting levels: control = 0, case = 1\n",
      "\n",
      "Setting direction: controls < cases\n",
      "\n"
     ]
    },
    {
     "name": "stdout",
     "output_type": "stream",
     "text": [
      "[1] \"auc: 0.72239633757261\"\n",
      "[1] \"O/E 比率: 0.959740628393647\"\n",
      "[1] \"c_slope: 1.12740521307965\"\n",
      "[1] \"Brier 分数: 0.143374171253902\"\n"
     ]
    },
    {
     "name": "stderr",
     "output_type": "stream",
     "text": [
      "Setting levels: control = 0, case = 1\n",
      "\n",
      "Setting direction: controls < cases\n",
      "\n"
     ]
    },
    {
     "name": "stdout",
     "output_type": "stream",
     "text": [
      "[1] \"auc: 0.721616944089949\"\n",
      "[1] \"O/E 比率: 0.949068693109927\"\n",
      "[1] \"c_slope: 1.05498977095427\"\n",
      "[1] \"Brier 分数: 0.143436021304361\"\n"
     ]
    },
    {
     "name": "stderr",
     "output_type": "stream",
     "text": [
      "Setting levels: control = 0, case = 1\n",
      "\n",
      "Setting direction: controls < cases\n",
      "\n"
     ]
    },
    {
     "name": "stdout",
     "output_type": "stream",
     "text": [
      "[1] \"auc: 0.720231775875726\"\n",
      "[1] \"O/E 比率: 0.903412676922698\"\n",
      "[1] \"c_slope: 1.0700168428046\"\n",
      "[1] \"Brier 分数: 0.144585916739746\"\n"
     ]
    },
    {
     "name": "stderr",
     "output_type": "stream",
     "text": [
      "Setting levels: control = 0, case = 1\n",
      "\n",
      "Setting direction: controls < cases\n",
      "\n"
     ]
    },
    {
     "name": "stdout",
     "output_type": "stream",
     "text": [
      "[1] \"auc: 0.725507379312621\"\n",
      "[1] \"O/E 比率: 0.944946449095309\"\n",
      "[1] \"c_slope: 1.11805897985101\"\n",
      "[1] \"Brier 分数: 0.143561634407516\"\n"
     ]
    },
    {
     "name": "stderr",
     "output_type": "stream",
     "text": [
      "Setting levels: control = 0, case = 1\n",
      "\n",
      "Setting direction: controls < cases\n",
      "\n"
     ]
    },
    {
     "name": "stdout",
     "output_type": "stream",
     "text": [
      "[1] \"auc: 0.721383848024115\"\n",
      "[1] \"O/E 比率: 0.969484964921645\"\n",
      "[1] \"c_slope: 1.14628640891594\"\n",
      "[1] \"Brier 分数: 0.144316992427725\"\n"
     ]
    },
    {
     "name": "stderr",
     "output_type": "stream",
     "text": [
      "Setting levels: control = 0, case = 1\n",
      "\n",
      "Setting direction: controls < cases\n",
      "\n"
     ]
    },
    {
     "name": "stdout",
     "output_type": "stream",
     "text": [
      "[1] \"auc: 0.725435869015138\"\n",
      "[1] \"O/E 比率: 0.924207511809046\"\n",
      "[1] \"c_slope: 1.10356488807952\"\n",
      "[1] \"Brier 分数: 0.143161444006153\"\n"
     ]
    },
    {
     "name": "stderr",
     "output_type": "stream",
     "text": [
      "Setting levels: control = 0, case = 1\n",
      "\n",
      "Setting direction: controls < cases\n",
      "\n"
     ]
    },
    {
     "name": "stdout",
     "output_type": "stream",
     "text": [
      "[1] \"auc: 0.724696356275304\"\n",
      "[1] \"O/E 比率: 0.946580742900302\"\n",
      "[1] \"c_slope: 1.06789825377232\"\n",
      "[1] \"Brier 分数: 0.143660235857296\"\n"
     ]
    },
    {
     "name": "stderr",
     "output_type": "stream",
     "text": [
      "Setting levels: control = 0, case = 1\n",
      "\n",
      "Setting direction: controls < cases\n",
      "\n"
     ]
    },
    {
     "name": "stdout",
     "output_type": "stream",
     "text": [
      "[1] \"auc: 0.725425898829431\"\n",
      "[1] \"O/E 比率: 0.944553130118886\"\n",
      "[1] \"c_slope: 1.17255673913529\"\n",
      "[1] \"Brier 分数: 0.143454182540403\"\n"
     ]
    },
    {
     "name": "stderr",
     "output_type": "stream",
     "text": [
      "Setting levels: control = 0, case = 1\n",
      "\n",
      "Setting direction: controls < cases\n",
      "\n"
     ]
    },
    {
     "name": "stdout",
     "output_type": "stream",
     "text": [
      "[1] \"auc: 0.720469341335152\"\n",
      "[1] \"O/E 比率: 0.97976892432715\"\n",
      "[1] \"c_slope: 1.13313502034306\"\n",
      "[1] \"Brier 分数: 0.144161120936848\"\n"
     ]
    },
    {
     "name": "stderr",
     "output_type": "stream",
     "text": [
      "Setting levels: control = 0, case = 1\n",
      "\n",
      "Setting direction: controls < cases\n",
      "\n"
     ]
    },
    {
     "name": "stdout",
     "output_type": "stream",
     "text": [
      "[1] \"auc: 0.723759502618377\"\n",
      "[1] \"O/E 比率: 0.943991659886679\"\n",
      "[1] \"c_slope: 1.09488448895698\"\n",
      "[1] \"Brier 分数: 0.143688907552089\"\n"
     ]
    },
    {
     "name": "stderr",
     "output_type": "stream",
     "text": [
      "Setting levels: control = 0, case = 1\n",
      "\n",
      "Setting direction: controls < cases\n",
      "\n"
     ]
    },
    {
     "name": "stdout",
     "output_type": "stream",
     "text": [
      "[1] \"auc: 0.720702781200493\"\n",
      "[1] \"O/E 比率: 0.982315049280396\"\n",
      "[1] \"c_slope: 1.10146287446051\"\n",
      "[1] \"Brier 分数: 0.144421908321503\"\n"
     ]
    },
    {
     "name": "stderr",
     "output_type": "stream",
     "text": [
      "Setting levels: control = 0, case = 1\n",
      "\n",
      "Setting direction: controls < cases\n",
      "\n"
     ]
    },
    {
     "name": "stdout",
     "output_type": "stream",
     "text": [
      "[1] \"auc: 0.725412834448161\"\n",
      "[1] \"O/E 比率: 0.953927386925114\"\n",
      "[1] \"c_slope: 1.1243118290676\"\n",
      "[1] \"Brier 分数: 0.143200013077855\"\n"
     ]
    },
    {
     "name": "stderr",
     "output_type": "stream",
     "text": [
      "Setting levels: control = 0, case = 1\n",
      "\n",
      "Setting direction: controls < cases\n",
      "\n"
     ]
    },
    {
     "name": "stdout",
     "output_type": "stream",
     "text": [
      "[1] \"auc: 0.724241853326879\"\n",
      "[1] \"O/E 比率: 0.952614020734579\"\n",
      "[1] \"c_slope: 1.10704110521696\"\n",
      "[1] \"Brier 分数: 0.143050317419914\"\n"
     ]
    },
    {
     "name": "stderr",
     "output_type": "stream",
     "text": [
      "Setting levels: control = 0, case = 1\n",
      "\n",
      "Setting direction: controls < cases\n",
      "\n"
     ]
    },
    {
     "name": "stdout",
     "output_type": "stream",
     "text": [
      "[1] \"auc: 0.724206098178138\"\n",
      "[1] \"O/E 比率: 0.971622093383405\"\n",
      "[1] \"c_slope: 1.08294816437585\"\n",
      "[1] \"Brier 分数: 0.144066467837431\"\n"
     ]
    },
    {
     "name": "stderr",
     "output_type": "stream",
     "text": [
      "Setting levels: control = 0, case = 1\n",
      "\n",
      "Setting direction: controls < cases\n",
      "\n"
     ]
    },
    {
     "name": "stdout",
     "output_type": "stream",
     "text": [
      "[1] \"auc: 0.719686166057912\"\n",
      "[1] \"O/E 比率: 0.957685669069175\"\n",
      "[1] \"c_slope: 1.08838970336833\"\n",
      "[1] \"Brier 分数: 0.144165863655177\"\n"
     ]
    },
    {
     "name": "stderr",
     "output_type": "stream",
     "text": [
      "Setting levels: control = 0, case = 1\n",
      "\n",
      "Setting direction: controls < cases\n",
      "\n"
     ]
    },
    {
     "name": "stdout",
     "output_type": "stream",
     "text": [
      "[1] \"auc: 0.722706100928534\"\n",
      "[1] \"O/E 比率: 0.966589281384521\"\n",
      "[1] \"c_slope: 1.1074347275382\"\n",
      "[1] \"Brier 分数: 0.143654433093325\"\n"
     ]
    },
    {
     "name": "stderr",
     "output_type": "stream",
     "text": [
      "Setting levels: control = 0, case = 1\n",
      "\n",
      "Setting direction: controls < cases\n",
      "\n"
     ]
    },
    {
     "name": "stdout",
     "output_type": "stream",
     "text": [
      "[1] \"auc: 0.719265355461186\"\n",
      "[1] \"O/E 比率: 0.95729469116292\"\n",
      "[1] \"c_slope: 1.09049262936491\"\n",
      "[1] \"Brier 分数: 0.144282838140902\"\n"
     ]
    },
    {
     "name": "stderr",
     "output_type": "stream",
     "text": [
      "Setting levels: control = 0, case = 1\n",
      "\n",
      "Setting direction: controls < cases\n",
      "\n"
     ]
    },
    {
     "name": "stdout",
     "output_type": "stream",
     "text": [
      "[1] \"auc: 0.724367683946488\"\n",
      "[1] \"O/E 比率: 0.982774844484467\"\n",
      "[1] \"c_slope: 1.11893088553945\"\n",
      "[1] \"Brier 分数: 0.143911353989273\"\n"
     ]
    },
    {
     "name": "stderr",
     "output_type": "stream",
     "text": [
      "Setting levels: control = 0, case = 1\n",
      "\n",
      "Setting direction: controls < cases\n",
      "\n"
     ]
    },
    {
     "name": "stdout",
     "output_type": "stream",
     "text": [
      "[1] \"auc: 0.725095851302588\"\n",
      "[1] \"O/E 比率: 0.959046183397982\"\n",
      "[1] \"c_slope: 1.08793364274906\"\n",
      "[1] \"Brier 分数: 0.143951022870244\"\n"
     ]
    },
    {
     "name": "stderr",
     "output_type": "stream",
     "text": [
      "Setting levels: control = 0, case = 1\n",
      "\n",
      "Setting direction: controls < cases\n",
      "\n"
     ]
    },
    {
     "name": "stdout",
     "output_type": "stream",
     "text": [
      "[1] \"auc: 0.722479537053336\"\n",
      "[1] \"O/E 比率: 0.964860119805142\"\n",
      "[1] \"c_slope: 1.13116230837542\"\n",
      "[1] \"Brier 分数: 0.143970048992565\"\n"
     ]
    },
    {
     "name": "stderr",
     "output_type": "stream",
     "text": [
      "Setting levels: control = 0, case = 1\n",
      "\n",
      "Setting direction: controls < cases\n",
      "\n"
     ]
    },
    {
     "name": "stdout",
     "output_type": "stream",
     "text": [
      "[1] \"auc: 0.723170574062665\"\n",
      "[1] \"O/E 比率: 0.982494229465512\"\n",
      "[1] \"c_slope: 1.120922291724\"\n",
      "[1] \"Brier 分数: 0.143956278592422\"\n"
     ]
    },
    {
     "name": "stderr",
     "output_type": "stream",
     "text": [
      "Setting levels: control = 0, case = 1\n",
      "\n",
      "Setting direction: controls < cases\n",
      "\n"
     ]
    },
    {
     "name": "stdout",
     "output_type": "stream",
     "text": [
      "[1] \"auc: 0.72147426729449\"\n",
      "[1] \"O/E 比率: 0.964653727817903\"\n",
      "[1] \"c_slope: 1.0650113299498\"\n",
      "[1] \"Brier 分数: 0.143816677749045\"\n"
     ]
    },
    {
     "name": "stderr",
     "output_type": "stream",
     "text": [
      "Setting levels: control = 0, case = 1\n",
      "\n",
      "Setting direction: controls < cases\n",
      "\n"
     ]
    },
    {
     "name": "stdout",
     "output_type": "stream",
     "text": [
      "[1] \"auc: 0.719000973640204\"\n",
      "[1] \"O/E 比率: 0.965864799960434\"\n",
      "[1] \"c_slope: 1.10567991574294\"\n",
      "[1] \"Brier 分数: 0.144639425782145\"\n"
     ]
    },
    {
     "name": "stderr",
     "output_type": "stream",
     "text": [
      "Setting levels: control = 0, case = 1\n",
      "\n",
      "Setting direction: controls < cases\n",
      "\n"
     ]
    },
    {
     "name": "stdout",
     "output_type": "stream",
     "text": [
      "[1] \"auc: 0.719824717259285\"\n",
      "[1] \"O/E 比率: 0.962349583502583\"\n",
      "[1] \"c_slope: 1.08682351773867\"\n",
      "[1] \"Brier 分数: 0.143654561989473\"\n"
     ]
    },
    {
     "name": "stderr",
     "output_type": "stream",
     "text": [
      "Setting levels: control = 0, case = 1\n",
      "\n",
      "Setting direction: controls < cases\n",
      "\n"
     ]
    },
    {
     "name": "stdout",
     "output_type": "stream",
     "text": [
      "[1] \"auc: 0.719512547306812\"\n",
      "[1] \"O/E 比率: 0.936022890738487\"\n",
      "[1] \"c_slope: 1.05744379334202\"\n",
      "[1] \"Brier 分数: 0.144138258493168\"\n"
     ]
    },
    {
     "name": "stderr",
     "output_type": "stream",
     "text": [
      "Setting levels: control = 0, case = 1\n",
      "\n",
      "Setting direction: controls < cases\n",
      "\n"
     ]
    },
    {
     "name": "stdout",
     "output_type": "stream",
     "text": [
      "[1] \"auc: 0.722195902459954\"\n",
      "[1] \"O/E 比率: 0.951085188480238\"\n",
      "[1] \"c_slope: 1.11630328616504\"\n",
      "[1] \"Brier 分数: 0.143424148261927\"\n"
     ]
    },
    {
     "name": "stderr",
     "output_type": "stream",
     "text": [
      "Setting levels: control = 0, case = 1\n",
      "\n",
      "Setting direction: controls < cases\n",
      "\n"
     ]
    },
    {
     "name": "stdout",
     "output_type": "stream",
     "text": [
      "[1] \"auc: 0.723288153494103\"\n",
      "[1] \"O/E 比率: 0.973397275301129\"\n",
      "[1] \"c_slope: 1.11461019423918\"\n",
      "[1] \"Brier 分数: 0.143982590150992\"\n"
     ]
    },
    {
     "name": "stderr",
     "output_type": "stream",
     "text": [
      "Setting levels: control = 0, case = 1\n",
      "\n",
      "Setting direction: controls < cases\n",
      "\n"
     ]
    },
    {
     "name": "stdout",
     "output_type": "stream",
     "text": [
      "[1] \"auc: 0.721023546140644\"\n",
      "[1] \"O/E 比率: 0.968111268595407\"\n",
      "[1] \"c_slope: 1.10104492966481\"\n",
      "[1] \"Brier 分数: 0.143840243130693\"\n"
     ]
    },
    {
     "name": "stderr",
     "output_type": "stream",
     "text": [
      "Setting levels: control = 0, case = 1\n",
      "\n",
      "Setting direction: controls < cases\n",
      "\n"
     ]
    },
    {
     "name": "stdout",
     "output_type": "stream",
     "text": [
      "[1] \"auc: 0.721260424001056\"\n",
      "[1] \"O/E 比率: 0.973129141703485\"\n",
      "[1] \"c_slope: 1.12241743452846\"\n",
      "[1] \"Brier 分数: 0.143781081471766\"\n"
     ]
    },
    {
     "name": "stderr",
     "output_type": "stream",
     "text": [
      "Setting levels: control = 0, case = 1\n",
      "\n",
      "Setting direction: controls < cases\n",
      "\n"
     ]
    },
    {
     "name": "stdout",
     "output_type": "stream",
     "text": [
      "[1] \"auc: 0.717980920502552\"\n",
      "[1] \"O/E 比率: 1.00982035300724\"\n",
      "[1] \"c_slope: 1.0701804700464\"\n",
      "[1] \"Brier 分数: 0.144316929017401\"\n"
     ]
    },
    {
     "name": "stderr",
     "output_type": "stream",
     "text": [
      "Setting levels: control = 0, case = 1\n",
      "\n",
      "Setting direction: controls < cases\n",
      "\n"
     ]
    },
    {
     "name": "stdout",
     "output_type": "stream",
     "text": [
      "[1] \"auc: 0.716793437004929\"\n",
      "[1] \"O/E 比率: 0.974530035566477\"\n",
      "[1] \"c_slope: 1.18384717023142\"\n",
      "[1] \"Brier 分数: 0.144554575794914\"\n"
     ]
    },
    {
     "name": "stderr",
     "output_type": "stream",
     "text": [
      "Setting levels: control = 0, case = 1\n",
      "\n",
      "Setting direction: controls < cases\n",
      "\n"
     ]
    },
    {
     "name": "stdout",
     "output_type": "stream",
     "text": [
      "[1] \"auc: 0.721933239636508\"\n",
      "[1] \"O/E 比率: 0.960155263291878\"\n",
      "[1] \"c_slope: 1.07975841947783\"\n",
      "[1] \"Brier 分数: 0.143950515347466\"\n"
     ]
    },
    {
     "name": "stderr",
     "output_type": "stream",
     "text": [
      "Setting levels: control = 0, case = 1\n",
      "\n",
      "Setting direction: controls < cases\n",
      "\n"
     ]
    },
    {
     "name": "stdout",
     "output_type": "stream",
     "text": [
      "[1] \"auc: 0.725528351082556\"\n",
      "[1] \"O/E 比率: 0.938905240207089\"\n",
      "[1] \"c_slope: 1.11062000736116\"\n",
      "[1] \"Brier 分数: 0.143695802712112\"\n"
     ]
    },
    {
     "name": "stderr",
     "output_type": "stream",
     "text": [
      "Setting levels: control = 0, case = 1\n",
      "\n",
      "Setting direction: controls < cases\n",
      "\n"
     ]
    },
    {
     "name": "stdout",
     "output_type": "stream",
     "text": [
      "[1] \"auc: 0.721263174397113\"\n",
      "[1] \"O/E 比率: 0.963966142997462\"\n",
      "[1] \"c_slope: 1.09481247337573\"\n",
      "[1] \"Brier 分数: 0.143816032699401\"\n"
     ]
    },
    {
     "name": "stderr",
     "output_type": "stream",
     "text": [
      "Setting levels: control = 0, case = 1\n",
      "\n",
      "Setting direction: controls < cases\n",
      "\n"
     ]
    },
    {
     "name": "stdout",
     "output_type": "stream",
     "text": [
      "[1] \"auc: 0.718872392624538\"\n",
      "[1] \"O/E 比率: 0.958663504475205\"\n",
      "[1] \"c_slope: 1.0967703749196\"\n",
      "[1] \"Brier 分数: 0.144069693833423\"\n"
     ]
    },
    {
     "name": "stderr",
     "output_type": "stream",
     "text": [
      "Setting levels: control = 0, case = 1\n",
      "\n",
      "Setting direction: controls < cases\n",
      "\n"
     ]
    },
    {
     "name": "stdout",
     "output_type": "stream",
     "text": [
      "[1] \"auc: 0.728507717611336\"\n",
      "[1] \"O/E 比率: 0.958580108764863\"\n",
      "[1] \"c_slope: 1.13704101457126\"\n",
      "[1] \"Brier 分数: 0.143033997831855\"\n"
     ]
    },
    {
     "name": "stderr",
     "output_type": "stream",
     "text": [
      "Setting levels: control = 0, case = 1\n",
      "\n",
      "Setting direction: controls < cases\n",
      "\n"
     ]
    },
    {
     "name": "stdout",
     "output_type": "stream",
     "text": [
      "[1] \"auc: 0.719041198182538\"\n",
      "[1] \"O/E 比率: 0.975193087673222\"\n",
      "[1] \"c_slope: 1.11381007340787\"\n",
      "[1] \"Brier 分数: 0.14435800557238\"\n"
     ]
    },
    {
     "name": "stderr",
     "output_type": "stream",
     "text": [
      "Setting levels: control = 0, case = 1\n",
      "\n",
      "Setting direction: controls < cases\n",
      "\n"
     ]
    },
    {
     "name": "stdout",
     "output_type": "stream",
     "text": [
      "[1] \"auc: 0.723791132173033\"\n",
      "[1] \"O/E 比率: 0.944987960122117\"\n",
      "[1] \"c_slope: 1.07690800047796\"\n",
      "[1] \"Brier 分数: 0.143561554603078\"\n"
     ]
    },
    {
     "name": "stderr",
     "output_type": "stream",
     "text": [
      "Setting levels: control = 0, case = 1\n",
      "\n",
      "Setting direction: controls < cases\n",
      "\n"
     ]
    },
    {
     "name": "stdout",
     "output_type": "stream",
     "text": [
      "[1] \"auc: 0.723245178555712\"\n",
      "[1] \"O/E 比率: 0.956324892779033\"\n",
      "[1] \"c_slope: 1.28112854538378\"\n",
      "[1] \"Brier 分数: 0.143762239753877\"\n"
     ]
    },
    {
     "name": "stderr",
     "output_type": "stream",
     "text": [
      "Setting levels: control = 0, case = 1\n",
      "\n",
      "Setting direction: controls < cases\n",
      "\n"
     ]
    },
    {
     "name": "stdout",
     "output_type": "stream",
     "text": [
      "[1] \"auc: 0.72366220735786\"\n",
      "[1] \"O/E 比率: 0.955979780468002\"\n",
      "[1] \"c_slope: 1.08577185182946\"\n",
      "[1] \"Brier 分数: 0.144197922329851\"\n"
     ]
    },
    {
     "name": "stderr",
     "output_type": "stream",
     "text": [
      "Setting levels: control = 0, case = 1\n",
      "\n",
      "Setting direction: controls < cases\n",
      "\n"
     ]
    },
    {
     "name": "stdout",
     "output_type": "stream",
     "text": [
      "[1] \"auc: 0.721309243531069\"\n",
      "[1] \"O/E 比率: 0.970552612728608\"\n",
      "[1] \"c_slope: 1.07342782305254\"\n",
      "[1] \"Brier 分数: 0.143786424766732\"\n"
     ]
    },
    {
     "name": "stderr",
     "output_type": "stream",
     "text": [
      "Setting levels: control = 0, case = 1\n",
      "\n",
      "Setting direction: controls < cases\n",
      "\n"
     ]
    },
    {
     "name": "stdout",
     "output_type": "stream",
     "text": [
      "[1] \"auc: 0.719024695806196\"\n",
      "[1] \"O/E 比率: 0.991205447566524\"\n",
      "[1] \"c_slope: 1.06438111868218\"\n",
      "[1] \"Brier 分数: 0.144581789896155\"\n"
     ]
    },
    {
     "name": "stderr",
     "output_type": "stream",
     "text": [
      "Setting levels: control = 0, case = 1\n",
      "\n",
      "Setting direction: controls < cases\n",
      "\n"
     ]
    },
    {
     "name": "stdout",
     "output_type": "stream",
     "text": [
      "[1] \"auc: 0.72341192131667\"\n",
      "[1] \"O/E 比率: 0.93402538680975\"\n",
      "[1] \"c_slope: 1.09856589724825\"\n",
      "[1] \"Brier 分数: 0.14412797345024\"\n"
     ]
    },
    {
     "name": "stderr",
     "output_type": "stream",
     "text": [
      "Setting levels: control = 0, case = 1\n",
      "\n",
      "Setting direction: controls < cases\n",
      "\n"
     ]
    },
    {
     "name": "stdout",
     "output_type": "stream",
     "text": [
      "[1] \"auc: 0.725527319684034\"\n",
      "[1] \"O/E 比率: 0.985753056790189\"\n",
      "[1] \"c_slope: 1.13530387387051\"\n",
      "[1] \"Brier 分数: 0.143307797183617\"\n"
     ]
    },
    {
     "name": "stderr",
     "output_type": "stream",
     "text": [
      "Setting levels: control = 0, case = 1\n",
      "\n",
      "Setting direction: controls < cases\n",
      "\n"
     ]
    },
    {
     "name": "stdout",
     "output_type": "stream",
     "text": [
      "[1] \"auc: 0.719875255786833\"\n",
      "[1] \"O/E 比率: 0.944281820383019\"\n",
      "[1] \"c_slope: 1.07575412660733\"\n",
      "[1] \"Brier 分数: 0.14426214494639\"\n"
     ]
    },
    {
     "name": "stderr",
     "output_type": "stream",
     "text": [
      "Setting levels: control = 0, case = 1\n",
      "\n",
      "Setting direction: controls < cases\n",
      "\n"
     ]
    },
    {
     "name": "stdout",
     "output_type": "stream",
     "text": [
      "[1] \"auc: 0.721619006886992\"\n",
      "[1] \"O/E 比率: 0.955090348237308\"\n",
      "[1] \"c_slope: 1.02798272742872\"\n",
      "[1] \"Brier 分数: 0.14421165133781\"\n"
     ]
    },
    {
     "name": "stderr",
     "output_type": "stream",
     "text": [
      "Setting levels: control = 0, case = 1\n",
      "\n",
      "Setting direction: controls < cases\n",
      "\n"
     ]
    },
    {
     "name": "stdout",
     "output_type": "stream",
     "text": [
      "[1] \"auc: 0.720504752684387\"\n",
      "[1] \"O/E 比率: 0.968620071141665\"\n",
      "[1] \"c_slope: 1.06215517395425\"\n",
      "[1] \"Brier 分数: 0.144231913367689\"\n"
     ]
    },
    {
     "name": "stderr",
     "output_type": "stream",
     "text": [
      "Setting levels: control = 0, case = 1\n",
      "\n",
      "Setting direction: controls < cases\n",
      "\n"
     ]
    },
    {
     "name": "stdout",
     "output_type": "stream",
     "text": [
      "[1] \"auc: 0.724254573908643\"\n",
      "[1] \"O/E 比率: 0.920031182982795\"\n",
      "[1] \"c_slope: 1.15683159349931\"\n",
      "[1] \"Brier 分数: 0.143796513324506\"\n"
     ]
    },
    {
     "name": "stderr",
     "output_type": "stream",
     "text": [
      "Setting levels: control = 0, case = 1\n",
      "\n",
      "Setting direction: controls < cases\n",
      "\n"
     ]
    },
    {
     "name": "stdout",
     "output_type": "stream",
     "text": [
      "[1] \"auc: 0.723496152195916\"\n",
      "[1] \"O/E 比率: 0.954720859574363\"\n",
      "[1] \"c_slope: 1.11939391181604\"\n",
      "[1] \"Brier 分数: 0.143175289761052\"\n"
     ]
    },
    {
     "name": "stderr",
     "output_type": "stream",
     "text": [
      "Setting levels: control = 0, case = 1\n",
      "\n",
      "Setting direction: controls < cases\n",
      "\n"
     ]
    },
    {
     "name": "stdout",
     "output_type": "stream",
     "text": [
      "[1] \"auc: 0.723413984113712\"\n",
      "[1] \"O/E 比率: 0.982210460199625\"\n",
      "[1] \"c_slope: 1.08561904629204\"\n",
      "[1] \"Brier 分数: 0.144087898525694\"\n"
     ]
    },
    {
     "name": "stderr",
     "output_type": "stream",
     "text": [
      "Setting levels: control = 0, case = 1\n",
      "\n",
      "Setting direction: controls < cases\n",
      "\n"
     ]
    },
    {
     "name": "stdout",
     "output_type": "stream",
     "text": [
      "[1] \"auc: 0.721447107133427\"\n",
      "[1] \"O/E 比率: 0.9137088074085\"\n",
      "[1] \"c_slope: 1.05404315341929\"\n",
      "[1] \"Brier 分数: 0.144374279002626\"\n"
     ]
    },
    {
     "name": "stderr",
     "output_type": "stream",
     "text": [
      "Setting levels: control = 0, case = 1\n",
      "\n",
      "Setting direction: controls < cases\n",
      "\n"
     ]
    },
    {
     "name": "stdout",
     "output_type": "stream",
     "text": [
      "[1] \"auc: 0.721496614262454\"\n",
      "[1] \"O/E 比率: 0.971568748659001\"\n",
      "[1] \"c_slope: 1.08905579647459\"\n",
      "[1] \"Brier 分数: 0.143866362491293\"\n"
     ]
    },
    {
     "name": "stderr",
     "output_type": "stream",
     "text": [
      "Setting levels: control = 0, case = 1\n",
      "\n",
      "Setting direction: controls < cases\n",
      "\n"
     ]
    },
    {
     "name": "stdout",
     "output_type": "stream",
     "text": [
      "[1] \"auc: 0.723568006292906\"\n",
      "[1] \"O/E 比率: 0.920761383910305\"\n",
      "[1] \"c_slope: 1.10193863453471\"\n",
      "[1] \"Brier 分数: 0.14385064090759\"\n"
     ]
    },
    {
     "name": "stderr",
     "output_type": "stream",
     "text": [
      "Setting levels: control = 0, case = 1\n",
      "\n",
      "Setting direction: controls < cases\n",
      "\n"
     ]
    },
    {
     "name": "stdout",
     "output_type": "stream",
     "text": [
      "[1] \"auc: 0.721916737260165\"\n",
      "[1] \"O/E 比率: 0.981251782690546\"\n",
      "[1] \"c_slope: 1.14699153792658\"\n",
      "[1] \"Brier 分数: 0.14407192469857\"\n"
     ]
    },
    {
     "name": "stderr",
     "output_type": "stream",
     "text": [
      "Setting levels: control = 0, case = 1\n",
      "\n",
      "Setting direction: controls < cases\n",
      "\n"
     ]
    },
    {
     "name": "stdout",
     "output_type": "stream",
     "text": [
      "[1] \"auc: 0.72030672416828\"\n",
      "[1] \"O/E 比率: 0.955444393881092\"\n",
      "[1] \"c_slope: 1.15839163238315\"\n",
      "[1] \"Brier 分数: 0.144030726350325\"\n"
     ]
    },
    {
     "name": "stderr",
     "output_type": "stream",
     "text": [
      "Setting levels: control = 0, case = 1\n",
      "\n",
      "Setting direction: controls < cases\n",
      "\n"
     ]
    },
    {
     "name": "stdout",
     "output_type": "stream",
     "text": [
      "[1] \"auc: 0.723053682230241\"\n",
      "[1] \"O/E 比率: 0.986375764632813\"\n",
      "[1] \"c_slope: 1.09824022614123\"\n",
      "[1] \"Brier 分数: 0.143866900623704\"\n"
     ]
    },
    {
     "name": "stderr",
     "output_type": "stream",
     "text": [
      "Setting levels: control = 0, case = 1\n",
      "\n",
      "Setting direction: controls < cases\n",
      "\n"
     ]
    },
    {
     "name": "stdout",
     "output_type": "stream",
     "text": [
      "[1] \"auc: 0.720434961384439\"\n",
      "[1] \"O/E 比率: 0.995063243791935\"\n",
      "[1] \"c_slope: 1.13077412399374\"\n",
      "[1] \"Brier 分数: 0.144010582297355\"\n"
     ]
    },
    {
     "name": "stderr",
     "output_type": "stream",
     "text": [
      "Setting levels: control = 0, case = 1\n",
      "\n",
      "Setting direction: controls < cases\n",
      "\n"
     ]
    },
    {
     "name": "stdout",
     "output_type": "stream",
     "text": [
      "[1] \"auc: 0.720949973046119\"\n",
      "[1] \"O/E 比率: 0.949075739552912\"\n",
      "[1] \"c_slope: 1.13270157940977\"\n",
      "[1] \"Brier 分数: 0.143956616232648\"\n"
     ]
    },
    {
     "name": "stderr",
     "output_type": "stream",
     "text": [
      "Setting levels: control = 0, case = 1\n",
      "\n",
      "Setting direction: controls < cases\n",
      "\n"
     ]
    },
    {
     "name": "stdout",
     "output_type": "stream",
     "text": [
      "[1] \"auc: 0.72019533312797\"\n",
      "[1] \"O/E 比率: 0.985221060691372\"\n",
      "[1] \"c_slope: 1.10495421379249\"\n",
      "[1] \"Brier 分数: 0.14420915633542\"\n"
     ]
    },
    {
     "name": "stderr",
     "output_type": "stream",
     "text": [
      "Setting levels: control = 0, case = 1\n",
      "\n",
      "Setting direction: controls < cases\n",
      "\n"
     ]
    },
    {
     "name": "stdout",
     "output_type": "stream",
     "text": [
      "[1] \"auc: 0.721620038285513\"\n",
      "[1] \"O/E 比率: 0.957989283566171\"\n",
      "[1] \"c_slope: 1.14287060026374\"\n",
      "[1] \"Brier 分数: 0.144174605834146\"\n"
     ]
    },
    {
     "name": "stderr",
     "output_type": "stream",
     "text": [
      "Setting levels: control = 0, case = 1\n",
      "\n",
      "Setting direction: controls < cases\n",
      "\n"
     ]
    },
    {
     "name": "stdout",
     "output_type": "stream",
     "text": [
      "[1] \"auc: 0.722352331235698\"\n",
      "[1] \"O/E 比率: 0.945426467585081\"\n",
      "[1] \"c_slope: 1.11898332351064\"\n",
      "[1] \"Brier 分数: 0.144008599887884\"\n"
     ]
    },
    {
     "name": "stderr",
     "output_type": "stream",
     "text": [
      "Setting levels: control = 0, case = 1\n",
      "\n",
      "Setting direction: controls < cases\n",
      "\n"
     ]
    },
    {
     "name": "stdout",
     "output_type": "stream",
     "text": [
      "[1] \"auc: 0.72394481055272\"\n",
      "[1] \"O/E 比率: 0.96403266635365\"\n",
      "[1] \"c_slope: 1.07329252938633\"\n",
      "[1] \"Brier 分数: 0.143735169578408\"\n"
     ]
    },
    {
     "name": "stderr",
     "output_type": "stream",
     "text": [
      "Setting levels: control = 0, case = 1\n",
      "\n",
      "Setting direction: controls < cases\n",
      "\n"
     ]
    },
    {
     "name": "stdout",
     "output_type": "stream",
     "text": [
      "[1] \"auc: 0.720382703859356\"\n",
      "[1] \"O/E 比率: 0.941593717578072\"\n",
      "[1] \"c_slope: 1.06416553913648\"\n",
      "[1] \"Brier 分数: 0.14450193659692\"\n"
     ]
    },
    {
     "name": "stderr",
     "output_type": "stream",
     "text": [
      "Setting levels: control = 0, case = 1\n",
      "\n",
      "Setting direction: controls < cases\n",
      "\n"
     ]
    },
    {
     "name": "stdout",
     "output_type": "stream",
     "text": [
      "[1] \"auc: 0.726588972562049\"\n",
      "[1] \"O/E 比率: 0.948103989422985\"\n",
      "[1] \"c_slope: 1.1444605058976\"\n",
      "[1] \"Brier 分数: 0.143328865187522\"\n"
     ]
    },
    {
     "name": "stderr",
     "output_type": "stream",
     "text": [
      "Setting levels: control = 0, case = 1\n",
      "\n",
      "Setting direction: controls < cases\n",
      "\n"
     ]
    },
    {
     "name": "stdout",
     "output_type": "stream",
     "text": [
      "[1] \"auc: 0.719865285601127\"\n",
      "[1] \"O/E 比率: 0.944133981279383\"\n",
      "[1] \"c_slope: 1.16846207077517\"\n",
      "[1] \"Brier 分数: 0.144242058876757\"\n"
     ]
    },
    {
     "name": "stderr",
     "output_type": "stream",
     "text": [
      "Setting levels: control = 0, case = 1\n",
      "\n",
      "Setting direction: controls < cases\n",
      "\n"
     ]
    },
    {
     "name": "stdout",
     "output_type": "stream",
     "text": [
      "[1] \"auc: 0.724733142822566\"\n",
      "[1] \"O/E 比率: 0.939839120146409\"\n",
      "[1] \"c_slope: 1.0587760430344\"\n",
      "[1] \"Brier 分数: 0.143650541164431\"\n"
     ]
    },
    {
     "name": "stderr",
     "output_type": "stream",
     "text": [
      "Setting levels: control = 0, case = 1\n",
      "\n",
      "Setting direction: controls < cases\n",
      "\n"
     ]
    },
    {
     "name": "stdout",
     "output_type": "stream",
     "text": [
      "[1] \"auc: 0.723067090411019\"\n",
      "[1] \"O/E 比率: 0.969274643269258\"\n",
      "[1] \"c_slope: 1.08515096476088\"\n",
      "[1] \"Brier 分数: 0.143359274519103\"\n"
     ]
    },
    {
     "name": "stderr",
     "output_type": "stream",
     "text": [
      "Setting levels: control = 0, case = 1\n",
      "\n",
      "Setting direction: controls < cases\n",
      "\n"
     ]
    },
    {
     "name": "stdout",
     "output_type": "stream",
     "text": [
      "[1] \"auc: 0.724912949964795\"\n",
      "[1] \"O/E 比率: 0.969410979819618\"\n",
      "[1] \"c_slope: 1.13916297650672\"\n",
      "[1] \"Brier 分数: 0.144030008399564\"\n"
     ]
    },
    {
     "name": "stderr",
     "output_type": "stream",
     "text": [
      "Setting levels: control = 0, case = 1\n",
      "\n",
      "Setting direction: controls < cases\n",
      "\n"
     ]
    },
    {
     "name": "stdout",
     "output_type": "stream",
     "text": [
      "[1] \"auc: 0.721688454387432\"\n",
      "[1] \"O/E 比率: 0.961253661162953\"\n",
      "[1] \"c_slope: 1.0519304146635\"\n",
      "[1] \"Brier 分数: 0.14398003544865\"\n"
     ]
    },
    {
     "name": "stderr",
     "output_type": "stream",
     "text": [
      "Setting levels: control = 0, case = 1\n",
      "\n",
      "Setting direction: controls < cases\n",
      "\n"
     ]
    },
    {
     "name": "stdout",
     "output_type": "stream",
     "text": [
      "[1] \"auc: 0.722534201174969\"\n",
      "[1] \"O/E 比率: 0.998867187474288\"\n",
      "[1] \"c_slope: 1.11954254230183\"\n",
      "[1] \"Brier 分数: 0.144021286756677\"\n"
     ]
    },
    {
     "name": "stderr",
     "output_type": "stream",
     "text": [
      "Setting levels: control = 0, case = 1\n",
      "\n",
      "Setting direction: controls < cases\n",
      "\n"
     ]
    },
    {
     "name": "stdout",
     "output_type": "stream",
     "text": [
      "[1] \"auc: 0.724328147003168\"\n",
      "[1] \"O/E 比率: 0.951057251973845\"\n",
      "[1] \"c_slope: 1.20618479025096\"\n",
      "[1] \"Brier 分数: 0.144248954685729\"\n"
     ]
    },
    {
     "name": "stderr",
     "output_type": "stream",
     "text": [
      "Setting levels: control = 0, case = 1\n",
      "\n",
      "Setting direction: controls < cases\n",
      "\n"
     ]
    },
    {
     "name": "stdout",
     "output_type": "stream",
     "text": [
      "[1] \"auc: 0.719891414363668\"\n",
      "[1] \"O/E 比率: 0.927165184618623\"\n",
      "[1] \"c_slope: 1.10934515060796\"\n",
      "[1] \"Brier 分数: 0.144493647153852\"\n"
     ]
    },
    {
     "name": "stderr",
     "output_type": "stream",
     "text": [
      "Setting levels: control = 0, case = 1\n",
      "\n",
      "Setting direction: controls < cases\n",
      "\n"
     ]
    },
    {
     "name": "stdout",
     "output_type": "stream",
     "text": [
      "[1] \"auc: 0.725571326020947\"\n",
      "[1] \"O/E 比率: 0.974616165092228\"\n",
      "[1] \"c_slope: 1.11058732196309\"\n",
      "[1] \"Brier 分数: 0.143375710142251\"\n"
     ]
    },
    {
     "name": "stderr",
     "output_type": "stream",
     "text": [
      "Setting levels: control = 0, case = 1\n",
      "\n",
      "Setting direction: controls < cases\n",
      "\n"
     ]
    },
    {
     "name": "stdout",
     "output_type": "stream",
     "text": [
      "[1] \"auc: 0.722415934144517\"\n",
      "[1] \"O/E 比率: 0.920397916735416\"\n",
      "[1] \"c_slope: 1.07929620612312\"\n",
      "[1] \"Brier 分数: 0.144084999071615\"\n"
     ]
    },
    {
     "name": "stderr",
     "output_type": "stream",
     "text": [
      "Setting levels: control = 0, case = 1\n",
      "\n",
      "Setting direction: controls < cases\n",
      "\n"
     ]
    },
    {
     "name": "stdout",
     "output_type": "stream",
     "text": [
      "[1] \"auc: 0.7183979493047\"\n",
      "[1] \"O/E 比率: 0.948288098320516\"\n",
      "[1] \"c_slope: 1.1353635462338\"\n",
      "[1] \"Brier 分数: 0.144000556930982\"\n"
     ]
    },
    {
     "name": "stderr",
     "output_type": "stream",
     "text": [
      "Setting levels: control = 0, case = 1\n",
      "\n",
      "Setting direction: controls < cases\n",
      "\n"
     ]
    },
    {
     "name": "stdout",
     "output_type": "stream",
     "text": [
      "[1] \"auc: 0.722004406134483\"\n",
      "[1] \"O/E 比率: 1.00990771666479\"\n",
      "[1] \"c_slope: 1.06839444363495\"\n",
      "[1] \"Brier 分数: 0.143813067546017\"\n"
     ]
    },
    {
     "name": "stderr",
     "output_type": "stream",
     "text": [
      "Setting levels: control = 0, case = 1\n",
      "\n",
      "Setting direction: controls < cases\n",
      "\n"
     ]
    },
    {
     "name": "stdout",
     "output_type": "stream",
     "text": [
      "[1] \"auc: 0.725123355263158\"\n",
      "[1] \"O/E 比率: 0.976786690531295\"\n",
      "[1] \"c_slope: 1.06306287447585\"\n",
      "[1] \"Brier 分数: 0.14377826859197\"\n"
     ]
    },
    {
     "name": "stderr",
     "output_type": "stream",
     "text": [
      "Setting levels: control = 0, case = 1\n",
      "\n",
      "Setting direction: controls < cases\n",
      "\n"
     ]
    },
    {
     "name": "stdout",
     "output_type": "stream",
     "text": [
      "[1] \"auc: 0.721761339882943\"\n",
      "[1] \"O/E 比率: 0.967762806100881\"\n",
      "[1] \"c_slope: 1.04728830119833\"\n",
      "[1] \"Brier 分数: 0.144206134417269\"\n"
     ]
    },
    {
     "name": "stderr",
     "output_type": "stream",
     "text": [
      "Setting levels: control = 0, case = 1\n",
      "\n",
      "Setting direction: controls < cases\n",
      "\n"
     ]
    },
    {
     "name": "stdout",
     "output_type": "stream",
     "text": [
      "[1] \"auc: 0.726195665925893\"\n",
      "[1] \"O/E 比率: 1.00754367570418\"\n",
      "[1] \"c_slope: 1.08026150118135\"\n",
      "[1] \"Brier 分数: 0.143995180514714\"\n"
     ]
    },
    {
     "name": "stderr",
     "output_type": "stream",
     "text": [
      "Setting levels: control = 0, case = 1\n",
      "\n",
      "Setting direction: controls < cases\n",
      "\n"
     ]
    },
    {
     "name": "stdout",
     "output_type": "stream",
     "text": [
      "[1] \"auc: 0.723678365934695\"\n",
      "[1] \"O/E 比率: 0.970090652814092\"\n",
      "[1] \"c_slope: 1.11413419141631\"\n",
      "[1] \"Brier 分数: 0.14365147486587\"\n"
     ]
    },
    {
     "name": "stderr",
     "output_type": "stream",
     "text": [
      "Setting levels: control = 0, case = 1\n",
      "\n",
      "Setting direction: controls < cases\n",
      "\n"
     ]
    },
    {
     "name": "stdout",
     "output_type": "stream",
     "text": [
      "[1] \"auc: 0.721412383383207\"\n",
      "[1] \"O/E 比率: 0.941202494738044\"\n",
      "[1] \"c_slope: 1.12382524956576\"\n",
      "[1] \"Brier 分数: 0.144526793281303\"\n"
     ]
    },
    {
     "name": "stderr",
     "output_type": "stream",
     "text": [
      "Setting levels: control = 0, case = 1\n",
      "\n",
      "Setting direction: controls < cases\n",
      "\n"
     ]
    },
    {
     "name": "stdout",
     "output_type": "stream",
     "text": [
      "[1] \"auc: 0.71875721978965\"\n",
      "[1] \"O/E 比率: 0.947629901652162\"\n",
      "[1] \"c_slope: 1.11802097958322\"\n",
      "[1] \"Brier 分数: 0.144327765130962\"\n"
     ]
    },
    {
     "name": "stderr",
     "output_type": "stream",
     "text": [
      "Setting levels: control = 0, case = 1\n",
      "\n",
      "Setting direction: controls < cases\n",
      "\n"
     ]
    },
    {
     "name": "stdout",
     "output_type": "stream",
     "text": [
      "[1] \"auc: 0.721380410029044\"\n",
      "[1] \"O/E 比率: 0.984636464934099\"\n",
      "[1] \"c_slope: 1.09046668814675\"\n",
      "[1] \"Brier 分数: 0.144091376916026\"\n"
     ]
    },
    {
     "name": "stderr",
     "output_type": "stream",
     "text": [
      "Setting levels: control = 0, case = 1\n",
      "\n",
      "Setting direction: controls < cases\n",
      "\n"
     ]
    },
    {
     "name": "stdout",
     "output_type": "stream",
     "text": [
      "[1] \"auc: 0.72369452451153\"\n",
      "[1] \"O/E 比率: 0.931054947268848\"\n",
      "[1] \"c_slope: 1.11267750352536\"\n",
      "[1] \"Brier 分数: 0.144035815413904\"\n"
     ]
    },
    {
     "name": "stderr",
     "output_type": "stream",
     "text": [
      "Setting levels: control = 0, case = 1\n",
      "\n",
      "Setting direction: controls < cases\n",
      "\n"
     ]
    },
    {
     "name": "stdout",
     "output_type": "stream",
     "text": [
      "[1] \"auc: 0.725899310750748\"\n",
      "[1] \"O/E 比率: 0.930675114808311\"\n",
      "[1] \"c_slope: 1.04974881852242\"\n",
      "[1] \"Brier 分数: 0.143999719812977\"\n"
     ]
    },
    {
     "name": "stderr",
     "output_type": "stream",
     "text": [
      "Setting levels: control = 0, case = 1\n",
      "\n",
      "Setting direction: controls < cases\n",
      "\n"
     ]
    },
    {
     "name": "stdout",
     "output_type": "stream",
     "text": [
      "[1] \"auc: 0.722201403252068\"\n",
      "[1] \"O/E 比率: 0.96602038745694\"\n",
      "[1] \"c_slope: 1.08532623381858\"\n",
      "[1] \"Brier 分数: 0.143965181378444\"\n"
     ]
    },
    {
     "name": "stderr",
     "output_type": "stream",
     "text": [
      "Setting levels: control = 0, case = 1\n",
      "\n",
      "Setting direction: controls < cases\n",
      "\n"
     ]
    },
    {
     "name": "stdout",
     "output_type": "stream",
     "text": [
      "[1] \"auc: 0.72602961076395\"\n",
      "[1] \"O/E 比率: 0.976726522069572\"\n",
      "[1] \"c_slope: 1.11621082546453\"\n",
      "[1] \"Brier 分数: 0.143198591808163\"\n"
     ]
    },
    {
     "name": "stderr",
     "output_type": "stream",
     "text": [
      "Setting levels: control = 0, case = 1\n",
      "\n",
      "Setting direction: controls < cases\n",
      "\n"
     ]
    },
    {
     "name": "stdout",
     "output_type": "stream",
     "text": [
      "[1] \"auc: 0.723612700228833\"\n",
      "[1] \"O/E 比率: 0.942467909428725\"\n",
      "[1] \"c_slope: 1.09748255026399\"\n",
      "[1] \"Brier 分数: 0.144032256134806\"\n"
     ]
    },
    {
     "name": "stderr",
     "output_type": "stream",
     "text": [
      "Setting levels: control = 0, case = 1\n",
      "\n",
      "Setting direction: controls < cases\n",
      "\n"
     ]
    },
    {
     "name": "stdout",
     "output_type": "stream",
     "text": [
      "[1] \"auc: 0.725024684804612\"\n",
      "[1] \"O/E 比率: 0.95677989768321\"\n",
      "[1] \"c_slope: 1.0597187160969\"\n",
      "[1] \"Brier 分数: 0.143661292026597\"\n"
     ]
    },
    {
     "name": "stderr",
     "output_type": "stream",
     "text": [
      "Setting levels: control = 0, case = 1\n",
      "\n",
      "Setting direction: controls < cases\n",
      "\n"
     ]
    },
    {
     "name": "stdout",
     "output_type": "stream",
     "text": [
      "[1] \"auc: 0.722862529704277\"\n",
      "[1] \"O/E 比率: 0.980731382225378\"\n",
      "[1] \"c_slope: 1.12676475547645\"\n",
      "[1] \"Brier 分数: 0.144083151135468\"\n"
     ]
    },
    {
     "name": "stderr",
     "output_type": "stream",
     "text": [
      "Setting levels: control = 0, case = 1\n",
      "\n",
      "Setting direction: controls < cases\n",
      "\n"
     ]
    },
    {
     "name": "stdout",
     "output_type": "stream",
     "text": [
      "[1] \"auc: 0.722246784787009\"\n",
      "[1] \"O/E 比率: 0.927156120421245\"\n",
      "[1] \"c_slope: 1.11103202281851\"\n",
      "[1] \"Brier 分数: 0.144286338736329\"\n"
     ]
    },
    {
     "name": "stderr",
     "output_type": "stream",
     "text": [
      "Setting levels: control = 0, case = 1\n",
      "\n",
      "Setting direction: controls < cases\n",
      "\n"
     ]
    },
    {
     "name": "stdout",
     "output_type": "stream",
     "text": [
      "[1] \"auc: 0.719778991924837\"\n",
      "[1] \"O/E 比率: 0.958527464225262\"\n",
      "[1] \"c_slope: 1.02888349845298\"\n",
      "[1] \"Brier 分数: 0.144450348219356\"\n"
     ]
    },
    {
     "name": "stderr",
     "output_type": "stream",
     "text": [
      "Setting levels: control = 0, case = 1\n",
      "\n",
      "Setting direction: controls < cases\n",
      "\n"
     ]
    },
    {
     "name": "stdout",
     "output_type": "stream",
     "text": [
      "[1] \"auc: 0.721647886045591\"\n",
      "[1] \"O/E 比率: 0.933236663783571\"\n",
      "[1] \"c_slope: 1.04169588827385\"\n",
      "[1] \"Brier 分数: 0.143922616839733\"\n"
     ]
    },
    {
     "name": "stderr",
     "output_type": "stream",
     "text": [
      "Setting levels: control = 0, case = 1\n",
      "\n",
      "Setting direction: controls < cases\n",
      "\n"
     ]
    },
    {
     "name": "stdout",
     "output_type": "stream",
     "text": [
      "[1] \"auc: 0.726152690987502\"\n",
      "[1] \"O/E 比率: 0.979681750615566\"\n",
      "[1] \"c_slope: 1.15074282434052\"\n",
      "[1] \"Brier 分数: 0.14340898924565\"\n"
     ]
    },
    {
     "name": "stderr",
     "output_type": "stream",
     "text": [
      "Setting levels: control = 0, case = 1\n",
      "\n",
      "Setting direction: controls < cases\n",
      "\n"
     ]
    },
    {
     "name": "stdout",
     "output_type": "stream",
     "text": [
      "[1] \"auc: 0.722989391722408\"\n",
      "[1] \"O/E 比率: 0.960021603535878\"\n",
      "[1] \"c_slope: 1.11418714776375\"\n",
      "[1] \"Brier 分数: 0.143635751897042\"\n"
     ]
    },
    {
     "name": "stderr",
     "output_type": "stream",
     "text": [
      "Setting levels: control = 0, case = 1\n",
      "\n",
      "Setting direction: controls < cases\n",
      "\n"
     ]
    },
    {
     "name": "stdout",
     "output_type": "stream",
     "text": [
      "[1] \"auc: 0.723373415771871\"\n",
      "[1] \"O/E 比率: 0.9470829794006\"\n",
      "[1] \"c_slope: 1.11016916409953\"\n",
      "[1] \"Brier 分数: 0.143667252510498\"\n"
     ]
    },
    {
     "name": "stderr",
     "output_type": "stream",
     "text": [
      "Setting levels: control = 0, case = 1\n",
      "\n",
      "Setting direction: controls < cases\n",
      "\n"
     ]
    },
    {
     "name": "stdout",
     "output_type": "stream",
     "text": [
      "[1] \"auc: 0.719234413505545\"\n",
      "[1] \"O/E 比率: 0.934331918832202\"\n",
      "[1] \"c_slope: 1.01490771954431\"\n",
      "[1] \"Brier 分数: 0.144540365883179\"\n"
     ]
    },
    {
     "name": "stderr",
     "output_type": "stream",
     "text": [
      "Setting levels: control = 0, case = 1\n",
      "\n",
      "Setting direction: controls < cases\n",
      "\n"
     ]
    },
    {
     "name": "stdout",
     "output_type": "stream",
     "text": [
      "[1] \"auc: 0.721873418522267\"\n",
      "[1] \"O/E 比率: 0.936085252630176\"\n",
      "[1] \"c_slope: 1.17070573613581\"\n",
      "[1] \"Brier 分数: 0.144279480604687\"\n"
     ]
    },
    {
     "name": "stderr",
     "output_type": "stream",
     "text": [
      "Setting levels: control = 0, case = 1\n",
      "\n",
      "Setting direction: controls < cases\n",
      "\n"
     ]
    },
    {
     "name": "stdout",
     "output_type": "stream",
     "text": [
      "[1] \"auc: 0.724779555756029\"\n",
      "[1] \"O/E 比率: 0.97750543861006\"\n",
      "[1] \"c_slope: 1.14781587915197\"\n",
      "[1] \"Brier 分数: 0.143492838839903\"\n"
     ]
    },
    {
     "name": "stderr",
     "output_type": "stream",
     "text": [
      "Setting levels: control = 0, case = 1\n",
      "\n",
      "Setting direction: controls < cases\n",
      "\n"
     ]
    },
    {
     "name": "stdout",
     "output_type": "stream",
     "text": [
      "[1] \"auc: 0.722337891656399\"\n",
      "[1] \"O/E 比率: 0.966037695245487\"\n",
      "[1] \"c_slope: 1.13124656304958\"\n",
      "[1] \"Brier 分数: 0.144086451012205\"\n"
     ]
    },
    {
     "name": "stderr",
     "output_type": "stream",
     "text": [
      "Setting levels: control = 0, case = 1\n",
      "\n",
      "Setting direction: controls < cases\n",
      "\n"
     ]
    },
    {
     "name": "stdout",
     "output_type": "stream",
     "text": [
      "[1] \"auc: 0.723229707577891\"\n",
      "[1] \"O/E 比率: 0.947796368756189\"\n",
      "[1] \"c_slope: 1.10015576544393\"\n",
      "[1] \"Brier 分数: 0.14375587006542\"\n"
     ]
    },
    {
     "name": "stderr",
     "output_type": "stream",
     "text": [
      "Setting levels: control = 0, case = 1\n",
      "\n",
      "Setting direction: controls < cases\n",
      "\n"
     ]
    },
    {
     "name": "stdout",
     "output_type": "stream",
     "text": [
      "[1] \"auc: 0.720182612546207\"\n",
      "[1] \"O/E 比率: 0.943256157103257\"\n",
      "[1] \"c_slope: 1.0980891634228\"\n",
      "[1] \"Brier 分数: 0.144298355958481\"\n"
     ]
    },
    {
     "name": "stderr",
     "output_type": "stream",
     "text": [
      "Setting levels: control = 0, case = 1\n",
      "\n",
      "Setting direction: controls < cases\n",
      "\n"
     ]
    },
    {
     "name": "stdout",
     "output_type": "stream",
     "text": [
      "[1] \"auc: 0.720682840829079\"\n",
      "[1] \"O/E 比率: 0.986282515375028\"\n",
      "[1] \"c_slope: 1.07532796543007\"\n",
      "[1] \"Brier 分数: 0.144203595959615\"\n"
     ]
    },
    {
     "name": "stderr",
     "output_type": "stream",
     "text": [
      "Setting levels: control = 0, case = 1\n",
      "\n",
      "Setting direction: controls < cases\n",
      "\n"
     ]
    },
    {
     "name": "stdout",
     "output_type": "stream",
     "text": [
      "[1] \"auc: 0.723231770374934\"\n",
      "[1] \"O/E 比率: 0.969652717421102\"\n",
      "[1] \"c_slope: 1.14616944222913\"\n",
      "[1] \"Brier 分数: 0.143785323043268\"\n"
     ]
    },
    {
     "name": "stderr",
     "output_type": "stream",
     "text": [
      "Setting levels: control = 0, case = 1\n",
      "\n",
      "Setting direction: controls < cases\n",
      "\n"
     ]
    },
    {
     "name": "stdout",
     "output_type": "stream",
     "text": [
      "[1] \"auc: 0.720848552191516\"\n",
      "[1] \"O/E 比率: 0.931456430488516\"\n",
      "[1] \"c_slope: 1.03149943434608\"\n",
      "[1] \"Brier 分数: 0.14404977151259\"\n"
     ]
    },
    {
     "name": "stderr",
     "output_type": "stream",
     "text": [
      "Setting levels: control = 0, case = 1\n",
      "\n",
      "Setting direction: controls < cases\n",
      "\n"
     ]
    },
    {
     "name": "stdout",
     "output_type": "stream",
     "text": [
      "[1] \"auc: 0.720251028648125\"\n",
      "[1] \"O/E 比率: 0.968635013054268\"\n",
      "[1] \"c_slope: 1.083438581233\"\n",
      "[1] \"Brier 分数: 0.144385361193381\"\n"
     ]
    },
    {
     "name": "stderr",
     "output_type": "stream",
     "text": [
      "Setting levels: control = 0, case = 1\n",
      "\n",
      "Setting direction: controls < cases\n",
      "\n"
     ]
    },
    {
     "name": "stdout",
     "output_type": "stream",
     "text": [
      "[1] \"auc: 0.721558498173737\"\n",
      "[1] \"O/E 比率: 0.96992813474198\"\n",
      "[1] \"c_slope: 1.03622053634634\"\n",
      "[1] \"Brier 分数: 0.14390739656997\"\n"
     ]
    },
    {
     "name": "stderr",
     "output_type": "stream",
     "text": [
      "Setting levels: control = 0, case = 1\n",
      "\n",
      "Setting direction: controls < cases\n",
      "\n"
     ]
    },
    {
     "name": "stdout",
     "output_type": "stream",
     "text": [
      "[1] \"auc: 0.719355774731561\"\n",
      "[1] \"O/E 比率: 1.00087561814854\"\n",
      "[1] \"c_slope: 1.09257572421502\"\n",
      "[1] \"Brier 分数: 0.145215861863097\"\n"
     ]
    },
    {
     "name": "stderr",
     "output_type": "stream",
     "text": [
      "Setting levels: control = 0, case = 1\n",
      "\n",
      "Setting direction: controls < cases\n",
      "\n"
     ]
    },
    {
     "name": "stdout",
     "output_type": "stream",
     "text": [
      "[1] \"auc: 0.721880638311917\"\n",
      "[1] \"O/E 比率: 0.913280015405699\"\n",
      "[1] \"c_slope: 1.10054231577121\"\n",
      "[1] \"Brier 分数: 0.144208287902476\"\n"
     ]
    },
    {
     "name": "stderr",
     "output_type": "stream",
     "text": [
      "Setting levels: control = 0, case = 1\n",
      "\n",
      "Setting direction: controls < cases\n",
      "\n"
     ]
    },
    {
     "name": "stdout",
     "output_type": "stream",
     "text": [
      "[1] \"auc: 0.721257329805492\"\n",
      "[1] \"O/E 比率: 0.942883717795917\"\n",
      "[1] \"c_slope: 1.16024971245161\"\n",
      "[1] \"Brier 分数: 0.144135505388156\"\n"
     ]
    },
    {
     "name": "stderr",
     "output_type": "stream",
     "text": [
      "Setting levels: control = 0, case = 1\n",
      "\n",
      "Setting direction: controls < cases\n",
      "\n"
     ]
    },
    {
     "name": "stdout",
     "output_type": "stream",
     "text": [
      "[1] \"auc: 0.72339507514082\"\n",
      "[1] \"O/E 比率: 0.942291644787094\"\n",
      "[1] \"c_slope: 1.15660239259972\"\n",
      "[1] \"Brier 分数: 0.143923074400397\"\n"
     ]
    },
    {
     "name": "stderr",
     "output_type": "stream",
     "text": [
      "Setting levels: control = 0, case = 1\n",
      "\n",
      "Setting direction: controls < cases\n",
      "\n"
     ]
    },
    {
     "name": "stdout",
     "output_type": "stream",
     "text": [
      "[1] \"auc: 0.72245272069178\"\n",
      "[1] \"O/E 比率: 0.95643636051335\"\n",
      "[1] \"c_slope: 1.06491416534904\"\n",
      "[1] \"Brier 分数: 0.144247002341278\"\n"
     ]
    },
    {
     "name": "stderr",
     "output_type": "stream",
     "text": [
      "Setting levels: control = 0, case = 1\n",
      "\n",
      "Setting direction: controls < cases\n",
      "\n"
     ]
    },
    {
     "name": "stdout",
     "output_type": "stream",
     "text": [
      "[1] \"auc: 0.722130924353107\"\n",
      "[1] \"O/E 比率: 0.973040139340354\"\n",
      "[1] \"c_slope: 1.13282456823624\"\n",
      "[1] \"Brier 分数: 0.143869818809682\"\n"
     ]
    },
    {
     "name": "stderr",
     "output_type": "stream",
     "text": [
      "Setting levels: control = 0, case = 1\n",
      "\n",
      "Setting direction: controls < cases\n",
      "\n"
     ]
    },
    {
     "name": "stdout",
     "output_type": "stream",
     "text": [
      "[1] \"auc: 0.722949854779088\"\n",
      "[1] \"O/E 比率: 0.957004592566776\"\n",
      "[1] \"c_slope: 1.12208649197699\"\n",
      "[1] \"Brier 分数: 0.143997636447187\"\n"
     ]
    },
    {
     "name": "stderr",
     "output_type": "stream",
     "text": [
      "Setting levels: control = 0, case = 1\n",
      "\n",
      "Setting direction: controls < cases\n",
      "\n"
     ]
    },
    {
     "name": "stdout",
     "output_type": "stream",
     "text": [
      "[1] \"auc: 0.724393468909523\"\n",
      "[1] \"O/E 比率: 0.955425702851471\"\n",
      "[1] \"c_slope: 1.10857397198546\"\n",
      "[1] \"Brier 分数: 0.143744448704428\"\n"
     ]
    },
    {
     "name": "stderr",
     "output_type": "stream",
     "text": [
      "Setting levels: control = 0, case = 1\n",
      "\n",
      "Setting direction: controls < cases\n",
      "\n"
     ]
    },
    {
     "name": "stdout",
     "output_type": "stream",
     "text": [
      "[1] \"auc: 0.725209648939447\"\n",
      "[1] \"O/E 比率: 0.950284923199628\"\n",
      "[1] \"c_slope: 1.19370725601103\"\n",
      "[1] \"Brier 分数: 0.144052809960681\"\n"
     ]
    },
    {
     "name": "stderr",
     "output_type": "stream",
     "text": [
      "Setting levels: control = 0, case = 1\n",
      "\n",
      "Setting direction: controls < cases\n",
      "\n"
     ]
    },
    {
     "name": "stdout",
     "output_type": "stream",
     "text": [
      "[1] \"auc: 0.72269097375022\"\n",
      "[1] \"O/E 比率: 0.915676471135648\"\n",
      "[1] \"c_slope: 1.1263656232587\"\n",
      "[1] \"Brier 分数: 0.143542695105952\"\n"
     ]
    },
    {
     "name": "stderr",
     "output_type": "stream",
     "text": [
      "Setting levels: control = 0, case = 1\n",
      "\n",
      "Setting direction: controls < cases\n",
      "\n"
     ]
    },
    {
     "name": "stdout",
     "output_type": "stream",
     "text": [
      "[1] \"auc: 0.722951917576131\"\n",
      "[1] \"O/E 比率: 0.961740256326874\"\n",
      "[1] \"c_slope: 1.12660861050936\"\n",
      "[1] \"Brier 分数: 0.143637993272243\"\n"
     ]
    },
    {
     "name": "stderr",
     "output_type": "stream",
     "text": [
      "Setting levels: control = 0, case = 1\n",
      "\n",
      "Setting direction: controls < cases\n",
      "\n"
     ]
    },
    {
     "name": "stdout",
     "output_type": "stream",
     "text": [
      "[1] \"auc: 0.724040043016194\"\n",
      "[1] \"O/E 比率: 0.967237349513486\"\n",
      "[1] \"c_slope: 1.1165544082863\"\n",
      "[1] \"Brier 分数: 0.144151846269179\"\n"
     ]
    },
    {
     "name": "stderr",
     "output_type": "stream",
     "text": [
      "Setting levels: control = 0, case = 1\n",
      "\n",
      "Setting direction: controls < cases\n",
      "\n"
     ]
    },
    {
     "name": "stdout",
     "output_type": "stream",
     "text": [
      "[1] \"auc: 0.72450279715279\"\n",
      "[1] \"O/E 比率: 0.937901032809816\"\n",
      "[1] \"c_slope: 1.16000888458653\"\n",
      "[1] \"Brier 分数: 0.14416121797882\"\n"
     ]
    },
    {
     "name": "stderr",
     "output_type": "stream",
     "text": [
      "Setting levels: control = 0, case = 1\n",
      "\n",
      "Setting direction: controls < cases\n",
      "\n"
     ]
    },
    {
     "name": "stdout",
     "output_type": "stream",
     "text": [
      "[1] \"auc: 0.723885333237986\"\n",
      "[1] \"O/E 比率: 0.995523510748614\"\n",
      "[1] \"c_slope: 1.17242959218743\"\n",
      "[1] \"Brier 分数: 0.143559218696277\"\n"
     ]
    },
    {
     "name": "stderr",
     "output_type": "stream",
     "text": [
      "Setting levels: control = 0, case = 1\n",
      "\n",
      "Setting direction: controls < cases\n",
      "\n"
     ]
    },
    {
     "name": "stdout",
     "output_type": "stream",
     "text": [
      "[1] \"auc: 0.721882013509945\"\n",
      "[1] \"O/E 比率: 0.986401746871342\"\n",
      "[1] \"c_slope: 1.18308531710411\"\n",
      "[1] \"Brier 分数: 0.144275541627739\"\n"
     ]
    },
    {
     "name": "stderr",
     "output_type": "stream",
     "text": [
      "Setting levels: control = 0, case = 1\n",
      "\n",
      "Setting direction: controls < cases\n",
      "\n"
     ]
    },
    {
     "name": "stdout",
     "output_type": "stream",
     "text": [
      "[1] \"auc: 0.722320014082028\"\n",
      "[1] \"O/E 比率: 0.966548572178101\"\n",
      "[1] \"c_slope: 1.07696432535462\"\n",
      "[1] \"Brier 分数: 0.143492470100401\"\n"
     ]
    },
    {
     "name": "stderr",
     "output_type": "stream",
     "text": [
      "Setting levels: control = 0, case = 1\n",
      "\n",
      "Setting direction: controls < cases\n",
      "\n"
     ]
    },
    {
     "name": "stdout",
     "output_type": "stream",
     "text": [
      "[1] \"auc: 0.726478269120753\"\n",
      "[1] \"O/E 比率: 0.926332646256487\"\n",
      "[1] \"c_slope: 1.09918401770915\"\n",
      "[1] \"Brier 分数: 0.143435894759971\"\n"
     ]
    },
    {
     "name": "stderr",
     "output_type": "stream",
     "text": [
      "Setting levels: control = 0, case = 1\n",
      "\n",
      "Setting direction: controls < cases\n",
      "\n"
     ]
    },
    {
     "name": "stdout",
     "output_type": "stream",
     "text": [
      "[1] \"auc: 0.724694981077275\"\n",
      "[1] \"O/E 比率: 0.93973680093332\"\n",
      "[1] \"c_slope: 1.14359955864076\"\n",
      "[1] \"Brier 分数: 0.143630464676392\"\n"
     ]
    },
    {
     "name": "stderr",
     "output_type": "stream",
     "text": [
      "Setting levels: control = 0, case = 1\n",
      "\n",
      "Setting direction: controls < cases\n",
      "\n"
     ]
    },
    {
     "name": "stdout",
     "output_type": "stream",
     "text": [
      "[1] \"auc: 0.720716533180778\"\n",
      "[1] \"O/E 比率: 1.00216140595582\"\n",
      "[1] \"c_slope: 1.06396230015618\"\n",
      "[1] \"Brier 分数: 0.143946651239375\"\n"
     ]
    },
    {
     "name": "stderr",
     "output_type": "stream",
     "text": [
      "Setting levels: control = 0, case = 1\n",
      "\n",
      "Setting direction: controls < cases\n",
      "\n"
     ]
    },
    {
     "name": "stdout",
     "output_type": "stream",
     "text": [
      "[1] \"auc: 0.724557461274424\"\n",
      "[1] \"O/E 比率: 0.953291533467783\"\n",
      "[1] \"c_slope: 1.14389510370167\"\n",
      "[1] \"Brier 分数: 0.143887876097416\"\n"
     ]
    },
    {
     "name": "stderr",
     "output_type": "stream",
     "text": [
      "Setting levels: control = 0, case = 1\n",
      "\n",
      "Setting direction: controls < cases\n",
      "\n"
     ]
    },
    {
     "name": "stdout",
     "output_type": "stream",
     "text": [
      "[1] \"auc: 0.721607661503257\"\n",
      "[1] \"O/E 比率: 0.97277129540024\"\n",
      "[1] \"c_slope: 1.07195887358873\"\n",
      "[1] \"Brier 分数: 0.144372300176487\"\n"
     ]
    },
    {
     "name": "stderr",
     "output_type": "stream",
     "text": [
      "Setting levels: control = 0, case = 1\n",
      "\n",
      "Setting direction: controls < cases\n",
      "\n"
     ]
    },
    {
     "name": "stdout",
     "output_type": "stream",
     "text": [
      "[1] \"auc: 0.721428541960042\"\n",
      "[1] \"O/E 比率: 0.974053647464816\"\n",
      "[1] \"c_slope: 1.1493402535627\"\n",
      "[1] \"Brier 分数: 0.1437633798617\"\n"
     ]
    },
    {
     "name": "stderr",
     "output_type": "stream",
     "text": [
      "Setting levels: control = 0, case = 1\n",
      "\n",
      "Setting direction: controls < cases\n",
      "\n"
     ]
    },
    {
     "name": "stdout",
     "output_type": "stream",
     "text": [
      "[1] \"auc: 0.72633971791938\"\n",
      "[1] \"O/E 比率: 0.939532295740296\"\n",
      "[1] \"c_slope: 1.14380477626218\"\n",
      "[1] \"Brier 分数: 0.143621564822824\"\n"
     ]
    },
    {
     "name": "stderr",
     "output_type": "stream",
     "text": [
      "Setting levels: control = 0, case = 1\n",
      "\n",
      "Setting direction: controls < cases\n",
      "\n"
     ]
    },
    {
     "name": "stdout",
     "output_type": "stream",
     "text": [
      "[1] \"auc: 0.719875255786833\"\n",
      "[1] \"O/E 比率: 0.938159958126301\"\n",
      "[1] \"c_slope: 1.10561829245522\"\n",
      "[1] \"Brier 分数: 0.144528744610598\"\n"
     ]
    },
    {
     "name": "stderr",
     "output_type": "stream",
     "text": [
      "Setting levels: control = 0, case = 1\n",
      "\n",
      "Setting direction: controls < cases\n",
      "\n"
     ]
    },
    {
     "name": "stdout",
     "output_type": "stream",
     "text": [
      "[1] \"auc: 0.722576832313853\"\n",
      "[1] \"O/E 比率: 0.929042781977328\"\n",
      "[1] \"c_slope: 1.10112681201255\"\n",
      "[1] \"Brier 分数: 0.143415399151166\"\n"
     ]
    },
    {
     "name": "stderr",
     "output_type": "stream",
     "text": [
      "Setting levels: control = 0, case = 1\n",
      "\n",
      "Setting direction: controls < cases\n",
      "\n"
     ]
    },
    {
     "name": "stdout",
     "output_type": "stream",
     "text": [
      "[1] \"auc: 0.723454896255061\"\n",
      "[1] \"O/E 比率: 0.938934455856772\"\n",
      "[1] \"c_slope: 1.1003448931447\"\n",
      "[1] \"Brier 分数: 0.144691796709786\"\n"
     ]
    },
    {
     "name": "stderr",
     "output_type": "stream",
     "text": [
      "Setting levels: control = 0, case = 1\n",
      "\n",
      "Setting direction: controls < cases\n",
      "\n"
     ]
    },
    {
     "name": "stdout",
     "output_type": "stream",
     "text": [
      "[1] \"auc: 0.719967050255237\"\n",
      "[1] \"O/E 比率: 0.96450796591305\"\n",
      "[1] \"c_slope: 1.04591745541597\"\n",
      "[1] \"Brier 分数: 0.144024887433725\"\n"
     ]
    },
    {
     "name": "stderr",
     "output_type": "stream",
     "text": [
      "Setting levels: control = 0, case = 1\n",
      "\n",
      "Setting direction: controls < cases\n",
      "\n"
     ]
    },
    {
     "name": "stdout",
     "output_type": "stream",
     "text": [
      "[1] \"auc: 0.724352556768175\"\n",
      "[1] \"O/E 比率: 0.916281806826827\"\n",
      "[1] \"c_slope: 1.09550930439993\"\n",
      "[1] \"Brier 分数: 0.14400688659126\"\n"
     ]
    },
    {
     "name": "stderr",
     "output_type": "stream",
     "text": [
      "Setting levels: control = 0, case = 1\n",
      "\n",
      "Setting direction: controls < cases\n",
      "\n"
     ]
    },
    {
     "name": "stdout",
     "output_type": "stream",
     "text": [
      "[1] \"auc: 0.721559529572258\"\n",
      "[1] \"O/E 比率: 0.985209139557311\"\n",
      "[1] \"c_slope: 1.10512652081422\"\n",
      "[1] \"Brier 分数: 0.14395455026445\"\n"
     ]
    },
    {
     "name": "stderr",
     "output_type": "stream",
     "text": [
      "Setting levels: control = 0, case = 1\n",
      "\n",
      "Setting direction: controls < cases\n",
      "\n"
     ]
    },
    {
     "name": "stdout",
     "output_type": "stream",
     "text": [
      "[1] \"auc: 0.724570869455202\"\n",
      "[1] \"O/E 比率: 0.922293084554554\"\n",
      "[1] \"c_slope: 1.14184112147525\"\n",
      "[1] \"Brier 分数: 0.143459505000457\"\n"
     ]
    },
    {
     "name": "stderr",
     "output_type": "stream",
     "text": [
      "Setting levels: control = 0, case = 1\n",
      "\n",
      "Setting direction: controls < cases\n",
      "\n"
     ]
    },
    {
     "name": "stdout",
     "output_type": "stream",
     "text": [
      "[1] \"auc: 0.721611099498328\"\n",
      "[1] \"O/E 比率: 0.955465301991349\"\n",
      "[1] \"c_slope: 1.07775071644695\"\n",
      "[1] \"Brier 分数: 0.144081059474837\"\n"
     ]
    },
    {
     "name": "stderr",
     "output_type": "stream",
     "text": [
      "Setting levels: control = 0, case = 1\n",
      "\n",
      "Setting direction: controls < cases\n",
      "\n"
     ]
    },
    {
     "name": "stdout",
     "output_type": "stream",
     "text": [
      "[1] \"auc: 0.722851184320542\"\n",
      "[1] \"O/E 比率: 0.946844368745277\"\n",
      "[1] \"c_slope: 1.14084299729871\"\n",
      "[1] \"Brier 分数: 0.143347272368619\"\n"
     ]
    },
    {
     "name": "stderr",
     "output_type": "stream",
     "text": [
      "Setting levels: control = 0, case = 1\n",
      "\n",
      "Setting direction: controls < cases\n",
      "\n"
     ]
    },
    {
     "name": "stdout",
     "output_type": "stream",
     "text": [
      "[1] \"auc: 0.725905155342369\"\n",
      "[1] \"O/E 比率: 0.93505148626329\"\n",
      "[1] \"c_slope: 1.10177032512491\"\n",
      "[1] \"Brier 分数: 0.143609401460855\"\n"
     ]
    },
    {
     "name": "stderr",
     "output_type": "stream",
     "text": [
      "Setting levels: control = 0, case = 1\n",
      "\n",
      "Setting direction: controls < cases\n",
      "\n"
     ]
    },
    {
     "name": "stdout",
     "output_type": "stream",
     "text": [
      "[1] \"auc: 0.726767060706742\"\n",
      "[1] \"O/E 比率: 0.969579917471111\"\n",
      "[1] \"c_slope: 1.12447130262962\"\n",
      "[1] \"Brier 分数: 0.143070896640739\"\n"
     ]
    },
    {
     "name": "stderr",
     "output_type": "stream",
     "text": [
      "Setting levels: control = 0, case = 1\n",
      "\n",
      "Setting direction: controls < cases\n",
      "\n"
     ]
    },
    {
     "name": "stdout",
     "output_type": "stream",
     "text": [
      "[1] \"auc: 0.721542683396409\"\n",
      "[1] \"O/E 比率: 0.985143702866607\"\n",
      "[1] \"c_slope: 1.17560622330414\"\n",
      "[1] \"Brier 分数: 0.144541622026772\"\n"
     ]
    },
    {
     "name": "stderr",
     "output_type": "stream",
     "text": [
      "Setting levels: control = 0, case = 1\n",
      "\n",
      "Setting direction: controls < cases\n",
      "\n"
     ]
    },
    {
     "name": "stdout",
     "output_type": "stream",
     "text": [
      "[1] \"auc: 0.720961318429854\"\n",
      "[1] \"O/E 比率: 0.953526109473661\"\n",
      "[1] \"c_slope: 1.03334850057047\"\n",
      "[1] \"Brier 分数: 0.144623665737476\"\n"
     ]
    },
    {
     "name": "stderr",
     "output_type": "stream",
     "text": [
      "Setting levels: control = 0, case = 1\n",
      "\n",
      "Setting direction: controls < cases\n",
      "\n"
     ]
    },
    {
     "name": "stdout",
     "output_type": "stream",
     "text": [
      "[1] \"auc: 0.723124848728217\"\n",
      "[1] \"O/E 比率: 0.958685213818828\"\n",
      "[1] \"c_slope: 1.12575461682336\"\n",
      "[1] \"Brier 分数: 0.144265031005123\"\n"
     ]
    },
    {
     "name": "stderr",
     "output_type": "stream",
     "text": [
      "Setting levels: control = 0, case = 1\n",
      "\n",
      "Setting direction: controls < cases\n",
      "\n"
     ]
    },
    {
     "name": "stdout",
     "output_type": "stream",
     "text": [
      "[1] \"auc: 0.722518386397641\"\n",
      "[1] \"O/E 比率: 0.939561329431641\"\n",
      "[1] \"c_slope: 1.10019830664909\"\n",
      "[1] \"Brier 分数: 0.144023038664682\"\n"
     ]
    },
    {
     "name": "stderr",
     "output_type": "stream",
     "text": [
      "Setting levels: control = 0, case = 1\n",
      "\n",
      "Setting direction: controls < cases\n",
      "\n"
     ]
    },
    {
     "name": "stdout",
     "output_type": "stream",
     "text": [
      "[1] \"auc: 0.722731542092061\"\n",
      "[1] \"O/E 比率: 0.959681240776535\"\n",
      "[1] \"c_slope: 1.06999802538389\"\n",
      "[1] \"Brier 分数: 0.144110279625877\"\n"
     ]
    },
    {
     "name": "stderr",
     "output_type": "stream",
     "text": [
      "Setting levels: control = 0, case = 1\n",
      "\n",
      "Setting direction: controls < cases\n",
      "\n"
     ]
    },
    {
     "name": "stdout",
     "output_type": "stream",
     "text": [
      "[1] \"auc: 0.722768672438831\"\n",
      "[1] \"O/E 比率: 1.0080844701425\"\n",
      "[1] \"c_slope: 1.21568562825977\"\n",
      "[1] \"Brier 分数: 0.143946308844706\"\n"
     ]
    },
    {
     "name": "stderr",
     "output_type": "stream",
     "text": [
      "Setting levels: control = 0, case = 1\n",
      "\n",
      "Setting direction: controls < cases\n",
      "\n"
     ]
    },
    {
     "name": "stdout",
     "output_type": "stream",
     "text": [
      "[1] \"auc: 0.723858860675937\"\n",
      "[1] \"O/E 比率: 0.982785343541099\"\n",
      "[1] \"c_slope: 1.07438358678797\"\n",
      "[1] \"Brier 分数: 0.143794152723851\"\n"
     ]
    },
    {
     "name": "stderr",
     "output_type": "stream",
     "text": [
      "Setting levels: control = 0, case = 1\n",
      "\n",
      "Setting direction: controls < cases\n",
      "\n"
     ]
    },
    {
     "name": "stdout",
     "output_type": "stream",
     "text": [
      "[1] \"auc: 0.723001768504665\"\n",
      "[1] \"O/E 比率: 0.968607189096363\"\n",
      "[1] \"c_slope: 1.11877100206745\"\n",
      "[1] \"Brier 分数: 0.143398681489468\"\n"
     ]
    },
    {
     "name": "stderr",
     "output_type": "stream",
     "text": [
      "Setting levels: control = 0, case = 1\n",
      "\n",
      "Setting direction: controls < cases\n",
      "\n"
     ]
    },
    {
     "name": "stdout",
     "output_type": "stream",
     "text": [
      "[1] \"auc: 0.721284833766062\"\n",
      "[1] \"O/E 比率: 0.950793451805199\"\n",
      "[1] \"c_slope: 1.15720332860814\"\n",
      "[1] \"Brier 分数: 0.144497874670292\"\n"
     ]
    },
    {
     "name": "stderr",
     "output_type": "stream",
     "text": [
      "Setting levels: control = 0, case = 1\n",
      "\n",
      "Setting direction: controls < cases\n",
      "\n"
     ]
    },
    {
     "name": "stdout",
     "output_type": "stream",
     "text": [
      "[1] \"auc: 0.720523661657279\"\n",
      "[1] \"O/E 比率: 1.00408940039855\"\n",
      "[1] \"c_slope: 1.15498028155626\"\n",
      "[1] \"Brier 分数: 0.144363596778164\"\n"
     ]
    },
    {
     "name": "stderr",
     "output_type": "stream",
     "text": [
      "Setting levels: control = 0, case = 1\n",
      "\n",
      "Setting direction: controls < cases\n",
      "\n"
     ]
    },
    {
     "name": "stdout",
     "output_type": "stream",
     "text": [
      "[1] \"auc: 0.721011169358388\"\n",
      "[1] \"O/E 比率: 0.937585043623657\"\n",
      "[1] \"c_slope: 1.12536444814543\"\n",
      "[1] \"Brier 分数: 0.144251673707788\"\n"
     ]
    },
    {
     "name": "stderr",
     "output_type": "stream",
     "text": [
      "Setting levels: control = 0, case = 1\n",
      "\n",
      "Setting direction: controls < cases\n",
      "\n"
     ]
    },
    {
     "name": "stdout",
     "output_type": "stream",
     "text": [
      "[1] \"auc: 0.724280358871678\"\n",
      "[1] \"O/E 比率: 0.938512618049307\"\n",
      "[1] \"c_slope: 1.11223638291183\"\n",
      "[1] \"Brier 分数: 0.144266861247464\"\n"
     ]
    },
    {
     "name": "stderr",
     "output_type": "stream",
     "text": [
      "Setting levels: control = 0, case = 1\n",
      "\n",
      "Setting direction: controls < cases\n",
      "\n"
     ]
    },
    {
     "name": "stdout",
     "output_type": "stream",
     "text": [
      "[1] \"auc: 0.721764434078507\"\n",
      "[1] \"O/E 比率: 0.970537625615846\"\n",
      "[1] \"c_slope: 1.03926026790772\"\n",
      "[1] \"Brier 分数: 0.143643310396581\"\n"
     ]
    },
    {
     "name": "stderr",
     "output_type": "stream",
     "text": [
      "Setting levels: control = 0, case = 1\n",
      "\n",
      "Setting direction: controls < cases\n",
      "\n"
     ]
    },
    {
     "name": "stdout",
     "output_type": "stream",
     "text": [
      "[1] \"auc: 0.718135974080268\"\n",
      "[1] \"O/E 比率: 0.998823743901989\"\n",
      "[1] \"c_slope: 1.08019622007923\"\n",
      "[1] \"Brier 分数: 0.144641761485554\"\n"
     ]
    },
    {
     "name": "stderr",
     "output_type": "stream",
     "text": [
      "Setting levels: control = 0, case = 1\n",
      "\n",
      "Setting direction: controls < cases\n",
      "\n"
     ]
    },
    {
     "name": "stdout",
     "output_type": "stream",
     "text": [
      "[1] \"auc: 0.724782649951593\"\n",
      "[1] \"O/E 比率: 0.999357687888236\"\n",
      "[1] \"c_slope: 1.1113647752932\"\n",
      "[1] \"Brier 分数: 0.143484401280508\"\n"
     ]
    },
    {
     "name": "stderr",
     "output_type": "stream",
     "text": [
      "Setting levels: control = 0, case = 1\n",
      "\n",
      "Setting direction: controls < cases\n",
      "\n"
     ]
    },
    {
     "name": "stdout",
     "output_type": "stream",
     "text": [
      "[1] \"auc: 0.724525144120753\"\n",
      "[1] \"O/E 比率: 0.958694101882073\"\n",
      "[1] \"c_slope: 1.12805805552031\"\n",
      "[1] \"Brier 分数: 0.143851780854082\"\n"
     ]
    },
    {
     "name": "stderr",
     "output_type": "stream",
     "text": [
      "Setting levels: control = 0, case = 1\n",
      "\n",
      "Setting direction: controls < cases\n",
      "\n"
     ]
    },
    {
     "name": "stdout",
     "output_type": "stream",
     "text": [
      "[1] \"auc: 0.723450770660975\"\n",
      "[1] \"O/E 比率: 0.969812455192307\"\n",
      "[1] \"c_slope: 1.11573264426213\"\n",
      "[1] \"Brier 分数: 0.143300903513048\"\n"
     ]
    },
    {
     "name": "stderr",
     "output_type": "stream",
     "text": [
      "Setting levels: control = 0, case = 1\n",
      "\n",
      "Setting direction: controls < cases\n",
      "\n"
     ]
    },
    {
     "name": "stdout",
     "output_type": "stream",
     "text": [
      "[1] \"auc: 0.720671495445344\"\n",
      "[1] \"O/E 比率: 0.977222867454578\"\n",
      "[1] \"c_slope: 1.12366699220785\"\n",
      "[1] \"Brier 分数: 0.143414335378373\"\n"
     ]
    },
    {
     "name": "stderr",
     "output_type": "stream",
     "text": [
      "Setting levels: control = 0, case = 1\n",
      "\n",
      "Setting direction: controls < cases\n",
      "\n"
     ]
    },
    {
     "name": "stdout",
     "output_type": "stream",
     "text": [
      "[1] \"auc: 0.723657050365253\"\n",
      "[1] \"O/E 比率: 0.969519927288245\"\n",
      "[1] \"c_slope: 1.05463322907352\"\n",
      "[1] \"Brier 分数: 0.144220644058745\"\n"
     ]
    },
    {
     "name": "stderr",
     "output_type": "stream",
     "text": [
      "Setting levels: control = 0, case = 1\n",
      "\n",
      "Setting direction: controls < cases\n",
      "\n"
     ]
    },
    {
     "name": "stdout",
     "output_type": "stream",
     "text": [
      "[1] \"auc: 0.721595284721\"\n",
      "[1] \"O/E 比率: 0.972351565774275\"\n",
      "[1] \"c_slope: 1.09130008570097\"\n",
      "[1] \"Brier 分数: 0.143746243651269\"\n"
     ]
    },
    {
     "name": "stderr",
     "output_type": "stream",
     "text": [
      "Setting levels: control = 0, case = 1\n",
      "\n",
      "Setting direction: controls < cases\n",
      "\n"
     ]
    },
    {
     "name": "stdout",
     "output_type": "stream",
     "text": [
      "[1] \"auc: 0.724016320850202\"\n",
      "[1] \"O/E 比率: 0.91365785217286\"\n",
      "[1] \"c_slope: 1.12787217282206\"\n",
      "[1] \"Brier 分数: 0.143905035711106\"\n"
     ]
    },
    {
     "name": "stderr",
     "output_type": "stream",
     "text": [
      "Setting levels: control = 0, case = 1\n",
      "\n",
      "Setting direction: controls < cases\n",
      "\n"
     ]
    },
    {
     "name": "stdout",
     "output_type": "stream",
     "text": [
      "[1] \"auc: 0.723133787515402\"\n",
      "[1] \"O/E 比率: 0.950554768403544\"\n",
      "[1] \"c_slope: 1.11821815498432\"\n",
      "[1] \"Brier 分数: 0.143828718683296\"\n"
     ]
    },
    {
     "name": "stderr",
     "output_type": "stream",
     "text": [
      "Setting levels: control = 0, case = 1\n",
      "\n",
      "Setting direction: controls < cases\n",
      "\n"
     ]
    },
    {
     "name": "stdout",
     "output_type": "stream",
     "text": [
      "[1] \"auc: 0.719802714090829\"\n",
      "[1] \"O/E 比率: 0.95024547851262\"\n",
      "[1] \"c_slope: 1.11159076799374\"\n",
      "[1] \"Brier 分数: 0.144776983531668\"\n"
     ]
    },
    {
     "name": "stderr",
     "output_type": "stream",
     "text": [
      "Setting levels: control = 0, case = 1\n",
      "\n",
      "Setting direction: controls < cases\n",
      "\n"
     ]
    },
    {
     "name": "stdout",
     "output_type": "stream",
     "text": [
      "[1] \"auc: 0.723028928665728\"\n",
      "[1] \"O/E 比率: 0.982117671620712\"\n",
      "[1] \"c_slope: 1.11149466702251\"\n",
      "[1] \"Brier 分数: 0.143552106462341\"\n"
     ]
    },
    {
     "name": "stderr",
     "output_type": "stream",
     "text": [
      "Setting levels: control = 0, case = 1\n",
      "\n",
      "Setting direction: controls < cases\n",
      "\n"
     ]
    },
    {
     "name": "stdout",
     "output_type": "stream",
     "text": [
      "[1] \"auc: 0.721974151777856\"\n",
      "[1] \"O/E 比率: 0.952512122706098\"\n",
      "[1] \"c_slope: 1.10385047157236\"\n",
      "[1] \"Brier 分数: 0.143676593212011\"\n"
     ]
    },
    {
     "name": "stderr",
     "output_type": "stream",
     "text": [
      "Setting levels: control = 0, case = 1\n",
      "\n",
      "Setting direction: controls < cases\n",
      "\n"
     ]
    },
    {
     "name": "stdout",
     "output_type": "stream",
     "text": [
      "[1] \"auc: 0.722459940481429\"\n",
      "[1] \"O/E 比率: 0.974131110891487\"\n",
      "[1] \"c_slope: 1.127057510484\"\n",
      "[1] \"Brier 分数: 0.144727100470264\"\n"
     ]
    },
    {
     "name": "stderr",
     "output_type": "stream",
     "text": [
      "Setting levels: control = 0, case = 1\n",
      "\n",
      "Setting direction: controls < cases\n",
      "\n"
     ]
    },
    {
     "name": "stdout",
     "output_type": "stream",
     "text": [
      "[1] \"auc: 0.7215808451417\"\n",
      "[1] \"O/E 比率: 0.918167786612726\"\n",
      "[1] \"c_slope: 1.10982442455493\"\n",
      "[1] \"Brier 分数: 0.144138002641977\"\n"
     ]
    },
    {
     "name": "stderr",
     "output_type": "stream",
     "text": [
      "Setting levels: control = 0, case = 1\n",
      "\n",
      "Setting direction: controls < cases\n",
      "\n"
     ]
    },
    {
     "name": "stdout",
     "output_type": "stream",
     "text": [
      "[1] \"auc: 0.721616256490935\"\n",
      "[1] \"O/E 比率: 0.962074574289076\"\n",
      "[1] \"c_slope: 1.12641037203815\"\n",
      "[1] \"Brier 分数: 0.144123336532868\"\n"
     ]
    },
    {
     "name": "stderr",
     "output_type": "stream",
     "text": [
      "Setting levels: control = 0, case = 1\n",
      "\n",
      "Setting direction: controls < cases\n",
      "\n"
     ]
    },
    {
     "name": "stdout",
     "output_type": "stream",
     "text": [
      "[1] \"auc: 0.724633097165992\"\n",
      "[1] \"O/E 比率: 0.95596061481032\"\n",
      "[1] \"c_slope: 1.13022251135405\"\n",
      "[1] \"Brier 分数: 0.143421425038769\"\n"
     ]
    },
    {
     "name": "stderr",
     "output_type": "stream",
     "text": [
      "Setting levels: control = 0, case = 1\n",
      "\n",
      "Setting direction: controls < cases\n",
      "\n"
     ]
    },
    {
     "name": "stdout",
     "output_type": "stream",
     "text": [
      "[1] \"auc: 0.723784599982398\"\n",
      "[1] \"O/E 比率: 0.957360473399338\"\n",
      "[1] \"c_slope: 1.14997719821591\"\n",
      "[1] \"Brier 分数: 0.143285260546716\"\n"
     ]
    },
    {
     "name": "stderr",
     "output_type": "stream",
     "text": [
      "Setting levels: control = 0, case = 1\n",
      "\n",
      "Setting direction: controls < cases\n",
      "\n"
     ]
    },
    {
     "name": "stdout",
     "output_type": "stream",
     "text": [
      "[1] \"auc: 0.722938509395353\"\n",
      "[1] \"O/E 比率: 0.997081182015529\"\n",
      "[1] \"c_slope: 1.04230466460471\"\n",
      "[1] \"Brier 分数: 0.144257827453491\"\n"
     ]
    },
    {
     "name": "stderr",
     "output_type": "stream",
     "text": [
      "Setting levels: control = 0, case = 1\n",
      "\n",
      "Setting direction: controls < cases\n",
      "\n"
     ]
    },
    {
     "name": "stdout",
     "output_type": "stream",
     "text": [
      "[1] \"auc: 0.722087605615209\"\n",
      "[1] \"O/E 比率: 0.960994975591976\"\n",
      "[1] \"c_slope: 1.01735137522429\"\n",
      "[1] \"Brier 分数: 0.144030411183095\"\n"
     ]
    },
    {
     "name": "stderr",
     "output_type": "stream",
     "text": [
      "Setting levels: control = 0, case = 1\n",
      "\n",
      "Setting direction: controls < cases\n",
      "\n"
     ]
    },
    {
     "name": "stdout",
     "output_type": "stream",
     "text": [
      "[1] \"auc: 0.72525365527636\"\n",
      "[1] \"O/E 比率: 0.930971513728571\"\n",
      "[1] \"c_slope: 1.18880850555937\"\n",
      "[1] \"Brier 分数: 0.144044496091094\"\n"
     ]
    },
    {
     "name": "stderr",
     "output_type": "stream",
     "text": [
      "Setting levels: control = 0, case = 1\n",
      "\n",
      "Setting direction: controls < cases\n",
      "\n"
     ]
    },
    {
     "name": "stdout",
     "output_type": "stream",
     "text": [
      "[1] \"auc: 0.72287662548407\"\n",
      "[1] \"O/E 比率: 0.956835487489122\"\n",
      "[1] \"c_slope: 1.17234067290067\"\n",
      "[1] \"Brier 分数: 0.143430143399357\"\n"
     ]
    },
    {
     "name": "stderr",
     "output_type": "stream",
     "text": [
      "Setting levels: control = 0, case = 1\n",
      "\n",
      "Setting direction: controls < cases\n",
      "\n"
     ]
    },
    {
     "name": "stdout",
     "output_type": "stream",
     "text": [
      "[1] \"auc: 0.722064571048231\"\n",
      "[1] \"O/E 比率: 0.960418885712429\"\n",
      "[1] \"c_slope: 1.09540010562812\"\n",
      "[1] \"Brier 分数: 0.144257403811622\"\n"
     ]
    },
    {
     "name": "stderr",
     "output_type": "stream",
     "text": [
      "Setting levels: control = 0, case = 1\n",
      "\n",
      "Setting direction: controls < cases\n",
      "\n"
     ]
    },
    {
     "name": "stdout",
     "output_type": "stream",
     "text": [
      "[1] \"auc: 0.720886026337793\"\n",
      "[1] \"O/E 比率: 0.958378964146159\"\n",
      "[1] \"c_slope: 1.13013012548141\"\n",
      "[1] \"Brier 分数: 0.144929318304037\"\n"
     ]
    },
    {
     "name": "stderr",
     "output_type": "stream",
     "text": [
      "Setting levels: control = 0, case = 1\n",
      "\n",
      "Setting direction: controls < cases\n",
      "\n"
     ]
    },
    {
     "name": "stdout",
     "output_type": "stream",
     "text": [
      "[1] \"auc: 0.723425329497448\"\n",
      "[1] \"O/E 比率: 0.957117595029369\"\n",
      "[1] \"c_slope: 1.16757516664361\"\n",
      "[1] \"Brier 分数: 0.143120863673091\"\n"
     ]
    },
    {
     "name": "stderr",
     "output_type": "stream",
     "text": [
      "Setting levels: control = 0, case = 1\n",
      "\n",
      "Setting direction: controls < cases\n",
      "\n"
     ]
    },
    {
     "name": "stdout",
     "output_type": "stream",
     "text": [
      "[1] \"auc: 0.721118778604119\"\n",
      "[1] \"O/E 比率: 0.988713440126025\"\n",
      "[1] \"c_slope: 1.05783341546048\"\n",
      "[1] \"Brier 分数: 0.144367591954674\"\n"
     ]
    },
    {
     "name": "stderr",
     "output_type": "stream",
     "text": [
      "Setting levels: control = 0, case = 1\n",
      "\n",
      "Setting direction: controls < cases\n",
      "\n"
     ]
    },
    {
     "name": "stdout",
     "output_type": "stream",
     "text": [
      "[1] \"auc: 0.72002412097342\"\n",
      "[1] \"O/E 比率: 0.98253252729242\"\n",
      "[1] \"c_slope: 1.09423560622268\"\n",
      "[1] \"Brier 分数: 0.144670120829683\"\n"
     ]
    },
    {
     "name": "stderr",
     "output_type": "stream",
     "text": [
      "Setting levels: control = 0, case = 1\n",
      "\n",
      "Setting direction: controls < cases\n",
      "\n"
     ]
    },
    {
     "name": "stdout",
     "output_type": "stream",
     "text": [
      "[1] \"auc: 0.722972545546559\"\n",
      "[1] \"O/E 比率: 0.938059921214532\"\n",
      "[1] \"c_slope: 1.13168086683635\"\n",
      "[1] \"Brier 分数: 0.143769187919575\"\n"
     ]
    },
    {
     "name": "stderr",
     "output_type": "stream",
     "text": [
      "Setting levels: control = 0, case = 1\n",
      "\n",
      "Setting direction: controls < cases\n",
      "\n"
     ]
    },
    {
     "name": "stdout",
     "output_type": "stream",
     "text": [
      "[1] \"auc: 0.721044861710086\"\n",
      "[1] \"O/E 比率: 0.944787032073592\"\n",
      "[1] \"c_slope: 1.12676478905938\"\n",
      "[1] \"Brier 分数: 0.144212607770501\"\n"
     ]
    },
    {
     "name": "stderr",
     "output_type": "stream",
     "text": [
      "Setting levels: control = 0, case = 1\n",
      "\n",
      "Setting direction: controls < cases\n",
      "\n"
     ]
    },
    {
     "name": "stdout",
     "output_type": "stream",
     "text": [
      "[1] \"auc: 0.725388424683154\"\n",
      "[1] \"O/E 比率: 0.949002573068637\"\n",
      "[1] \"c_slope: 1.1469098498157\"\n",
      "[1] \"Brier 分数: 0.143278414209828\"\n"
     ]
    },
    {
     "name": "stderr",
     "output_type": "stream",
     "text": [
      "Setting levels: control = 0, case = 1\n",
      "\n",
      "Setting direction: controls < cases\n",
      "\n"
     ]
    },
    {
     "name": "stdout",
     "output_type": "stream",
     "text": [
      "[1] \"auc: 0.719738423582996\"\n",
      "[1] \"O/E 比率: 0.965407589989698\"\n",
      "[1] \"c_slope: 1.11094974081\"\n",
      "[1] \"Brier 分数: 0.144599072024838\"\n"
     ]
    },
    {
     "name": "stderr",
     "output_type": "stream",
     "text": [
      "Setting levels: control = 0, case = 1\n",
      "\n",
      "Setting direction: controls < cases\n",
      "\n"
     ]
    },
    {
     "name": "stdout",
     "output_type": "stream",
     "text": [
      "[1] \"auc: 0.722204497447632\"\n",
      "[1] \"O/E 比率: 0.966402651292098\"\n",
      "[1] \"c_slope: 1.09363382216533\"\n",
      "[1] \"Brier 分数: 0.144010446264815\"\n"
     ]
    },
    {
     "name": "stderr",
     "output_type": "stream",
     "text": [
      "Setting levels: control = 0, case = 1\n",
      "\n",
      "Setting direction: controls < cases\n",
      "\n"
     ]
    },
    {
     "name": "stdout",
     "output_type": "stream",
     "text": [
      "[1] \"auc: 0.723871581257701\"\n",
      "[1] \"O/E 比率: 0.923999715399829\"\n",
      "[1] \"c_slope: 1.11713313114809\"\n",
      "[1] \"Brier 分数: 0.143239255116345\"\n"
     ]
    },
    {
     "name": "stderr",
     "output_type": "stream",
     "text": [
      "Setting levels: control = 0, case = 1\n",
      "\n",
      "Setting direction: controls < cases\n",
      "\n"
     ]
    },
    {
     "name": "stdout",
     "output_type": "stream",
     "text": [
      "[1] \"auc: 0.71881222771079\"\n",
      "[1] \"O/E 比率: 0.953022478910465\"\n",
      "[1] \"c_slope: 1.13693325390391\"\n",
      "[1] \"Brier 分数: 0.14468472028229\"\n"
     ]
    },
    {
     "name": "stderr",
     "output_type": "stream",
     "text": [
      "Setting levels: control = 0, case = 1\n",
      "\n",
      "Setting direction: controls < cases\n",
      "\n"
     ]
    },
    {
     "name": "stdout",
     "output_type": "stream",
     "text": [
      "[1] \"auc: 0.723842358299595\"\n",
      "[1] \"O/E 比率: 0.947994318698917\"\n",
      "[1] \"c_slope: 1.14344289961291\"\n",
      "[1] \"Brier 分数: 0.143926900258724\"\n"
     ]
    },
    {
     "name": "stderr",
     "output_type": "stream",
     "text": [
      "Setting levels: control = 0, case = 1\n",
      "\n",
      "Setting direction: controls < cases\n",
      "\n"
     ]
    },
    {
     "name": "stdout",
     "output_type": "stream",
     "text": [
      "[1] \"auc: 0.718894051993487\"\n",
      "[1] \"O/E 比率: 0.939694552387906\"\n",
      "[1] \"c_slope: 1.14030578298046\"\n",
      "[1] \"Brier 分数: 0.144661910915594\"\n"
     ]
    },
    {
     "name": "stderr",
     "output_type": "stream",
     "text": [
      "Setting levels: control = 0, case = 1\n",
      "\n",
      "Setting direction: controls < cases\n",
      "\n"
     ]
    },
    {
     "name": "stdout",
     "output_type": "stream",
     "text": [
      "[1] \"auc: 0.723498558792466\"\n",
      "[1] \"O/E 比率: 0.937470120112336\"\n",
      "[1] \"c_slope: 1.11571993607113\"\n",
      "[1] \"Brier 分数: 0.14408283358664\"\n"
     ]
    },
    {
     "name": "stderr",
     "output_type": "stream",
     "text": [
      "Setting levels: control = 0, case = 1\n",
      "\n",
      "Setting direction: controls < cases\n",
      "\n"
     ]
    },
    {
     "name": "stdout",
     "output_type": "stream",
     "text": [
      "[1] \"auc: 0.719099987898257\"\n",
      "[1] \"O/E 比率: 0.963199133114888\"\n",
      "[1] \"c_slope: 1.05024824071195\"\n",
      "[1] \"Brier 分数: 0.144254133293493\"\n"
     ]
    },
    {
     "name": "stderr",
     "output_type": "stream",
     "text": [
      "Setting levels: control = 0, case = 1\n",
      "\n",
      "Setting direction: controls < cases\n",
      "\n"
     ]
    },
    {
     "name": "stdout",
     "output_type": "stream",
     "text": [
      "[1] \"auc: 0.720629895704981\"\n",
      "[1] \"O/E 比率: 0.954169160503113\"\n",
      "[1] \"c_slope: 1.18886089082891\"\n",
      "[1] \"Brier 分数: 0.144591713378818\"\n"
     ]
    },
    {
     "name": "stderr",
     "output_type": "stream",
     "text": [
      "Setting levels: control = 0, case = 1\n",
      "\n",
      "Setting direction: controls < cases\n",
      "\n"
     ]
    },
    {
     "name": "stdout",
     "output_type": "stream",
     "text": [
      "[1] \"auc: 0.719635627530364\"\n",
      "[1] \"O/E 比率: 0.921823209966791\"\n",
      "[1] \"c_slope: 1.14472690963038\"\n",
      "[1] \"Brier 分数: 0.144649904886574\"\n"
     ]
    },
    {
     "name": "stderr",
     "output_type": "stream",
     "text": [
      "Setting levels: control = 0, case = 1\n",
      "\n",
      "Setting direction: controls < cases\n",
      "\n"
     ]
    },
    {
     "name": "stdout",
     "output_type": "stream",
     "text": [
      "[1] \"auc: 0.718054493597078\"\n",
      "[1] \"O/E 比率: 0.966443341803537\"\n",
      "[1] \"c_slope: 1.15703263180137\"\n",
      "[1] \"Brier 分数: 0.144256097505295\"\n"
     ]
    },
    {
     "name": "stderr",
     "output_type": "stream",
     "text": [
      "Setting levels: control = 0, case = 1\n",
      "\n",
      "Setting direction: controls < cases\n",
      "\n"
     ]
    },
    {
     "name": "stdout",
     "output_type": "stream",
     "text": [
      "[1] \"auc: 0.7217737166652\"\n",
      "[1] \"O/E 比率: 0.977849493305745\"\n",
      "[1] \"c_slope: 1.16172868455645\"\n",
      "[1] \"Brier 分数: 0.143818311544597\"\n"
     ]
    },
    {
     "name": "stderr",
     "output_type": "stream",
     "text": [
      "Setting levels: control = 0, case = 1\n",
      "\n",
      "Setting direction: controls < cases\n",
      "\n"
     ]
    },
    {
     "name": "stdout",
     "output_type": "stream",
     "text": [
      "[1] \"auc: 0.724009788659567\"\n",
      "[1] \"O/E 比率: 0.954430169763981\"\n",
      "[1] \"c_slope: 1.11867262516853\"\n",
      "[1] \"Brier 分数: 0.143341619426037\"\n"
     ]
    },
    {
     "name": "stderr",
     "output_type": "stream",
     "text": [
      "Setting levels: control = 0, case = 1\n",
      "\n",
      "Setting direction: controls < cases\n",
      "\n"
     ]
    },
    {
     "name": "stdout",
     "output_type": "stream",
     "text": [
      "[1] \"auc: 0.723727185464707\"\n",
      "[1] \"O/E 比率: 0.951550622145465\"\n",
      "[1] \"c_slope: 1.15712808193999\"\n",
      "[1] \"Brier 分数: 0.14296180771106\"\n"
     ]
    },
    {
     "name": "stderr",
     "output_type": "stream",
     "text": [
      "Setting levels: control = 0, case = 1\n",
      "\n",
      "Setting direction: controls < cases\n",
      "\n"
     ]
    },
    {
     "name": "stdout",
     "output_type": "stream",
     "text": [
      "[1] \"auc: 0.722136081345714\"\n",
      "[1] \"O/E 比率: 0.939563366888322\"\n",
      "[1] \"c_slope: 1.08679703509472\"\n",
      "[1] \"Brier 分数: 0.144518424698475\"\n"
     ]
    },
    {
     "name": "stderr",
     "output_type": "stream",
     "text": [
      "Setting levels: control = 0, case = 1\n",
      "\n",
      "Setting direction: controls < cases\n",
      "\n"
     ]
    },
    {
     "name": "stdout",
     "output_type": "stream",
     "text": [
      "[1] \"auc: 0.720984009197324\"\n",
      "[1] \"O/E 比率: 0.971933256355006\"\n",
      "[1] \"c_slope: 1.11348189104819\"\n",
      "[1] \"Brier 分数: 0.144181058602479\"\n"
     ]
    },
    {
     "name": "stderr",
     "output_type": "stream",
     "text": [
      "Setting levels: control = 0, case = 1\n",
      "\n",
      "Setting direction: controls < cases\n",
      "\n"
     ]
    },
    {
     "name": "stdout",
     "output_type": "stream",
     "text": [
      "[1] \"auc: 0.724290672856891\"\n",
      "[1] \"O/E 比率: 0.95225973713436\"\n",
      "[1] \"c_slope: 1.11142064762452\"\n",
      "[1] \"Brier 分数: 0.144043859689894\"\n"
     ]
    },
    {
     "name": "stderr",
     "output_type": "stream",
     "text": [
      "Setting levels: control = 0, case = 1\n",
      "\n",
      "Setting direction: controls < cases\n",
      "\n"
     ]
    },
    {
     "name": "stdout",
     "output_type": "stream",
     "text": [
      "[1] \"auc: 0.722729479295019\"\n",
      "[1] \"O/E 比率: 0.954804113922449\"\n",
      "[1] \"c_slope: 1.12450084438719\"\n",
      "[1] \"Brier 分数: 0.143379871535637\"\n"
     ]
    },
    {
     "name": "stderr",
     "output_type": "stream",
     "text": [
      "Setting levels: control = 0, case = 1\n",
      "\n",
      "Setting direction: controls < cases\n",
      "\n"
     ]
    },
    {
     "name": "stdout",
     "output_type": "stream",
     "text": [
      "[1] \"auc: 0.723978846703925\"\n",
      "[1] \"O/E 比率: 0.945481707159202\"\n",
      "[1] \"c_slope: 1.05758875619273\"\n",
      "[1] \"Brier 分数: 0.143371715117204\"\n"
     ]
    },
    {
     "name": "stderr",
     "output_type": "stream",
     "text": [
      "Setting levels: control = 0, case = 1\n",
      "\n",
      "Setting direction: controls < cases\n",
      "\n"
     ]
    },
    {
     "name": "stdout",
     "output_type": "stream",
     "text": [
      "[1] \"auc: 0.723428079893505\"\n",
      "[1] \"O/E 比率: 0.913116660212694\"\n",
      "[1] \"c_slope: 1.06549443926585\"\n",
      "[1] \"Brier 分数: 0.143722317691371\"\n"
     ]
    },
    {
     "name": "stderr",
     "output_type": "stream",
     "text": [
      "Setting levels: control = 0, case = 1\n",
      "\n",
      "Setting direction: controls < cases\n",
      "\n"
     ]
    },
    {
     "name": "stdout",
     "output_type": "stream",
     "text": [
      "[1] \"auc: 0.721996842545327\"\n",
      "[1] \"O/E 比率: 0.940175666314694\"\n",
      "[1] \"c_slope: 1.087465088861\"\n",
      "[1] \"Brier 分数: 0.143784385505655\"\n"
     ]
    },
    {
     "name": "stderr",
     "output_type": "stream",
     "text": [
      "Setting levels: control = 0, case = 1\n",
      "\n",
      "Setting direction: controls < cases\n",
      "\n"
     ]
    },
    {
     "name": "stdout",
     "output_type": "stream",
     "text": [
      "[1] \"auc: 0.720670464046823\"\n",
      "[1] \"O/E 比率: 0.977441941869748\"\n",
      "[1] \"c_slope: 1.16599959530539\"\n",
      "[1] \"Brier 分数: 0.144113603590782\"\n"
     ]
    },
    {
     "name": "stderr",
     "output_type": "stream",
     "text": [
      "Setting levels: control = 0, case = 1\n",
      "\n",
      "Setting direction: controls < cases\n",
      "\n"
     ]
    },
    {
     "name": "stdout",
     "output_type": "stream",
     "text": [
      "[1] \"auc: 0.723421203903362\"\n",
      "[1] \"O/E 比率: 0.953673623155307\"\n",
      "[1] \"c_slope: 1.08267316043117\"\n",
      "[1] \"Brier 分数: 0.143580977424899\"\n"
     ]
    },
    {
     "name": "stderr",
     "output_type": "stream",
     "text": [
      "Setting levels: control = 0, case = 1\n",
      "\n",
      "Setting direction: controls < cases\n",
      "\n"
     ]
    },
    {
     "name": "stdout",
     "output_type": "stream",
     "text": [
      "[1] \"auc: 0.723239333964091\"\n",
      "[1] \"O/E 比率: 0.924279801785245\"\n",
      "[1] \"c_slope: 1.0693109026491\"\n",
      "[1] \"Brier 分数: 0.144138654193749\"\n"
     ]
    },
    {
     "name": "stderr",
     "output_type": "stream",
     "text": [
      "Setting levels: control = 0, case = 1\n",
      "\n",
      "Setting direction: controls < cases\n",
      "\n"
     ]
    },
    {
     "name": "stdout",
     "output_type": "stream",
     "text": [
      "[1] \"auc: 0.725032592193276\"\n",
      "[1] \"O/E 比率: 0.941346927720064\"\n",
      "[1] \"c_slope: 1.16993001112756\"\n",
      "[1] \"Brier 分数: 0.143451736402778\"\n"
     ]
    },
    {
     "name": "stderr",
     "output_type": "stream",
     "text": [
      "Setting levels: control = 0, case = 1\n",
      "\n",
      "Setting direction: controls < cases\n",
      "\n"
     ]
    },
    {
     "name": "stdout",
     "output_type": "stream",
     "text": [
      "[1] \"auc: 0.720142044204365\"\n",
      "[1] \"O/E 比率: 0.975243819018835\"\n",
      "[1] \"c_slope: 1.12787157741477\"\n",
      "[1] \"Brier 分数: 0.144457048650041\"\n"
     ]
    },
    {
     "name": "stderr",
     "output_type": "stream",
     "text": [
      "Setting levels: control = 0, case = 1\n",
      "\n",
      "Setting direction: controls < cases\n",
      "\n"
     ]
    },
    {
     "name": "stdout",
     "output_type": "stream",
     "text": [
      "[1] \"auc: 0.722380522795283\"\n",
      "[1] \"O/E 比率: 0.938079898986324\"\n",
      "[1] \"c_slope: 1.0836637332049\"\n",
      "[1] \"Brier 分数: 0.143996335713772\"\n"
     ]
    },
    {
     "name": "stderr",
     "output_type": "stream",
     "text": [
      "Setting levels: control = 0, case = 1\n",
      "\n",
      "Setting direction: controls < cases\n",
      "\n"
     ]
    },
    {
     "name": "stdout",
     "output_type": "stream",
     "text": [
      "[1] \"auc: 0.722302136507657\"\n",
      "[1] \"O/E 比率: 0.978855891370574\"\n",
      "[1] \"c_slope: 1.116111870328\"\n",
      "[1] \"Brier 分数: 0.144558978031395\"\n"
     ]
    },
    {
     "name": "stderr",
     "output_type": "stream",
     "text": [
      "Setting levels: control = 0, case = 1\n",
      "\n",
      "Setting direction: controls < cases\n",
      "\n"
     ]
    },
    {
     "name": "stdout",
     "output_type": "stream",
     "text": [
      "[1] \"auc: 0.725405270859004\"\n",
      "[1] \"O/E 比率: 0.945616827937962\"\n",
      "[1] \"c_slope: 1.11724747527094\"\n",
      "[1] \"Brier 分数: 0.143517227296082\"\n"
     ]
    },
    {
     "name": "stderr",
     "output_type": "stream",
     "text": [
      "Setting levels: control = 0, case = 1\n",
      "\n",
      "Setting direction: controls < cases\n",
      "\n"
     ]
    },
    {
     "name": "stdout",
     "output_type": "stream",
     "text": [
      "[1] \"auc: 0.723698650105615\"\n",
      "[1] \"O/E 比率: 0.946760872305365\"\n",
      "[1] \"c_slope: 1.10990336754869\"\n",
      "[1] \"Brier 分数: 0.143005245523157\"\n"
     ]
    },
    {
     "name": "stderr",
     "output_type": "stream",
     "text": [
      "Setting levels: control = 0, case = 1\n",
      "\n",
      "Setting direction: controls < cases\n",
      "\n"
     ]
    },
    {
     "name": "stdout",
     "output_type": "stream",
     "text": [
      "[1] \"auc: 0.724719047042774\"\n",
      "[1] \"O/E 比率: 0.936975401141391\"\n",
      "[1] \"c_slope: 1.11779908260502\"\n",
      "[1] \"Brier 分数: 0.143588478718162\"\n"
     ]
    },
    {
     "name": "stderr",
     "output_type": "stream",
     "text": [
      "Setting levels: control = 0, case = 1\n",
      "\n",
      "Setting direction: controls < cases\n",
      "\n"
     ]
    },
    {
     "name": "stdout",
     "output_type": "stream",
     "text": [
      "[1] \"auc: 0.722975295942616\"\n",
      "[1] \"O/E 比率: 0.951516431586451\"\n",
      "[1] \"c_slope: 1.09477323371895\"\n",
      "[1] \"Brier 分数: 0.143973433948259\"\n"
     ]
    },
    {
     "name": "stderr",
     "output_type": "stream",
     "text": [
      "Setting levels: control = 0, case = 1\n",
      "\n",
      "Setting direction: controls < cases\n",
      "\n"
     ]
    },
    {
     "name": "stdout",
     "output_type": "stream",
     "text": [
      "[1] \"auc: 0.721816004004577\"\n",
      "[1] \"O/E 比率: 0.962734153434928\"\n",
      "[1] \"c_slope: 1.10599434413903\"\n",
      "[1] \"Brier 分数: 0.143866863360149\"\n"
     ]
    },
    {
     "name": "stderr",
     "output_type": "stream",
     "text": [
      "Setting levels: control = 0, case = 1\n",
      "\n",
      "Setting direction: controls < cases\n",
      "\n"
     ]
    },
    {
     "name": "stdout",
     "output_type": "stream",
     "text": [
      "[1] \"auc: 0.719194532762718\"\n",
      "[1] \"O/E 比率: 0.950971056915098\"\n",
      "[1] \"c_slope: 1.08868671026787\"\n",
      "[1] \"Brier 分数: 0.144323240744073\"\n"
     ]
    },
    {
     "name": "stderr",
     "output_type": "stream",
     "text": [
      "Setting levels: control = 0, case = 1\n",
      "\n",
      "Setting direction: controls < cases\n",
      "\n"
     ]
    },
    {
     "name": "stdout",
     "output_type": "stream",
     "text": [
      "[1] \"auc: 0.724986179259813\"\n",
      "[1] \"O/E 比率: 0.977378686803585\"\n",
      "[1] \"c_slope: 1.11032088353502\"\n",
      "[1] \"Brier 分数: 0.144134781261542\"\n"
     ]
    },
    {
     "name": "stderr",
     "output_type": "stream",
     "text": [
      "Setting levels: control = 0, case = 1\n",
      "\n",
      "Setting direction: controls < cases\n",
      "\n"
     ]
    },
    {
     "name": "stdout",
     "output_type": "stream",
     "text": [
      "[1] \"auc: 0.722947104383031\"\n",
      "[1] \"O/E 比率: 0.955929257988557\"\n",
      "[1] \"c_slope: 1.06982389005269\"\n",
      "[1] \"Brier 分数: 0.144223406182801\"\n"
     ]
    },
    {
     "name": "stderr",
     "output_type": "stream",
     "text": [
      "Setting levels: control = 0, case = 1\n",
      "\n",
      "Setting direction: controls < cases\n",
      "\n"
     ]
    },
    {
     "name": "stdout",
     "output_type": "stream",
     "text": [
      "[1] \"auc: 0.722137456543742\"\n",
      "[1] \"O/E 比率: 0.959843131460366\"\n",
      "[1] \"c_slope: 1.109146116052\"\n",
      "[1] \"Brier 分数: 0.144162163463219\"\n"
     ]
    },
    {
     "name": "stderr",
     "output_type": "stream",
     "text": [
      "Setting levels: control = 0, case = 1\n",
      "\n",
      "Setting direction: controls < cases\n",
      "\n"
     ]
    },
    {
     "name": "stdout",
     "output_type": "stream",
     "text": [
      "[1] \"auc: 0.725244372689667\"\n",
      "[1] \"O/E 比率: 0.947897070144004\"\n",
      "[1] \"c_slope: 1.14055443956443\"\n",
      "[1] \"Brier 分数: 0.143482458798946\"\n"
     ]
    },
    {
     "name": "stderr",
     "output_type": "stream",
     "text": [
      "Setting levels: control = 0, case = 1\n",
      "\n",
      "Setting direction: controls < cases\n",
      "\n"
     ]
    },
    {
     "name": "stdout",
     "output_type": "stream",
     "text": [
      "[1] \"auc: 0.721918112458194\"\n",
      "[1] \"O/E 比率: 0.958885590285336\"\n",
      "[1] \"c_slope: 1.05792468954863\"\n",
      "[1] \"Brier 分数: 0.143864127578426\"\n"
     ]
    },
    {
     "name": "stderr",
     "output_type": "stream",
     "text": [
      "Setting levels: control = 0, case = 1\n",
      "\n",
      "Setting direction: controls < cases\n",
      "\n"
     ]
    },
    {
     "name": "stdout",
     "output_type": "stream",
     "text": [
      "[1] \"auc: 0.724692574480725\"\n",
      "[1] \"O/E 比率: 0.977929800615394\"\n",
      "[1] \"c_slope: 1.11085709670879\"\n",
      "[1] \"Brier 分数: 0.143914382198154\"\n"
     ]
    },
    {
     "name": "stderr",
     "output_type": "stream",
     "text": [
      "Setting levels: control = 0, case = 1\n",
      "\n",
      "Setting direction: controls < cases\n",
      "\n"
     ]
    },
    {
     "name": "stdout",
     "output_type": "stream",
     "text": [
      "[1] \"auc: 0.720843738998416\"\n",
      "[1] \"O/E 比率: 0.958280151500898\"\n",
      "[1] \"c_slope: 1.08176607483694\"\n",
      "[1] \"Brier 分数: 0.143499867588975\"\n"
     ]
    },
    {
     "name": "stderr",
     "output_type": "stream",
     "text": [
      "Setting levels: control = 0, case = 1\n",
      "\n",
      "Setting direction: controls < cases\n",
      "\n"
     ]
    },
    {
     "name": "stdout",
     "output_type": "stream",
     "text": [
      "[1] \"auc: 0.720671839244851\"\n",
      "[1] \"O/E 比率: 0.931904438313812\"\n",
      "[1] \"c_slope: 1.07214457792005\"\n",
      "[1] \"Brier 分数: 0.14388289712311\"\n"
     ]
    },
    {
     "name": "stderr",
     "output_type": "stream",
     "text": [
      "Setting levels: control = 0, case = 1\n",
      "\n",
      "Setting direction: controls < cases\n",
      "\n"
     ]
    },
    {
     "name": "stdout",
     "output_type": "stream",
     "text": [
      "[1] \"auc: 0.72133296569706\"\n",
      "[1] \"O/E 比率: 0.946989396102891\"\n",
      "[1] \"c_slope: 1.10027331820637\"\n",
      "[1] \"Brier 分数: 0.143532751933382\"\n"
     ]
    },
    {
     "name": "stderr",
     "output_type": "stream",
     "text": [
      "Setting levels: control = 0, case = 1\n",
      "\n",
      "Setting direction: controls < cases\n",
      "\n"
     ]
    },
    {
     "name": "stdout",
     "output_type": "stream",
     "text": [
      "[1] \"auc: 0.721408257789122\"\n",
      "[1] \"O/E 比率: 0.966960246469625\"\n",
      "[1] \"c_slope: 1.10645669342004\"\n",
      "[1] \"Brier 分数: 0.14424737910767\"\n"
     ]
    },
    {
     "name": "stderr",
     "output_type": "stream",
     "text": [
      "Setting levels: control = 0, case = 1\n",
      "\n",
      "Setting direction: controls < cases\n",
      "\n"
     ]
    },
    {
     "name": "stdout",
     "output_type": "stream",
     "text": [
      "[1] \"auc: 0.725866993597078\"\n",
      "[1] \"O/E 比率: 0.946966103888533\"\n",
      "[1] \"c_slope: 1.10547860961459\"\n",
      "[1] \"Brier 分数: 0.1429099981146\"\n"
     ]
    },
    {
     "name": "stderr",
     "output_type": "stream",
     "text": [
      "Setting levels: control = 0, case = 1\n",
      "\n",
      "Setting direction: controls < cases\n",
      "\n"
     ]
    },
    {
     "name": "stdout",
     "output_type": "stream",
     "text": [
      "[1] \"auc: 0.722895878256469\"\n",
      "[1] \"O/E 比率: 0.968482791843724\"\n",
      "[1] \"c_slope: 1.13392521715438\"\n",
      "[1] \"Brier 分数: 0.143765025169516\"\n"
     ]
    },
    {
     "name": "stderr",
     "output_type": "stream",
     "text": [
      "Setting levels: control = 0, case = 1\n",
      "\n",
      "Setting direction: controls < cases\n",
      "\n"
     ]
    },
    {
     "name": "stdout",
     "output_type": "stream",
     "text": [
      "[1] \"auc: 0.720573856385319\"\n",
      "[1] \"O/E 比率: 1.00368342374833\"\n",
      "[1] \"c_slope: 1.07818637719298\"\n",
      "[1] \"Brier 分数: 0.144335105930165\"\n"
     ]
    },
    {
     "name": "stderr",
     "output_type": "stream",
     "text": [
      "Setting levels: control = 0, case = 1\n",
      "\n",
      "Setting direction: controls < cases\n",
      "\n"
     ]
    },
    {
     "name": "stdout",
     "output_type": "stream",
     "text": [
      "[1] \"auc: 0.721167598134131\"\n",
      "[1] \"O/E 比率: 0.970563983301213\"\n",
      "[1] \"c_slope: 1.14831205447757\"\n",
      "[1] \"Brier 分数: 0.144388945172036\"\n"
     ]
    },
    {
     "name": "stderr",
     "output_type": "stream",
     "text": [
      "Setting levels: control = 0, case = 1\n",
      "\n",
      "Setting direction: controls < cases\n",
      "\n"
     ]
    },
    {
     "name": "stdout",
     "output_type": "stream",
     "text": [
      "[1] \"auc: 0.723904242210878\"\n",
      "[1] \"O/E 比率: 0.932513642471607\"\n",
      "[1] \"c_slope: 1.02231113832694\"\n",
      "[1] \"Brier 分数: 0.14427541760285\"\n"
     ]
    },
    {
     "name": "stderr",
     "output_type": "stream",
     "text": [
      "Setting levels: control = 0, case = 1\n",
      "\n",
      "Setting direction: controls < cases\n",
      "\n"
     ]
    },
    {
     "name": "stdout",
     "output_type": "stream",
     "text": [
      "[1] \"auc: 0.720375484069706\"\n",
      "[1] \"O/E 比率: 0.960129834967643\"\n",
      "[1] \"c_slope: 1.09279853357287\"\n",
      "[1] \"Brier 分数: 0.14421248222568\"\n"
     ]
    },
    {
     "name": "stderr",
     "output_type": "stream",
     "text": [
      "Setting levels: control = 0, case = 1\n",
      "\n",
      "Setting direction: controls < cases\n",
      "\n"
     ]
    },
    {
     "name": "stdout",
     "output_type": "stream",
     "text": [
      "[1] \"auc: 0.723217674595142\"\n",
      "[1] \"O/E 比率: 0.986762076165456\"\n",
      "[1] \"c_slope: 1.1201496496179\"\n",
      "[1] \"Brier 分数: 0.144026869964084\"\n"
     ]
    },
    {
     "name": "stderr",
     "output_type": "stream",
     "text": [
      "Setting levels: control = 0, case = 1\n",
      "\n",
      "Setting direction: controls < cases\n",
      "\n"
     ]
    },
    {
     "name": "stdout",
     "output_type": "stream",
     "text": [
      "[1] \"auc: 0.721466703705334\"\n",
      "[1] \"O/E 比率: 0.94192457150052\"\n",
      "[1] \"c_slope: 1.1021642981139\"\n",
      "[1] \"Brier 分数: 0.143982841110133\"\n"
     ]
    },
    {
     "name": "stderr",
     "output_type": "stream",
     "text": [
      "Setting levels: control = 0, case = 1\n",
      "\n",
      "Setting direction: controls < cases\n",
      "\n"
     ]
    },
    {
     "name": "stdout",
     "output_type": "stream",
     "text": [
      "[1] \"auc: 0.729673541740011\"\n",
      "[1] \"O/E 比率: 0.951276797664671\"\n",
      "[1] \"c_slope: 1.12617405908074\"\n",
      "[1] \"Brier 分数: 0.142862617317842\"\n"
     ]
    },
    {
     "name": "stderr",
     "output_type": "stream",
     "text": [
      "Setting levels: control = 0, case = 1\n",
      "\n",
      "Setting direction: controls < cases\n",
      "\n"
     ]
    },
    {
     "name": "stdout",
     "output_type": "stream",
     "text": [
      "[1] \"auc: 0.718032834228129\"\n",
      "[1] \"O/E 比率: 0.969369175873326\"\n",
      "[1] \"c_slope: 1.10952087857682\"\n",
      "[1] \"Brier 分数: 0.144547857474084\"\n"
     ]
    },
    {
     "name": "stderr",
     "output_type": "stream",
     "text": [
      "Setting levels: control = 0, case = 1\n",
      "\n",
      "Setting direction: controls < cases\n",
      "\n"
     ]
    },
    {
     "name": "stdout",
     "output_type": "stream",
     "text": [
      "[1] \"auc: 0.7233603513906\"\n",
      "[1] \"O/E 比率: 0.9390865339582\"\n",
      "[1] \"c_slope: 1.07680440423299\"\n",
      "[1] \"Brier 分数: 0.143778916775636\"\n"
     ]
    },
    {
     "name": "stderr",
     "output_type": "stream",
     "text": [
      "Setting levels: control = 0, case = 1\n",
      "\n",
      "Setting direction: controls < cases\n",
      "\n"
     ]
    },
    {
     "name": "stdout",
     "output_type": "stream",
     "text": [
      "[1] \"auc: 0.723637453793346\"\n",
      "[1] \"O/E 比率: 0.947229192031768\"\n",
      "[1] \"c_slope: 1.21157134111942\"\n",
      "[1] \"Brier 分数: 0.143960273075211\"\n"
     ]
    },
    {
     "name": "stderr",
     "output_type": "stream",
     "text": [
      "Setting levels: control = 0, case = 1\n",
      "\n",
      "Setting direction: controls < cases\n",
      "\n"
     ]
    },
    {
     "name": "stdout",
     "output_type": "stream",
     "text": [
      "[1] \"auc: 0.724910199568738\"\n",
      "[1] \"O/E 比率: 0.948371249691016\"\n",
      "[1] \"c_slope: 1.14830669961146\"\n",
      "[1] \"Brier 分数: 0.143790223285424\"\n"
     ]
    },
    {
     "name": "stderr",
     "output_type": "stream",
     "text": [
      "Setting levels: control = 0, case = 1\n",
      "\n",
      "Setting direction: controls < cases\n",
      "\n"
     ]
    },
    {
     "name": "stdout",
     "output_type": "stream",
     "text": [
      "[1] \"auc: 0.72214845812797\"\n",
      "[1] \"O/E 比率: 0.944569121344266\"\n",
      "[1] \"c_slope: 1.1226107361583\"\n",
      "[1] \"Brier 分数: 0.14387431610915\"\n"
     ]
    },
    {
     "name": "stderr",
     "output_type": "stream",
     "text": [
      "Setting levels: control = 0, case = 1\n",
      "\n",
      "Setting direction: controls < cases\n",
      "\n"
     ]
    },
    {
     "name": "stdout",
     "output_type": "stream",
     "text": [
      "[1] \"auc: 0.718408950888928\"\n",
      "[1] \"O/E 比率: 0.988937001503898\"\n",
      "[1] \"c_slope: 1.07957263583752\"\n",
      "[1] \"Brier 分数: 0.144544083678365\"\n"
     ]
    },
    {
     "name": "stderr",
     "output_type": "stream",
     "text": [
      "Setting levels: control = 0, case = 1\n",
      "\n",
      "Setting direction: controls < cases\n",
      "\n"
     ]
    },
    {
     "name": "stdout",
     "output_type": "stream",
     "text": [
      "[1] \"auc: 0.720418802807604\"\n",
      "[1] \"O/E 比率: 0.936243043682356\"\n",
      "[1] \"c_slope: 1.15982285199416\"\n",
      "[1] \"Brier 分数: 0.144033469436197\"\n"
     ]
    },
    {
     "name": "stderr",
     "output_type": "stream",
     "text": [
      "Setting levels: control = 0, case = 1\n",
      "\n",
      "Setting direction: controls < cases\n",
      "\n"
     ]
    },
    {
     "name": "stdout",
     "output_type": "stream",
     "text": [
      "[1] \"auc: 0.725300068209822\"\n",
      "[1] \"O/E 比率: 0.991827120555414\"\n",
      "[1] \"c_slope: 1.13563555137866\"\n",
      "[1] \"Brier 分数: 0.143682886579505\"\n"
     ]
    },
    {
     "name": "stderr",
     "output_type": "stream",
     "text": [
      "Setting levels: control = 0, case = 1\n",
      "\n",
      "Setting direction: controls < cases\n",
      "\n"
     ]
    },
    {
     "name": "stdout",
     "output_type": "stream",
     "text": [
      "[1] \"auc: 0.721515867034853\"\n",
      "[1] \"O/E 比率: 0.947487966295859\"\n",
      "[1] \"c_slope: 1.1346165438162\"\n",
      "[1] \"Brier 分数: 0.144185555648422\"\n"
     ]
    },
    {
     "name": "stderr",
     "output_type": "stream",
     "text": [
      "Setting levels: control = 0, case = 1\n",
      "\n",
      "Setting direction: controls < cases\n",
      "\n"
     ]
    },
    {
     "name": "stdout",
     "output_type": "stream",
     "text": [
      "[1] \"auc: 0.720024464772927\"\n",
      "[1] \"O/E 比率: 0.948754828826454\"\n",
      "[1] \"c_slope: 1.02951812059434\"\n",
      "[1] \"Brier 分数: 0.144097181121645\"\n"
     ]
    },
    {
     "name": "stderr",
     "output_type": "stream",
     "text": [
      "Setting levels: control = 0, case = 1\n",
      "\n",
      "Setting direction: controls < cases\n",
      "\n"
     ]
    },
    {
     "name": "stdout",
     "output_type": "stream",
     "text": [
      "[1] \"auc: 0.723873644054744\"\n",
      "[1] \"O/E 比率: 0.952861408496484\"\n",
      "[1] \"c_slope: 1.06112382339449\"\n",
      "[1] \"Brier 分数: 0.143692492424891\"\n"
     ]
    },
    {
     "name": "stderr",
     "output_type": "stream",
     "text": [
      "Setting levels: control = 0, case = 1\n",
      "\n",
      "Setting direction: controls < cases\n",
      "\n"
     ]
    },
    {
     "name": "stdout",
     "output_type": "stream",
     "text": [
      "[1] \"auc: 0.719356462330576\"\n",
      "[1] \"O/E 比率: 0.934712826088046\"\n",
      "[1] \"c_slope: 1.07133523846052\"\n",
      "[1] \"Brier 分数: 0.143993885511717\"\n"
     ]
    },
    {
     "name": "stderr",
     "output_type": "stream",
     "text": [
      "Setting levels: control = 0, case = 1\n",
      "\n",
      "Setting direction: controls < cases\n",
      "\n"
     ]
    },
    {
     "name": "stdout",
     "output_type": "stream",
     "text": [
      "[1] \"auc: 0.720111102248724\"\n",
      "[1] \"O/E 比率: 0.943674001626659\"\n",
      "[1] \"c_slope: 1.06125810548142\"\n",
      "[1] \"Brier 分数: 0.144036124440515\"\n"
     ]
    },
    {
     "name": "stderr",
     "output_type": "stream",
     "text": [
      "Setting levels: control = 0, case = 1\n",
      "\n",
      "Setting direction: controls < cases\n",
      "\n"
     ]
    },
    {
     "name": "stdout",
     "output_type": "stream",
     "text": [
      "[1] \"auc: 0.723565943495863\"\n",
      "[1] \"O/E 比率: 0.950637125615648\"\n",
      "[1] \"c_slope: 1.07260967997265\"\n",
      "[1] \"Brier 分数: 0.144147459040127\"\n"
     ]
    },
    {
     "name": "stderr",
     "output_type": "stream",
     "text": [
      "Setting levels: control = 0, case = 1\n",
      "\n",
      "Setting direction: controls < cases\n",
      "\n"
     ]
    },
    {
     "name": "stdout",
     "output_type": "stream",
     "text": [
      "[1] \"auc: 0.724917075558881\"\n",
      "[1] \"O/E 比率: 0.908295924530227\"\n",
      "[1] \"c_slope: 1.07492794154021\"\n",
      "[1] \"Brier 分数: 0.14394351186078\"\n"
     ]
    },
    {
     "name": "stderr",
     "output_type": "stream",
     "text": [
      "Setting levels: control = 0, case = 1\n",
      "\n",
      "Setting direction: controls < cases\n",
      "\n"
     ]
    },
    {
     "name": "stdout",
     "output_type": "stream",
     "text": [
      "[1] \"auc: 0.722381897993311\"\n",
      "[1] \"O/E 比率: 0.955674098435885\"\n",
      "[1] \"c_slope: 1.10369917723242\"\n",
      "[1] \"Brier 分数: 0.143868735652789\"\n"
     ]
    },
    {
     "name": "stderr",
     "output_type": "stream",
     "text": [
      "Setting levels: control = 0, case = 1\n",
      "\n",
      "Setting direction: controls < cases\n",
      "\n"
     ]
    },
    {
     "name": "stdout",
     "output_type": "stream",
     "text": [
      "[1] \"auc: 0.723517467765358\"\n",
      "[1] \"O/E 比率: 0.917945591815362\"\n",
      "[1] \"c_slope: 1.10642576102588\"\n",
      "[1] \"Brier 分数: 0.144030383471991\"\n"
     ]
    },
    {
     "name": "stderr",
     "output_type": "stream",
     "text": [
      "Setting levels: control = 0, case = 1\n",
      "\n",
      "Setting direction: controls < cases\n",
      "\n"
     ]
    },
    {
     "name": "stdout",
     "output_type": "stream",
     "text": [
      "[1] \"auc: 0.719188000572082\"\n",
      "[1] \"O/E 比率: 0.948841364665532\"\n",
      "[1] \"c_slope: 1.10905559318328\"\n",
      "[1] \"Brier 分数: 0.144871570194804\"\n"
     ]
    },
    {
     "name": "stderr",
     "output_type": "stream",
     "text": [
      "Setting levels: control = 0, case = 1\n",
      "\n",
      "Setting direction: controls < cases\n",
      "\n"
     ]
    },
    {
     "name": "stdout",
     "output_type": "stream",
     "text": [
      "[1] \"auc: 0.723048525237634\"\n",
      "[1] \"O/E 比率: 0.948569585523961\"\n",
      "[1] \"c_slope: 1.11029201405352\"\n",
      "[1] \"Brier 分数: 0.144325950080785\"\n"
     ]
    },
    {
     "name": "stderr",
     "output_type": "stream",
     "text": [
      "Setting levels: control = 0, case = 1\n",
      "\n",
      "Setting direction: controls < cases\n",
      "\n"
     ]
    },
    {
     "name": "stdout",
     "output_type": "stream",
     "text": [
      "[1] \"auc: 0.722832962946664\"\n",
      "[1] \"O/E 比率: 0.982308471948098\"\n",
      "[1] \"c_slope: 1.09589781125327\"\n",
      "[1] \"Brier 分数: 0.143982833296068\"\n"
     ]
    },
    {
     "name": "stderr",
     "output_type": "stream",
     "text": [
      "Setting levels: control = 0, case = 1\n",
      "\n",
      "Setting direction: controls < cases\n",
      "\n"
     ]
    },
    {
     "name": "stdout",
     "output_type": "stream",
     "text": [
      "[1] \"auc: 0.71989725895529\"\n",
      "[1] \"O/E 比率: 0.989418270813683\"\n",
      "[1] \"c_slope: 1.12577473529529\"\n",
      "[1] \"Brier 分数: 0.14414874228022\"\n"
     ]
    },
    {
     "name": "stderr",
     "output_type": "stream",
     "text": [
      "Setting levels: control = 0, case = 1\n",
      "\n",
      "Setting direction: controls < cases\n",
      "\n"
     ]
    },
    {
     "name": "stdout",
     "output_type": "stream",
     "text": [
      "[1] \"auc: 0.723503371985566\"\n",
      "[1] \"O/E 比率: 0.950177010735735\"\n",
      "[1] \"c_slope: 1.13072039228018\"\n",
      "[1] \"Brier 分数: 0.143412883442152\"\n"
     ]
    },
    {
     "name": "stderr",
     "output_type": "stream",
     "text": [
      "Setting levels: control = 0, case = 1\n",
      "\n",
      "Setting direction: controls < cases\n",
      "\n"
     ]
    },
    {
     "name": "stdout",
     "output_type": "stream",
     "text": [
      "[1] \"auc: 0.721392443011794\"\n",
      "[1] \"O/E 比率: 0.979664065664244\"\n",
      "[1] \"c_slope: 1.11241557953447\"\n",
      "[1] \"Brier 分数: 0.144113146044875\"\n"
     ]
    },
    {
     "name": "stderr",
     "output_type": "stream",
     "text": [
      "Setting levels: control = 0, case = 1\n",
      "\n",
      "Setting direction: controls < cases\n",
      "\n"
     ]
    },
    {
     "name": "stdout",
     "output_type": "stream",
     "text": [
      "[1] \"auc: 0.720792856671361\"\n",
      "[1] \"O/E 比率: 0.960421850849702\"\n",
      "[1] \"c_slope: 1.1545488371404\"\n",
      "[1] \"Brier 分数: 0.144384735245387\"\n"
     ]
    },
    {
     "name": "stderr",
     "output_type": "stream",
     "text": [
      "Setting levels: control = 0, case = 1\n",
      "\n",
      "Setting direction: controls < cases\n",
      "\n"
     ]
    },
    {
     "name": "stdout",
     "output_type": "stream",
     "text": [
      "[1] \"auc: 0.721287584162119\"\n",
      "[1] \"O/E 比率: 0.939883648361374\"\n",
      "[1] \"c_slope: 1.11783546598776\"\n",
      "[1] \"Brier 分数: 0.143995728619075\"\n"
     ]
    },
    {
     "name": "stderr",
     "output_type": "stream",
     "text": [
      "Setting levels: control = 0, case = 1\n",
      "\n",
      "Setting direction: controls < cases\n",
      "\n"
     ]
    },
    {
     "name": "stdout",
     "output_type": "stream",
     "text": [
      "[1] \"auc: 0.723544971725929\"\n",
      "[1] \"O/E 比率: 0.947840536002638\"\n",
      "[1] \"c_slope: 1.05167494739188\"\n",
      "[1] \"Brier 分数: 0.144331020841379\"\n"
     ]
    },
    {
     "name": "stderr",
     "output_type": "stream",
     "text": [
      "Setting levels: control = 0, case = 1\n",
      "\n",
      "Setting direction: controls < cases\n",
      "\n"
     ]
    },
    {
     "name": "stdout",
     "output_type": "stream",
     "text": [
      "[1] \"auc: 0.720128979823095\"\n",
      "[1] \"O/E 比率: 0.935700546964787\"\n",
      "[1] \"c_slope: 1.05704097014652\"\n",
      "[1] \"Brier 分数: 0.144514534275637\"\n"
     ]
    },
    {
     "name": "stderr",
     "output_type": "stream",
     "text": [
      "Setting levels: control = 0, case = 1\n",
      "\n",
      "Setting direction: controls < cases\n",
      "\n"
     ]
    },
    {
     "name": "stdout",
     "output_type": "stream",
     "text": [
      "[1] \"auc: 0.719215504532653\"\n",
      "[1] \"O/E 比率: 0.947589273429424\"\n",
      "[1] \"c_slope: 1.1275219063316\"\n",
      "[1] \"Brier 分数: 0.144759433838661\"\n"
     ]
    },
    {
     "name": "stderr",
     "output_type": "stream",
     "text": [
      "Setting levels: control = 0, case = 1\n",
      "\n",
      "Setting direction: controls < cases\n",
      "\n"
     ]
    },
    {
     "name": "stdout",
     "output_type": "stream",
     "text": [
      "[1] \"auc: 0.719388435684739\"\n",
      "[1] \"O/E 比率: 0.941952771348179\"\n",
      "[1] \"c_slope: 1.1542513016174\"\n",
      "[1] \"Brier 分数: 0.144455948065113\"\n"
     ]
    },
    {
     "name": "stderr",
     "output_type": "stream",
     "text": [
      "Setting levels: control = 0, case = 1\n",
      "\n",
      "Setting direction: controls < cases\n",
      "\n"
     ]
    },
    {
     "name": "stdout",
     "output_type": "stream",
     "text": [
      "[1] \"auc: 0.725206210944376\"\n",
      "[1] \"O/E 比率: 0.932443111971732\"\n",
      "[1] \"c_slope: 1.07733792602507\"\n",
      "[1] \"Brier 分数: 0.143569902230704\"\n"
     ]
    },
    {
     "name": "stderr",
     "output_type": "stream",
     "text": [
      "Setting levels: control = 0, case = 1\n",
      "\n",
      "Setting direction: controls < cases\n",
      "\n"
     ]
    },
    {
     "name": "stdout",
     "output_type": "stream",
     "text": [
      "[1] \"auc: 0.722744606473332\"\n",
      "[1] \"O/E 比率: 0.964554176022698\"\n",
      "[1] \"c_slope: 1.08362900885507\"\n",
      "[1] \"Brier 分数: 0.143490023611449\"\n"
     ]
    },
    {
     "name": "stderr",
     "output_type": "stream",
     "text": [
      "Setting levels: control = 0, case = 1\n",
      "\n",
      "Setting direction: controls < cases\n",
      "\n"
     ]
    },
    {
     "name": "stdout",
     "output_type": "stream",
     "text": [
      "[1] \"auc: 0.72419268999736\"\n",
      "[1] \"O/E 比率: 0.96277848063775\"\n",
      "[1] \"c_slope: 1.14155746193238\"\n",
      "[1] \"Brier 分数: 0.143963560924972\"\n"
     ]
    },
    {
     "name": "stderr",
     "output_type": "stream",
     "text": [
      "Setting levels: control = 0, case = 1\n",
      "\n",
      "Setting direction: controls < cases\n",
      "\n"
     ]
    },
    {
     "name": "stdout",
     "output_type": "stream",
     "text": [
      "[1] \"auc: 0.719892101962683\"\n",
      "[1] \"O/E 比率: 0.961006896047184\"\n",
      "[1] \"c_slope: 1.14300872001529\"\n",
      "[1] \"Brier 分数: 0.143991470600758\"\n"
     ]
    },
    {
     "name": "stderr",
     "output_type": "stream",
     "text": [
      "Setting levels: control = 0, case = 1\n",
      "\n",
      "Setting direction: controls < cases\n",
      "\n"
     ]
    },
    {
     "name": "stdout",
     "output_type": "stream",
     "text": [
      "[1] \"auc: 0.721242546426686\"\n",
      "[1] \"O/E 比率: 0.996259627339522\"\n",
      "[1] \"c_slope: 1.10742469182877\"\n",
      "[1] \"Brier 分数: 0.144260027099804\"\n"
     ]
    },
    {
     "name": "stderr",
     "output_type": "stream",
     "text": [
      "Setting levels: control = 0, case = 1\n",
      "\n",
      "Setting direction: controls < cases\n",
      "\n"
     ]
    },
    {
     "name": "stdout",
     "output_type": "stream",
     "text": [
      "[1] \"auc: 0.72543690041366\"\n",
      "[1] \"O/E 比率: 0.946803771033515\"\n",
      "[1] \"c_slope: 1.21745161271888\"\n",
      "[1] \"Brier 分数: 0.143923825452219\"\n"
     ]
    },
    {
     "name": "stderr",
     "output_type": "stream",
     "text": [
      "Setting levels: control = 0, case = 1\n",
      "\n",
      "Setting direction: controls < cases\n",
      "\n"
     ]
    },
    {
     "name": "stdout",
     "output_type": "stream",
     "text": [
      "[1] \"auc: 0.721028015534237\"\n",
      "[1] \"O/E 比率: 0.925424291746414\"\n",
      "[1] \"c_slope: 1.11262723606325\"\n",
      "[1] \"Brier 分数: 0.144511329694459\"\n"
     ]
    },
    {
     "name": "stderr",
     "output_type": "stream",
     "text": [
      "Setting levels: control = 0, case = 1\n",
      "\n",
      "Setting direction: controls < cases\n",
      "\n"
     ]
    },
    {
     "name": "stdout",
     "output_type": "stream",
     "text": [
      "[1] \"auc: 0.724909855769231\"\n",
      "[1] \"O/E 比率: 0.970017951666785\"\n",
      "[1] \"c_slope: 1.11581161188726\"\n",
      "[1] \"Brier 分数: 0.143500444175024\"\n"
     ]
    },
    {
     "name": "stderr",
     "output_type": "stream",
     "text": [
      "Setting levels: control = 0, case = 1\n",
      "\n",
      "Setting direction: controls < cases\n",
      "\n"
     ]
    },
    {
     "name": "stdout",
     "output_type": "stream",
     "text": [
      "[1] \"auc: 0.72490401117761\"\n",
      "[1] \"O/E 比率: 0.913668500780445\"\n",
      "[1] \"c_slope: 1.08407245044199\"\n",
      "[1] \"Brier 分数: 0.143968049913629\"\n"
     ]
    },
    {
     "name": "stderr",
     "output_type": "stream",
     "text": [
      "Setting levels: control = 0, case = 1\n",
      "\n",
      "Setting direction: controls < cases\n",
      "\n"
     ]
    },
    {
     "name": "stdout",
     "output_type": "stream",
     "text": [
      "[1] \"auc: 0.720985040595846\"\n",
      "[1] \"O/E 比率: 0.960621369952974\"\n",
      "[1] \"c_slope: 1.15767633414614\"\n",
      "[1] \"Brier 分数: 0.143782436790852\"\n"
     ]
    },
    {
     "name": "stderr",
     "output_type": "stream",
     "text": [
      "Setting levels: control = 0, case = 1\n",
      "\n",
      "Setting direction: controls < cases\n",
      "\n"
     ]
    },
    {
     "name": "stdout",
     "output_type": "stream",
     "text": [
      "[1] \"auc: 0.719081766524379\"\n",
      "[1] \"O/E 比率: 0.982400899234018\"\n",
      "[1] \"c_slope: 1.05623608864089\"\n",
      "[1] \"Brier 分数: 0.144279464676678\"\n"
     ]
    },
    {
     "name": "stderr",
     "output_type": "stream",
     "text": [
      "Setting levels: control = 0, case = 1\n",
      "\n",
      "Setting direction: controls < cases\n",
      "\n"
     ]
    },
    {
     "name": "stdout",
     "output_type": "stream",
     "text": [
      "[1] \"auc: 0.720805577253124\"\n",
      "[1] \"O/E 比率: 0.963933396035617\"\n",
      "[1] \"c_slope: 1.07513146302696\"\n",
      "[1] \"Brier 分数: 0.143706668634717\"\n"
     ]
    },
    {
     "name": "stderr",
     "output_type": "stream",
     "text": [
      "Setting levels: control = 0, case = 1\n",
      "\n",
      "Setting direction: controls < cases\n",
      "\n"
     ]
    },
    {
     "name": "stdout",
     "output_type": "stream",
     "text": [
      "[1] \"auc: 0.721253548010914\"\n",
      "[1] \"O/E 比率: 0.964855586136083\"\n",
      "[1] \"c_slope: 1.0445448427903\"\n",
      "[1] \"Brier 分数: 0.144286712816585\"\n"
     ]
    },
    {
     "name": "stderr",
     "output_type": "stream",
     "text": [
      "Setting levels: control = 0, case = 1\n",
      "\n",
      "Setting direction: controls < cases\n",
      "\n"
     ]
    },
    {
     "name": "stdout",
     "output_type": "stream",
     "text": [
      "[1] \"auc: 0.723124848728217\"\n",
      "[1] \"O/E 比率: 0.962081047136964\"\n",
      "[1] \"c_slope: 1.12461263713076\"\n",
      "[1] \"Brier 分数: 0.143660777585681\"\n"
     ]
    },
    {
     "name": "stderr",
     "output_type": "stream",
     "text": [
      "Setting levels: control = 0, case = 1\n",
      "\n",
      "Setting direction: controls < cases\n",
      "\n"
     ]
    },
    {
     "name": "stdout",
     "output_type": "stream",
     "text": [
      "[1] \"auc: 0.724240821928358\"\n",
      "[1] \"O/E 比率: 0.964956326665785\"\n",
      "[1] \"c_slope: 1.11917767387645\"\n",
      "[1] \"Brier 分数: 0.143484545369396\"\n"
     ]
    },
    {
     "name": "stderr",
     "output_type": "stream",
     "text": [
      "Setting levels: control = 0, case = 1\n",
      "\n",
      "Setting direction: controls < cases\n",
      "\n"
     ]
    },
    {
     "name": "stdout",
     "output_type": "stream",
     "text": [
      "[1] \"auc: 0.721271081785777\"\n",
      "[1] \"O/E 比率: 0.935691999892913\"\n",
      "[1] \"c_slope: 1.11361364266839\"\n",
      "[1] \"Brier 分数: 0.144570988086555\"\n"
     ]
    },
    {
     "name": "stderr",
     "output_type": "stream",
     "text": [
      "Setting levels: control = 0, case = 1\n",
      "\n",
      "Setting direction: controls < cases\n",
      "\n"
     ]
    },
    {
     "name": "stdout",
     "output_type": "stream",
     "text": [
      "[1] \"auc: 0.721385567021651\"\n",
      "[1] \"O/E 比率: 0.943566167709863\"\n",
      "[1] \"c_slope: 1.12536790960708\"\n",
      "[1] \"Brier 分数: 0.144306309671998\"\n"
     ]
    },
    {
     "name": "stderr",
     "output_type": "stream",
     "text": [
      "Setting levels: control = 0, case = 1\n",
      "\n",
      "Setting direction: controls < cases\n",
      "\n"
     ]
    },
    {
     "name": "stdout",
     "output_type": "stream",
     "text": [
      "[1] \"auc: 0.720683872227601\"\n",
      "[1] \"O/E 比率: 0.977504668418735\"\n",
      "[1] \"c_slope: 1.10391921746615\"\n",
      "[1] \"Brier 分数: 0.144497148206292\"\n"
     ]
    },
    {
     "name": "stderr",
     "output_type": "stream",
     "text": [
      "Setting levels: control = 0, case = 1\n",
      "\n",
      "Setting direction: controls < cases\n",
      "\n"
     ]
    },
    {
     "name": "stdout",
     "output_type": "stream",
     "text": [
      "[1] \"auc: 0.720953754840697\"\n",
      "[1] \"O/E 比率: 0.94956769244151\"\n",
      "[1] \"c_slope: 1.08121918450776\"\n",
      "[1] \"Brier 分数: 0.144081262772185\"\n"
     ]
    },
    {
     "name": "stderr",
     "output_type": "stream",
     "text": [
      "Setting levels: control = 0, case = 1\n",
      "\n",
      "Setting direction: controls < cases\n",
      "\n"
     ]
    },
    {
     "name": "stdout",
     "output_type": "stream",
     "text": [
      "[1] \"auc: 0.723287122095582\"\n",
      "[1] \"O/E 比率: 0.92757438682555\"\n",
      "[1] \"c_slope: 1.04234510022035\"\n",
      "[1] \"Brier 分数: 0.144033749500919\"\n"
     ]
    },
    {
     "name": "stderr",
     "output_type": "stream",
     "text": [
      "Setting levels: control = 0, case = 1\n",
      "\n",
      "Setting direction: controls < cases\n",
      "\n"
     ]
    },
    {
     "name": "stdout",
     "output_type": "stream",
     "text": [
      "[1] \"auc: 0.723970595515754\"\n",
      "[1] \"O/E 比率: 0.962142641517017\"\n",
      "[1] \"c_slope: 1.10869870740865\"\n",
      "[1] \"Brier 分数: 0.143492346557564\"\n"
     ]
    },
    {
     "name": "stderr",
     "output_type": "stream",
     "text": [
      "Setting levels: control = 0, case = 1\n",
      "\n",
      "Setting direction: controls < cases\n",
      "\n"
     ]
    },
    {
     "name": "stdout",
     "output_type": "stream",
     "text": [
      "[1] \"auc: 0.725579577209118\"\n",
      "[1] \"O/E 比率: 0.953494444831384\"\n",
      "[1] \"c_slope: 1.1603461855002\"\n",
      "[1] \"Brier 分数: 0.143297241397323\"\n"
     ]
    },
    {
     "name": "stderr",
     "output_type": "stream",
     "text": [
      "Setting levels: control = 0, case = 1\n",
      "\n",
      "Setting direction: controls < cases\n",
      "\n"
     ]
    },
    {
     "name": "stdout",
     "output_type": "stream",
     "text": [
      "[1] \"auc: 0.722294916718007\"\n",
      "[1] \"O/E 比率: 0.937375620399978\"\n",
      "[1] \"c_slope: 1.09205230590289\"\n",
      "[1] \"Brier 分数: 0.144247239729529\"\n"
     ]
    },
    {
     "name": "stderr",
     "output_type": "stream",
     "text": [
      "Setting levels: control = 0, case = 1\n",
      "\n",
      "Setting direction: controls < cases\n",
      "\n"
     ]
    },
    {
     "name": "stdout",
     "output_type": "stream",
     "text": [
      "[1] \"auc: 0.724264887893857\"\n",
      "[1] \"O/E 比率: 0.951998550696002\"\n",
      "[1] \"c_slope: 1.06830403329632\"\n",
      "[1] \"Brier 分数: 0.143669440806904\"\n"
     ]
    },
    {
     "name": "stderr",
     "output_type": "stream",
     "text": [
      "Setting levels: control = 0, case = 1\n",
      "\n",
      "Setting direction: controls < cases\n",
      "\n"
     ]
    },
    {
     "name": "stdout",
     "output_type": "stream",
     "text": [
      "[1] \"auc: 0.722171836494455\"\n",
      "[1] \"O/E 比率: 0.976903304993038\"\n",
      "[1] \"c_slope: 1.1285640214516\"\n",
      "[1] \"Brier 分数: 0.144158354882982\"\n"
     ]
    },
    {
     "name": "stderr",
     "output_type": "stream",
     "text": [
      "Setting levels: control = 0, case = 1\n",
      "\n",
      "Setting direction: controls < cases\n",
      "\n"
     ]
    },
    {
     "name": "stdout",
     "output_type": "stream",
     "text": [
      "[1] \"auc: 0.722093106407323\"\n",
      "[1] \"O/E 比率: 0.92216973650989\"\n",
      "[1] \"c_slope: 1.10422106121286\"\n",
      "[1] \"Brier 分数: 0.144287985210507\"\n"
     ]
    },
    {
     "name": "stderr",
     "output_type": "stream",
     "text": [
      "Setting levels: control = 0, case = 1\n",
      "\n",
      "Setting direction: controls < cases\n",
      "\n"
     ]
    },
    {
     "name": "stdout",
     "output_type": "stream",
     "text": [
      "[1] \"auc: 0.72261430646013\"\n",
      "[1] \"O/E 比率: 0.978675843227537\"\n",
      "[1] \"c_slope: 1.09364338749989\"\n",
      "[1] \"Brier 分数: 0.144346648333819\"\n"
     ]
    },
    {
     "name": "stderr",
     "output_type": "stream",
     "text": [
      "Setting levels: control = 0, case = 1\n",
      "\n",
      "Setting direction: controls < cases\n",
      "\n"
     ]
    },
    {
     "name": "stdout",
     "output_type": "stream",
     "text": [
      "[1] \"auc: 0.72120129048583\"\n",
      "[1] \"O/E 比率: 0.916685026313389\"\n",
      "[1] \"c_slope: 1.04899721753886\"\n",
      "[1] \"Brier 分数: 0.144119047511158\"\n"
     ]
    },
    {
     "name": "stderr",
     "output_type": "stream",
     "text": [
      "Setting levels: control = 0, case = 1\n",
      "\n",
      "Setting direction: controls < cases\n",
      "\n"
     ]
    },
    {
     "name": "stdout",
     "output_type": "stream",
     "text": [
      "[1] \"auc: 0.724264887893857\"\n",
      "[1] \"O/E 比率: 0.977447313008226\"\n",
      "[1] \"c_slope: 1.15767740558048\"\n",
      "[1] \"Brier 分数: 0.143519944694122\"\n"
     ]
    },
    {
     "name": "stderr",
     "output_type": "stream",
     "text": [
      "Setting levels: control = 0, case = 1\n",
      "\n",
      "Setting direction: controls < cases\n",
      "\n"
     ]
    },
    {
     "name": "stdout",
     "output_type": "stream",
     "text": [
      "[1] \"auc: 0.723520561960922\"\n",
      "[1] \"O/E 比率: 0.971409540623628\"\n",
      "[1] \"c_slope: 1.11379328181384\"\n",
      "[1] \"Brier 分数: 0.14385034791631\"\n"
     ]
    },
    {
     "name": "stderr",
     "output_type": "stream",
     "text": [
      "Setting levels: control = 0, case = 1\n",
      "\n",
      "Setting direction: controls < cases\n",
      "\n"
     ]
    },
    {
     "name": "stdout",
     "output_type": "stream",
     "text": [
      "[1] \"auc: 0.720884994939271\"\n",
      "[1] \"O/E 比率: 0.931496649204727\"\n",
      "[1] \"c_slope: 1.07636217484525\"\n",
      "[1] \"Brier 分数: 0.145055998149167\"\n"
     ]
    },
    {
     "name": "stderr",
     "output_type": "stream",
     "text": [
      "Setting levels: control = 0, case = 1\n",
      "\n",
      "Setting direction: controls < cases\n",
      "\n"
     ]
    },
    {
     "name": "stdout",
     "output_type": "stream",
     "text": [
      "[1] \"auc: 0.72000143020595\"\n",
      "[1] \"O/E 比率: 0.934900775537937\"\n",
      "[1] \"c_slope: 1.03612063121654\"\n",
      "[1] \"Brier 分数: 0.143913013113976\"\n"
     ]
    },
    {
     "name": "stderr",
     "output_type": "stream",
     "text": [
      "Setting levels: control = 0, case = 1\n",
      "\n",
      "Setting direction: controls < cases\n",
      "\n"
     ]
    },
    {
     "name": "stdout",
     "output_type": "stream",
     "text": [
      "[1] \"auc: 0.721122904198205\"\n",
      "[1] \"O/E 比率: 0.93081297936643\"\n",
      "[1] \"c_slope: 1.15384188594968\"\n",
      "[1] \"Brier 分数: 0.144423188941854\"\n"
     ]
    },
    {
     "name": "stderr",
     "output_type": "stream",
     "text": [
      "Setting levels: control = 0, case = 1\n",
      "\n",
      "Setting direction: controls < cases\n",
      "\n"
     ]
    },
    {
     "name": "stdout",
     "output_type": "stream",
     "text": [
      "[1] \"auc: 0.723287809694596\"\n",
      "[1] \"O/E 比率: 0.971845536708044\"\n",
      "[1] \"c_slope: 1.13819570930929\"\n",
      "[1] \"Brier 分数: 0.14377474030709\"\n"
     ]
    },
    {
     "name": "stderr",
     "output_type": "stream",
     "text": [
      "Setting levels: control = 0, case = 1\n",
      "\n",
      "Setting direction: controls < cases\n",
      "\n"
     ]
    },
    {
     "name": "stdout",
     "output_type": "stream",
     "text": [
      "[1] \"auc: 0.726391975444464\"\n",
      "[1] \"O/E 比率: 0.994584975239533\"\n",
      "[1] \"c_slope: 1.18922631153246\"\n",
      "[1] \"Brier 分数: 0.144062150064542\"\n"
     ]
    },
    {
     "name": "stderr",
     "output_type": "stream",
     "text": [
      "Setting levels: control = 0, case = 1\n",
      "\n",
      "Setting direction: controls < cases\n",
      "\n"
     ]
    },
    {
     "name": "stdout",
     "output_type": "stream",
     "text": [
      "[1] \"auc: 0.721003261969724\"\n",
      "[1] \"O/E 比率: 0.947293195188516\"\n",
      "[1] \"c_slope: 1.10172629234856\"\n",
      "[1] \"Brier 分数: 0.143860293012386\"\n"
     ]
    },
    {
     "name": "stderr",
     "output_type": "stream",
     "text": [
      "Setting levels: control = 0, case = 1\n",
      "\n",
      "Setting direction: controls < cases\n",
      "\n"
     ]
    },
    {
     "name": "stdout",
     "output_type": "stream",
     "text": [
      "[1] \"auc: 0.72134259208326\"\n",
      "[1] \"O/E 比率: 0.938852707382601\"\n",
      "[1] \"c_slope: 1.09844391836358\"\n",
      "[1] \"Brier 分数: 0.1441859622865\"\n"
     ]
    },
    {
     "name": "stderr",
     "output_type": "stream",
     "text": [
      "Setting levels: control = 0, case = 1\n",
      "\n",
      "Setting direction: controls < cases\n",
      "\n"
     ]
    },
    {
     "name": "stdout",
     "output_type": "stream",
     "text": [
      "[1] \"auc: 0.721989966555184\"\n",
      "[1] \"O/E 比率: 0.970862745899428\"\n",
      "[1] \"c_slope: 1.13283432190981\"\n",
      "[1] \"Brier 分数: 0.144163493904153\"\n"
     ]
    },
    {
     "name": "stderr",
     "output_type": "stream",
     "text": [
      "Setting levels: control = 0, case = 1\n",
      "\n",
      "Setting direction: controls < cases\n",
      "\n"
     ]
    },
    {
     "name": "stdout",
     "output_type": "stream",
     "text": [
      "[1] \"auc: 0.72396028153054\"\n",
      "[1] \"O/E 比率: 0.959345234616411\"\n",
      "[1] \"c_slope: 1.13839035384119\"\n",
      "[1] \"Brier 分数: 0.143576579897854\"\n"
     ]
    },
    {
     "name": "stderr",
     "output_type": "stream",
     "text": [
      "Setting levels: control = 0, case = 1\n",
      "\n",
      "Setting direction: controls < cases\n",
      "\n"
     ]
    },
    {
     "name": "stdout",
     "output_type": "stream",
     "text": [
      "[1] \"auc: 0.72181084701197\"\n",
      "[1] \"O/E 比率: 0.924699387436151\"\n",
      "[1] \"c_slope: 1.04255357891493\"\n",
      "[1] \"Brier 分数: 0.143505301626106\"\n"
     ]
    },
    {
     "name": "stderr",
     "output_type": "stream",
     "text": [
      "Setting levels: control = 0, case = 1\n",
      "\n",
      "Setting direction: controls < cases\n",
      "\n"
     ]
    },
    {
     "name": "stdout",
     "output_type": "stream",
     "text": [
      "[1] \"auc: 0.724030416629995\"\n",
      "[1] \"O/E 比率: 0.961328969377344\"\n",
      "[1] \"c_slope: 1.1019969509579\"\n",
      "[1] \"Brier 分数: 0.143652596384878\"\n"
     ]
    },
    {
     "name": "stderr",
     "output_type": "stream",
     "text": [
      "Setting levels: control = 0, case = 1\n",
      "\n",
      "Setting direction: controls < cases\n",
      "\n"
     ]
    },
    {
     "name": "stdout",
     "output_type": "stream",
     "text": [
      "[1] \"auc: 0.723292279088189\"\n",
      "[1] \"O/E 比率: 0.962475605716477\"\n",
      "[1] \"c_slope: 1.04185765641993\"\n",
      "[1] \"Brier 分数: 0.143707244231741\"\n"
     ]
    },
    {
     "name": "stderr",
     "output_type": "stream",
     "text": [
      "Setting levels: control = 0, case = 1\n",
      "\n",
      "Setting direction: controls < cases\n",
      "\n"
     ]
    },
    {
     "name": "stdout",
     "output_type": "stream",
     "text": [
      "[1] \"auc: 0.721744837506601\"\n",
      "[1] \"O/E 比率: 1.00044692319849\"\n",
      "[1] \"c_slope: 1.10925613625772\"\n",
      "[1] \"Brier 分数: 0.144845510899557\"\n"
     ]
    },
    {
     "name": "stderr",
     "output_type": "stream",
     "text": [
      "Setting levels: control = 0, case = 1\n",
      "\n",
      "Setting direction: controls < cases\n",
      "\n"
     ]
    },
    {
     "name": "stdout",
     "output_type": "stream",
     "text": [
      "[1] \"auc: 0.72209104361028\"\n",
      "[1] \"O/E 比率: 0.90786755728051\"\n",
      "[1] \"c_slope: 1.08465781108544\"\n",
      "[1] \"Brier 分数: 0.144431345813639\"\n"
     ]
    },
    {
     "name": "stderr",
     "output_type": "stream",
     "text": [
      "Setting levels: control = 0, case = 1\n",
      "\n",
      "Setting direction: controls < cases\n",
      "\n"
     ]
    },
    {
     "name": "stdout",
     "output_type": "stream",
     "text": [
      "[1] \"auc: 0.7208911833304\"\n",
      "[1] \"O/E 比率: 0.951189273796012\"\n",
      "[1] \"c_slope: 1.07501192463272\"\n",
      "[1] \"Brier 分数: 0.143758546049199\"\n"
     ]
    },
    {
     "name": "stderr",
     "output_type": "stream",
     "text": [
      "Setting levels: control = 0, case = 1\n",
      "\n",
      "Setting direction: controls < cases\n",
      "\n"
     ]
    },
    {
     "name": "stdout",
     "output_type": "stream",
     "text": [
      "[1] \"auc: 0.721756526689843\"\n",
      "[1] \"O/E 比率: 0.938101650144233\"\n",
      "[1] \"c_slope: 1.13594777024935\"\n",
      "[1] \"Brier 分数: 0.144262121746713\"\n"
     ]
    },
    {
     "name": "stderr",
     "output_type": "stream",
     "text": [
      "Setting levels: control = 0, case = 1\n",
      "\n",
      "Setting direction: controls < cases\n",
      "\n"
     ]
    },
    {
     "name": "stdout",
     "output_type": "stream",
     "text": [
      "[1] \"auc: 0.721639291057912\"\n",
      "[1] \"O/E 比率: 0.951315313901272\"\n",
      "[1] \"c_slope: 1.06419315686932\"\n",
      "[1] \"Brier 分数: 0.144134450721962\"\n"
     ]
    },
    {
     "name": "stderr",
     "output_type": "stream",
     "text": [
      "Setting levels: control = 0, case = 1\n",
      "\n",
      "Setting direction: controls < cases\n",
      "\n"
     ]
    },
    {
     "name": "stdout",
     "output_type": "stream",
     "text": [
      "[1] \"auc: 0.721934271035029\"\n",
      "[1] \"O/E 比率: 0.964204452354368\"\n",
      "[1] \"c_slope: 1.11411855208266\"\n",
      "[1] \"Brier 分数: 0.144064413653814\"\n"
     ]
    },
    {
     "name": "stderr",
     "output_type": "stream",
     "text": [
      "Setting levels: control = 0, case = 1\n",
      "\n",
      "Setting direction: controls < cases\n",
      "\n"
     ]
    },
    {
     "name": "stdout",
     "output_type": "stream",
     "text": [
      "[1] \"auc: 0.724436787647421\"\n",
      "[1] \"O/E 比率: 0.953515142712171\"\n",
      "[1] \"c_slope: 1.14088766884162\"\n",
      "[1] \"Brier 分数: 0.14353113580652\"\n"
     ]
    },
    {
     "name": "stderr",
     "output_type": "stream",
     "text": [
      "Setting levels: control = 0, case = 1\n",
      "\n",
      "Setting direction: controls < cases\n",
      "\n"
     ]
    },
    {
     "name": "stdout",
     "output_type": "stream",
     "text": [
      "[1] \"auc: 0.721502458854075\"\n",
      "[1] \"O/E 比率: 0.979878634125103\"\n",
      "[1] \"c_slope: 1.11799676656714\"\n",
      "[1] \"Brier 分数: 0.143988805681032\"\n"
     ]
    },
    {
     "name": "stderr",
     "output_type": "stream",
     "text": [
      "Setting levels: control = 0, case = 1\n",
      "\n",
      "Setting direction: controls < cases\n",
      "\n"
     ]
    },
    {
     "name": "stdout",
     "output_type": "stream",
     "text": [
      "[1] \"auc: 0.721192351698645\"\n",
      "[1] \"O/E 比率: 0.968443718062205\"\n",
      "[1] \"c_slope: 1.14483704974534\"\n",
      "[1] \"Brier 分数: 0.144727865697416\"\n"
     ]
    },
    {
     "name": "stderr",
     "output_type": "stream",
     "text": [
      "Setting levels: control = 0, case = 1\n",
      "\n",
      "Setting direction: controls < cases\n",
      "\n"
     ]
    },
    {
     "name": "stdout",
     "output_type": "stream",
     "text": [
      "[1] \"auc: 0.724083361754093\"\n",
      "[1] \"O/E 比率: 0.941539438548813\"\n",
      "[1] \"c_slope: 1.08759474524826\"\n",
      "[1] \"Brier 分数: 0.143455349669107\"\n"
     ]
    },
    {
     "name": "stderr",
     "output_type": "stream",
     "text": [
      "Setting levels: control = 0, case = 1\n",
      "\n",
      "Setting direction: controls < cases\n",
      "\n"
     ]
    },
    {
     "name": "stdout",
     "output_type": "stream",
     "text": [
      "[1] \"auc: 0.722588177697588\"\n",
      "[1] \"O/E 比率: 0.964175336362647\"\n",
      "[1] \"c_slope: 1.09610572070866\"\n",
      "[1] \"Brier 分数: 0.143921663543395\"\n"
     ]
    },
    {
     "name": "stderr",
     "output_type": "stream",
     "text": [
      "Setting levels: control = 0, case = 1\n",
      "\n",
      "Setting direction: controls < cases\n",
      "\n"
     ]
    },
    {
     "name": "stdout",
     "output_type": "stream",
     "text": [
      "[1] \"auc: 0.724338460988382\"\n",
      "[1] \"O/E 比率: 0.965400271106993\"\n",
      "[1] \"c_slope: 1.12066587492081\"\n",
      "[1] \"Brier 分数: 0.143873057571777\"\n"
     ]
    },
    {
     "name": "stderr",
     "output_type": "stream",
     "text": [
      "Setting levels: control = 0, case = 1\n",
      "\n",
      "Setting direction: controls < cases\n",
      "\n"
     ]
    },
    {
     "name": "stdout",
     "output_type": "stream",
     "text": [
      "[1] \"auc: 0.72330293687291\"\n",
      "[1] \"O/E 比率: 0.935760787871297\"\n",
      "[1] \"c_slope: 1.15313431332908\"\n",
      "[1] \"Brier 分数: 0.144397687831967\"\n"
     ]
    },
    {
     "name": "stderr",
     "output_type": "stream",
     "text": [
      "Setting levels: control = 0, case = 1\n",
      "\n",
      "Setting direction: controls < cases\n",
      "\n"
     ]
    },
    {
     "name": "stdout",
     "output_type": "stream",
     "text": [
      "[1] \"auc: 0.72669417521123\"\n",
      "[1] \"O/E 比率: 0.957936497053748\"\n",
      "[1] \"c_slope: 1.12862504220314\"\n",
      "[1] \"Brier 分数: 0.143105026928039\"\n"
     ]
    },
    {
     "name": "stderr",
     "output_type": "stream",
     "text": [
      "Setting levels: control = 0, case = 1\n",
      "\n",
      "Setting direction: controls < cases\n",
      "\n"
     ]
    },
    {
     "name": "stdout",
     "output_type": "stream",
     "text": [
      "[1] \"auc: 0.719846032828727\"\n",
      "[1] \"O/E 比率: 0.977823021598674\"\n",
      "[1] \"c_slope: 1.14373681456004\"\n",
      "[1] \"Brier 分数: 0.14469590461895\"\n"
     ]
    },
    {
     "name": "stderr",
     "output_type": "stream",
     "text": [
      "Setting levels: control = 0, case = 1\n",
      "\n",
      "Setting direction: controls < cases\n",
      "\n"
     ]
    },
    {
     "name": "stdout",
     "output_type": "stream",
     "text": [
      "[1] \"auc: 0.722971857947544\"\n",
      "[1] \"O/E 比率: 0.962999063555622\"\n",
      "[1] \"c_slope: 1.08479934723604\"\n",
      "[1] \"Brier 分数: 0.143786535352997\"\n"
     ]
    },
    {
     "name": "stderr",
     "output_type": "stream",
     "text": [
      "Setting levels: control = 0, case = 1\n",
      "\n",
      "Setting direction: controls < cases\n",
      "\n"
     ]
    },
    {
     "name": "stdout",
     "output_type": "stream",
     "text": [
      "[1] \"auc: 0.722944010187467\"\n",
      "[1] \"O/E 比率: 0.915064333350541\"\n",
      "[1] \"c_slope: 1.13568068550102\"\n",
      "[1] \"Brier 分数: 0.144055483070272\"\n"
     ]
    },
    {
     "name": "stderr",
     "output_type": "stream",
     "text": [
      "Setting levels: control = 0, case = 1\n",
      "\n",
      "Setting direction: controls < cases\n",
      "\n"
     ]
    },
    {
     "name": "stdout",
     "output_type": "stream",
     "text": [
      "[1] \"auc: 0.725646961912515\"\n",
      "[1] \"O/E 比率: 0.937081165633263\"\n",
      "[1] \"c_slope: 1.15503766791569\"\n",
      "[1] \"Brier 分数: 0.143508858286261\"\n"
     ]
    },
    {
     "name": "stderr",
     "output_type": "stream",
     "text": [
      "Setting levels: control = 0, case = 1\n",
      "\n",
      "Setting direction: controls < cases\n",
      "\n"
     ]
    },
    {
     "name": "stdout",
     "output_type": "stream",
     "text": [
      "[1] \"auc: 0.719769709338145\"\n",
      "[1] \"O/E 比率: 0.99741528695499\"\n",
      "[1] \"c_slope: 1.06665248918933\"\n",
      "[1] \"Brier 分数: 0.14402246011992\"\n"
     ]
    },
    {
     "name": "stderr",
     "output_type": "stream",
     "text": [
      "Setting levels: control = 0, case = 1\n",
      "\n",
      "Setting direction: controls < cases\n",
      "\n"
     ]
    },
    {
     "name": "stdout",
     "output_type": "stream",
     "text": [
      "[1] \"auc: 0.723309812863052\"\n",
      "[1] \"O/E 比率: 0.915316324224783\"\n",
      "[1] \"c_slope: 1.11167009983987\"\n",
      "[1] \"Brier 分数: 0.144183732064822\"\n"
     ]
    },
    {
     "name": "stderr",
     "output_type": "stream",
     "text": [
      "Setting levels: control = 0, case = 1\n",
      "\n",
      "Setting direction: controls < cases\n",
      "\n"
     ]
    },
    {
     "name": "stdout",
     "output_type": "stream",
     "text": [
      "[1] \"auc: 0.722684097760077\"\n",
      "[1] \"O/E 比率: 0.940957102953634\"\n",
      "[1] \"c_slope: 1.12937218940566\"\n",
      "[1] \"Brier 分数: 0.144151219398891\"\n"
     ]
    },
    {
     "name": "stderr",
     "output_type": "stream",
     "text": [
      "Setting levels: control = 0, case = 1\n",
      "\n",
      "Setting direction: controls < cases\n",
      "\n"
     ]
    },
    {
     "name": "stdout",
     "output_type": "stream",
     "text": [
      "[1] \"auc: 0.720386141854427\"\n",
      "[1] \"O/E 比率: 0.935211961601433\"\n",
      "[1] \"c_slope: 1.12034187561927\"\n",
      "[1] \"Brier 分数: 0.144538980574679\"\n"
     ]
    },
    {
     "name": "stderr",
     "output_type": "stream",
     "text": [
      "Setting levels: control = 0, case = 1\n",
      "\n",
      "Setting direction: controls < cases\n",
      "\n"
     ]
    },
    {
     "name": "stdout",
     "output_type": "stream",
     "text": [
      "[1] \"auc: 0.726561124801972\"\n",
      "[1] \"O/E 比率: 0.94017177763075\"\n",
      "[1] \"c_slope: 1.16286734744625\"\n",
      "[1] \"Brier 分数: 0.143459473399452\"\n"
     ]
    },
    {
     "name": "stderr",
     "output_type": "stream",
     "text": [
      "Setting levels: control = 0, case = 1\n",
      "\n",
      "Setting direction: controls < cases\n",
      "\n"
     ]
    },
    {
     "name": "stdout",
     "output_type": "stream",
     "text": [
      "[1] \"auc: 0.724155903450097\"\n",
      "[1] \"O/E 比率: 0.945134653741251\"\n",
      "[1] \"c_slope: 1.10654425121831\"\n",
      "[1] \"Brier 分数: 0.143224257471301\"\n"
     ]
    },
    {
     "name": "stderr",
     "output_type": "stream",
     "text": [
      "Setting levels: control = 0, case = 1\n",
      "\n",
      "Setting direction: controls < cases\n",
      "\n"
     ]
    },
    {
     "name": "stdout",
     "output_type": "stream",
     "text": [
      "[1] \"auc: 0.72375434562577\"\n",
      "[1] \"O/E 比率: 0.924201422934396\"\n",
      "[1] \"c_slope: 1.08677304688489\"\n",
      "[1] \"Brier 分数: 0.143563274579438\"\n"
     ]
    },
    {
     "name": "stderr",
     "output_type": "stream",
     "text": [
      "Setting levels: control = 0, case = 1\n",
      "\n",
      "Setting direction: controls < cases\n",
      "\n"
     ]
    },
    {
     "name": "stdout",
     "output_type": "stream",
     "text": [
      "[1] \"auc: 0.723019302279528\"\n",
      "[1] \"O/E 比率: 0.936206111967371\"\n",
      "[1] \"c_slope: 1.11248143487817\"\n",
      "[1] \"Brier 分数: 0.144450698296848\"\n"
     ]
    },
    {
     "name": "stderr",
     "output_type": "stream",
     "text": [
      "Setting levels: control = 0, case = 1\n",
      "\n",
      "Setting direction: controls < cases\n",
      "\n"
     ]
    },
    {
     "name": "stdout",
     "output_type": "stream",
     "text": [
      "[1] \"auc: 0.720889464332864\"\n",
      "[1] \"O/E 比率: 0.961753385318233\"\n",
      "[1] \"c_slope: 1.04949878241499\"\n",
      "[1] \"Brier 分数: 0.144038543862415\"\n"
     ]
    },
    {
     "name": "stderr",
     "output_type": "stream",
     "text": [
      "Setting levels: control = 0, case = 1\n",
      "\n",
      "Setting direction: controls < cases\n",
      "\n"
     ]
    },
    {
     "name": "stdout",
     "output_type": "stream",
     "text": [
      "[1] \"auc: 0.723398513135892\"\n",
      "[1] \"O/E 比率: 0.910500536299131\"\n",
      "[1] \"c_slope: 1.10600061857176\"\n",
      "[1] \"Brier 分数: 0.144305961804298\"\n"
     ]
    },
    {
     "name": "stderr",
     "output_type": "stream",
     "text": [
      "Setting levels: control = 0, case = 1\n",
      "\n",
      "Setting direction: controls < cases\n",
      "\n"
     ]
    },
    {
     "name": "stdout",
     "output_type": "stream",
     "text": [
      "[1] \"auc: 0.71923853909963\"\n",
      "[1] \"O/E 比率: 0.9354088763085\"\n",
      "[1] \"c_slope: 1.1153106983724\"\n",
      "[1] \"Brier 分数: 0.144267983759489\"\n"
     ]
    },
    {
     "name": "stderr",
     "output_type": "stream",
     "text": [
      "Setting levels: control = 0, case = 1\n",
      "\n",
      "Setting direction: controls < cases\n",
      "\n"
     ]
    },
    {
     "name": "stdout",
     "output_type": "stream",
     "text": [
      "[1] \"auc: 0.724668508515226\"\n",
      "[1] \"O/E 比率: 0.919429745064968\"\n",
      "[1] \"c_slope: 1.14746704262925\"\n",
      "[1] \"Brier 分数: 0.143575992591443\"\n"
     ]
    },
    {
     "name": "stderr",
     "output_type": "stream",
     "text": [
      "Setting levels: control = 0, case = 1\n",
      "\n",
      "Setting direction: controls < cases\n",
      "\n"
     ]
    },
    {
     "name": "stdout",
     "output_type": "stream",
     "text": [
      "[1] \"auc: 0.718980689469284\"\n",
      "[1] \"O/E 比率: 0.964888464405014\"\n",
      "[1] \"c_slope: 1.06928474411807\"\n",
      "[1] \"Brier 分数: 0.144511464188193\"\n"
     ]
    },
    {
     "name": "stderr",
     "output_type": "stream",
     "text": [
      "Setting levels: control = 0, case = 1\n",
      "\n",
      "Setting direction: controls < cases\n",
      "\n"
     ]
    },
    {
     "name": "stdout",
     "output_type": "stream",
     "text": [
      "[1] \"auc: 0.720930376474212\"\n",
      "[1] \"O/E 比率: 0.941933643021137\"\n",
      "[1] \"c_slope: 1.14227738767555\"\n",
      "[1] \"Brier 分数: 0.143534432077101\"\n"
     ]
    },
    {
     "name": "stderr",
     "output_type": "stream",
     "text": [
      "Setting levels: control = 0, case = 1\n",
      "\n",
      "Setting direction: controls < cases\n",
      "\n"
     ]
    },
    {
     "name": "stdout",
     "output_type": "stream",
     "text": [
      "[1] \"auc: 0.724462572610456\"\n",
      "[1] \"O/E 比率: 0.930761560425325\"\n",
      "[1] \"c_slope: 1.09554362827595\"\n",
      "[1] \"Brier 分数: 0.143843252338554\"\n"
     ]
    },
    {
     "name": "stderr",
     "output_type": "stream",
     "text": [
      "Setting levels: control = 0, case = 1\n",
      "\n",
      "Setting direction: controls < cases\n",
      "\n"
     ]
    },
    {
     "name": "stdout",
     "output_type": "stream",
     "text": [
      "[1] \"auc: 0.726030298362964\"\n",
      "[1] \"O/E 比率: 0.915587445459191\"\n",
      "[1] \"c_slope: 1.18099629290283\"\n",
      "[1] \"Brier 分数: 0.143474619663995\"\n"
     ]
    },
    {
     "name": "stderr",
     "output_type": "stream",
     "text": [
      "Setting levels: control = 0, case = 1\n",
      "\n",
      "Setting direction: controls < cases\n",
      "\n"
     ]
    },
    {
     "name": "stdout",
     "output_type": "stream",
     "text": [
      "[1] \"auc: 0.720865398367365\"\n",
      "[1] \"O/E 比率: 0.979318003434126\"\n",
      "[1] \"c_slope: 1.17812065768108\"\n",
      "[1] \"Brier 分数: 0.144732941144968\"\n"
     ]
    },
    {
     "name": "stderr",
     "output_type": "stream",
     "text": [
      "Setting levels: control = 0, case = 1\n",
      "\n",
      "Setting direction: controls < cases\n",
      "\n"
     ]
    },
    {
     "name": "stdout",
     "output_type": "stream",
     "text": [
      "[1] \"auc: 0.724943891920437\"\n",
      "[1] \"O/E 比率: 0.939864396483134\"\n",
      "[1] \"c_slope: 1.07881368217185\"\n",
      "[1] \"Brier 分数: 0.143682405128732\"\n"
     ]
    },
    {
     "name": "stderr",
     "output_type": "stream",
     "text": [
      "Setting levels: control = 0, case = 1\n",
      "\n",
      "Setting direction: controls < cases\n",
      "\n"
     ]
    },
    {
     "name": "stdout",
     "output_type": "stream",
     "text": [
      "[1] \"auc: 0.719717795612568\"\n",
      "[1] \"O/E 比率: 0.962877081910939\"\n",
      "[1] \"c_slope: 1.03465498030401\"\n",
      "[1] \"Brier 分数: 0.144610089947588\"\n"
     ]
    },
    {
     "name": "stderr",
     "output_type": "stream",
     "text": [
      "Setting levels: control = 0, case = 1\n",
      "\n",
      "Setting direction: controls < cases\n",
      "\n"
     ]
    },
    {
     "name": "stdout",
     "output_type": "stream",
     "text": [
      "[1] \"auc: 0.72251013520947\"\n",
      "[1] \"O/E 比率: 0.934657618871401\"\n",
      "[1] \"c_slope: 1.10198446438195\"\n",
      "[1] \"Brier 分数: 0.143792845899399\"\n"
     ]
    },
    {
     "name": "stderr",
     "output_type": "stream",
     "text": [
      "Setting levels: control = 0, case = 1\n",
      "\n",
      "Setting direction: controls < cases\n",
      "\n"
     ]
    },
    {
     "name": "stdout",
     "output_type": "stream",
     "text": [
      "[1] \"auc: 0.722826086956522\"\n",
      "[1] \"O/E 比率: 0.954965807118849\"\n",
      "[1] \"c_slope: 1.0754168399369\"\n",
      "[1] \"Brier 分数: 0.14416747403411\"\n"
     ]
    },
    {
     "name": "stderr",
     "output_type": "stream",
     "text": [
      "Setting levels: control = 0, case = 1\n",
      "\n",
      "Setting direction: controls < cases\n",
      "\n"
     ]
    },
    {
     "name": "stdout",
     "output_type": "stream",
     "text": [
      "[1] \"auc: 0.721615912691428\"\n",
      "[1] \"O/E 比率: 1.00436138538775\"\n",
      "[1] \"c_slope: 1.19711818789002\"\n",
      "[1] \"Brier 分数: 0.144232847151195\"\n"
     ]
    },
    {
     "name": "stderr",
     "output_type": "stream",
     "text": [
      "Setting levels: control = 0, case = 1\n",
      "\n",
      "Setting direction: controls < cases\n",
      "\n"
     ]
    },
    {
     "name": "stdout",
     "output_type": "stream",
     "text": [
      "[1] \"auc: 0.722494320432142\"\n",
      "[1] \"O/E 比率: 0.975703300097747\"\n",
      "[1] \"c_slope: 1.06693924506878\"\n",
      "[1] \"Brier 分数: 0.14386362654902\"\n"
     ]
    },
    {
     "name": "stderr",
     "output_type": "stream",
     "text": [
      "Setting levels: control = 0, case = 1\n",
      "\n",
      "Setting direction: controls < cases\n",
      "\n"
     ]
    },
    {
     "name": "stdout",
     "output_type": "stream",
     "text": [
      "[1] \"auc: 0.721390724014258\"\n",
      "[1] \"O/E 比率: 0.96357975844278\"\n",
      "[1] \"c_slope: 1.10800917601883\"\n",
      "[1] \"Brier 分数: 0.143497857829936\"\n"
     ]
    },
    {
     "name": "stderr",
     "output_type": "stream",
     "text": [
      "Setting levels: control = 0, case = 1\n",
      "\n",
      "Setting direction: controls < cases\n",
      "\n"
     ]
    },
    {
     "name": "stdout",
     "output_type": "stream",
     "text": [
      "[1] \"auc: 0.722075228832952\"\n",
      "[1] \"O/E 比率: 0.942108012717112\"\n",
      "[1] \"c_slope: 1.15260965966758\"\n",
      "[1] \"Brier 分数: 0.143786092520314\"\n"
     ]
    },
    {
     "name": "stderr",
     "output_type": "stream",
     "text": [
      "Setting levels: control = 0, case = 1\n",
      "\n",
      "Setting direction: controls < cases\n",
      "\n"
     ]
    },
    {
     "name": "stdout",
     "output_type": "stream",
     "text": [
      "[1] \"auc: 0.720187425739306\"\n",
      "[1] \"O/E 比率: 0.997945576661105\"\n",
      "[1] \"c_slope: 1.15269361810417\"\n",
      "[1] \"Brier 分数: 0.144417050300457\"\n"
     ]
    },
    {
     "name": "stderr",
     "output_type": "stream",
     "text": [
      "Setting levels: control = 0, case = 1\n",
      "\n",
      "Setting direction: controls < cases\n",
      "\n"
     ]
    },
    {
     "name": "stdout",
     "output_type": "stream",
     "text": [
      "[1] \"auc: 0.721435417950185\"\n",
      "[1] \"O/E 比率: 0.93619937690396\"\n",
      "[1] \"c_slope: 1.12653416251901\"\n",
      "[1] \"Brier 分数: 0.144360810041835\"\n"
     ]
    },
    {
     "name": "stderr",
     "output_type": "stream",
     "text": [
      "Setting levels: control = 0, case = 1\n",
      "\n",
      "Setting direction: controls < cases\n",
      "\n"
     ]
    },
    {
     "name": "stdout",
     "output_type": "stream",
     "text": [
      "[1] \"auc: 0.723390949546735\"\n",
      "[1] \"O/E 比率: 0.954502416660189\"\n",
      "[1] \"c_slope: 1.16448388247981\"\n",
      "[1] \"Brier 分数: 0.144538853679788\"\n"
     ]
    },
    {
     "name": "stderr",
     "output_type": "stream",
     "text": [
      "Setting levels: control = 0, case = 1\n",
      "\n",
      "Setting direction: controls < cases\n",
      "\n"
     ]
    },
    {
     "name": "stdout",
     "output_type": "stream",
     "text": [
      "[1] \"auc: 0.724107083920084\"\n",
      "[1] \"O/E 比率: 0.967274087865212\"\n",
      "[1] \"c_slope: 1.05900275113523\"\n",
      "[1] \"Brier 分数: 0.143482197368579\"\n"
     ]
    },
    {
     "name": "stderr",
     "output_type": "stream",
     "text": [
      "Setting levels: control = 0, case = 1\n",
      "\n",
      "Setting direction: controls < cases\n",
      "\n"
     ]
    },
    {
     "name": "stdout",
     "output_type": "stream",
     "text": [
      "[1] \"auc: 0.719917886925717\"\n",
      "[1] \"O/E 比率: 0.992619831697464\"\n",
      "[1] \"c_slope: 1.08483544155985\"\n",
      "[1] \"Brier 分数: 0.144552825272071\"\n"
     ]
    },
    {
     "name": "stderr",
     "output_type": "stream",
     "text": [
      "Setting levels: control = 0, case = 1\n",
      "\n",
      "Setting direction: controls < cases\n",
      "\n"
     ]
    },
    {
     "name": "stdout",
     "output_type": "stream",
     "text": [
      "[1] \"auc: 0.723855078881359\"\n",
      "[1] \"O/E 比率: 0.999386265308008\"\n",
      "[1] \"c_slope: 1.11237520343143\"\n",
      "[1] \"Brier 分数: 0.143563598115071\"\n"
     ]
    },
    {
     "name": "stderr",
     "output_type": "stream",
     "text": [
      "Setting levels: control = 0, case = 1\n",
      "\n",
      "Setting direction: controls < cases\n",
      "\n"
     ]
    },
    {
     "name": "stdout",
     "output_type": "stream",
     "text": [
      "[1] \"auc: 0.723079467193276\"\n",
      "[1] \"O/E 比率: 0.954130404847644\"\n",
      "[1] \"c_slope: 1.13297784114987\"\n",
      "[1] \"Brier 分数: 0.143948836194145\"\n"
     ]
    },
    {
     "name": "stderr",
     "output_type": "stream",
     "text": [
      "Setting levels: control = 0, case = 1\n",
      "\n",
      "Setting direction: controls < cases\n",
      "\n"
     ]
    },
    {
     "name": "stdout",
     "output_type": "stream",
     "text": [
      "[1] \"auc: 0.723354850598486\"\n",
      "[1] \"O/E 比率: 0.970342250691964\"\n",
      "[1] \"c_slope: 1.05306895173589\"\n",
      "[1] \"Brier 分数: 0.143271570583985\"\n"
     ]
    },
    {
     "name": "stderr",
     "output_type": "stream",
     "text": [
      "Setting levels: control = 0, case = 1\n",
      "\n",
      "Setting direction: controls < cases\n",
      "\n"
     ]
    },
    {
     "name": "stdout",
     "output_type": "stream",
     "text": [
      "[1] \"auc: 0.717525042356099\"\n",
      "[1] \"O/E 比率: 0.956482868058457\"\n",
      "[1] \"c_slope: 1.1314228740822\"\n",
      "[1] \"Brier 分数: 0.14424004180997\"\n"
     ]
    },
    {
     "name": "stderr",
     "output_type": "stream",
     "text": [
      "Setting levels: control = 0, case = 1\n",
      "\n",
      "Setting direction: controls < cases\n",
      "\n"
     ]
    },
    {
     "name": "stdout",
     "output_type": "stream",
     "text": [
      "[1] \"auc: 0.721955586604471\"\n",
      "[1] \"O/E 比率: 0.952918125891504\"\n",
      "[1] \"c_slope: 1.09551585944031\"\n",
      "[1] \"Brier 分数: 0.144320875211635\"\n"
     ]
    },
    {
     "name": "stderr",
     "output_type": "stream",
     "text": [
      "Setting levels: control = 0, case = 1\n",
      "\n",
      "Setting direction: controls < cases\n",
      "\n"
     ]
    },
    {
     "name": "stdout",
     "output_type": "stream",
     "text": [
      "[1] \"auc: 0.72163722826087\"\n",
      "[1] \"O/E 比率: 0.982813263323665\"\n",
      "[1] \"c_slope: 1.09926629615061\"\n",
      "[1] \"Brier 分数: 0.14481839276407\"\n"
     ]
    },
    {
     "name": "stderr",
     "output_type": "stream",
     "text": [
      "Setting levels: control = 0, case = 1\n",
      "\n",
      "Setting direction: controls < cases\n",
      "\n"
     ]
    },
    {
     "name": "stdout",
     "output_type": "stream",
     "text": [
      "[1] \"auc: 0.725154641018307\"\n",
      "[1] \"O/E 比率: 0.910989310315264\"\n",
      "[1] \"c_slope: 1.1300836449791\"\n",
      "[1] \"Brier 分数: 0.143942387513251\"\n"
     ]
    },
    {
     "name": "stderr",
     "output_type": "stream",
     "text": [
      "Setting levels: control = 0, case = 1\n",
      "\n",
      "Setting direction: controls < cases\n",
      "\n"
     ]
    },
    {
     "name": "stdout",
     "output_type": "stream",
     "text": [
      "[1] \"auc: 0.723896678621721\"\n",
      "[1] \"O/E 比率: 0.94546561948927\"\n",
      "[1] \"c_slope: 1.12028707328733\"\n",
      "[1] \"Brier 分数: 0.143614156431749\"\n"
     ]
    },
    {
     "name": "stderr",
     "output_type": "stream",
     "text": [
      "Setting levels: control = 0, case = 1\n",
      "\n",
      "Setting direction: controls < cases\n",
      "\n"
     ]
    },
    {
     "name": "stdout",
     "output_type": "stream",
     "text": [
      "[1] \"auc: 0.722325171074635\"\n",
      "[1] \"O/E 比率: 0.934183613011328\"\n",
      "[1] \"c_slope: 1.10579497627468\"\n",
      "[1] \"Brier 分数: 0.143711736839948\"\n"
     ]
    },
    {
     "name": "stderr",
     "output_type": "stream",
     "text": [
      "Setting levels: control = 0, case = 1\n",
      "\n",
      "Setting direction: controls < cases\n",
      "\n"
     ]
    },
    {
     "name": "stdout",
     "output_type": "stream",
     "text": [
      "[1] \"auc: 0.721552309782609\"\n",
      "[1] \"O/E 比率: 0.972153906395231\"\n",
      "[1] \"c_slope: 1.09277097969367\"\n",
      "[1] \"Brier 分数: 0.144518302265182\"\n"
     ]
    },
    {
     "name": "stderr",
     "output_type": "stream",
     "text": [
      "Setting levels: control = 0, case = 1\n",
      "\n",
      "Setting direction: controls < cases\n",
      "\n"
     ]
    },
    {
     "name": "stdout",
     "output_type": "stream",
     "text": [
      "[1] \"auc: 0.724167592633339\"\n",
      "[1] \"O/E 比率: 0.957700850648319\"\n",
      "[1] \"c_slope: 1.12696711519158\"\n",
      "[1] \"Brier 分数: 0.143851910831102\"\n"
     ]
    },
    {
     "name": "stderr",
     "output_type": "stream",
     "text": [
      "Setting levels: control = 0, case = 1\n",
      "\n",
      "Setting direction: controls < cases\n",
      "\n"
     ]
    },
    {
     "name": "stdout",
     "output_type": "stream",
     "text": [
      "[1] \"auc: 0.722387742584932\"\n",
      "[1] \"O/E 比率: 0.969811361342939\"\n",
      "[1] \"c_slope: 1.12690252945223\"\n",
      "[1] \"Brier 分数: 0.14468391655036\"\n"
     ]
    },
    {
     "name": "stderr",
     "output_type": "stream",
     "text": [
      "Setting levels: control = 0, case = 1\n",
      "\n",
      "Setting direction: controls < cases\n",
      "\n"
     ]
    },
    {
     "name": "stdout",
     "output_type": "stream",
     "text": [
      "[1] \"auc: 0.722512198006513\"\n",
      "[1] \"O/E 比率: 0.917956053599661\"\n",
      "[1] \"c_slope: 1.12922430383098\"\n",
      "[1] \"Brier 分数: 0.144127926922075\"\n"
     ]
    },
    {
     "name": "stderr",
     "output_type": "stream",
     "text": [
      "Setting levels: control = 0, case = 1\n",
      "\n",
      "Setting direction: controls < cases\n",
      "\n"
     ]
    },
    {
     "name": "stdout",
     "output_type": "stream",
     "text": [
      "[1] \"auc: 0.720092537075339\"\n",
      "[1] \"O/E 比率: 0.959595836868855\"\n",
      "[1] \"c_slope: 1.1200092468352\"\n",
      "[1] \"Brier 分数: 0.144254807314829\"\n"
     ]
    },
    {
     "name": "stderr",
     "output_type": "stream",
     "text": [
      "Setting levels: control = 0, case = 1\n",
      "\n",
      "Setting direction: controls < cases\n",
      "\n"
     ]
    },
    {
     "name": "stdout",
     "output_type": "stream",
     "text": [
      "[1] \"auc: 0.720058500924133\"\n",
      "[1] \"O/E 比率: 0.941552546720334\"\n",
      "[1] \"c_slope: 1.09119127843399\"\n",
      "[1] \"Brier 分数: 0.14400080828542\"\n"
     ]
    },
    {
     "name": "stderr",
     "output_type": "stream",
     "text": [
      "Setting levels: control = 0, case = 1\n",
      "\n",
      "Setting direction: controls < cases\n",
      "\n"
     ]
    },
    {
     "name": "stdout",
     "output_type": "stream",
     "text": [
      "[1] \"auc: 0.723357257195036\"\n",
      "[1] \"O/E 比率: 0.973732276859731\"\n",
      "[1] \"c_slope: 1.16970392720374\"\n",
      "[1] \"Brier 分数: 0.143556484171112\"\n"
     ]
    },
    {
     "name": "stderr",
     "output_type": "stream",
     "text": [
      "Setting levels: control = 0, case = 1\n",
      "\n",
      "Setting direction: controls < cases\n",
      "\n"
     ]
    },
    {
     "name": "stdout",
     "output_type": "stream",
     "text": [
      "[1] \"auc: 0.71913677444552\"\n",
      "[1] \"O/E 比率: 0.96907915667235\"\n",
      "[1] \"c_slope: 1.01430062939533\"\n",
      "[1] \"Brier 分数: 0.144599336288963\"\n"
     ]
    },
    {
     "name": "stderr",
     "output_type": "stream",
     "text": [
      "Setting levels: control = 0, case = 1\n",
      "\n",
      "Setting direction: controls < cases\n",
      "\n"
     ]
    },
    {
     "name": "stdout",
     "output_type": "stream",
     "text": [
      "[1] \"auc: 0.719918230725224\"\n",
      "[1] \"O/E 比率: 0.964187432284485\"\n",
      "[1] \"c_slope: 1.04892027700316\"\n",
      "[1] \"Brier 分数: 0.144094701742842\"\n"
     ]
    },
    {
     "name": "stderr",
     "output_type": "stream",
     "text": [
      "Setting levels: control = 0, case = 1\n",
      "\n",
      "Setting direction: controls < cases\n",
      "\n"
     ]
    },
    {
     "name": "stdout",
     "output_type": "stream",
     "text": [
      "[1] \"auc: 0.725410771651118\"\n",
      "[1] \"O/E 比率: 0.929389438453492\"\n",
      "[1] \"c_slope: 1.19175401299673\"\n",
      "[1] \"Brier 分数: 0.144057691224269\"\n"
     ]
    },
    {
     "name": "stderr",
     "output_type": "stream",
     "text": [
      "Setting levels: control = 0, case = 1\n",
      "\n",
      "Setting direction: controls < cases\n",
      "\n"
     ]
    },
    {
     "name": "stdout",
     "output_type": "stream",
     "text": [
      "[1] \"auc: 0.723958906332512\"\n",
      "[1] \"O/E 比率: 0.976185030336103\"\n",
      "[1] \"c_slope: 1.10599005173698\"\n",
      "[1] \"Brier 分数: 0.14374806178349\"\n"
     ]
    },
    {
     "name": "stderr",
     "output_type": "stream",
     "text": [
      "Setting levels: control = 0, case = 1\n",
      "\n",
      "Setting direction: controls < cases\n",
      "\n"
     ]
    },
    {
     "name": "stdout",
     "output_type": "stream",
     "text": [
      "[1] \"auc: 0.722531450778912\"\n",
      "[1] \"O/E 比率: 0.95668977836592\"\n",
      "[1] \"c_slope: 1.1100149064935\"\n",
      "[1] \"Brier 分数: 0.143972658031124\"\n"
     ]
    },
    {
     "name": "stderr",
     "output_type": "stream",
     "text": [
      "Setting levels: control = 0, case = 1\n",
      "\n",
      "Setting direction: controls < cases\n",
      "\n"
     ]
    },
    {
     "name": "stdout",
     "output_type": "stream",
     "text": [
      "[1] \"auc: 0.71803867881975\"\n",
      "[1] \"O/E 比率: 0.954085003966551\"\n",
      "[1] \"c_slope: 1.12061265233541\"\n",
      "[1] \"Brier 分数: 0.145150178063372\"\n"
     ]
    },
    {
     "name": "stderr",
     "output_type": "stream",
     "text": [
      "Setting levels: control = 0, case = 1\n",
      "\n",
      "Setting direction: controls < cases\n",
      "\n"
     ]
    },
    {
     "name": "stdout",
     "output_type": "stream",
     "text": [
      "[1] \"auc: 0.722429686124802\"\n",
      "[1] \"O/E 比率: 0.95194123163727\"\n",
      "[1] \"c_slope: 1.1502419019733\"\n",
      "[1] \"Brier 分数: 0.143549717552004\"\n"
     ]
    },
    {
     "name": "stderr",
     "output_type": "stream",
     "text": [
      "Setting levels: control = 0, case = 1\n",
      "\n",
      "Setting direction: controls < cases\n",
      "\n"
     ]
    },
    {
     "name": "stdout",
     "output_type": "stream",
     "text": [
      "[1] \"auc: 0.722153958920084\"\n",
      "[1] \"O/E 比率: 0.966644555034481\"\n",
      "[1] \"c_slope: 1.07606615180663\"\n",
      "[1] \"Brier 分数: 0.144415440636253\"\n"
     ]
    },
    {
     "name": "stderr",
     "output_type": "stream",
     "text": [
      "Setting levels: control = 0, case = 1\n",
      "\n",
      "Setting direction: controls < cases\n",
      "\n"
     ]
    },
    {
     "name": "stdout",
     "output_type": "stream",
     "text": [
      "[1] \"auc: 0.720078097496039\"\n",
      "[1] \"O/E 比率: 0.974347871495947\"\n",
      "[1] \"c_slope: 1.08305567701582\"\n",
      "[1] \"Brier 分数: 0.144464634425496\"\n"
     ]
    },
    {
     "name": "stderr",
     "output_type": "stream",
     "text": [
      "Setting levels: control = 0, case = 1\n",
      "\n",
      "Setting direction: controls < cases\n",
      "\n"
     ]
    },
    {
     "name": "stdout",
     "output_type": "stream",
     "text": [
      "[1] \"auc: 0.722290103524908\"\n",
      "[1] \"O/E 比率: 0.93500853073883\"\n",
      "[1] \"c_slope: 1.15020686716832\"\n",
      "[1] \"Brier 分数: 0.14393810877532\"\n"
     ]
    },
    {
     "name": "stderr",
     "output_type": "stream",
     "text": [
      "Setting levels: control = 0, case = 1\n",
      "\n",
      "Setting direction: controls < cases\n",
      "\n"
     ]
    },
    {
     "name": "stdout",
     "output_type": "stream",
     "text": [
      "[1] \"auc: 0.71998217743355\"\n",
      "[1] \"O/E 比率: 0.942716477341092\"\n",
      "[1] \"c_slope: 1.12894477725004\"\n",
      "[1] \"Brier 分数: 0.144326670308237\"\n"
     ]
    },
    {
     "name": "stderr",
     "output_type": "stream",
     "text": [
      "Setting levels: control = 0, case = 1\n",
      "\n",
      "Setting direction: controls < cases\n",
      "\n"
     ]
    },
    {
     "name": "stdout",
     "output_type": "stream",
     "text": [
      "[1] \"auc: 0.724495921162647\"\n",
      "[1] \"O/E 比率: 0.940429623994538\"\n",
      "[1] \"c_slope: 1.13554912622083\"\n",
      "[1] \"Brier 分数: 0.143616185623016\"\n"
     ]
    },
    {
     "name": "stderr",
     "output_type": "stream",
     "text": [
      "Setting levels: control = 0, case = 1\n",
      "\n",
      "Setting direction: controls < cases\n",
      "\n"
     ]
    },
    {
     "name": "stdout",
     "output_type": "stream",
     "text": [
      "[1] \"auc: 0.72113424958194\"\n",
      "[1] \"O/E 比率: 0.99862320702975\"\n",
      "[1] \"c_slope: 1.13519347179023\"\n",
      "[1] \"Brier 分数: 0.144337863874983\"\n"
     ]
    },
    {
     "name": "stderr",
     "output_type": "stream",
     "text": [
      "Setting levels: control = 0, case = 1\n",
      "\n",
      "Setting direction: controls < cases\n",
      "\n"
     ]
    },
    {
     "name": "stdout",
     "output_type": "stream",
     "text": [
      "[1] \"auc: 0.722919944221968\"\n",
      "[1] \"O/E 比率: 0.916355357492711\"\n",
      "[1] \"c_slope: 1.19019626153466\"\n",
      "[1] \"Brier 分数: 0.143980684821146\"\n"
     ]
    },
    {
     "name": "stderr",
     "output_type": "stream",
     "text": [
      "Setting levels: control = 0, case = 1\n",
      "\n",
      "Setting direction: controls < cases\n",
      "\n"
     ]
    },
    {
     "name": "stdout",
     "output_type": "stream",
     "text": [
      "[1] \"auc: 0.723714464882943\"\n",
      "[1] \"O/E 比率: 0.921126623341987\"\n",
      "[1] \"c_slope: 1.12164693371712\"\n",
      "[1] \"Brier 分数: 0.143391586526781\"\n"
     ]
    },
    {
     "name": "stderr",
     "output_type": "stream",
     "text": [
      "Setting levels: control = 0, case = 1\n",
      "\n",
      "Setting direction: controls < cases\n",
      "\n"
     ]
    },
    {
     "name": "stdout",
     "output_type": "stream",
     "text": [
      "[1] \"auc: 0.7217689034721\"\n",
      "[1] \"O/E 比率: 0.978057698912812\"\n",
      "[1] \"c_slope: 1.13606271413911\"\n",
      "[1] \"Brier 分数: 0.144157217829311\"\n"
     ]
    },
    {
     "name": "stderr",
     "output_type": "stream",
     "text": [
      "Setting levels: control = 0, case = 1\n",
      "\n",
      "Setting direction: controls < cases\n",
      "\n"
     ]
    },
    {
     "name": "stdout",
     "output_type": "stream",
     "text": [
      "[1] \"auc: 0.723838576505017\"\n",
      "[1] \"O/E 比率: 0.942538641107827\"\n",
      "[1] \"c_slope: 1.12582345169948\"\n",
      "[1] \"Brier 分数: 0.144271142505624\"\n"
     ]
    },
    {
     "name": "stderr",
     "output_type": "stream",
     "text": [
      "Setting levels: control = 0, case = 1\n",
      "\n",
      "Setting direction: controls < cases\n",
      "\n"
     ]
    },
    {
     "name": "stdout",
     "output_type": "stream",
     "text": [
      "[1] \"auc: 0.717643309386552\"\n",
      "[1] \"O/E 比率: 0.932798649809797\"\n",
      "[1] \"c_slope: 1.14837394210456\"\n",
      "[1] \"Brier 分数: 0.144505479672554\"\n"
     ]
    },
    {
     "name": "stderr",
     "output_type": "stream",
     "text": [
      "Setting levels: control = 0, case = 1\n",
      "\n",
      "Setting direction: controls < cases\n",
      "\n"
     ]
    },
    {
     "name": "stdout",
     "output_type": "stream",
     "text": [
      "[1] \"auc: 0.720299504378631\"\n",
      "[1] \"O/E 比率: 0.92792416991345\"\n",
      "[1] \"c_slope: 1.09205257721003\"\n",
      "[1] \"Brier 分数: 0.144530631792426\"\n"
     ]
    },
    {
     "name": "stderr",
     "output_type": "stream",
     "text": [
      "Setting levels: control = 0, case = 1\n",
      "\n",
      "Setting direction: controls < cases\n",
      "\n"
     ]
    },
    {
     "name": "stdout",
     "output_type": "stream",
     "text": [
      "[1] \"auc: 0.724190970999824\"\n",
      "[1] \"O/E 比率: 0.928551836922509\"\n",
      "[1] \"c_slope: 1.09662195158846\"\n",
      "[1] \"Brier 分数: 0.143920227858464\"\n"
     ]
    },
    {
     "name": "stderr",
     "output_type": "stream",
     "text": [
      "Setting levels: control = 0, case = 1\n",
      "\n",
      "Setting direction: controls < cases\n",
      "\n"
     ]
    },
    {
     "name": "stdout",
     "output_type": "stream",
     "text": [
      "[1] \"auc: 0.72153065041366\"\n",
      "[1] \"O/E 比率: 0.949929848595189\"\n",
      "[1] \"c_slope: 1.20306226711764\"\n",
      "[1] \"Brier 分数: 0.144311791308571\"\n"
     ]
    },
    {
     "name": "stderr",
     "output_type": "stream",
     "text": [
      "Setting levels: control = 0, case = 1\n",
      "\n",
      "Setting direction: controls < cases\n",
      "\n"
     ]
    },
    {
     "name": "stdout",
     "output_type": "stream",
     "text": [
      "[1] \"auc: 0.720544289627706\"\n",
      "[1] \"O/E 比率: 0.917946315597401\"\n",
      "[1] \"c_slope: 1.15455524522668\"\n",
      "[1] \"Brier 分数: 0.144489285320508\"\n"
     ]
    },
    {
     "name": "stderr",
     "output_type": "stream",
     "text": [
      "Setting levels: control = 0, case = 1\n",
      "\n",
      "Setting direction: controls < cases\n",
      "\n"
     ]
    },
    {
     "name": "stdout",
     "output_type": "stream",
     "text": [
      "[1] \"auc: 0.721349124273895\"\n",
      "[1] \"O/E 比率: 0.948139579045648\"\n",
      "[1] \"c_slope: 1.12930756943931\"\n",
      "[1] \"Brier 分数: 0.143983860823353\"\n"
     ]
    },
    {
     "name": "stderr",
     "output_type": "stream",
     "text": [
      "Setting levels: control = 0, case = 1\n",
      "\n",
      "Setting direction: controls < cases\n",
      "\n"
     ]
    },
    {
     "name": "stdout",
     "output_type": "stream",
     "text": [
      "[1] \"auc: 0.725093444706038\"\n",
      "[1] \"O/E 比率: 0.95656958525268\"\n",
      "[1] \"c_slope: 1.09443721125564\"\n",
      "[1] \"Brier 分数: 0.143129444964898\"\n"
     ]
    },
    {
     "name": "stderr",
     "output_type": "stream",
     "text": [
      "Setting levels: control = 0, case = 1\n",
      "\n",
      "Setting direction: controls < cases\n",
      "\n"
     ]
    },
    {
     "name": "stdout",
     "output_type": "stream",
     "text": [
      "[1] \"auc: 0.724095738536349\"\n",
      "[1] \"O/E 比率: 0.947684954199447\"\n",
      "[1] \"c_slope: 1.10663336215831\"\n",
      "[1] \"Brier 分数: 0.143679958270798\"\n"
     ]
    },
    {
     "name": "stderr",
     "output_type": "stream",
     "text": [
      "Setting levels: control = 0, case = 1\n",
      "\n",
      "Setting direction: controls < cases\n",
      "\n"
     ]
    },
    {
     "name": "stdout",
     "output_type": "stream",
     "text": [
      "[1] \"auc: 0.723603073842633\"\n",
      "[1] \"O/E 比率: 0.945050461773564\"\n",
      "[1] \"c_slope: 1.1514181056726\"\n",
      "[1] \"Brier 分数: 0.143137206727481\"\n"
     ]
    },
    {
     "name": "stderr",
     "output_type": "stream",
     "text": [
      "Setting levels: control = 0, case = 1\n",
      "\n",
      "Setting direction: controls < cases\n",
      "\n"
     ]
    },
    {
     "name": "stdout",
     "output_type": "stream",
     "text": [
      "[1] \"auc: 0.722959481165288\"\n",
      "[1] \"O/E 比率: 0.93438746071956\"\n",
      "[1] \"c_slope: 1.10631025704336\"\n",
      "[1] \"Brier 分数: 0.144205412012804\"\n"
     ]
    },
    {
     "name": "stderr",
     "output_type": "stream",
     "text": [
      "Setting levels: control = 0, case = 1\n",
      "\n",
      "Setting direction: controls < cases\n",
      "\n"
     ]
    },
    {
     "name": "stdout",
     "output_type": "stream",
     "text": [
      "[1] \"auc: 0.7205198798627\"\n",
      "[1] \"O/E 比率: 0.996772917123243\"\n",
      "[1] \"c_slope: 1.11752181885465\"\n",
      "[1] \"Brier 分数: 0.143928447738171\"\n"
     ]
    },
    {
     "name": "stderr",
     "output_type": "stream",
     "text": [
      "Setting levels: control = 0, case = 1\n",
      "\n",
      "Setting direction: controls < cases\n",
      "\n"
     ]
    },
    {
     "name": "stdout",
     "output_type": "stream",
     "text": [
      "[1] \"auc: 0.723850609487766\"\n",
      "[1] \"O/E 比率: 0.946718676044115\"\n",
      "[1] \"c_slope: 1.10665341069636\"\n",
      "[1] \"Brier 分数: 0.144039452437406\"\n"
     ]
    },
    {
     "name": "stderr",
     "output_type": "stream",
     "text": [
      "Setting levels: control = 0, case = 1\n",
      "\n",
      "Setting direction: controls < cases\n",
      "\n"
     ]
    },
    {
     "name": "stdout",
     "output_type": "stream",
     "text": [
      "[1] \"auc: 0.723599292048055\"\n",
      "[1] \"O/E 比率: 0.949450228574048\"\n",
      "[1] \"c_slope: 1.12630514361716\"\n",
      "[1] \"Brier 分数: 0.143340831402809\"\n"
     ]
    },
    {
     "name": "stderr",
     "output_type": "stream",
     "text": [
      "Setting levels: control = 0, case = 1\n",
      "\n",
      "Setting direction: controls < cases\n",
      "\n"
     ]
    },
    {
     "name": "stdout",
     "output_type": "stream",
     "text": [
      "[1] \"auc: 0.726524682054216\"\n",
      "[1] \"O/E 比率: 0.939857673358516\"\n",
      "[1] \"c_slope: 1.07171390148298\"\n",
      "[1] \"Brier 分数: 0.143150802343176\"\n"
     ]
    },
    {
     "name": "stderr",
     "output_type": "stream",
     "text": [
      "Setting levels: control = 0, case = 1\n",
      "\n",
      "Setting direction: controls < cases\n",
      "\n"
     ]
    },
    {
     "name": "stdout",
     "output_type": "stream",
     "text": [
      "[1] \"auc: 0.720300191977645\"\n",
      "[1] \"O/E 比率: 0.931278153621734\"\n",
      "[1] \"c_slope: 1.10302609029454\"\n",
      "[1] \"Brier 分数: 0.144043592597546\"\n"
     ]
    },
    {
     "name": "stderr",
     "output_type": "stream",
     "text": [
      "Setting levels: control = 0, case = 1\n",
      "\n",
      "Setting direction: controls < cases\n",
      "\n"
     ]
    },
    {
     "name": "stdout",
     "output_type": "stream",
     "text": [
      "[1] \"auc: 0.722710570322126\"\n",
      "[1] \"O/E 比率: 0.936914439398813\"\n",
      "[1] \"c_slope: 1.09250146889405\"\n",
      "[1] \"Brier 分数: 0.143627718309666\"\n"
     ]
    },
    {
     "name": "stderr",
     "output_type": "stream",
     "text": [
      "Setting levels: control = 0, case = 1\n",
      "\n",
      "Setting direction: controls < cases\n",
      "\n"
     ]
    },
    {
     "name": "stdout",
     "output_type": "stream",
     "text": [
      "[1] \"auc: 0.722897253454497\"\n",
      "[1] \"O/E 比率: 0.982221931858414\"\n",
      "[1] \"c_slope: 1.16190616601077\"\n",
      "[1] \"Brier 分数: 0.143634394951869\"\n"
     ]
    },
    {
     "name": "stderr",
     "output_type": "stream",
     "text": [
      "Setting levels: control = 0, case = 1\n",
      "\n",
      "Setting direction: controls < cases\n",
      "\n"
     ]
    },
    {
     "name": "stdout",
     "output_type": "stream",
     "text": [
      "[1] \"auc: 0.725496377728393\"\n",
      "[1] \"O/E 比率: 0.916079052560281\"\n",
      "[1] \"c_slope: 1.10217313605414\"\n",
      "[1] \"Brier 分数: 0.143247526573393\"\n"
     ]
    },
    {
     "name": "stderr",
     "output_type": "stream",
     "text": [
      "Setting levels: control = 0, case = 1\n",
      "\n",
      "Setting direction: controls < cases\n",
      "\n"
     ]
    },
    {
     "name": "stdout",
     "output_type": "stream",
     "text": [
      "[1] \"auc: 0.721953180007921\"\n",
      "[1] \"O/E 比率: 0.92130657213732\"\n",
      "[1] \"c_slope: 1.062667438423\"\n",
      "[1] \"Brier 分数: 0.144253989424493\"\n"
     ]
    },
    {
     "name": "stderr",
     "output_type": "stream",
     "text": [
      "Setting levels: control = 0, case = 1\n",
      "\n",
      "Setting direction: controls < cases\n",
      "\n"
     ]
    },
    {
     "name": "stdout",
     "output_type": "stream",
     "text": [
      "[1] \"auc: 0.724153496853547\"\n",
      "[1] \"O/E 比率: 0.939756108400141\"\n",
      "[1] \"c_slope: 1.15375756134345\"\n",
      "[1] \"Brier 分数: 0.143721777116183\"\n"
     ]
    },
    {
     "name": "stderr",
     "output_type": "stream",
     "text": [
      "Setting levels: control = 0, case = 1\n",
      "\n",
      "Setting direction: controls < cases\n",
      "\n"
     ]
    },
    {
     "name": "stdout",
     "output_type": "stream",
     "text": [
      "[1] \"auc: 0.722839151337793\"\n",
      "[1] \"O/E 比率: 0.9665635637832\"\n",
      "[1] \"c_slope: 1.13595996272536\"\n",
      "[1] \"Brier 分数: 0.144270421151859\"\n"
     ]
    },
    {
     "name": "stderr",
     "output_type": "stream",
     "text": [
      "Setting levels: control = 0, case = 1\n",
      "\n",
      "Setting direction: controls < cases\n",
      "\n"
     ]
    },
    {
     "name": "stdout",
     "output_type": "stream",
     "text": [
      "[1] \"auc: 0.722064227248724\"\n",
      "[1] \"O/E 比率: 0.936994928050364\"\n",
      "[1] \"c_slope: 1.08541082052331\"\n",
      "[1] \"Brier 分数: 0.144027085579424\"\n"
     ]
    },
    {
     "name": "stderr",
     "output_type": "stream",
     "text": [
      "Setting levels: control = 0, case = 1\n",
      "\n",
      "Setting direction: controls < cases\n",
      "\n"
     ]
    },
    {
     "name": "stdout",
     "output_type": "stream",
     "text": [
      "[1] \"auc: 0.722468535469108\"\n",
      "[1] \"O/E 比率: 0.973133674464982\"\n",
      "[1] \"c_slope: 1.11321656745095\"\n",
      "[1] \"Brier 分数: 0.144592597571019\"\n"
     ]
    },
    {
     "name": "stderr",
     "output_type": "stream",
     "text": [
      "Setting levels: control = 0, case = 1\n",
      "\n",
      "Setting direction: controls < cases\n",
      "\n"
     ]
    },
    {
     "name": "stdout",
     "output_type": "stream",
     "text": [
      "[1] \"auc: 0.722993173516986\"\n",
      "[1] \"O/E 比率: 0.946190749779821\"\n",
      "[1] \"c_slope: 1.03800502065717\"\n",
      "[1] \"Brier 分数: 0.144077247009128\"\n"
     ]
    },
    {
     "name": "stderr",
     "output_type": "stream",
     "text": [
      "Setting levels: control = 0, case = 1\n",
      "\n",
      "Setting direction: controls < cases\n",
      "\n"
     ]
    },
    {
     "name": "stdout",
     "output_type": "stream",
     "text": [
      "[1] \"auc: 0.722394962374582\"\n",
      "[1] \"O/E 比率: 0.940282483766385\"\n",
      "[1] \"c_slope: 1.10303936145203\"\n",
      "[1] \"Brier 分数: 0.143162858652764\"\n"
     ]
    },
    {
     "name": "stderr",
     "output_type": "stream",
     "text": [
      "Setting levels: control = 0, case = 1\n",
      "\n",
      "Setting direction: controls < cases\n",
      "\n"
     ]
    },
    {
     "name": "stdout",
     "output_type": "stream",
     "text": [
      "[1] \"auc: 0.721926707445872\"\n",
      "[1] \"O/E 比率: 0.962439326210912\"\n",
      "[1] \"c_slope: 1.07745086357261\"\n",
      "[1] \"Brier 分数: 0.144190496328131\"\n"
     ]
    },
    {
     "name": "stderr",
     "output_type": "stream",
     "text": [
      "Setting levels: control = 0, case = 1\n",
      "\n",
      "Setting direction: controls < cases\n",
      "\n"
     ]
    },
    {
     "name": "stdout",
     "output_type": "stream",
     "text": [
      "[1] \"auc: 0.724987554457842\"\n",
      "[1] \"O/E 比率: 0.947950267405674\"\n",
      "[1] \"c_slope: 1.0966237402517\"\n",
      "[1] \"Brier 分数: 0.143780921646184\"\n"
     ]
    },
    {
     "name": "stderr",
     "output_type": "stream",
     "text": [
      "Setting levels: control = 0, case = 1\n",
      "\n",
      "Setting direction: controls < cases\n",
      "\n"
     ]
    },
    {
     "name": "stdout",
     "output_type": "stream",
     "text": [
      "[1] \"auc: 0.723762596813941\"\n",
      "[1] \"O/E 比率: 0.959804194904118\"\n",
      "[1] \"c_slope: 1.11160968305291\"\n",
      "[1] \"Brier 分数: 0.143882745852274\"\n"
     ]
    },
    {
     "name": "stderr",
     "output_type": "stream",
     "text": [
      "Setting levels: control = 0, case = 1\n",
      "\n",
      "Setting direction: controls < cases\n",
      "\n"
     ]
    },
    {
     "name": "stdout",
     "output_type": "stream",
     "text": [
      "[1] \"auc: 0.719232694508009\"\n",
      "[1] \"O/E 比率: 0.944181902135075\"\n",
      "[1] \"c_slope: 1.0848243608671\"\n",
      "[1] \"Brier 分数: 0.144706734597036\"\n"
     ]
    },
    {
     "name": "stderr",
     "output_type": "stream",
     "text": [
      "Setting levels: control = 0, case = 1\n",
      "\n",
      "Setting direction: controls < cases\n",
      "\n"
     ]
    },
    {
     "name": "stdout",
     "output_type": "stream",
     "text": [
      "[1] \"auc: 0.724834219877662\"\n",
      "[1] \"O/E 比率: 0.975669242157395\"\n",
      "[1] \"c_slope: 1.11655852922506\"\n",
      "[1] \"Brier 分数: 0.144134585110917\"\n"
     ]
    },
    {
     "name": "stderr",
     "output_type": "stream",
     "text": [
      "Setting levels: control = 0, case = 1\n",
      "\n",
      "Setting direction: controls < cases\n",
      "\n"
     ]
    },
    {
     "name": "stdout",
     "output_type": "stream",
     "text": [
      "[1] \"auc: 0.723756064623306\"\n",
      "[1] \"O/E 比率: 0.952427396077917\"\n",
      "[1] \"c_slope: 1.07337975668025\"\n",
      "[1] \"Brier 分数: 0.143974988843967\"\n"
     ]
    },
    {
     "name": "stderr",
     "output_type": "stream",
     "text": [
      "Setting levels: control = 0, case = 1\n",
      "\n",
      "Setting direction: controls < cases\n",
      "\n"
     ]
    },
    {
     "name": "stdout",
     "output_type": "stream",
     "text": [
      "[1] \"auc: 0.720746787537405\"\n",
      "[1] \"O/E 比率: 0.956272279179515\"\n",
      "[1] \"c_slope: 1.10676445707775\"\n",
      "[1] \"Brier 分数: 0.144508100983273\"\n"
     ]
    },
    {
     "name": "stderr",
     "output_type": "stream",
     "text": [
      "Setting levels: control = 0, case = 1\n",
      "\n",
      "Setting direction: controls < cases\n",
      "\n"
     ]
    },
    {
     "name": "stdout",
     "output_type": "stream",
     "text": [
      "[1] \"auc: 0.722745981671361\"\n",
      "[1] \"O/E 比率: 0.952333917997747\"\n",
      "[1] \"c_slope: 1.11263300967136\"\n",
      "[1] \"Brier 分数: 0.143683669451974\"\n"
     ]
    },
    {
     "name": "stderr",
     "output_type": "stream",
     "text": [
      "Setting levels: control = 0, case = 1\n",
      "\n",
      "Setting direction: controls < cases\n",
      "\n"
     ]
    },
    {
     "name": "stdout",
     "output_type": "stream",
     "text": [
      "[1] \"auc: 0.718894739592501\"\n",
      "[1] \"O/E 比率: 0.956988487265313\"\n",
      "[1] \"c_slope: 1.04963173840674\"\n",
      "[1] \"Brier 分数: 0.144370141915734\"\n"
     ]
    },
    {
     "name": "stderr",
     "output_type": "stream",
     "text": [
      "Setting levels: control = 0, case = 1\n",
      "\n",
      "Setting direction: controls < cases\n",
      "\n"
     ]
    },
    {
     "name": "stdout",
     "output_type": "stream",
     "text": [
      "[1] \"auc: 0.717396117540926\"\n",
      "[1] \"O/E 比率: 0.970640037649627\"\n",
      "[1] \"c_slope: 1.09468304924476\"\n",
      "[1] \"Brier 分数: 0.144080137036549\"\n"
     ]
    },
    {
     "name": "stderr",
     "output_type": "stream",
     "text": [
      "Setting levels: control = 0, case = 1\n",
      "\n",
      "Setting direction: controls < cases\n",
      "\n"
     ]
    },
    {
     "name": "stdout",
     "output_type": "stream",
     "text": [
      "[1] \"auc: 0.721298585746347\"\n",
      "[1] \"O/E 比率: 0.954181696173801\"\n",
      "[1] \"c_slope: 1.05540662479841\"\n",
      "[1] \"Brier 分数: 0.144244264018458\"\n"
     ]
    },
    {
     "name": "stderr",
     "output_type": "stream",
     "text": [
      "Setting levels: control = 0, case = 1\n",
      "\n",
      "Setting direction: controls < cases\n",
      "\n"
     ]
    },
    {
     "name": "stdout",
     "output_type": "stream",
     "text": [
      "[1] \"auc: 0.722116484773807\"\n",
      "[1] \"O/E 比率: 0.925569631529071\"\n",
      "[1] \"c_slope: 1.08090189375404\"\n",
      "[1] \"Brier 分数: 0.143600830573917\"\n"
     ]
    },
    {
     "name": "stderr",
     "output_type": "stream",
     "text": [
      "Setting levels: control = 0, case = 1\n",
      "\n",
      "Setting direction: controls < cases\n",
      "\n"
     ]
    },
    {
     "name": "stdout",
     "output_type": "stream",
     "text": [
      "[1] \"auc: 0.72046246534501\"\n",
      "[1] \"O/E 比率: 0.96090975753423\"\n",
      "[1] \"c_slope: 1.00455446982937\"\n",
      "[1] \"Brier 分数: 0.144472420636719\"\n"
     ]
    },
    {
     "name": "stderr",
     "output_type": "stream",
     "text": [
      "Setting levels: control = 0, case = 1\n",
      "\n",
      "Setting direction: controls < cases\n",
      "\n"
     ]
    },
    {
     "name": "stdout",
     "output_type": "stream",
     "text": [
      "[1] \"auc: 0.721698424573138\"\n",
      "[1] \"O/E 比率: 0.96136414561673\"\n",
      "[1] \"c_slope: 1.10193904147079\"\n",
      "[1] \"Brier 分数: 0.144086078612814\"\n"
     ]
    },
    {
     "name": "stderr",
     "output_type": "stream",
     "text": [
      "Setting levels: control = 0, case = 1\n",
      "\n",
      "Setting direction: controls < cases\n",
      "\n"
     ]
    },
    {
     "name": "stdout",
     "output_type": "stream",
     "text": [
      "[1] \"auc: 0.723037179853899\"\n",
      "[1] \"O/E 比率: 0.943879135160189\"\n",
      "[1] \"c_slope: 1.09897779408157\"\n",
      "[1] \"Brier 分数: 0.143384086203433\"\n"
     ]
    },
    {
     "name": "stderr",
     "output_type": "stream",
     "text": [
      "Setting levels: control = 0, case = 1\n",
      "\n",
      "Setting direction: controls < cases\n",
      "\n"
     ]
    },
    {
     "name": "stdout",
     "output_type": "stream",
     "text": [
      "[1] \"auc: 0.718654079937511\"\n",
      "[1] \"O/E 比率: 0.993280138166812\"\n",
      "[1] \"c_slope: 1.12681906846669\"\n",
      "[1] \"Brier 分数: 0.144780760153249\"\n"
     ]
    },
    {
     "name": "stderr",
     "output_type": "stream",
     "text": [
      "Setting levels: control = 0, case = 1\n",
      "\n",
      "Setting direction: controls < cases\n",
      "\n"
     ]
    },
    {
     "name": "stdout",
     "output_type": "stream",
     "text": [
      "[1] \"auc: 0.717911473002112\"\n",
      "[1] \"O/E 比率: 1.00279136639367\"\n",
      "[1] \"c_slope: 1.07250007396531\"\n",
      "[1] \"Brier 分数: 0.144461366000254\"\n"
     ]
    },
    {
     "name": "stderr",
     "output_type": "stream",
     "text": [
      "Setting levels: control = 0, case = 1\n",
      "\n",
      "Setting direction: controls < cases\n",
      "\n"
     ]
    },
    {
     "name": "stdout",
     "output_type": "stream",
     "text": [
      "[1] \"auc: 0.719230287911459\"\n",
      "[1] \"O/E 比率: 0.962484841673595\"\n",
      "[1] \"c_slope: 1.14048728913734\"\n",
      "[1] \"Brier 分数: 0.144620815927675\"\n"
     ]
    },
    {
     "name": "stderr",
     "output_type": "stream",
     "text": [
      "Setting levels: control = 0, case = 1\n",
      "\n",
      "Setting direction: controls < cases\n",
      "\n"
     ]
    },
    {
     "name": "stdout",
     "output_type": "stream",
     "text": [
      "[1] \"auc: 0.722637341027108\"\n",
      "[1] \"O/E 比率: 0.949287826400792\"\n",
      "[1] \"c_slope: 1.07481834771978\"\n",
      "[1] \"Brier 分数: 0.144126472325277\"\n"
     ]
    },
    {
     "name": "stderr",
     "output_type": "stream",
     "text": [
      "Setting levels: control = 0, case = 1\n",
      "\n",
      "Setting direction: controls < cases\n",
      "\n"
     ]
    },
    {
     "name": "stdout",
     "output_type": "stream",
     "text": [
      "[1] \"auc: 0.723892553027636\"\n",
      "[1] \"O/E 比率: 0.929914668054692\"\n",
      "[1] \"c_slope: 1.1032034828295\"\n",
      "[1] \"Brier 分数: 0.144145256594421\"\n"
     ]
    },
    {
     "name": "stderr",
     "output_type": "stream",
     "text": [
      "Setting levels: control = 0, case = 1\n",
      "\n",
      "Setting direction: controls < cases\n",
      "\n"
     ]
    },
    {
     "name": "stdout",
     "output_type": "stream",
     "text": [
      "[1] \"auc: 0.720268218623482\"\n",
      "[1] \"O/E 比率: 0.982895046353532\"\n",
      "[1] \"c_slope: 1.11652225548333\"\n",
      "[1] \"Brier 分数: 0.144073149166793\"\n"
     ]
    },
    {
     "name": "stderr",
     "output_type": "stream",
     "text": [
      "Setting levels: control = 0, case = 1\n",
      "\n",
      "Setting direction: controls < cases\n",
      "\n"
     ]
    },
    {
     "name": "stdout",
     "output_type": "stream",
     "text": [
      "[1] \"auc: 0.721274175981341\"\n",
      "[1] \"O/E 比率: 0.938164169446532\"\n",
      "[1] \"c_slope: 1.10400199379234\"\n",
      "[1] \"Brier 分数: 0.144203544451265\"\n"
     ]
    },
    {
     "name": "stderr",
     "output_type": "stream",
     "text": [
      "Setting levels: control = 0, case = 1\n",
      "\n",
      "Setting direction: controls < cases\n",
      "\n"
     ]
    },
    {
     "name": "stdout",
     "output_type": "stream",
     "text": [
      "[1] \"auc: 0.723521937158951\"\n",
      "[1] \"O/E 比率: 0.934089437250879\"\n",
      "[1] \"c_slope: 1.14074953802532\"\n",
      "[1] \"Brier 分数: 0.143937281931048\"\n"
     ]
    },
    {
     "name": "stderr",
     "output_type": "stream",
     "text": [
      "Setting levels: control = 0, case = 1\n",
      "\n",
      "Setting direction: controls < cases\n",
      "\n"
     ]
    },
    {
     "name": "stdout",
     "output_type": "stream",
     "text": [
      "[1] \"auc: 0.717164052873614\"\n",
      "[1] \"O/E 比率: 0.964334352530666\"\n",
      "[1] \"c_slope: 1.09735346743516\"\n",
      "[1] \"Brier 分数: 0.144744111860278\"\n"
     ]
    },
    {
     "name": "stderr",
     "output_type": "stream",
     "text": [
      "Setting levels: control = 0, case = 1\n",
      "\n",
      "Setting direction: controls < cases\n",
      "\n"
     ]
    },
    {
     "name": "stdout",
     "output_type": "stream",
     "text": [
      "[1] \"auc: 0.726139282806724\"\n",
      "[1] \"O/E 比率: 0.93574069453059\"\n",
      "[1] \"c_slope: 1.09274487728616\"\n",
      "[1] \"Brier 分数: 0.143439181142784\"\n"
     ]
    },
    {
     "name": "stderr",
     "output_type": "stream",
     "text": [
      "Setting levels: control = 0, case = 1\n",
      "\n",
      "Setting direction: controls < cases\n",
      "\n"
     ]
    },
    {
     "name": "stdout",
     "output_type": "stream",
     "text": [
      "[1] \"auc: 0.722477130456786\"\n",
      "[1] \"O/E 比率: 0.942563585613539\"\n",
      "[1] \"c_slope: 1.21358825032261\"\n",
      "[1] \"Brier 分数: 0.144065053617198\"\n"
     ]
    },
    {
     "name": "stderr",
     "output_type": "stream",
     "text": [
      "Setting levels: control = 0, case = 1\n",
      "\n",
      "Setting direction: controls < cases\n",
      "\n"
     ]
    },
    {
     "name": "stdout",
     "output_type": "stream",
     "text": [
      "[1] \"auc: 0.725442745005281\"\n",
      "[1] \"O/E 比率: 0.940199779918166\"\n",
      "[1] \"c_slope: 1.13747858806556\"\n",
      "[1] \"Brier 分数: 0.143606554813263\"\n"
     ]
    },
    {
     "name": "stderr",
     "output_type": "stream",
     "text": [
      "Setting levels: control = 0, case = 1\n",
      "\n",
      "Setting direction: controls < cases\n",
      "\n"
     ]
    },
    {
     "name": "stdout",
     "output_type": "stream",
     "text": [
      "[1] \"auc: 0.722732573490583\"\n",
      "[1] \"O/E 比率: 0.939562374021462\"\n",
      "[1] \"c_slope: 1.1169706008017\"\n",
      "[1] \"Brier 分数: 0.144101122806476\"\n"
     ]
    },
    {
     "name": "stderr",
     "output_type": "stream",
     "text": [
      "Setting levels: control = 0, case = 1\n",
      "\n",
      "Setting direction: controls < cases\n",
      "\n"
     ]
    },
    {
     "name": "stdout",
     "output_type": "stream",
     "text": [
      "[1] \"auc: 0.72166954541454\"\n",
      "[1] \"O/E 比率: 0.97794240795041\"\n",
      "[1] \"c_slope: 1.07614851647952\"\n",
      "[1] \"Brier 分数: 0.144165879654861\"\n"
     ]
    },
    {
     "name": "stderr",
     "output_type": "stream",
     "text": [
      "Setting levels: control = 0, case = 1\n",
      "\n",
      "Setting direction: controls < cases\n",
      "\n"
     ]
    },
    {
     "name": "stdout",
     "output_type": "stream",
     "text": [
      "[1] \"auc: 0.720956161437247\"\n",
      "[1] \"O/E 比率: 0.930324105113612\"\n",
      "[1] \"c_slope: 1.12945209141939\"\n",
      "[1] \"Brier 分数: 0.144555697924307\"\n"
     ]
    },
    {
     "name": "stderr",
     "output_type": "stream",
     "text": [
      "Setting levels: control = 0, case = 1\n",
      "\n",
      "Setting direction: controls < cases\n",
      "\n"
     ]
    },
    {
     "name": "stdout",
     "output_type": "stream",
     "text": [
      "[1] \"auc: 0.725394613074283\"\n",
      "[1] \"O/E 比率: 0.983345257537347\"\n",
      "[1] \"c_slope: 1.08115012704127\"\n",
      "[1] \"Brier 分数: 0.143314184185012\"\n"
     ]
    },
    {
     "name": "stderr",
     "output_type": "stream",
     "text": [
      "Setting levels: control = 0, case = 1\n",
      "\n",
      "Setting direction: controls < cases\n",
      "\n"
     ]
    },
    {
     "name": "stdout",
     "output_type": "stream",
     "text": [
      "[1] \"auc: 0.722589896695124\"\n",
      "[1] \"O/E 比率: 0.913534624240138\"\n",
      "[1] \"c_slope: 1.10495976345052\"\n",
      "[1] \"Brier 分数: 0.144141857911578\"\n"
     ]
    },
    {
     "name": "stderr",
     "output_type": "stream",
     "text": [
      "Setting levels: control = 0, case = 1\n",
      "\n",
      "Setting direction: controls < cases\n",
      "\n"
     ]
    },
    {
     "name": "stdout",
     "output_type": "stream",
     "text": [
      "[1] \"auc: 0.724062733783665\"\n",
      "[1] \"O/E 比率: 0.948270310569475\"\n",
      "[1] \"c_slope: 1.04433328124975\"\n",
      "[1] \"Brier 分数: 0.143689029822863\"\n"
     ]
    },
    {
     "name": "stderr",
     "output_type": "stream",
     "text": [
      "Setting levels: control = 0, case = 1\n",
      "\n",
      "Setting direction: controls < cases\n",
      "\n"
     ]
    },
    {
     "name": "stdout",
     "output_type": "stream",
     "text": [
      "[1] \"auc: 0.724239446730329\"\n",
      "[1] \"O/E 比率: 0.965167791483347\"\n",
      "[1] \"c_slope: 1.07202873633232\"\n",
      "[1] \"Brier 分数: 0.143918515243462\"\n"
     ]
    },
    {
     "name": "stderr",
     "output_type": "stream",
     "text": [
      "Setting levels: control = 0, case = 1\n",
      "\n",
      "Setting direction: controls < cases\n",
      "\n"
     ]
    },
    {
     "name": "stdout",
     "output_type": "stream",
     "text": [
      "[1] \"auc: 0.722276007745115\"\n",
      "[1] \"O/E 比率: 0.90961970893234\"\n",
      "[1] \"c_slope: 1.13988591895114\"\n",
      "[1] \"Brier 分数: 0.14417481934815\"\n"
     ]
    },
    {
     "name": "stderr",
     "output_type": "stream",
     "text": [
      "Setting levels: control = 0, case = 1\n",
      "\n",
      "Setting direction: controls < cases\n",
      "\n"
     ]
    },
    {
     "name": "stdout",
     "output_type": "stream",
     "text": [
      "[1] \"auc: 0.723615106825383\"\n",
      "[1] \"O/E 比率: 0.96106419329145\"\n",
      "[1] \"c_slope: 1.0813153575365\"\n",
      "[1] \"Brier 分数: 0.143686736024329\"\n"
     ]
    },
    {
     "name": "stderr",
     "output_type": "stream",
     "text": [
      "Setting levels: control = 0, case = 1\n",
      "\n",
      "Setting direction: controls < cases\n",
      "\n"
     ]
    },
    {
     "name": "stdout",
     "output_type": "stream",
     "text": [
      "[1] \"auc: 0.724055170194508\"\n",
      "[1] \"O/E 比率: 0.940407606764129\"\n",
      "[1] \"c_slope: 1.14229509626277\"\n",
      "[1] \"Brier 分数: 0.143577782262443\"\n"
     ]
    },
    {
     "name": "stderr",
     "output_type": "stream",
     "text": [
      "Setting levels: control = 0, case = 1\n",
      "\n",
      "Setting direction: controls < cases\n",
      "\n"
     ]
    },
    {
     "name": "stdout",
     "output_type": "stream",
     "text": [
      "[1] \"auc: 0.724089550145221\"\n",
      "[1] \"O/E 比率: 0.903232146414022\"\n",
      "[1] \"c_slope: 1.07904818767505\"\n",
      "[1] \"Brier 分数: 0.144101822454431\"\n"
     ]
    },
    {
     "name": "stderr",
     "output_type": "stream",
     "text": [
      "Setting levels: control = 0, case = 1\n",
      "\n",
      "Setting direction: controls < cases\n",
      "\n"
     ]
    },
    {
     "name": "stdout",
     "output_type": "stream",
     "text": [
      "[1] \"auc: 0.722264318561873\"\n",
      "[1] \"O/E 比率: 0.964660573648963\"\n",
      "[1] \"c_slope: 1.07283696096592\"\n",
      "[1] \"Brier 分数: 0.144094804628681\"\n"
     ]
    },
    {
     "name": "stderr",
     "output_type": "stream",
     "text": [
      "Setting levels: control = 0, case = 1\n",
      "\n",
      "Setting direction: controls < cases\n",
      "\n"
     ]
    },
    {
     "name": "stdout",
     "output_type": "stream",
     "text": [
      "[1] \"auc: 0.723870206059673\"\n",
      "[1] \"O/E 比率: 0.913924706876278\"\n",
      "[1] \"c_slope: 1.1076199535754\"\n",
      "[1] \"Brier 分数: 0.143953192018228\"\n"
     ]
    },
    {
     "name": "stderr",
     "output_type": "stream",
     "text": [
      "Setting levels: control = 0, case = 1\n",
      "\n",
      "Setting direction: controls < cases\n",
      "\n"
     ]
    },
    {
     "name": "stdout",
     "output_type": "stream",
     "text": [
      "[1] \"auc: 0.721830787383383\"\n",
      "[1] \"O/E 比率: 0.96693533376709\"\n",
      "[1] \"c_slope: 1.16568088663601\"\n",
      "[1] \"Brier 分数: 0.144283067818825\"\n"
     ]
    },
    {
     "name": "stderr",
     "output_type": "stream",
     "text": [
      "Setting levels: control = 0, case = 1\n",
      "\n",
      "Setting direction: controls < cases\n",
      "\n"
     ]
    },
    {
     "name": "stdout",
     "output_type": "stream",
     "text": [
      "[1] \"auc: 0.718197514192044\"\n",
      "[1] \"O/E 比率: 0.947462237315821\"\n",
      "[1] \"c_slope: 1.14587034686801\"\n",
      "[1] \"Brier 分数: 0.144487146314591\"\n"
     ]
    },
    {
     "name": "stderr",
     "output_type": "stream",
     "text": [
      "Setting levels: control = 0, case = 1\n",
      "\n",
      "Setting direction: controls < cases\n",
      "\n"
     ]
    },
    {
     "name": "stdout",
     "output_type": "stream",
     "text": [
      "[1] \"auc: 0.72134981187291\"\n",
      "[1] \"O/E 比率: 0.978121970968875\"\n",
      "[1] \"c_slope: 1.09614718375644\"\n",
      "[1] \"Brier 分数: 0.144036766317093\"\n"
     ]
    },
    {
     "name": "stderr",
     "output_type": "stream",
     "text": [
      "Setting levels: control = 0, case = 1\n",
      "\n",
      "Setting direction: controls < cases\n",
      "\n"
     ]
    },
    {
     "name": "stdout",
     "output_type": "stream",
     "text": [
      "[1] \"auc: 0.721403444596022\"\n",
      "[1] \"O/E 比率: 0.986318786756561\"\n",
      "[1] \"c_slope: 1.12436184340983\"\n",
      "[1] \"Brier 分数: 0.144314653146403\"\n"
     ]
    },
    {
     "name": "stderr",
     "output_type": "stream",
     "text": [
      "Setting levels: control = 0, case = 1\n",
      "\n",
      "Setting direction: controls < cases\n",
      "\n"
     ]
    },
    {
     "name": "stdout",
     "output_type": "stream",
     "text": [
      "[1] \"auc: 0.721918456257701\"\n",
      "[1] \"O/E 比率: 0.937816647135409\"\n",
      "[1] \"c_slope: 1.09562887445402\"\n",
      "[1] \"Brier 分数: 0.143943610301889\"\n"
     ]
    },
    {
     "name": "stderr",
     "output_type": "stream",
     "text": [
      "Setting levels: control = 0, case = 1\n",
      "\n",
      "Setting direction: controls < cases\n",
      "\n"
     ]
    },
    {
     "name": "stdout",
     "output_type": "stream",
     "text": [
      "[1] \"auc: 0.722797895396937\"\n",
      "[1] \"O/E 比率: 0.977495898027762\"\n",
      "[1] \"c_slope: 1.11820349852182\"\n",
      "[1] \"Brier 分数: 0.144080147958763\"\n"
     ]
    },
    {
     "name": "stderr",
     "output_type": "stream",
     "text": [
      "Setting levels: control = 0, case = 1\n",
      "\n",
      "Setting direction: controls < cases\n",
      "\n"
     ]
    },
    {
     "name": "stdout",
     "output_type": "stream",
     "text": [
      "[1] \"auc: 0.724377310332688\"\n",
      "[1] \"O/E 比率: 0.950125233421134\"\n",
      "[1] \"c_slope: 1.15224986964413\"\n",
      "[1] \"Brier 分数: 0.143847282863022\"\n"
     ]
    },
    {
     "name": "stderr",
     "output_type": "stream",
     "text": [
      "Setting levels: control = 0, case = 1\n",
      "\n",
      "Setting direction: controls < cases\n",
      "\n"
     ]
    },
    {
     "name": "stdout",
     "output_type": "stream",
     "text": [
      "[1] \"auc: 0.722833994345186\"\n",
      "[1] \"O/E 比率: 0.932686879170178\"\n",
      "[1] \"c_slope: 1.12473347940927\"\n",
      "[1] \"Brier 分数: 0.143943776091628\"\n"
     ]
    },
    {
     "name": "stderr",
     "output_type": "stream",
     "text": [
      "Setting levels: control = 0, case = 1\n",
      "\n",
      "Setting direction: controls < cases\n",
      "\n"
     ]
    },
    {
     "name": "stdout",
     "output_type": "stream",
     "text": [
      "[1] \"auc: 0.721582907938743\"\n",
      "[1] \"O/E 比率: 0.922262049867031\"\n",
      "[1] \"c_slope: 1.13949276481258\"\n",
      "[1] \"Brier 分数: 0.144543533540253\"\n"
     ]
    },
    {
     "name": "stderr",
     "output_type": "stream",
     "text": [
      "Setting levels: control = 0, case = 1\n",
      "\n",
      "Setting direction: controls < cases\n",
      "\n"
     ]
    },
    {
     "name": "stdout",
     "output_type": "stream",
     "text": [
      "[1] \"auc: 0.72077738569354\"\n",
      "[1] \"O/E 比率: 0.930837631697721\"\n",
      "[1] \"c_slope: 1.06381756963653\"\n",
      "[1] \"Brier 分数: 0.144612067493107\"\n"
     ]
    },
    {
     "name": "stderr",
     "output_type": "stream",
     "text": [
      "Setting levels: control = 0, case = 1\n",
      "\n",
      "Setting direction: controls < cases\n",
      "\n"
     ]
    },
    {
     "name": "stdout",
     "output_type": "stream",
     "text": [
      "[1] \"auc: 0.721943209822214\"\n",
      "[1] \"O/E 比率: 0.943883213610853\"\n",
      "[1] \"c_slope: 1.1472648544093\"\n",
      "[1] \"Brier 分数: 0.144326677584573\"\n"
     ]
    },
    {
     "name": "stderr",
     "output_type": "stream",
     "text": [
      "Setting levels: control = 0, case = 1\n",
      "\n",
      "Setting direction: controls < cases\n",
      "\n"
     ]
    },
    {
     "name": "stdout",
     "output_type": "stream",
     "text": [
      "[1] \"auc: 0.719156027217919\"\n",
      "[1] \"O/E 比率: 0.936396908446863\"\n",
      "[1] \"c_slope: 1.16546131739368\"\n",
      "[1] \"Brier 分数: 0.144361146129575\"\n"
     ]
    },
    {
     "name": "stderr",
     "output_type": "stream",
     "text": [
      "Setting levels: control = 0, case = 1\n",
      "\n",
      "Setting direction: controls < cases\n",
      "\n"
     ]
    },
    {
     "name": "stdout",
     "output_type": "stream",
     "text": [
      "[1] \"auc: 0.722531794578419\"\n",
      "[1] \"O/E 比率: 0.929129940062695\"\n",
      "[1] \"c_slope: 1.04149651374153\"\n",
      "[1] \"Brier 分数: 0.144181731544004\"\n"
     ]
    },
    {
     "name": "stderr",
     "output_type": "stream",
     "text": [
      "Setting levels: control = 0, case = 1\n",
      "\n",
      "Setting direction: controls < cases\n",
      "\n"
     ]
    },
    {
     "name": "stdout",
     "output_type": "stream",
     "text": [
      "[1] \"auc: 0.722243002992431\"\n",
      "[1] \"O/E 比率: 0.941779550016595\"\n",
      "[1] \"c_slope: 1.14206904053591\"\n",
      "[1] \"Brier 分数: 0.143862676626509\"\n"
     ]
    },
    {
     "name": "stderr",
     "output_type": "stream",
     "text": [
      "Setting levels: control = 0, case = 1\n",
      "\n",
      "Setting direction: controls < cases\n",
      "\n"
     ]
    },
    {
     "name": "stdout",
     "output_type": "stream",
     "text": [
      "[1] \"auc: 0.724589090829079\"\n",
      "[1] \"O/E 比率: 0.960909423760981\"\n",
      "[1] \"c_slope: 1.15523543646761\"\n",
      "[1] \"Brier 分数: 0.143629929145542\"\n"
     ]
    },
    {
     "name": "stderr",
     "output_type": "stream",
     "text": [
      "Setting levels: control = 0, case = 1\n",
      "\n",
      "Setting direction: controls < cases\n",
      "\n"
     ]
    },
    {
     "name": "stdout",
     "output_type": "stream",
     "text": [
      "[1] \"auc: 0.71694780298363\"\n",
      "[1] \"O/E 比率: 0.956910958577461\"\n",
      "[1] \"c_slope: 1.123943603092\"\n",
      "[1] \"Brier 分数: 0.144653443671172\"\n"
     ]
    },
    {
     "name": "stderr",
     "output_type": "stream",
     "text": [
      "Setting levels: control = 0, case = 1\n",
      "\n",
      "Setting direction: controls < cases\n",
      "\n"
     ]
    },
    {
     "name": "stdout",
     "output_type": "stream",
     "text": [
      "[1] \"auc: 0.719973582445872\"\n",
      "[1] \"O/E 比率: 0.990530045833742\"\n",
      "[1] \"c_slope: 1.10738616655863\"\n",
      "[1] \"Brier 分数: 0.144307346948025\"\n"
     ]
    },
    {
     "name": "stderr",
     "output_type": "stream",
     "text": [
      "Setting levels: control = 0, case = 1\n",
      "\n",
      "Setting direction: controls < cases\n",
      "\n"
     ]
    },
    {
     "name": "stdout",
     "output_type": "stream",
     "text": [
      "[1] \"auc: 0.721196133493223\"\n",
      "[1] \"O/E 比率: 0.949694946821145\"\n",
      "[1] \"c_slope: 1.09838732789212\"\n",
      "[1] \"Brier 分数: 0.14445932288833\"\n"
     ]
    },
    {
     "name": "stderr",
     "output_type": "stream",
     "text": [
      "Setting levels: control = 0, case = 1\n",
      "\n",
      "Setting direction: controls < cases\n",
      "\n"
     ]
    },
    {
     "name": "stdout",
     "output_type": "stream",
     "text": [
      "[1] \"auc: 0.722543827561169\"\n",
      "[1] \"O/E 比率: 0.944467812063804\"\n",
      "[1] \"c_slope: 1.09198434667673\"\n",
      "[1] \"Brier 分数: 0.14433651331207\"\n"
     ]
    },
    {
     "name": "stderr",
     "output_type": "stream",
     "text": [
      "Setting levels: control = 0, case = 1\n",
      "\n",
      "Setting direction: controls < cases\n",
      "\n"
     ]
    },
    {
     "name": "stdout",
     "output_type": "stream",
     "text": [
      "[1] \"auc: 0.725569607023411\"\n",
      "[1] \"O/E 比率: 0.964363696630615\"\n",
      "[1] \"c_slope: 1.12786759663066\"\n",
      "[1] \"Brier 分数: 0.143367760831698\"\n"
     ]
    },
    {
     "name": "stderr",
     "output_type": "stream",
     "text": [
      "Setting levels: control = 0, case = 1\n",
      "\n",
      "Setting direction: controls < cases\n",
      "\n"
     ]
    },
    {
     "name": "stdout",
     "output_type": "stream",
     "text": [
      "[1] \"auc: 0.722211029638268\"\n",
      "[1] \"O/E 比率: 0.911242440187216\"\n",
      "[1] \"c_slope: 1.07266090997686\"\n",
      "[1] \"Brier 分数: 0.144427683279212\"\n"
     ]
    },
    {
     "name": "stderr",
     "output_type": "stream",
     "text": [
      "Setting levels: control = 0, case = 1\n",
      "\n",
      "Setting direction: controls < cases\n",
      "\n"
     ]
    },
    {
     "name": "stdout",
     "output_type": "stream",
     "text": [
      "[1] \"auc: 0.722322076879071\"\n",
      "[1] \"O/E 比率: 0.94256444598054\"\n",
      "[1] \"c_slope: 1.07729346185667\"\n",
      "[1] \"Brier 分数: 0.143829920610115\"\n"
     ]
    },
    {
     "name": "stderr",
     "output_type": "stream",
     "text": [
      "Setting levels: control = 0, case = 1\n",
      "\n",
      "Setting direction: controls < cases\n",
      "\n"
     ]
    },
    {
     "name": "stdout",
     "output_type": "stream",
     "text": [
      "[1] \"auc: 0.719812340477029\"\n",
      "[1] \"O/E 比率: 0.998843137421929\"\n",
      "[1] \"c_slope: 1.04455071033029\"\n",
      "[1] \"Brier 分数: 0.1444347714319\"\n"
     ]
    },
    {
     "name": "stderr",
     "output_type": "stream",
     "text": [
      "Setting levels: control = 0, case = 1\n",
      "\n",
      "Setting direction: controls < cases\n",
      "\n"
     ]
    },
    {
     "name": "stdout",
     "output_type": "stream",
     "text": [
      "[1] \"auc: 0.721745181306108\"\n",
      "[1] \"O/E 比率: 0.954575222717734\"\n",
      "[1] \"c_slope: 1.07618866131378\"\n",
      "[1] \"Brier 分数: 0.143644082381145\"\n"
     ]
    },
    {
     "name": "stderr",
     "output_type": "stream",
     "text": [
      "Setting levels: control = 0, case = 1\n",
      "\n",
      "Setting direction: controls < cases\n",
      "\n"
     ]
    },
    {
     "name": "stdout",
     "output_type": "stream",
     "text": [
      "[1] \"auc: 0.726097683066362\"\n",
      "[1] \"O/E 比率: 0.958389504767725\"\n",
      "[1] \"c_slope: 0.997095174649042\"\n",
      "[1] \"Brier 分数: 0.143659577210159\"\n"
     ]
    },
    {
     "name": "stderr",
     "output_type": "stream",
     "text": [
      "Setting levels: control = 0, case = 1\n",
      "\n",
      "Setting direction: controls < cases\n",
      "\n"
     ]
    },
    {
     "name": "stdout",
     "output_type": "stream",
     "text": [
      "[1] \"auc: 0.722375365802676\"\n",
      "[1] \"O/E 比率: 0.955293761525905\"\n",
      "[1] \"c_slope: 1.12045479459852\"\n",
      "[1] \"Brier 分数: 0.143676424088678\"\n"
     ]
    },
    {
     "name": "stderr",
     "output_type": "stream",
     "text": [
      "Setting levels: control = 0, case = 1\n",
      "\n",
      "Setting direction: controls < cases\n",
      "\n"
     ]
    },
    {
     "name": "stdout",
     "output_type": "stream",
     "text": [
      "[1] \"auc: 0.725459934980637\"\n",
      "[1] \"O/E 比率: 0.961431062437613\"\n",
      "[1] \"c_slope: 1.13393135025096\"\n",
      "[1] \"Brier 分数: 0.143384539273412\"\n"
     ]
    },
    {
     "name": "stderr",
     "output_type": "stream",
     "text": [
      "Setting levels: control = 0, case = 1\n",
      "\n",
      "Setting direction: controls < cases\n",
      "\n"
     ]
    },
    {
     "name": "stdout",
     "output_type": "stream",
     "text": [
      "[1] \"auc: 0.723720653274071\"\n",
      "[1] \"O/E 比率: 0.932220009558648\"\n",
      "[1] \"c_slope: 1.13922885510721\"\n",
      "[1] \"Brier 分数: 0.144150136793519\"\n"
     ]
    },
    {
     "name": "stderr",
     "output_type": "stream",
     "text": [
      "Setting levels: control = 0, case = 1\n",
      "\n",
      "Setting direction: controls < cases\n",
      "\n"
     ]
    },
    {
     "name": "stdout",
     "output_type": "stream",
     "text": [
      "[1] \"auc: 0.720500627090301\"\n",
      "[1] \"O/E 比率: 0.940193142097584\"\n",
      "[1] \"c_slope: 1.11100976955141\"\n",
      "[1] \"Brier 分数: 0.144414450122273\"\n"
     ]
    },
    {
     "name": "stderr",
     "output_type": "stream",
     "text": [
      "Setting levels: control = 0, case = 1\n",
      "\n",
      "Setting direction: controls < cases\n",
      "\n"
     ]
    },
    {
     "name": "stdout",
     "output_type": "stream",
     "text": [
      "[1] \"auc: 0.719120615868685\"\n",
      "[1] \"O/E 比率: 0.968230026512881\"\n",
      "[1] \"c_slope: 1.07894971904615\"\n",
      "[1] \"Brier 分数: 0.144613160266943\"\n"
     ]
    },
    {
     "name": "stderr",
     "output_type": "stream",
     "text": [
      "Setting levels: control = 0, case = 1\n",
      "\n",
      "Setting direction: controls < cases\n",
      "\n"
     ]
    },
    {
     "name": "stdout",
     "output_type": "stream",
     "text": [
      "[1] \"auc: 0.715329194904066\"\n",
      "[1] \"O/E 比率: 0.943996608722563\"\n",
      "[1] \"c_slope: 1.05707497862755\"\n",
      "[1] \"Brier 分数: 0.144538977807552\"\n"
     ]
    },
    {
     "name": "stderr",
     "output_type": "stream",
     "text": [
      "Setting levels: control = 0, case = 1\n",
      "\n",
      "Setting direction: controls < cases\n",
      "\n"
     ]
    },
    {
     "name": "stdout",
     "output_type": "stream",
     "text": [
      "[1] \"auc: 0.722422810134659\"\n",
      "[1] \"O/E 比率: 0.924807473623398\"\n",
      "[1] \"c_slope: 1.0587063455183\"\n",
      "[1] \"Brier 分数: 0.143925641024731\"\n"
     ]
    },
    {
     "name": "stderr",
     "output_type": "stream",
     "text": [
      "Setting levels: control = 0, case = 1\n",
      "\n",
      "Setting direction: controls < cases\n",
      "\n"
     ]
    },
    {
     "name": "stdout",
     "output_type": "stream",
     "text": [
      "[1] \"auc: 0.724563305866045\"\n",
      "[1] \"O/E 比率: 0.96189297333074\"\n",
      "[1] \"c_slope: 1.08251023837235\"\n",
      "[1] \"Brier 分数: 0.143599396261991\"\n"
     ]
    },
    {
     "name": "stderr",
     "output_type": "stream",
     "text": [
      "Setting levels: control = 0, case = 1\n",
      "\n",
      "Setting direction: controls < cases\n",
      "\n"
     ]
    },
    {
     "name": "stdout",
     "output_type": "stream",
     "text": [
      "[1] \"auc: 0.723472773829431\"\n",
      "[1] \"O/E 比率: 0.949834850337833\"\n",
      "[1] \"c_slope: 1.1429851488625\"\n",
      "[1] \"Brier 分数: 0.144043110540039\"\n"
     ]
    },
    {
     "name": "stderr",
     "output_type": "stream",
     "text": [
      "Setting levels: control = 0, case = 1\n",
      "\n",
      "Setting direction: controls < cases\n",
      "\n"
     ]
    },
    {
     "name": "stdout",
     "output_type": "stream",
     "text": [
      "[1] \"auc: 0.721910892668544\"\n",
      "[1] \"O/E 比率: 0.932925123970176\"\n",
      "[1] \"c_slope: 1.08718846890519\"\n",
      "[1] \"Brier 分数: 0.144012477942698\"\n"
     ]
    },
    {
     "name": "stderr",
     "output_type": "stream",
     "text": [
      "Setting levels: control = 0, case = 1\n",
      "\n",
      "Setting direction: controls < cases\n",
      "\n"
     ]
    },
    {
     "name": "stdout",
     "output_type": "stream",
     "text": [
      "[1] \"auc: 0.725173206191692\"\n",
      "[1] \"O/E 比率: 0.947369017909525\"\n",
      "[1] \"c_slope: 1.06598455116774\"\n",
      "[1] \"Brier 分数: 0.143569755444444\"\n"
     ]
    },
    {
     "name": "stderr",
     "output_type": "stream",
     "text": [
      "Setting levels: control = 0, case = 1\n",
      "\n",
      "Setting direction: controls < cases\n",
      "\n"
     ]
    },
    {
     "name": "stdout",
     "output_type": "stream",
     "text": [
      "[1] \"auc: 0.722332047064777\"\n",
      "[1] \"O/E 比率: 0.970055602044165\"\n",
      "[1] \"c_slope: 1.12321912086524\"\n",
      "[1] \"Brier 分数: 0.144176623575804\"\n"
     ]
    },
    {
     "name": "stderr",
     "output_type": "stream",
     "text": [
      "Setting levels: control = 0, case = 1\n",
      "\n",
      "Setting direction: controls < cases\n",
      "\n"
     ]
    },
    {
     "name": "stdout",
     "output_type": "stream",
     "text": [
      "[1] \"auc: 0.72388842743355\"\n",
      "[1] \"O/E 比率: 0.920366546373214\"\n",
      "[1] \"c_slope: 1.10522520261567\"\n",
      "[1] \"Brier 分数: 0.144213600393525\"\n"
     ]
    },
    {
     "name": "stderr",
     "output_type": "stream",
     "text": [
      "Setting levels: control = 0, case = 1\n",
      "\n",
      "Setting direction: controls < cases\n",
      "\n"
     ]
    },
    {
     "name": "stdout",
     "output_type": "stream",
     "text": [
      "[1] \"auc: 0.721547840389016\"\n",
      "[1] \"O/E 比率: 0.949363559070448\"\n",
      "[1] \"c_slope: 1.03772945799209\"\n",
      "[1] \"Brier 分数: 0.144291285576825\"\n"
     ]
    },
    {
     "name": "stderr",
     "output_type": "stream",
     "text": [
      "Setting levels: control = 0, case = 1\n",
      "\n",
      "Setting direction: controls < cases\n",
      "\n"
     ]
    },
    {
     "name": "stdout",
     "output_type": "stream",
     "text": [
      "[1] \"auc: 0.721930145440943\"\n",
      "[1] \"O/E 比率: 0.917062778990169\"\n",
      "[1] \"c_slope: 1.06390973504842\"\n",
      "[1] \"Brier 分数: 0.143845558478215\"\n"
     ]
    },
    {
     "name": "stderr",
     "output_type": "stream",
     "text": [
      "Setting levels: control = 0, case = 1\n",
      "\n",
      "Setting direction: controls < cases\n",
      "\n"
     ]
    },
    {
     "name": "stdout",
     "output_type": "stream",
     "text": [
      "[1] \"auc: 0.723000737106143\"\n",
      "[1] \"O/E 比率: 0.972802580714549\"\n",
      "[1] \"c_slope: 1.15562562482945\"\n",
      "[1] \"Brier 分数: 0.143323259519478\"\n"
     ]
    },
    {
     "name": "stderr",
     "output_type": "stream",
     "text": [
      "Setting levels: control = 0, case = 1\n",
      "\n",
      "Setting direction: controls < cases\n",
      "\n"
     ]
    },
    {
     "name": "stdout",
     "output_type": "stream",
     "text": [
      "[1] \"auc: 0.724882008009153\"\n",
      "[1] \"O/E 比率: 0.962920521061305\"\n",
      "[1] \"c_slope: 1.121681319162\"\n",
      "[1] \"Brier 分数: 0.143464775483129\"\n"
     ]
    },
    {
     "name": "stderr",
     "output_type": "stream",
     "text": [
      "Setting levels: control = 0, case = 1\n",
      "\n",
      "Setting direction: controls < cases\n",
      "\n"
     ]
    },
    {
     "name": "stdout",
     "output_type": "stream",
     "text": [
      "[1] \"auc: 0.721570187356979\"\n",
      "[1] \"O/E 比率: 0.928638701771759\"\n",
      "[1] \"c_slope: 1.09282916926637\"\n",
      "[1] \"Brier 分数: 0.144925387849248\"\n"
     ]
    },
    {
     "name": "stderr",
     "output_type": "stream",
     "text": [
      "Setting levels: control = 0, case = 1\n",
      "\n",
      "Setting direction: controls < cases\n",
      "\n"
     ]
    },
    {
     "name": "stdout",
     "output_type": "stream",
     "text": [
      "[1] \"auc: 0.719931638906002\"\n",
      "[1] \"O/E 比率: 0.967215270708072\"\n",
      "[1] \"c_slope: 1.04615200623189\"\n",
      "[1] \"Brier 分数: 0.143676930014813\"\n"
     ]
    },
    {
     "name": "stderr",
     "output_type": "stream",
     "text": [
      "Setting levels: control = 0, case = 1\n",
      "\n",
      "Setting direction: controls < cases\n",
      "\n"
     ]
    },
    {
     "name": "stdout",
     "output_type": "stream",
     "text": [
      "[1] \"auc: 0.720641241088717\"\n",
      "[1] \"O/E 比率: 0.924659632762229\"\n",
      "[1] \"c_slope: 1.16093226573496\"\n",
      "[1] \"Brier 分数: 0.144537786008105\"\n"
     ]
    },
    {
     "name": "stderr",
     "output_type": "stream",
     "text": [
      "Setting levels: control = 0, case = 1\n",
      "\n",
      "Setting direction: controls < cases\n",
      "\n"
     ]
    },
    {
     "name": "stdout",
     "output_type": "stream",
     "text": [
      "[1] \"auc: 0.724211255170745\"\n",
      "[1] \"O/E 比率: 0.965084727179945\"\n",
      "[1] \"c_slope: 1.12514179259561\"\n",
      "[1] \"Brier 分数: 0.143644735362997\"\n"
     ]
    },
    {
     "name": "stderr",
     "output_type": "stream",
     "text": [
      "Setting levels: control = 0, case = 1\n",
      "\n",
      "Setting direction: controls < cases\n",
      "\n"
     ]
    },
    {
     "name": "stdout",
     "output_type": "stream",
     "text": [
      "[1] \"auc: 0.725909624735962\"\n",
      "[1] \"O/E 比率: 0.976577281440637\"\n",
      "[1] \"c_slope: 1.13810926914247\"\n",
      "[1] \"Brier 分数: 0.143675293500951\"\n"
     ]
    },
    {
     "name": "stderr",
     "output_type": "stream",
     "text": [
      "Setting levels: control = 0, case = 1\n",
      "\n",
      "Setting direction: controls < cases\n",
      "\n"
     ]
    },
    {
     "name": "stdout",
     "output_type": "stream",
     "text": [
      "[1] \"auc: 0.720773260099454\"\n",
      "[1] \"O/E 比率: 0.943537958078052\"\n",
      "[1] \"c_slope: 1.10611410560742\"\n",
      "[1] \"Brier 分数: 0.144037172169681\"\n"
     ]
    },
    {
     "name": "stderr",
     "output_type": "stream",
     "text": [
      "Setting levels: control = 0, case = 1\n",
      "\n",
      "Setting direction: controls < cases\n",
      "\n"
     ]
    },
    {
     "name": "stdout",
     "output_type": "stream",
     "text": [
      "[1] \"auc: 0.71778598618201\"\n",
      "[1] \"O/E 比率: 0.935081317483221\"\n",
      "[1] \"c_slope: 1.09611547393336\"\n",
      "[1] \"Brier 分数: 0.144523904479422\"\n"
     ]
    },
    {
     "name": "stderr",
     "output_type": "stream",
     "text": [
      "Setting levels: control = 0, case = 1\n",
      "\n",
      "Setting direction: controls < cases\n",
      "\n"
     ]
    },
    {
     "name": "stdout",
     "output_type": "stream",
     "text": [
      "[1] \"auc: 0.719918918324239\"\n",
      "[1] \"O/E 比率: 0.959278541353439\"\n",
      "[1] \"c_slope: 1.10628071327515\"\n",
      "[1] \"Brier 分数: 0.144352027156721\"\n"
     ]
    },
    {
     "name": "stderr",
     "output_type": "stream",
     "text": [
      "Setting levels: control = 0, case = 1\n",
      "\n",
      "Setting direction: controls < cases\n",
      "\n"
     ]
    },
    {
     "name": "stdout",
     "output_type": "stream",
     "text": [
      "[1] \"auc: 0.722004062334976\"\n",
      "[1] \"O/E 比率: 0.953680856838737\"\n",
      "[1] \"c_slope: 1.12305836495104\"\n",
      "[1] \"Brier 分数: 0.1438699671709\"\n"
     ]
    },
    {
     "name": "stderr",
     "output_type": "stream",
     "text": [
      "Setting levels: control = 0, case = 1\n",
      "\n",
      "Setting direction: controls < cases\n",
      "\n"
     ]
    },
    {
     "name": "stdout",
     "output_type": "stream",
     "text": [
      "[1] \"auc: 0.721403444596022\"\n",
      "[1] \"O/E 比率: 0.947325987184399\"\n",
      "[1] \"c_slope: 1.07860899281933\"\n",
      "[1] \"Brier 分数: 0.144068965008356\"\n"
     ]
    },
    {
     "name": "stderr",
     "output_type": "stream",
     "text": [
      "Setting levels: control = 0, case = 1\n",
      "\n",
      "Setting direction: controls < cases\n",
      "\n"
     ]
    },
    {
     "name": "stdout",
     "output_type": "stream",
     "text": [
      "[1] \"auc: 0.722295948116529\"\n",
      "[1] \"O/E 比率: 0.956397169573772\"\n",
      "[1] \"c_slope: 1.08906462126034\"\n",
      "[1] \"Brier 分数: 0.14413208880919\"\n"
     ]
    },
    {
     "name": "stderr",
     "output_type": "stream",
     "text": [
      "Setting levels: control = 0, case = 1\n",
      "\n",
      "Setting direction: controls < cases\n",
      "\n"
     ]
    },
    {
     "name": "stdout",
     "output_type": "stream",
     "text": [
      "[1] \"auc: 0.722310387695828\"\n",
      "[1] \"O/E 比率: 0.956483541128432\"\n",
      "[1] \"c_slope: 1.03292818692212\"\n",
      "[1] \"Brier 分数: 0.143701948787006\"\n"
     ]
    },
    {
     "name": "stderr",
     "output_type": "stream",
     "text": [
      "Setting levels: control = 0, case = 1\n",
      "\n",
      "Setting direction: controls < cases\n",
      "\n"
     ]
    },
    {
     "name": "stdout",
     "output_type": "stream",
     "text": [
      "[1] \"auc: 0.721752057296251\"\n",
      "[1] \"O/E 比率: 0.990584944831416\"\n",
      "[1] \"c_slope: 1.11601197785316\"\n",
      "[1] \"Brier 分数: 0.144654659753861\"\n"
     ]
    },
    {
     "name": "stderr",
     "output_type": "stream",
     "text": [
      "Setting levels: control = 0, case = 1\n",
      "\n",
      "Setting direction: controls < cases\n",
      "\n"
     ]
    },
    {
     "name": "stdout",
     "output_type": "stream",
     "text": [
      "[1] \"auc: 0.720926938479141\"\n",
      "[1] \"O/E 比率: 0.910769563963746\"\n",
      "[1] \"c_slope: 1.07347785625328\"\n",
      "[1] \"Brier 分数: 0.144278449708429\"\n"
     ]
    },
    {
     "name": "stderr",
     "output_type": "stream",
     "text": [
      "Setting levels: control = 0, case = 1\n",
      "\n",
      "Setting direction: controls < cases\n",
      "\n"
     ]
    },
    {
     "name": "stdout",
     "output_type": "stream",
     "text": [
      "[1] \"auc: 0.721244953023235\"\n",
      "[1] \"O/E 比率: 0.947562577088886\"\n",
      "[1] \"c_slope: 1.08990332695595\"\n",
      "[1] \"Brier 分数: 0.143671391053814\"\n"
     ]
    },
    {
     "name": "stderr",
     "output_type": "stream",
     "text": [
      "Setting levels: control = 0, case = 1\n",
      "\n",
      "Setting direction: controls < cases\n",
      "\n"
     ]
    },
    {
     "name": "stdout",
     "output_type": "stream",
     "text": [
      "[1] \"auc: 0.723104908356803\"\n",
      "[1] \"O/E 比率: 0.932151395616952\"\n",
      "[1] \"c_slope: 1.14212598377316\"\n",
      "[1] \"Brier 分数: 0.144342041701374\"\n"
     ]
    },
    {
     "name": "stderr",
     "output_type": "stream",
     "text": [
      "Setting levels: control = 0, case = 1\n",
      "\n",
      "Setting direction: controls < cases\n",
      "\n"
     ]
    },
    {
     "name": "stdout",
     "output_type": "stream",
     "text": [
      "[1] \"auc: 0.722303855505193\"\n",
      "[1] \"O/E 比率: 0.948840208875136\"\n",
      "[1] \"c_slope: 1.09077903808565\"\n",
      "[1] \"Brier 分数: 0.143991526224265\"\n"
     ]
    },
    {
     "name": "stderr",
     "output_type": "stream",
     "text": [
      "Setting levels: control = 0, case = 1\n",
      "\n",
      "Setting direction: controls < cases\n",
      "\n"
     ]
    },
    {
     "name": "stdout",
     "output_type": "stream",
     "text": [
      "[1] \"auc: 0.722242315393417\"\n",
      "[1] \"O/E 比率: 0.959033032813201\"\n",
      "[1] \"c_slope: 1.11182501122262\"\n",
      "[1] \"Brier 分数: 0.144015368680236\"\n"
     ]
    },
    {
     "name": "stderr",
     "output_type": "stream",
     "text": [
      "Setting levels: control = 0, case = 1\n",
      "\n",
      "Setting direction: controls < cases\n",
      "\n"
     ]
    },
    {
     "name": "stdout",
     "output_type": "stream",
     "text": [
      "[1] \"auc: 0.722588521497096\"\n",
      "[1] \"O/E 比率: 0.954256131163385\"\n",
      "[1] \"c_slope: 1.12885028067701\"\n",
      "[1] \"Brier 分数: 0.144061204978547\"\n"
     ]
    },
    {
     "name": "stderr",
     "output_type": "stream",
     "text": [
      "Setting levels: control = 0, case = 1\n",
      "\n",
      "Setting direction: controls < cases\n",
      "\n"
     ]
    },
    {
     "name": "stdout",
     "output_type": "stream",
     "text": [
      "[1] \"auc: 0.721046924507129\"\n",
      "[1] \"O/E 比率: 0.94921245434799\"\n",
      "[1] \"c_slope: 1.07911221269216\"\n",
      "[1] \"Brier 分数: 0.144528115412498\"\n"
     ]
    },
    {
     "name": "stderr",
     "output_type": "stream",
     "text": [
      "Setting levels: control = 0, case = 1\n",
      "\n",
      "Setting direction: controls < cases\n",
      "\n"
     ]
    },
    {
     "name": "stdout",
     "output_type": "stream",
     "text": [
      "[1] \"auc: 0.726465892338497\"\n",
      "[1] \"O/E 比率: 0.931717188580902\"\n",
      "[1] \"c_slope: 1.19852415418178\"\n",
      "[1] \"Brier 分数: 0.143811703657642\"\n"
     ]
    },
    {
     "name": "stderr",
     "output_type": "stream",
     "text": [
      "Setting levels: control = 0, case = 1\n",
      "\n",
      "Setting direction: controls < cases\n",
      "\n"
     ]
    },
    {
     "name": "stdout",
     "output_type": "stream",
     "text": [
      "[1] \"auc: 0.721510366242739\"\n",
      "[1] \"O/E 比率: 0.947751061182895\"\n",
      "[1] \"c_slope: 1.07718841646206\"\n",
      "[1] \"Brier 分数: 0.143825875083946\"\n"
     ]
    },
    {
     "name": "stderr",
     "output_type": "stream",
     "text": [
      "Setting levels: control = 0, case = 1\n",
      "\n",
      "Setting direction: controls < cases\n",
      "\n"
     ]
    },
    {
     "name": "stdout",
     "output_type": "stream",
     "text": [
      "[1] \"auc: 0.721253891810421\"\n",
      "[1] \"O/E 比率: 0.954639545845967\"\n",
      "[1] \"c_slope: 1.07409236458846\"\n",
      "[1] \"Brier 分数: 0.143868294406814\"\n"
     ]
    },
    {
     "name": "stderr",
     "output_type": "stream",
     "text": [
      "Setting levels: control = 0, case = 1\n",
      "\n",
      "Setting direction: controls < cases\n",
      "\n"
     ]
    },
    {
     "name": "stdout",
     "output_type": "stream",
     "text": [
      "[1] \"auc: 0.714873316757613\"\n",
      "[1] \"O/E 比率: 0.970512744015802\"\n",
      "[1] \"c_slope: 1.03633228061387\"\n",
      "[1] \"Brier 分数: 0.144881159942471\"\n"
     ]
    },
    {
     "name": "stderr",
     "output_type": "stream",
     "text": [
      "Setting levels: control = 0, case = 1\n",
      "\n",
      "Setting direction: controls < cases\n",
      "\n"
     ]
    },
    {
     "name": "stdout",
     "output_type": "stream",
     "text": [
      "[1] \"auc: 0.722532825976941\"\n",
      "[1] \"O/E 比率: 0.930602158014391\"\n",
      "[1] \"c_slope: 1.14642314199008\"\n",
      "[1] \"Brier 分数: 0.144530646789273\"\n"
     ]
    },
    {
     "name": "stderr",
     "output_type": "stream",
     "text": [
      "Setting levels: control = 0, case = 1\n",
      "\n",
      "Setting direction: controls < cases\n",
      "\n"
     ]
    },
    {
     "name": "stdout",
     "output_type": "stream",
     "text": [
      "[1] \"auc: 0.72350165298803\"\n",
      "[1] \"O/E 比率: 0.986695030259707\"\n",
      "[1] \"c_slope: 1.16158743055132\"\n",
      "[1] \"Brier 分数: 0.14381262985528\"\n"
     ]
    },
    {
     "name": "stderr",
     "output_type": "stream",
     "text": [
      "Setting levels: control = 0, case = 1\n",
      "\n",
      "Setting direction: controls < cases\n",
      "\n"
     ]
    },
    {
     "name": "stdout",
     "output_type": "stream",
     "text": [
      "[1] \"auc: 0.721449857529484\"\n",
      "[1] \"O/E 比率: 0.979372100380246\"\n",
      "[1] \"c_slope: 1.17821079216876\"\n",
      "[1] \"Brier 分数: 0.144552865976958\"\n"
     ]
    },
    {
     "name": "stderr",
     "output_type": "stream",
     "text": [
      "Setting levels: control = 0, case = 1\n",
      "\n",
      "Setting direction: controls < cases\n",
      "\n"
     ]
    },
    {
     "name": "stdout",
     "output_type": "stream",
     "text": [
      "[1] \"auc: 0.723266494125154\"\n",
      "[1] \"O/E 比率: 0.9583108954937\"\n",
      "[1] \"c_slope: 1.08180746912086\"\n",
      "[1] \"Brier 分数: 0.143720269642682\"\n"
     ]
    },
    {
     "name": "stderr",
     "output_type": "stream",
     "text": [
      "Setting levels: control = 0, case = 1\n",
      "\n",
      "Setting direction: controls < cases\n",
      "\n"
     ]
    },
    {
     "name": "stdout",
     "output_type": "stream",
     "text": [
      "[1] \"auc: 0.726739900545679\"\n",
      "[1] \"O/E 比率: 0.915054031963821\"\n",
      "[1] \"c_slope: 1.0855253698085\"\n",
      "[1] \"Brier 分数: 0.14393104655564\"\n"
     ]
    },
    {
     "name": "stderr",
     "output_type": "stream",
     "text": [
      "Setting levels: control = 0, case = 1\n",
      "\n",
      "Setting direction: controls < cases\n",
      "\n"
     ]
    },
    {
     "name": "stdout",
     "output_type": "stream",
     "text": [
      "[1] \"auc: 0.724721797438831\"\n",
      "[1] \"O/E 比率: 0.935427368016835\"\n",
      "[1] \"c_slope: 1.14290910751349\"\n",
      "[1] \"Brier 分数: 0.143760549552748\"\n"
     ]
    },
    {
     "name": "stderr",
     "output_type": "stream",
     "text": [
      "Setting levels: control = 0, case = 1\n",
      "\n",
      "Setting direction: controls < cases\n",
      "\n"
     ]
    },
    {
     "name": "stdout",
     "output_type": "stream",
     "text": [
      "[1] \"auc: 0.721174474124274\"\n",
      "[1] \"O/E 比率: 0.991314413660217\"\n",
      "[1] \"c_slope: 1.06816595614859\"\n",
      "[1] \"Brier 分数: 0.143673155192157\"\n"
     ]
    },
    {
     "name": "stderr",
     "output_type": "stream",
     "text": [
      "Setting levels: control = 0, case = 1\n",
      "\n",
      "Setting direction: controls < cases\n",
      "\n"
     ]
    },
    {
     "name": "stdout",
     "output_type": "stream",
     "text": [
      "[1] \"auc: 0.724678478700933\"\n",
      "[1] \"O/E 比率: 0.911181561129813\"\n",
      "[1] \"c_slope: 1.11749709465134\"\n",
      "[1] \"Brier 分数: 0.144143556014982\"\n"
     ]
    },
    {
     "name": "stderr",
     "output_type": "stream",
     "text": [
      "Setting levels: control = 0, case = 1\n",
      "\n",
      "Setting direction: controls < cases\n",
      "\n"
     ]
    },
    {
     "name": "stdout",
     "output_type": "stream",
     "text": [
      "[1] \"auc: 0.722605367672945\"\n",
      "[1] \"O/E 比率: 0.957628917277062\"\n",
      "[1] \"c_slope: 1.07777026892101\"\n",
      "[1] \"Brier 分数: 0.144258311502377\"\n"
     ]
    },
    {
     "name": "stderr",
     "output_type": "stream",
     "text": [
      "Setting levels: control = 0, case = 1\n",
      "\n",
      "Setting direction: controls < cases\n",
      "\n"
     ]
    },
    {
     "name": "stdout",
     "output_type": "stream",
     "text": [
      "[1] \"auc: 0.721922925651294\"\n",
      "[1] \"O/E 比率: 0.96287655357644\"\n",
      "[1] \"c_slope: 1.13283996750036\"\n",
      "[1] \"Brier 分数: 0.143857526277883\"\n"
     ]
    },
    {
     "name": "stderr",
     "output_type": "stream",
     "text": [
      "Setting levels: control = 0, case = 1\n",
      "\n",
      "Setting direction: controls < cases\n",
      "\n"
     ]
    },
    {
     "name": "stdout",
     "output_type": "stream",
     "text": [
      "[1] \"auc: 0.727889566097518\"\n",
      "[1] \"O/E 比率: 0.933787990057386\"\n",
      "[1] \"c_slope: 1.16441737099867\"\n",
      "[1] \"Brier 分数: 0.143377896056922\"\n"
     ]
    },
    {
     "name": "stderr",
     "output_type": "stream",
     "text": [
      "Setting levels: control = 0, case = 1\n",
      "\n",
      "Setting direction: controls < cases\n",
      "\n"
     ]
    },
    {
     "name": "stdout",
     "output_type": "stream",
     "text": [
      "[1] \"auc: 0.727086794248372\"\n",
      "[1] \"O/E 比率: 0.938179171164112\"\n",
      "[1] \"c_slope: 1.13274220934071\"\n",
      "[1] \"Brier 分数: 0.14306564352841\"\n"
     ]
    },
    {
     "name": "stderr",
     "output_type": "stream",
     "text": [
      "Setting levels: control = 0, case = 1\n",
      "\n",
      "Setting direction: controls < cases\n",
      "\n"
     ]
    },
    {
     "name": "stdout",
     "output_type": "stream",
     "text": [
      "[1] \"auc: 0.721510366242739\"\n",
      "[1] \"O/E 比率: 0.920446062304532\"\n",
      "[1] \"c_slope: 1.08113863311135\"\n",
      "[1] \"Brier 分数: 0.143677952674813\"\n"
     ]
    },
    {
     "name": "stderr",
     "output_type": "stream",
     "text": [
      "Setting levels: control = 0, case = 1\n",
      "\n",
      "Setting direction: controls < cases\n",
      "\n"
     ]
    },
    {
     "name": "stdout",
     "output_type": "stream",
     "text": [
      "[1] \"auc: 0.722033285293082\"\n",
      "[1] \"O/E 比率: 0.932166645374627\"\n",
      "[1] \"c_slope: 1.11306910411771\"\n",
      "[1] \"Brier 分数: 0.144513259733101\"\n"
     ]
    },
    {
     "name": "stderr",
     "output_type": "stream",
     "text": [
      "Setting levels: control = 0, case = 1\n",
      "\n",
      "Setting direction: controls < cases\n",
      "\n"
     ]
    },
    {
     "name": "stdout",
     "output_type": "stream",
     "text": [
      "[1] \"auc: 0.721063426883471\"\n",
      "[1] \"O/E 比率: 0.958173082199083\"\n",
      "[1] \"c_slope: 1.05687901215163\"\n",
      "[1] \"Brier 分数: 0.143927348658754\"\n"
     ]
    },
    {
     "name": "stderr",
     "output_type": "stream",
     "text": [
      "Setting levels: control = 0, case = 1\n",
      "\n",
      "Setting direction: controls < cases\n",
      "\n"
     ]
    },
    {
     "name": "stdout",
     "output_type": "stream",
     "text": [
      "[1] \"auc: 0.722159115912691\"\n",
      "[1] \"O/E 比率: 0.908076738811963\"\n",
      "[1] \"c_slope: 1.1123508180173\"\n",
      "[1] \"Brier 分数: 0.144361695614539\"\n"
     ]
    },
    {
     "name": "stderr",
     "output_type": "stream",
     "text": [
      "Setting levels: control = 0, case = 1\n",
      "\n",
      "Setting direction: controls < cases\n",
      "\n"
     ]
    },
    {
     "name": "stdout",
     "output_type": "stream",
     "text": [
      "[1] \"auc: 0.720804202055096\"\n",
      "[1] \"O/E 比率: 0.934902622150771\"\n",
      "[1] \"c_slope: 1.11993137778635\"\n",
      "[1] \"Brier 分数: 0.144213426082284\"\n"
     ]
    },
    {
     "name": "stderr",
     "output_type": "stream",
     "text": [
      "Setting levels: control = 0, case = 1\n",
      "\n",
      "Setting direction: controls < cases\n",
      "\n"
     ]
    },
    {
     "name": "stdout",
     "output_type": "stream",
     "text": [
      "[1] \"auc: 0.723871237458194\"\n",
      "[1] \"O/E 比率: 0.916766508396249\"\n",
      "[1] \"c_slope: 1.14910180207145\"\n",
      "[1] \"Brier 分数: 0.143586674126244\"\n"
     ]
    },
    {
     "name": "stderr",
     "output_type": "stream",
     "text": [
      "Setting levels: control = 0, case = 1\n",
      "\n",
      "Setting direction: controls < cases\n",
      "\n"
     ]
    },
    {
     "name": "stdout",
     "output_type": "stream",
     "text": [
      "[1] \"auc: 0.721419946972364\"\n",
      "[1] \"O/E 比率: 0.960306357070673\"\n",
      "[1] \"c_slope: 1.03331064654869\"\n",
      "[1] \"Brier 分数: 0.14449881598283\"\n"
     ]
    },
    {
     "name": "stderr",
     "output_type": "stream",
     "text": [
      "Setting levels: control = 0, case = 1\n",
      "\n",
      "Setting direction: controls < cases\n",
      "\n"
     ]
    },
    {
     "name": "stdout",
     "output_type": "stream",
     "text": [
      "[1] \"auc: 0.723724091269143\"\n",
      "[1] \"O/E 比率: 0.936175789130578\"\n",
      "[1] \"c_slope: 1.15235481125965\"\n",
      "[1] \"Brier 分数: 0.143402309162106\"\n"
     ]
    },
    {
     "name": "stderr",
     "output_type": "stream",
     "text": [
      "Setting levels: control = 0, case = 1\n",
      "\n",
      "Setting direction: controls < cases\n",
      "\n"
     ]
    },
    {
     "name": "stdout",
     "output_type": "stream",
     "text": [
      "[1] \"auc: 0.724764428577715\"\n",
      "[1] \"O/E 比率: 0.926829927755132\"\n",
      "[1] \"c_slope: 1.08911860965117\"\n",
      "[1] \"Brier 分数: 0.143854775957734\"\n"
     ]
    },
    {
     "name": "stderr",
     "output_type": "stream",
     "text": [
      "Setting levels: control = 0, case = 1\n",
      "\n",
      "Setting direction: controls < cases\n",
      "\n"
     ]
    },
    {
     "name": "stdout",
     "output_type": "stream",
     "text": [
      "[1] \"auc: 0.72717205652614\"\n",
      "[1] \"O/E 比率: 0.910198393391053\"\n",
      "[1] \"c_slope: 1.17929732525644\"\n",
      "[1] \"Brier 分数: 0.143396256741451\"\n"
     ]
    },
    {
     "name": "stderr",
     "output_type": "stream",
     "text": [
      "Setting levels: control = 0, case = 1\n",
      "\n",
      "Setting direction: controls < cases\n",
      "\n"
     ]
    },
    {
     "name": "stdout",
     "output_type": "stream",
     "text": [
      "[1] \"auc: 0.720861616572786\"\n",
      "[1] \"O/E 比率: 0.973153444879268\"\n",
      "[1] \"c_slope: 1.16990622093251\"\n",
      "[1] \"Brier 分数: 0.144748497954293\"\n"
     ]
    },
    {
     "name": "stderr",
     "output_type": "stream",
     "text": [
      "Setting levels: control = 0, case = 1\n",
      "\n",
      "Setting direction: controls < cases\n",
      "\n"
     ]
    },
    {
     "name": "stdout",
     "output_type": "stream",
     "text": [
      "[1] \"auc: 0.722878688281112\"\n",
      "[1] \"O/E 比率: 0.935396525688703\"\n",
      "[1] \"c_slope: 1.06782993167005\"\n",
      "[1] \"Brier 分数: 0.143889725708499\"\n"
     ]
    },
    {
     "name": "stderr",
     "output_type": "stream",
     "text": [
      "Setting levels: control = 0, case = 1\n",
      "\n",
      "Setting direction: controls < cases\n",
      "\n"
     ]
    },
    {
     "name": "stdout",
     "output_type": "stream",
     "text": [
      "[1] \"auc: 0.725405270859004\"\n",
      "[1] \"O/E 比率: 0.951104926510259\"\n",
      "[1] \"c_slope: 1.14544597641761\"\n",
      "[1] \"Brier 分数: 0.143960587582304\"\n"
     ]
    },
    {
     "name": "stderr",
     "output_type": "stream",
     "text": [
      "Setting levels: control = 0, case = 1\n",
      "\n",
      "Setting direction: controls < cases\n",
      "\n"
     ]
    },
    {
     "name": "stdout",
     "output_type": "stream",
     "text": [
      "[1] \"auc: 0.724710795854603\"\n",
      "[1] \"O/E 比率: 0.928710500731572\"\n",
      "[1] \"c_slope: 1.08929820117286\"\n",
      "[1] \"Brier 分数: 0.144039307508838\"\n"
     ]
    },
    {
     "name": "stderr",
     "output_type": "stream",
     "text": [
      "Setting levels: control = 0, case = 1\n",
      "\n",
      "Setting direction: controls < cases\n",
      "\n"
     ]
    },
    {
     "name": "stdout",
     "output_type": "stream",
     "text": [
      "[1] \"auc: 0.724922920150502\"\n",
      "[1] \"O/E 比率: 0.948660409599701\"\n",
      "[1] \"c_slope: 1.07437204237018\"\n",
      "[1] \"Brier 分数: 0.143867881517286\"\n"
     ]
    },
    {
     "name": "stderr",
     "output_type": "stream",
     "text": [
      "Setting levels: control = 0, case = 1\n",
      "\n",
      "Setting direction: controls < cases\n",
      "\n"
     ]
    },
    {
     "name": "stdout",
     "output_type": "stream",
     "text": [
      "[1] \"auc: 0.721348092875374\"\n",
      "[1] \"O/E 比率: 0.998889754569517\"\n",
      "[1] \"c_slope: 1.19372725640221\"\n",
      "[1] \"Brier 分数: 0.144173538282969\"\n"
     ]
    },
    {
     "name": "stderr",
     "output_type": "stream",
     "text": [
      "Setting levels: control = 0, case = 1\n",
      "\n",
      "Setting direction: controls < cases\n",
      "\n"
     ]
    },
    {
     "name": "stdout",
     "output_type": "stream",
     "text": [
      "[1] \"auc: 0.722573050519275\"\n",
      "[1] \"O/E 比率: 0.969121607775924\"\n",
      "[1] \"c_slope: 1.10504386300728\"\n",
      "[1] \"Brier 分数: 0.144168701545974\"\n"
     ]
    },
    {
     "name": "stderr",
     "output_type": "stream",
     "text": [
      "Setting levels: control = 0, case = 1\n",
      "\n",
      "Setting direction: controls < cases\n",
      "\n"
     ]
    },
    {
     "name": "stdout",
     "output_type": "stream",
     "text": [
      "[1] \"auc: 0.723050588034677\"\n",
      "[1] \"O/E 比率: 0.972059269537681\"\n",
      "[1] \"c_slope: 1.06551795049141\"\n",
      "[1] \"Brier 分数: 0.143440483428859\"\n"
     ]
    },
    {
     "name": "stderr",
     "output_type": "stream",
     "text": [
      "Setting levels: control = 0, case = 1\n",
      "\n",
      "Setting direction: controls < cases\n",
      "\n"
     ]
    },
    {
     "name": "stdout",
     "output_type": "stream",
     "text": [
      "[1] \"auc: 0.720942065657455\"\n",
      "[1] \"O/E 比率: 0.931491302056426\"\n",
      "[1] \"c_slope: 1.14674152816561\"\n",
      "[1] \"Brier 分数: 0.144002634684678\"\n"
     ]
    },
    {
     "name": "stderr",
     "output_type": "stream",
     "text": [
      "Setting levels: control = 0, case = 1\n",
      "\n",
      "Setting direction: controls < cases\n",
      "\n"
     ]
    },
    {
     "name": "stdout",
     "output_type": "stream",
     "text": [
      "[1] \"auc: 0.720214929699877\"\n",
      "[1] \"O/E 比率: 0.994688661709269\"\n",
      "[1] \"c_slope: 1.15165935386896\"\n",
      "[1] \"Brier 分数: 0.144551507310045\"\n"
     ]
    },
    {
     "name": "stderr",
     "output_type": "stream",
     "text": [
      "Setting levels: control = 0, case = 1\n",
      "\n",
      "Setting direction: controls < cases\n",
      "\n"
     ]
    },
    {
     "name": "stdout",
     "output_type": "stream",
     "text": [
      "[1] \"auc: 0.71701243729097\"\n",
      "[1] \"O/E 比率: 0.933099306795088\"\n",
      "[1] \"c_slope: 1.10703432759124\"\n",
      "[1] \"Brier 分数: 0.144745156832864\"\n"
     ]
    },
    {
     "name": "stderr",
     "output_type": "stream",
     "text": [
      "Setting levels: control = 0, case = 1\n",
      "\n",
      "Setting direction: controls < cases\n",
      "\n"
     ]
    },
    {
     "name": "stdout",
     "output_type": "stream",
     "text": [
      "[1] \"auc: 0.720495813897201\"\n",
      "[1] \"O/E 比率: 0.935136435563641\"\n",
      "[1] \"c_slope: 1.12865278845069\"\n",
      "[1] \"Brier 分数: 0.14470525232547\"\n"
     ]
    },
    {
     "name": "stderr",
     "output_type": "stream",
     "text": [
      "Setting levels: control = 0, case = 1\n",
      "\n",
      "Setting direction: controls < cases\n",
      "\n"
     ]
    },
    {
     "name": "stdout",
     "output_type": "stream",
     "text": [
      "[1] \"auc: 0.723843733497624\"\n",
      "[1] \"O/E 比率: 0.967056552397555\"\n",
      "[1] \"c_slope: 1.06599682059793\"\n",
      "[1] \"Brier 分数: 0.14359777592794\"\n"
     ]
    },
    {
     "name": "stderr",
     "output_type": "stream",
     "text": [
      "Setting levels: control = 0, case = 1\n",
      "\n",
      "Setting direction: controls < cases\n",
      "\n"
     ]
    },
    {
     "name": "stdout",
     "output_type": "stream",
     "text": [
      "[1] \"auc: 0.723101126562225\"\n",
      "[1] \"O/E 比率: 0.983039653804069\"\n",
      "[1] \"c_slope: 1.08515650216581\"\n",
      "[1] \"Brier 分数: 0.14426950534843\"\n"
     ]
    },
    {
     "name": "stderr",
     "output_type": "stream",
     "text": [
      "Setting levels: control = 0, case = 1\n",
      "\n",
      "Setting direction: controls < cases\n",
      "\n"
     ]
    },
    {
     "name": "stdout",
     "output_type": "stream",
     "text": [
      "[1] \"auc: 0.720880181746171\"\n",
      "[1] \"O/E 比率: 0.979309555866235\"\n",
      "[1] \"c_slope: 1.08454821103741\"\n",
      "[1] \"Brier 分数: 0.144319805319218\"\n"
     ]
    },
    {
     "name": "stderr",
     "output_type": "stream",
     "text": [
      "Setting levels: control = 0, case = 1\n",
      "\n",
      "Setting direction: controls < cases\n",
      "\n"
     ]
    },
    {
     "name": "stdout",
     "output_type": "stream",
     "text": [
      "[1] \"auc: 0.72270060013642\"\n",
      "[1] \"O/E 比率: 0.957213372140426\"\n",
      "[1] \"c_slope: 1.09982169944618\"\n",
      "[1] \"Brier 分数: 0.144056196666739\"\n"
     ]
    },
    {
     "name": "stderr",
     "output_type": "stream",
     "text": [
      "Setting levels: control = 0, case = 1\n",
      "\n",
      "Setting direction: controls < cases\n",
      "\n"
     ]
    },
    {
     "name": "stdout",
     "output_type": "stream",
     "text": [
      "[1] \"auc: 0.72234373624802\"\n",
      "[1] \"O/E 比率: 0.960679121785712\"\n",
      "[1] \"c_slope: 1.08482529102409\"\n",
      "[1] \"Brier 分数: 0.143831211869668\"\n"
     ]
    },
    {
     "name": "stderr",
     "output_type": "stream",
     "text": [
      "Setting levels: control = 0, case = 1\n",
      "\n",
      "Setting direction: controls < cases\n",
      "\n"
     ]
    },
    {
     "name": "stdout",
     "output_type": "stream",
     "text": [
      "[1] \"auc: 0.72165029264214\"\n",
      "[1] \"O/E 比率: 0.97628416406755\"\n",
      "[1] \"c_slope: 1.11315599307997\"\n",
      "[1] \"Brier 分数: 0.144179951465107\"\n"
     ]
    },
    {
     "name": "stderr",
     "output_type": "stream",
     "text": [
      "Setting levels: control = 0, case = 1\n",
      "\n",
      "Setting direction: controls < cases\n",
      "\n"
     ]
    },
    {
     "name": "stdout",
     "output_type": "stream",
     "text": [
      "[1] \"auc: 0.720043029946312\"\n",
      "[1] \"O/E 比率: 0.958085844930926\"\n",
      "[1] \"c_slope: 1.0462996140263\"\n",
      "[1] \"Brier 分数: 0.144479124497909\"\n"
     ]
    },
    {
     "name": "stderr",
     "output_type": "stream",
     "text": [
      "Setting levels: control = 0, case = 1\n",
      "\n",
      "Setting direction: controls < cases\n",
      "\n"
     ]
    },
    {
     "name": "stdout",
     "output_type": "stream",
     "text": [
      "[1] \"auc: 0.722196590058969\"\n",
      "[1] \"O/E 比率: 0.963872614242148\"\n",
      "[1] \"c_slope: 1.08788783516974\"\n",
      "[1] \"Brier 分数: 0.144034468076146\"\n"
     ]
    },
    {
     "name": "stderr",
     "output_type": "stream",
     "text": [
      "Setting levels: control = 0, case = 1\n",
      "\n",
      "Setting direction: controls < cases\n",
      "\n"
     ]
    },
    {
     "name": "stdout",
     "output_type": "stream",
     "text": [
      "[1] \"auc: 0.723432893086605\"\n",
      "[1] \"O/E 比率: 0.907305006663634\"\n",
      "[1] \"c_slope: 1.13064498807738\"\n",
      "[1] \"Brier 分数: 0.144206065129052\"\n"
     ]
    },
    {
     "name": "stderr",
     "output_type": "stream",
     "text": [
      "Setting levels: control = 0, case = 1\n",
      "\n",
      "Setting direction: controls < cases\n",
      "\n"
     ]
    },
    {
     "name": "stdout",
     "output_type": "stream",
     "text": [
      "[1] \"auc: 0.725890371963563\"\n",
      "[1] \"O/E 比率: 0.941195500398996\"\n",
      "[1] \"c_slope: 1.12817275712008\"\n",
      "[1] \"Brier 分数: 0.143547141773861\"\n"
     ]
    },
    {
     "name": "stderr",
     "output_type": "stream",
     "text": [
      "Setting levels: control = 0, case = 1\n",
      "\n",
      "Setting direction: controls < cases\n",
      "\n"
     ]
    },
    {
     "name": "stdout",
     "output_type": "stream",
     "text": [
      "[1] \"auc: 0.721599066515578\"\n",
      "[1] \"O/E 比率: 0.926123726177499\"\n",
      "[1] \"c_slope: 1.09725400185624\"\n",
      "[1] \"Brier 分数: 0.14379990633046\"\n"
     ]
    },
    {
     "name": "stderr",
     "output_type": "stream",
     "text": [
      "Setting levels: control = 0, case = 1\n",
      "\n",
      "Setting direction: controls < cases\n",
      "\n"
     ]
    },
    {
     "name": "stdout",
     "output_type": "stream",
     "text": [
      "[1] \"auc: 0.722518042598134\"\n",
      "[1] \"O/E 比率: 0.968801701946391\"\n",
      "[1] \"c_slope: 1.10390524002423\"\n",
      "[1] \"Brier 分数: 0.143675363732963\"\n"
     ]
    },
    {
     "name": "stderr",
     "output_type": "stream",
     "text": [
      "Setting levels: control = 0, case = 1\n",
      "\n",
      "Setting direction: controls < cases\n",
      "\n"
     ]
    },
    {
     "name": "stdout",
     "output_type": "stream",
     "text": [
      "[1] \"auc: 0.723175387255765\"\n",
      "[1] \"O/E 比率: 0.951203586396625\"\n",
      "[1] \"c_slope: 1.09346647196536\"\n",
      "[1] \"Brier 分数: 0.143954684006962\"\n"
     ]
    },
    {
     "name": "stderr",
     "output_type": "stream",
     "text": [
      "Setting levels: control = 0, case = 1\n",
      "\n",
      "Setting direction: controls < cases\n",
      "\n"
     ]
    },
    {
     "name": "stdout",
     "output_type": "stream",
     "text": [
      "[1] \"auc: 0.719225474718359\"\n",
      "[1] \"O/E 比率: 0.966306018710833\"\n",
      "[1] \"c_slope: 1.13490136383236\"\n",
      "[1] \"Brier 分数: 0.144686725111931\"\n"
     ]
    },
    {
     "name": "stderr",
     "output_type": "stream",
     "text": [
      "Setting levels: control = 0, case = 1\n",
      "\n",
      "Setting direction: controls < cases\n",
      "\n"
     ]
    },
    {
     "name": "stdout",
     "output_type": "stream",
     "text": [
      "[1] \"auc: 0.72206353964971\"\n",
      "[1] \"O/E 比率: 0.911502991273655\"\n",
      "[1] \"c_slope: 1.11301514810069\"\n",
      "[1] \"Brier 分数: 0.144270814581097\"\n"
     ]
    },
    {
     "name": "stderr",
     "output_type": "stream",
     "text": [
      "Setting levels: control = 0, case = 1\n",
      "\n",
      "Setting direction: controls < cases\n",
      "\n"
     ]
    },
    {
     "name": "stdout",
     "output_type": "stream",
     "text": [
      "[1] \"auc: 0.71916668500264\"\n",
      "[1] \"O/E 比率: 0.954836846756015\"\n",
      "[1] \"c_slope: 1.11037798023658\"\n",
      "[1] \"Brier 分数: 0.144427650434254\"\n"
     ]
    },
    {
     "name": "stderr",
     "output_type": "stream",
     "text": [
      "Setting levels: control = 0, case = 1\n",
      "\n",
      "Setting direction: controls < cases\n",
      "\n"
     ]
    },
    {
     "name": "stdout",
     "output_type": "stream",
     "text": [
      "[1] \"auc: 0.724665070520155\"\n",
      "[1] \"O/E 比率: 0.951936001008266\"\n",
      "[1] \"c_slope: 1.12992284423435\"\n",
      "[1] \"Brier 分数: 0.143194547134983\"\n"
     ]
    },
    {
     "name": "stderr",
     "output_type": "stream",
     "text": [
      "Setting levels: control = 0, case = 1\n",
      "\n",
      "Setting direction: controls < cases\n",
      "\n"
     ]
    },
    {
     "name": "stdout",
     "output_type": "stream",
     "text": [
      "[1] \"auc: 0.72582848805228\"\n",
      "[1] \"O/E 比率: 0.973515655463422\"\n",
      "[1] \"c_slope: 1.19569628017635\"\n",
      "[1] \"Brier 分数: 0.143273146142251\"\n"
     ]
    },
    {
     "name": "stderr",
     "output_type": "stream",
     "text": [
      "Setting levels: control = 0, case = 1\n",
      "\n",
      "Setting direction: controls < cases\n",
      "\n"
     ]
    },
    {
     "name": "stdout",
     "output_type": "stream",
     "text": [
      "[1] \"auc: 0.719251947280408\"\n",
      "[1] \"O/E 比率: 0.96264912892301\"\n",
      "[1] \"c_slope: 1.00740604327666\"\n",
      "[1] \"Brier 分数: 0.144541526379685\"\n"
     ]
    },
    {
     "name": "stderr",
     "output_type": "stream",
     "text": [
      "Setting levels: control = 0, case = 1\n",
      "\n",
      "Setting direction: controls < cases\n",
      "\n"
     ]
    },
    {
     "name": "stdout",
     "output_type": "stream",
     "text": [
      "[1] \"auc: 0.721251485213871\"\n",
      "[1] \"O/E 比率: 0.959235582043154\"\n",
      "[1] \"c_slope: 1.05601621614247\"\n",
      "[1] \"Brier 分数: 0.144091904040798\"\n"
     ]
    },
    {
     "name": "stderr",
     "output_type": "stream",
     "text": [
      "Setting levels: control = 0, case = 1\n",
      "\n",
      "Setting direction: controls < cases\n",
      "\n"
     ]
    },
    {
     "name": "stdout",
     "output_type": "stream",
     "text": [
      "[1] \"auc: 0.722563424133075\"\n",
      "[1] \"O/E 比率: 0.925148555732057\"\n",
      "[1] \"c_slope: 1.18297621289161\"\n",
      "[1] \"Brier 分数: 0.144395672121273\"\n"
     ]
    },
    {
     "name": "stderr",
     "output_type": "stream",
     "text": [
      "Setting levels: control = 0, case = 1\n",
      "\n",
      "Setting direction: controls < cases\n",
      "\n"
     ]
    },
    {
     "name": "stdout",
     "output_type": "stream",
     "text": [
      "[1] \"auc: 0.723950655144341\"\n",
      "[1] \"O/E 比率: 0.973370628146795\"\n",
      "[1] \"c_slope: 1.11592056871356\"\n",
      "[1] \"Brier 分数: 0.143559137839368\"\n"
     ]
    },
    {
     "name": "stderr",
     "output_type": "stream",
     "text": [
      "Setting levels: control = 0, case = 1\n",
      "\n",
      "Setting direction: controls < cases\n",
      "\n"
     ]
    },
    {
     "name": "stdout",
     "output_type": "stream",
     "text": [
      "[1] \"auc: 0.72238327319134\"\n",
      "[1] \"O/E 比率: 0.953049679852452\"\n",
      "[1] \"c_slope: 1.08188026458761\"\n",
      "[1] \"Brier 分数: 0.144323163691181\"\n"
     ]
    },
    {
     "name": "stderr",
     "output_type": "stream",
     "text": [
      "Setting levels: control = 0, case = 1\n",
      "\n",
      "Setting direction: controls < cases\n",
      "\n"
     ]
    },
    {
     "name": "stdout",
     "output_type": "stream",
     "text": [
      "[1] \"auc: 0.721768215873086\"\n",
      "[1] \"O/E 比率: 0.96594587195152\"\n",
      "[1] \"c_slope: 1.2315711248277\"\n",
      "[1] \"Brier 分数: 0.144212175156714\"\n"
     ]
    },
    {
     "name": "stderr",
     "output_type": "stream",
     "text": [
      "Setting levels: control = 0, case = 1\n",
      "\n",
      "Setting direction: controls < cases\n",
      "\n"
     ]
    },
    {
     "name": "stdout",
     "output_type": "stream",
     "text": [
      "[1] \"auc: 0.721094025039606\"\n",
      "[1] \"O/E 比率: 0.95122344973986\"\n",
      "[1] \"c_slope: 1.15302190576943\"\n",
      "[1] \"Brier 分数: 0.143641111590036\"\n"
     ]
    },
    {
     "name": "stderr",
     "output_type": "stream",
     "text": [
      "Setting levels: control = 0, case = 1\n",
      "\n",
      "Setting direction: controls < cases\n",
      "\n"
     ]
    },
    {
     "name": "stdout",
     "output_type": "stream",
     "text": [
      "[1] \"auc: 0.721170348530188\"\n",
      "[1] \"O/E 比率: 0.978307402381422\"\n",
      "[1] \"c_slope: 1.06188610455061\"\n",
      "[1] \"Brier 分数: 0.144060591246454\"\n"
     ]
    },
    {
     "name": "stderr",
     "output_type": "stream",
     "text": [
      "Setting levels: control = 0, case = 1\n",
      "\n",
      "Setting direction: controls < cases\n",
      "\n"
     ]
    },
    {
     "name": "stdout",
     "output_type": "stream",
     "text": [
      "[1] \"auc: 0.722655906200493\"\n",
      "[1] \"O/E 比率: 0.943620150850441\"\n",
      "[1] \"c_slope: 1.09188095342258\"\n",
      "[1] \"Brier 分数: 0.143255308014809\"\n"
     ]
    },
    {
     "name": "stderr",
     "output_type": "stream",
     "text": [
      "Setting levels: control = 0, case = 1\n",
      "\n",
      "Setting direction: controls < cases\n",
      "\n"
     ]
    },
    {
     "name": "stdout",
     "output_type": "stream",
     "text": [
      "[1] \"auc: 0.721168629532653\"\n",
      "[1] \"O/E 比率: 0.98328378529294\"\n",
      "[1] \"c_slope: 1.14476469463387\"\n",
      "[1] \"Brier 分数: 0.144167125689498\"\n"
     ]
    },
    {
     "name": "stderr",
     "output_type": "stream",
     "text": [
      "Setting levels: control = 0, case = 1\n",
      "\n",
      "Setting direction: controls < cases\n",
      "\n"
     ]
    },
    {
     "name": "stdout",
     "output_type": "stream",
     "text": [
      "[1] \"auc: 0.721416165177786\"\n",
      "[1] \"O/E 比率: 0.938063974631905\"\n",
      "[1] \"c_slope: 1.14457637630807\"\n",
      "[1] \"Brier 分数: 0.143958786540111\"\n"
     ]
    },
    {
     "name": "stderr",
     "output_type": "stream",
     "text": [
      "Setting levels: control = 0, case = 1\n",
      "\n",
      "Setting direction: controls < cases\n",
      "\n"
     ]
    },
    {
     "name": "stdout",
     "output_type": "stream",
     "text": [
      "[1] \"auc: 0.725592297790882\"\n",
      "[1] \"O/E 比率: 0.933420980512376\"\n",
      "[1] \"c_slope: 1.12642835502817\"\n",
      "[1] \"Brier 分数: 0.143519860266127\"\n"
     ]
    },
    {
     "name": "stderr",
     "output_type": "stream",
     "text": [
      "Setting levels: control = 0, case = 1\n",
      "\n",
      "Setting direction: controls < cases\n",
      "\n"
     ]
    },
    {
     "name": "stdout",
     "output_type": "stream",
     "text": [
      "[1] \"auc: 0.721021139544094\"\n",
      "[1] \"O/E 比率: 0.991910372982303\"\n",
      "[1] \"c_slope: 1.13555029179224\"\n",
      "[1] \"Brier 分数: 0.144457354240864\"\n"
     ]
    },
    {
     "name": "stderr",
     "output_type": "stream",
     "text": [
      "Setting levels: control = 0, case = 1\n",
      "\n",
      "Setting direction: controls < cases\n",
      "\n"
     ]
    },
    {
     "name": "stdout",
     "output_type": "stream",
     "text": [
      "[1] \"auc: 0.722637684826615\"\n",
      "[1] \"O/E 比率: 0.914689855983592\"\n",
      "[1] \"c_slope: 1.18628339959564\"\n",
      "[1] \"Brier 分数: 0.144185385355492\"\n"
     ]
    },
    {
     "name": "stderr",
     "output_type": "stream",
     "text": [
      "Setting levels: control = 0, case = 1\n",
      "\n",
      "Setting direction: controls < cases\n",
      "\n"
     ]
    },
    {
     "name": "stdout",
     "output_type": "stream",
     "text": [
      "[1] \"auc: 0.723169198864636\"\n",
      "[1] \"O/E 比率: 0.916383496822408\"\n",
      "[1] \"c_slope: 1.11587794983686\"\n",
      "[1] \"Brier 分数: 0.143349660504638\"\n"
     ]
    },
    {
     "name": "stderr",
     "output_type": "stream",
     "text": [
      "Setting levels: control = 0, case = 1\n",
      "\n",
      "Setting direction: controls < cases\n",
      "\n"
     ]
    },
    {
     "name": "stdout",
     "output_type": "stream",
     "text": [
      "[1] \"auc: 0.722774517030452\"\n",
      "[1] \"O/E 比率: 0.967403110917583\"\n",
      "[1] \"c_slope: 1.13465579796144\"\n",
      "[1] \"Brier 分数: 0.144097979364696\"\n"
     ]
    },
    {
     "name": "stderr",
     "output_type": "stream",
     "text": [
      "Setting levels: control = 0, case = 1\n",
      "\n",
      "Setting direction: controls < cases\n",
      "\n"
     ]
    },
    {
     "name": "stdout",
     "output_type": "stream",
     "text": [
      "[1] \"auc: 0.723494433198381\"\n",
      "[1] \"O/E 比率: 0.936484086208888\"\n",
      "[1] \"c_slope: 1.13659209582262\"\n",
      "[1] \"Brier 分数: 0.144056524028365\"\n"
     ]
    },
    {
     "name": "stderr",
     "output_type": "stream",
     "text": [
      "Setting levels: control = 0, case = 1\n",
      "\n",
      "Setting direction: controls < cases\n",
      "\n"
     ]
    },
    {
     "name": "stdout",
     "output_type": "stream",
     "text": [
      "[1] \"auc: 0.718830449084668\"\n",
      "[1] \"O/E 比率: 0.932660909868144\"\n",
      "[1] \"c_slope: 1.168344639018\"\n",
      "[1] \"Brier 分数: 0.144370873601373\"\n"
     ]
    },
    {
     "name": "stderr",
     "output_type": "stream",
     "text": [
      "Setting levels: control = 0, case = 1\n",
      "\n",
      "Setting direction: controls < cases\n",
      "\n"
     ]
    },
    {
     "name": "stdout",
     "output_type": "stream",
     "text": [
      "[1] \"auc: 0.721887858101567\"\n",
      "[1] \"O/E 比率: 0.945290221902219\"\n",
      "[1] \"c_slope: 1.13587017062252\"\n",
      "[1] \"Brier 分数: 0.143917030132914\"\n"
     ]
    },
    {
     "name": "stderr",
     "output_type": "stream",
     "text": [
      "Setting levels: control = 0, case = 1\n",
      "\n",
      "Setting direction: controls < cases\n",
      "\n"
     ]
    },
    {
     "name": "stdout",
     "output_type": "stream",
     "text": [
      "[1] \"auc: 0.723461428445696\"\n",
      "[1] \"O/E 比率: 0.92442796534312\"\n",
      "[1] \"c_slope: 1.08803644884651\"\n",
      "[1] \"Brier 分数: 0.144038344199771\"\n"
     ]
    },
    {
     "name": "stderr",
     "output_type": "stream",
     "text": [
      "Setting levels: control = 0, case = 1\n",
      "\n",
      "Setting direction: controls < cases\n",
      "\n"
     ]
    },
    {
     "name": "stdout",
     "output_type": "stream",
     "text": [
      "[1] \"auc: 0.72162760187467\"\n",
      "[1] \"O/E 比率: 0.946744072459599\"\n",
      "[1] \"c_slope: 1.18981380358578\"\n",
      "[1] \"Brier 分数: 0.144720844315506\"\n"
     ]
    },
    {
     "name": "stderr",
     "output_type": "stream",
     "text": [
      "Setting levels: control = 0, case = 1\n",
      "\n",
      "Setting direction: controls < cases\n",
      "\n"
     ]
    },
    {
     "name": "stdout",
     "output_type": "stream",
     "text": [
      "[1] \"auc: 0.721675390006161\"\n",
      "[1] \"O/E 比率: 0.917011149265342\"\n",
      "[1] \"c_slope: 1.12170454647698\"\n",
      "[1] \"Brier 分数: 0.144289314176214\"\n"
     ]
    },
    {
     "name": "stderr",
     "output_type": "stream",
     "text": [
      "Setting levels: control = 0, case = 1\n",
      "\n",
      "Setting direction: controls < cases\n",
      "\n"
     ]
    },
    {
     "name": "stdout",
     "output_type": "stream",
     "text": [
      "[1] \"auc: 0.718176198622602\"\n",
      "[1] \"O/E 比率: 0.956207184417753\"\n",
      "[1] \"c_slope: 1.1440609112754\"\n",
      "[1] \"Brier 分数: 0.144561226759984\"\n"
     ]
    },
    {
     "name": "stderr",
     "output_type": "stream",
     "text": [
      "Setting levels: control = 0, case = 1\n",
      "\n",
      "Setting direction: controls < cases\n",
      "\n"
     ]
    },
    {
     "name": "stdout",
     "output_type": "stream",
     "text": [
      "[1] \"auc: 0.723114534743003\"\n",
      "[1] \"O/E 比率: 0.959730920184925\"\n",
      "[1] \"c_slope: 1.08244178360567\"\n",
      "[1] \"Brier 分数: 0.14373803349531\"\n"
     ]
    },
    {
     "name": "stderr",
     "output_type": "stream",
     "text": [
      "Setting levels: control = 0, case = 1\n",
      "\n",
      "Setting direction: controls < cases\n",
      "\n"
     ]
    },
    {
     "name": "stdout",
     "output_type": "stream",
     "text": [
      "[1] \"auc: 0.725619801751452\"\n",
      "[1] \"O/E 比率: 0.941122981895176\"\n",
      "[1] \"c_slope: 1.11776862321118\"\n",
      "[1] \"Brier 分数: 0.143550877038396\"\n"
     ]
    },
    {
     "name": "stderr",
     "output_type": "stream",
     "text": [
      "Setting levels: control = 0, case = 1\n",
      "\n",
      "Setting direction: controls < cases\n",
      "\n"
     ]
    },
    {
     "name": "stdout",
     "output_type": "stream",
     "text": [
      "[1] \"auc: 0.725921313919204\"\n",
      "[1] \"O/E 比率: 0.942453304913544\"\n",
      "[1] \"c_slope: 1.1644775222113\"\n",
      "[1] \"Brier 分数: 0.142753105411102\"\n"
     ]
    },
    {
     "name": "stderr",
     "output_type": "stream",
     "text": [
      "Setting levels: control = 0, case = 1\n",
      "\n",
      "Setting direction: controls < cases\n",
      "\n"
     ]
    },
    {
     "name": "stdout",
     "output_type": "stream",
     "text": [
      "[1] \"auc: 0.721832162581412\"\n",
      "[1] \"O/E 比率: 0.931510267270807\"\n",
      "[1] \"c_slope: 1.11127811181419\"\n",
      "[1] \"Brier 分数: 0.144360512430412\"\n"
     ]
    },
    {
     "name": "stderr",
     "output_type": "stream",
     "text": [
      "Setting levels: control = 0, case = 1\n",
      "\n",
      "Setting direction: controls < cases\n",
      "\n"
     ]
    },
    {
     "name": "stdout",
     "output_type": "stream",
     "text": [
      "[1] \"auc: 0.718329189403274\"\n",
      "[1] \"O/E 比率: 0.990926390124844\"\n",
      "[1] \"c_slope: 1.10164717084023\"\n",
      "[1] \"Brier 分数: 0.144232384980338\"\n"
     ]
    },
    {
     "name": "stderr",
     "output_type": "stream",
     "text": [
      "Setting levels: control = 0, case = 1\n",
      "\n",
      "Setting direction: controls < cases\n",
      "\n"
     ]
    },
    {
     "name": "stdout",
     "output_type": "stream",
     "text": [
      "[1] \"auc: 0.723495464596902\"\n",
      "[1] \"O/E 比率: 0.942331009716002\"\n",
      "[1] \"c_slope: 1.11163461056953\"\n",
      "[1] \"Brier 分数: 0.14387148978586\"\n"
     ]
    },
    {
     "name": "stderr",
     "output_type": "stream",
     "text": [
      "Setting levels: control = 0, case = 1\n",
      "\n",
      "Setting direction: controls < cases\n",
      "\n"
     ]
    },
    {
     "name": "stdout",
     "output_type": "stream",
     "text": [
      "[1] \"auc: 0.722671377178314\"\n",
      "[1] \"O/E 比率: 0.944471824132965\"\n",
      "[1] \"c_slope: 1.1213687912631\"\n",
      "[1] \"Brier 分数: 0.143460960584852\"\n"
     ]
    },
    {
     "name": "stderr",
     "output_type": "stream",
     "text": [
      "Setting levels: control = 0, case = 1\n",
      "\n",
      "Setting direction: controls < cases\n",
      "\n"
     ]
    },
    {
     "name": "stdout",
     "output_type": "stream",
     "text": [
      "[1] \"auc: 0.724449852028692\"\n",
      "[1] \"O/E 比率: 0.933009312672408\"\n",
      "[1] \"c_slope: 1.05769609732791\"\n",
      "[1] \"Brier 分数: 0.143597818447902\"\n"
     ]
    },
    {
     "name": "stderr",
     "output_type": "stream",
     "text": [
      "Setting levels: control = 0, case = 1\n",
      "\n",
      "Setting direction: controls < cases\n",
      "\n"
     ]
    },
    {
     "name": "stdout",
     "output_type": "stream",
     "text": [
      "[1] \"auc: 0.721148001562225\"\n",
      "[1] \"O/E 比率: 0.904204438280547\"\n",
      "[1] \"c_slope: 1.04846037979227\"\n",
      "[1] \"Brier 分数: 0.144408376774126\"\n"
     ]
    },
    {
     "name": "stderr",
     "output_type": "stream",
     "text": [
      "Setting levels: control = 0, case = 1\n",
      "\n",
      "Setting direction: controls < cases\n",
      "\n"
     ]
    },
    {
     "name": "stdout",
     "output_type": "stream",
     "text": [
      "[1] \"auc: 0.725597454783489\"\n",
      "[1] \"O/E 比率: 0.94201184919334\"\n",
      "[1] \"c_slope: 1.06249330035311\"\n",
      "[1] \"Brier 分数: 0.143220243537327\"\n"
     ]
    },
    {
     "name": "stderr",
     "output_type": "stream",
     "text": [
      "Setting levels: control = 0, case = 1\n",
      "\n",
      "Setting direction: controls < cases\n",
      "\n"
     ]
    },
    {
     "name": "stdout",
     "output_type": "stream",
     "text": [
      "[1] \"auc: 0.724415128278472\"\n",
      "[1] \"O/E 比率: 0.974428529894329\"\n",
      "[1] \"c_slope: 1.15164434885613\"\n",
      "[1] \"Brier 分数: 0.143557912242367\"\n"
     ]
    },
    {
     "name": "stderr",
     "output_type": "stream",
     "text": [
      "Setting levels: control = 0, case = 1\n",
      "\n",
      "Setting direction: controls < cases\n",
      "\n"
     ]
    },
    {
     "name": "stdout",
     "output_type": "stream",
     "text": [
      "[1] \"auc: 0.724727642030452\"\n",
      "[1] \"O/E 比率: 0.910040948125325\"\n",
      "[1] \"c_slope: 1.08851159596317\"\n",
      "[1] \"Brier 分数: 0.143456590220643\"\n"
     ]
    },
    {
     "name": "stderr",
     "output_type": "stream",
     "text": [
      "Setting levels: control = 0, case = 1\n",
      "\n",
      "Setting direction: controls < cases\n",
      "\n"
     ]
    },
    {
     "name": "stdout",
     "output_type": "stream",
     "text": [
      "[1] \"auc: 0.724008069662031\"\n",
      "[1] \"O/E 比率: 0.935261020241895\"\n",
      "[1] \"c_slope: 1.05925863216053\"\n",
      "[1] \"Brier 分数: 0.143786866680916\"\n"
     ]
    },
    {
     "name": "stderr",
     "output_type": "stream",
     "text": [
      "Setting levels: control = 0, case = 1\n",
      "\n",
      "Setting direction: controls < cases\n",
      "\n"
     ]
    },
    {
     "name": "stdout",
     "output_type": "stream",
     "text": [
      "[1] \"auc: 0.72326099333304\"\n",
      "[1] \"O/E 比率: 0.93761187799476\"\n",
      "[1] \"c_slope: 1.14345400502281\"\n",
      "[1] \"Brier 分数: 0.143963989776065\"\n"
     ]
    },
    {
     "name": "stderr",
     "output_type": "stream",
     "text": [
      "Setting levels: control = 0, case = 1\n",
      "\n",
      "Setting direction: controls < cases\n",
      "\n"
     ]
    },
    {
     "name": "stdout",
     "output_type": "stream",
     "text": [
      "[1] \"auc: 0.721161065943496\"\n",
      "[1] \"O/E 比率: 0.962771446846007\"\n",
      "[1] \"c_slope: 1.12963323077183\"\n",
      "[1] \"Brier 分数: 0.144402129800633\"\n"
     ]
    },
    {
     "name": "stderr",
     "output_type": "stream",
     "text": [
      "Setting levels: control = 0, case = 1\n",
      "\n",
      "Setting direction: controls < cases\n",
      "\n"
     ]
    },
    {
     "name": "stdout",
     "output_type": "stream",
     "text": [
      "[1] \"auc: 0.724158653846154\"\n",
      "[1] \"O/E 比率: 0.916284943413414\"\n",
      "[1] \"c_slope: 1.08080919239921\"\n",
      "[1] \"Brier 分数: 0.143312948393183\"\n"
     ]
    },
    {
     "name": "stderr",
     "output_type": "stream",
     "text": [
      "Setting levels: control = 0, case = 1\n",
      "\n",
      "Setting direction: controls < cases\n",
      "\n"
     ]
    },
    {
     "name": "stdout",
     "output_type": "stream",
     "text": [
      "[1] \"auc: 0.72273051069354\"\n",
      "[1] \"O/E 比率: 0.970009021326849\"\n",
      "[1] \"c_slope: 1.10934659953545\"\n",
      "[1] \"Brier 分数: 0.144668702661791\"\n"
     ]
    },
    {
     "name": "stderr",
     "output_type": "stream",
     "text": [
      "Setting levels: control = 0, case = 1\n",
      "\n",
      "Setting direction: controls < cases\n",
      "\n"
     ]
    },
    {
     "name": "stdout",
     "output_type": "stream",
     "text": [
      "[1] \"auc: 0.723036148455378\"\n",
      "[1] \"O/E 比率: 0.942537410558128\"\n",
      "[1] \"c_slope: 1.04403726317378\"\n",
      "[1] \"Brier 分数: 0.144061850888308\"\n"
     ]
    },
    {
     "name": "stderr",
     "output_type": "stream",
     "text": [
      "Setting levels: control = 0, case = 1\n",
      "\n",
      "Setting direction: controls < cases\n",
      "\n"
     ]
    },
    {
     "name": "stdout",
     "output_type": "stream",
     "text": [
      "[1] \"auc: 0.724357026161767\"\n",
      "[1] \"O/E 比率: 0.913900654490001\"\n",
      "[1] \"c_slope: 1.09506316389847\"\n",
      "[1] \"Brier 分数: 0.143255848591834\"\n"
     ]
    },
    {
     "name": "stderr",
     "output_type": "stream",
     "text": [
      "Setting levels: control = 0, case = 1\n",
      "\n",
      "Setting direction: controls < cases\n",
      "\n"
     ]
    },
    {
     "name": "stdout",
     "output_type": "stream",
     "text": [
      "[1] \"auc: 0.723223175387256\"\n",
      "[1] \"O/E 比率: 0.956991070321277\"\n",
      "[1] \"c_slope: 1.08203070346806\"\n",
      "[1] \"Brier 分数: 0.144151400431643\"\n"
     ]
    },
    {
     "name": "stderr",
     "output_type": "stream",
     "text": [
      "Setting levels: control = 0, case = 1\n",
      "\n",
      "Setting direction: controls < cases\n",
      "\n"
     ]
    },
    {
     "name": "stdout",
     "output_type": "stream",
     "text": [
      "[1] \"auc: 0.724464635407499\"\n",
      "[1] \"O/E 比率: 0.947030986355391\"\n",
      "[1] \"c_slope: 1.10473825112032\"\n",
      "[1] \"Brier 分数: 0.143903286689114\"\n"
     ]
    },
    {
     "name": "stderr",
     "output_type": "stream",
     "text": [
      "Setting levels: control = 0, case = 1\n",
      "\n",
      "Setting direction: controls < cases\n",
      "\n"
     ]
    },
    {
     "name": "stdout",
     "output_type": "stream",
     "text": [
      "[1] \"auc: 0.72379869576219\"\n",
      "[1] \"O/E 比率: 0.955284074443419\"\n",
      "[1] \"c_slope: 1.11899686913592\"\n",
      "[1] \"Brier 分数: 0.14374022834985\"\n"
     ]
    },
    {
     "name": "stderr",
     "output_type": "stream",
     "text": [
      "Setting levels: control = 0, case = 1\n",
      "\n",
      "Setting direction: controls < cases\n",
      "\n"
     ]
    },
    {
     "name": "stdout",
     "output_type": "stream",
     "text": [
      "[1] \"auc: 0.721466016106319\"\n",
      "[1] \"O/E 比率: 0.94426643687792\"\n",
      "[1] \"c_slope: 1.11313996147992\"\n",
      "[1] \"Brier 分数: 0.143982480509852\"\n"
     ]
    },
    {
     "name": "stderr",
     "output_type": "stream",
     "text": [
      "Setting levels: control = 0, case = 1\n",
      "\n",
      "Setting direction: controls < cases\n",
      "\n"
     ]
    },
    {
     "name": "stdout",
     "output_type": "stream",
     "text": [
      "[1] \"auc: 0.725678591467171\"\n",
      "[1] \"O/E 比率: 0.948168153331821\"\n",
      "[1] \"c_slope: 1.08647908471703\"\n",
      "[1] \"Brier 分数: 0.143101317231805\"\n"
     ]
    },
    {
     "name": "stderr",
     "output_type": "stream",
     "text": [
      "Setting levels: control = 0, case = 1\n",
      "\n",
      "Setting direction: controls < cases\n",
      "\n"
     ]
    },
    {
     "name": "stdout",
     "output_type": "stream",
     "text": [
      "[1] \"auc: 0.725269813853195\"\n",
      "[1] \"O/E 比率: 0.948317265255365\"\n",
      "[1] \"c_slope: 1.08178129872195\"\n",
      "[1] \"Brier 分数: 0.14376227864994\"\n"
     ]
    },
    {
     "name": "stderr",
     "output_type": "stream",
     "text": [
      "Setting levels: control = 0, case = 1\n",
      "\n",
      "Setting direction: controls < cases\n",
      "\n"
     ]
    },
    {
     "name": "stdout",
     "output_type": "stream",
     "text": [
      "[1] \"auc: 0.724538896101039\"\n",
      "[1] \"O/E 比率: 0.954121651659674\"\n",
      "[1] \"c_slope: 1.13942395539104\"\n",
      "[1] \"Brier 分数: 0.143948773259397\"\n"
     ]
    },
    {
     "name": "stderr",
     "output_type": "stream",
     "text": [
      "Setting levels: control = 0, case = 1\n",
      "\n",
      "Setting direction: controls < cases\n",
      "\n"
     ]
    },
    {
     "name": "stdout",
     "output_type": "stream",
     "text": [
      "[1] \"auc: 0.723415359311741\"\n",
      "[1] \"O/E 比率: 0.939444048895995\"\n",
      "[1] \"c_slope: 1.125974550807\"\n",
      "[1] \"Brier 分数: 0.143808939112463\"\n"
     ]
    },
    {
     "name": "stderr",
     "output_type": "stream",
     "text": [
      "Setting levels: control = 0, case = 1\n",
      "\n",
      "Setting direction: controls < cases\n",
      "\n"
     ]
    },
    {
     "name": "stdout",
     "output_type": "stream",
     "text": [
      "[1] \"auc: 0.719911010935575\"\n",
      "[1] \"O/E 比率: 0.953143810902957\"\n",
      "[1] \"c_slope: 1.05825048474193\"\n",
      "[1] \"Brier 分数: 0.144027375989914\"\n"
     ]
    },
    {
     "name": "stderr",
     "output_type": "stream",
     "text": [
      "Setting levels: control = 0, case = 1\n",
      "\n",
      "Setting direction: controls < cases\n",
      "\n"
     ]
    },
    {
     "name": "stdout",
     "output_type": "stream",
     "text": [
      "[1] \"auc: 0.723006581697764\"\n",
      "[1] \"O/E 比率: 0.968210663704797\"\n",
      "[1] \"c_slope: 1.10713627390789\"\n",
      "[1] \"Brier 分数: 0.144190454194933\"\n"
     ]
    },
    {
     "name": "stderr",
     "output_type": "stream",
     "text": [
      "Setting levels: control = 0, case = 1\n",
      "\n",
      "Setting direction: controls < cases\n",
      "\n"
     ]
    },
    {
     "name": "stdout",
     "output_type": "stream",
     "text": [
      "[1] \"auc: 0.719503952319134\"\n",
      "[1] \"O/E 比率: 0.949209071761825\"\n",
      "[1] \"c_slope: 1.04733990967597\"\n",
      "[1] \"Brier 分数: 0.144388051206756\"\n"
     ]
    },
    {
     "name": "stderr",
     "output_type": "stream",
     "text": [
      "Setting levels: control = 0, case = 1\n",
      "\n",
      "Setting direction: controls < cases\n",
      "\n"
     ]
    },
    {
     "name": "stdout",
     "output_type": "stream",
     "text": [
      "[1] \"auc: 0.722961887761838\"\n",
      "[1] \"O/E 比率: 0.924695378259756\"\n",
      "[1] \"c_slope: 1.09177644462283\"\n",
      "[1] \"Brier 分数: 0.143420626107939\"\n"
     ]
    },
    {
     "name": "stderr",
     "output_type": "stream",
     "text": [
      "Setting levels: control = 0, case = 1\n",
      "\n",
      "Setting direction: controls < cases\n",
      "\n"
     ]
    },
    {
     "name": "stdout",
     "output_type": "stream",
     "text": [
      "[1] \"auc: 0.721368720845802\"\n",
      "[1] \"O/E 比率: 0.95869548500184\"\n",
      "[1] \"c_slope: 1.01673397405078\"\n",
      "[1] \"Brier 分数: 0.144346295278613\"\n"
     ]
    },
    {
     "name": "stderr",
     "output_type": "stream",
     "text": [
      "Setting levels: control = 0, case = 1\n",
      "\n",
      "Setting direction: controls < cases\n",
      "\n"
     ]
    },
    {
     "name": "stdout",
     "output_type": "stream",
     "text": [
      "[1] \"auc: 0.719579588210702\"\n",
      "[1] \"O/E 比率: 0.954890488426343\"\n",
      "[1] \"c_slope: 1.09402215794554\"\n",
      "[1] \"Brier 分数: 0.144435230608277\"\n"
     ]
    },
    {
     "name": "stderr",
     "output_type": "stream",
     "text": [
      "Setting levels: control = 0, case = 1\n",
      "\n",
      "Setting direction: controls < cases\n",
      "\n"
     ]
    },
    {
     "name": "stdout",
     "output_type": "stream",
     "text": [
      "[1] \"auc: 0.725345105945256\"\n",
      "[1] \"O/E 比率: 0.940734516980265\"\n",
      "[1] \"c_slope: 1.10955099625512\"\n",
      "[1] \"Brier 分数: 0.143144993906592\"\n"
     ]
    },
    {
     "name": "stderr",
     "output_type": "stream",
     "text": [
      "Setting levels: control = 0, case = 1\n",
      "\n",
      "Setting direction: controls < cases\n",
      "\n"
     ]
    },
    {
     "name": "stdout",
     "output_type": "stream",
     "text": [
      "[1] \"auc: 0.715402767998592\"\n",
      "[1] \"O/E 比率: 0.985069104113136\"\n",
      "[1] \"c_slope: 1.09132856130766\"\n",
      "[1] \"Brier 分数: 0.14525422762707\"\n"
     ]
    },
    {
     "name": "stderr",
     "output_type": "stream",
     "text": [
      "Setting levels: control = 0, case = 1\n",
      "\n",
      "Setting direction: controls < cases\n",
      "\n"
     ]
    },
    {
     "name": "stdout",
     "output_type": "stream",
     "text": [
      "[1] \"auc: 0.718127035293082\"\n",
      "[1] \"O/E 比率: 0.996944813571918\"\n",
      "[1] \"c_slope: 1.07818054072659\"\n",
      "[1] \"Brier 分数: 0.144363005290757\"\n"
     ]
    },
    {
     "name": "stderr",
     "output_type": "stream",
     "text": [
      "Setting levels: control = 0, case = 1\n",
      "\n",
      "Setting direction: controls < cases\n",
      "\n"
     ]
    },
    {
     "name": "stdout",
     "output_type": "stream",
     "text": [
      "[1] \"auc: 0.722305918302236\"\n",
      "[1] \"O/E 比率: 0.958288852345544\"\n",
      "[1] \"c_slope: 1.15079831463757\"\n",
      "[1] \"Brier 分数: 0.144423896986955\"\n"
     ]
    },
    {
     "name": "stderr",
     "output_type": "stream",
     "text": [
      "Setting levels: control = 0, case = 1\n",
      "\n",
      "Setting direction: controls < cases\n",
      "\n"
     ]
    },
    {
     "name": "stdout",
     "output_type": "stream",
     "text": [
      "[1] \"auc: 0.724093331939799\"\n",
      "[1] \"O/E 比率: 0.944944212238624\"\n",
      "[1] \"c_slope: 1.07667473690858\"\n",
      "[1] \"Brier 分数: 0.144091405786016\"\n"
     ]
    },
    {
     "name": "stderr",
     "output_type": "stream",
     "text": [
      "Setting levels: control = 0, case = 1\n",
      "\n",
      "Setting direction: controls < cases\n",
      "\n"
     ]
    },
    {
     "name": "stdout",
     "output_type": "stream",
     "text": [
      "[1] \"auc: 0.719166341203133\"\n",
      "[1] \"O/E 比率: 0.947297064088887\"\n",
      "[1] \"c_slope: 1.08951847784062\"\n",
      "[1] \"Brier 分数: 0.144228110532931\"\n"
     ]
    },
    {
     "name": "stderr",
     "output_type": "stream",
     "text": [
      "Setting levels: control = 0, case = 1\n",
      "\n",
      "Setting direction: controls < cases\n",
      "\n"
     ]
    },
    {
     "name": "stdout",
     "output_type": "stream",
     "text": [
      "[1] \"auc: 0.721196133493223\"\n",
      "[1] \"O/E 比率: 0.977777747419301\"\n",
      "[1] \"c_slope: 1.12842606444235\"\n",
      "[1] \"Brier 分数: 0.144097199176705\"\n"
     ]
    },
    {
     "name": "stderr",
     "output_type": "stream",
     "text": [
      "Setting levels: control = 0, case = 1\n",
      "\n",
      "Setting direction: controls < cases\n",
      "\n"
     ]
    },
    {
     "name": "stdout",
     "output_type": "stream",
     "text": [
      "[1] \"auc: 0.720385454255413\"\n",
      "[1] \"O/E 比率: 0.93495425001294\"\n",
      "[1] \"c_slope: 1.09294737691538\"\n",
      "[1] \"Brier 分数: 0.144424376721496\"\n"
     ]
    },
    {
     "name": "stderr",
     "output_type": "stream",
     "text": [
      "Setting levels: control = 0, case = 1\n",
      "\n",
      "Setting direction: controls < cases\n",
      "\n"
     ]
    },
    {
     "name": "stdout",
     "output_type": "stream",
     "text": [
      "[1] \"auc: 0.726223857485478\"\n",
      "[1] \"O/E 比率: 0.944192832944927\"\n",
      "[1] \"c_slope: 1.11891054070016\"\n",
      "[1] \"Brier 分数: 0.143172191749984\"\n"
     ]
    },
    {
     "name": "stderr",
     "output_type": "stream",
     "text": [
      "Setting levels: control = 0, case = 1\n",
      "\n",
      "Setting direction: controls < cases\n",
      "\n"
     ]
    },
    {
     "name": "stdout",
     "output_type": "stream",
     "text": [
      "[1] \"auc: 0.72048034291938\"\n",
      "[1] \"O/E 比率: 0.961468208825836\"\n",
      "[1] \"c_slope: 1.12103280781831\"\n",
      "[1] \"Brier 分数: 0.144157349104637\"\n"
     ]
    },
    {
     "name": "stderr",
     "output_type": "stream",
     "text": [
      "Setting levels: control = 0, case = 1\n",
      "\n",
      "Setting direction: controls < cases\n",
      "\n"
     ]
    },
    {
     "name": "stdout",
     "output_type": "stream",
     "text": [
      "[1] \"auc: 0.726853354383031\"\n",
      "[1] \"O/E 比率: 0.934843703114686\"\n",
      "[1] \"c_slope: 1.10985655675898\"\n",
      "[1] \"Brier 分数: 0.143343880748917\"\n"
     ]
    },
    {
     "name": "stderr",
     "output_type": "stream",
     "text": [
      "Setting levels: control = 0, case = 1\n",
      "\n",
      "Setting direction: controls < cases\n",
      "\n"
     ]
    },
    {
     "name": "stdout",
     "output_type": "stream",
     "text": [
      "[1] \"auc: 0.722807521783137\"\n",
      "[1] \"O/E 比率: 0.95268957050599\"\n",
      "[1] \"c_slope: 1.24423679131188\"\n",
      "[1] \"Brier 分数: 0.143649230368346\"\n"
     ]
    },
    {
     "name": "stderr",
     "output_type": "stream",
     "text": [
      "Setting levels: control = 0, case = 1\n",
      "\n",
      "Setting direction: controls < cases\n",
      "\n"
     ]
    },
    {
     "name": "stdout",
     "output_type": "stream",
     "text": [
      "[1] \"auc: 0.725482969547615\"\n",
      "[1] \"O/E 比率: 0.938858073382643\"\n",
      "[1] \"c_slope: 1.11997035385297\"\n",
      "[1] \"Brier 分数: 0.143314186086833\"\n"
     ]
    },
    {
     "name": "stderr",
     "output_type": "stream",
     "text": [
      "Setting levels: control = 0, case = 1\n",
      "\n",
      "Setting direction: controls < cases\n",
      "\n"
     ]
    },
    {
     "name": "stdout",
     "output_type": "stream",
     "text": [
      "[1] \"auc: 0.721765809276536\"\n",
      "[1] \"O/E 比率: 0.936308662882139\"\n",
      "[1] \"c_slope: 1.11280039797219\"\n",
      "[1] \"Brier 分数: 0.144162774986477\"\n"
     ]
    },
    {
     "name": "stderr",
     "output_type": "stream",
     "text": [
      "Setting levels: control = 0, case = 1\n",
      "\n",
      "Setting direction: controls < cases\n",
      "\n"
     ]
    },
    {
     "name": "stdout",
     "output_type": "stream",
     "text": [
      "[1] \"auc: 0.721866198732617\"\n",
      "[1] \"O/E 比率: 0.979596997967654\"\n",
      "[1] \"c_slope: 1.07585010581159\"\n",
      "[1] \"Brier 分数: 0.144174046653325\"\n"
     ]
    },
    {
     "name": "stderr",
     "output_type": "stream",
     "text": [
      "Setting levels: control = 0, case = 1\n",
      "\n",
      "Setting direction: controls < cases\n",
      "\n"
     ]
    },
    {
     "name": "stdout",
     "output_type": "stream",
     "text": [
      "[1] \"auc: 0.719895196158247\"\n",
      "[1] \"O/E 比率: 0.926351966304092\"\n",
      "[1] \"c_slope: 1.15710726773255\"\n",
      "[1] \"Brier 分数: 0.144142034913638\"\n"
     ]
    },
    {
     "name": "stderr",
     "output_type": "stream",
     "text": [
      "Setting levels: control = 0, case = 1\n",
      "\n",
      "Setting direction: controls < cases\n",
      "\n"
     ]
    },
    {
     "name": "stdout",
     "output_type": "stream",
     "text": [
      "[1] \"auc: 0.723827918720296\"\n",
      "[1] \"O/E 比率: 0.979279075810875\"\n",
      "[1] \"c_slope: 1.08096415150179\"\n",
      "[1] \"Brier 分数: 0.143121689591124\"\n"
     ]
    },
    {
     "name": "stderr",
     "output_type": "stream",
     "text": [
      "Setting levels: control = 0, case = 1\n",
      "\n",
      "Setting direction: controls < cases\n",
      "\n"
     ]
    },
    {
     "name": "stdout",
     "output_type": "stream",
     "text": [
      "[1] \"auc: 0.721911580267559\"\n",
      "[1] \"O/E 比率: 0.912783957362427\"\n",
      "[1] \"c_slope: 1.10864629581336\"\n",
      "[1] \"Brier 分数: 0.144196480354588\"\n"
     ]
    },
    {
     "name": "stderr",
     "output_type": "stream",
     "text": [
      "Setting levels: control = 0, case = 1\n",
      "\n",
      "Setting direction: controls < cases\n",
      "\n"
     ]
    },
    {
     "name": "stdout",
     "output_type": "stream",
     "text": [
      "[1] \"auc: 0.722688910953177\"\n",
      "[1] \"O/E 比率: 0.958927914822722\"\n",
      "[1] \"c_slope: 1.08484267836245\"\n",
      "[1] \"Brier 分数: 0.14345499469967\"\n"
     ]
    },
    {
     "name": "stderr",
     "output_type": "stream",
     "text": [
      "Setting levels: control = 0, case = 1\n",
      "\n",
      "Setting direction: controls < cases\n",
      "\n"
     ]
    },
    {
     "name": "stdout",
     "output_type": "stream",
     "text": [
      "[1] \"auc: 0.722978046338673\"\n",
      "[1] \"O/E 比率: 0.956710140371258\"\n",
      "[1] \"c_slope: 1.06334431719052\"\n",
      "[1] \"Brier 分数: 0.143953174031382\"\n"
     ]
    },
    {
     "name": "stderr",
     "output_type": "stream",
     "text": [
      "Setting levels: control = 0, case = 1\n",
      "\n",
      "Setting direction: controls < cases\n",
      "\n"
     ]
    },
    {
     "name": "stdout",
     "output_type": "stream",
     "text": [
      "[1] \"auc: 0.72133537229361\"\n",
      "[1] \"O/E 比率: 0.925880863617739\"\n",
      "[1] \"c_slope: 1.08085142226841\"\n",
      "[1] \"Brier 分数: 0.143884714466568\"\n"
     ]
    },
    {
     "name": "stderr",
     "output_type": "stream",
     "text": [
      "Setting levels: control = 0, case = 1\n",
      "\n",
      "Setting direction: controls < cases\n",
      "\n"
     ]
    },
    {
     "name": "stdout",
     "output_type": "stream",
     "text": [
      "[1] \"auc: 0.717679752134307\"\n",
      "[1] \"O/E 比率: 0.933786030452556\"\n",
      "[1] \"c_slope: 1.0600296386174\"\n",
      "[1] \"Brier 分数: 0.144262724022348\"\n"
     ]
    },
    {
     "name": "stderr",
     "output_type": "stream",
     "text": [
      "Setting levels: control = 0, case = 1\n",
      "\n",
      "Setting direction: controls < cases\n",
      "\n"
     ]
    },
    {
     "name": "stdout",
     "output_type": "stream",
     "text": [
      "[1] \"auc: 0.723851984685795\"\n",
      "[1] \"O/E 比率: 0.974610958044017\"\n",
      "[1] \"c_slope: 1.08911289645323\"\n",
      "[1] \"Brier 分数: 0.144092196294706\"\n"
     ]
    },
    {
     "name": "stderr",
     "output_type": "stream",
     "text": [
      "Setting levels: control = 0, case = 1\n",
      "\n",
      "Setting direction: controls < cases\n",
      "\n"
     ]
    },
    {
     "name": "stdout",
     "output_type": "stream",
     "text": [
      "[1] \"auc: 0.722622557648301\"\n",
      "[1] \"O/E 比率: 0.89848651544111\"\n",
      "[1] \"c_slope: 1.05566492048645\"\n",
      "[1] \"Brier 分数: 0.144288206436764\"\n"
     ]
    },
    {
     "name": "stderr",
     "output_type": "stream",
     "text": [
      "Setting levels: control = 0, case = 1\n",
      "\n",
      "Setting direction: controls < cases\n",
      "\n"
     ]
    },
    {
     "name": "stdout",
     "output_type": "stream",
     "text": [
      "[1] \"auc: 0.72162760187467\"\n",
      "[1] \"O/E 比率: 0.961865124241419\"\n",
      "[1] \"c_slope: 1.11270224016054\"\n",
      "[1] \"Brier 分数: 0.14394971750146\"\n"
     ]
    },
    {
     "name": "stderr",
     "output_type": "stream",
     "text": [
      "Setting levels: control = 0, case = 1\n",
      "\n",
      "Setting direction: controls < cases\n",
      "\n"
     ]
    },
    {
     "name": "stdout",
     "output_type": "stream",
     "text": [
      "[1] \"auc: 0.724258699502728\"\n",
      "[1] \"O/E 比率: 0.913958740854337\"\n",
      "[1] \"c_slope: 1.1105790656033\"\n",
      "[1] \"Brier 分数: 0.143801696300173\"\n"
     ]
    },
    {
     "name": "stderr",
     "output_type": "stream",
     "text": [
      "Setting levels: control = 0, case = 1\n",
      "\n",
      "Setting direction: controls < cases\n",
      "\n"
     ]
    },
    {
     "name": "stdout",
     "output_type": "stream",
     "text": [
      "[1] \"auc: 0.720260998833832\"\n",
      "[1] \"O/E 比率: 0.958762475066698\"\n",
      "[1] \"c_slope: 1.13840589266239\"\n",
      "[1] \"Brier 分数: 0.144402624740327\"\n"
     ]
    },
    {
     "name": "stderr",
     "output_type": "stream",
     "text": [
      "Setting levels: control = 0, case = 1\n",
      "\n",
      "Setting direction: controls < cases\n",
      "\n"
     ]
    },
    {
     "name": "stdout",
     "output_type": "stream",
     "text": [
      "[1] \"auc: 0.720205990912691\"\n",
      "[1] \"O/E 比率: 0.94413806321347\"\n",
      "[1] \"c_slope: 1.15100903964949\"\n",
      "[1] \"Brier 分数: 0.144326995377941\"\n"
     ]
    },
    {
     "name": "stderr",
     "output_type": "stream",
     "text": [
      "Setting levels: control = 0, case = 1\n",
      "\n",
      "Setting direction: controls < cases\n",
      "\n"
     ]
    },
    {
     "name": "stdout",
     "output_type": "stream",
     "text": [
      "[1] \"auc: 0.721450545128498\"\n",
      "[1] \"O/E 比率: 0.975801258124726\"\n",
      "[1] \"c_slope: 1.08434108000882\"\n",
      "[1] \"Brier 分数: 0.144074234384361\"\n"
     ]
    },
    {
     "name": "stderr",
     "output_type": "stream",
     "text": [
      "Setting levels: control = 0, case = 1\n",
      "\n",
      "Setting direction: controls < cases\n",
      "\n"
     ]
    },
    {
     "name": "stdout",
     "output_type": "stream",
     "text": [
      "[1] \"auc: 0.716971868949129\"\n",
      "[1] \"O/E 比率: 0.979742446886185\"\n",
      "[1] \"c_slope: 1.10219543325415\"\n",
      "[1] \"Brier 分数: 0.144914921129534\"\n"
     ]
    },
    {
     "name": "stderr",
     "output_type": "stream",
     "text": [
      "Setting levels: control = 0, case = 1\n",
      "\n",
      "Setting direction: controls < cases\n",
      "\n"
     ]
    },
    {
     "name": "stdout",
     "output_type": "stream",
     "text": [
      "[1] \"auc: 0.72083961340433\"\n",
      "[1] \"O/E 比率: 0.932940767046901\"\n",
      "[1] \"c_slope: 1.0905621422285\"\n",
      "[1] \"Brier 分数: 0.144331822129444\"\n"
     ]
    },
    {
     "name": "stderr",
     "output_type": "stream",
     "text": [
      "Setting levels: control = 0, case = 1\n",
      "\n",
      "Setting direction: controls < cases\n",
      "\n"
     ]
    },
    {
     "name": "stdout",
     "output_type": "stream",
     "text": [
      "[1] \"auc: 0.7253279159699\"\n",
      "[1] \"O/E 比率: 0.946712704291692\"\n",
      "[1] \"c_slope: 1.17696541696305\"\n",
      "[1] \"Brier 分数: 0.143759310103178\"\n"
     ]
    },
    {
     "name": "stderr",
     "output_type": "stream",
     "text": [
      "Setting levels: control = 0, case = 1\n",
      "\n",
      "Setting direction: controls < cases\n",
      "\n"
     ]
    },
    {
     "name": "stdout",
     "output_type": "stream",
     "text": [
      "[1] \"auc: 0.724166905034325\"\n",
      "[1] \"O/E 比率: 0.94962048317449\"\n",
      "[1] \"c_slope: 1.15895811642553\"\n",
      "[1] \"Brier 分数: 0.143904699594356\"\n"
     ]
    },
    {
     "name": "stderr",
     "output_type": "stream",
     "text": [
      "Setting levels: control = 0, case = 1\n",
      "\n",
      "Setting direction: controls < cases\n",
      "\n"
     ]
    },
    {
     "name": "stdout",
     "output_type": "stream",
     "text": [
      "[1] \"auc: 0.723647080179546\"\n",
      "[1] \"O/E 比率: 0.927378471013388\"\n",
      "[1] \"c_slope: 1.12519523358276\"\n",
      "[1] \"Brier 分数: 0.143681717469955\"\n"
     ]
    },
    {
     "name": "stderr",
     "output_type": "stream",
     "text": [
      "Setting levels: control = 0, case = 1\n",
      "\n",
      "Setting direction: controls < cases\n",
      "\n"
     ]
    },
    {
     "name": "stdout",
     "output_type": "stream",
     "text": [
      "[1] \"auc: 0.720100444464003\"\n",
      "[1] \"O/E 比率: 0.919165667265731\"\n",
      "[1] \"c_slope: 1.13658770434859\"\n",
      "[1] \"Brier 分数: 0.144778874207661\"\n"
     ]
    },
    {
     "name": "stderr",
     "output_type": "stream",
     "text": [
      "Setting levels: control = 0, case = 1\n",
      "\n",
      "Setting direction: controls < cases\n",
      "\n"
     ]
    },
    {
     "name": "stdout",
     "output_type": "stream",
     "text": [
      "[1] \"auc: 0.720194645528956\"\n",
      "[1] \"O/E 比率: 0.926951433362744\"\n",
      "[1] \"c_slope: 1.05781384763482\"\n",
      "[1] \"Brier 分数: 0.14471997189927\"\n"
     ]
    },
    {
     "name": "stderr",
     "output_type": "stream",
     "text": [
      "Setting levels: control = 0, case = 1\n",
      "\n",
      "Setting direction: controls < cases\n",
      "\n"
     ]
    },
    {
     "name": "stdout",
     "output_type": "stream",
     "text": [
      "[1] \"auc: 0.72370999548935\"\n",
      "[1] \"O/E 比率: 0.939990157905809\"\n",
      "[1] \"c_slope: 1.16409148793906\"\n",
      "[1] \"Brier 分数: 0.144036531598305\"\n"
     ]
    },
    {
     "name": "stderr",
     "output_type": "stream",
     "text": [
      "Setting levels: control = 0, case = 1\n",
      "\n",
      "Setting direction: controls < cases\n",
      "\n"
     ]
    },
    {
     "name": "stdout",
     "output_type": "stream",
     "text": [
      "[1] \"auc: 0.718269024489526\"\n",
      "[1] \"O/E 比率: 0.93257374737621\"\n",
      "[1] \"c_slope: 1.16074473288719\"\n",
      "[1] \"Brier 分数: 0.144318974297412\"\n"
     ]
    },
    {
     "name": "stderr",
     "output_type": "stream",
     "text": [
      "Setting levels: control = 0, case = 1\n",
      "\n",
      "Setting direction: controls < cases\n",
      "\n"
     ]
    },
    {
     "name": "stdout",
     "output_type": "stream",
     "text": [
      "[1] \"auc: 0.723130693319838\"\n",
      "[1] \"O/E 比率: 0.921907983965715\"\n",
      "[1] \"c_slope: 1.05468240384442\"\n",
      "[1] \"Brier 分数: 0.144158913548068\"\n"
     ]
    },
    {
     "name": "stderr",
     "output_type": "stream",
     "text": [
      "Setting levels: control = 0, case = 1\n",
      "\n",
      "Setting direction: controls < cases\n",
      "\n"
     ]
    },
    {
     "name": "stdout",
     "output_type": "stream",
     "text": [
      "[1] \"auc: 0.722960512563809\"\n",
      "[1] \"O/E 比率: 0.940863809054081\"\n",
      "[1] \"c_slope: 1.16442230385366\"\n",
      "[1] \"Brier 分数: 0.143854666670699\"\n"
     ]
    },
    {
     "name": "stderr",
     "output_type": "stream",
     "text": [
      "Setting levels: control = 0, case = 1\n",
      "\n",
      "Setting direction: controls < cases\n",
      "\n"
     ]
    },
    {
     "name": "stdout",
     "output_type": "stream",
     "text": [
      "[1] \"auc: 0.725832613646365\"\n",
      "[1] \"O/E 比率: 0.95575564803733\"\n",
      "[1] \"c_slope: 1.16353716329629\"\n",
      "[1] \"Brier 分数: 0.143719960000387\"\n"
     ]
    },
    {
     "name": "stderr",
     "output_type": "stream",
     "text": [
      "Setting levels: control = 0, case = 1\n",
      "\n",
      "Setting direction: controls < cases\n",
      "\n"
     ]
    },
    {
     "name": "stdout",
     "output_type": "stream",
     "text": [
      "[1] \"auc: 0.72272088430734\"\n",
      "[1] \"O/E 比率: 0.962933168524009\"\n",
      "[1] \"c_slope: 1.1031159425503\"\n",
      "[1] \"Brier 分数: 0.14346444167289\"\n"
     ]
    },
    {
     "name": "stderr",
     "output_type": "stream",
     "text": [
      "Setting levels: control = 0, case = 1\n",
      "\n",
      "Setting direction: controls < cases\n",
      "\n"
     ]
    },
    {
     "name": "stdout",
     "output_type": "stream",
     "text": [
      "[1] \"auc: 0.718593915023763\"\n",
      "[1] \"O/E 比率: 0.987897155973654\"\n",
      "[1] \"c_slope: 1.11884049734544\"\n",
      "[1] \"Brier 分数: 0.144195963343122\"\n"
     ]
    },
    {
     "name": "stderr",
     "output_type": "stream",
     "text": [
      "Setting levels: control = 0, case = 1\n",
      "\n",
      "Setting direction: controls < cases\n",
      "\n"
     ]
    },
    {
     "name": "stdout",
     "output_type": "stream",
     "text": [
      "[1] \"auc: 0.721063770682978\"\n",
      "[1] \"O/E 比率: 0.950955531600774\"\n",
      "[1] \"c_slope: 1.06768025349989\"\n",
      "[1] \"Brier 分数: 0.143929985465489\"\n"
     ]
    },
    {
     "name": "stderr",
     "output_type": "stream",
     "text": [
      "Setting levels: control = 0, case = 1\n",
      "\n",
      "Setting direction: controls < cases\n",
      "\n"
     ]
    },
    {
     "name": "stdout",
     "output_type": "stream",
     "text": [
      "[1] \"auc: 0.721904704277416\"\n",
      "[1] \"O/E 比率: 0.938814742818309\"\n",
      "[1] \"c_slope: 1.08586695338254\"\n",
      "[1] \"Brier 分数: 0.144299999043498\"\n"
     ]
    },
    {
     "name": "stderr",
     "output_type": "stream",
     "text": [
      "Setting levels: control = 0, case = 1\n",
      "\n",
      "Setting direction: controls < cases\n",
      "\n"
     ]
    },
    {
     "name": "stdout",
     "output_type": "stream",
     "text": [
      "[1] \"auc: 0.728088282212639\"\n",
      "[1] \"O/E 比率: 0.961187456144337\"\n",
      "[1] \"c_slope: 1.14142128438193\"\n",
      "[1] \"Brier 分数: 0.142845583469588\"\n"
     ]
    },
    {
     "name": "stderr",
     "output_type": "stream",
     "text": [
      "Setting levels: control = 0, case = 1\n",
      "\n",
      "Setting direction: controls < cases\n",
      "\n"
     ]
    },
    {
     "name": "stdout",
     "output_type": "stream",
     "text": [
      "[1] \"auc: 0.722126111160007\"\n",
      "[1] \"O/E 比率: 0.9067816625132\"\n",
      "[1] \"c_slope: 1.07162123077584\"\n",
      "[1] \"Brier 分数: 0.144338205209508\"\n"
     ]
    },
    {
     "name": "stderr",
     "output_type": "stream",
     "text": [
      "Setting levels: control = 0, case = 1\n",
      "\n",
      "Setting direction: controls < cases\n",
      "\n"
     ]
    },
    {
     "name": "stdout",
     "output_type": "stream",
     "text": [
      "[1] \"auc: 0.724215036965323\"\n",
      "[1] \"O/E 比率: 0.936943990996917\"\n",
      "[1] \"c_slope: 1.07616021025078\"\n",
      "[1] \"Brier 分数: 0.144147323894232\"\n"
     ]
    },
    {
     "name": "stderr",
     "output_type": "stream",
     "text": [
      "Setting levels: control = 0, case = 1\n",
      "\n",
      "Setting direction: controls < cases\n",
      "\n"
     ]
    },
    {
     "name": "stdout",
     "output_type": "stream",
     "text": [
      "[1] \"auc: 0.722878000682098\"\n",
      "[1] \"O/E 比率: 1.00103131867923\"\n",
      "[1] \"c_slope: 1.07898199239206\"\n",
      "[1] \"Brier 分数: 0.143727606952512\"\n"
     ]
    },
    {
     "name": "stderr",
     "output_type": "stream",
     "text": [
      "Setting levels: control = 0, case = 1\n",
      "\n",
      "Setting direction: controls < cases\n",
      "\n"
     ]
    },
    {
     "name": "stdout",
     "output_type": "stream",
     "text": [
      "[1] \"auc: 0.722671377178314\"\n",
      "[1] \"O/E 比率: 0.949395220830336\"\n",
      "[1] \"c_slope: 1.07728607323138\"\n",
      "[1] \"Brier 分数: 0.143546399205738\"\n"
     ]
    },
    {
     "name": "stderr",
     "output_type": "stream",
     "text": [
      "Setting levels: control = 0, case = 1\n",
      "\n",
      "Setting direction: controls < cases\n",
      "\n"
     ]
    },
    {
     "name": "stdout",
     "output_type": "stream",
     "text": [
      "[1] \"auc: 0.726683861226017\"\n",
      "[1] \"O/E 比率: 0.956201587301134\"\n",
      "[1] \"c_slope: 1.00105885898375\"\n",
      "[1] \"Brier 分数: 0.143589624652691\"\n"
     ]
    },
    {
     "name": "stderr",
     "output_type": "stream",
     "text": [
      "Setting levels: control = 0, case = 1\n",
      "\n",
      "Setting direction: controls < cases\n",
      "\n"
     ]
    },
    {
     "name": "stdout",
     "output_type": "stream",
     "text": [
      "[1] \"auc: 0.721858978942968\"\n",
      "[1] \"O/E 比率: 0.941154976581506\"\n",
      "[1] \"c_slope: 1.04000278164355\"\n",
      "[1] \"Brier 分数: 0.143779983827636\"\n"
     ]
    },
    {
     "name": "stderr",
     "output_type": "stream",
     "text": [
      "Setting levels: control = 0, case = 1\n",
      "\n",
      "Setting direction: controls < cases\n",
      "\n"
     ]
    },
    {
     "name": "stdout",
     "output_type": "stream",
     "text": [
      "[1] \"auc: 0.724293423252948\"\n",
      "[1] \"O/E 比率: 0.957262892615675\"\n",
      "[1] \"c_slope: 1.11890451400608\"\n",
      "[1] \"Brier 分数: 0.143566385944054\"\n"
     ]
    },
    {
     "name": "stderr",
     "output_type": "stream",
     "text": [
      "Setting levels: control = 0, case = 1\n",
      "\n",
      "Setting direction: controls < cases\n",
      "\n"
     ]
    },
    {
     "name": "stdout",
     "output_type": "stream",
     "text": [
      "[1] \"auc: 0.725283909632987\"\n",
      "[1] \"O/E 比率: 0.925683650315863\"\n",
      "[1] \"c_slope: 1.14622673534055\"\n",
      "[1] \"Brier 分数: 0.143983367168477\"\n"
     ]
    },
    {
     "name": "stderr",
     "output_type": "stream",
     "text": [
      "Setting levels: control = 0, case = 1\n",
      "\n",
      "Setting direction: controls < cases\n",
      "\n"
     ]
    },
    {
     "name": "stdout",
     "output_type": "stream",
     "text": [
      "[1] \"auc: 0.718595977820806\"\n",
      "[1] \"O/E 比率: 0.978057337465335\"\n",
      "[1] \"c_slope: 1.08425591009759\"\n",
      "[1] \"Brier 分数: 0.144832246196218\"\n"
     ]
    },
    {
     "name": "stderr",
     "output_type": "stream",
     "text": [
      "Setting levels: control = 0, case = 1\n",
      "\n",
      "Setting direction: controls < cases\n",
      "\n"
     ]
    },
    {
     "name": "stdout",
     "output_type": "stream",
     "text": [
      "[1] \"auc: 0.721663700822919\"\n",
      "[1] \"O/E 比率: 0.960216642950493\"\n",
      "[1] \"c_slope: 1.08138913624712\"\n",
      "[1] \"Brier 分数: 0.144479570694129\"\n"
     ]
    },
    {
     "name": "stderr",
     "output_type": "stream",
     "text": [
      "Setting levels: control = 0, case = 1\n",
      "\n",
      "Setting direction: controls < cases\n",
      "\n"
     ]
    },
    {
     "name": "stdout",
     "output_type": "stream",
     "text": [
      "[1] \"auc: 0.717110420150502\"\n",
      "[1] \"O/E 比率: 0.938821759801242\"\n",
      "[1] \"c_slope: 1.05993566666198\"\n",
      "[1] \"Brier 分数: 0.144366527785852\"\n"
     ]
    },
    {
     "name": "stderr",
     "output_type": "stream",
     "text": [
      "Setting levels: control = 0, case = 1\n",
      "\n",
      "Setting direction: controls < cases\n",
      "\n"
     ]
    },
    {
     "name": "stdout",
     "output_type": "stream",
     "text": [
      "[1] \"auc: 0.722162210108256\"\n",
      "[1] \"O/E 比率: 0.920389891492959\"\n",
      "[1] \"c_slope: 1.04965167550614\"\n",
      "[1] \"Brier 分数: 0.144173203168343\"\n"
     ]
    },
    {
     "name": "stderr",
     "output_type": "stream",
     "text": [
      "Setting levels: control = 0, case = 1\n",
      "\n",
      "Setting direction: controls < cases\n",
      "\n"
     ]
    },
    {
     "name": "stdout",
     "output_type": "stream",
     "text": [
      "[1] \"auc: 0.724618313787185\"\n",
      "[1] \"O/E 比率: 0.958488924233908\"\n",
      "[1] \"c_slope: 1.06869960365365\"\n",
      "[1] \"Brier 分数: 0.143669630804221\"\n"
     ]
    },
    {
     "name": "stderr",
     "output_type": "stream",
     "text": [
      "Setting levels: control = 0, case = 1\n",
      "\n",
      "Setting direction: controls < cases\n",
      "\n"
     ]
    },
    {
     "name": "stdout",
     "output_type": "stream",
     "text": [
      "[1] \"auc: 0.719663131490935\"\n",
      "[1] \"O/E 比率: 0.970729175590508\"\n",
      "[1] \"c_slope: 1.12480096803654\"\n",
      "[1] \"Brier 分数: 0.143860555998578\"\n"
     ]
    },
    {
     "name": "stderr",
     "output_type": "stream",
     "text": [
      "Setting levels: control = 0, case = 1\n",
      "\n",
      "Setting direction: controls < cases\n",
      "\n"
     ]
    },
    {
     "name": "stdout",
     "output_type": "stream",
     "text": [
      "[1] \"auc: 0.721293084954233\"\n",
      "[1] \"O/E 比率: 0.927839162002285\"\n",
      "[1] \"c_slope: 1.09323232809522\"\n",
      "[1] \"Brier 分数: 0.14416237259487\"\n"
     ]
    },
    {
     "name": "stderr",
     "output_type": "stream",
     "text": [
      "Setting levels: control = 0, case = 1\n",
      "\n",
      "Setting direction: controls < cases\n",
      "\n"
     ]
    },
    {
     "name": "stdout",
     "output_type": "stream",
     "text": [
      "[1] \"auc: 0.724103302125506\"\n",
      "[1] \"O/E 比率: 0.941558870117175\"\n",
      "[1] \"c_slope: 1.05742785068156\"\n",
      "[1] \"Brier 分数: 0.143986870415825\"\n"
     ]
    },
    {
     "name": "stderr",
     "output_type": "stream",
     "text": [
      "Setting levels: control = 0, case = 1\n",
      "\n",
      "Setting direction: controls < cases\n",
      "\n"
     ]
    },
    {
     "name": "stdout",
     "output_type": "stream",
     "text": [
      "[1] \"auc: 0.724478043588277\"\n",
      "[1] \"O/E 比率: 0.965989722439251\"\n",
      "[1] \"c_slope: 1.1277066943055\"\n",
      "[1] \"Brier 分数: 0.143878692533323\"\n"
     ]
    },
    {
     "name": "stderr",
     "output_type": "stream",
     "text": [
      "Setting levels: control = 0, case = 1\n",
      "\n",
      "Setting direction: controls < cases\n",
      "\n"
     ]
    },
    {
     "name": "stdout",
     "output_type": "stream",
     "text": [
      "[1] \"auc: 0.725004056834184\"\n",
      "[1] \"O/E 比率: 0.916492208617689\"\n",
      "[1] \"c_slope: 1.10436966061497\"\n",
      "[1] \"Brier 分数: 0.143983496929727\"\n"
     ]
    },
    {
     "name": "stderr",
     "output_type": "stream",
     "text": [
      "Setting levels: control = 0, case = 1\n",
      "\n",
      "Setting direction: controls < cases\n",
      "\n"
     ]
    },
    {
     "name": "stdout",
     "output_type": "stream",
     "text": [
      "[1] \"auc: 0.720277501210174\"\n",
      "[1] \"O/E 比率: 0.944131840197605\"\n",
      "[1] \"c_slope: 1.03340214481659\"\n",
      "[1] \"Brier 分数: 0.144440249273167\"\n"
     ]
    },
    {
     "name": "stderr",
     "output_type": "stream",
     "text": [
      "Setting levels: control = 0, case = 1\n",
      "\n",
      "Setting direction: controls < cases\n",
      "\n"
     ]
    },
    {
     "name": "stdout",
     "output_type": "stream",
     "text": [
      "[1] \"auc: 0.725810266678402\"\n",
      "[1] \"O/E 比率: 0.909102097899626\"\n",
      "[1] \"c_slope: 1.04427280497783\"\n",
      "[1] \"Brier 分数: 0.144105693670116\"\n"
     ]
    },
    {
     "name": "stderr",
     "output_type": "stream",
     "text": [
      "Setting levels: control = 0, case = 1\n",
      "\n",
      "Setting direction: controls < cases\n",
      "\n"
     ]
    },
    {
     "name": "stdout",
     "output_type": "stream",
     "text": [
      "[1] \"auc: 0.724541302697588\"\n",
      "[1] \"O/E 比率: 0.983463549535634\"\n",
      "[1] \"c_slope: 1.19912737340574\"\n",
      "[1] \"Brier 分数: 0.143502540969305\"\n"
     ]
    },
    {
     "name": "stderr",
     "output_type": "stream",
     "text": [
      "Setting levels: control = 0, case = 1\n",
      "\n",
      "Setting direction: controls < cases\n",
      "\n"
     ]
    },
    {
     "name": "stdout",
     "output_type": "stream",
     "text": [
      "[1] \"auc: 0.721063426883471\"\n",
      "[1] \"O/E 比率: 0.950019921079598\"\n",
      "[1] \"c_slope: 1.10369265527792\"\n",
      "[1] \"Brier 分数: 0.144231832806917\"\n"
     ]
    },
    {
     "name": "stderr",
     "output_type": "stream",
     "text": [
      "Setting levels: control = 0, case = 1\n",
      "\n",
      "Setting direction: controls < cases\n",
      "\n"
     ]
    },
    {
     "name": "stdout",
     "output_type": "stream",
     "text": [
      "[1] \"auc: 0.719571337022531\"\n",
      "[1] \"O/E 比率: 0.923772228365176\"\n",
      "[1] \"c_slope: 1.08289064025026\"\n",
      "[1] \"Brier 分数: 0.145161577093438\"\n"
     ]
    },
    {
     "name": "stderr",
     "output_type": "stream",
     "text": [
      "Setting levels: control = 0, case = 1\n",
      "\n",
      "Setting direction: controls < cases\n",
      "\n"
     ]
    },
    {
     "name": "stdout",
     "output_type": "stream",
     "text": [
      "[1] \"auc: 0.718927400545679\"\n",
      "[1] \"O/E 比率: 0.925636920106507\"\n",
      "[1] \"c_slope: 1.01987282537312\"\n",
      "[1] \"Brier 分数: 0.144575331118041\"\n"
     ]
    },
    {
     "name": "stderr",
     "output_type": "stream",
     "text": [
      "Setting levels: control = 0, case = 1\n",
      "\n",
      "Setting direction: controls < cases\n",
      "\n"
     ]
    },
    {
     "name": "stdout",
     "output_type": "stream",
     "text": [
      "[1] \"auc: 0.720487218909523\"\n",
      "[1] \"O/E 比率: 0.920882460560034\"\n",
      "[1] \"c_slope: 1.1733012397181\"\n",
      "[1] \"Brier 分数: 0.144519159460221\"\n"
     ]
    },
    {
     "name": "stderr",
     "output_type": "stream",
     "text": [
      "Setting levels: control = 0, case = 1\n",
      "\n",
      "Setting direction: controls < cases\n",
      "\n"
     ]
    },
    {
     "name": "stdout",
     "output_type": "stream",
     "text": [
      "[1] \"auc: 0.723197390424221\"\n",
      "[1] \"O/E 比率: 0.961347701558538\"\n",
      "[1] \"c_slope: 1.13183802992319\"\n",
      "[1] \"Brier 分数: 0.143745063722926\"\n"
     ]
    },
    {
     "name": "stderr",
     "output_type": "stream",
     "text": [
      "Setting levels: control = 0, case = 1\n",
      "\n",
      "Setting direction: controls < cases\n",
      "\n"
     ]
    },
    {
     "name": "stdout",
     "output_type": "stream",
     "text": [
      "[1] \"auc: 0.727045194508009\"\n",
      "[1] \"O/E 比率: 0.971545114809895\"\n",
      "[1] \"c_slope: 1.14369367313279\"\n",
      "[1] \"Brier 分数: 0.143529716180183\"\n"
     ]
    },
    {
     "name": "stderr",
     "output_type": "stream",
     "text": [
      "Setting levels: control = 0, case = 1\n",
      "\n",
      "Setting direction: controls < cases\n",
      "\n"
     ]
    },
    {
     "name": "stdout",
     "output_type": "stream",
     "text": [
      "[1] \"auc: 0.721136999977997\"\n",
      "[1] \"O/E 比率: 0.938919120038161\"\n",
      "[1] \"c_slope: 1.10719824064057\"\n",
      "[1] \"Brier 分数: 0.143888666111843\"\n"
     ]
    },
    {
     "name": "stderr",
     "output_type": "stream",
     "text": [
      "Setting levels: control = 0, case = 1\n",
      "\n",
      "Setting direction: controls < cases\n",
      "\n"
     ]
    },
    {
     "name": "stdout",
     "output_type": "stream",
     "text": [
      "[1] \"auc: 0.717963042928182\"\n",
      "[1] \"O/E 比率: 0.930739440837435\"\n",
      "[1] \"c_slope: 1.08928734725402\"\n",
      "[1] \"Brier 分数: 0.144580793465305\"\n"
     ]
    },
    {
     "name": "stderr",
     "output_type": "stream",
     "text": [
      "Setting levels: control = 0, case = 1\n",
      "\n",
      "Setting direction: controls < cases\n",
      "\n"
     ]
    },
    {
     "name": "stdout",
     "output_type": "stream",
     "text": [
      "[1] \"auc: 0.721387286019187\"\n",
      "[1] \"O/E 比率: 0.955898927634635\"\n",
      "[1] \"c_slope: 1.10769623268937\"\n",
      "[1] \"Brier 分数: 0.14446465350204\"\n"
     ]
    },
    {
     "name": "stderr",
     "output_type": "stream",
     "text": [
      "Setting levels: control = 0, case = 1\n",
      "\n",
      "Setting direction: controls < cases\n",
      "\n"
     ]
    },
    {
     "name": "stdout",
     "output_type": "stream",
     "text": [
      "[1] \"auc: 0.721315431922197\"\n",
      "[1] \"O/E 比率: 0.947523826109426\"\n",
      "[1] \"c_slope: 1.11173055262194\"\n",
      "[1] \"Brier 分数: 0.144178520334083\"\n"
     ]
    },
    {
     "name": "stderr",
     "output_type": "stream",
     "text": [
      "Setting levels: control = 0, case = 1\n",
      "\n",
      "Setting direction: controls < cases\n",
      "\n"
     ]
    },
    {
     "name": "stdout",
     "output_type": "stream",
     "text": [
      "[1] \"auc: 0.72347655562401\"\n",
      "[1] \"O/E 比率: 0.929941132604216\"\n",
      "[1] \"c_slope: 1.0854812646371\"\n",
      "[1] \"Brier 分数: 0.143686492714372\"\n"
     ]
    },
    {
     "name": "stderr",
     "output_type": "stream",
     "text": [
      "Setting levels: control = 0, case = 1\n",
      "\n",
      "Setting direction: controls < cases\n",
      "\n"
     ]
    },
    {
     "name": "stdout",
     "output_type": "stream",
     "text": [
      "[1] \"auc: 0.724321271013026\"\n",
      "[1] \"O/E 比率: 0.953566471897177\"\n",
      "[1] \"c_slope: 1.08380875187535\"\n",
      "[1] \"Brier 分数: 0.143926003530556\"\n"
     ]
    },
    {
     "name": "stderr",
     "output_type": "stream",
     "text": [
      "Setting levels: control = 0, case = 1\n",
      "\n",
      "Setting direction: controls < cases\n",
      "\n"
     ]
    },
    {
     "name": "stdout",
     "output_type": "stream",
     "text": [
      "[1] \"auc: 0.72365498756821\"\n",
      "[1] \"O/E 比率: 0.936962694561825\"\n",
      "[1] \"c_slope: 1.04466391058041\"\n",
      "[1] \"Brier 分数: 0.14410485910085\"\n"
     ]
    },
    {
     "name": "stderr",
     "output_type": "stream",
     "text": [
      "Setting levels: control = 0, case = 1\n",
      "\n",
      "Setting direction: controls < cases\n",
      "\n"
     ]
    },
    {
     "name": "stdout",
     "output_type": "stream",
     "text": [
      "[1] \"auc: 0.722242659192924\"\n",
      "[1] \"O/E 比率: 0.988020140016619\"\n",
      "[1] \"c_slope: 1.13028489837317\"\n",
      "[1] \"Brier 分数: 0.144748558938006\"\n"
     ]
    },
    {
     "name": "stderr",
     "output_type": "stream",
     "text": [
      "Setting levels: control = 0, case = 1\n",
      "\n",
      "Setting direction: controls < cases\n",
      "\n"
     ]
    },
    {
     "name": "stdout",
     "output_type": "stream",
     "text": [
      "[1] \"auc: 0.723084624185883\"\n",
      "[1] \"O/E 比率: 0.906302628485175\"\n",
      "[1] \"c_slope: 1.06434718983704\"\n",
      "[1] \"Brier 分数: 0.144472831261443\"\n"
     ]
    },
    {
     "name": "stderr",
     "output_type": "stream",
     "text": [
      "Setting levels: control = 0, case = 1\n",
      "\n",
      "Setting direction: controls < cases\n",
      "\n"
     ]
    },
    {
     "name": "stdout",
     "output_type": "stream",
     "text": [
      "[1] \"auc: 0.722773141832424\"\n",
      "[1] \"O/E 比率: 0.942121982291442\"\n",
      "[1] \"c_slope: 1.08892760969917\"\n",
      "[1] \"Brier 分数: 0.143761703153826\"\n"
     ]
    },
    {
     "name": "stderr",
     "output_type": "stream",
     "text": [
      "Setting levels: control = 0, case = 1\n",
      "\n",
      "Setting direction: controls < cases\n",
      "\n"
     ]
    },
    {
     "name": "stdout",
     "output_type": "stream",
     "text": [
      "[1] \"auc: 0.718996504246612\"\n",
      "[1] \"O/E 比率: 0.929180732986946\"\n",
      "[1] \"c_slope: 1.12833965388181\"\n",
      "[1] \"Brier 分数: 0.144724822802646\"\n"
     ]
    },
    {
     "name": "stderr",
     "output_type": "stream",
     "text": [
      "Setting levels: control = 0, case = 1\n",
      "\n",
      "Setting direction: controls < cases\n",
      "\n"
     ]
    },
    {
     "name": "stdout",
     "output_type": "stream",
     "text": [
      "[1] \"auc: 0.722114765776272\"\n",
      "[1] \"O/E 比率: 0.925736062744174\"\n",
      "[1] \"c_slope: 1.11917892117512\"\n",
      "[1] \"Brier 分数: 0.143974709323186\"\n"
     ]
    },
    {
     "name": "stderr",
     "output_type": "stream",
     "text": [
      "Setting levels: control = 0, case = 1\n",
      "\n",
      "Setting direction: controls < cases\n",
      "\n"
     ]
    },
    {
     "name": "stdout",
     "output_type": "stream",
     "text": [
      "[1] \"auc: 0.72318913923605\"\n",
      "[1] \"O/E 比率: 0.962394276097503\"\n",
      "[1] \"c_slope: 1.13946582880674\"\n",
      "[1] \"Brier 分数: 0.14404756526715\"\n"
     ]
    },
    {
     "name": "stderr",
     "output_type": "stream",
     "text": [
      "Setting levels: control = 0, case = 1\n",
      "\n",
      "Setting direction: controls < cases\n",
      "\n"
     ]
    },
    {
     "name": "stdout",
     "output_type": "stream",
     "text": [
      "[1] \"auc: 0.721042455113536\"\n",
      "[1] \"O/E 比率: 0.951039763648241\"\n",
      "[1] \"c_slope: 1.12217149679022\"\n",
      "[1] \"Brier 分数: 0.144351378003685\"\n"
     ]
    }
   ],
   "source": [
    "# 循环200个随机种子，生成数据并计算性能指标\n",
    "set.seed(123)  # 确保结果可重复\n",
    "num_simulations <- 200\n",
    "\n",
    "results_event_rate_shift_ml <- data.frame()\n",
    "\n",
    "for (exp in experiments_cs_age) {\n",
    "    results <- data.frame(auc = numeric(num_simulations), o_e = numeric(num_simulations), c_slope = numeric(num_simulations), brier_score = numeric(num_simulations))\n",
    "    for (i in 1:num_simulations) {\n",
    "      # 设置随机种子\n",
    "      set.seed(i)\n",
    "\n",
    "      data_shifted_xgb <- generate_covariate_shifted_data_age_2(i, exp$age_mean_start, exp$age_mean_end)\n",
    "\n",
    "      # 确保 mortality 变量是因子类型\n",
    "      data_shifted_xgb$mortality <- as.factor(data_shifted_xgb$mortality)\n",
    "      data_val$mortality <- as.factor(data_val$mortality)\n",
    "\n",
    "      # 转换数据格式\n",
    "      dtrain <- xgb.DMatrix(data = as.matrix(data_shifted_xgb[, -6]), label = as.numeric(data_shifted_xgb$mortality) - 1)\n",
    "      dval <- xgb.DMatrix(data = as.matrix(data_val[, -6]), label = as.numeric(data_val$mortality) - 1)\n",
    "\n",
    "      # 设置参数\n",
    "      params <- list(\n",
    "        booster = \"gbtree\",\n",
    "        objective = \"binary:logistic\",\n",
    "        eta = 0.1,\n",
    "        max_depth = 3,\n",
    "        eval_metric = \"auc\"\n",
    "      )\n",
    "\n",
    "      # 训练模型\n",
    "      xgb_model <- xgb.train(params, dtrain, nrounds = 50)\n",
    "\n",
    "\n",
    "      # 预测\n",
    "      predictions <- predict(xgb_model, dval)\n",
    "\n",
    "      # 确保测试集的mortality变量是二进制数值类型\n",
    "      test_mortality <- as.numeric(data_val$mortality) - 1\n",
    "\n",
    "      # 计算 AUC\n",
    "      auc <- roc(data_val$mortality, predictions)$auc\n",
    "      print(paste(\"auc:\", auc))\n",
    "\n",
    "      # 绘制 ROC 曲线\n",
    "      #plot.roc(roc_obj, main = paste(\"ROC Curve (AUC =\", round(auc_value, 2), \")\"), col = \"blue\")\n",
    "\n",
    "       # 计算O/E\n",
    "      o_e <- sum(test_mortality) / sum(predictions)\n",
    "      print(paste(\"O/E 比率:\", o_e))\n",
    "\n",
    "      # 计算校准斜率 (C-slope)\n",
    "      # 绘制校准曲线并提取斜率\n",
    "      calibration <- val.prob(predictions, test_mortality, xlab=\"Predicted Probability\", ylab=\"Observed Probability\", pl = FALSE, smooth = FALSE)\n",
    "\n",
    "      c_slope <- calibration[\"Slope\"]\n",
    "\n",
    "      print(paste(\"c_slope:\", c_slope))\n",
    "\n",
    "      # 计算 Brier 分数\n",
    "      brier_score <- BrierScore(test_mortality, predictions)\n",
    "      print(paste(\"Brier 分数:\", brier_score))\n",
    "\n",
    "      # 保存结果\n",
    "      results[i, ] <- c(auc = auc, o_e = o_e, c_slope = c_slope, brier_score = brier_score)\n",
    "\n",
    "    }\n",
    "\n",
    "    # 计算中位数、25%和75%的性能指标\n",
    "    median_metrics_event_rate_shift_ml <- apply(results, 2, median)\n",
    "    quantile_25_metrics_event_rate_shift_ml <- apply(results, 2, quantile, probs = 0.25)\n",
    "    quantile_75_metrics_event_rate_shift_ml <- apply(results, 2, quantile, probs = 0.75)\n",
    "\n",
    "    # 将实验名称和结果添加到总的结果数据框\n",
    "    summary_metrics_event_rate_shift_ml <- data.frame(\n",
    "    experiment = exp$name,\n",
    "    auc_median = median_metrics_event_rate_shift_ml['auc'],\n",
    "    auc_25 = quantile_25_metrics_event_rate_shift_ml['auc'],\n",
    "    auc_75 = quantile_75_metrics_event_rate_shift_ml['auc'],\n",
    "    o_e_median = median_metrics_event_rate_shift_ml['o_e'],\n",
    "    o_e_25 = quantile_25_metrics_event_rate_shift_ml['o_e'],\n",
    "    o_e_75 = quantile_75_metrics_event_rate_shift_ml['o_e'],\n",
    "    c_slope_median = median_metrics_event_rate_shift_ml['c_slope'],\n",
    "    c_slope_25 = quantile_25_metrics_event_rate_shift_ml['c_slope'],\n",
    "    c_slope_75 = quantile_75_metrics_event_rate_shift_ml['c_slope'],\n",
    "    brier_score_median = median_metrics_event_rate_shift_ml['brier_score'],\n",
    "    brier_score_25 = quantile_25_metrics_event_rate_shift_ml['brier_score'],\n",
    "    brier_score_75 = quantile_75_metrics_event_rate_shift_ml['brier_score']\n",
    "    )\n",
    "    \n",
    "    results_event_rate_shift_ml <- rbind(results_event_rate_shift_ml, summary_metrics_event_rate_shift_ml)\n",
    "    \n",
    "}\n",
    "\n",
    "\n"
   ]
  },
  {
   "cell_type": "code",
   "execution_count": 10,
   "id": "67fb09d6",
   "metadata": {},
   "outputs": [
    {
     "data": {
      "text/html": [
       "<table class=\"dataframe\">\n",
       "<caption>A data.frame: 10 × 13</caption>\n",
       "<thead>\n",
       "\t<tr><th></th><th scope=col>experiment</th><th scope=col>auc_median</th><th scope=col>auc_25</th><th scope=col>auc_75</th><th scope=col>o_e_median</th><th scope=col>o_e_25</th><th scope=col>o_e_75</th><th scope=col>c_slope_median</th><th scope=col>c_slope_25</th><th scope=col>c_slope_75</th><th scope=col>brier_score_median</th><th scope=col>brier_score_25</th><th scope=col>brier_score_75</th></tr>\n",
       "\t<tr><th></th><th scope=col>&lt;chr&gt;</th><th scope=col>&lt;dbl&gt;</th><th scope=col>&lt;dbl&gt;</th><th scope=col>&lt;dbl&gt;</th><th scope=col>&lt;dbl&gt;</th><th scope=col>&lt;dbl&gt;</th><th scope=col>&lt;dbl&gt;</th><th scope=col>&lt;dbl&gt;</th><th scope=col>&lt;dbl&gt;</th><th scope=col>&lt;dbl&gt;</th><th scope=col>&lt;dbl&gt;</th><th scope=col>&lt;dbl&gt;</th><th scope=col>&lt;dbl&gt;</th></tr>\n",
       "</thead>\n",
       "<tbody>\n",
       "\t<tr><th scope=row>auc</th><td>age mean: 64.6000,64.6000</td><td>0.7216787</td><td>0.7203728</td><td>0.7232080</td><td>0.9908482</td><td>0.9761388</td><td>1.0064552</td><td>1.101810</td><td>1.082535</td><td>1.129009</td><td>0.1439825</td><td>0.1437168</td><td>0.1442527</td></tr>\n",
       "\t<tr><th scope=row>auc1</th><td>age mean: 64.6000,63.8923</td><td>0.7217880</td><td>0.7204313</td><td>0.7233237</td><td>0.9844732</td><td>0.9690526</td><td>1.0012505</td><td>1.097802</td><td>1.076876</td><td>1.130247</td><td>0.1439675</td><td>0.1437108</td><td>0.1442354</td></tr>\n",
       "\t<tr><th scope=row>auc2</th><td>age mean: 64.6000,63.1923</td><td>0.7219143</td><td>0.7206225</td><td>0.7232823</td><td>0.9814085</td><td>0.9659025</td><td>0.9950010</td><td>1.100211</td><td>1.077746</td><td>1.133578</td><td>0.1439832</td><td>0.1437321</td><td>0.1442794</td></tr>\n",
       "\t<tr><th scope=row>auc3</th><td>age mean: 64.6000,62.5000</td><td>0.7220551</td><td>0.7207519</td><td>0.7234771</td><td>0.9750750</td><td>0.9610075</td><td>0.9909535</td><td>1.098982</td><td>1.079372</td><td>1.125148</td><td>0.1439983</td><td>0.1436773</td><td>0.1442241</td></tr>\n",
       "\t<tr><th scope=row>auc4</th><td>age mean: 64.6000,61.8153</td><td>0.7219815</td><td>0.7206711</td><td>0.7235735</td><td>0.9698941</td><td>0.9551928</td><td>0.9843047</td><td>1.099926</td><td>1.080812</td><td>1.127355</td><td>0.1440235</td><td>0.1437316</td><td>0.1442795</td></tr>\n",
       "\t<tr><th scope=row>auc5</th><td>age mean: 64.6000,61.1381</td><td>0.7222837</td><td>0.7205115</td><td>0.7237230</td><td>0.9651909</td><td>0.9516392</td><td>0.9790055</td><td>1.104716</td><td>1.077892</td><td>1.133725</td><td>0.1440019</td><td>0.1436860</td><td>0.1442618</td></tr>\n",
       "\t<tr><th scope=row>auc6</th><td>age mean: 64.6000,60.4683</td><td>0.7221471</td><td>0.7206978</td><td>0.7235719</td><td>0.9588548</td><td>0.9452016</td><td>0.9752148</td><td>1.107238</td><td>1.082709</td><td>1.131664</td><td>0.1440001</td><td>0.1436941</td><td>0.1442567</td></tr>\n",
       "\t<tr><th scope=row>auc7</th><td>age mean: 64.6000,59.8058</td><td>0.7223812</td><td>0.7211003</td><td>0.7238721</td><td>0.9535999</td><td>0.9398469</td><td>0.9694069</td><td>1.111393</td><td>1.083655</td><td>1.134098</td><td>0.1440016</td><td>0.1436587</td><td>0.1442606</td></tr>\n",
       "\t<tr><th scope=row>auc8</th><td>age mean: 64.6000,59.1506</td><td>0.7223537</td><td>0.7210897</td><td>0.7237548</td><td>0.9494069</td><td>0.9360897</td><td>0.9644379</td><td>1.107503</td><td>1.084818</td><td>1.133216</td><td>0.1440594</td><td>0.1436885</td><td>0.1443369</td></tr>\n",
       "\t<tr><th scope=row>auc9</th><td>age mean: 64.6000,58.5026</td><td>0.7225682</td><td>0.7211453</td><td>0.7239650</td><td>0.9471640</td><td>0.9326391</td><td>0.9613778</td><td>1.107167</td><td>1.080936</td><td>1.134717</td><td>0.1440388</td><td>0.1437397</td><td>0.1443282</td></tr>\n",
       "</tbody>\n",
       "</table>\n"
      ],
      "text/latex": [
       "A data.frame: 10 × 13\n",
       "\\begin{tabular}{r|lllllllllllll}\n",
       "  & experiment & auc\\_median & auc\\_25 & auc\\_75 & o\\_e\\_median & o\\_e\\_25 & o\\_e\\_75 & c\\_slope\\_median & c\\_slope\\_25 & c\\_slope\\_75 & brier\\_score\\_median & brier\\_score\\_25 & brier\\_score\\_75\\\\\n",
       "  & <chr> & <dbl> & <dbl> & <dbl> & <dbl> & <dbl> & <dbl> & <dbl> & <dbl> & <dbl> & <dbl> & <dbl> & <dbl>\\\\\n",
       "\\hline\n",
       "\tauc & age mean: 64.6000,64.6000 & 0.7216787 & 0.7203728 & 0.7232080 & 0.9908482 & 0.9761388 & 1.0064552 & 1.101810 & 1.082535 & 1.129009 & 0.1439825 & 0.1437168 & 0.1442527\\\\\n",
       "\tauc1 & age mean: 64.6000,63.8923 & 0.7217880 & 0.7204313 & 0.7233237 & 0.9844732 & 0.9690526 & 1.0012505 & 1.097802 & 1.076876 & 1.130247 & 0.1439675 & 0.1437108 & 0.1442354\\\\\n",
       "\tauc2 & age mean: 64.6000,63.1923 & 0.7219143 & 0.7206225 & 0.7232823 & 0.9814085 & 0.9659025 & 0.9950010 & 1.100211 & 1.077746 & 1.133578 & 0.1439832 & 0.1437321 & 0.1442794\\\\\n",
       "\tauc3 & age mean: 64.6000,62.5000 & 0.7220551 & 0.7207519 & 0.7234771 & 0.9750750 & 0.9610075 & 0.9909535 & 1.098982 & 1.079372 & 1.125148 & 0.1439983 & 0.1436773 & 0.1442241\\\\\n",
       "\tauc4 & age mean: 64.6000,61.8153 & 0.7219815 & 0.7206711 & 0.7235735 & 0.9698941 & 0.9551928 & 0.9843047 & 1.099926 & 1.080812 & 1.127355 & 0.1440235 & 0.1437316 & 0.1442795\\\\\n",
       "\tauc5 & age mean: 64.6000,61.1381 & 0.7222837 & 0.7205115 & 0.7237230 & 0.9651909 & 0.9516392 & 0.9790055 & 1.104716 & 1.077892 & 1.133725 & 0.1440019 & 0.1436860 & 0.1442618\\\\\n",
       "\tauc6 & age mean: 64.6000,60.4683 & 0.7221471 & 0.7206978 & 0.7235719 & 0.9588548 & 0.9452016 & 0.9752148 & 1.107238 & 1.082709 & 1.131664 & 0.1440001 & 0.1436941 & 0.1442567\\\\\n",
       "\tauc7 & age mean: 64.6000,59.8058 & 0.7223812 & 0.7211003 & 0.7238721 & 0.9535999 & 0.9398469 & 0.9694069 & 1.111393 & 1.083655 & 1.134098 & 0.1440016 & 0.1436587 & 0.1442606\\\\\n",
       "\tauc8 & age mean: 64.6000,59.1506 & 0.7223537 & 0.7210897 & 0.7237548 & 0.9494069 & 0.9360897 & 0.9644379 & 1.107503 & 1.084818 & 1.133216 & 0.1440594 & 0.1436885 & 0.1443369\\\\\n",
       "\tauc9 & age mean: 64.6000,58.5026 & 0.7225682 & 0.7211453 & 0.7239650 & 0.9471640 & 0.9326391 & 0.9613778 & 1.107167 & 1.080936 & 1.134717 & 0.1440388 & 0.1437397 & 0.1443282\\\\\n",
       "\\end{tabular}\n"
      ],
      "text/markdown": [
       "\n",
       "A data.frame: 10 × 13\n",
       "\n",
       "| <!--/--> | experiment &lt;chr&gt; | auc_median &lt;dbl&gt; | auc_25 &lt;dbl&gt; | auc_75 &lt;dbl&gt; | o_e_median &lt;dbl&gt; | o_e_25 &lt;dbl&gt; | o_e_75 &lt;dbl&gt; | c_slope_median &lt;dbl&gt; | c_slope_25 &lt;dbl&gt; | c_slope_75 &lt;dbl&gt; | brier_score_median &lt;dbl&gt; | brier_score_25 &lt;dbl&gt; | brier_score_75 &lt;dbl&gt; |\n",
       "|---|---|---|---|---|---|---|---|---|---|---|---|---|---|\n",
       "| auc | age mean: 64.6000,64.6000 | 0.7216787 | 0.7203728 | 0.7232080 | 0.9908482 | 0.9761388 | 1.0064552 | 1.101810 | 1.082535 | 1.129009 | 0.1439825 | 0.1437168 | 0.1442527 |\n",
       "| auc1 | age mean: 64.6000,63.8923 | 0.7217880 | 0.7204313 | 0.7233237 | 0.9844732 | 0.9690526 | 1.0012505 | 1.097802 | 1.076876 | 1.130247 | 0.1439675 | 0.1437108 | 0.1442354 |\n",
       "| auc2 | age mean: 64.6000,63.1923 | 0.7219143 | 0.7206225 | 0.7232823 | 0.9814085 | 0.9659025 | 0.9950010 | 1.100211 | 1.077746 | 1.133578 | 0.1439832 | 0.1437321 | 0.1442794 |\n",
       "| auc3 | age mean: 64.6000,62.5000 | 0.7220551 | 0.7207519 | 0.7234771 | 0.9750750 | 0.9610075 | 0.9909535 | 1.098982 | 1.079372 | 1.125148 | 0.1439983 | 0.1436773 | 0.1442241 |\n",
       "| auc4 | age mean: 64.6000,61.8153 | 0.7219815 | 0.7206711 | 0.7235735 | 0.9698941 | 0.9551928 | 0.9843047 | 1.099926 | 1.080812 | 1.127355 | 0.1440235 | 0.1437316 | 0.1442795 |\n",
       "| auc5 | age mean: 64.6000,61.1381 | 0.7222837 | 0.7205115 | 0.7237230 | 0.9651909 | 0.9516392 | 0.9790055 | 1.104716 | 1.077892 | 1.133725 | 0.1440019 | 0.1436860 | 0.1442618 |\n",
       "| auc6 | age mean: 64.6000,60.4683 | 0.7221471 | 0.7206978 | 0.7235719 | 0.9588548 | 0.9452016 | 0.9752148 | 1.107238 | 1.082709 | 1.131664 | 0.1440001 | 0.1436941 | 0.1442567 |\n",
       "| auc7 | age mean: 64.6000,59.8058 | 0.7223812 | 0.7211003 | 0.7238721 | 0.9535999 | 0.9398469 | 0.9694069 | 1.111393 | 1.083655 | 1.134098 | 0.1440016 | 0.1436587 | 0.1442606 |\n",
       "| auc8 | age mean: 64.6000,59.1506 | 0.7223537 | 0.7210897 | 0.7237548 | 0.9494069 | 0.9360897 | 0.9644379 | 1.107503 | 1.084818 | 1.133216 | 0.1440594 | 0.1436885 | 0.1443369 |\n",
       "| auc9 | age mean: 64.6000,58.5026 | 0.7225682 | 0.7211453 | 0.7239650 | 0.9471640 | 0.9326391 | 0.9613778 | 1.107167 | 1.080936 | 1.134717 | 0.1440388 | 0.1437397 | 0.1443282 |\n",
       "\n"
      ],
      "text/plain": [
       "     experiment                auc_median auc_25    auc_75    o_e_median\n",
       "auc  age mean: 64.6000,64.6000 0.7216787  0.7203728 0.7232080 0.9908482 \n",
       "auc1 age mean: 64.6000,63.8923 0.7217880  0.7204313 0.7233237 0.9844732 \n",
       "auc2 age mean: 64.6000,63.1923 0.7219143  0.7206225 0.7232823 0.9814085 \n",
       "auc3 age mean: 64.6000,62.5000 0.7220551  0.7207519 0.7234771 0.9750750 \n",
       "auc4 age mean: 64.6000,61.8153 0.7219815  0.7206711 0.7235735 0.9698941 \n",
       "auc5 age mean: 64.6000,61.1381 0.7222837  0.7205115 0.7237230 0.9651909 \n",
       "auc6 age mean: 64.6000,60.4683 0.7221471  0.7206978 0.7235719 0.9588548 \n",
       "auc7 age mean: 64.6000,59.8058 0.7223812  0.7211003 0.7238721 0.9535999 \n",
       "auc8 age mean: 64.6000,59.1506 0.7223537  0.7210897 0.7237548 0.9494069 \n",
       "auc9 age mean: 64.6000,58.5026 0.7225682  0.7211453 0.7239650 0.9471640 \n",
       "     o_e_25    o_e_75    c_slope_median c_slope_25 c_slope_75\n",
       "auc  0.9761388 1.0064552 1.101810       1.082535   1.129009  \n",
       "auc1 0.9690526 1.0012505 1.097802       1.076876   1.130247  \n",
       "auc2 0.9659025 0.9950010 1.100211       1.077746   1.133578  \n",
       "auc3 0.9610075 0.9909535 1.098982       1.079372   1.125148  \n",
       "auc4 0.9551928 0.9843047 1.099926       1.080812   1.127355  \n",
       "auc5 0.9516392 0.9790055 1.104716       1.077892   1.133725  \n",
       "auc6 0.9452016 0.9752148 1.107238       1.082709   1.131664  \n",
       "auc7 0.9398469 0.9694069 1.111393       1.083655   1.134098  \n",
       "auc8 0.9360897 0.9644379 1.107503       1.084818   1.133216  \n",
       "auc9 0.9326391 0.9613778 1.107167       1.080936   1.134717  \n",
       "     brier_score_median brier_score_25 brier_score_75\n",
       "auc  0.1439825          0.1437168      0.1442527     \n",
       "auc1 0.1439675          0.1437108      0.1442354     \n",
       "auc2 0.1439832          0.1437321      0.1442794     \n",
       "auc3 0.1439983          0.1436773      0.1442241     \n",
       "auc4 0.1440235          0.1437316      0.1442795     \n",
       "auc5 0.1440019          0.1436860      0.1442618     \n",
       "auc6 0.1440001          0.1436941      0.1442567     \n",
       "auc7 0.1440016          0.1436587      0.1442606     \n",
       "auc8 0.1440594          0.1436885      0.1443369     \n",
       "auc9 0.1440388          0.1437397      0.1443282     "
      ]
     },
     "metadata": {},
     "output_type": "display_data"
    }
   ],
   "source": [
    "results_event_rate_shift_ml"
   ]
  },
  {
   "cell_type": "code",
   "execution_count": null,
   "id": "c0183a78",
   "metadata": {},
   "outputs": [],
   "source": []
  }
 ],
 "metadata": {
  "kernelspec": {
   "display_name": "R",
   "language": "R",
   "name": "ir"
  },
  "language_info": {
   "codemirror_mode": "r",
   "file_extension": ".r",
   "mimetype": "text/x-r-source",
   "name": "R",
   "pygments_lexer": "r",
   "version": "4.3.2"
  }
 },
 "nbformat": 4,
 "nbformat_minor": 5
}
